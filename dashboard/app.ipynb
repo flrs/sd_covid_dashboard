{
 "cells": [
  {
   "cell_type": "code",
   "execution_count": null,
   "outputs": [],
   "source": [
    "import pandas as pd\n",
    "from plotly.colors import sequential\n",
    "from src.db_helpers import get_cases_by_date\n",
    "from src.plotting_helpers import get_color_for_val\n",
    "from src.env_helpers import get_commit_url, get_commit_msg, get_deploy_date, get_commit_hash\n",
    "import ipyvuetify as v\n",
    "from ipyleaflet import Map, GeoJSON, basemaps, WidgetControl\n",
    "from ipywidgets import HTML\n",
    "\n",
    "pd.options.plotting.backend = 'plotly'\n",
    "\n",
    "cases, date = get_cases_by_date()"
   ],
   "metadata": {
    "collapsed": false,
    "pycharm": {
     "name": "#%%\n"
    }
   }
  },
  {
   "cell_type": "code",
   "execution_count": null,
   "metadata": {
    "collapsed": false,
    "jupyter": {
     "outputs_hidden": false
    },
    "pycharm": {
     "name": "#%%\n"
    }
   },
   "outputs": [],
   "source": [
    "def get_color(val):\n",
    "    if val in cases.index:\n",
    "        return get_color_for_val(cases[val], 0, cases.max(), sequential.YlOrRd), 0.8\n",
    "    else:\n",
    "        return 'white', 0.0"
   ]
  },
  {
   "cell_type": "code",
   "execution_count": null,
   "metadata": {
    "collapsed": false,
    "jupyter": {
     "outputs_hidden": false
    },
    "pycharm": {
     "name": "#%%\n"
    }
   },
   "outputs": [],
   "source": [
    "commit_url = get_commit_url()\n",
    "commit_hash = get_commit_hash()\n",
    "commit_msg = get_commit_msg()\n",
    "deploy_date = get_deploy_date()"
   ]
  },
  {
   "cell_type": "code",
   "execution_count": null,
   "metadata": {
    "collapsed": false,
    "jupyter": {
     "outputs_hidden": false
    },
    "pycharm": {
     "name": "#%%\n"
    }
   },
   "outputs": [],
   "source": [
    "from pathlib import Path\n",
    "import json \n",
    "json_file = Path.cwd().joinpath('./data/Census_ZIP.geojson')\n",
    "if json_file.exists():\n",
    "    with open(str(json_file), 'r') as file:\n",
    "        zips = json.loads(file.read())\n",
    "else:\n",
    "    import urllib.request\n",
    "    with urllib.request.urlopen('https://opendata.arcgis.com/datasets/41c3a7bd375547069a78fce90153cbc0_5.geojson') as url:\n",
    "        zips = json.loads(url.read().decode())\n",
    "    with open(str(json_file), 'w') as file:\n",
    "        json.dump(zips, file)"
   ]
  },
  {
   "cell_type": "code",
   "execution_count": null,
   "metadata": {},
   "outputs": [],
   "source": [
    "def style_zip(feature):\n",
    "    color, opacity = get_color(int(feature['properties']['ZIP']))\n",
    "    return {\n",
    "        'weight': 0,\n",
    "        'color': 'white',\n",
    "        'fillOpacity': opacity,\n",
    "        'fillColor': color,\n",
    "    }"
   ]
  },
  {
   "cell_type": "code",
   "execution_count": null,
   "metadata": {},
   "outputs": [],
   "source": [
    "m = Map(basemap=basemaps.OpenStreetMap.BlackAndWhite, center=(33.0,-116.7),zoom=9)\n",
    "\n",
    "zips_layer = GeoJSON(data=zips,\n",
    "                     hover_style={'color': 'black', 'opacity': 0.9, 'weight': 1.0},\n",
    "                     style_callback=style_zip)\n",
    "m.add_layer(zips_layer)\n",
    "\n",
    "html = HTML('''Move the cursor over an area''')\n",
    "html.layout.margin = '0px 20px 20px 20px'\n",
    "control = WidgetControl(widget=html, position='topright')\n",
    "m.add_control(control)\n",
    "\n",
    "def update_html(feature,  **kwargs):\n",
    "    zip_code = feature['properties']['ZIP']\n",
    "    cases_in_zip = 0\n",
    "    if zip_code in cases:\n",
    "        cases_in_zip = cases[zip_code]\n",
    "    html.value = '''\n",
    "        <strong>{}</strong><br>{}<br>Cases: {:.0f}\n",
    "    '''.format(zip_code,\n",
    "               feature['properties']['COMMUNITY'],\n",
    "               cases_in_zip)\n",
    "\n",
    "zips_layer.on_hover(update_html)"
   ]
  },
  {
   "cell_type": "code",
   "execution_count": null,
   "metadata": {},
   "outputs": [],
   "source": [
    "from src.data_helpers import get_population_per_zip, add_cases_per_100k_col\n",
    "from src.db_helpers import get_cases_per_week_by_zip\n",
    "from src.plots import plot_cases_per_week_by_zip\n",
    "import plotly.graph_objects as go\n",
    "\n",
    "cases_per_week = get_cases_per_week_by_zip()\n",
    "cases_per_week = add_cases_per_100k_col(cases_per_week)\n",
    "population_per_zip = get_population_per_zip()\n",
    "\n",
    "available_zips = sorted(list(cases_per_week['zip'].unique()))\n",
    "\n",
    "zip_combo = v.Autocomplete(multiple=True, clearable=True, items=available_zips, v_model=None, \n",
    "           hint='Select one or multiple ZIP codes to compare to San Diego\\'s average cases per week.', persistent_hint=True)\n",
    "\n",
    "fig = go.FigureWidget(plot_cases_per_week_by_zip(cases_per_week, population_per_zip, zip_combo.v_model, title=None))\n",
    "\n",
    "def redraw(widget, event, data):\n",
    "    global fig\n",
    "    fig = plot_cases_per_week_by_zip(cases_per_week, population_per_zip, widget.v_model, title=None, fig=fig)\n",
    "    \n",
    "zip_combo.on_event('change', redraw)\n",
    "\n",
    "weekly_cases_ui = v.Container(fluid=True, class_='fill-height', children=[\n",
    "                v.Row(align='center', justify='center', children=[\n",
    "                    v.Col(cols=10, children=[\n",
    "                        v.Card(children=[\n",
    "                            v.CardTitle(children=['Weekly Covid-19 Cases per 100k Residents by San Diego County ZIP Code']),\n",
    "                            v.CardText(children=[zip_combo]),\n",
    "                            fig\n",
    "                        ])\n",
    "                    ])\n",
    "                ])\n",
    "            ])"
   ]
  },
  {
   "cell_type": "code",
   "execution_count": null,
   "metadata": {},
   "outputs": [],
   "source": [
    "about_data_card = v.Card(children=[\n",
    "    v.CardTitle(children=['About the Data']),\n",
    "    v.CardText(children=['This section informs about the data sources this dashboard uses. All data are publicly accessible.']),\n",
    "    v.Container(fluid=True,children=[\n",
    "        v.Row(dense=True,children=[\n",
    "            v.Col(cols=12,children=[\n",
    "                v.Card(children=[\n",
    "                    v.CardTitle(children=['Covid-19 Case Data']),\n",
    "                    v.CardText(children=[\n",
    "                        v.Html(tag='p', children=[\n",
    "                            'All Covid-19 case data have been received from the Internet Archive. '\n",
    "                            'The original data have been prepared in PDF documents with the title \"Daily Coronavirus '\n",
    "                            'Disease 2019 (COVID-19) Summary of Cases by Zip Code of Residence\" '\n",
    "                            'by the County of San Diego, Health and Human Services Agency, Public Health Services, '\n",
    "                            'Epidemiology and Immunization Services Branch.'\n",
    "                        ]),\n",
    "                        v.Html(tag='p', children=['Data are usually updated from the Internet Archive once per day.']),\n",
    "                        v.Html(tag='p', children=['Original data source: San Diego County Communicable Disease Registry, '\n",
    "                                                  'SANDAG 2019 Population Estimates (Prepared June 2020).']),\n",
    "                        v.Html(tag='p', children=['Zip code is zip code of residence, which may not be location of exposure. '\n",
    "                                                   'Rates based on small case counts may vary considerably and should be interpreted with caution.',\n",
    "                                                   'Data are preliminary and subject to change. Total population=3,351,784.'])\n",
    "                    ]),\n",
    "                    v.CardActions(children=[\n",
    "                        v.Btn(text=True,\n",
    "                              color='blue',\n",
    "                              children=[\n",
    "                                  v.Html(tag='a',\n",
    "                                         attributes={'href':'https://web.archive.org/web/*/https://www.sandiegocounty.gov/content/dam/sdc/hhsa/programs/phs/Epidemiology/COVID-19%20Summary%20of%20Cases%20by%20Zip%20Code.pdf', 'target': '_blank'},\n",
    "                                         children=['Data Source'])\n",
    "                        ]),\n",
    "                        v.Btn(text=True,\n",
    "                              color='blue',\n",
    "                              children=[#https://archive.org/donate/\n",
    "                                  v.Html(tag='a',\n",
    "                                         attributes={'href':'https://www.sandiegocounty.gov/content/sdc/hhsa/programs/phs/community_epidemiology/dc/2019-nCoV/status.html', 'target': '_blank'},\n",
    "                                         children=['County of San Diego'])\n",
    "                        ]),\n",
    "                        v.Btn(text=True,\n",
    "                              color='blue',\n",
    "                              children=[#\n",
    "                                  v.Html(tag='a',\n",
    "                                         attributes={'href':'https://archive.org/donate/', 'target': '_blank'},\n",
    "                                         children=['Donate to the Internet Archive'])\n",
    "                        ])\n",
    "                    ]),\n",
    "                ]),\n",
    "            ]),\n",
    "            v.Col(cols=6,children=[\n",
    "                v.Card(children=[\n",
    "                        v.CardTitle(children=['ZIP Code Boundaries']),\n",
    "                        v.CardText(children=['The ZIP code boundaries shown in all maps are taken from the SANDAG/SanGIS Open Data Portal.']),\n",
    "                        v.CardActions(children=[\n",
    "                            v.Btn(text=True,\n",
    "                                  color='blue',\n",
    "                                  children=[\n",
    "                                      v.Html(tag='a',\n",
    "                                             attributes={'href':'https://sdgis-sandag.opendata.arcgis.com/datasets/zip-code', 'target': '_blank'},\n",
    "                                             children=['Data Source'])\n",
    "                            ]),\n",
    "                            v.Btn(text=True,\n",
    "                                  color='blue',\n",
    "                                  children=[\n",
    "                                      v.Html(tag='a',\n",
    "                                             attributes={'href':'https://sandag.org/resources/maps_and_gis/gis_downloads/disclaimer.asp', 'target': '_blank'},\n",
    "                                             children=['SANDAG Disclaimer'])\n",
    "                            ])\n",
    "                        ]),\n",
    "                    ]),\n",
    "                ]),\n",
    "\n",
    "            v.Col(cols=6,children=[\n",
    "                v.Card(children=[\n",
    "                    v.CardTitle(children=['Demographic Data']),\n",
    "                    v.CardText(children=[\n",
    "                        v.Html(tag='p',children=['Population counts and other demographic data have been received from the SANDAG Data Surfer.']),\n",
    "                        v.Html(tag='i',children=['SANDAG, Current Estimates (data extracted on: 9/2020)'])\n",
    "                    ]),\n",
    "                    v.CardActions(children=[\n",
    "                        v.Btn(text=True,\n",
    "                              color='blue',\n",
    "                              children=[\n",
    "                                  v.Html(tag='a',\n",
    "                                         attributes={'href':'https://datasurfer.sandag.org/dataoverview', 'target': '_blank'},\n",
    "                                         children=['Data Source'])\n",
    "                        ]),\n",
    "                    ])\n",
    "                ]),\n",
    "            ])\n",
    "        ])\n",
    "    ])\n",
    "])\n",
    "\n",
    "\n",
    "data_info_ui = v.Container(fluid=True, class_='fill-height', children=[\n",
    "                v.Row(align='center', justify='center', children=[\n",
    "                    v.Col(cols=10, children=[\n",
    "                        about_data_card\n",
    "                    ])\n",
    "                ])\n",
    "            ])"
   ]
  },
  {
   "cell_type": "code",
   "execution_count": null,
   "metadata": {
    "pycharm": {
     "name": "#%%\n"
    }
   },
   "outputs": [],
   "source": [
    "map_ui = v.Container(fluid=True, class_='fill-height', children=[\n",
    "                v.Row(align='center', justify='center', children=[\n",
    "                    v.Col(cols=10, children=[\n",
    "                        v.Card(children=[\n",
    "                            v.CardTitle(children=['Covid-19 Cases on {} by ZIP Code'.format(date)]),\n",
    "                            #v.CardText(children=['This map shows '])\n",
    "                            m\n",
    "                        ])\n",
    "                    ])\n",
    "                ])\n",
    "            ])\n",
    "\n",
    "ui = [\n",
    "    v.AppBar(app=True, dark=True, absolute=True, color='blue darken-2', children=[\n",
    "        v.ToolbarTitle(_metadata={'mount_id': 'content-bar'},\n",
    "              children=['San Diego Covid-19 Dashboard']),\n",
    "        \n",
    "    ]),\n",
    "    v.Content(children=[\n",
    "        v.Tabs(align_with_title=False, children=[\n",
    "            v.Tab(children=['Map']),\n",
    "            v.Tab(children=['Timeline per ZIP']),\n",
    "            v.Tab(children=['About the Data']),\n",
    "            v.TabItem(children=[\n",
    "                map_ui\n",
    "            ]),\n",
    "            v.TabItem(children=[\n",
    "                weekly_cases_ui\n",
    "            ]),\n",
    "            v.TabItem(children=[\n",
    "                data_info_ui\n",
    "            ])\n",
    "        ]),\n",
    "    ])\n",
    "]\n",
    "\n",
    "footer_content = []\n",
    "if commit_url and commit_msg and commit_hash and deploy_date:\n",
    "    footer_content.extend(\n",
    "    'Deployed on {:%Y-%m-%d %H:%M} in Kubernetes (Commit '.format(deploy_date),\n",
    "     v.Html(tag='a', attributes=dict(href=commit_url,target='_blank'), children=[commit_hash[:7]]),\n",
    "    ':',\n",
    "    v.Html(tag='i', children=[commit_msg]),\n",
    "    ') – '\n",
    "    )\n",
    "\n",
    "footer_content.extend(\n",
    "    'Questions or ideas? Please share your ',\n",
    "    v.Html(tag='a', attributes=dict(href='https://survey.survicate.com/a8285d0a4afe7aa3/',target='_blank', children=['feedback'])),\n",
    "    '!'\n",
    ")\n",
    "\n",
    "ui.append(v.Footer(absolute=True, children=[\n",
    "            v.Col(cols=12, children=[\n",
    "                v.Html(tag='small', children=footer_content)\n",
    "            ])\n",
    "        ]))\n",
    "\n",
    "v.Layout(_metadata={'mount_id': 'content'}, children=ui)\n"
   ]
  },
  {
   "cell_type": "code",
   "execution_count": null,
   "metadata": {},
   "outputs": [],
   "source": []
  }
 ],
 "metadata": {
  "kernelspec": {
   "display_name": "Python 3",
   "language": "python",
   "name": "python3"
  },
  "language_info": {
   "codemirror_mode": {
    "name": "ipython",
    "version": 3
   },
   "file_extension": ".py",
   "mimetype": "text/x-python",
   "name": "python",
   "nbconvert_exporter": "python",
   "pygments_lexer": "ipython3",
   "version": "3.8.5"
  },
  "widgets": {
   "application/vnd.jupyter.widget-state+json": {
    "state": {
     "005bd8f6795a47d89fcff8df9b3b31c1": {
      "model_module": "@jupyter-widgets/base",
      "model_module_version": "1.2.0",
      "model_name": "LayoutModel",
      "state": {}
     },
     "0083a9b8d2c8467991b47e7a8b42d121": {
      "model_module": "jupyter-vuetify",
      "model_module_version": "^1.5.1",
      "model_name": "CardTextModel",
      "state": {
       "_events": [],
       "_jupyter_vue": "IPY_MODEL_bc2712ed128d4d47ba50f0f591fcb068",
       "attributes": {},
       "children": [
        "lol"
       ],
       "layout": "IPY_MODEL_696273fc8cca48179a38c690c577ff65",
       "v_slots": []
      }
     },
     "008cff4b26b64a1bbf404544206cb573": {
      "model_module": "@jupyter-widgets/base",
      "model_module_version": "1.2.0",
      "model_name": "LayoutModel",
      "state": {}
     },
     "00accb9af2d4410aa0b3daadb7c080b9": {
      "model_module": "jupyter-vuetify",
      "model_module_version": "^1.5.1",
      "model_name": "ColModel",
      "state": {
       "_events": [],
       "_jupyter_vue": "IPY_MODEL_bc2712ed128d4d47ba50f0f591fcb068",
       "attributes": {},
       "children": [
        "IPY_MODEL_6d186b5355eb4e52bd485d33a67b9ee7"
       ],
       "cols": 12,
       "layout": "IPY_MODEL_4ce04fcd12b24005b890c9e89a4324e2",
       "lg": null,
       "md": null,
       "offset": null,
       "offset_lg": null,
       "offset_md": null,
       "offset_sm": null,
       "offset_xl": null,
       "order": null,
       "order_lg": null,
       "order_md": null,
       "order_sm": null,
       "order_xl": null,
       "sm": null,
       "v_slots": [],
       "xl": null
      }
     },
     "00bd427d253a41f38128cce66f4e47c5": {
      "model_module": "@jupyter-widgets/base",
      "model_module_version": "1.2.0",
      "model_name": "LayoutModel",
      "state": {}
     },
     "00fe4d098c6d4f14a51902a5ae68654b": {
      "model_module": "jupyter-vuetify",
      "model_module_version": "^1.5.1",
      "model_name": "HtmlModel",
      "state": {
       "_events": [],
       "_jupyter_vue": "IPY_MODEL_bc2712ed128d4d47ba50f0f591fcb068",
       "_model_module_version": "^1.5.1",
       "_view_module_version": "^1.5.1",
       "attributes": {
        "href": "https://archive.org/donate/",
        "target": "_blank"
       },
       "children": [
        "Donate to Internet Archive"
       ],
       "layout": "IPY_MODEL_8ed5a6935d1b47e981fc4e5dd413ef3c",
       "tag": "a",
       "v_slots": []
      }
     },
     "011f53035a5741a99d95f000673fe5ad": {
      "model_module": "jupyter-vuetify",
      "model_module_version": "^1.5.1",
      "model_name": "CardModel",
      "state": {
       "_events": [],
       "_jupyter_vue": "IPY_MODEL_bc2712ed128d4d47ba50f0f591fcb068",
       "attributes": {},
       "children": [
        "IPY_MODEL_3f67c242c80545e08b132aa1304a0fa7",
        "IPY_MODEL_d4af26c9119340e280a15fa116f94485",
        "IPY_MODEL_cffca06c640d4cb5bc68c7e5e21c5d42"
       ],
       "elevation": null,
       "height": null,
       "href": null,
       "layout": "IPY_MODEL_0b011c667efa4b849e66483e6adb1ab8",
       "loader_height": null,
       "loading": null,
       "max_height": null,
       "max_width": null,
       "min_height": null,
       "min_width": null,
       "ripple": null,
       "to": null,
       "v_slots": [],
       "width": null
      }
     },
     "012c26754ec44ed397f32fc154522cd2": {
      "model_module": "jupyter-vuetify",
      "model_module_version": "^1.5.1",
      "model_name": "HtmlModel",
      "state": {
       "_events": [],
       "_jupyter_vue": "IPY_MODEL_bc2712ed128d4d47ba50f0f591fcb068",
       "_model_module_version": "^1.5.1",
       "_view_module_version": "^1.5.1",
       "attributes": {
        "href": "https://web.archive.org/web/*/https://www.sandiegocounty.gov/content/dam/sdc/hhsa/programs/phs/Epidemiology/COVID-19%20Summary%20of%20Cases%20by%20Zip%20Code.pdf",
        "target": "_blank"
       },
       "children": [
        "Internet Archive"
       ],
       "layout": "IPY_MODEL_ff8a14526c874039b474f171382b0590",
       "tag": "a",
       "v_slots": []
      }
     },
     "014088bafb5e46659f779bbb10092374": {
      "model_module": "jupyter-vuetify",
      "model_module_version": "^1.5.1",
      "model_name": "CardTitleModel",
      "state": {
       "_events": [],
       "_jupyter_vue": "IPY_MODEL_bc2712ed128d4d47ba50f0f591fcb068",
       "attributes": {},
       "children": [
        "About the Data"
       ],
       "layout": "IPY_MODEL_98c080ff4876497894941f9b215a2e66",
       "v_slots": []
      }
     },
     "014495889a9c4af7ba1032b70579f21c": {
      "model_module": "jupyter-vuetify",
      "model_module_version": "^1.5.1",
      "model_name": "HtmlModel",
      "state": {
       "_events": [],
       "_jupyter_vue": "IPY_MODEL_bc2712ed128d4d47ba50f0f591fcb068",
       "_model_module_version": "^1.5.1",
       "_view_module_version": "^1.5.1",
       "attributes": {
        "href": "https://web.archive.org/web/*/https://www.sandiegocounty.gov/content/dam/sdc/hhsa/programs/phs/Epidemiology/COVID-19%20Summary%20of%20Cases%20by%20Zip%20Code.pdf",
        "target": "_blank"
       },
       "children": [
        "Data Source"
       ],
       "layout": "IPY_MODEL_4e02327e620e49cd955e2b9f815ee55c",
       "tag": "a",
       "v_slots": []
      }
     },
     "01791ffeb6e044d2a045fdf1e91882d1": {
      "model_module": "@jupyter-widgets/base",
      "model_module_version": "1.2.0",
      "model_name": "LayoutModel",
      "state": {}
     },
     "018943b2e94d4c9f8e3fe5f87050c7ee": {
      "model_module": "@jupyter-widgets/base",
      "model_module_version": "1.2.0",
      "model_name": "LayoutModel",
      "state": {}
     },
     "01d9aac28f964f7ab67df8b369502bb3": {
      "model_module": "@jupyter-widgets/base",
      "model_module_version": "1.2.0",
      "model_name": "LayoutModel",
      "state": {}
     },
     "0279e7eb365a488bbcdcd2e77327d4d1": {
      "model_module": "@jupyter-widgets/base",
      "model_module_version": "1.2.0",
      "model_name": "LayoutModel",
      "state": {}
     },
     "027a9056162246858f267d4bcc825e1d": {
      "model_module": "jupyter-vuetify",
      "model_module_version": "^1.5.1",
      "model_name": "ContainerModel",
      "state": {
       "_events": [],
       "_jupyter_vue": "IPY_MODEL_bc2712ed128d4d47ba50f0f591fcb068",
       "attributes": {},
       "children": [
        "IPY_MODEL_e2ea3283b9e345ec8c8d15ae162752c4"
       ],
       "fluid": true,
       "layout": "IPY_MODEL_52cd714722504f3daade94703e844265",
       "v_slots": []
      }
     },
     "0305a23c738d4354b0d141d9644a4e19": {
      "model_module": "@jupyter-widgets/base",
      "model_module_version": "1.2.0",
      "model_name": "LayoutModel",
      "state": {}
     },
     "030638299863405b98e32159f1a51dbb": {
      "model_module": "@jupyter-widgets/base",
      "model_module_version": "1.2.0",
      "model_name": "LayoutModel",
      "state": {}
     },
     "030c3ca594c2423a9b392fc518130397": {
      "model_module": "jupyter-vuetify",
      "model_module_version": "^1.5.1",
      "model_name": "CardTextModel",
      "state": {
       "_events": [],
       "_jupyter_vue": "IPY_MODEL_bc2712ed128d4d47ba50f0f591fcb068",
       "attributes": {},
       "children": [
        "IPY_MODEL_592e03d7b9c24d47b9b9f1b2104fe791"
       ],
       "layout": "IPY_MODEL_9960f3630eb34cb7ad778726c9529ce3",
       "v_slots": []
      }
     },
     "0334310bf2fd456e94617347e6e53d95": {
      "model_module": "@jupyter-widgets/base",
      "model_module_version": "1.2.0",
      "model_name": "LayoutModel",
      "state": {}
     },
     "033eda6fc0f44a35944bb232bf775930": {
      "model_module": "@jupyter-widgets/base",
      "model_module_version": "1.2.0",
      "model_name": "LayoutModel",
      "state": {}
     },
     "03c375c058fb44b5b0a35e8e607dcc54": {
      "model_module": "jupyter-vuetify",
      "model_module_version": "^1.5.1",
      "model_name": "BtnModel",
      "state": {
       "_events": [],
       "_jupyter_vue": "IPY_MODEL_bc2712ed128d4d47ba50f0f591fcb068",
       "attributes": {},
       "children": [
        "IPY_MODEL_6c5845401fde41549df54eea11520685"
       ],
       "color": "blue",
       "elevation": null,
       "height": null,
       "href": null,
       "layout": "IPY_MODEL_742330e679fc406485709197c61e4107",
       "max_height": null,
       "max_width": null,
       "min_height": null,
       "min_width": null,
       "ripple": null,
       "text": true,
       "to": null,
       "v_slots": [],
       "width": null
      }
     },
     "03c7e7b9ef7a4879a8fb46dfc4ade961": {
      "model_module": "jupyter-vuetify",
      "model_module_version": "^1.5.1",
      "model_name": "ContainerModel",
      "state": {
       "_events": [],
       "_jupyter_vue": "IPY_MODEL_bc2712ed128d4d47ba50f0f591fcb068",
       "attributes": {},
       "children": [
        "IPY_MODEL_5289130a3a6d4dac9b3f5cbdd1cf8591"
       ],
       "fluid": true,
       "layout": "IPY_MODEL_3d2ed3f4b8de4d93be4d794ad9ea6541",
       "v_slots": []
      }
     },
     "03d7ae4e13d443eeb13aa43307288cd8": {
      "model_module": "jupyter-vuetify",
      "model_module_version": "^1.5.1",
      "model_name": "BtnModel",
      "state": {
       "_events": [],
       "_jupyter_vue": "IPY_MODEL_bc2712ed128d4d47ba50f0f591fcb068",
       "attributes": {},
       "children": [
        "IPY_MODEL_328ae49b149e4ae387153783e07202c4"
       ],
       "color": "blue",
       "elevation": null,
       "height": null,
       "href": null,
       "layout": "IPY_MODEL_84fc7cd2cf7e40028a72104c4a7c7921",
       "max_height": null,
       "max_width": null,
       "min_height": null,
       "min_width": null,
       "ripple": null,
       "text": true,
       "to": null,
       "v_slots": [],
       "width": null
      }
     },
     "03d8d0d71a76409f8a7309fc2b572d36": {
      "model_module": "@jupyter-widgets/base",
      "model_module_version": "1.2.0",
      "model_name": "LayoutModel",
      "state": {}
     },
     "03e4f3de89c24d79b8b75ffb9a4c1567": {
      "model_module": "@jupyter-widgets/base",
      "model_module_version": "1.2.0",
      "model_name": "LayoutModel",
      "state": {}
     },
     "0413f7498d1849b4a41f7756841fc878": {
      "model_module": "jupyter-vuetify",
      "model_module_version": "^1.5.1",
      "model_name": "CardModel",
      "state": {
       "_events": [],
       "_jupyter_vue": "IPY_MODEL_bc2712ed128d4d47ba50f0f591fcb068",
       "attributes": {},
       "children": [
        "IPY_MODEL_8ad3befc819d46638ad7b784a2832a2a",
        "IPY_MODEL_770a187eb9bf4a578cfe1d90bb92305b",
        "IPY_MODEL_338cd1d600e149a9a2ccca41bc7aec0e"
       ],
       "elevation": null,
       "height": null,
       "href": null,
       "layout": "IPY_MODEL_12d9bcd03c28461b8bdfb064560a7065",
       "loader_height": null,
       "loading": null,
       "max_height": null,
       "max_width": null,
       "min_height": null,
       "min_width": null,
       "ripple": null,
       "to": null,
       "v_slots": [],
       "width": null
      }
     },
     "0438eb741737497f9e9d6a2ef03458c0": {
      "model_module": "jupyter-vuetify",
      "model_module_version": "^1.5.1",
      "model_name": "CardTextModel",
      "state": {
       "_events": [],
       "_jupyter_vue": "IPY_MODEL_bc2712ed128d4d47ba50f0f591fcb068",
       "attributes": {},
       "children": [
        "IPY_MODEL_9b7f3d5251b648a2872f2b197788c9cc"
       ],
       "layout": "IPY_MODEL_65dc711770504be69ad1f7e138fdcb2b",
       "v_slots": []
      }
     },
     "045c3567d30c46279bd207fa1ec38b50": {
      "model_module": "@jupyter-widgets/base",
      "model_module_version": "1.2.0",
      "model_name": "LayoutModel",
      "state": {}
     },
     "04aeb4ed1e1b46c88acebbe8faf3bea0": {
      "model_module": "jupyter-vuetify",
      "model_module_version": "^1.5.1",
      "model_name": "CardTextModel",
      "state": {
       "_events": [],
       "_jupyter_vue": "IPY_MODEL_bc2712ed128d4d47ba50f0f591fcb068",
       "attributes": {},
       "children": [
        "IPY_MODEL_fc7a1531c0aa49eca41c326f364ce22a"
       ],
       "layout": "IPY_MODEL_89358d5571b84b5c8f2c2ed5f1e0d539",
       "v_slots": []
      }
     },
     "04eee1a77e2f43509bd78030639f06e6": {
      "model_module": "@jupyter-widgets/base",
      "model_module_version": "1.2.0",
      "model_name": "LayoutModel",
      "state": {}
     },
     "054bc81ce1d84c78ae49c03743276ecc": {
      "model_module": "jupyter-vuetify",
      "model_module_version": "^1.5.1",
      "model_name": "CardActionsModel",
      "state": {
       "_events": [],
       "_jupyter_vue": "IPY_MODEL_bc2712ed128d4d47ba50f0f591fcb068",
       "attributes": {},
       "children": [
        "IPY_MODEL_9aaa62a3072749d4b23d9bb2b4a54f2e"
       ],
       "layout": "IPY_MODEL_e8bc9727cd994ce88b08805269829704",
       "v_slots": []
      }
     },
     "0559d3cd1dd245e0a1628b2cc5b21325": {
      "model_module": "jupyter-vuetify",
      "model_module_version": "^1.5.1",
      "model_name": "CardTitleModel",
      "state": {
       "_events": [],
       "_jupyter_vue": "IPY_MODEL_bc2712ed128d4d47ba50f0f591fcb068",
       "attributes": {},
       "children": [
        "ZIP Code Boundaries"
       ],
       "layout": "IPY_MODEL_5fe3918b9ac14e0ebdb15ea1781e28fc",
       "v_slots": []
      }
     },
     "059cfab4295e4cef91f78dd4da7f029d": {
      "model_module": "@jupyter-widgets/base",
      "model_module_version": "1.2.0",
      "model_name": "LayoutModel",
      "state": {}
     },
     "05a5ce1b0aee439398fa67c8e100a8bf": {
      "model_module": "@jupyter-widgets/base",
      "model_module_version": "1.2.0",
      "model_name": "LayoutModel",
      "state": {}
     },
     "05d432e8fd5f472d8ee11a4c7a14414a": {
      "model_module": "jupyter-vuetify",
      "model_module_version": "^1.5.1",
      "model_name": "CardTextModel",
      "state": {
       "_events": [],
       "_jupyter_vue": "IPY_MODEL_bc2712ed128d4d47ba50f0f591fcb068",
       "attributes": {},
       "children": [
        "The ZIP code boundaries shown in all maps are taken from the SANDAG/SanGIS Open Data Portal."
       ],
       "layout": "IPY_MODEL_78b9cb3774fd4db9b06745b0a6818e35",
       "v_slots": []
      }
     },
     "05d5affc70604f43a4a99e969665140f": {
      "model_module": "@jupyter-widgets/base",
      "model_module_version": "1.2.0",
      "model_name": "LayoutModel",
      "state": {}
     },
     "05f00931e33c4084b030589408f1e2ea": {
      "model_module": "@jupyter-widgets/base",
      "model_module_version": "1.2.0",
      "model_name": "LayoutModel",
      "state": {}
     },
     "0600898a898042069d2a766045a8f334": {
      "model_module": "jupyter-vuetify",
      "model_module_version": "^1.5.1",
      "model_name": "CardTextModel",
      "state": {
       "_events": [],
       "_jupyter_vue": "IPY_MODEL_bc2712ed128d4d47ba50f0f591fcb068",
       "attributes": {},
       "children": [
        "The ZIP code boundaries shown in all maps are taken from the SANDAG/SanGIS Open Data Portal."
       ],
       "layout": "IPY_MODEL_39e99950a47146c8b732f5fb06975eae",
       "v_slots": []
      }
     },
     "0615c9e33dad42cab966915ef91adba9": {
      "model_module": "jupyter-vuetify",
      "model_module_version": "^1.5.1",
      "model_name": "CardTitleModel",
      "state": {
       "_events": [],
       "_jupyter_vue": "IPY_MODEL_bc2712ed128d4d47ba50f0f591fcb068",
       "attributes": {},
       "children": [
        "ZIP Code Boundaries"
       ],
       "layout": "IPY_MODEL_085d5e3adc9545cfad4ed9171c01909d",
       "v_slots": []
      }
     },
     "06607c4c70914247be4779c63856c4fa": {
      "model_module": "jupyter-vuetify",
      "model_module_version": "^1.5.1",
      "model_name": "CardActionsModel",
      "state": {
       "_events": [],
       "_jupyter_vue": "IPY_MODEL_bc2712ed128d4d47ba50f0f591fcb068",
       "attributes": {},
       "children": [
        "IPY_MODEL_e5cff81c40634db7bcdcce11475ad054"
       ],
       "layout": "IPY_MODEL_148c37b959d34b1a88f524840f38c7bd",
       "v_slots": []
      }
     },
     "06851b1868b34b3cab7f091e42030748": {
      "model_module": "jupyter-vuetify",
      "model_module_version": "^1.5.1",
      "model_name": "ColModel",
      "state": {
       "_events": [],
       "_jupyter_vue": "IPY_MODEL_bc2712ed128d4d47ba50f0f591fcb068",
       "attributes": {},
       "children": [
        "IPY_MODEL_de28d02d0b8847dd9f63ab02c019046e"
       ],
       "cols": 6,
       "layout": "IPY_MODEL_71c7df8f18e646e492f666c1576beda6",
       "lg": null,
       "md": null,
       "offset": null,
       "offset_lg": null,
       "offset_md": null,
       "offset_sm": null,
       "offset_xl": null,
       "order": null,
       "order_lg": null,
       "order_md": null,
       "order_sm": null,
       "order_xl": null,
       "sm": null,
       "v_slots": [],
       "xl": null
      }
     },
     "06b091f2dd82485885c64db4ec4decf2": {
      "model_module": "jupyter-vuetify",
      "model_module_version": "^1.5.1",
      "model_name": "HtmlModel",
      "state": {
       "_events": [],
       "_jupyter_vue": "IPY_MODEL_bc2712ed128d4d47ba50f0f591fcb068",
       "_model_module_version": "^1.5.1",
       "_view_module_version": "^1.5.1",
       "attributes": {
        "href": "https://web.archive.org/web/*/https://www.sandiegocounty.gov/content/dam/sdc/hhsa/programs/phs/Epidemiology/COVID-19%20Summary%20of%20Cases%20by%20Zip%20Code.pdf",
        "target": "_blank"
       },
       "children": [
        "Data Source"
       ],
       "layout": "IPY_MODEL_be6f3059a6b240eeada38d61c3f8e875",
       "tag": "a",
       "v_slots": []
      }
     },
     "06b6be3056e2485186b8af783c4bf016": {
      "model_module": "@jupyter-widgets/base",
      "model_module_version": "1.2.0",
      "model_name": "LayoutModel",
      "state": {}
     },
     "06b78e49db5042b180808eb72a9f8e31": {
      "model_module": "jupyter-vuetify",
      "model_module_version": "^1.5.1",
      "model_name": "CardActionsModel",
      "state": {
       "_events": [],
       "_jupyter_vue": "IPY_MODEL_bc2712ed128d4d47ba50f0f591fcb068",
       "attributes": {},
       "children": [
        "IPY_MODEL_b763d866422141e0850b7dea74e50263",
        "IPY_MODEL_7c7728f1f2634ae5bffc5f928d4c16e6",
        "IPY_MODEL_ed86956d58f84bafa686bcd09ca0a68c"
       ],
       "layout": "IPY_MODEL_008cff4b26b64a1bbf404544206cb573",
       "v_slots": []
      }
     },
     "072278c26d1c4b1b824bdf839b1f31cd": {
      "model_module": "jupyter-vuetify",
      "model_module_version": "^1.5.1",
      "model_name": "ContainerModel",
      "state": {
       "_events": [],
       "_jupyter_vue": "IPY_MODEL_bc2712ed128d4d47ba50f0f591fcb068",
       "attributes": {},
       "children": [
        "IPY_MODEL_c89194193d964a49a867579e71accd7e"
       ],
       "fluid": true,
       "layout": "IPY_MODEL_3e033ddbba09412d9d36f17ee0b2fdf7",
       "v_slots": []
      }
     },
     "07a7dc6b3f4d4b0f89d823aea8eead2d": {
      "model_module": "@jupyter-widgets/base",
      "model_module_version": "1.2.0",
      "model_name": "LayoutModel",
      "state": {}
     },
     "07ab88477ec94da6be2f9159f4549721": {
      "model_module": "@jupyter-widgets/base",
      "model_module_version": "1.2.0",
      "model_name": "LayoutModel",
      "state": {}
     },
     "07b8a26d5a594ca2816bb6b3e7f3bac0": {
      "model_module": "jupyter-vuetify",
      "model_module_version": "^1.5.1",
      "model_name": "HtmlModel",
      "state": {
       "_events": [],
       "_jupyter_vue": "IPY_MODEL_bc2712ed128d4d47ba50f0f591fcb068",
       "_model_module_version": "^1.5.1",
       "_view_module_version": "^1.5.1",
       "attributes": {},
       "children": [
        "Original data source: San Diego County Communicable Disease Registry, SANDAG 2019 Population Estimates (Prepared June 2020)."
       ],
       "layout": "IPY_MODEL_a07a8db5090a4f2eaedaa66322c7416a",
       "tag": "p",
       "v_slots": []
      }
     },
     "084063a790d6400baec0a71291d64c2e": {
      "model_module": "@jupyter-widgets/base",
      "model_module_version": "1.2.0",
      "model_name": "LayoutModel",
      "state": {}
     },
     "08476dd4864f48558118e535ed983b64": {
      "model_module": "@jupyter-widgets/base",
      "model_module_version": "1.2.0",
      "model_name": "LayoutModel",
      "state": {}
     },
     "084f4deffabc438bba8604ae0c06192e": {
      "model_module": "@jupyter-widgets/base",
      "model_module_version": "1.2.0",
      "model_name": "LayoutModel",
      "state": {}
     },
     "085d5e3adc9545cfad4ed9171c01909d": {
      "model_module": "@jupyter-widgets/base",
      "model_module_version": "1.2.0",
      "model_name": "LayoutModel",
      "state": {}
     },
     "089cbe1e589f416992bc2960e484ed3c": {
      "model_module": "@jupyter-widgets/base",
      "model_module_version": "1.2.0",
      "model_name": "LayoutModel",
      "state": {}
     },
     "089fc2ae5c334d4c911e893dc03dc47e": {
      "model_module": "jupyter-vuetify",
      "model_module_version": "^1.5.1",
      "model_name": "RowModel",
      "state": {
       "_events": [],
       "_jupyter_vue": "IPY_MODEL_bc2712ed128d4d47ba50f0f591fcb068",
       "attributes": {},
       "children": [
        "IPY_MODEL_d0f8a6d74109481eb764391dc042e23d",
        "IPY_MODEL_e4eee4d908584320b280a82e9c4491bc",
        "IPY_MODEL_6a498f4aca664c459e30a4e7458347bf"
       ],
       "dense": true,
       "layout": "IPY_MODEL_c59f8added1a4db682fd458c074ae3b4",
       "v_slots": []
      }
     },
     "08f28b5ad44e4006b990d0183b70e92b": {
      "model_module": "jupyter-vuetify",
      "model_module_version": "^1.5.1",
      "model_name": "CardTitleModel",
      "state": {
       "_events": [],
       "_jupyter_vue": "IPY_MODEL_bc2712ed128d4d47ba50f0f591fcb068",
       "attributes": {},
       "children": [
        "About the Data"
       ],
       "layout": "IPY_MODEL_9080fe908ac841d2a6eaa3175a6eb51a",
       "v_slots": []
      }
     },
     "09176c619ae3496d8d2fa7915da1d828": {
      "model_module": "jupyter-vuetify",
      "model_module_version": "^1.5.1",
      "model_name": "CardTitleModel",
      "state": {
       "_events": [],
       "_jupyter_vue": "IPY_MODEL_bc2712ed128d4d47ba50f0f591fcb068",
       "attributes": {},
       "children": [
        "Covid-19 Case Data"
       ],
       "layout": "IPY_MODEL_209bde8815ea4f32ba2489076b6b1a44",
       "v_slots": []
      }
     },
     "095fb86772b641539c03572cadcc11ea": {
      "model_module": "jupyter-vuetify",
      "model_module_version": "^1.5.1",
      "model_name": "HtmlModel",
      "state": {
       "_events": [],
       "_jupyter_vue": "IPY_MODEL_bc2712ed128d4d47ba50f0f591fcb068",
       "_model_module_version": "^1.5.1",
       "_view_module_version": "^1.5.1",
       "attributes": {},
       "children": [
        "All Covid-19 case data have been received from the Internet Archive. The original data have been prepared in PDF documents with the title \"Daily Coronavirus Disease 2019 (COVID-19) Summary of Cases by Zip Code of Residence\" by the County of San Diego, Health and Human Services Agency, Public Health Services, Epidemiology and Immunization Services Branch."
       ],
       "layout": "IPY_MODEL_60eaf3ee3d7b433a88e0e876aa7e522f",
       "tag": "p",
       "v_slots": []
      }
     },
     "09602258e8fa465193b0c006743c69cf": {
      "model_module": "jupyter-vuetify",
      "model_module_version": "^1.5.1",
      "model_name": "BtnModel",
      "state": {
       "_events": [],
       "_jupyter_vue": "IPY_MODEL_bc2712ed128d4d47ba50f0f591fcb068",
       "attributes": {},
       "children": [
        "IPY_MODEL_f235128dd3604765a220abfa131fc7de"
       ],
       "color": "blue",
       "elevation": null,
       "height": null,
       "href": null,
       "layout": "IPY_MODEL_60ce47f3ec7b4bf5b8bb76502c7be76b",
       "max_height": null,
       "max_width": null,
       "min_height": null,
       "min_width": null,
       "ripple": null,
       "text": true,
       "to": null,
       "v_slots": [],
       "width": null
      }
     },
     "09985651c59c46bd908fc0cfbb6f2dc8": {
      "model_module": "@jupyter-widgets/base",
      "model_module_version": "1.2.0",
      "model_name": "LayoutModel",
      "state": {}
     },
     "099fb37c34d343bebb6d755b1a84b9f4": {
      "model_module": "@jupyter-widgets/base",
      "model_module_version": "1.2.0",
      "model_name": "LayoutModel",
      "state": {}
     },
     "09a86ffb12914e3f9d2700367dd334ed": {
      "model_module": "@jupyter-widgets/base",
      "model_module_version": "1.2.0",
      "model_name": "LayoutModel",
      "state": {}
     },
     "09b4f912af404fe1a59f7a1a995ef598": {
      "model_module": "@jupyter-widgets/base",
      "model_module_version": "1.2.0",
      "model_name": "LayoutModel",
      "state": {}
     },
     "0a5b40d89f0944cdb786ef1fc902f502": {
      "model_module": "@jupyter-widgets/base",
      "model_module_version": "1.2.0",
      "model_name": "LayoutModel",
      "state": {}
     },
     "0a8c46e1734d4ed79ec7756f3208ce1a": {
      "model_module": "jupyter-vuetify",
      "model_module_version": "^1.5.1",
      "model_name": "HtmlModel",
      "state": {
       "_events": [],
       "_jupyter_vue": "IPY_MODEL_bc2712ed128d4d47ba50f0f591fcb068",
       "_model_module_version": "^1.5.1",
       "_view_module_version": "^1.5.1",
       "attributes": {},
       "children": [
        "Data are usually updated from the Internet Archive once per day."
       ],
       "layout": "IPY_MODEL_be11e73aca804a1483e06f9d987f097f",
       "tag": "p",
       "v_slots": []
      }
     },
     "0aaad137a245490985d2eb48131683e4": {
      "model_module": "jupyter-vuetify",
      "model_module_version": "^1.5.1",
      "model_name": "BtnModel",
      "state": {
       "_events": [],
       "_jupyter_vue": "IPY_MODEL_bc2712ed128d4d47ba50f0f591fcb068",
       "attributes": {},
       "children": [
        "IPY_MODEL_9535db43d9e34582ae46e112c88be942"
       ],
       "color": "blue",
       "elevation": null,
       "height": null,
       "href": null,
       "layout": "IPY_MODEL_5536a228c92544b38aeaf51a6ce389f8",
       "max_height": null,
       "max_width": null,
       "min_height": null,
       "min_width": null,
       "ripple": null,
       "text": true,
       "to": null,
       "v_slots": [],
       "width": null
      }
     },
     "0aad74fd77fb42ec9aa245b756038cf3": {
      "model_module": "@jupyter-widgets/base",
      "model_module_version": "1.2.0",
      "model_name": "LayoutModel",
      "state": {}
     },
     "0acb9f8f38674ab5a4be373a052f77a0": {
      "model_module": "jupyter-vuetify",
      "model_module_version": "^1.5.1",
      "model_name": "ColModel",
      "state": {
       "_events": [],
       "_jupyter_vue": "IPY_MODEL_bc2712ed128d4d47ba50f0f591fcb068",
       "attributes": {},
       "children": [
        "IPY_MODEL_ec91c46a8a844fdfb181bbc1f539272a"
       ],
       "cols": 6,
       "layout": "IPY_MODEL_d23a9961cc7c49bbacc2a12dec96708c",
       "lg": null,
       "md": null,
       "offset": null,
       "offset_lg": null,
       "offset_md": null,
       "offset_sm": null,
       "offset_xl": null,
       "order": null,
       "order_lg": null,
       "order_md": null,
       "order_sm": null,
       "order_xl": null,
       "sm": null,
       "v_slots": [],
       "xl": null
      }
     },
     "0ae24751320749be8bc798c2632a2fd2": {
      "model_module": "jupyter-vuetify",
      "model_module_version": "^1.5.1",
      "model_name": "BtnModel",
      "state": {
       "_events": [],
       "_jupyter_vue": "IPY_MODEL_bc2712ed128d4d47ba50f0f591fcb068",
       "attributes": {},
       "children": [
        "IPY_MODEL_95359a8750cf42bdb2bf97aad5628a25"
       ],
       "color": "blue",
       "elevation": null,
       "height": null,
       "href": null,
       "layout": "IPY_MODEL_2065b69230c34ea888135a58ee90ce91",
       "max_height": null,
       "max_width": null,
       "min_height": null,
       "min_width": null,
       "ripple": null,
       "text": true,
       "to": null,
       "v_slots": [],
       "width": null
      }
     },
     "0b011c667efa4b849e66483e6adb1ab8": {
      "model_module": "@jupyter-widgets/base",
      "model_module_version": "1.2.0",
      "model_name": "LayoutModel",
      "state": {}
     },
     "0b1376f5e5084847bb53cdfd6caf0fae": {
      "model_module": "@jupyter-widgets/base",
      "model_module_version": "1.2.0",
      "model_name": "LayoutModel",
      "state": {}
     },
     "0b1700200734402f922300cf1434d04c": {
      "model_module": "@jupyter-widgets/base",
      "model_module_version": "1.2.0",
      "model_name": "LayoutModel",
      "state": {}
     },
     "0b2af412f4c841b9919a42d865407096": {
      "model_module": "jupyter-vuetify",
      "model_module_version": "^1.5.1",
      "model_name": "BtnModel",
      "state": {
       "_events": [],
       "_jupyter_vue": "IPY_MODEL_bc2712ed128d4d47ba50f0f591fcb068",
       "attributes": {},
       "children": [
        "IPY_MODEL_9ef9ac88920944f7b5fcac26591ad64e"
       ],
       "color": "blue",
       "elevation": null,
       "height": null,
       "href": null,
       "layout": "IPY_MODEL_737d6c5a89c647a1885746c4b3932472",
       "max_height": null,
       "max_width": null,
       "min_height": null,
       "min_width": null,
       "ripple": null,
       "text": true,
       "to": null,
       "v_slots": [],
       "width": null
      }
     },
     "0bab556947d14346bbc97652db6a02e1": {
      "model_module": "@jupyter-widgets/base",
      "model_module_version": "1.2.0",
      "model_name": "LayoutModel",
      "state": {}
     },
     "0bb0b70c96f547139d9ac8254357fc40": {
      "model_module": "@jupyter-widgets/base",
      "model_module_version": "1.2.0",
      "model_name": "LayoutModel",
      "state": {}
     },
     "0bb89696d4d74321a7bfab47eac62000": {
      "model_module": "jupyter-vuetify",
      "model_module_version": "^1.5.1",
      "model_name": "CardTextModel",
      "state": {
       "_events": [],
       "_jupyter_vue": "IPY_MODEL_bc2712ed128d4d47ba50f0f591fcb068",
       "attributes": {},
       "children": [
        "This section informs about the data sources this dashboard uses. All data are publicly accessible."
       ],
       "layout": "IPY_MODEL_0be868ff2b0648db8fbfa9a47f542b65",
       "v_slots": []
      }
     },
     "0be868ff2b0648db8fbfa9a47f542b65": {
      "model_module": "@jupyter-widgets/base",
      "model_module_version": "1.2.0",
      "model_name": "LayoutModel",
      "state": {}
     },
     "0be8cedf76c9423aa89bdf44a091439b": {
      "model_module": "jupyter-vuetify",
      "model_module_version": "^1.5.1",
      "model_name": "CardTextModel",
      "state": {
       "_events": [],
       "_jupyter_vue": "IPY_MODEL_bc2712ed128d4d47ba50f0f591fcb068",
       "attributes": {},
       "children": [
        "The ZIP code boundaries shown in all maps are taken from the SANDAG/SanGIS Open Data Portal."
       ],
       "layout": "IPY_MODEL_63d665641232468587d0b73e02cf2c4d",
       "v_slots": []
      }
     },
     "0bf83853f83b4c479c8f71bd2d5f82d4": {
      "model_module": "@jupyter-widgets/base",
      "model_module_version": "1.2.0",
      "model_name": "LayoutModel",
      "state": {}
     },
     "0c0f2bb055d048e5ad3126fdca8336f7": {
      "model_module": "@jupyter-widgets/base",
      "model_module_version": "1.2.0",
      "model_name": "LayoutModel",
      "state": {}
     },
     "0c49e094bc6c4e9282e42a9df3503966": {
      "model_module": "jupyter-vuetify",
      "model_module_version": "^1.5.1",
      "model_name": "CardTitleModel",
      "state": {
       "_events": [],
       "_jupyter_vue": "IPY_MODEL_bc2712ed128d4d47ba50f0f591fcb068",
       "attributes": {},
       "children": [
        "About the Data"
       ],
       "layout": "IPY_MODEL_17233e5aa09d421081c6c3d5850cfda2",
       "v_slots": []
      }
     },
     "0c84c4e6b9534119afe9bd7bfffbc666": {
      "model_module": "@jupyter-widgets/base",
      "model_module_version": "1.2.0",
      "model_name": "LayoutModel",
      "state": {}
     },
     "0d8ece084371488587d28659c6762e5d": {
      "model_module": "jupyter-vuetify",
      "model_module_version": "^1.5.1",
      "model_name": "ContainerModel",
      "state": {
       "_events": [],
       "_jupyter_vue": "IPY_MODEL_bc2712ed128d4d47ba50f0f591fcb068",
       "attributes": {},
       "children": [
        "IPY_MODEL_c9ccd0c480534911ae4cd6e248edf082"
       ],
       "class_": "fill-height",
       "fluid": true,
       "layout": "IPY_MODEL_033eda6fc0f44a35944bb232bf775930",
       "v_slots": []
      }
     },
     "0db5fbfacb9d40948ae06759f6b2e001": {
      "model_module": "jupyter-vuetify",
      "model_module_version": "^1.5.1",
      "model_name": "HtmlModel",
      "state": {
       "_events": [],
       "_jupyter_vue": "IPY_MODEL_bc2712ed128d4d47ba50f0f591fcb068",
       "_model_module_version": "^1.5.1",
       "_view_module_version": "^1.5.1",
       "attributes": {
        "href": "https://datasurfer.sandag.org/dataoverview",
        "target": "_blank"
       },
       "children": [
        "Data Source"
       ],
       "layout": "IPY_MODEL_dd7d66c3b3a14b6d8f2fc7cd6eec62ab",
       "tag": "a",
       "v_slots": []
      }
     },
     "0de1503b76d246e58ee14f74b2a5fe15": {
      "model_module": "jupyter-vuetify",
      "model_module_version": "^1.5.1",
      "model_name": "CardTitleModel",
      "state": {
       "_events": [],
       "_jupyter_vue": "IPY_MODEL_bc2712ed128d4d47ba50f0f591fcb068",
       "attributes": {},
       "children": [
        "Covid-19 Case Data"
       ],
       "layout": "IPY_MODEL_95211eec675245698249addf2dfdd704",
       "v_slots": []
      }
     },
     "0e299db34a95466c9b163c7cd67c88cc": {
      "model_module": "jupyter-vuetify",
      "model_module_version": "^1.5.1",
      "model_name": "CardModel",
      "state": {
       "_events": [],
       "_jupyter_vue": "IPY_MODEL_bc2712ed128d4d47ba50f0f591fcb068",
       "attributes": {},
       "children": [
        "IPY_MODEL_e2f766ea11114f2aae82cf471c2ba0b7",
        "IPY_MODEL_c641a63c954c4a3ab954797b3909f8d5"
       ],
       "elevation": null,
       "height": null,
       "href": null,
       "layout": "IPY_MODEL_d8b21b192fca43ca82cfd3d11365653e",
       "loader_height": null,
       "loading": null,
       "max_height": null,
       "max_width": null,
       "min_height": null,
       "min_width": null,
       "ripple": null,
       "to": null,
       "v_slots": [],
       "width": null
      }
     },
     "0e43b5364b1b4b19a144e494cb7d1dc1": {
      "model_module": "jupyter-vuetify",
      "model_module_version": "^1.5.1",
      "model_name": "ContainerModel",
      "state": {
       "_events": [],
       "_jupyter_vue": "IPY_MODEL_bc2712ed128d4d47ba50f0f591fcb068",
       "attributes": {},
       "children": [
        "IPY_MODEL_7d782dec371145d99b269e3d9efb3322"
       ],
       "fluid": true,
       "layout": "IPY_MODEL_a972f6d806a243a9b9c17028546d8242",
       "v_slots": []
      }
     },
     "0e8b4b9927c14553ad03c89a0fa5dbd8": {
      "model_module": "jupyter-vuetify",
      "model_module_version": "^1.5.1",
      "model_name": "CardActionsModel",
      "state": {
       "_events": [],
       "_jupyter_vue": "IPY_MODEL_bc2712ed128d4d47ba50f0f591fcb068",
       "attributes": {},
       "children": [
        "IPY_MODEL_646bf3d58f094dd687f61e8d712d226d",
        "IPY_MODEL_bd1bf9981fb047f9bd54b51b42989d63",
        "IPY_MODEL_7f7c2b7f8f6d4a85b3f0ec4ed7c98c26"
       ],
       "layout": "IPY_MODEL_bb9b62e14b444753b5ca6c1d39e36895",
       "v_slots": []
      }
     },
     "0ebe5d8dc6de41b3b01905d4518c4874": {
      "model_module": "@jupyter-widgets/base",
      "model_module_version": "1.2.0",
      "model_name": "LayoutModel",
      "state": {}
     },
     "0fcdfc07f56345ea859d82d186fefbb0": {
      "model_module": "jupyter-vuetify",
      "model_module_version": "^1.5.1",
      "model_name": "CardTitleModel",
      "state": {
       "_events": [],
       "_jupyter_vue": "IPY_MODEL_bc2712ed128d4d47ba50f0f591fcb068",
       "attributes": {},
       "children": [
        "ZIP Codes"
       ],
       "layout": "IPY_MODEL_30ee28f222f647889a76aeeb45a645da",
       "v_slots": []
      }
     },
     "0ff2a7d80d544f43a5726749abbcadf2": {
      "model_module": "@jupyter-widgets/base",
      "model_module_version": "1.2.0",
      "model_name": "LayoutModel",
      "state": {}
     },
     "102f796d3ec04338b05ee0794ee4e86f": {
      "model_module": "jupyter-vuetify",
      "model_module_version": "^1.5.1",
      "model_name": "HtmlModel",
      "state": {
       "_events": [],
       "_jupyter_vue": "IPY_MODEL_bc2712ed128d4d47ba50f0f591fcb068",
       "_model_module_version": "^1.5.1",
       "_view_module_version": "^1.5.1",
       "attributes": {
        "href": "https://sdgis-sandag.opendata.arcgis.com/datasets/zip-code",
        "target": "_blank"
       },
       "children": [
        "Data Source"
       ],
       "layout": "IPY_MODEL_710b7674e2054117b87a62f3a32c278f",
       "tag": "a",
       "v_slots": []
      }
     },
     "106b97524599417dad984c2e32e62077": {
      "model_module": "jupyter-vuetify",
      "model_module_version": "^1.5.1",
      "model_name": "ColModel",
      "state": {
       "_events": [],
       "_jupyter_vue": "IPY_MODEL_bc2712ed128d4d47ba50f0f591fcb068",
       "attributes": {},
       "children": [
        "IPY_MODEL_57c8e92037934f079e6104b6df6e4e11"
       ],
       "cols": 6,
       "layout": "IPY_MODEL_030638299863405b98e32159f1a51dbb",
       "lg": null,
       "md": null,
       "offset": null,
       "offset_lg": null,
       "offset_md": null,
       "offset_sm": null,
       "offset_xl": null,
       "order": null,
       "order_lg": null,
       "order_md": null,
       "order_sm": null,
       "order_xl": null,
       "sm": null,
       "v_slots": [],
       "xl": null
      }
     },
     "10d2b5fd342c4773be5eca955ea29dfa": {
      "model_module": "@jupyter-widgets/base",
      "model_module_version": "1.2.0",
      "model_name": "LayoutModel",
      "state": {}
     },
     "10f5b99d1e044c2194e235220c719797": {
      "model_module": "jupyter-vuetify",
      "model_module_version": "^1.5.1",
      "model_name": "ColModel",
      "state": {
       "_events": [],
       "_jupyter_vue": "IPY_MODEL_bc2712ed128d4d47ba50f0f591fcb068",
       "attributes": {},
       "children": [
        "IPY_MODEL_2501ea6d8e1e40beb0c7171447974894"
       ],
       "cols": 6,
       "layout": "IPY_MODEL_ba69de82164d470e8f203acfc5b42b4c",
       "lg": null,
       "md": null,
       "offset": null,
       "offset_lg": null,
       "offset_md": null,
       "offset_sm": null,
       "offset_xl": null,
       "order": null,
       "order_lg": null,
       "order_md": null,
       "order_sm": null,
       "order_xl": null,
       "sm": null,
       "v_slots": [],
       "xl": null
      }
     },
     "112196c3ea5849da9d81c6dbe7c84f19": {
      "model_module": "@jupyter-widgets/base",
      "model_module_version": "1.2.0",
      "model_name": "LayoutModel",
      "state": {}
     },
     "11293b8f10d2495a86ea9e0155f853af": {
      "model_module": "@jupyter-widgets/base",
      "model_module_version": "1.2.0",
      "model_name": "LayoutModel",
      "state": {}
     },
     "112ff17e17224ec1a011dc3e635582d6": {
      "model_module": "@jupyter-widgets/base",
      "model_module_version": "1.2.0",
      "model_name": "LayoutModel",
      "state": {}
     },
     "1148ec7607454298a095d707bae97f42": {
      "model_module": "@jupyter-widgets/base",
      "model_module_version": "1.2.0",
      "model_name": "LayoutModel",
      "state": {}
     },
     "118284a771294d04ad6de0bfb2da556a": {
      "model_module": "jupyter-vuetify",
      "model_module_version": "^1.5.1",
      "model_name": "ColModel",
      "state": {
       "_events": [],
       "_jupyter_vue": "IPY_MODEL_bc2712ed128d4d47ba50f0f591fcb068",
       "attributes": {},
       "children": [
        "IPY_MODEL_df3a178b69cc463bb9d840756258bff0"
       ],
       "cols": 12,
       "layout": "IPY_MODEL_5046d7c51a174db5b73c926ea97038bd",
       "lg": null,
       "md": null,
       "offset": null,
       "offset_lg": null,
       "offset_md": null,
       "offset_sm": null,
       "offset_xl": null,
       "order": null,
       "order_lg": null,
       "order_md": null,
       "order_sm": null,
       "order_xl": null,
       "sm": null,
       "v_slots": [],
       "xl": null
      }
     },
     "1198a8f5d1c8462fb0582ed590a6f005": {
      "model_module": "@jupyter-widgets/base",
      "model_module_version": "1.2.0",
      "model_name": "LayoutModel",
      "state": {}
     },
     "119b1853e5fb4a94937e30ef22030fce": {
      "model_module": "jupyter-vuetify",
      "model_module_version": "^1.5.1",
      "model_name": "CardTitleModel",
      "state": {
       "_events": [],
       "_jupyter_vue": "IPY_MODEL_bc2712ed128d4d47ba50f0f591fcb068",
       "attributes": {},
       "children": [
        "ZIP Codes"
       ],
       "layout": "IPY_MODEL_09a86ffb12914e3f9d2700367dd334ed",
       "v_slots": []
      }
     },
     "11c3d6bc914a4d7bb01b16c73f968eb0": {
      "model_module": "@jupyter-widgets/base",
      "model_module_version": "1.2.0",
      "model_name": "LayoutModel",
      "state": {}
     },
     "120e5f53372d44f5a9f2dffb6b726c54": {
      "model_module": "jupyter-vuetify",
      "model_module_version": "^1.5.1",
      "model_name": "CardActionsModel",
      "state": {
       "_events": [],
       "_jupyter_vue": "IPY_MODEL_bc2712ed128d4d47ba50f0f591fcb068",
       "attributes": {},
       "children": [
        "IPY_MODEL_6442efdec947411eacc4ddf5154615b2",
        "IPY_MODEL_97b9d1cf98fb49b6820abd5f403b460b"
       ],
       "layout": "IPY_MODEL_dcedf08a111143a58bf50d7852486dfa",
       "v_slots": []
      }
     },
     "122662a529b3449f8e25fbc29add1c2b": {
      "model_module": "@jupyter-widgets/base",
      "model_module_version": "1.2.0",
      "model_name": "LayoutModel",
      "state": {}
     },
     "125f36077fce405f84358fe0d4a91441": {
      "model_module": "@jupyter-widgets/base",
      "model_module_version": "1.2.0",
      "model_name": "LayoutModel",
      "state": {}
     },
     "1286d04812cd486e9ff4db38f7d187aa": {
      "model_module": "@jupyter-widgets/base",
      "model_module_version": "1.2.0",
      "model_name": "LayoutModel",
      "state": {}
     },
     "129325472eb24825b70dd2e04bc5e8f6": {
      "model_module": "jupyter-vuetify",
      "model_module_version": "^1.5.1",
      "model_name": "CardModel",
      "state": {
       "_events": [],
       "_jupyter_vue": "IPY_MODEL_bc2712ed128d4d47ba50f0f591fcb068",
       "attributes": {},
       "children": [
        "IPY_MODEL_4c5f11f0fa4048b0995fa00e85a2896f",
        "IPY_MODEL_b9ea1ba3a3b14417a12ce427f0f07d2f",
        "IPY_MODEL_ef704e33301347539ac436964dc5643a"
       ],
       "elevation": null,
       "height": null,
       "href": null,
       "layout": "IPY_MODEL_b384b1d6c2494a69bd17abdbcad800c3",
       "loader_height": null,
       "loading": null,
       "max_height": null,
       "max_width": null,
       "min_height": null,
       "min_width": null,
       "ripple": null,
       "to": null,
       "v_slots": [],
       "width": null
      }
     },
     "12adf9021c8441eabce21948832993a5": {
      "model_module": "@jupyter-widgets/base",
      "model_module_version": "1.2.0",
      "model_name": "LayoutModel",
      "state": {}
     },
     "12b2d83f6a0848a9baeb6af6b7bcef14": {
      "model_module": "@jupyter-widgets/base",
      "model_module_version": "1.2.0",
      "model_name": "LayoutModel",
      "state": {}
     },
     "12b950475f6344079c275045b3453fa1": {
      "model_module": "jupyter-vuetify",
      "model_module_version": "^1.5.1",
      "model_name": "ColModel",
      "state": {
       "_events": [],
       "_jupyter_vue": "IPY_MODEL_bc2712ed128d4d47ba50f0f591fcb068",
       "attributes": {},
       "children": [
        "IPY_MODEL_f25666cc62d84bfe921642b170f2e68d"
       ],
       "cols": 6,
       "layout": "IPY_MODEL_80de23f4295a4b7d85eba2f4253e0887",
       "lg": null,
       "md": null,
       "offset": null,
       "offset_lg": null,
       "offset_md": null,
       "offset_sm": null,
       "offset_xl": null,
       "order": null,
       "order_lg": null,
       "order_md": null,
       "order_sm": null,
       "order_xl": null,
       "sm": null,
       "v_slots": [],
       "xl": null
      }
     },
     "12d9bcd03c28461b8bdfb064560a7065": {
      "model_module": "@jupyter-widgets/base",
      "model_module_version": "1.2.0",
      "model_name": "LayoutModel",
      "state": {}
     },
     "12e81644591140d495341b9282dc1ad4": {
      "model_module": "jupyter-vuetify",
      "model_module_version": "^1.5.1",
      "model_name": "ContainerModel",
      "state": {
       "_events": [],
       "_jupyter_vue": "IPY_MODEL_bc2712ed128d4d47ba50f0f591fcb068",
       "attributes": {},
       "children": [
        "IPY_MODEL_a74891ce77244a62b1cc6fe255dad2bf"
       ],
       "fluid": true,
       "layout": "IPY_MODEL_3abdee00918448acadb6d855b04c6f29",
       "v_slots": []
      }
     },
     "133db7fdc3cd4f92a7b674cb465c4743": {
      "model_module": "@jupyter-widgets/base",
      "model_module_version": "1.2.0",
      "model_name": "LayoutModel",
      "state": {}
     },
     "1359780b1cd947a58eeefa8773c442b9": {
      "model_module": "@jupyter-widgets/base",
      "model_module_version": "1.2.0",
      "model_name": "LayoutModel",
      "state": {}
     },
     "135be3c54ea14bab99d4c252cc4e0010": {
      "model_module": "@jupyter-widgets/base",
      "model_module_version": "1.2.0",
      "model_name": "LayoutModel",
      "state": {}
     },
     "135f994a0c604db981a1149443b55f3f": {
      "model_module": "jupyter-vuetify",
      "model_module_version": "^1.5.1",
      "model_name": "CardTitleModel",
      "state": {
       "_events": [],
       "_jupyter_vue": "IPY_MODEL_bc2712ed128d4d47ba50f0f591fcb068",
       "attributes": {},
       "children": [
        "About the Data"
       ],
       "layout": "IPY_MODEL_12b2d83f6a0848a9baeb6af6b7bcef14",
       "v_slots": []
      }
     },
     "1365e170d1d74f65b1839a8f92ccd8e0": {
      "model_module": "@jupyter-widgets/base",
      "model_module_version": "1.2.0",
      "model_name": "LayoutModel",
      "state": {}
     },
     "13d45487486d4980ada9d08dae548656": {
      "model_module": "jupyter-vuetify",
      "model_module_version": "^1.5.1",
      "model_name": "HtmlModel",
      "state": {
       "_events": [],
       "_jupyter_vue": "IPY_MODEL_bc2712ed128d4d47ba50f0f591fcb068",
       "_model_module_version": "^1.5.1",
       "_view_module_version": "^1.5.1",
       "attributes": {
        "href": "https://archive.org/donate/",
        "target": "_blank"
       },
       "children": [
        "Donate to the Internet Archive"
       ],
       "layout": "IPY_MODEL_65cb979469964af09ba1ae6891a10a19",
       "tag": "a",
       "v_slots": []
      }
     },
     "13ef570fd8e2466db6116189b614b569": {
      "model_module": "@jupyter-widgets/base",
      "model_module_version": "1.2.0",
      "model_name": "LayoutModel",
      "state": {}
     },
     "148852ec5f014bfdbf4c6fe3f2127fda": {
      "model_module": "@jupyter-widgets/base",
      "model_module_version": "1.2.0",
      "model_name": "LayoutModel",
      "state": {}
     },
     "148c37b959d34b1a88f524840f38c7bd": {
      "model_module": "@jupyter-widgets/base",
      "model_module_version": "1.2.0",
      "model_name": "LayoutModel",
      "state": {}
     },
     "14d3a2eda33148f980ddf36531b99a97": {
      "model_module": "jupyter-vuetify",
      "model_module_version": "^1.5.1",
      "model_name": "CardModel",
      "state": {
       "_events": [],
       "_jupyter_vue": "IPY_MODEL_bc2712ed128d4d47ba50f0f591fcb068",
       "attributes": {},
       "children": [
        "IPY_MODEL_de4ecd0025c146c8a500cf4464cb692d",
        "IPY_MODEL_86c6eed5acee4e80b5c1f5a600b4d27c",
        "IPY_MODEL_70a5fa1d7f094380a50cbc492bdec7b8"
       ],
       "elevation": null,
       "height": null,
       "href": null,
       "layout": "IPY_MODEL_bb66bc4885584418a1640d9524b975a3",
       "loader_height": null,
       "loading": null,
       "max_height": null,
       "max_width": null,
       "min_height": null,
       "min_width": null,
       "ripple": null,
       "to": null,
       "v_slots": [],
       "width": null
      }
     },
     "14e5e74440ed4061ad82c14931a6b1fb": {
      "model_module": "@jupyter-widgets/base",
      "model_module_version": "1.2.0",
      "model_name": "LayoutModel",
      "state": {}
     },
     "155ee3716379495898ccf415098a8df2": {
      "model_module": "@jupyter-widgets/base",
      "model_module_version": "1.2.0",
      "model_name": "LayoutModel",
      "state": {}
     },
     "157f869f408a41669cda89bd6907be56": {
      "model_module": "@jupyter-widgets/base",
      "model_module_version": "1.2.0",
      "model_name": "LayoutModel",
      "state": {}
     },
     "15f074ad9d92442b9f17e331b05652d4": {
      "model_module": "jupyter-vuetify",
      "model_module_version": "^1.5.1",
      "model_name": "RowModel",
      "state": {
       "_events": [],
       "_jupyter_vue": "IPY_MODEL_bc2712ed128d4d47ba50f0f591fcb068",
       "attributes": {},
       "children": [
        "IPY_MODEL_b6b93596247d49cd96c651df8e0aed98",
        "IPY_MODEL_6cb284704fe44c25a26ef3287d9b70e5",
        "IPY_MODEL_b505452905904c2abaf0e90ef30c0f78"
       ],
       "dense": true,
       "layout": "IPY_MODEL_581dd00480424a339e1be917e2e2e563",
       "v_slots": []
      }
     },
     "161d1ad3619d4c3fa3f89da4cb0841e1": {
      "model_module": "@jupyter-widgets/base",
      "model_module_version": "1.2.0",
      "model_name": "LayoutModel",
      "state": {}
     },
     "16342e9719e54997b3e6ec69c7f25827": {
      "model_module": "jupyter-vuetify",
      "model_module_version": "^1.5.1",
      "model_name": "ColModel",
      "state": {
       "_events": [],
       "_jupyter_vue": "IPY_MODEL_bc2712ed128d4d47ba50f0f591fcb068",
       "attributes": {},
       "children": [
        "IPY_MODEL_6b71fed78b5b446a8cab972c3314d3b3"
       ],
       "cols": 6,
       "layout": "IPY_MODEL_830a793d3b164abc92bb2bb0c99f6f8a",
       "lg": null,
       "md": null,
       "offset": null,
       "offset_lg": null,
       "offset_md": null,
       "offset_sm": null,
       "offset_xl": null,
       "order": null,
       "order_lg": null,
       "order_md": null,
       "order_sm": null,
       "order_xl": null,
       "sm": null,
       "v_slots": [],
       "xl": null
      }
     },
     "1642cbb9b84545488dee4d3134cd88ea": {
      "model_module": "@jupyter-widgets/base",
      "model_module_version": "1.2.0",
      "model_name": "LayoutModel",
      "state": {}
     },
     "166eac3d085b4195a0aa2b1703577f7f": {
      "model_module": "@jupyter-widgets/base",
      "model_module_version": "1.2.0",
      "model_name": "LayoutModel",
      "state": {}
     },
     "168714742b48416db85f0368b5ff4d14": {
      "model_module": "@jupyter-widgets/base",
      "model_module_version": "1.2.0",
      "model_name": "LayoutModel",
      "state": {}
     },
     "16a3658f9b9b45c287c55ce5d1eeff46": {
      "model_module": "jupyter-vuetify",
      "model_module_version": "^1.5.1",
      "model_name": "ColModel",
      "state": {
       "_events": [],
       "_jupyter_vue": "IPY_MODEL_bc2712ed128d4d47ba50f0f591fcb068",
       "attributes": {},
       "children": [
        "IPY_MODEL_eec84f0d2ee94d679b83583a43283e62"
       ],
       "cols": 6,
       "layout": "IPY_MODEL_1f25a7cf60a548f98c7a0a93d60d23bd",
       "lg": null,
       "md": null,
       "offset": null,
       "offset_lg": null,
       "offset_md": null,
       "offset_sm": null,
       "offset_xl": null,
       "order": null,
       "order_lg": null,
       "order_md": null,
       "order_sm": null,
       "order_xl": null,
       "sm": null,
       "v_slots": [],
       "xl": null
      }
     },
     "16c126db677642eaa1d0afb7c201c203": {
      "model_module": "@jupyter-widgets/base",
      "model_module_version": "1.2.0",
      "model_name": "LayoutModel",
      "state": {}
     },
     "16dd687cefbc45a7bb136c72d163c462": {
      "model_module": "@jupyter-widgets/base",
      "model_module_version": "1.2.0",
      "model_name": "LayoutModel",
      "state": {}
     },
     "17233e5aa09d421081c6c3d5850cfda2": {
      "model_module": "@jupyter-widgets/base",
      "model_module_version": "1.2.0",
      "model_name": "LayoutModel",
      "state": {}
     },
     "1725915c7d844d9598aee05e78059275": {
      "model_module": "jupyter-vuetify",
      "model_module_version": "^1.5.1",
      "model_name": "CardTextModel",
      "state": {
       "_events": [],
       "_jupyter_vue": "IPY_MODEL_bc2712ed128d4d47ba50f0f591fcb068",
       "attributes": {},
       "children": [
        "IPY_MODEL_58ad88eb7d334bf4803364934921156f",
        "IPY_MODEL_fd4b73f9ca0941268d2b662ada91f19d"
       ],
       "layout": "IPY_MODEL_f931c3b5d12c405885ddd17d2c1359d7",
       "v_slots": []
      }
     },
     "173c899eb6ab424f8c9e76e7b4e12c0c": {
      "model_module": "jupyter-vuetify",
      "model_module_version": "^1.5.1",
      "model_name": "ContainerModel",
      "state": {
       "_events": [],
       "_jupyter_vue": "IPY_MODEL_bc2712ed128d4d47ba50f0f591fcb068",
       "attributes": {},
       "children": [
        "IPY_MODEL_5579642bc1bd4b6d90abfc90fc57d6f7"
       ],
       "fluid": true,
       "layout": "IPY_MODEL_f4b00fa9d856459bb32e8a9d33bd56cf",
       "v_slots": []
      }
     },
     "1755a32810fb4c2895bf851411231f8e": {
      "model_module": "jupyter-vuetify",
      "model_module_version": "^1.5.1",
      "model_name": "CardActionsModel",
      "state": {
       "_events": [],
       "_jupyter_vue": "IPY_MODEL_bc2712ed128d4d47ba50f0f591fcb068",
       "attributes": {},
       "children": [
        "IPY_MODEL_a30fdc6f2ac44764aa55ba6806c78be6",
        "IPY_MODEL_aea325be6c5845279f374d22b89e7451",
        "IPY_MODEL_fb8d5a0bd3134f9da5b60aea203cc1cf"
       ],
       "layout": "IPY_MODEL_8614ee2f4a6c4433b3f814c2e2b00fb1",
       "v_slots": []
      }
     },
     "175adbf3c6b54185910ab4b59aacdb5d": {
      "model_module": "@jupyter-widgets/base",
      "model_module_version": "1.2.0",
      "model_name": "LayoutModel",
      "state": {}
     },
     "17a4397421974f198ee698b56ea72670": {
      "model_module": "jupyter-vuetify",
      "model_module_version": "^1.5.1",
      "model_name": "CardModel",
      "state": {
       "_events": [],
       "_jupyter_vue": "IPY_MODEL_bc2712ed128d4d47ba50f0f591fcb068",
       "attributes": {},
       "children": [
        "IPY_MODEL_0fcdfc07f56345ea859d82d186fefbb0",
        "IPY_MODEL_a1b168e57be84e13af1d06cde8756201"
       ],
       "elevation": null,
       "height": null,
       "href": null,
       "layout": "IPY_MODEL_a09874db99ff4b6b82f8a92f687446d0",
       "loader_height": null,
       "loading": null,
       "max_height": null,
       "max_width": null,
       "min_height": null,
       "min_width": null,
       "ripple": null,
       "to": null,
       "v_slots": [],
       "width": null
      }
     },
     "17d7179948de4d8c903cd4ff635d68ba": {
      "model_module": "@jupyter-widgets/base",
      "model_module_version": "1.2.0",
      "model_name": "LayoutModel",
      "state": {}
     },
     "17dd79b333a849e580528b92abc6f84e": {
      "model_module": "@jupyter-widgets/base",
      "model_module_version": "1.2.0",
      "model_name": "LayoutModel",
      "state": {}
     },
     "1812332470fd4584af8d9a69cdb5bb8c": {
      "model_module": "jupyter-vuetify",
      "model_module_version": "^1.5.1",
      "model_name": "HtmlModel",
      "state": {
       "_events": [],
       "_jupyter_vue": "IPY_MODEL_bc2712ed128d4d47ba50f0f591fcb068",
       "_model_module_version": "^1.5.1",
       "_view_module_version": "^1.5.1",
       "attributes": {},
       "children": [
        "Original data source: San Diego County Communicable Disease Registry, SANDAG 2019 Population Estimates (Prepared June 2020)."
       ],
       "layout": "IPY_MODEL_157f869f408a41669cda89bd6907be56",
       "tag": "p",
       "v_slots": []
      }
     },
     "185bcbb6b5544134a94200ba2d64d8f9": {
      "model_module": "jupyter-vuetify",
      "model_module_version": "^1.5.1",
      "model_name": "CardTitleModel",
      "state": {
       "_events": [],
       "_jupyter_vue": "IPY_MODEL_bc2712ed128d4d47ba50f0f591fcb068",
       "attributes": {},
       "children": [
        "ZIP Code Boundaries"
       ],
       "layout": "IPY_MODEL_b3572214dfc743b49865e94594a6a00e",
       "v_slots": []
      }
     },
     "18b2c9222ff54860b295467545e780fc": {
      "model_module": "jupyter-vuetify",
      "model_module_version": "^1.5.1",
      "model_name": "HtmlModel",
      "state": {
       "_events": [],
       "_jupyter_vue": "IPY_MODEL_bc2712ed128d4d47ba50f0f591fcb068",
       "_model_module_version": "^1.5.1",
       "_view_module_version": "^1.5.1",
       "attributes": {
        "href": "https://sandag.org/resources/maps_and_gis/gis_downloads/disclaimer.asp"
       },
       "children": [
        "SANDAG Disclaimer"
       ],
       "layout": "IPY_MODEL_155ee3716379495898ccf415098a8df2",
       "tag": "a",
       "v_slots": []
      }
     },
     "18baaf4d68c149b3b7507c5412f21fd0": {
      "model_module": "jupyter-vuetify",
      "model_module_version": "^1.5.1",
      "model_name": "ColModel",
      "state": {
       "_events": [],
       "_jupyter_vue": "IPY_MODEL_bc2712ed128d4d47ba50f0f591fcb068",
       "attributes": {},
       "children": [
        "IPY_MODEL_e404e3b229b9405eb924e5ba93905591"
       ],
       "cols": 6,
       "layout": "IPY_MODEL_6af1a78ef227491ebdd3679a1de1f67a",
       "lg": null,
       "md": null,
       "offset": null,
       "offset_lg": null,
       "offset_md": null,
       "offset_sm": null,
       "offset_xl": null,
       "order": null,
       "order_lg": null,
       "order_md": null,
       "order_sm": null,
       "order_xl": null,
       "sm": null,
       "v_slots": [],
       "xl": null
      }
     },
     "18c43eac367f4e0bb10e6d1ed6eb23a8": {
      "model_module": "@jupyter-widgets/base",
      "model_module_version": "1.2.0",
      "model_name": "LayoutModel",
      "state": {}
     },
     "18e5d099317a4726b2f4170df456a666": {
      "model_module": "@jupyter-widgets/base",
      "model_module_version": "1.2.0",
      "model_name": "LayoutModel",
      "state": {}
     },
     "18e95f1b795d4813a54bcecf7676a5b3": {
      "model_module": "@jupyter-widgets/base",
      "model_module_version": "1.2.0",
      "model_name": "LayoutModel",
      "state": {}
     },
     "1928a8bfb13c4b56a0f62b6e793befe1": {
      "model_module": "@jupyter-widgets/base",
      "model_module_version": "1.2.0",
      "model_name": "LayoutModel",
      "state": {}
     },
     "1981d48f3eb64fdd910b84bcc7bb3a9c": {
      "model_module": "jupyter-vuetify",
      "model_module_version": "^1.5.1",
      "model_name": "HtmlModel",
      "state": {
       "_events": [],
       "_jupyter_vue": "IPY_MODEL_bc2712ed128d4d47ba50f0f591fcb068",
       "_model_module_version": "^1.5.1",
       "_view_module_version": "^1.5.1",
       "attributes": {},
       "children": [
        "lol"
       ],
       "class_": "text--primary",
       "layout": "IPY_MODEL_3b6bc788bcb845898de6e0781d579fa5",
       "tag": "h3",
       "v_slots": []
      }
     },
     "19993011ad3b4a1e89080479a423e1d6": {
      "model_module": "jupyter-vuetify",
      "model_module_version": "^1.5.1",
      "model_name": "CardModel",
      "state": {
       "_events": [],
       "_jupyter_vue": "IPY_MODEL_bc2712ed128d4d47ba50f0f591fcb068",
       "attributes": {},
       "children": [
        "IPY_MODEL_b467231f394040a4af5eb71d6504c19b",
        "IPY_MODEL_32e92e73e362463b88318dd47e4d53e9"
       ],
       "elevation": null,
       "height": null,
       "href": null,
       "layout": "IPY_MODEL_42a310ee88844430b655639266481691",
       "loader_height": null,
       "loading": null,
       "max_height": null,
       "max_width": null,
       "min_height": null,
       "min_width": null,
       "ripple": null,
       "to": null,
       "v_slots": [],
       "width": null
      }
     },
     "19f2c98cebb24244a7f7eaece7295e35": {
      "model_module": "jupyter-vuetify",
      "model_module_version": "^1.5.1",
      "model_name": "HtmlModel",
      "state": {
       "_events": [],
       "_jupyter_vue": "IPY_MODEL_bc2712ed128d4d47ba50f0f591fcb068",
       "_model_module_version": "^1.5.1",
       "_view_module_version": "^1.5.1",
       "attributes": {},
       "children": [
        "Original data source: San Diego County Communicable Disease Registry, SANDAG 2019 Population Estimates (Prepared June 2020)."
       ],
       "layout": "IPY_MODEL_6618f777a03c4a3fb36692d302a29a8b",
       "tag": "p",
       "v_slots": []
      }
     },
     "1a4f87ffbe4e475b930ec85574407ecc": {
      "model_module": "jupyter-vuetify",
      "model_module_version": "^1.5.1",
      "model_name": "ColModel",
      "state": {
       "_events": [],
       "_jupyter_vue": "IPY_MODEL_bc2712ed128d4d47ba50f0f591fcb068",
       "attributes": {},
       "children": [
        "IPY_MODEL_ed70e0771c804bb682690181efc0cc04"
       ],
       "cols": 6,
       "layout": "IPY_MODEL_4640bf3480c04372bf4d695071fdfe18",
       "lg": null,
       "md": null,
       "offset": null,
       "offset_lg": null,
       "offset_md": null,
       "offset_sm": null,
       "offset_xl": null,
       "order": null,
       "order_lg": null,
       "order_md": null,
       "order_sm": null,
       "order_xl": null,
       "sm": null,
       "v_slots": [],
       "xl": null
      }
     },
     "1a54cd16ded84b3ea60bc14187ce7bbe": {
      "model_module": "@jupyter-widgets/base",
      "model_module_version": "1.2.0",
      "model_name": "LayoutModel",
      "state": {}
     },
     "1aaea3048b384723be2fe7f231b96b85": {
      "model_module": "jupyter-vuetify",
      "model_module_version": "^1.5.1",
      "model_name": "HtmlModel",
      "state": {
       "_events": [],
       "_jupyter_vue": "IPY_MODEL_bc2712ed128d4d47ba50f0f591fcb068",
       "_model_module_version": "^1.5.1",
       "_view_module_version": "^1.5.1",
       "attributes": {
        "href": "https://sandag.org/resources/maps_and_gis/gis_downloads/disclaimer.asp",
        "target": "_blank"
       },
       "children": [
        "SANDAG Disclaimer"
       ],
       "layout": "IPY_MODEL_099fb37c34d343bebb6d755b1a84b9f4",
       "tag": "a",
       "v_slots": []
      }
     },
     "1ae118d32cfd44779b05b8b50acca878": {
      "model_module": "@jupyter-widgets/base",
      "model_module_version": "1.2.0",
      "model_name": "LayoutModel",
      "state": {}
     },
     "1b3656bc424a4edfa401219eebbd7950": {
      "model_module": "jupyter-vuetify",
      "model_module_version": "^1.5.1",
      "model_name": "CardActionsModel",
      "state": {
       "_events": [],
       "_jupyter_vue": "IPY_MODEL_bc2712ed128d4d47ba50f0f591fcb068",
       "attributes": {},
       "children": [
        "IPY_MODEL_0aaad137a245490985d2eb48131683e4",
        "IPY_MODEL_d44e8058f67944e5b4b94944bdaa7528"
       ],
       "layout": "IPY_MODEL_806f02407e3e43a281c84fd417f86d0d",
       "v_slots": []
      }
     },
     "1bbc47bc235a4838abbbe34f5573b9fb": {
      "model_module": "jupyter-vuetify",
      "model_module_version": "^1.5.1",
      "model_name": "CardModel",
      "state": {
       "_events": [],
       "_jupyter_vue": "IPY_MODEL_bc2712ed128d4d47ba50f0f591fcb068",
       "attributes": {},
       "children": [
        "IPY_MODEL_e08db6cf4cc6449a997efc75926f0c8d",
        "IPY_MODEL_43765b381e95491eb5c0ad45d8f4fd53",
        "IPY_MODEL_28bd0dfc347f4249af61f40b519d1304"
       ],
       "elevation": null,
       "height": null,
       "href": null,
       "layout": "IPY_MODEL_7e6f67e7696b4ae786739a2fdcef8902",
       "loader_height": null,
       "loading": null,
       "max_height": null,
       "max_width": null,
       "min_height": null,
       "min_width": null,
       "ripple": null,
       "to": null,
       "v_slots": [],
       "width": null
      }
     },
     "1bc5c98887e14c9b9844f81d0b5ca0d9": {
      "model_module": "jupyter-vuetify",
      "model_module_version": "^1.5.1",
      "model_name": "HtmlModel",
      "state": {
       "_events": [],
       "_jupyter_vue": "IPY_MODEL_bc2712ed128d4d47ba50f0f591fcb068",
       "_model_module_version": "^1.5.1",
       "_view_module_version": "^1.5.1",
       "attributes": {},
       "children": [
        "Population counts and other demographic traits have been received from the SANDAG Data Surfer."
       ],
       "layout": "IPY_MODEL_ad5e6abde8534b98ab407b3041d8abf3",
       "tag": "p",
       "v_slots": []
      }
     },
     "1bd5c9f5e34146c68bd3c86a5b3f6c04": {
      "model_module": "@jupyter-widgets/base",
      "model_module_version": "1.2.0",
      "model_name": "LayoutModel",
      "state": {}
     },
     "1bdc4ca95f5c4090a7dcfb6b2d2f2297": {
      "model_module": "jupyter-vuetify",
      "model_module_version": "^1.5.1",
      "model_name": "CardModel",
      "state": {
       "_events": [],
       "_jupyter_vue": "IPY_MODEL_bc2712ed128d4d47ba50f0f591fcb068",
       "attributes": {},
       "children": [
        "IPY_MODEL_fb5792c8f9714075ac65bf655dad9cf0",
        "IPY_MODEL_3a70742b4b3840e093887b0af15ea151"
       ],
       "elevation": null,
       "height": null,
       "href": null,
       "layout": "IPY_MODEL_87347ea4304849acaad677186a73d80d",
       "loader_height": null,
       "loading": null,
       "max_height": null,
       "max_width": null,
       "min_height": null,
       "min_width": null,
       "ripple": null,
       "to": null,
       "v_slots": [],
       "width": null
      }
     },
     "1bf6b2c68b7343c49dc80c628c5ec6c4": {
      "model_module": "@jupyter-widgets/base",
      "model_module_version": "1.2.0",
      "model_name": "LayoutModel",
      "state": {}
     },
     "1c0aef37185c4fba870277f685d7b824": {
      "model_module": "@jupyter-widgets/base",
      "model_module_version": "1.2.0",
      "model_name": "LayoutModel",
      "state": {}
     },
     "1c47b1165ca94a3a965f6573566b9e95": {
      "model_module": "jupyter-vuetify",
      "model_module_version": "^1.5.1",
      "model_name": "CardTextModel",
      "state": {
       "_events": [],
       "_jupyter_vue": "IPY_MODEL_bc2712ed128d4d47ba50f0f591fcb068",
       "attributes": {},
       "children": [
        "The ZIP code boundaries shown in all maps are taken from the SANDAG/SanGIS Open Data Portal."
       ],
       "layout": "IPY_MODEL_33628fc046b543538f51273f4bbaa8d6",
       "v_slots": []
      }
     },
     "1c9438eeffc64af3990e7a5c3009ae31": {
      "model_module": "@jupyter-widgets/base",
      "model_module_version": "1.2.0",
      "model_name": "LayoutModel",
      "state": {}
     },
     "1c9aec055e024558b71140de075f6fdf": {
      "model_module": "jupyter-vuetify",
      "model_module_version": "^1.5.1",
      "model_name": "ColModel",
      "state": {
       "_events": [],
       "_jupyter_vue": "IPY_MODEL_bc2712ed128d4d47ba50f0f591fcb068",
       "attributes": {},
       "children": [
        "IPY_MODEL_43a4bc0f459f41c6953ab2f10ca8e62e"
       ],
       "cols": 12,
       "layout": "IPY_MODEL_6208b30f37a342dd9fede72560e8416a",
       "lg": null,
       "md": null,
       "offset": null,
       "offset_lg": null,
       "offset_md": null,
       "offset_sm": null,
       "offset_xl": null,
       "order": null,
       "order_lg": null,
       "order_md": null,
       "order_sm": null,
       "order_xl": null,
       "sm": null,
       "v_slots": [],
       "xl": null
      }
     },
     "1cae30a4b01e4ff4a246b2df2220ae7e": {
      "model_module": "jupyter-vuetify",
      "model_module_version": "^1.5.1",
      "model_name": "RowModel",
      "state": {
       "_events": [],
       "_jupyter_vue": "IPY_MODEL_bc2712ed128d4d47ba50f0f591fcb068",
       "attributes": {},
       "children": [
        "IPY_MODEL_63534200d4a04a2e8b9271620f4f4276",
        "IPY_MODEL_06851b1868b34b3cab7f091e42030748",
        "IPY_MODEL_530d7dc4a51b49ab845fcee5ac9425f6"
       ],
       "dense": true,
       "layout": "IPY_MODEL_59def853b661476f90fb1fe0b4b497b5",
       "v_slots": []
      }
     },
     "1cae65a9271145728fb092541af725b1": {
      "model_module": "@jupyter-widgets/base",
      "model_module_version": "1.2.0",
      "model_name": "LayoutModel",
      "state": {}
     },
     "1cb1c24a90b34d53a4881899ae286ff4": {
      "model_module": "@jupyter-widgets/base",
      "model_module_version": "1.2.0",
      "model_name": "LayoutModel",
      "state": {}
     },
     "1ce0513964084571a2148519bff13a98": {
      "model_module": "jupyter-vuetify",
      "model_module_version": "^1.5.1",
      "model_name": "BtnModel",
      "state": {
       "_events": [],
       "_jupyter_vue": "IPY_MODEL_bc2712ed128d4d47ba50f0f591fcb068",
       "attributes": {},
       "children": [
        "IPY_MODEL_8e13b81f123e46c4a5d7728fd899a222"
       ],
       "color": "blue",
       "elevation": null,
       "height": null,
       "href": null,
       "layout": "IPY_MODEL_23196ae23833484cb377974aa685f33f",
       "max_height": null,
       "max_width": null,
       "min_height": null,
       "min_width": null,
       "ripple": null,
       "text": true,
       "to": null,
       "v_slots": [],
       "width": null
      }
     },
     "1d29fd54cf4c4c00a370273fe9c3e114": {
      "model_module": "@jupyter-widgets/base",
      "model_module_version": "1.2.0",
      "model_name": "LayoutModel",
      "state": {}
     },
     "1d2c4c2621b0401fbf8c290a304f6871": {
      "model_module": "jupyter-vuetify",
      "model_module_version": "^1.5.1",
      "model_name": "CardModel",
      "state": {
       "_events": [],
       "_jupyter_vue": "IPY_MODEL_bc2712ed128d4d47ba50f0f591fcb068",
       "attributes": {},
       "children": [
        "IPY_MODEL_4e2cd450eace4feba12ccff3a321fd41",
        "IPY_MODEL_99ee062f606b421096f8cf7df755a057"
       ],
       "elevation": null,
       "height": null,
       "href": null,
       "layout": "IPY_MODEL_2878f8377df0402a934ec13314ed52a8",
       "loader_height": null,
       "loading": null,
       "max_height": null,
       "max_width": null,
       "min_height": null,
       "min_width": null,
       "ripple": null,
       "to": null,
       "v_slots": [],
       "width": null
      }
     },
     "1d55deea8fde418aa1edc3af71ef910b": {
      "model_module": "jupyter-vuetify",
      "model_module_version": "^1.5.1",
      "model_name": "CardTextModel",
      "state": {
       "_events": [],
       "_jupyter_vue": "IPY_MODEL_bc2712ed128d4d47ba50f0f591fcb068",
       "attributes": {},
       "children": [
        "The ZIP code boundaries shown in all maps are taken from the SANDAG/SanGIS Open Data Portal."
       ],
       "layout": "IPY_MODEL_428174fe1070472199b78abe4b1cfb41",
       "v_slots": []
      }
     },
     "1d6754e87f1c4f0ca3bac3bf5171b6df": {
      "model_module": "@jupyter-widgets/base",
      "model_module_version": "1.2.0",
      "model_name": "LayoutModel",
      "state": {}
     },
     "1ddacc7e203c41098e09cb5bc259db05": {
      "model_module": "jupyter-vuetify",
      "model_module_version": "^1.5.1",
      "model_name": "HtmlModel",
      "state": {
       "_events": [],
       "_jupyter_vue": "IPY_MODEL_bc2712ed128d4d47ba50f0f591fcb068",
       "_model_module_version": "^1.5.1",
       "_view_module_version": "^1.5.1",
       "attributes": {},
       "children": [
        "SANDAG, Current Estimates (data extracted on: 9/2020)"
       ],
       "layout": "IPY_MODEL_8bc026b556914505acd3d466289bdd2d",
       "tag": "i",
       "v_slots": []
      }
     },
     "1dfef1aed90646ba8fa250688e1d273b": {
      "model_module": "@jupyter-widgets/base",
      "model_module_version": "1.2.0",
      "model_name": "LayoutModel",
      "state": {}
     },
     "1e03b4c5e6ea419c973a30648fa38ca3": {
      "model_module": "@jupyter-widgets/base",
      "model_module_version": "1.2.0",
      "model_name": "LayoutModel",
      "state": {}
     },
     "1e0bf401adf74e1b9d6d1244a788350f": {
      "model_module": "jupyter-vuetify",
      "model_module_version": "^1.5.1",
      "model_name": "CardTitleModel",
      "state": {
       "_events": [],
       "_jupyter_vue": "IPY_MODEL_bc2712ed128d4d47ba50f0f591fcb068",
       "attributes": {},
       "children": [
        "About the Data"
       ],
       "layout": "IPY_MODEL_3ef3d3909d0242bc8367544c6a287c44",
       "v_slots": []
      }
     },
     "1e49bf242e1f48e0834ea98c20e10c38": {
      "model_module": "jupyter-vuetify",
      "model_module_version": "^1.5.1",
      "model_name": "HtmlModel",
      "state": {
       "_events": [],
       "_jupyter_vue": "IPY_MODEL_bc2712ed128d4d47ba50f0f591fcb068",
       "_model_module_version": "^1.5.1",
       "_view_module_version": "^1.5.1",
       "attributes": {},
       "children": [
        "Zip code is zip code of residence, which may not be location of exposure. Rates based on small case counts may vary considerably and should be interpreted with caution.",
        "Data are preliminary and subject to change. Total population=3,351,784."
       ],
       "layout": "IPY_MODEL_dfd8fdb4e6b34c68b2028d5e5490d57c",
       "tag": "p",
       "v_slots": []
      }
     },
     "1e4f430a41e64cceb1ff2c4ff4f27c87": {
      "model_module": "jupyter-vuetify",
      "model_module_version": "^1.5.1",
      "model_name": "ColModel",
      "state": {
       "_events": [],
       "_jupyter_vue": "IPY_MODEL_bc2712ed128d4d47ba50f0f591fcb068",
       "attributes": {},
       "children": [
        "IPY_MODEL_ae977f2a333e45569d48ea442d203b44"
       ],
       "cols": 6,
       "layout": "IPY_MODEL_571785f145c0494d8fc077be689555ef",
       "lg": null,
       "md": null,
       "offset": null,
       "offset_lg": null,
       "offset_md": null,
       "offset_sm": null,
       "offset_xl": null,
       "order": null,
       "order_lg": null,
       "order_md": null,
       "order_sm": null,
       "order_xl": null,
       "sm": null,
       "v_slots": [],
       "xl": null
      }
     },
     "1e514bf455844e6788ff42e8a46061fe": {
      "model_module": "jupyter-vuetify",
      "model_module_version": "^1.5.1",
      "model_name": "CardModel",
      "state": {
       "_events": [],
       "_jupyter_vue": "IPY_MODEL_bc2712ed128d4d47ba50f0f591fcb068",
       "attributes": {},
       "children": [
        "IPY_MODEL_8f12b66c5d964830bda682066e2a42ca",
        "IPY_MODEL_227314cb21334b37b9117c77d0eb0361"
       ],
       "elevation": null,
       "height": null,
       "href": null,
       "layout": "IPY_MODEL_1cb1c24a90b34d53a4881899ae286ff4",
       "loader_height": null,
       "loading": null,
       "max_height": null,
       "max_width": null,
       "min_height": null,
       "min_width": null,
       "ripple": null,
       "to": null,
       "v_slots": [],
       "width": null
      }
     },
     "1f25a7cf60a548f98c7a0a93d60d23bd": {
      "model_module": "@jupyter-widgets/base",
      "model_module_version": "1.2.0",
      "model_name": "LayoutModel",
      "state": {}
     },
     "1f338024dedc4e1fbacaf6652695c6c5": {
      "model_module": "jupyter-vuetify",
      "model_module_version": "^1.5.1",
      "model_name": "CardActionsModel",
      "state": {
       "_events": [],
       "_jupyter_vue": "IPY_MODEL_bc2712ed128d4d47ba50f0f591fcb068",
       "attributes": {},
       "children": [
        "IPY_MODEL_03d7ae4e13d443eeb13aa43307288cd8",
        "IPY_MODEL_09602258e8fa465193b0c006743c69cf"
       ],
       "layout": "IPY_MODEL_f6416102a95b4ded91d7cb44df310cf2",
       "v_slots": []
      }
     },
     "1f56255ff273446a9c2c5650c21774f3": {
      "model_module": "jupyter-vuetify",
      "model_module_version": "^1.5.1",
      "model_name": "CardTextModel",
      "state": {
       "_events": [],
       "_jupyter_vue": "IPY_MODEL_bc2712ed128d4d47ba50f0f591fcb068",
       "attributes": {},
       "children": [
        "IPY_MODEL_6cd2e9367cb8408a9f1a8855d17169fe",
        "IPY_MODEL_86f12f7187c6477c855b6b3c4368a237",
        "IPY_MODEL_5b53b335531e4ea68536131bb4ddb9c4"
       ],
       "layout": "IPY_MODEL_292da25cb4a04012b6048f5a96543619",
       "v_slots": []
      }
     },
     "1f588c2fdd41429a87bd9991611c3a6c": {
      "model_module": "@jupyter-widgets/base",
      "model_module_version": "1.2.0",
      "model_name": "LayoutModel",
      "state": {}
     },
     "1f698f2b5ec64691b35249bf4c219027": {
      "model_module": "@jupyter-widgets/base",
      "model_module_version": "1.2.0",
      "model_name": "LayoutModel",
      "state": {}
     },
     "1f79b269601e47daa54d757a79c1a114": {
      "model_module": "@jupyter-widgets/base",
      "model_module_version": "1.2.0",
      "model_name": "LayoutModel",
      "state": {}
     },
     "1fa1e563c5864cdbb16b025865d62349": {
      "model_module": "@jupyter-widgets/base",
      "model_module_version": "1.2.0",
      "model_name": "LayoutModel",
      "state": {}
     },
     "1fb165a5a1ab4e1aa9214bfc9496f273": {
      "model_module": "jupyter-vuetify",
      "model_module_version": "^1.5.1",
      "model_name": "CardTitleModel",
      "state": {
       "_events": [],
       "_jupyter_vue": "IPY_MODEL_bc2712ed128d4d47ba50f0f591fcb068",
       "attributes": {},
       "children": [
        "About the Data"
       ],
       "layout": "IPY_MODEL_400331744ba04db4b28152081e23e80f",
       "v_slots": []
      }
     },
     "1fd0bc7a10b94a9888994e92e27fdd7d": {
      "model_module": "@jupyter-widgets/base",
      "model_module_version": "1.2.0",
      "model_name": "LayoutModel",
      "state": {}
     },
     "1fe619609e4e47b98093a143fe7bcc9c": {
      "model_module": "jupyter-vuetify",
      "model_module_version": "^1.5.1",
      "model_name": "BtnModel",
      "state": {
       "_events": [],
       "_jupyter_vue": "IPY_MODEL_bc2712ed128d4d47ba50f0f591fcb068",
       "attributes": {},
       "children": [
        "IPY_MODEL_746e330e00324057a2ca3b31a5f84cae"
       ],
       "color": "blue",
       "elevation": null,
       "height": null,
       "href": null,
       "layout": "IPY_MODEL_78014b622e1b4d93a6938ff395c081c9",
       "max_height": null,
       "max_width": null,
       "min_height": null,
       "min_width": null,
       "ripple": null,
       "text": true,
       "to": null,
       "v_slots": [],
       "width": null
      }
     },
     "20007294d0c242abbafe9af6f3962cd3": {
      "model_module": "@jupyter-widgets/base",
      "model_module_version": "1.2.0",
      "model_name": "LayoutModel",
      "state": {}
     },
     "20113c8413104bc2bb8756568fea6c33": {
      "model_module": "@jupyter-widgets/base",
      "model_module_version": "1.2.0",
      "model_name": "LayoutModel",
      "state": {}
     },
     "2016070febbe44699ca25896883ab95d": {
      "model_module": "@jupyter-widgets/base",
      "model_module_version": "1.2.0",
      "model_name": "LayoutModel",
      "state": {}
     },
     "2046943792724cd4bcbb6c84918eaecd": {
      "model_module": "jupyter-vuetify",
      "model_module_version": "^1.5.1",
      "model_name": "HtmlModel",
      "state": {
       "_events": [],
       "_jupyter_vue": "IPY_MODEL_bc2712ed128d4d47ba50f0f591fcb068",
       "_model_module_version": "^1.5.1",
       "_view_module_version": "^1.5.1",
       "attributes": {
        "href": "https://sdgis-sandag.opendata.arcgis.com/datasets/zip-code"
       },
       "children": [
        "Dataset"
       ],
       "layout": "IPY_MODEL_37aa612aa78448ea8a4fcb5196404688",
       "tag": "a",
       "v_slots": []
      }
     },
     "2065b69230c34ea888135a58ee90ce91": {
      "model_module": "@jupyter-widgets/base",
      "model_module_version": "1.2.0",
      "model_name": "LayoutModel",
      "state": {}
     },
     "2092eef63290444180750562d3781391": {
      "model_module": "@jupyter-widgets/base",
      "model_module_version": "1.2.0",
      "model_name": "LayoutModel",
      "state": {}
     },
     "209bde8815ea4f32ba2489076b6b1a44": {
      "model_module": "@jupyter-widgets/base",
      "model_module_version": "1.2.0",
      "model_name": "LayoutModel",
      "state": {}
     },
     "20afb8a543164c5bbc56771f16e61d14": {
      "model_module": "jupyter-vuetify",
      "model_module_version": "^1.5.1",
      "model_name": "RowModel",
      "state": {
       "_events": [],
       "_jupyter_vue": "IPY_MODEL_bc2712ed128d4d47ba50f0f591fcb068",
       "attributes": {},
       "children": [
        "IPY_MODEL_a8c3eb3fd3e840d0ac5503f895cabcc3",
        "IPY_MODEL_7521f12e246a42838d7dc56a08961eed",
        "IPY_MODEL_8324331a90b54a95a51ade6613feeddd"
       ],
       "dense": true,
       "layout": "IPY_MODEL_725814ab997f4bedb06f5385cacfe87d",
       "v_slots": []
      }
     },
     "20c8a29b1a1546a0b00433332d2fd763": {
      "model_module": "@jupyter-widgets/base",
      "model_module_version": "1.2.0",
      "model_name": "LayoutModel",
      "state": {}
     },
     "20d5251cbc984c199279b9a968e0f10c": {
      "model_module": "jupyter-vuetify",
      "model_module_version": "^1.5.1",
      "model_name": "RowModel",
      "state": {
       "_events": [],
       "_jupyter_vue": "IPY_MODEL_bc2712ed128d4d47ba50f0f591fcb068",
       "attributes": {},
       "children": [
        "IPY_MODEL_569f59ed298c4559ba573085bc2dcf16",
        "IPY_MODEL_1e4f430a41e64cceb1ff2c4ff4f27c87",
        "IPY_MODEL_7740bbbccd324de192cbb9a9dcdfe8fd"
       ],
       "dense": true,
       "layout": "IPY_MODEL_a29856f4b63344cb821471b371d84f55",
       "v_slots": []
      }
     },
     "20e3509e4a6d42c0897ff714e87d508d": {
      "model_module": "@jupyter-widgets/base",
      "model_module_version": "1.2.0",
      "model_name": "LayoutModel",
      "state": {}
     },
     "20f55a293d454e34b376540cabf96cff": {
      "model_module": "@jupyter-widgets/base",
      "model_module_version": "1.2.0",
      "model_name": "LayoutModel",
      "state": {}
     },
     "20f94855f89f4a33bd67c861ff60b9e1": {
      "model_module": "jupyter-vuetify",
      "model_module_version": "^1.5.1",
      "model_name": "HtmlModel",
      "state": {
       "_events": [],
       "_jupyter_vue": "IPY_MODEL_bc2712ed128d4d47ba50f0f591fcb068",
       "_model_module_version": "^1.5.1",
       "_view_module_version": "^1.5.1",
       "attributes": {
        "href": "https://www.sandiegocounty.gov/content/sdc/hhsa/programs/phs/community_epidemiology/dc/2019-nCoV/status.html",
        "target": "_blank"
       },
       "children": [
        "County of San Diego"
       ],
       "layout": "IPY_MODEL_b0d0565ca6c34bff88bac2195b4d8485",
       "tag": "a",
       "v_slots": []
      }
     },
     "2116659949f24da4aabf16de3959d5f8": {
      "model_module": "jupyter-vuetify",
      "model_module_version": "^1.5.1",
      "model_name": "ColModel",
      "state": {
       "_events": [],
       "_jupyter_vue": "IPY_MODEL_bc2712ed128d4d47ba50f0f591fcb068",
       "attributes": {},
       "children": [
        "IPY_MODEL_278b0bd85e5b45419748f4ed5f2bb3d6"
       ],
       "cols": 6,
       "layout": "IPY_MODEL_abcf61856db8492f9a9afed1f8fb26ee",
       "lg": null,
       "md": null,
       "offset": null,
       "offset_lg": null,
       "offset_md": null,
       "offset_sm": null,
       "offset_xl": null,
       "order": null,
       "order_lg": null,
       "order_md": null,
       "order_sm": null,
       "order_xl": null,
       "sm": null,
       "v_slots": [],
       "xl": null
      }
     },
     "211dea2f3d4e4a9fa6e52c213db9d0e2": {
      "model_module": "jupyter-vuetify",
      "model_module_version": "^1.5.1",
      "model_name": "HtmlModel",
      "state": {
       "_events": [],
       "_jupyter_vue": "IPY_MODEL_bc2712ed128d4d47ba50f0f591fcb068",
       "_model_module_version": "^1.5.1",
       "_view_module_version": "^1.5.1",
       "attributes": {
        "href": "https://sandag.org/resources/maps_and_gis/gis_downloads/disclaimer.asp",
        "target": "_blank"
       },
       "children": [
        "Disclaimer"
       ],
       "layout": "IPY_MODEL_ade47d2b12c84a74b7fa58081b419728",
       "tag": "a",
       "v_slots": []
      }
     },
     "215f18fbb4a04affbeb3d83032835e72": {
      "model_module": "jupyter-vuetify",
      "model_module_version": "^1.5.1",
      "model_name": "HtmlModel",
      "state": {
       "_events": [],
       "_jupyter_vue": "IPY_MODEL_bc2712ed128d4d47ba50f0f591fcb068",
       "_model_module_version": "^1.5.1",
       "_view_module_version": "^1.5.1",
       "attributes": {
        "href": "https://sdgis-sandag.opendata.arcgis.com/datasets/zip-code",
        "target": "_blank"
       },
       "children": [
        "Dataset"
       ],
       "layout": "IPY_MODEL_61e9bb82e4d34edcb23b0ddae127814d",
       "tag": "a",
       "v_slots": []
      }
     },
     "2163955655254c819aa281cb6c283aaf": {
      "model_module": "@jupyter-widgets/base",
      "model_module_version": "1.2.0",
      "model_name": "LayoutModel",
      "state": {}
     },
     "21d952e1a0d0409f97b55cba451bdec2": {
      "model_module": "jupyter-vuetify",
      "model_module_version": "^1.5.1",
      "model_name": "CardTitleModel",
      "state": {
       "_events": [],
       "_jupyter_vue": "IPY_MODEL_bc2712ed128d4d47ba50f0f591fcb068",
       "attributes": {},
       "children": [
        "ZIP Codes"
       ],
       "layout": "IPY_MODEL_8533f2b76d354e4b9f41015a384f03b9",
       "v_slots": []
      }
     },
     "21f008a566f24943b20c9b153f1f774e": {
      "model_module": "jupyter-vuetify",
      "model_module_version": "^1.5.1",
      "model_name": "CardModel",
      "state": {
       "_events": [],
       "_jupyter_vue": "IPY_MODEL_bc2712ed128d4d47ba50f0f591fcb068",
       "attributes": {},
       "children": [
        "IPY_MODEL_0de1503b76d246e58ee14f74b2a5fe15",
        "IPY_MODEL_e6915ff4c2074eb6a952ddd5b8b702c8",
        "IPY_MODEL_deafd40b9d4a4170ba04f77952480015"
       ],
       "elevation": null,
       "height": null,
       "href": null,
       "layout": "IPY_MODEL_69844a54ed8548c3aa7805acbaf81a06",
       "loader_height": null,
       "loading": null,
       "max_height": null,
       "max_width": null,
       "min_height": null,
       "min_width": null,
       "ripple": null,
       "to": null,
       "v_slots": [],
       "width": null
      }
     },
     "22399a3152ca474fbe523748acfc1943": {
      "model_module": "@jupyter-widgets/base",
      "model_module_version": "1.2.0",
      "model_name": "LayoutModel",
      "state": {}
     },
     "225df0b4fc2548018b5750038a03fd8e": {
      "model_module": "@jupyter-widgets/base",
      "model_module_version": "1.2.0",
      "model_name": "LayoutModel",
      "state": {}
     },
     "227314cb21334b37b9117c77d0eb0361": {
      "model_module": "jupyter-vuetify",
      "model_module_version": "^1.5.1",
      "model_name": "ContainerModel",
      "state": {
       "_events": [],
       "_jupyter_vue": "IPY_MODEL_bc2712ed128d4d47ba50f0f591fcb068",
       "attributes": {},
       "children": [
        "IPY_MODEL_aea42b76aa6c42cab4576eef0a2ae92f"
       ],
       "fluid": true,
       "layout": "IPY_MODEL_cb64055d6dfd47068462da4497711d13",
       "v_slots": []
      }
     },
     "229291c21cf243babafb5a75e1ce000f": {
      "model_module": "@jupyter-widgets/base",
      "model_module_version": "1.2.0",
      "model_name": "LayoutModel",
      "state": {}
     },
     "229d8fdfdcd543e086462f34aa9712d1": {
      "model_module": "@jupyter-widgets/base",
      "model_module_version": "1.2.0",
      "model_name": "LayoutModel",
      "state": {}
     },
     "22a159bf264e49259bdeb8280424d688": {
      "model_module": "@jupyter-widgets/base",
      "model_module_version": "1.2.0",
      "model_name": "LayoutModel",
      "state": {}
     },
     "22d59f603e3a4daba0ed3f180b4a9fb1": {
      "model_module": "jupyter-vuetify",
      "model_module_version": "^1.5.1",
      "model_name": "CardModel",
      "state": {
       "_events": [],
       "_jupyter_vue": "IPY_MODEL_bc2712ed128d4d47ba50f0f591fcb068",
       "attributes": {},
       "children": [
        "IPY_MODEL_81918a73e8ad49f9a01234f02b79ded1",
        "IPY_MODEL_8c025c4f41584d1f9123210e9f8ddbce",
        "IPY_MODEL_2afa7294fc12479282a4323fe09154c3"
       ],
       "elevation": null,
       "height": null,
       "href": null,
       "layout": "IPY_MODEL_175adbf3c6b54185910ab4b59aacdb5d",
       "loader_height": null,
       "loading": null,
       "max_height": null,
       "max_width": null,
       "min_height": null,
       "min_width": null,
       "ripple": null,
       "to": null,
       "v_slots": [],
       "width": null
      }
     },
     "23067a90dd3a4b9abe3cc285008e6878": {
      "model_module": "jupyter-vuetify",
      "model_module_version": "^1.5.1",
      "model_name": "HtmlModel",
      "state": {
       "_events": [],
       "_jupyter_vue": "IPY_MODEL_bc2712ed128d4d47ba50f0f591fcb068",
       "_model_module_version": "^1.5.1",
       "_view_module_version": "^1.5.1",
       "attributes": {},
       "children": [
        "Population counts and other demographic data have been received from the SANDAG Data Surfer."
       ],
       "layout": "IPY_MODEL_709ef1a353d9472ba2efc1ba38946f91",
       "tag": "p",
       "v_slots": []
      }
     },
     "23196ae23833484cb377974aa685f33f": {
      "model_module": "@jupyter-widgets/base",
      "model_module_version": "1.2.0",
      "model_name": "LayoutModel",
      "state": {}
     },
     "2338062270884f94a3dcbd78acbc8460": {
      "model_module": "jupyter-vuetify",
      "model_module_version": "^1.5.1",
      "model_name": "BtnModel",
      "state": {
       "_events": [],
       "_jupyter_vue": "IPY_MODEL_bc2712ed128d4d47ba50f0f591fcb068",
       "attributes": {},
       "children": [
        "IPY_MODEL_93d7fee78e8e46ce8f7108fa02709d7a"
       ],
       "color": "blue",
       "elevation": null,
       "height": null,
       "href": null,
       "layout": "IPY_MODEL_2d5a7570f71941ed8de97ae5e8875bfe",
       "max_height": null,
       "max_width": null,
       "min_height": null,
       "min_width": null,
       "ripple": null,
       "text": true,
       "to": null,
       "v_slots": [],
       "width": null
      }
     },
     "234050d0dd9842f7aa4320a197431214": {
      "model_module": "jupyter-vuetify",
      "model_module_version": "^1.5.1",
      "model_name": "CardTextModel",
      "state": {
       "_events": [],
       "_jupyter_vue": "IPY_MODEL_bc2712ed128d4d47ba50f0f591fcb068",
       "attributes": {},
       "children": [
        "IPY_MODEL_a35c702d4fc345c5b72a6feb60ca3494"
       ],
       "layout": "IPY_MODEL_6d048af97d664492ab6fcad24cf26b3d",
       "v_slots": []
      }
     },
     "236cda4b54bc4fdb9c7658b25871cede": {
      "model_module": "jupyter-vuetify",
      "model_module_version": "^1.5.1",
      "model_name": "CardTitleModel",
      "state": {
       "_events": [],
       "_jupyter_vue": "IPY_MODEL_bc2712ed128d4d47ba50f0f591fcb068",
       "attributes": {},
       "children": [
        "ZIP Codes"
       ],
       "layout": "IPY_MODEL_c27464c6cae3453eadc3bd42bcf1213b",
       "v_slots": []
      }
     },
     "24356a8aba31425bb9b395be53dac7c4": {
      "model_module": "jupyter-vuetify",
      "model_module_version": "^1.5.1",
      "model_name": "HtmlModel",
      "state": {
       "_events": [],
       "_jupyter_vue": "IPY_MODEL_bc2712ed128d4d47ba50f0f591fcb068",
       "_model_module_version": "^1.5.1",
       "_view_module_version": "^1.5.1",
       "attributes": {
        "href": "https://sandag.org/resources/maps_and_gis/gis_downloads/disclaimer.asp"
       },
       "children": [
        "SANDAG Disclaimer"
       ],
       "layout": "IPY_MODEL_aa24fb35bd154e4ba459a1b98db1b957",
       "tag": "a",
       "v_slots": []
      }
     },
     "245e1bea14d04524ad29623a82b717ea": {
      "model_module": "jupyter-vuetify",
      "model_module_version": "^1.5.1",
      "model_name": "CardModel",
      "state": {
       "_events": [],
       "_jupyter_vue": "IPY_MODEL_bc2712ed128d4d47ba50f0f591fcb068",
       "attributes": {},
       "children": [
        "IPY_MODEL_c1e7731c6f8748a0824a691dfd14671b",
        "IPY_MODEL_d8e09b18bce64ddab77b1cd0a2743f96",
        "IPY_MODEL_e2ecaf39a54c4ae0ae1ad875fea59aa5"
       ],
       "elevation": null,
       "height": null,
       "href": null,
       "layout": "IPY_MODEL_296402c01ae743eeb96a9bd6d2f6422e",
       "loader_height": null,
       "loading": null,
       "max_height": null,
       "max_width": null,
       "min_height": null,
       "min_width": null,
       "ripple": null,
       "to": null,
       "v_slots": [],
       "width": null
      }
     },
     "246a48d5a75f447d82562ca320ba13e1": {
      "model_module": "@jupyter-widgets/base",
      "model_module_version": "1.2.0",
      "model_name": "LayoutModel",
      "state": {}
     },
     "2491b8ca60a2494ebf459c2396d56d63": {
      "model_module": "@jupyter-widgets/base",
      "model_module_version": "1.2.0",
      "model_name": "LayoutModel",
      "state": {}
     },
     "24def93202f049558026e38a55955add": {
      "model_module": "jupyter-vuetify",
      "model_module_version": "^1.5.1",
      "model_name": "CardActionsModel",
      "state": {
       "_events": [],
       "_jupyter_vue": "IPY_MODEL_bc2712ed128d4d47ba50f0f591fcb068",
       "attributes": {},
       "children": [
        "IPY_MODEL_af701fa9905a47238daceff67b643729"
       ],
       "layout": "IPY_MODEL_60aee12562a14e5f964345b28fd6345c",
       "v_slots": []
      }
     },
     "2501ea6d8e1e40beb0c7171447974894": {
      "model_module": "jupyter-vuetify",
      "model_module_version": "^1.5.1",
      "model_name": "CardModel",
      "state": {
       "_events": [],
       "_jupyter_vue": "IPY_MODEL_bc2712ed128d4d47ba50f0f591fcb068",
       "attributes": {},
       "children": [
        "IPY_MODEL_b5c00e52b6e943c5b33f8be065430042",
        "IPY_MODEL_321c27c2b7584091a6c25f6c783a6558"
       ],
       "elevation": null,
       "height": null,
       "href": null,
       "layout": "IPY_MODEL_2bf9c8fd78604ef0aeb8d96ea4ee122a",
       "loader_height": null,
       "loading": null,
       "max_height": null,
       "max_width": null,
       "min_height": null,
       "min_width": null,
       "ripple": null,
       "to": null,
       "v_slots": [],
       "width": null
      }
     },
     "25731fe49d3046ed9ac5fd1281975952": {
      "model_module": "@jupyter-widgets/base",
      "model_module_version": "1.2.0",
      "model_name": "LayoutModel",
      "state": {}
     },
     "25dfc94610fb4fb289f59ee8fc8c3fc1": {
      "model_module": "jupyter-vuetify",
      "model_module_version": "^1.5.1",
      "model_name": "BtnModel",
      "state": {
       "_events": [],
       "_jupyter_vue": "IPY_MODEL_bc2712ed128d4d47ba50f0f591fcb068",
       "attributes": {},
       "children": [
        "IPY_MODEL_012c26754ec44ed397f32fc154522cd2"
       ],
       "color": "blue",
       "elevation": null,
       "height": null,
       "href": null,
       "layout": "IPY_MODEL_8092f030e6544cd2bcc9f11b3965ad42",
       "max_height": null,
       "max_width": null,
       "min_height": null,
       "min_width": null,
       "ripple": null,
       "text": true,
       "to": null,
       "v_slots": [],
       "width": null
      }
     },
     "266afe4194e2411cb9adb632304f5c94": {
      "model_module": "@jupyter-widgets/base",
      "model_module_version": "1.2.0",
      "model_name": "LayoutModel",
      "state": {}
     },
     "268929e2d6d24635bb20b1a47fe99e6b": {
      "model_module": "jupyter-vuetify",
      "model_module_version": "^1.5.1",
      "model_name": "HtmlModel",
      "state": {
       "_events": [],
       "_jupyter_vue": "IPY_MODEL_bc2712ed128d4d47ba50f0f591fcb068",
       "_model_module_version": "^1.5.1",
       "_view_module_version": "^1.5.1",
       "attributes": {
        "href": "https://www.sandiegocounty.gov/content/sdc/hhsa/programs/phs/community_epidemiology/dc/2019-nCoV/status.html",
        "target": "_blank"
       },
       "children": [
        "County of San Diego"
       ],
       "layout": "IPY_MODEL_2734a61d73424a978d35b3490f405601",
       "tag": "a",
       "v_slots": []
      }
     },
     "26f2c52bdc814cab8347a9e79d5cd711": {
      "model_module": "@jupyter-widgets/base",
      "model_module_version": "1.2.0",
      "model_name": "LayoutModel",
      "state": {}
     },
     "270a79da53164f8bacdbfdc8b857f727": {
      "model_module": "@jupyter-widgets/base",
      "model_module_version": "1.2.0",
      "model_name": "LayoutModel",
      "state": {}
     },
     "2720d17c0d1d4a55a731c22cd353432b": {
      "model_module": "jupyter-vuetify",
      "model_module_version": "^1.5.1",
      "model_name": "HtmlModel",
      "state": {
       "_events": [],
       "_jupyter_vue": "IPY_MODEL_bc2712ed128d4d47ba50f0f591fcb068",
       "_model_module_version": "^1.5.1",
       "_view_module_version": "^1.5.1",
       "attributes": {},
       "children": [
        "All Covid-19 case data have been received from the Internet Archive. The original data have been prepared in PDF documents with the title \"Daily Coronavirus Disease 2019 (COVID-19) Summary of Cases by Zip Code of Residence\" by the County of San Diego, Health and Human Services Agency, Public Health Services, Epidemiology and Immunization Services Branch."
       ],
       "layout": "IPY_MODEL_06b6be3056e2485186b8af783c4bf016",
       "tag": "p",
       "v_slots": []
      }
     },
     "2734a61d73424a978d35b3490f405601": {
      "model_module": "@jupyter-widgets/base",
      "model_module_version": "1.2.0",
      "model_name": "LayoutModel",
      "state": {}
     },
     "275dcde1d7d64be99f31dbc670e5e2cf": {
      "model_module": "jupyter-vuetify",
      "model_module_version": "^1.5.1",
      "model_name": "HtmlModel",
      "state": {
       "_events": [],
       "_jupyter_vue": "IPY_MODEL_bc2712ed128d4d47ba50f0f591fcb068",
       "_model_module_version": "^1.5.1",
       "_view_module_version": "^1.5.1",
       "attributes": {},
       "children": [
        "All Covid-19 case data have been received from the Internet Archive. The original data have been prepared in PDF documents with the title \"Daily Coronavirus Disease 2019 (COVID-19) Summary of Cases by Zip Code of Residence\" by the County of San Diego, Health and Human Services Agency, Public Health Services, Epidemiology and Immunization Services Branch."
       ],
       "layout": "IPY_MODEL_1c0aef37185c4fba870277f685d7b824",
       "tag": "p",
       "v_slots": []
      }
     },
     "2766f92b2ecc420ca5f7bbee87cecc29": {
      "model_module": "jupyter-vuetify",
      "model_module_version": "^1.5.1",
      "model_name": "CardTitleModel",
      "state": {
       "_events": [],
       "_jupyter_vue": "IPY_MODEL_bc2712ed128d4d47ba50f0f591fcb068",
       "attributes": {},
       "children": [
        "Demographic Data"
       ],
       "layout": "IPY_MODEL_72593c368e6641fb99c503d00042d757",
       "v_slots": []
      }
     },
     "278b0bd85e5b45419748f4ed5f2bb3d6": {
      "model_module": "jupyter-vuetify",
      "model_module_version": "^1.5.1",
      "model_name": "CardModel",
      "state": {
       "_events": [],
       "_jupyter_vue": "IPY_MODEL_bc2712ed128d4d47ba50f0f591fcb068",
       "attributes": {},
       "children": [
        "IPY_MODEL_b523960c25a34782b39300b78ab177c3",
        "IPY_MODEL_e69523673a1e4a659aa1e4ba95632a23"
       ],
       "elevation": null,
       "height": null,
       "href": null,
       "layout": "IPY_MODEL_90e43ce4766d420c8ab8004b7d054e8a",
       "loader_height": null,
       "loading": null,
       "max_height": null,
       "max_width": null,
       "min_height": null,
       "min_width": null,
       "ripple": null,
       "to": null,
       "v_slots": [],
       "width": null
      }
     },
     "2794805b7dd2416abe88ef6a5aa7281c": {
      "model_module": "@jupyter-widgets/base",
      "model_module_version": "1.2.0",
      "model_name": "LayoutModel",
      "state": {}
     },
     "27b0fb95d44d4948932b8bd87439122a": {
      "model_module": "jupyter-vuetify",
      "model_module_version": "^1.5.1",
      "model_name": "BtnModel",
      "state": {
       "_events": [],
       "_jupyter_vue": "IPY_MODEL_bc2712ed128d4d47ba50f0f591fcb068",
       "attributes": {},
       "children": [
        "IPY_MODEL_a0429481e5654b6d91f6046b7ea73d52"
       ],
       "color": "blue",
       "elevation": null,
       "height": null,
       "href": null,
       "layout": "IPY_MODEL_05d5affc70604f43a4a99e969665140f",
       "max_height": null,
       "max_width": null,
       "min_height": null,
       "min_width": null,
       "ripple": null,
       "text": true,
       "to": null,
       "v_slots": [],
       "width": null
      }
     },
     "27b1c119433147b0bcac587400c4d02e": {
      "model_module": "jupyter-vuetify",
      "model_module_version": "^1.5.1",
      "model_name": "ColModel",
      "state": {
       "_events": [],
       "_jupyter_vue": "IPY_MODEL_bc2712ed128d4d47ba50f0f591fcb068",
       "attributes": {},
       "children": [
        "IPY_MODEL_19993011ad3b4a1e89080479a423e1d6"
       ],
       "cols": 6,
       "layout": "IPY_MODEL_005bd8f6795a47d89fcff8df9b3b31c1",
       "lg": null,
       "md": null,
       "offset": null,
       "offset_lg": null,
       "offset_md": null,
       "offset_sm": null,
       "offset_xl": null,
       "order": null,
       "order_lg": null,
       "order_md": null,
       "order_sm": null,
       "order_xl": null,
       "sm": null,
       "v_slots": [],
       "xl": null
      }
     },
     "27dcc70f39d340e7babc13a350ef161d": {
      "model_module": "jupyter-vuetify",
      "model_module_version": "^1.5.1",
      "model_name": "ContainerModel",
      "state": {
       "_events": [],
       "_jupyter_vue": "IPY_MODEL_bc2712ed128d4d47ba50f0f591fcb068",
       "attributes": {},
       "children": [
        "IPY_MODEL_c10a1b1e5d1f4fa1aa4b5903ae2e9b0e"
       ],
       "fluid": true,
       "layout": "IPY_MODEL_75bee60f6105459c857cd42bafe6a5fd",
       "v_slots": []
      }
     },
     "28195a6891e4475184f920e0c20ec8cd": {
      "model_module": "@jupyter-widgets/base",
      "model_module_version": "1.2.0",
      "model_name": "LayoutModel",
      "state": {}
     },
     "2821c8f438a1468c8d5363e756769dd4": {
      "model_module": "jupyter-vuetify",
      "model_module_version": "^1.5.1",
      "model_name": "BtnModel",
      "state": {
       "_events": [],
       "_jupyter_vue": "IPY_MODEL_bc2712ed128d4d47ba50f0f591fcb068",
       "attributes": {},
       "children": [
        "SANDAG Disclaimer"
       ],
       "color": "blue",
       "elevation": null,
       "height": null,
       "href": null,
       "layout": "IPY_MODEL_03d8d0d71a76409f8a7309fc2b572d36",
       "max_height": null,
       "max_width": null,
       "min_height": null,
       "min_width": null,
       "ripple": null,
       "text": true,
       "to": null,
       "v_slots": [],
       "width": null
      }
     },
     "28424c3a2a44425091eeb9cf9d635aa2": {
      "model_module": "@jupyter-widgets/base",
      "model_module_version": "1.2.0",
      "model_name": "LayoutModel",
      "state": {}
     },
     "2867e964a6124121aab6f0ba1b4d450f": {
      "model_module": "@jupyter-widgets/base",
      "model_module_version": "1.2.0",
      "model_name": "LayoutModel",
      "state": {}
     },
     "2878f8377df0402a934ec13314ed52a8": {
      "model_module": "@jupyter-widgets/base",
      "model_module_version": "1.2.0",
      "model_name": "LayoutModel",
      "state": {}
     },
     "287ad9f30ff8416984abeeb89a8dff21": {
      "model_module": "@jupyter-widgets/base",
      "model_module_version": "1.2.0",
      "model_name": "LayoutModel",
      "state": {}
     },
     "28bd0dfc347f4249af61f40b519d1304": {
      "model_module": "jupyter-vuetify",
      "model_module_version": "^1.5.1",
      "model_name": "CardActionsModel",
      "state": {
       "_events": [],
       "_jupyter_vue": "IPY_MODEL_bc2712ed128d4d47ba50f0f591fcb068",
       "attributes": {},
       "children": [
        "IPY_MODEL_4062d3dd3327441f9aaafb4ffc58c236",
        "IPY_MODEL_64ce3d8bc0d047a7bd9a9baaf9feea33",
        "IPY_MODEL_c80d2918dcb44998b97fcb301c3215ae"
       ],
       "layout": "IPY_MODEL_4b264b2731dd44269090748dfb857085",
       "v_slots": []
      }
     },
     "28ce667eb0584c1b94a204b836e595ab": {
      "model_module": "@jupyter-widgets/base",
      "model_module_version": "1.2.0",
      "model_name": "LayoutModel",
      "state": {}
     },
     "28db6a797fe8491ba8ae34c4dc7f2faf": {
      "model_module": "@jupyter-widgets/base",
      "model_module_version": "1.2.0",
      "model_name": "LayoutModel",
      "state": {}
     },
     "28ec1ac6e3a7489f9b2fcebff7ec86bd": {
      "model_module": "jupyter-vuetify",
      "model_module_version": "^1.5.1",
      "model_name": "HtmlModel",
      "state": {
       "_events": [],
       "_jupyter_vue": "IPY_MODEL_bc2712ed128d4d47ba50f0f591fcb068",
       "_model_module_version": "^1.5.1",
       "_view_module_version": "^1.5.1",
       "attributes": {
        "href": "https://web.archive.org/web/*/https://www.sandiegocounty.gov/content/dam/sdc/hhsa/programs/phs/Epidemiology/COVID-19%20Summary%20of%20Cases%20by%20Zip%20Code.pdf",
        "target": "_blank"
       },
       "children": [
        "Data Source"
       ],
       "layout": "IPY_MODEL_54b109e4c0a4424f884443796bd8d5ef",
       "tag": "a",
       "v_slots": []
      }
     },
     "292da25cb4a04012b6048f5a96543619": {
      "model_module": "@jupyter-widgets/base",
      "model_module_version": "1.2.0",
      "model_name": "LayoutModel",
      "state": {}
     },
     "29406ca94ce84babb6ebfc77017dc5a3": {
      "model_module": "jupyter-vuetify",
      "model_module_version": "^1.5.1",
      "model_name": "CardTitleModel",
      "state": {
       "_events": [],
       "_jupyter_vue": "IPY_MODEL_bc2712ed128d4d47ba50f0f591fcb068",
       "attributes": {},
       "children": [
        "About the Data"
       ],
       "layout": "IPY_MODEL_4642808194154f3a9d6b879e5c50a2ba",
       "v_slots": []
      }
     },
     "296402c01ae743eeb96a9bd6d2f6422e": {
      "model_module": "@jupyter-widgets/base",
      "model_module_version": "1.2.0",
      "model_name": "LayoutModel",
      "state": {}
     },
     "299a0f7ace254bfea1847fd309f843d7": {
      "model_module": "jupyter-vuetify",
      "model_module_version": "^1.5.1",
      "model_name": "ColModel",
      "state": {
       "_events": [],
       "_jupyter_vue": "IPY_MODEL_bc2712ed128d4d47ba50f0f591fcb068",
       "attributes": {},
       "children": [
        "IPY_MODEL_ef76e4f4a60c4c1da83f667e8865c151"
       ],
       "cols": 12,
       "layout": "IPY_MODEL_dfc610edf5884df086a3eab0ecdbbf49",
       "lg": null,
       "md": null,
       "offset": null,
       "offset_lg": null,
       "offset_md": null,
       "offset_sm": null,
       "offset_xl": null,
       "order": null,
       "order_lg": null,
       "order_md": null,
       "order_sm": null,
       "order_xl": null,
       "sm": null,
       "v_slots": [],
       "xl": null
      }
     },
     "29cd4ae70722454facd01a6331875d0a": {
      "model_module": "@jupyter-widgets/base",
      "model_module_version": "1.2.0",
      "model_name": "LayoutModel",
      "state": {}
     },
     "29d18b2befe340c48626621417912baa": {
      "model_module": "@jupyter-widgets/base",
      "model_module_version": "1.2.0",
      "model_name": "LayoutModel",
      "state": {}
     },
     "29e36a6fbbb2419287367176a351a713": {
      "model_module": "@jupyter-widgets/base",
      "model_module_version": "1.2.0",
      "model_name": "LayoutModel",
      "state": {}
     },
     "2a347fde38fe45fa84e71fdb62a43d99": {
      "model_module": "@jupyter-widgets/base",
      "model_module_version": "1.2.0",
      "model_name": "LayoutModel",
      "state": {}
     },
     "2a5020d9f2494cadbe260d1f3601f291": {
      "model_module": "@jupyter-widgets/base",
      "model_module_version": "1.2.0",
      "model_name": "LayoutModel",
      "state": {}
     },
     "2afa7294fc12479282a4323fe09154c3": {
      "model_module": "jupyter-vuetify",
      "model_module_version": "^1.5.1",
      "model_name": "ContainerModel",
      "state": {
       "_events": [],
       "_jupyter_vue": "IPY_MODEL_bc2712ed128d4d47ba50f0f591fcb068",
       "attributes": {},
       "children": [
        "IPY_MODEL_743d4b5b67ad4e3ea43d3cdb588be13a"
       ],
       "fluid": true,
       "layout": "IPY_MODEL_43571f4dea8e4deba84c673dece348ac",
       "v_slots": []
      }
     },
     "2b2315036f384645bf65072af485ea14": {
      "model_module": "@jupyter-widgets/base",
      "model_module_version": "1.2.0",
      "model_name": "LayoutModel",
      "state": {}
     },
     "2b280bca0acf4dd88073f7fa6e0ff670": {
      "model_module": "jupyter-vuetify",
      "model_module_version": "^1.5.1",
      "model_name": "CardTextModel",
      "state": {
       "_events": [],
       "_jupyter_vue": "IPY_MODEL_bc2712ed128d4d47ba50f0f591fcb068",
       "attributes": {},
       "children": [
        "lol"
       ],
       "layout": "IPY_MODEL_68c43a8dd35140078180fcb154b9701e",
       "v_slots": []
      }
     },
     "2b38471ac87e44a0a0f404676426f62c": {
      "model_module": "@jupyter-widgets/base",
      "model_module_version": "1.2.0",
      "model_name": "LayoutModel",
      "state": {}
     },
     "2b4e414c69de4649af0eb7febb9c1a56": {
      "model_module": "jupyter-vuetify",
      "model_module_version": "^1.5.1",
      "model_name": "HtmlModel",
      "state": {
       "_events": [],
       "_jupyter_vue": "IPY_MODEL_bc2712ed128d4d47ba50f0f591fcb068",
       "_model_module_version": "^1.5.1",
       "_view_module_version": "^1.5.1",
       "attributes": {},
       "children": [
        "All Covid-19 case data have been received from the Internet Archive. The original data have been prepared in PDF documents with the title \"Daily Coronavirus Disease 2019 (COVID-19) Summary of Cases by Zip Code of Residence\" by the County of San Diego, Health and Human Services Agency, Public Health Services, Epidemiology and Immunization Services Branch."
       ],
       "layout": "IPY_MODEL_72daab08078a4ec2bca12016f422cb19",
       "tag": "p",
       "v_slots": []
      }
     },
     "2b5954a3824749f88083d3df47c14970": {
      "model_module": "jupyter-vuetify",
      "model_module_version": "^1.5.1",
      "model_name": "HtmlModel",
      "state": {
       "_events": [],
       "_jupyter_vue": "IPY_MODEL_bc2712ed128d4d47ba50f0f591fcb068",
       "_model_module_version": "^1.5.1",
       "_view_module_version": "^1.5.1",
       "attributes": {},
       "children": [
        "lol"
       ],
       "class_": "text--primary",
       "layout": "IPY_MODEL_fc5398e2d2014eb8b8bae96725423b22",
       "tag": "div",
       "v_slots": []
      }
     },
     "2b8822cc825d4a668055a51f1ab6b3ff": {
      "model_module": "jupyter-vuetify",
      "model_module_version": "^1.5.1",
      "model_name": "CardTitleModel",
      "state": {
       "_events": [],
       "_jupyter_vue": "IPY_MODEL_bc2712ed128d4d47ba50f0f591fcb068",
       "attributes": {},
       "children": [
        "About the Data"
       ],
       "layout": "IPY_MODEL_3c89af2fe068456395275abb8a10256c",
       "v_slots": []
      }
     },
     "2b8b37ec134248b5a980a18c1e60e258": {
      "model_module": "@jupyter-widgets/base",
      "model_module_version": "1.2.0",
      "model_name": "LayoutModel",
      "state": {}
     },
     "2b98bbea5a45414d848b34288e060251": {
      "model_module": "@jupyter-widgets/base",
      "model_module_version": "1.2.0",
      "model_name": "LayoutModel",
      "state": {}
     },
     "2be0d3a3dec9401398e6d31d791d69e2": {
      "model_module": "jupyter-vuetify",
      "model_module_version": "^1.5.1",
      "model_name": "CardTitleModel",
      "state": {
       "_events": [],
       "_jupyter_vue": "IPY_MODEL_bc2712ed128d4d47ba50f0f591fcb068",
       "attributes": {},
       "children": [
        "ZIP Codes"
       ],
       "layout": "IPY_MODEL_7754327924d3487f983ef31c4e7ac844",
       "v_slots": []
      }
     },
     "2bf9c8fd78604ef0aeb8d96ea4ee122a": {
      "model_module": "@jupyter-widgets/base",
      "model_module_version": "1.2.0",
      "model_name": "LayoutModel",
      "state": {}
     },
     "2c0f4c161d9e4d14b34a5f657319fba6": {
      "model_module": "@jupyter-widgets/base",
      "model_module_version": "1.2.0",
      "model_name": "LayoutModel",
      "state": {}
     },
     "2c17683edc7c42e1a9e0e385b145a4b0": {
      "model_module": "jupyter-vuetify",
      "model_module_version": "^1.5.1",
      "model_name": "CardTitleModel",
      "state": {
       "_events": [],
       "_jupyter_vue": "IPY_MODEL_bc2712ed128d4d47ba50f0f591fcb068",
       "attributes": {},
       "children": [
        "ZIP Codes"
       ],
       "layout": "IPY_MODEL_c055f4355a3c480fb8868d3580222814",
       "v_slots": []
      }
     },
     "2c4bfeea78ea4fc993c5060a5f44afc1": {
      "model_module": "jupyter-vuetify",
      "model_module_version": "^1.5.1",
      "model_name": "CardModel",
      "state": {
       "_events": [],
       "_jupyter_vue": "IPY_MODEL_bc2712ed128d4d47ba50f0f591fcb068",
       "attributes": {},
       "children": [
        "IPY_MODEL_9083dd7c64ae48dca5b25b188e5f2cef",
        "IPY_MODEL_b8a02b1f07004b9fb0505497801506a9"
       ],
       "elevation": null,
       "height": null,
       "href": null,
       "layout": "IPY_MODEL_637c3cec232147c597494b905b6008ab",
       "loader_height": null,
       "loading": null,
       "max_height": null,
       "max_width": null,
       "min_height": null,
       "min_width": null,
       "ripple": null,
       "to": null,
       "v_slots": [],
       "width": null
      }
     },
     "2c9c027b5bdf4ec48e6eb34a930a279d": {
      "model_module": "@jupyter-widgets/base",
      "model_module_version": "1.2.0",
      "model_name": "LayoutModel",
      "state": {}
     },
     "2cbb44912bad4dbd94f2ed22fbdbe6d9": {
      "model_module": "@jupyter-widgets/base",
      "model_module_version": "1.2.0",
      "model_name": "LayoutModel",
      "state": {}
     },
     "2cc8dbb88679463ca7fdb93825f277de": {
      "model_module": "@jupyter-widgets/base",
      "model_module_version": "1.2.0",
      "model_name": "LayoutModel",
      "state": {}
     },
     "2d02595357f24fd0b697c60bba29d961": {
      "model_module": "@jupyter-widgets/base",
      "model_module_version": "1.2.0",
      "model_name": "LayoutModel",
      "state": {}
     },
     "2d4dd02b58c945308a76f151459570b8": {
      "model_module": "@jupyter-widgets/base",
      "model_module_version": "1.2.0",
      "model_name": "LayoutModel",
      "state": {}
     },
     "2d5a7570f71941ed8de97ae5e8875bfe": {
      "model_module": "@jupyter-widgets/base",
      "model_module_version": "1.2.0",
      "model_name": "LayoutModel",
      "state": {}
     },
     "2d74cca21e68405485e9ebf7256a040e": {
      "model_module": "jupyter-vuetify",
      "model_module_version": "^1.5.1",
      "model_name": "HtmlModel",
      "state": {
       "_events": [],
       "_jupyter_vue": "IPY_MODEL_bc2712ed128d4d47ba50f0f591fcb068",
       "_model_module_version": "^1.5.1",
       "_view_module_version": "^1.5.1",
       "attributes": {},
       "children": [
        "lol"
       ],
       "class_": "text--button",
       "layout": "IPY_MODEL_b8430fb9541c43f6a347415dd2f8f119",
       "tag": "div",
       "v_slots": []
      }
     },
     "2d83dcc4a5064c4698565f05ab2e7956": {
      "model_module": "jupyter-vuetify",
      "model_module_version": "^1.5.1",
      "model_name": "HtmlModel",
      "state": {
       "_events": [],
       "_jupyter_vue": "IPY_MODEL_bc2712ed128d4d47ba50f0f591fcb068",
       "_model_module_version": "^1.5.1",
       "_view_module_version": "^1.5.1",
       "attributes": {},
       "children": [
        "Original data source: San Diego County Communicable Disease Registry, SANDAG 2019 Population Estimates (Prepared June 2020)."
       ],
       "layout": "IPY_MODEL_13ef570fd8e2466db6116189b614b569",
       "tag": "p",
       "v_slots": []
      }
     },
     "2dc06a548be5419081cace4c7a164e96": {
      "model_module": "@jupyter-widgets/base",
      "model_module_version": "1.2.0",
      "model_name": "LayoutModel",
      "state": {}
     },
     "2de3fe0e55764369992d6ec53830d493": {
      "model_module": "jupyter-vuetify",
      "model_module_version": "^1.5.1",
      "model_name": "RowModel",
      "state": {
       "_events": [],
       "_jupyter_vue": "IPY_MODEL_bc2712ed128d4d47ba50f0f591fcb068",
       "attributes": {},
       "children": [
        "IPY_MODEL_7b4a011fb485485a9d947e223fb0a3a9",
        "IPY_MODEL_16342e9719e54997b3e6ec69c7f25827",
        "IPY_MODEL_12b950475f6344079c275045b3453fa1"
       ],
       "dense": true,
       "layout": "IPY_MODEL_0c84c4e6b9534119afe9bd7bfffbc666",
       "v_slots": []
      }
     },
     "2e378de25c024398918d16645ad23bba": {
      "model_module": "@jupyter-widgets/base",
      "model_module_version": "1.2.0",
      "model_name": "LayoutModel",
      "state": {}
     },
     "2ee2cfea88c34ebf8c742adeba91739e": {
      "model_module": "jupyter-vuetify",
      "model_module_version": "^1.5.1",
      "model_name": "CardTextModel",
      "state": {
       "_events": [],
       "_jupyter_vue": "IPY_MODEL_bc2712ed128d4d47ba50f0f591fcb068",
       "attributes": {},
       "children": [
        "lol"
       ],
       "layout": "IPY_MODEL_5c810a0500e446a89834a015b1c8feba",
       "v_slots": []
      }
     },
     "2ee7b7ea6e89416d8ac2f64e635c9123": {
      "model_module": "@jupyter-widgets/base",
      "model_module_version": "1.2.0",
      "model_name": "LayoutModel",
      "state": {}
     },
     "2f4c606c887a45e0a59b0d58458bc6c8": {
      "model_module": "jupyter-vuetify",
      "model_module_version": "^1.5.1",
      "model_name": "HtmlModel",
      "state": {
       "_events": [],
       "_jupyter_vue": "IPY_MODEL_bc2712ed128d4d47ba50f0f591fcb068",
       "_model_module_version": "^1.5.1",
       "_view_module_version": "^1.5.1",
       "attributes": {},
       "children": [
        "Data are usually updated from the Internet Archive once per day."
       ],
       "layout": "IPY_MODEL_c53be895f1d4405b92e9014e9701b403",
       "tag": "p",
       "v_slots": []
      }
     },
     "2f5074b30c7c41d3b670112eafa6132a": {
      "model_module": "@jupyter-widgets/base",
      "model_module_version": "1.2.0",
      "model_name": "LayoutModel",
      "state": {}
     },
     "2f6e4ac68f654bd8b347433c79eba791": {
      "model_module": "jupyter-vuetify",
      "model_module_version": "^1.5.1",
      "model_name": "RowModel",
      "state": {
       "_events": [],
       "_jupyter_vue": "IPY_MODEL_bc2712ed128d4d47ba50f0f591fcb068",
       "attributes": {},
       "children": [
        "IPY_MODEL_4faa5c0d06f54e4288c1b195dc1a0e4c",
        "IPY_MODEL_16a3658f9b9b45c287c55ce5d1eeff46",
        "IPY_MODEL_85083790cdd2428ebec79d7678ff3e38"
       ],
       "dense": true,
       "layout": "IPY_MODEL_c12c7caf8b5346b3813ba61e93c9cb4d",
       "v_slots": []
      }
     },
     "2f7a23602ac5430f995901f00a530622": {
      "model_module": "jupyter-vuetify",
      "model_module_version": "^1.5.1",
      "model_name": "HtmlModel",
      "state": {
       "_events": [],
       "_jupyter_vue": "IPY_MODEL_bc2712ed128d4d47ba50f0f591fcb068",
       "_model_module_version": "^1.5.1",
       "_view_module_version": "^1.5.1",
       "attributes": {
        "href": "https://web.archive.org/web/*/https://www.sandiegocounty.gov/content/dam/sdc/hhsa/programs/phs/Epidemiology/COVID-19%20Summary%20of%20Cases%20by%20Zip%20Code.pdf",
        "target": "_blank"
       },
       "children": [
        "Data Source"
       ],
       "layout": "IPY_MODEL_39a1bf41545d41b58798bbda19643408",
       "tag": "a",
       "v_slots": []
      }
     },
     "2fa6bc2a8c2142cb829175b196472bfa": {
      "model_module": "@jupyter-widgets/base",
      "model_module_version": "1.2.0",
      "model_name": "LayoutModel",
      "state": {}
     },
     "2fbafd69e1ca40e7acc7244142cfa29e": {
      "model_module": "jupyter-vuetify",
      "model_module_version": "^1.5.1",
      "model_name": "CardTextModel",
      "state": {
       "_events": [],
       "_jupyter_vue": "IPY_MODEL_bc2712ed128d4d47ba50f0f591fcb068",
       "attributes": {},
       "children": [
        "This section informs about the sources of the data that are used in this dashboard."
       ],
       "layout": "IPY_MODEL_9faf0f48e45d49bea0394a6604cfa2aa",
       "v_slots": []
      }
     },
     "2fe98793b26143d2b480d3781d0043dd": {
      "model_module": "jupyter-vuetify",
      "model_module_version": "^1.5.1",
      "model_name": "CardTitleModel",
      "state": {
       "_events": [],
       "_jupyter_vue": "IPY_MODEL_bc2712ed128d4d47ba50f0f591fcb068",
       "attributes": {},
       "children": [
        "About the Data"
       ],
       "layout": "IPY_MODEL_166eac3d085b4195a0aa2b1703577f7f",
       "v_slots": []
      }
     },
     "301370862de34123adc5be73682ea13a": {
      "model_module": "@jupyter-widgets/base",
      "model_module_version": "1.2.0",
      "model_name": "LayoutModel",
      "state": {}
     },
     "3031cbb788aa42deabb753cda2534d62": {
      "model_module": "jupyter-vuetify",
      "model_module_version": "^1.5.1",
      "model_name": "ContainerModel",
      "state": {
       "_events": [],
       "_jupyter_vue": "IPY_MODEL_bc2712ed128d4d47ba50f0f591fcb068",
       "attributes": {},
       "children": [
        "IPY_MODEL_b206419ce5e14ecfaaed0722efdbac62"
       ],
       "fluid": true,
       "layout": "IPY_MODEL_d7749e54b17d47e19644d2086bb1182f",
       "v_slots": []
      }
     },
     "3032e92bb58e4a44832e9d2ced46d505": {
      "model_module": "@jupyter-widgets/base",
      "model_module_version": "1.2.0",
      "model_name": "LayoutModel",
      "state": {}
     },
     "303308146759495cb600a77f4917b072": {
      "model_module": "@jupyter-widgets/base",
      "model_module_version": "1.2.0",
      "model_name": "LayoutModel",
      "state": {}
     },
     "30385f1492e741bc8366ff0e5746f885": {
      "model_module": "jupyter-vuetify",
      "model_module_version": "^1.5.1",
      "model_name": "CardTitleModel",
      "state": {
       "_events": [],
       "_jupyter_vue": "IPY_MODEL_bc2712ed128d4d47ba50f0f591fcb068",
       "attributes": {},
       "children": [
        "ZIP Codes"
       ],
       "layout": "IPY_MODEL_e2e00265b7594858b8f8a244ae67170b",
       "v_slots": []
      }
     },
     "30c32501010f43afb29ff53eb6c124eb": {
      "model_module": "jupyter-vuetify",
      "model_module_version": "^1.5.1",
      "model_name": "CardTextModel",
      "state": {
       "_events": [],
       "_jupyter_vue": "IPY_MODEL_bc2712ed128d4d47ba50f0f591fcb068",
       "attributes": {},
       "children": [
        "The ZIP code boundaries shown in all maps are taken from the SANDAG/SanGIS Open Data Portal."
       ],
       "layout": "IPY_MODEL_628a21ff32ff4464a4152e03d1036271",
       "v_slots": []
      }
     },
     "30cc4e28db4945f581d8b2f5bd1dc807": {
      "model_module": "@jupyter-widgets/base",
      "model_module_version": "1.2.0",
      "model_name": "LayoutModel",
      "state": {}
     },
     "30ce45ac4b6748fda1dbb65cbc2b9fb7": {
      "model_module": "@jupyter-widgets/base",
      "model_module_version": "1.2.0",
      "model_name": "LayoutModel",
      "state": {}
     },
     "30e834540f04474c9c5262972378d068": {
      "model_module": "@jupyter-widgets/base",
      "model_module_version": "1.2.0",
      "model_name": "LayoutModel",
      "state": {}
     },
     "30ee28f222f647889a76aeeb45a645da": {
      "model_module": "@jupyter-widgets/base",
      "model_module_version": "1.2.0",
      "model_name": "LayoutModel",
      "state": {}
     },
     "3106f04abda5480d98c422c4585d3c62": {
      "model_module": "@jupyter-widgets/base",
      "model_module_version": "1.2.0",
      "model_name": "LayoutModel",
      "state": {}
     },
     "312a4f595ef14b6880dbd264bc8d1c3f": {
      "model_module": "@jupyter-widgets/base",
      "model_module_version": "1.2.0",
      "model_name": "LayoutModel",
      "state": {}
     },
     "31ada7e54f0d427695dee79489ff384c": {
      "model_module": "jupyter-vuetify",
      "model_module_version": "^1.5.1",
      "model_name": "BtnModel",
      "state": {
       "_events": [],
       "_jupyter_vue": "IPY_MODEL_bc2712ed128d4d47ba50f0f591fcb068",
       "attributes": {},
       "children": [
        "IPY_MODEL_fccf9606747a4fd8b08c0eb87d3ab974"
       ],
       "color": "blue",
       "elevation": null,
       "height": null,
       "href": null,
       "layout": "IPY_MODEL_91fe5b161b8f4e9fbc8a65427a11ddb1",
       "max_height": null,
       "max_width": null,
       "min_height": null,
       "min_width": null,
       "ripple": null,
       "text": true,
       "to": null,
       "v_slots": [],
       "width": null
      }
     },
     "31f0afff616c4373905896c62a443775": {
      "model_module": "jupyter-vuetify",
      "model_module_version": "^1.5.1",
      "model_name": "HtmlModel",
      "state": {
       "_events": [],
       "_jupyter_vue": "IPY_MODEL_bc2712ed128d4d47ba50f0f591fcb068",
       "_model_module_version": "^1.5.1",
       "_view_module_version": "^1.5.1",
       "attributes": {},
       "children": [
        "Original data source: San Diego County Communicable Disease Registry, SANDAG 2019 Population Estimates (Prepared June 2020)."
       ],
       "layout": "IPY_MODEL_8933d0c644724cb186dfc2bf8fd0a2c7",
       "tag": "p",
       "v_slots": []
      }
     },
     "3216be42278c4d129dfe4d32e75594dd": {
      "model_module": "jupyter-vuetify",
      "model_module_version": "^1.5.1",
      "model_name": "CardModel",
      "state": {
       "_events": [],
       "_jupyter_vue": "IPY_MODEL_bc2712ed128d4d47ba50f0f591fcb068",
       "attributes": {},
       "children": [
        "IPY_MODEL_c962eadd32f242c8b9372190a0ab6619",
        "IPY_MODEL_d6234a12fb294405af19f925dde4ea72"
       ],
       "elevation": null,
       "height": null,
       "href": null,
       "layout": "IPY_MODEL_f3fe047fea134e01a112a3588fef4be6",
       "loader_height": null,
       "loading": null,
       "max_height": null,
       "max_width": null,
       "min_height": null,
       "min_width": null,
       "ripple": null,
       "to": null,
       "v_slots": [],
       "width": null
      }
     },
     "321c27c2b7584091a6c25f6c783a6558": {
      "model_module": "jupyter-vuetify",
      "model_module_version": "^1.5.1",
      "model_name": "CardTextModel",
      "state": {
       "_events": [],
       "_jupyter_vue": "IPY_MODEL_bc2712ed128d4d47ba50f0f591fcb068",
       "attributes": {},
       "children": [
        "lol"
       ],
       "layout": "IPY_MODEL_497bd2006460489992f25061eea87d9b",
       "v_slots": []
      }
     },
     "328ae49b149e4ae387153783e07202c4": {
      "model_module": "jupyter-vuetify",
      "model_module_version": "^1.5.1",
      "model_name": "HtmlModel",
      "state": {
       "_events": [],
       "_jupyter_vue": "IPY_MODEL_bc2712ed128d4d47ba50f0f591fcb068",
       "_model_module_version": "^1.5.1",
       "_view_module_version": "^1.5.1",
       "attributes": {
        "href": "https://sdgis-sandag.opendata.arcgis.com/datasets/zip-code"
       },
       "children": [
        "Dataset"
       ],
       "layout": "IPY_MODEL_60b69a48cd0d48d48d187e1dde202ec2",
       "tag": "a",
       "v_slots": []
      }
     },
     "32b874dc89214f20a044561ddc4e6fe0": {
      "model_module": "jupyter-vuetify",
      "model_module_version": "^1.5.1",
      "model_name": "BtnModel",
      "state": {
       "_events": [],
       "_jupyter_vue": "IPY_MODEL_bc2712ed128d4d47ba50f0f591fcb068",
       "attributes": {},
       "children": [
        "SANDAG Disclaimer"
       ],
       "color": "accent",
       "elevation": null,
       "height": null,
       "href": null,
       "layout": "IPY_MODEL_4fe034aab98e46a8958e99f8904e2abc",
       "max_height": null,
       "max_width": null,
       "min_height": null,
       "min_width": null,
       "ripple": null,
       "text": true,
       "to": null,
       "v_slots": [],
       "width": null
      }
     },
     "32dd2f1bc7fd44c1bb4d128932b6517b": {
      "model_module": "@jupyter-widgets/base",
      "model_module_version": "1.2.0",
      "model_name": "LayoutModel",
      "state": {}
     },
     "32e06db39bdd42bfa731ae4c55228708": {
      "model_module": "jupyter-vuetify",
      "model_module_version": "^1.5.1",
      "model_name": "CardModel",
      "state": {
       "_events": [],
       "_jupyter_vue": "IPY_MODEL_bc2712ed128d4d47ba50f0f591fcb068",
       "attributes": {},
       "children": [
        "IPY_MODEL_1e0bf401adf74e1b9d6d1244a788350f",
        "IPY_MODEL_234050d0dd9842f7aa4320a197431214"
       ],
       "elevation": null,
       "height": null,
       "href": null,
       "layout": "IPY_MODEL_7a65c2446dda4c86bac35d23acaf933b",
       "loader_height": null,
       "loading": null,
       "max_height": null,
       "max_width": null,
       "min_height": null,
       "min_width": null,
       "ripple": null,
       "to": null,
       "v_slots": [],
       "width": null
      }
     },
     "32e92e73e362463b88318dd47e4d53e9": {
      "model_module": "jupyter-vuetify",
      "model_module_version": "^1.5.1",
      "model_name": "CardTextModel",
      "state": {
       "_events": [],
       "_jupyter_vue": "IPY_MODEL_bc2712ed128d4d47ba50f0f591fcb068",
       "attributes": {},
       "children": [
        "lol"
       ],
       "layout": "IPY_MODEL_cfa5c6c6004443ea9fb357cb490d90d7",
       "v_slots": []
      }
     },
     "32f5fd4803a8424c8ae94fa76dba2739": {
      "model_module": "@jupyter-widgets/base",
      "model_module_version": "1.2.0",
      "model_name": "LayoutModel",
      "state": {}
     },
     "330cf9412a5846e1b8bed25270e9ff24": {
      "model_module": "jupyter-vuetify",
      "model_module_version": "^1.5.1",
      "model_name": "BtnModel",
      "state": {
       "_events": [],
       "_jupyter_vue": "IPY_MODEL_bc2712ed128d4d47ba50f0f591fcb068",
       "attributes": {},
       "children": [
        "IPY_MODEL_efcda9352ba248889068474c16690f60"
       ],
       "color": "blue",
       "elevation": null,
       "height": null,
       "href": null,
       "layout": "IPY_MODEL_b89c5a30bd7a44adbb444b89aa31e2a9",
       "max_height": null,
       "max_width": null,
       "min_height": null,
       "min_width": null,
       "ripple": null,
       "text": true,
       "to": null,
       "v_slots": [],
       "width": null
      }
     },
     "33583bdb1b594519b1bbf133441dcdab": {
      "model_module": "jupyter-vuetify",
      "model_module_version": "^1.5.1",
      "model_name": "ContainerModel",
      "state": {
       "_events": [],
       "_jupyter_vue": "IPY_MODEL_bc2712ed128d4d47ba50f0f591fcb068",
       "attributes": {},
       "children": [
        "IPY_MODEL_ca155a8eda8848e99ddf0148e404959a"
       ],
       "fluid": true,
       "layout": "IPY_MODEL_8fb0714d020f43c7b5ea69fd8cbe19d0",
       "v_slots": []
      }
     },
     "335e00b29c4d44cea1aa3723b59b361d": {
      "model_module": "@jupyter-widgets/base",
      "model_module_version": "1.2.0",
      "model_name": "LayoutModel",
      "state": {}
     },
     "33628fc046b543538f51273f4bbaa8d6": {
      "model_module": "@jupyter-widgets/base",
      "model_module_version": "1.2.0",
      "model_name": "LayoutModel",
      "state": {}
     },
     "3373f18c12ee421bb4c626ce61fc3a9c": {
      "model_module": "jupyter-vuetify",
      "model_module_version": "^1.5.1",
      "model_name": "CardTitleModel",
      "state": {
       "_events": [],
       "_jupyter_vue": "IPY_MODEL_bc2712ed128d4d47ba50f0f591fcb068",
       "attributes": {},
       "children": [
        "About the Data"
       ],
       "layout": "IPY_MODEL_b59b449ef4cd452f9d1137825d35eaa9",
       "v_slots": []
      }
     },
     "338cd1d600e149a9a2ccca41bc7aec0e": {
      "model_module": "jupyter-vuetify",
      "model_module_version": "^1.5.1",
      "model_name": "ContainerModel",
      "state": {
       "_events": [],
       "_jupyter_vue": "IPY_MODEL_bc2712ed128d4d47ba50f0f591fcb068",
       "attributes": {},
       "children": [
        "IPY_MODEL_a82c5b85cbe44115b179d63ca81d908b"
       ],
       "fluid": true,
       "layout": "IPY_MODEL_722f9f51902e478096015448921afbaf",
       "v_slots": []
      }
     },
     "33c2fbaf548b472d906c6788b6cca815": {
      "model_module": "jupyter-vuetify",
      "model_module_version": "^1.5.1",
      "model_name": "CardModel",
      "state": {
       "_events": [],
       "_jupyter_vue": "IPY_MODEL_bc2712ed128d4d47ba50f0f591fcb068",
       "attributes": {},
       "children": [
        "IPY_MODEL_b11edc1653d14d739f659f512fa775d6",
        "IPY_MODEL_5454297a139347d7ae9b69e741ea2db2",
        "IPY_MODEL_f81181a0d3db48439832e688e547de0f"
       ],
       "elevation": null,
       "height": null,
       "href": null,
       "layout": "IPY_MODEL_bc676ab91826427f9355027bb8649a54",
       "loader_height": null,
       "loading": null,
       "max_height": null,
       "max_width": null,
       "min_height": null,
       "min_width": null,
       "ripple": null,
       "to": null,
       "v_slots": [],
       "width": null
      }
     },
     "33e08f2ab18c4aa18e598f52febcf9d2": {
      "model_module": "jupyter-vuetify",
      "model_module_version": "^1.5.1",
      "model_name": "CardTextModel",
      "state": {
       "_events": [],
       "_jupyter_vue": "IPY_MODEL_bc2712ed128d4d47ba50f0f591fcb068",
       "attributes": {},
       "children": [
        "IPY_MODEL_75c6c092a470469180e150cb3cbfe78f"
       ],
       "layout": "IPY_MODEL_e6cd48f43d1040f4b50309f2fbdfa30f",
       "v_slots": []
      }
     },
     "3419006b3ae143ac84dba3f77b098c49": {
      "model_module": "@jupyter-widgets/base",
      "model_module_version": "1.2.0",
      "model_name": "LayoutModel",
      "state": {}
     },
     "3450f32d67f548c2bb7be7e9f7ea67f3": {
      "model_module": "jupyter-vuetify",
      "model_module_version": "^1.5.1",
      "model_name": "HtmlModel",
      "state": {
       "_events": [],
       "_jupyter_vue": "IPY_MODEL_bc2712ed128d4d47ba50f0f591fcb068",
       "_model_module_version": "^1.5.1",
       "_view_module_version": "^1.5.1",
       "attributes": {},
       "children": [
        "All Covid-19 case data have been received from the Internet Archive. The original data have been prepared in PDF documents with the title \"Daily Coronavirus Disease 2019 (COVID-19) Summary of Cases by Zip Code of Residence\" by the County of San Diego, Health and Human Services Agency, Public Health Services, Epidemiology and Immunization Services Branch."
       ],
       "layout": "IPY_MODEL_0b1376f5e5084847bb53cdfd6caf0fae",
       "tag": "p",
       "v_slots": []
      }
     },
     "34ca2deae49c4bb5833163f509f154ac": {
      "model_module": "@jupyter-widgets/base",
      "model_module_version": "1.2.0",
      "model_name": "LayoutModel",
      "state": {}
     },
     "34cc382995864fbf9194bb71fbbd2e70": {
      "model_module": "@jupyter-widgets/base",
      "model_module_version": "1.2.0",
      "model_name": "LayoutModel",
      "state": {}
     },
     "34ddce6ec83a4398a405580131171d03": {
      "model_module": "jupyter-vuetify",
      "model_module_version": "^1.5.1",
      "model_name": "HtmlModel",
      "state": {
       "_events": [],
       "_jupyter_vue": "IPY_MODEL_bc2712ed128d4d47ba50f0f591fcb068",
       "_model_module_version": "^1.5.1",
       "_view_module_version": "^1.5.1",
       "attributes": {
        "href": "https://sandag.org/resources/maps_and_gis/gis_downloads/disclaimer.asp",
        "target": "_blank"
       },
       "children": [
        "Disclaimer"
       ],
       "layout": "IPY_MODEL_f72670c892b446a38f4db6e1e61e1d73",
       "tag": "a",
       "v_slots": []
      }
     },
     "34f0ce5507e64eee9415bf5f853096fb": {
      "model_module": "@jupyter-widgets/base",
      "model_module_version": "1.2.0",
      "model_name": "LayoutModel",
      "state": {}
     },
     "3500da67926d4b7eacf174ea9545a3a9": {
      "model_module": "jupyter-vuetify",
      "model_module_version": "^1.5.1",
      "model_name": "CardTitleModel",
      "state": {
       "_events": [],
       "_jupyter_vue": "IPY_MODEL_bc2712ed128d4d47ba50f0f591fcb068",
       "attributes": {},
       "children": [
        "About the Data"
       ],
       "layout": "IPY_MODEL_defaf5fba29d4af78298fc4fa90a4590",
       "v_slots": []
      }
     },
     "35652ea128b74f18862bbe653047c363": {
      "model_module": "@jupyter-widgets/base",
      "model_module_version": "1.2.0",
      "model_name": "LayoutModel",
      "state": {}
     },
     "357e3b874e6a4730a6e421ed946f14cd": {
      "model_module": "jupyter-vuetify",
      "model_module_version": "^1.5.1",
      "model_name": "BtnModel",
      "state": {
       "_events": [],
       "_jupyter_vue": "IPY_MODEL_bc2712ed128d4d47ba50f0f591fcb068",
       "attributes": {},
       "children": [
        "IPY_MODEL_a4c1dc6f8e8d48bc9af6726d940cdc12"
       ],
       "color": "blue",
       "elevation": null,
       "height": null,
       "href": null,
       "layout": "IPY_MODEL_0bf83853f83b4c479c8f71bd2d5f82d4",
       "max_height": null,
       "max_width": null,
       "min_height": null,
       "min_width": null,
       "ripple": null,
       "text": true,
       "to": null,
       "v_slots": [],
       "width": null
      }
     },
     "35b7acf4e3184e06a672921e199d1120": {
      "model_module": "jupyter-vuetify",
      "model_module_version": "^1.5.1",
      "model_name": "CardModel",
      "state": {
       "_events": [],
       "_jupyter_vue": "IPY_MODEL_bc2712ed128d4d47ba50f0f591fcb068",
       "attributes": {},
       "children": [
        "IPY_MODEL_82aa302d5b884e78b87c4010befd2a53",
        "IPY_MODEL_d703c3de8112436494c5f787dc9d11d2"
       ],
       "elevation": null,
       "height": null,
       "href": null,
       "layout": "IPY_MODEL_56a7829a51d44ceab96880d542f8805e",
       "loader_height": null,
       "loading": null,
       "max_height": null,
       "max_width": null,
       "min_height": null,
       "min_width": null,
       "ripple": null,
       "to": null,
       "v_slots": [],
       "width": null
      }
     },
     "35c4f718c8094e71a20e2f6b3b636002": {
      "model_module": "jupyter-vuetify",
      "model_module_version": "^1.5.1",
      "model_name": "BtnModel",
      "state": {
       "_events": [],
       "_jupyter_vue": "IPY_MODEL_bc2712ed128d4d47ba50f0f591fcb068",
       "attributes": {},
       "children": [
        "IPY_MODEL_6a671574e1704658b911f115b2cbf783"
       ],
       "color": "blue",
       "elevation": null,
       "height": null,
       "href": null,
       "layout": "IPY_MODEL_5c2560494bf84df99ab8269a3a6cb1eb",
       "max_height": null,
       "max_width": null,
       "min_height": null,
       "min_width": null,
       "ripple": null,
       "text": true,
       "to": null,
       "v_slots": [],
       "width": null
      }
     },
     "35c8874d3df747ee9b9ba89f616f695f": {
      "model_module": "jupyter-vuetify",
      "model_module_version": "^1.5.1",
      "model_name": "CardTitleModel",
      "state": {
       "_events": [],
       "_jupyter_vue": "IPY_MODEL_bc2712ed128d4d47ba50f0f591fcb068",
       "attributes": {},
       "children": [
        "About the Data"
       ],
       "layout": "IPY_MODEL_1f588c2fdd41429a87bd9991611c3a6c",
       "v_slots": []
      }
     },
     "35e4c831afbd4364b92f790367fb7c3c": {
      "model_module": "jupyter-vuetify",
      "model_module_version": "^1.5.1",
      "model_name": "CardTextModel",
      "state": {
       "_events": [],
       "_jupyter_vue": "IPY_MODEL_bc2712ed128d4d47ba50f0f591fcb068",
       "attributes": {},
       "children": [
        "The ZIP code boundaries shown in all maps are taken from the SANDAG/SanGIS Open Data Portal."
       ],
       "layout": "IPY_MODEL_5e968fa3f674454d8a4cdf1ed16954b2",
       "v_slots": []
      }
     },
     "360883912f8b491184ed5118bf6e362a": {
      "model_module": "jupyter-vuetify",
      "model_module_version": "^1.5.1",
      "model_name": "CardTextModel",
      "state": {
       "_events": [],
       "_jupyter_vue": "IPY_MODEL_bc2712ed128d4d47ba50f0f591fcb068",
       "attributes": {},
       "children": [
        "This section informs about the sources of the data that are used in this dashboard."
       ],
       "layout": "IPY_MODEL_ba0516cb65b34d58bb466fe3370e342f",
       "v_slots": []
      }
     },
     "3650adba27f6485c81b0d58066b91516": {
      "model_module": "@jupyter-widgets/base",
      "model_module_version": "1.2.0",
      "model_name": "LayoutModel",
      "state": {}
     },
     "369c3b308cee4856919609015ed42ae3": {
      "model_module": "jupyter-vuetify",
      "model_module_version": "^1.5.1",
      "model_name": "ColModel",
      "state": {
       "_events": [],
       "_jupyter_vue": "IPY_MODEL_bc2712ed128d4d47ba50f0f591fcb068",
       "attributes": {},
       "children": [
        "IPY_MODEL_73abd90f982c42b49b39cfd91b523928"
       ],
       "cols": 12,
       "layout": "IPY_MODEL_68f29a1912024b0eb191521254858fa5",
       "lg": null,
       "md": null,
       "offset": null,
       "offset_lg": null,
       "offset_md": null,
       "offset_sm": null,
       "offset_xl": null,
       "order": null,
       "order_lg": null,
       "order_md": null,
       "order_sm": null,
       "order_xl": null,
       "sm": null,
       "v_slots": [],
       "xl": null
      }
     },
     "36cc79d97e22409ea1fe47877b555a39": {
      "model_module": "@jupyter-widgets/base",
      "model_module_version": "1.2.0",
      "model_name": "LayoutModel",
      "state": {}
     },
     "36cee433520b43d39c8ee54333f0a28e": {
      "model_module": "jupyter-vuetify",
      "model_module_version": "^1.5.1",
      "model_name": "HtmlModel",
      "state": {
       "_events": [],
       "_jupyter_vue": "IPY_MODEL_bc2712ed128d4d47ba50f0f591fcb068",
       "_model_module_version": "^1.5.1",
       "_view_module_version": "^1.5.1",
       "attributes": {
        "href": "https://sdgis-sandag.opendata.arcgis.com/datasets/zip-code",
        "target": "_blank"
       },
       "children": [
        "Dataset"
       ],
       "layout": "IPY_MODEL_f9e12a36c4d744e09525e8add4a1a696",
       "tag": "a",
       "v_slots": []
      }
     },
     "37038092b4c54ced9cc82a042eac1032": {
      "model_module": "@jupyter-widgets/base",
      "model_module_version": "1.2.0",
      "model_name": "LayoutModel",
      "state": {}
     },
     "378e30d04d884d15b5c2db8b006c91cd": {
      "model_module": "jupyter-vuetify",
      "model_module_version": "^1.5.1",
      "model_name": "ColModel",
      "state": {
       "_events": [],
       "_jupyter_vue": "IPY_MODEL_bc2712ed128d4d47ba50f0f591fcb068",
       "attributes": {},
       "children": [
        "IPY_MODEL_d42da7bbef464df9875bc1134b61ad3c"
       ],
       "cols": 12,
       "layout": "IPY_MODEL_cd1b6e99e67447dfb2790b4ab9f4f921",
       "lg": null,
       "md": null,
       "offset": null,
       "offset_lg": null,
       "offset_md": null,
       "offset_sm": null,
       "offset_xl": null,
       "order": null,
       "order_lg": null,
       "order_md": null,
       "order_sm": null,
       "order_xl": null,
       "sm": null,
       "v_slots": [],
       "xl": null
      }
     },
     "37aa612aa78448ea8a4fcb5196404688": {
      "model_module": "@jupyter-widgets/base",
      "model_module_version": "1.2.0",
      "model_name": "LayoutModel",
      "state": {}
     },
     "37d4cd8d605e4a388da434988a90ee4e": {
      "model_module": "jupyter-vuetify",
      "model_module_version": "^1.5.1",
      "model_name": "HtmlModel",
      "state": {
       "_events": [],
       "_jupyter_vue": "IPY_MODEL_bc2712ed128d4d47ba50f0f591fcb068",
       "_model_module_version": "^1.5.1",
       "_view_module_version": "^1.5.1",
       "attributes": {},
       "children": [
        "lol"
       ],
       "class_": "text--primary",
       "layout": "IPY_MODEL_9f5bd4578bb34b7ab2d00d78c482ec6a",
       "tag": "p",
       "v_slots": []
      }
     },
     "37f0c291e6a54655bd65d625400d1ca2": {
      "model_module": "jupyter-vuetify",
      "model_module_version": "^1.5.1",
      "model_name": "CardTitleModel",
      "state": {
       "_events": [],
       "_jupyter_vue": "IPY_MODEL_bc2712ed128d4d47ba50f0f591fcb068",
       "attributes": {},
       "children": [
        "ZIP Codes"
       ],
       "layout": "IPY_MODEL_301370862de34123adc5be73682ea13a",
       "v_slots": []
      }
     },
     "37f6e4a356c740b2b29c3384c1056b30": {
      "model_module": "@jupyter-widgets/base",
      "model_module_version": "1.2.0",
      "model_name": "LayoutModel",
      "state": {}
     },
     "3803160de2634e71a1e9bee0aa9f5c31": {
      "model_module": "@jupyter-widgets/base",
      "model_module_version": "1.2.0",
      "model_name": "LayoutModel",
      "state": {}
     },
     "382885d570a24921ba87e3b9aa0e046f": {
      "model_module": "jupyter-vuetify",
      "model_module_version": "^1.5.1",
      "model_name": "ColModel",
      "state": {
       "_events": [],
       "_jupyter_vue": "IPY_MODEL_bc2712ed128d4d47ba50f0f591fcb068",
       "attributes": {},
       "children": [
        "IPY_MODEL_4f1367588d1a4d67bee18942aae8d3ec"
       ],
       "cols": 12,
       "layout": "IPY_MODEL_e0487ee32651410faff5c479e1a1ea90",
       "lg": null,
       "md": null,
       "offset": null,
       "offset_lg": null,
       "offset_md": null,
       "offset_sm": null,
       "offset_xl": null,
       "order": null,
       "order_lg": null,
       "order_md": null,
       "order_sm": null,
       "order_xl": null,
       "sm": null,
       "v_slots": [],
       "xl": null
      }
     },
     "38344e25e81c46708cad0b636d7f2e22": {
      "model_module": "@jupyter-widgets/base",
      "model_module_version": "1.2.0",
      "model_name": "LayoutModel",
      "state": {}
     },
     "38466d4f9c37401ab143d727e8206dc8": {
      "model_module": "@jupyter-widgets/base",
      "model_module_version": "1.2.0",
      "model_name": "LayoutModel",
      "state": {}
     },
     "3869b2b1acdb460f9099030a6c125ab0": {
      "model_module": "jupyter-vuetify",
      "model_module_version": "^1.5.1",
      "model_name": "HtmlModel",
      "state": {
       "_events": [],
       "_jupyter_vue": "IPY_MODEL_bc2712ed128d4d47ba50f0f591fcb068",
       "_model_module_version": "^1.5.1",
       "_view_module_version": "^1.5.1",
       "attributes": {},
       "children": [
        "Zip code is zip code of residence, which may not be location of exposure. Rates based on small case counts may vary considerably and should be interpreted with caution.",
        "Data are preliminary and subject to change. Total population=3,351,784."
       ],
       "layout": "IPY_MODEL_2491b8ca60a2494ebf459c2396d56d63",
       "tag": "p",
       "v_slots": []
      }
     },
     "38e8e2714bff41e0b920599e4a21fc8c": {
      "model_module": "jupyter-vuetify",
      "model_module_version": "^1.5.1",
      "model_name": "CardTitleModel",
      "state": {
       "_events": [],
       "_jupyter_vue": "IPY_MODEL_bc2712ed128d4d47ba50f0f591fcb068",
       "attributes": {},
       "children": [
        "ZIP Codes"
       ],
       "layout": "IPY_MODEL_75412e14a4e646ffa2c6875dca486610",
       "v_slots": []
      }
     },
     "38ec4606861142a0b5f00ecc1f57cf96": {
      "model_module": "jupyter-vuetify",
      "model_module_version": "^1.5.1",
      "model_name": "CardTitleModel",
      "state": {
       "_events": [],
       "_jupyter_vue": "IPY_MODEL_bc2712ed128d4d47ba50f0f591fcb068",
       "attributes": {},
       "children": [
        "ZIP Codes"
       ],
       "layout": "IPY_MODEL_68f4e5d74c2b4669a423aacc8b789696",
       "v_slots": []
      }
     },
     "39562663614a49d39a129bf78d4396a9": {
      "model_module": "jupyter-vuetify",
      "model_module_version": "^1.5.1",
      "model_name": "CardTitleModel",
      "state": {
       "_events": [],
       "_jupyter_vue": "IPY_MODEL_bc2712ed128d4d47ba50f0f591fcb068",
       "attributes": {},
       "children": [
        "About the Data"
       ],
       "layout": "IPY_MODEL_2cc8dbb88679463ca7fdb93825f277de",
       "v_slots": []
      }
     },
     "3959c53e1ada4d23a17eecf614f06f17": {
      "model_module": "jupyter-vuetify",
      "model_module_version": "^1.5.1",
      "model_name": "CardModel",
      "state": {
       "_events": [],
       "_jupyter_vue": "IPY_MODEL_bc2712ed128d4d47ba50f0f591fcb068",
       "attributes": {},
       "children": [
        "IPY_MODEL_2be0d3a3dec9401398e6d31d791d69e2",
        "IPY_MODEL_f4c8f90b2eaf429495ee348e2e9f9ee0"
       ],
       "elevation": null,
       "height": null,
       "href": null,
       "layout": "IPY_MODEL_ad854749f3644f9596fe243767ddec40",
       "loader_height": null,
       "loading": null,
       "max_height": null,
       "max_width": null,
       "min_height": null,
       "min_width": null,
       "ripple": null,
       "to": null,
       "v_slots": [],
       "width": null
      }
     },
     "396e5986dd91415c9e55f5834986616b": {
      "model_module": "@jupyter-widgets/base",
      "model_module_version": "1.2.0",
      "model_name": "LayoutModel",
      "state": {}
     },
     "39841937a13a44fabeb9c4376b1382f4": {
      "model_module": "jupyter-vuetify",
      "model_module_version": "^1.5.1",
      "model_name": "RowModel",
      "state": {
       "_events": [],
       "_jupyter_vue": "IPY_MODEL_bc2712ed128d4d47ba50f0f591fcb068",
       "attributes": {},
       "children": [
        "IPY_MODEL_9c35ec145e3a472fb2e16ea15076db36",
        "IPY_MODEL_468891b4d4414e4fbf01b2f8b5003e3c",
        "IPY_MODEL_1a4f87ffbe4e475b930ec85574407ecc"
       ],
       "dense": true,
       "layout": "IPY_MODEL_7e49344845474ea99394a070159c61b9",
       "v_slots": []
      }
     },
     "39a1bf41545d41b58798bbda19643408": {
      "model_module": "@jupyter-widgets/base",
      "model_module_version": "1.2.0",
      "model_name": "LayoutModel",
      "state": {}
     },
     "39b2efe874c74531b0e8959f197fda93": {
      "model_module": "jupyter-vuetify",
      "model_module_version": "^1.5.1",
      "model_name": "CardModel",
      "state": {
       "_events": [],
       "_jupyter_vue": "IPY_MODEL_bc2712ed128d4d47ba50f0f591fcb068",
       "attributes": {},
       "children": [
        "IPY_MODEL_119b1853e5fb4a94937e30ef22030fce",
        "IPY_MODEL_2b280bca0acf4dd88073f7fa6e0ff670"
       ],
       "elevation": null,
       "height": null,
       "href": null,
       "layout": "IPY_MODEL_7203cb07961b4908b1e0b3d00d8bdd6d",
       "loader_height": null,
       "loading": null,
       "max_height": null,
       "max_width": null,
       "min_height": null,
       "min_width": null,
       "ripple": null,
       "to": null,
       "v_slots": [],
       "width": null
      }
     },
     "39d8f50bdb5e4350bd21ac8812cee77e": {
      "model_module": "@jupyter-widgets/base",
      "model_module_version": "1.2.0",
      "model_name": "LayoutModel",
      "state": {}
     },
     "39e99950a47146c8b732f5fb06975eae": {
      "model_module": "@jupyter-widgets/base",
      "model_module_version": "1.2.0",
      "model_name": "LayoutModel",
      "state": {}
     },
     "39fd1c63fe5744e9835d1fe68be94c0b": {
      "model_module": "jupyter-vuetify",
      "model_module_version": "^1.5.1",
      "model_name": "HtmlModel",
      "state": {
       "_events": [],
       "_jupyter_vue": "IPY_MODEL_bc2712ed128d4d47ba50f0f591fcb068",
       "_model_module_version": "^1.5.1",
       "_view_module_version": "^1.5.1",
       "attributes": {},
       "children": [
        "All Covid-19 case data have been received from the Internet Archive. The original data have been prepared in PDF documents with the title \"Daily Coronavirus Disease 2019 (COVID-19) Summary of Cases by Zip Code of Residence\" by the County of San Diego, Health and Human Services Agency, Public Health Services, Epidemiology and Immunization Services Branch."
       ],
       "layout": "IPY_MODEL_4f59caa71a7a4c17b31a615e2bc72816",
       "tag": "p",
       "v_slots": []
      }
     },
     "3a21fdcde49f4098af03e6e6019c3c94": {
      "model_module": "@jupyter-widgets/base",
      "model_module_version": "1.2.0",
      "model_name": "LayoutModel",
      "state": {}
     },
     "3a25f5498f8344d0bce0d44f177502c6": {
      "model_module": "@jupyter-widgets/base",
      "model_module_version": "1.2.0",
      "model_name": "LayoutModel",
      "state": {}
     },
     "3a30d286be8c4a8ea1fc9847d5ac57ef": {
      "model_module": "jupyter-vuetify",
      "model_module_version": "^1.5.1",
      "model_name": "ThemeColorsModel",
      "state": {
       "_model_module_version": "^1.5.1",
       "_theme_name": "dark",
       "_view_module": null,
       "_view_module_version": "^1.5.1",
       "accent": "#FF4081",
       "error": "#FF5252",
       "info": "#2196F3",
       "primary": "#2196F3",
       "secondary": "#424242",
       "success": "#4CAF50",
       "warning": "#FB8C00"
      }
     },
     "3a4d7e464ba648ad8f81fd5dfb044475": {
      "model_module": "jupyter-vuetify",
      "model_module_version": "^1.5.1",
      "model_name": "CardTitleModel",
      "state": {
       "_events": [],
       "_jupyter_vue": "IPY_MODEL_bc2712ed128d4d47ba50f0f591fcb068",
       "attributes": {},
       "children": [
        "About the Data"
       ],
       "layout": "IPY_MODEL_f2c8cdd0376f49fd94675fee7ca9032c",
       "v_slots": []
      }
     },
     "3a5ddb485e8f44178489ef4edf7aee98": {
      "model_module": "jupyter-vuetify",
      "model_module_version": "^1.5.1",
      "model_name": "ColModel",
      "state": {
       "_events": [],
       "_jupyter_vue": "IPY_MODEL_bc2712ed128d4d47ba50f0f591fcb068",
       "attributes": {},
       "children": [
        "IPY_MODEL_8bf030c0ff044c19ac5205e408e793eb"
       ],
       "cols": 12,
       "layout": "IPY_MODEL_6ecf11906f7d425499e271664ee3af16",
       "lg": null,
       "md": null,
       "offset": null,
       "offset_lg": null,
       "offset_md": null,
       "offset_sm": null,
       "offset_xl": null,
       "order": null,
       "order_lg": null,
       "order_md": null,
       "order_sm": null,
       "order_xl": null,
       "sm": null,
       "v_slots": [],
       "xl": null
      }
     },
     "3a70742b4b3840e093887b0af15ea151": {
      "model_module": "jupyter-vuetify",
      "model_module_version": "^1.5.1",
      "model_name": "CardTextModel",
      "state": {
       "_events": [],
       "_jupyter_vue": "IPY_MODEL_bc2712ed128d4d47ba50f0f591fcb068",
       "attributes": {},
       "children": [
        "lol"
       ],
       "layout": "IPY_MODEL_7c714d4bf7f94c228decedf1f5298b31",
       "v_slots": []
      }
     },
     "3aab81b61eec4c1c8044222dcac056b4": {
      "model_module": "@jupyter-widgets/base",
      "model_module_version": "1.2.0",
      "model_name": "LayoutModel",
      "state": {}
     },
     "3abb9e9584a4434b86795be1d1019e47": {
      "model_module": "@jupyter-widgets/base",
      "model_module_version": "1.2.0",
      "model_name": "LayoutModel",
      "state": {}
     },
     "3abdee00918448acadb6d855b04c6f29": {
      "model_module": "@jupyter-widgets/base",
      "model_module_version": "1.2.0",
      "model_name": "LayoutModel",
      "state": {}
     },
     "3b6bc788bcb845898de6e0781d579fa5": {
      "model_module": "@jupyter-widgets/base",
      "model_module_version": "1.2.0",
      "model_name": "LayoutModel",
      "state": {}
     },
     "3b9d43af2de1488c8d0a6996f4373c4f": {
      "model_module": "jupyter-vuetify",
      "model_module_version": "^1.5.1",
      "model_name": "ThemeModel",
      "state": {
       "_model_module_version": "^1.5.1",
       "_view_module": null,
       "_view_module_version": "^1.5.1",
       "dark": false
      }
     },
     "3baf261f51ea49dabba7f95d23bdd6a7": {
      "model_module": "jupyter-vuetify",
      "model_module_version": "^1.5.1",
      "model_name": "CardTitleModel",
      "state": {
       "_events": [],
       "_jupyter_vue": "IPY_MODEL_bc2712ed128d4d47ba50f0f591fcb068",
       "attributes": {},
       "children": [
        "ZIP Codes"
       ],
       "layout": "IPY_MODEL_6dcf35df247b4701b34c1ec6ef1945ce",
       "v_slots": []
      }
     },
     "3c2ca0979c2046299fcdd516098aa45e": {
      "model_module": "jupyter-vuetify",
      "model_module_version": "^1.5.1",
      "model_name": "BtnModel",
      "state": {
       "_events": [],
       "_jupyter_vue": "IPY_MODEL_bc2712ed128d4d47ba50f0f591fcb068",
       "attributes": {},
       "children": [
        "IPY_MODEL_45b8bdc001fa4a66b49feb0c05d70f12"
       ],
       "color": "blue",
       "elevation": null,
       "height": null,
       "href": null,
       "layout": "IPY_MODEL_d4f128e594124ac587d61c17ec58ed34",
       "max_height": null,
       "max_width": null,
       "min_height": null,
       "min_width": null,
       "ripple": null,
       "text": true,
       "to": null,
       "v_slots": [],
       "width": null
      }
     },
     "3c69b01aa91b4dd98a8e75878d5462a6": {
      "model_module": "jupyter-vuetify",
      "model_module_version": "^1.5.1",
      "model_name": "CardTitleModel",
      "state": {
       "_events": [],
       "_jupyter_vue": "IPY_MODEL_bc2712ed128d4d47ba50f0f591fcb068",
       "attributes": {},
       "children": [
        "About the Data"
       ],
       "layout": "IPY_MODEL_04eee1a77e2f43509bd78030639f06e6",
       "v_slots": []
      }
     },
     "3c89af2fe068456395275abb8a10256c": {
      "model_module": "@jupyter-widgets/base",
      "model_module_version": "1.2.0",
      "model_name": "LayoutModel",
      "state": {}
     },
     "3c967d60ef8f42fa833296f90702fdaf": {
      "model_module": "jupyter-vuetify",
      "model_module_version": "^1.5.1",
      "model_name": "CardTitleModel",
      "state": {
       "_events": [],
       "_jupyter_vue": "IPY_MODEL_bc2712ed128d4d47ba50f0f591fcb068",
       "attributes": {},
       "children": [
        "Covid-19 Case Data"
       ],
       "layout": "IPY_MODEL_77cbd906d2604efc9db391b25f715504",
       "v_slots": []
      }
     },
     "3ca26b821e364898a38e73d2caa8877a": {
      "model_module": "@jupyter-widgets/base",
      "model_module_version": "1.2.0",
      "model_name": "LayoutModel",
      "state": {}
     },
     "3cac9826c9af4ccd96a1c87732bc0f9f": {
      "model_module": "jupyter-vuetify",
      "model_module_version": "^1.5.1",
      "model_name": "ColModel",
      "state": {
       "_events": [],
       "_jupyter_vue": "IPY_MODEL_bc2712ed128d4d47ba50f0f591fcb068",
       "attributes": {},
       "children": [
        "IPY_MODEL_89c28b5d9ae4481380754405b68da228"
       ],
       "cols": 6,
       "layout": "IPY_MODEL_122662a529b3449f8e25fbc29add1c2b",
       "lg": null,
       "md": null,
       "offset": null,
       "offset_lg": null,
       "offset_md": null,
       "offset_sm": null,
       "offset_xl": null,
       "order": null,
       "order_lg": null,
       "order_md": null,
       "order_sm": null,
       "order_xl": null,
       "sm": null,
       "v_slots": [],
       "xl": null
      }
     },
     "3cd8a40b66024c2abb7a3d465eec03c8": {
      "model_module": "jupyter-vuetify",
      "model_module_version": "^1.5.1",
      "model_name": "CardModel",
      "state": {
       "_events": [],
       "_jupyter_vue": "IPY_MODEL_bc2712ed128d4d47ba50f0f591fcb068",
       "attributes": {},
       "children": [
        "IPY_MODEL_2b8822cc825d4a668055a51f1ab6b3ff",
        "IPY_MODEL_afb5fc98be7642fbbdd100b70a7ae609",
        "IPY_MODEL_e40ad22069674e309ab0b384b2e916e6"
       ],
       "elevation": null,
       "height": null,
       "href": null,
       "layout": "IPY_MODEL_939377387a2d432ca97fb22842aad81a",
       "loader_height": null,
       "loading": null,
       "max_height": null,
       "max_width": null,
       "min_height": null,
       "min_width": null,
       "ripple": null,
       "to": null,
       "v_slots": [],
       "width": null
      }
     },
     "3cea16c5f3a44da087134e1cc442f4d7": {
      "model_module": "jupyter-vuetify",
      "model_module_version": "^1.5.1",
      "model_name": "ColModel",
      "state": {
       "_events": [],
       "_jupyter_vue": "IPY_MODEL_bc2712ed128d4d47ba50f0f591fcb068",
       "attributes": {},
       "children": [
        "IPY_MODEL_eeab1a920184488ca2658379c96314c7"
       ],
       "cols": 6,
       "layout": "IPY_MODEL_07a7dc6b3f4d4b0f89d823aea8eead2d",
       "lg": null,
       "md": null,
       "offset": null,
       "offset_lg": null,
       "offset_md": null,
       "offset_sm": null,
       "offset_xl": null,
       "order": null,
       "order_lg": null,
       "order_md": null,
       "order_sm": null,
       "order_xl": null,
       "sm": null,
       "v_slots": [],
       "xl": null
      }
     },
     "3d2ed3f4b8de4d93be4d794ad9ea6541": {
      "model_module": "@jupyter-widgets/base",
      "model_module_version": "1.2.0",
      "model_name": "LayoutModel",
      "state": {}
     },
     "3d3e3d1b47954e77912154c28863fe5b": {
      "model_module": "@jupyter-widgets/base",
      "model_module_version": "1.2.0",
      "model_name": "LayoutModel",
      "state": {}
     },
     "3d6d0e3fbd80410a8eb2bc47da113e22": {
      "model_module": "jupyter-vuetify",
      "model_module_version": "^1.5.1",
      "model_name": "ColModel",
      "state": {
       "_events": [],
       "_jupyter_vue": "IPY_MODEL_bc2712ed128d4d47ba50f0f591fcb068",
       "attributes": {},
       "children": [
        "IPY_MODEL_883bd6d9cac042e1a0d54b4d7b23be6a"
       ],
       "cols": 6,
       "layout": "IPY_MODEL_8f63f0599a76422ea10fb45f5a5a8d8a",
       "lg": null,
       "md": null,
       "offset": null,
       "offset_lg": null,
       "offset_md": null,
       "offset_sm": null,
       "offset_xl": null,
       "order": null,
       "order_lg": null,
       "order_md": null,
       "order_sm": null,
       "order_xl": null,
       "sm": null,
       "v_slots": [],
       "xl": null
      }
     },
     "3d6f89e2178c42bf992e94df71684d7e": {
      "model_module": "jupyter-vuetify",
      "model_module_version": "^1.5.1",
      "model_name": "CardTextModel",
      "state": {
       "_events": [],
       "_jupyter_vue": "IPY_MODEL_bc2712ed128d4d47ba50f0f591fcb068",
       "attributes": {},
       "children": [
        "The ZIP code boundaries shown in all maps are taken from the SANDAG/SanGIS Open Data Portal."
       ],
       "layout": "IPY_MODEL_e4501f3ac1964ccea87deef800571f57",
       "v_slots": []
      }
     },
     "3db579333423476bbac9b05383d886d5": {
      "model_module": "@jupyter-widgets/base",
      "model_module_version": "1.2.0",
      "model_name": "LayoutModel",
      "state": {}
     },
     "3dbab9c311d94edd80c73f1e36d4a7c9": {
      "model_module": "jupyter-vuetify",
      "model_module_version": "^1.5.1",
      "model_name": "HtmlModel",
      "state": {
       "_events": [],
       "_jupyter_vue": "IPY_MODEL_bc2712ed128d4d47ba50f0f591fcb068",
       "_model_module_version": "^1.5.1",
       "_view_module_version": "^1.5.1",
       "attributes": {
        "href": "https://sdgis-sandag.opendata.arcgis.com/datasets/zip-code",
        "target": "_blank"
       },
       "children": [
        "Data Portal Source"
       ],
       "layout": "IPY_MODEL_73db04b840e047bebee9ef5872b4487d",
       "tag": "a",
       "v_slots": []
      }
     },
     "3dda02438f434ffcaaf275c80e40d0d2": {
      "model_module": "jupyter-vuetify",
      "model_module_version": "^1.5.1",
      "model_name": "ColModel",
      "state": {
       "_events": [],
       "_jupyter_vue": "IPY_MODEL_bc2712ed128d4d47ba50f0f591fcb068",
       "attributes": {},
       "children": [
        "IPY_MODEL_fd015ac422dd40898e03cd323f6bceb8"
       ],
       "cols": 12,
       "layout": "IPY_MODEL_40477d69a8a3458b909d9af28189dc5e",
       "lg": null,
       "md": null,
       "offset": null,
       "offset_lg": null,
       "offset_md": null,
       "offset_sm": null,
       "offset_xl": null,
       "order": null,
       "order_lg": null,
       "order_md": null,
       "order_sm": null,
       "order_xl": null,
       "sm": null,
       "v_slots": [],
       "xl": null
      }
     },
     "3deb798aeb154dbcb9600feb4138b794": {
      "model_module": "jupyter-vuetify",
      "model_module_version": "^1.5.1",
      "model_name": "CardTextModel",
      "state": {
       "_events": [],
       "_jupyter_vue": "IPY_MODEL_bc2712ed128d4d47ba50f0f591fcb068",
       "attributes": {},
       "children": [
        "IPY_MODEL_2b5954a3824749f88083d3df47c14970"
       ],
       "layout": "IPY_MODEL_54b85464cf894d24b73d847b082ba300",
       "v_slots": []
      }
     },
     "3df071d4767c42ce8bf5d46dee5b5d6c": {
      "model_module": "jupyter-vuetify",
      "model_module_version": "^1.5.1",
      "model_name": "CardTextModel",
      "state": {
       "_events": [],
       "_jupyter_vue": "IPY_MODEL_bc2712ed128d4d47ba50f0f591fcb068",
       "attributes": {},
       "children": [
        "lol"
       ],
       "layout": "IPY_MODEL_ee83a5d747724858bbd13b5e9e97c06a",
       "v_slots": []
      }
     },
     "3e033ddbba09412d9d36f17ee0b2fdf7": {
      "model_module": "@jupyter-widgets/base",
      "model_module_version": "1.2.0",
      "model_name": "LayoutModel",
      "state": {}
     },
     "3e04055453da44939033c76d83a4a3fb": {
      "model_module": "@jupyter-widgets/base",
      "model_module_version": "1.2.0",
      "model_name": "LayoutModel",
      "state": {}
     },
     "3e3aed1c8e1d46ce8d9f9b52ff14c4bb": {
      "model_module": "jupyter-vuetify",
      "model_module_version": "^1.5.1",
      "model_name": "HtmlModel",
      "state": {
       "_events": [],
       "_jupyter_vue": "IPY_MODEL_bc2712ed128d4d47ba50f0f591fcb068",
       "_model_module_version": "^1.5.1",
       "_view_module_version": "^1.5.1",
       "attributes": {},
       "children": [
        "Data are usually updated from the Internet Archive once per day."
       ],
       "layout": "IPY_MODEL_e3079bf401e24620b94a52ee2252454d",
       "tag": "p",
       "v_slots": []
      }
     },
     "3e7955f2a52844b4aca7ad5a44380492": {
      "model_module": "jupyter-vuetify",
      "model_module_version": "^1.5.1",
      "model_name": "CardTextModel",
      "state": {
       "_events": [],
       "_jupyter_vue": "IPY_MODEL_bc2712ed128d4d47ba50f0f591fcb068",
       "attributes": {},
       "children": [
        "IPY_MODEL_3450f32d67f548c2bb7be7e9f7ea67f3",
        "IPY_MODEL_19f2c98cebb24244a7f7eaece7295e35",
        "IPY_MODEL_84d972e65bde400f9260316311590e0b"
       ],
       "layout": "IPY_MODEL_aba686c89cf84871b182428c17b08569",
       "v_slots": []
      }
     },
     "3ef3d3909d0242bc8367544c6a287c44": {
      "model_module": "@jupyter-widgets/base",
      "model_module_version": "1.2.0",
      "model_name": "LayoutModel",
      "state": {}
     },
     "3f23ae4a2432454ab179477e74fe5d77": {
      "model_module": "jupyter-vuetify",
      "model_module_version": "^1.5.1",
      "model_name": "ColModel",
      "state": {
       "_events": [],
       "_jupyter_vue": "IPY_MODEL_bc2712ed128d4d47ba50f0f591fcb068",
       "attributes": {},
       "children": [
        "IPY_MODEL_ddac766ddade49d1995cc4fe28541546"
       ],
       "cols": 6,
       "layout": "IPY_MODEL_83165bd62e944178bc968b5a06b7965e",
       "lg": null,
       "md": null,
       "offset": null,
       "offset_lg": null,
       "offset_md": null,
       "offset_sm": null,
       "offset_xl": null,
       "order": null,
       "order_lg": null,
       "order_md": null,
       "order_sm": null,
       "order_xl": null,
       "sm": null,
       "v_slots": [],
       "xl": null
      }
     },
     "3f284d14f0934c3a8869e8fc347b9fee": {
      "model_module": "@jupyter-widgets/base",
      "model_module_version": "1.2.0",
      "model_name": "LayoutModel",
      "state": {}
     },
     "3f43c36693ec49138089f40a8a3ac07f": {
      "model_module": "jupyter-vuetify",
      "model_module_version": "^1.5.1",
      "model_name": "CardModel",
      "state": {
       "_events": [],
       "_jupyter_vue": "IPY_MODEL_bc2712ed128d4d47ba50f0f591fcb068",
       "attributes": {},
       "children": [
        "IPY_MODEL_b1ddfef3921b4442bb27661917392ac6",
        "IPY_MODEL_b07fa4e8ce1541e0a8ec1a6ca359227b"
       ],
       "elevation": null,
       "height": null,
       "href": null,
       "layout": "IPY_MODEL_3fb90cb3c00a434a94b4ebffc8a51ac1",
       "loader_height": null,
       "loading": null,
       "max_height": null,
       "max_width": null,
       "min_height": null,
       "min_width": null,
       "ripple": null,
       "to": null,
       "v_slots": [],
       "width": null
      }
     },
     "3f4742ccfddf42c086dad74df21e0ca3": {
      "model_module": "@jupyter-widgets/base",
      "model_module_version": "1.2.0",
      "model_name": "LayoutModel",
      "state": {}
     },
     "3f67c242c80545e08b132aa1304a0fa7": {
      "model_module": "jupyter-vuetify",
      "model_module_version": "^1.5.1",
      "model_name": "CardTitleModel",
      "state": {
       "_events": [],
       "_jupyter_vue": "IPY_MODEL_bc2712ed128d4d47ba50f0f591fcb068",
       "attributes": {},
       "children": [
        "About the Data"
       ],
       "layout": "IPY_MODEL_5736917e26a44a2db618eb0b46243142",
       "v_slots": []
      }
     },
     "3f754a848fd84f2d99cffa6ee5f74d2e": {
      "model_module": "@jupyter-widgets/base",
      "model_module_version": "1.2.0",
      "model_name": "LayoutModel",
      "state": {}
     },
     "3f958863240740d1bb9ab8cce5c47cfc": {
      "model_module": "@jupyter-widgets/base",
      "model_module_version": "1.2.0",
      "model_name": "LayoutModel",
      "state": {}
     },
     "3fb90cb3c00a434a94b4ebffc8a51ac1": {
      "model_module": "@jupyter-widgets/base",
      "model_module_version": "1.2.0",
      "model_name": "LayoutModel",
      "state": {}
     },
     "3fcede2e3a2e484a996f4730e080e749": {
      "model_module": "jupyter-vuetify",
      "model_module_version": "^1.5.1",
      "model_name": "RowModel",
      "state": {
       "_events": [],
       "_jupyter_vue": "IPY_MODEL_bc2712ed128d4d47ba50f0f591fcb068",
       "attributes": {},
       "children": [
        "IPY_MODEL_c3cb8ebb513e418fb95a903310028532",
        "IPY_MODEL_3cea16c5f3a44da087134e1cc442f4d7",
        "IPY_MODEL_10f5b99d1e044c2194e235220c719797"
       ],
       "dense": true,
       "layout": "IPY_MODEL_aaa210d72f9d4a44b2668df6fdfb6bcf",
       "v_slots": []
      }
     },
     "3fe3937af93e497c93b3390006984caf": {
      "model_module": "@jupyter-widgets/base",
      "model_module_version": "1.2.0",
      "model_name": "LayoutModel",
      "state": {}
     },
     "400331744ba04db4b28152081e23e80f": {
      "model_module": "@jupyter-widgets/base",
      "model_module_version": "1.2.0",
      "model_name": "LayoutModel",
      "state": {}
     },
     "40094efb7a4a454598a37891a8ed0050": {
      "model_module": "jupyter-vuetify",
      "model_module_version": "^1.5.1",
      "model_name": "CardModel",
      "state": {
       "_events": [],
       "_jupyter_vue": "IPY_MODEL_bc2712ed128d4d47ba50f0f591fcb068",
       "attributes": {},
       "children": [
        "IPY_MODEL_c80c8beab37441b49942de11f41cfc0d",
        "IPY_MODEL_0083a9b8d2c8467991b47e7a8b42d121"
       ],
       "elevation": null,
       "height": null,
       "href": null,
       "layout": "IPY_MODEL_52887c8675884354b94612837846a0e9",
       "loader_height": null,
       "loading": null,
       "max_height": null,
       "max_width": null,
       "min_height": null,
       "min_width": null,
       "ripple": null,
       "to": null,
       "v_slots": [],
       "width": null
      }
     },
     "40477d69a8a3458b909d9af28189dc5e": {
      "model_module": "@jupyter-widgets/base",
      "model_module_version": "1.2.0",
      "model_name": "LayoutModel",
      "state": {}
     },
     "4062d3dd3327441f9aaafb4ffc58c236": {
      "model_module": "jupyter-vuetify",
      "model_module_version": "^1.5.1",
      "model_name": "BtnModel",
      "state": {
       "_events": [],
       "_jupyter_vue": "IPY_MODEL_bc2712ed128d4d47ba50f0f591fcb068",
       "attributes": {},
       "children": [
        "IPY_MODEL_2f7a23602ac5430f995901f00a530622"
       ],
       "color": "blue",
       "elevation": null,
       "height": null,
       "href": null,
       "layout": "IPY_MODEL_c59885dbe8e9436aa0b6efb74601e045",
       "max_height": null,
       "max_width": null,
       "min_height": null,
       "min_width": null,
       "ripple": null,
       "text": true,
       "to": null,
       "v_slots": [],
       "width": null
      }
     },
     "409e946a3df04dc9a0d2f51e1f72219b": {
      "model_module": "jupyter-vuetify",
      "model_module_version": "^1.5.1",
      "model_name": "CardTitleModel",
      "state": {
       "_events": [],
       "_jupyter_vue": "IPY_MODEL_bc2712ed128d4d47ba50f0f591fcb068",
       "attributes": {},
       "children": [
        "About the Data"
       ],
       "layout": "IPY_MODEL_11293b8f10d2495a86ea9e0155f853af",
       "v_slots": []
      }
     },
     "40b583b6048e4bb5b4d5442f10ddad97": {
      "model_module": "@jupyter-widgets/base",
      "model_module_version": "1.2.0",
      "model_name": "LayoutModel",
      "state": {}
     },
     "40c71f8aa5d34a398a85bd4c7ba27499": {
      "model_module": "@jupyter-widgets/base",
      "model_module_version": "1.2.0",
      "model_name": "LayoutModel",
      "state": {}
     },
     "40f7008f87c947d3b32f8256c79ee428": {
      "model_module": "jupyter-vuetify",
      "model_module_version": "^1.5.1",
      "model_name": "RowModel",
      "state": {
       "_events": [],
       "_jupyter_vue": "IPY_MODEL_bc2712ed128d4d47ba50f0f591fcb068",
       "attributes": {},
       "children": [
        "IPY_MODEL_bb20411374f149709b50489139586098",
        "IPY_MODEL_975579f94b8d4f55b91edcb645ed4800",
        "IPY_MODEL_e8891b81f2b54940bceba730468ed422"
       ],
       "dense": true,
       "layout": "IPY_MODEL_20007294d0c242abbafe9af6f3962cd3",
       "v_slots": []
      }
     },
     "41209f6271ac4c1f87edf22169643593": {
      "model_module": "@jupyter-widgets/base",
      "model_module_version": "1.2.0",
      "model_name": "LayoutModel",
      "state": {}
     },
     "4138855e640e4f51baf512154fe94591": {
      "model_module": "jupyter-vuetify",
      "model_module_version": "^1.5.1",
      "model_name": "HtmlModel",
      "state": {
       "_events": [],
       "_jupyter_vue": "IPY_MODEL_bc2712ed128d4d47ba50f0f591fcb068",
       "_model_module_version": "^1.5.1",
       "_view_module_version": "^1.5.1",
       "attributes": {},
       "children": [
        "Data are usually updated from the Internet Archive once per day."
       ],
       "layout": "IPY_MODEL_65bd3139e2e8476db1d25fec8e5de864",
       "tag": "p",
       "v_slots": []
      }
     },
     "4149d7cfc2174868b6f4aef0ab555053": {
      "model_module": "@jupyter-widgets/base",
      "model_module_version": "1.2.0",
      "model_name": "LayoutModel",
      "state": {}
     },
     "4199e05a71584a2ab0e4975d5bd28a85": {
      "model_module": "jupyter-vuetify",
      "model_module_version": "^1.5.1",
      "model_name": "CardActionsModel",
      "state": {
       "_events": [],
       "_jupyter_vue": "IPY_MODEL_bc2712ed128d4d47ba50f0f591fcb068",
       "attributes": {},
       "children": [
        "IPY_MODEL_a599ab332ebf4de5b0fa71cb80786439",
        "IPY_MODEL_1fe619609e4e47b98093a143fe7bcc9c"
       ],
       "layout": "IPY_MODEL_2b8b37ec134248b5a980a18c1e60e258",
       "v_slots": []
      }
     },
     "419d5ad545c445c488dd1a103a8a8c35": {
      "model_module": "@jupyter-widgets/base",
      "model_module_version": "1.2.0",
      "model_name": "LayoutModel",
      "state": {}
     },
     "41fc853b57094a9593f7272b7ce00d25": {
      "model_module": "jupyter-vuetify",
      "model_module_version": "^1.5.1",
      "model_name": "CardTextModel",
      "state": {
       "_events": [],
       "_jupyter_vue": "IPY_MODEL_bc2712ed128d4d47ba50f0f591fcb068",
       "attributes": {},
       "children": [
        "lol"
       ],
       "layout": "IPY_MODEL_a781769edbe843ad874a6ddd80f715fb",
       "v_slots": []
      }
     },
     "420560b6b79347af80ce32cf54eaea5a": {
      "model_module": "@jupyter-widgets/base",
      "model_module_version": "1.2.0",
      "model_name": "LayoutModel",
      "state": {}
     },
     "4255e28340a5428c84254590922bcc17": {
      "model_module": "jupyter-vuetify",
      "model_module_version": "^1.5.1",
      "model_name": "ContainerModel",
      "state": {
       "_events": [],
       "_jupyter_vue": "IPY_MODEL_bc2712ed128d4d47ba50f0f591fcb068",
       "attributes": {},
       "children": [
        "IPY_MODEL_089fc2ae5c334d4c911e893dc03dc47e"
       ],
       "fluid": true,
       "layout": "IPY_MODEL_20f55a293d454e34b376540cabf96cff",
       "v_slots": []
      }
     },
     "428174fe1070472199b78abe4b1cfb41": {
      "model_module": "@jupyter-widgets/base",
      "model_module_version": "1.2.0",
      "model_name": "LayoutModel",
      "state": {}
     },
     "4292142079644269a67c7fe9964e4fb7": {
      "model_module": "@jupyter-widgets/base",
      "model_module_version": "1.2.0",
      "model_name": "LayoutModel",
      "state": {}
     },
     "42a310ee88844430b655639266481691": {
      "model_module": "@jupyter-widgets/base",
      "model_module_version": "1.2.0",
      "model_name": "LayoutModel",
      "state": {}
     },
     "430ad45054c24dd790809f1e1cffc984": {
      "model_module": "jupyter-vuetify",
      "model_module_version": "^1.5.1",
      "model_name": "BtnModel",
      "state": {
       "_events": [],
       "_jupyter_vue": "IPY_MODEL_bc2712ed128d4d47ba50f0f591fcb068",
       "attributes": {},
       "children": [
        "SANDAG Disclaimer"
       ],
       "color": "accent-2",
       "elevation": null,
       "height": null,
       "href": null,
       "layout": "IPY_MODEL_a5c8d5aa7aac4cfbb9e7119a86b20fd2",
       "max_height": null,
       "max_width": null,
       "min_height": null,
       "min_width": null,
       "ripple": null,
       "text": true,
       "to": null,
       "v_slots": [],
       "width": null
      }
     },
     "43571f4dea8e4deba84c673dece348ac": {
      "model_module": "@jupyter-widgets/base",
      "model_module_version": "1.2.0",
      "model_name": "LayoutModel",
      "state": {}
     },
     "43765b381e95491eb5c0ad45d8f4fd53": {
      "model_module": "jupyter-vuetify",
      "model_module_version": "^1.5.1",
      "model_name": "CardTextModel",
      "state": {
       "_events": [],
       "_jupyter_vue": "IPY_MODEL_bc2712ed128d4d47ba50f0f591fcb068",
       "attributes": {},
       "children": [
        "IPY_MODEL_275dcde1d7d64be99f31dbc670e5e2cf",
        "IPY_MODEL_908fba0c4a29462e9f8fec3ec33727ab",
        "IPY_MODEL_dc9bac611f31495abb8a1977fe10832e",
        "IPY_MODEL_1e49bf242e1f48e0834ea98c20e10c38"
       ],
       "layout": "IPY_MODEL_eb0e702a7f994b238732e3904e87478d",
       "v_slots": []
      }
     },
     "43a4bc0f459f41c6953ab2f10ca8e62e": {
      "model_module": "jupyter-vuetify",
      "model_module_version": "^1.5.1",
      "model_name": "CardModel",
      "state": {
       "_events": [],
       "_jupyter_vue": "IPY_MODEL_bc2712ed128d4d47ba50f0f591fcb068",
       "attributes": {},
       "children": [
        "IPY_MODEL_9ef412360fc24fc0b6632cff8869fb6b",
        "IPY_MODEL_979cd67fd25641109dc7e9782b91b795",
        "IPY_MODEL_f6be5a1987dc4699aab1deff940a3673"
       ],
       "elevation": null,
       "height": null,
       "href": null,
       "layout": "IPY_MODEL_e6cce6393c334a008057dc80c4eed58a",
       "loader_height": null,
       "loading": null,
       "max_height": null,
       "max_width": null,
       "min_height": null,
       "min_width": null,
       "ripple": null,
       "to": null,
       "v_slots": [],
       "width": null
      }
     },
     "43c1581d2497491ba0a57b6f7011a196": {
      "model_module": "jupyter-vuetify",
      "model_module_version": "^1.5.1",
      "model_name": "CardTitleModel",
      "state": {
       "_events": [],
       "_jupyter_vue": "IPY_MODEL_bc2712ed128d4d47ba50f0f591fcb068",
       "attributes": {},
       "children": [
        "About the Data"
       ],
       "layout": "IPY_MODEL_ab977bdabb564571a7fbcad97f712a75",
       "v_slots": []
      }
     },
     "43ca7d5373554056b6bf2c694a35cb50": {
      "model_module": "@jupyter-widgets/base",
      "model_module_version": "1.2.0",
      "model_name": "LayoutModel",
      "state": {}
     },
     "43fda178a1b1432982b0dda3255e7cda": {
      "model_module": "@jupyter-widgets/base",
      "model_module_version": "1.2.0",
      "model_name": "LayoutModel",
      "state": {}
     },
     "441c9e2a65aa4be7827fc9897e7d54a0": {
      "model_module": "jupyter-vuetify",
      "model_module_version": "^1.5.1",
      "model_name": "CardTextModel",
      "state": {
       "_events": [],
       "_jupyter_vue": "IPY_MODEL_bc2712ed128d4d47ba50f0f591fcb068",
       "attributes": {},
       "children": [
        "This section informs about the sources of the data that are used in this dashboard."
       ],
       "layout": "IPY_MODEL_9ae04bb20f4146a4a116ce5c1e1cc3ca",
       "v_slots": []
      }
     },
     "443306dee88942a3a1d4a81e348bb8d8": {
      "model_module": "@jupyter-widgets/base",
      "model_module_version": "1.2.0",
      "model_name": "LayoutModel",
      "state": {}
     },
     "444c1b2d5b0c46629a68b897d097983f": {
      "model_module": "jupyter-vuetify",
      "model_module_version": "^1.5.1",
      "model_name": "CardTitleModel",
      "state": {
       "_events": [],
       "_jupyter_vue": "IPY_MODEL_bc2712ed128d4d47ba50f0f591fcb068",
       "attributes": {},
       "children": [
        "Demographic Data"
       ],
       "layout": "IPY_MODEL_d1e1729311c94cb5a29cf2b8bea40b08",
       "v_slots": []
      }
     },
     "445d653d34764a0494e4b3338bc62648": {
      "model_module": "@jupyter-widgets/base",
      "model_module_version": "1.2.0",
      "model_name": "LayoutModel",
      "state": {}
     },
     "449a12de945140c888dbb2d36f5fe9fe": {
      "model_module": "jupyter-vuetify",
      "model_module_version": "^1.5.1",
      "model_name": "CardActionsModel",
      "state": {
       "_events": [],
       "_jupyter_vue": "IPY_MODEL_bc2712ed128d4d47ba50f0f591fcb068",
       "attributes": {},
       "children": [
        "IPY_MODEL_fc0aed04cbfd44e3830d816fc4f946e9",
        "IPY_MODEL_99656610b5924d448d560e3d6ce67582"
       ],
       "layout": "IPY_MODEL_ce05f52cd906427a99df04c5e579a9fc",
       "v_slots": []
      }
     },
     "44ae20872a3545858c5c62e95a1c381a": {
      "model_module": "@jupyter-widgets/base",
      "model_module_version": "1.2.0",
      "model_name": "LayoutModel",
      "state": {}
     },
     "44dc9c10de1943db8e154b97b660dff5": {
      "model_module": "@jupyter-widgets/base",
      "model_module_version": "1.2.0",
      "model_name": "LayoutModel",
      "state": {}
     },
     "45375b27372d479aa832aefea6f2bec9": {
      "model_module": "jupyter-vuetify",
      "model_module_version": "^1.5.1",
      "model_name": "CardModel",
      "state": {
       "_events": [],
       "_jupyter_vue": "IPY_MODEL_bc2712ed128d4d47ba50f0f591fcb068",
       "attributes": {},
       "children": [
        "IPY_MODEL_fa77216d21624a879f9ab061313bec4c",
        "IPY_MODEL_a18ba919db3b454eae916f48769e38d2"
       ],
       "elevation": null,
       "height": null,
       "href": null,
       "layout": "IPY_MODEL_6a2c64381c1849c383025bb85340f31e",
       "loader_height": null,
       "loading": null,
       "max_height": null,
       "max_width": null,
       "min_height": null,
       "min_width": null,
       "ripple": null,
       "to": null,
       "v_slots": [],
       "width": null
      }
     },
     "45394a7e9b404134ab7831d40c454366": {
      "model_module": "@jupyter-widgets/base",
      "model_module_version": "1.2.0",
      "model_name": "LayoutModel",
      "state": {}
     },
     "4540710056a9403f9d4a0befc21f7a87": {
      "model_module": "jupyter-vuetify",
      "model_module_version": "^1.5.1",
      "model_name": "CardModel",
      "state": {
       "_events": [],
       "_jupyter_vue": "IPY_MODEL_bc2712ed128d4d47ba50f0f591fcb068",
       "attributes": {},
       "children": [
        "IPY_MODEL_6ecedaf165e34460b5b29cb48b394a07",
        "IPY_MODEL_bcf4ae96324840e882871e6a55725ac7"
       ],
       "elevation": null,
       "height": null,
       "href": null,
       "layout": "IPY_MODEL_43ca7d5373554056b6bf2c694a35cb50",
       "loader_height": null,
       "loading": null,
       "max_height": null,
       "max_width": null,
       "min_height": null,
       "min_width": null,
       "ripple": null,
       "to": null,
       "v_slots": [],
       "width": null
      }
     },
     "455d5fbbc76147d99e036c6211b494f8": {
      "model_module": "jupyter-vuetify",
      "model_module_version": "^1.5.1",
      "model_name": "ColModel",
      "state": {
       "_events": [],
       "_jupyter_vue": "IPY_MODEL_bc2712ed128d4d47ba50f0f591fcb068",
       "attributes": {},
       "children": [
        "IPY_MODEL_b50997b11cd8464ca73f6860e04abfb5"
       ],
       "cols": 6,
       "layout": "IPY_MODEL_722b1077d3604a03ae9805cea146dc86",
       "lg": null,
       "md": null,
       "offset": null,
       "offset_lg": null,
       "offset_md": null,
       "offset_sm": null,
       "offset_xl": null,
       "order": null,
       "order_lg": null,
       "order_md": null,
       "order_sm": null,
       "order_xl": null,
       "sm": null,
       "v_slots": [],
       "xl": null
      }
     },
     "45b4e0054e724f45883ce4cf4cbe0550": {
      "model_module": "@jupyter-widgets/base",
      "model_module_version": "1.2.0",
      "model_name": "LayoutModel",
      "state": {}
     },
     "45b8bdc001fa4a66b49feb0c05d70f12": {
      "model_module": "jupyter-vuetify",
      "model_module_version": "^1.5.1",
      "model_name": "HtmlModel",
      "state": {
       "_events": [],
       "_jupyter_vue": "IPY_MODEL_bc2712ed128d4d47ba50f0f591fcb068",
       "_model_module_version": "^1.5.1",
       "_view_module_version": "^1.5.1",
       "attributes": {
        "href": "https://archive.org/donate/",
        "target": "_blank"
       },
       "children": [
        "Donate to Internet Archive"
       ],
       "layout": "IPY_MODEL_ab001306aca74646ba2aba3f14b9b2ec",
       "tag": "a",
       "v_slots": []
      }
     },
     "45d3a6e6c3e5464cb878bf378250dc95": {
      "model_module": "jupyter-vuetify",
      "model_module_version": "^1.5.1",
      "model_name": "ColModel",
      "state": {
       "_events": [],
       "_jupyter_vue": "IPY_MODEL_bc2712ed128d4d47ba50f0f591fcb068",
       "attributes": {},
       "children": [
        "IPY_MODEL_39b2efe874c74531b0e8959f197fda93"
       ],
       "cols": 6,
       "layout": "IPY_MODEL_add43e5942764e268f1f7d65c16f0b7a",
       "lg": null,
       "md": null,
       "offset": null,
       "offset_lg": null,
       "offset_md": null,
       "offset_sm": null,
       "offset_xl": null,
       "order": null,
       "order_lg": null,
       "order_md": null,
       "order_sm": null,
       "order_xl": null,
       "sm": null,
       "v_slots": [],
       "xl": null
      }
     },
     "46023dc08f774501b72cc53a905fe9dd": {
      "model_module": "@jupyter-widgets/base",
      "model_module_version": "1.2.0",
      "model_name": "LayoutModel",
      "state": {}
     },
     "46136252eb18463d98156ab1bf474a50": {
      "model_module": "jupyter-vuetify",
      "model_module_version": "^1.5.1",
      "model_name": "CardModel",
      "state": {
       "_events": [],
       "_jupyter_vue": "IPY_MODEL_bc2712ed128d4d47ba50f0f591fcb068",
       "attributes": {},
       "children": [
        "IPY_MODEL_b364d2393b4347f199477fb8dfb4e330",
        "IPY_MODEL_27dcc70f39d340e7babc13a350ef161d"
       ],
       "elevation": null,
       "height": null,
       "href": null,
       "layout": "IPY_MODEL_5abd5248097e4abaa052230a47416f40",
       "loader_height": null,
       "loading": null,
       "max_height": null,
       "max_width": null,
       "min_height": null,
       "min_width": null,
       "ripple": null,
       "to": null,
       "v_slots": [],
       "width": null
      }
     },
     "463e9c1ae5fb4c38b8a4beb3dcecb5cc": {
      "model_module": "jupyter-vuetify",
      "model_module_version": "^1.5.1",
      "model_name": "CardModel",
      "state": {
       "_events": [],
       "_jupyter_vue": "IPY_MODEL_bc2712ed128d4d47ba50f0f591fcb068",
       "attributes": {},
       "children": [
        "IPY_MODEL_782b1ac6db9945c58541478799a0027b",
        "IPY_MODEL_d8de2ac6d94e4f75a89174259e67df30"
       ],
       "elevation": null,
       "height": null,
       "href": null,
       "layout": "IPY_MODEL_94691c8854db45079fb5c23d7b360696",
       "loader_height": null,
       "loading": null,
       "max_height": null,
       "max_width": null,
       "min_height": null,
       "min_width": null,
       "ripple": null,
       "to": null,
       "v_slots": [],
       "width": null
      }
     },
     "4640bf3480c04372bf4d695071fdfe18": {
      "model_module": "@jupyter-widgets/base",
      "model_module_version": "1.2.0",
      "model_name": "LayoutModel",
      "state": {}
     },
     "4642808194154f3a9d6b879e5c50a2ba": {
      "model_module": "@jupyter-widgets/base",
      "model_module_version": "1.2.0",
      "model_name": "LayoutModel",
      "state": {}
     },
     "465b1e6ae1764a5f852b5fd72e93a130": {
      "model_module": "jupyter-vuetify",
      "model_module_version": "^1.5.1",
      "model_name": "CardModel",
      "state": {
       "_events": [],
       "_jupyter_vue": "IPY_MODEL_bc2712ed128d4d47ba50f0f591fcb068",
       "attributes": {},
       "children": [
        "IPY_MODEL_bf87572e1df448b4bba197e88dbf519c",
        "IPY_MODEL_1f56255ff273446a9c2c5650c21774f3",
        "IPY_MODEL_ad20a5faaa0c4dee99dfe0d7d06d487e"
       ],
       "elevation": null,
       "height": null,
       "href": null,
       "layout": "IPY_MODEL_b84ea5891ed844f4b85e26787cdd1f28",
       "loader_height": null,
       "loading": null,
       "max_height": null,
       "max_width": null,
       "min_height": null,
       "min_width": null,
       "ripple": null,
       "to": null,
       "v_slots": [],
       "width": null
      }
     },
     "4668916a22c0416e8d0270adfec435bd": {
      "model_module": "jupyter-vuetify",
      "model_module_version": "^1.5.1",
      "model_name": "HtmlModel",
      "state": {
       "_events": [],
       "_jupyter_vue": "IPY_MODEL_bc2712ed128d4d47ba50f0f591fcb068",
       "_model_module_version": "^1.5.1",
       "_view_module_version": "^1.5.1",
       "attributes": {},
       "children": [
        "Original data source: San Diego County Communicable Disease Registry, SANDAG 2019 Population Estimates (Prepared June 2020)."
       ],
       "layout": "IPY_MODEL_7ce3461786d4483ba84c23e34c35960b",
       "tag": "p",
       "v_slots": []
      }
     },
     "468659cbff194436bc50dec18f2cc15f": {
      "model_module": "jupyter-vuetify",
      "model_module_version": "^1.5.1",
      "model_name": "CardTitleModel",
      "state": {
       "_events": [],
       "_jupyter_vue": "IPY_MODEL_bc2712ed128d4d47ba50f0f591fcb068",
       "attributes": {},
       "children": [
        "ZIP Code Boundaries"
       ],
       "layout": "IPY_MODEL_8959855e0f9448e4b96543faa93a8795",
       "v_slots": []
      }
     },
     "468891b4d4414e4fbf01b2f8b5003e3c": {
      "model_module": "jupyter-vuetify",
      "model_module_version": "^1.5.1",
      "model_name": "ColModel",
      "state": {
       "_events": [],
       "_jupyter_vue": "IPY_MODEL_bc2712ed128d4d47ba50f0f591fcb068",
       "attributes": {},
       "children": [
        "IPY_MODEL_9ff4c753752849a690e01647de0d23c2"
       ],
       "cols": 6,
       "layout": "IPY_MODEL_4f89699d0d45405b932a704a0fa44fb9",
       "lg": null,
       "md": null,
       "offset": null,
       "offset_lg": null,
       "offset_md": null,
       "offset_sm": null,
       "offset_xl": null,
       "order": null,
       "order_lg": null,
       "order_md": null,
       "order_sm": null,
       "order_xl": null,
       "sm": null,
       "v_slots": [],
       "xl": null
      }
     },
     "46ad152ffa5d45d0a1b2690a539760c9": {
      "model_module": "@jupyter-widgets/base",
      "model_module_version": "1.2.0",
      "model_name": "LayoutModel",
      "state": {}
     },
     "46c6377ae14b402480ef5f80d593ce89": {
      "model_module": "@jupyter-widgets/base",
      "model_module_version": "1.2.0",
      "model_name": "LayoutModel",
      "state": {}
     },
     "47193bd0e5ca4340aef30537a87c9adf": {
      "model_module": "@jupyter-widgets/base",
      "model_module_version": "1.2.0",
      "model_name": "LayoutModel",
      "state": {}
     },
     "4740374496bd43ea8ba03019ecb86336": {
      "model_module": "jupyter-vuetify",
      "model_module_version": "^1.5.1",
      "model_name": "CardTitleModel",
      "state": {
       "_events": [],
       "_jupyter_vue": "IPY_MODEL_bc2712ed128d4d47ba50f0f591fcb068",
       "attributes": {},
       "children": [
        "ZIP Codes"
       ],
       "layout": "IPY_MODEL_b0092068b0534142a81c86324212078d",
       "v_slots": []
      }
     },
     "47e8b4ecced14b1fa5255d407fda8452": {
      "model_module": "@jupyter-widgets/base",
      "model_module_version": "1.2.0",
      "model_name": "LayoutModel",
      "state": {}
     },
     "48077384852844869b50ae1bab9b5f4d": {
      "model_module": "jupyter-vuetify",
      "model_module_version": "^1.5.1",
      "model_name": "CardTextModel",
      "state": {
       "_events": [],
       "_jupyter_vue": "IPY_MODEL_bc2712ed128d4d47ba50f0f591fcb068",
       "attributes": {},
       "children": [
        "This section informs about the sources of the data that are used in this dashboard."
       ],
       "layout": "IPY_MODEL_6de1aa5a1b2c44679c602acb69ecc76c",
       "v_slots": []
      }
     },
     "484c6a82d8f24dc79e3e8ec5fb8daa91": {
      "model_module": "@jupyter-widgets/base",
      "model_module_version": "1.2.0",
      "model_name": "LayoutModel",
      "state": {}
     },
     "4863f07b5b444ac6b6c84a0ec26d86f5": {
      "model_module": "@jupyter-widgets/base",
      "model_module_version": "1.2.0",
      "model_name": "LayoutModel",
      "state": {}
     },
     "486b131adfeb42daaa249078dfdceac0": {
      "model_module": "jupyter-vuetify",
      "model_module_version": "^1.5.1",
      "model_name": "CardTextModel",
      "state": {
       "_events": [],
       "_jupyter_vue": "IPY_MODEL_bc2712ed128d4d47ba50f0f591fcb068",
       "attributes": {},
       "children": [
        "This section informs about the sources of the data that are used in this dashboard."
       ],
       "layout": "IPY_MODEL_6012f48a45f34dfe95712f57d28d5dad",
       "v_slots": []
      }
     },
     "487d97c8cfe84dffbeacf9a5a77a6d77": {
      "model_module": "jupyter-vuetify",
      "model_module_version": "^1.5.1",
      "model_name": "CardTitleModel",
      "state": {
       "_events": [],
       "_jupyter_vue": "IPY_MODEL_bc2712ed128d4d47ba50f0f591fcb068",
       "attributes": {},
       "children": [
        "ZIP Code Boundaries"
       ],
       "layout": "IPY_MODEL_1365e170d1d74f65b1839a8f92ccd8e0",
       "v_slots": []
      }
     },
     "4885b476708f4a41b37e200651534513": {
      "model_module": "jupyter-vuetify",
      "model_module_version": "^1.5.1",
      "model_name": "ColModel",
      "state": {
       "_events": [],
       "_jupyter_vue": "IPY_MODEL_bc2712ed128d4d47ba50f0f591fcb068",
       "attributes": {},
       "children": [
        "IPY_MODEL_496266aadd33401994235f3ee50c091a"
       ],
       "cols": 6,
       "layout": "IPY_MODEL_52206c4442cf4a939078678a9f051884",
       "lg": null,
       "md": null,
       "offset": null,
       "offset_lg": null,
       "offset_md": null,
       "offset_sm": null,
       "offset_xl": null,
       "order": null,
       "order_lg": null,
       "order_md": null,
       "order_sm": null,
       "order_xl": null,
       "sm": null,
       "v_slots": [],
       "xl": null
      }
     },
     "48ce15a08a9c4af3b5337b1c597f391a": {
      "model_module": "@jupyter-widgets/base",
      "model_module_version": "1.2.0",
      "model_name": "LayoutModel",
      "state": {}
     },
     "48de556b9c72429aa1a95858de001cfe": {
      "model_module": "@jupyter-widgets/base",
      "model_module_version": "1.2.0",
      "model_name": "LayoutModel",
      "state": {}
     },
     "490d3b49f33d480086f689c42d1756c4": {
      "model_module": "@jupyter-widgets/base",
      "model_module_version": "1.2.0",
      "model_name": "LayoutModel",
      "state": {}
     },
     "491ac223cb6c46479f9d5adefcc31090": {
      "model_module": "jupyter-vuetify",
      "model_module_version": "^1.5.1",
      "model_name": "CardTextModel",
      "state": {
       "_events": [],
       "_jupyter_vue": "IPY_MODEL_bc2712ed128d4d47ba50f0f591fcb068",
       "attributes": {},
       "children": [
        "The ZIP code boundaries shown in all maps are taken from the SANDAG/SanGIS Open Data Portal."
       ],
       "layout": "IPY_MODEL_11c3d6bc914a4d7bb01b16c73f968eb0",
       "v_slots": []
      }
     },
     "496266aadd33401994235f3ee50c091a": {
      "model_module": "jupyter-vuetify",
      "model_module_version": "^1.5.1",
      "model_name": "CardModel",
      "state": {
       "_events": [],
       "_jupyter_vue": "IPY_MODEL_bc2712ed128d4d47ba50f0f591fcb068",
       "attributes": {},
       "children": [
        "IPY_MODEL_fe69da5418184512888aac001bbf208a",
        "IPY_MODEL_5d3e0d101c1343e8bf8f479b21d6ec28",
        "IPY_MODEL_825550419a254947bd763aca486b4934"
       ],
       "elevation": null,
       "height": null,
       "href": null,
       "layout": "IPY_MODEL_f947ab591af4414cb661ae97c19e7f53",
       "loader_height": null,
       "loading": null,
       "max_height": null,
       "max_width": null,
       "min_height": null,
       "min_width": null,
       "ripple": null,
       "to": null,
       "v_slots": [],
       "width": null
      }
     },
     "497bd2006460489992f25061eea87d9b": {
      "model_module": "@jupyter-widgets/base",
      "model_module_version": "1.2.0",
      "model_name": "LayoutModel",
      "state": {}
     },
     "497c89794f4447c5b13bc2297792b35d": {
      "model_module": "jupyter-vuetify",
      "model_module_version": "^1.5.1",
      "model_name": "CardTitleModel",
      "state": {
       "_events": [],
       "_jupyter_vue": "IPY_MODEL_bc2712ed128d4d47ba50f0f591fcb068",
       "attributes": {},
       "children": [
        "About the Data"
       ],
       "layout": "IPY_MODEL_abf7ad3a8bfd493dac17bf6a681d8b5f",
       "v_slots": []
      }
     },
     "498056d70107432bb898042a95ea28ea": {
      "model_module": "@jupyter-widgets/base",
      "model_module_version": "1.2.0",
      "model_name": "LayoutModel",
      "state": {}
     },
     "49ad11250a1d41e38ff0a212132a4467": {
      "model_module": "jupyter-vuetify",
      "model_module_version": "^1.5.1",
      "model_name": "CardModel",
      "state": {
       "_events": [],
       "_jupyter_vue": "IPY_MODEL_bc2712ed128d4d47ba50f0f591fcb068",
       "attributes": {},
       "children": [
        "IPY_MODEL_a766aebabb8844f19f0f25cfa3a4523f",
        "IPY_MODEL_7f7bd7375dd5467793117c5caad44a0a"
       ],
       "elevation": null,
       "height": null,
       "href": null,
       "layout": "IPY_MODEL_52ecc604ea644cbe8aa4b410997e3af6",
       "loader_height": null,
       "loading": null,
       "max_height": null,
       "max_width": null,
       "min_height": null,
       "min_width": null,
       "ripple": null,
       "to": null,
       "v_slots": [],
       "width": null
      }
     },
     "49aec9b074274036b3f26cc0c0a705af": {
      "model_module": "jupyter-vuetify",
      "model_module_version": "^1.5.1",
      "model_name": "CardModel",
      "state": {
       "_events": [],
       "_jupyter_vue": "IPY_MODEL_bc2712ed128d4d47ba50f0f591fcb068",
       "attributes": {},
       "children": [
        "IPY_MODEL_6bca194237d54a1aaaa2eec688eb8bdb",
        "IPY_MODEL_ee772986cfd440cea687c8e8c873553b"
       ],
       "elevation": null,
       "height": null,
       "href": null,
       "layout": "IPY_MODEL_806de283f9b248deb0202ab26d5acd68",
       "loader_height": null,
       "loading": null,
       "max_height": null,
       "max_width": null,
       "min_height": null,
       "min_width": null,
       "ripple": null,
       "to": null,
       "v_slots": [],
       "width": null
      }
     },
     "49b4646b0f5b40cdbb966b26ece2a4f1": {
      "model_module": "jupyter-vuetify",
      "model_module_version": "^1.5.1",
      "model_name": "CardTitleModel",
      "state": {
       "_events": [],
       "_jupyter_vue": "IPY_MODEL_bc2712ed128d4d47ba50f0f591fcb068",
       "attributes": {},
       "children": [
        "About the Data"
       ],
       "layout": "IPY_MODEL_b25ead985aa040cfb78a54c0204dede1",
       "v_slots": []
      }
     },
     "4a76ea6c5d654947b5703604b71dc990": {
      "model_module": "@jupyter-widgets/base",
      "model_module_version": "1.2.0",
      "model_name": "LayoutModel",
      "state": {}
     },
     "4a8ab0f71daa4a109e0d0aa520bdf6cc": {
      "model_module": "jupyter-vuetify",
      "model_module_version": "^1.5.1",
      "model_name": "CardModel",
      "state": {
       "_events": [],
       "_jupyter_vue": "IPY_MODEL_bc2712ed128d4d47ba50f0f591fcb068",
       "attributes": {},
       "children": [
        "IPY_MODEL_973e265ca68345b997d617898c5b3d25",
        "IPY_MODEL_1c47b1165ca94a3a965f6573566b9e95",
        "IPY_MODEL_054bc81ce1d84c78ae49c03743276ecc"
       ],
       "elevation": null,
       "height": null,
       "href": null,
       "layout": "IPY_MODEL_a9de35af12374294aaa70457b1b982e0",
       "loader_height": null,
       "loading": null,
       "max_height": null,
       "max_width": null,
       "min_height": null,
       "min_width": null,
       "ripple": null,
       "to": null,
       "v_slots": [],
       "width": null
      }
     },
     "4a97fc191b07482c9ca27a722e2e2b78": {
      "model_module": "@jupyter-widgets/base",
      "model_module_version": "1.2.0",
      "model_name": "LayoutModel",
      "state": {}
     },
     "4aa4514cb1094672bc5bf03cd27ef1be": {
      "model_module": "@jupyter-widgets/base",
      "model_module_version": "1.2.0",
      "model_name": "LayoutModel",
      "state": {}
     },
     "4ae2ce397607411e830792cf254dcf20": {
      "model_module": "@jupyter-widgets/base",
      "model_module_version": "1.2.0",
      "model_name": "LayoutModel",
      "state": {}
     },
     "4ae9270337cf48f890187028b0266174": {
      "model_module": "@jupyter-widgets/base",
      "model_module_version": "1.2.0",
      "model_name": "LayoutModel",
      "state": {}
     },
     "4b1cb445049b4415b95887a61ea9c881": {
      "model_module": "@jupyter-widgets/base",
      "model_module_version": "1.2.0",
      "model_name": "LayoutModel",
      "state": {}
     },
     "4b264b2731dd44269090748dfb857085": {
      "model_module": "@jupyter-widgets/base",
      "model_module_version": "1.2.0",
      "model_name": "LayoutModel",
      "state": {}
     },
     "4b5739e3707b43e7b17eece2f4a484db": {
      "model_module": "@jupyter-widgets/base",
      "model_module_version": "1.2.0",
      "model_name": "LayoutModel",
      "state": {}
     },
     "4b67694406f54dc885f21b0d537bcf88": {
      "model_module": "@jupyter-widgets/base",
      "model_module_version": "1.2.0",
      "model_name": "LayoutModel",
      "state": {}
     },
     "4c0de000a9dd455ba1286d76278a1347": {
      "model_module": "@jupyter-widgets/base",
      "model_module_version": "1.2.0",
      "model_name": "LayoutModel",
      "state": {}
     },
     "4c16249e7587492e86554a2539df7b97": {
      "model_module": "jupyter-vuetify",
      "model_module_version": "^1.5.1",
      "model_name": "CardTitleModel",
      "state": {
       "_events": [],
       "_jupyter_vue": "IPY_MODEL_bc2712ed128d4d47ba50f0f591fcb068",
       "attributes": {},
       "children": [
        "About the Data"
       ],
       "layout": "IPY_MODEL_b333fc0ff40e4f4fa5fec0d1436fc296",
       "v_slots": []
      }
     },
     "4c1986e0f3ce4dd19592e31a4daff7b3": {
      "model_module": "jupyter-vuetify",
      "model_module_version": "^1.5.1",
      "model_name": "CardModel",
      "state": {
       "_events": [],
       "_jupyter_vue": "IPY_MODEL_bc2712ed128d4d47ba50f0f591fcb068",
       "attributes": {},
       "children": [
        "IPY_MODEL_ce4d778e0b32494494cc2335f6646ee9",
        "IPY_MODEL_491ac223cb6c46479f9d5adefcc31090"
       ],
       "elevation": null,
       "height": null,
       "href": null,
       "layout": "IPY_MODEL_8530b413530d43adb1e9d207824d5790",
       "loader_height": null,
       "loading": null,
       "max_height": null,
       "max_width": null,
       "min_height": null,
       "min_width": null,
       "ripple": null,
       "to": null,
       "v_slots": [],
       "width": null
      }
     },
     "4c3e5d463ec84e8f8ae4ed0522700631": {
      "model_module": "jupyter-vuetify",
      "model_module_version": "^1.5.1",
      "model_name": "HtmlModel",
      "state": {
       "_events": [],
       "_jupyter_vue": "IPY_MODEL_bc2712ed128d4d47ba50f0f591fcb068",
       "_model_module_version": "^1.5.1",
       "_view_module_version": "^1.5.1",
       "attributes": {
        "href": "https://www.sandiegocounty.gov/content/sdc/hhsa/programs/phs/community_epidemiology/dc/2019-nCoV/status.html",
        "target": "_blank"
       },
       "children": [
        "County of San Diego"
       ],
       "layout": "IPY_MODEL_084063a790d6400baec0a71291d64c2e",
       "tag": "a",
       "v_slots": []
      }
     },
     "4c4dd89fe2e64ff68b909abb7dec7ac0": {
      "model_module": "jupyter-vuetify",
      "model_module_version": "^1.5.1",
      "model_name": "CardTextModel",
      "state": {
       "_events": [],
       "_jupyter_vue": "IPY_MODEL_bc2712ed128d4d47ba50f0f591fcb068",
       "attributes": {},
       "children": [
        "IPY_MODEL_7963a66c3e0242b8add58fcacfcf0ce2",
        "IPY_MODEL_bca4fb97952248eb82ad6677cabf5d23",
        "IPY_MODEL_3869b2b1acdb460f9099030a6c125ab0"
       ],
       "layout": "IPY_MODEL_5e2b1c482b4b4d1084aa6c75b31db408",
       "v_slots": []
      }
     },
     "4c5f11f0fa4048b0995fa00e85a2896f": {
      "model_module": "jupyter-vuetify",
      "model_module_version": "^1.5.1",
      "model_name": "CardTitleModel",
      "state": {
       "_events": [],
       "_jupyter_vue": "IPY_MODEL_bc2712ed128d4d47ba50f0f591fcb068",
       "attributes": {},
       "children": [
        "ZIP Code Boundaries"
       ],
       "layout": "IPY_MODEL_6c1acedcd80c4e7fbdc3f3226e6ac5f6",
       "v_slots": []
      }
     },
     "4c6e884e239045ea90276ed4f7945015": {
      "model_module": "jupyter-vuetify",
      "model_module_version": "^1.5.1",
      "model_name": "CardTextModel",
      "state": {
       "_events": [],
       "_jupyter_vue": "IPY_MODEL_bc2712ed128d4d47ba50f0f591fcb068",
       "attributes": {},
       "children": [
        "IPY_MODEL_2720d17c0d1d4a55a731c22cd353432b",
        "IPY_MODEL_706492c58751497f93af9a76b06e2410",
        "IPY_MODEL_eb971b6c7a5b4d0aab44e40309dfac8e"
       ],
       "layout": "IPY_MODEL_a217e1ffc85c4a04b90fb20f292c1c44",
       "v_slots": []
      }
     },
     "4c9dc627526545c8818ae22435dae977": {
      "model_module": "@jupyter-widgets/base",
      "model_module_version": "1.2.0",
      "model_name": "LayoutModel",
      "state": {}
     },
     "4cb5a6c3636c42d6ae00edf89b5b4ce2": {
      "model_module": "@jupyter-widgets/base",
      "model_module_version": "1.2.0",
      "model_name": "LayoutModel",
      "state": {}
     },
     "4cb7b0ee72dd4aa6ac29b2eada105b5f": {
      "model_module": "jupyter-vuetify",
      "model_module_version": "^1.5.1",
      "model_name": "CardModel",
      "state": {
       "_events": [],
       "_jupyter_vue": "IPY_MODEL_bc2712ed128d4d47ba50f0f591fcb068",
       "attributes": {},
       "children": [
        "IPY_MODEL_c870ee82ec9e4d7f887518b86f2b0984",
        "IPY_MODEL_88a99291215742a0b0048f670a903db1"
       ],
       "elevation": null,
       "height": null,
       "href": null,
       "layout": "IPY_MODEL_b813200dd34645338b68d9a11b3a01d4",
       "loader_height": null,
       "loading": null,
       "max_height": null,
       "max_width": null,
       "min_height": null,
       "min_width": null,
       "ripple": null,
       "to": null,
       "v_slots": [],
       "width": null
      }
     },
     "4cdec8a727e14cbd8ae605153f9091ef": {
      "model_module": "@jupyter-widgets/base",
      "model_module_version": "1.2.0",
      "model_name": "LayoutModel",
      "state": {}
     },
     "4ce04fcd12b24005b890c9e89a4324e2": {
      "model_module": "@jupyter-widgets/base",
      "model_module_version": "1.2.0",
      "model_name": "LayoutModel",
      "state": {}
     },
     "4d0ec834c9d0428e927da91ceabfc649": {
      "model_module": "@jupyter-widgets/base",
      "model_module_version": "1.2.0",
      "model_name": "LayoutModel",
      "state": {}
     },
     "4d29a3154f114797b5f6cbd324dd0cf1": {
      "model_module": "jupyter-vuetify",
      "model_module_version": "^1.5.1",
      "model_name": "ContainerModel",
      "state": {
       "_events": [],
       "_jupyter_vue": "IPY_MODEL_bc2712ed128d4d47ba50f0f591fcb068",
       "attributes": {},
       "children": [
        "IPY_MODEL_1cae30a4b01e4ff4a246b2df2220ae7e"
       ],
       "fluid": true,
       "layout": "IPY_MODEL_3f284d14f0934c3a8869e8fc347b9fee",
       "v_slots": []
      }
     },
     "4d44256688854b67b3cdbd42acf8294c": {
      "model_module": "jupyter-vuetify",
      "model_module_version": "^1.5.1",
      "model_name": "ColModel",
      "state": {
       "_events": [],
       "_jupyter_vue": "IPY_MODEL_bc2712ed128d4d47ba50f0f591fcb068",
       "attributes": {},
       "children": [
        "IPY_MODEL_465b1e6ae1764a5f852b5fd72e93a130"
       ],
       "cols": 6,
       "layout": "IPY_MODEL_e1ceb65a8c7742cb8955876140275e8d",
       "lg": null,
       "md": null,
       "offset": null,
       "offset_lg": null,
       "offset_md": null,
       "offset_sm": null,
       "offset_xl": null,
       "order": null,
       "order_lg": null,
       "order_md": null,
       "order_sm": null,
       "order_xl": null,
       "sm": null,
       "v_slots": [],
       "xl": null
      }
     },
     "4d86a7f7bb454901a252a4964812b58b": {
      "model_module": "jupyter-vuetify",
      "model_module_version": "^1.5.1",
      "model_name": "CardTitleModel",
      "state": {
       "_events": [],
       "_jupyter_vue": "IPY_MODEL_bc2712ed128d4d47ba50f0f591fcb068",
       "attributes": {},
       "children": [
        "Covid-19 Case Data"
       ],
       "layout": "IPY_MODEL_a2eb0671c4054c6dbe541eb51b140be7",
       "v_slots": []
      }
     },
     "4d91687868a74e688567140a355a3653": {
      "model_module": "@jupyter-widgets/base",
      "model_module_version": "1.2.0",
      "model_name": "LayoutModel",
      "state": {}
     },
     "4debfb0d2c0d46df9239249aa6603510": {
      "model_module": "jupyter-vuetify",
      "model_module_version": "^1.5.1",
      "model_name": "CardTextModel",
      "state": {
       "_events": [],
       "_jupyter_vue": "IPY_MODEL_bc2712ed128d4d47ba50f0f591fcb068",
       "attributes": {},
       "children": [
        "lol"
       ],
       "layout": "IPY_MODEL_1d6754e87f1c4f0ca3bac3bf5171b6df",
       "v_slots": []
      }
     },
     "4e02327e620e49cd955e2b9f815ee55c": {
      "model_module": "@jupyter-widgets/base",
      "model_module_version": "1.2.0",
      "model_name": "LayoutModel",
      "state": {}
     },
     "4e2cd450eace4feba12ccff3a321fd41": {
      "model_module": "jupyter-vuetify",
      "model_module_version": "^1.5.1",
      "model_name": "CardTitleModel",
      "state": {
       "_events": [],
       "_jupyter_vue": "IPY_MODEL_bc2712ed128d4d47ba50f0f591fcb068",
       "attributes": {},
       "children": [
        "ZIP Codes"
       ],
       "layout": "IPY_MODEL_95a7ec5c3f474ccf93be6472853e8b7f",
       "v_slots": []
      }
     },
     "4e3134d979474703bc903730c335ebd0": {
      "model_module": "jupyter-vuetify",
      "model_module_version": "^1.5.1",
      "model_name": "CardModel",
      "state": {
       "_events": [],
       "_jupyter_vue": "IPY_MODEL_bc2712ed128d4d47ba50f0f591fcb068",
       "attributes": {},
       "children": [
        "IPY_MODEL_eaea97c2edf343f1b463aef7bbfb3338",
        "IPY_MODEL_3e7955f2a52844b4aca7ad5a44380492",
        "IPY_MODEL_e181d442194c48ff915717c2a786e4a4"
       ],
       "elevation": null,
       "height": null,
       "href": null,
       "layout": "IPY_MODEL_cc1f5f7a8c7f4ce78899c4733aa046c0",
       "loader_height": null,
       "loading": null,
       "max_height": null,
       "max_width": null,
       "min_height": null,
       "min_width": null,
       "ripple": null,
       "to": null,
       "v_slots": [],
       "width": null
      }
     },
     "4e52ad2f9e8c414ca03dedcfb1a2ca09": {
      "model_module": "jupyter-vuetify",
      "model_module_version": "^1.5.1",
      "model_name": "CardModel",
      "state": {
       "_events": [],
       "_jupyter_vue": "IPY_MODEL_bc2712ed128d4d47ba50f0f591fcb068",
       "attributes": {},
       "children": [
        "IPY_MODEL_bea6f023496f4e09b2811bc462c674dd",
        "IPY_MODEL_aabdfc2c50594dbbab08332a5056a226"
       ],
       "elevation": null,
       "height": null,
       "href": null,
       "layout": "IPY_MODEL_34f0ce5507e64eee9415bf5f853096fb",
       "loader_height": null,
       "loading": null,
       "max_height": null,
       "max_width": null,
       "min_height": null,
       "min_width": null,
       "ripple": null,
       "to": null,
       "v_slots": [],
       "width": null
      }
     },
     "4eb5d185a10b4061a47f14618b71a66b": {
      "model_module": "jupyter-vuetify",
      "model_module_version": "^1.5.1",
      "model_name": "CardModel",
      "state": {
       "_events": [],
       "_jupyter_vue": "IPY_MODEL_bc2712ed128d4d47ba50f0f591fcb068",
       "attributes": {},
       "children": [
        "IPY_MODEL_35c8874d3df747ee9b9ba89f616f695f",
        "IPY_MODEL_3deb798aeb154dbcb9600feb4138b794"
       ],
       "elevation": null,
       "height": null,
       "href": null,
       "layout": "IPY_MODEL_30ce45ac4b6748fda1dbb65cbc2b9fb7",
       "loader_height": null,
       "loading": null,
       "max_height": null,
       "max_width": null,
       "min_height": null,
       "min_width": null,
       "ripple": null,
       "to": null,
       "v_slots": [],
       "width": null
      }
     },
     "4ebe24eeceeb4d68b0ca5dbb4a104598": {
      "model_module": "@jupyter-widgets/base",
      "model_module_version": "1.2.0",
      "model_name": "LayoutModel",
      "state": {}
     },
     "4ed8c8c3ae6e4880b5d5580a7d356d5d": {
      "model_module": "jupyter-vuetify",
      "model_module_version": "^1.5.1",
      "model_name": "CardTitleModel",
      "state": {
       "_events": [],
       "_jupyter_vue": "IPY_MODEL_bc2712ed128d4d47ba50f0f591fcb068",
       "attributes": {},
       "children": [
        "ZIP Code Boundaries"
       ],
       "layout": "IPY_MODEL_2b38471ac87e44a0a0f404676426f62c",
       "v_slots": []
      }
     },
     "4ee2c9d37c3c4563a6c7b442ec12a3af": {
      "model_module": "@jupyter-widgets/base",
      "model_module_version": "1.2.0",
      "model_name": "LayoutModel",
      "state": {}
     },
     "4ef5e4a386d84855962bf43fea48fb8e": {
      "model_module": "@jupyter-widgets/base",
      "model_module_version": "1.2.0",
      "model_name": "LayoutModel",
      "state": {}
     },
     "4ef989877e5b46dbb5b655b9ebd8e3ea": {
      "model_module": "@jupyter-widgets/base",
      "model_module_version": "1.2.0",
      "model_name": "LayoutModel",
      "state": {}
     },
     "4f1367588d1a4d67bee18942aae8d3ec": {
      "model_module": "jupyter-vuetify",
      "model_module_version": "^1.5.1",
      "model_name": "CardModel",
      "state": {
       "_events": [],
       "_jupyter_vue": "IPY_MODEL_bc2712ed128d4d47ba50f0f591fcb068",
       "attributes": {},
       "children": [
        "IPY_MODEL_b4015e41650e42b6b8039e81daa2f52c",
        "IPY_MODEL_8aa29fd323b441ffa5f739a87d4860b2",
        "IPY_MODEL_24def93202f049558026e38a55955add"
       ],
       "elevation": null,
       "height": null,
       "href": null,
       "layout": "IPY_MODEL_05f00931e33c4084b030589408f1e2ea",
       "loader_height": null,
       "loading": null,
       "max_height": null,
       "max_width": null,
       "min_height": null,
       "min_width": null,
       "ripple": null,
       "to": null,
       "v_slots": [],
       "width": null
      }
     },
     "4f59caa71a7a4c17b31a615e2bc72816": {
      "model_module": "@jupyter-widgets/base",
      "model_module_version": "1.2.0",
      "model_name": "LayoutModel",
      "state": {}
     },
     "4f722d0886cf4e92bcdfd5bb60821d85": {
      "model_module": "@jupyter-widgets/base",
      "model_module_version": "1.2.0",
      "model_name": "LayoutModel",
      "state": {}
     },
     "4f89699d0d45405b932a704a0fa44fb9": {
      "model_module": "@jupyter-widgets/base",
      "model_module_version": "1.2.0",
      "model_name": "LayoutModel",
      "state": {}
     },
     "4faa5c0d06f54e4288c1b195dc1a0e4c": {
      "model_module": "jupyter-vuetify",
      "model_module_version": "^1.5.1",
      "model_name": "ColModel",
      "state": {
       "_events": [],
       "_jupyter_vue": "IPY_MODEL_bc2712ed128d4d47ba50f0f591fcb068",
       "attributes": {},
       "children": [
        "IPY_MODEL_129325472eb24825b70dd2e04bc5e8f6"
       ],
       "cols": 12,
       "layout": "IPY_MODEL_6c96c25d0496477ea09e2c7de7c24092",
       "lg": null,
       "md": null,
       "offset": null,
       "offset_lg": null,
       "offset_md": null,
       "offset_sm": null,
       "offset_xl": null,
       "order": null,
       "order_lg": null,
       "order_md": null,
       "order_sm": null,
       "order_xl": null,
       "sm": null,
       "v_slots": [],
       "xl": null
      }
     },
     "4fc2507af1ba4a589d55ed0b963a8d65": {
      "model_module": "@jupyter-widgets/base",
      "model_module_version": "1.2.0",
      "model_name": "LayoutModel",
      "state": {}
     },
     "4fe034aab98e46a8958e99f8904e2abc": {
      "model_module": "@jupyter-widgets/base",
      "model_module_version": "1.2.0",
      "model_name": "LayoutModel",
      "state": {}
     },
     "4fe10856d0a549369edbe8011778a499": {
      "model_module": "@jupyter-widgets/base",
      "model_module_version": "1.2.0",
      "model_name": "LayoutModel",
      "state": {}
     },
     "500559b82f554e148a398ba5b03de15b": {
      "model_module": "@jupyter-widgets/base",
      "model_module_version": "1.2.0",
      "model_name": "LayoutModel",
      "state": {}
     },
     "5046d7c51a174db5b73c926ea97038bd": {
      "model_module": "@jupyter-widgets/base",
      "model_module_version": "1.2.0",
      "model_name": "LayoutModel",
      "state": {}
     },
     "51b9dfb69edc44859a0ab63668a2fa8c": {
      "model_module": "@jupyter-widgets/base",
      "model_module_version": "1.2.0",
      "model_name": "LayoutModel",
      "state": {}
     },
     "51cef35e8fa74eddb698c2d93842f141": {
      "model_module": "@jupyter-widgets/base",
      "model_module_version": "1.2.0",
      "model_name": "LayoutModel",
      "state": {}
     },
     "521e7824c3c6415ea2537dd29446dfcf": {
      "model_module": "jupyter-vuetify",
      "model_module_version": "^1.5.1",
      "model_name": "CardActionsModel",
      "state": {
       "_events": [],
       "_jupyter_vue": "IPY_MODEL_bc2712ed128d4d47ba50f0f591fcb068",
       "attributes": {},
       "children": [
        "IPY_MODEL_c0dcb6bbc31d414cb7df005ecae0fd36"
       ],
       "layout": "IPY_MODEL_f11bf555aca943cbb9352a766aa8510a",
       "v_slots": []
      }
     },
     "52206c4442cf4a939078678a9f051884": {
      "model_module": "@jupyter-widgets/base",
      "model_module_version": "1.2.0",
      "model_name": "LayoutModel",
      "state": {}
     },
     "527e39a876a14054b336408202cfaef2": {
      "model_module": "jupyter-vuetify",
      "model_module_version": "^1.5.1",
      "model_name": "CardTextModel",
      "state": {
       "_events": [],
       "_jupyter_vue": "IPY_MODEL_bc2712ed128d4d47ba50f0f591fcb068",
       "attributes": {},
       "children": [
        "The ZIP code boundaries shown in all maps are taken from the SANDAG/SanGIS Open Data Portal."
       ],
       "layout": "IPY_MODEL_4fe10856d0a549369edbe8011778a499",
       "v_slots": []
      }
     },
     "52887c8675884354b94612837846a0e9": {
      "model_module": "@jupyter-widgets/base",
      "model_module_version": "1.2.0",
      "model_name": "LayoutModel",
      "state": {}
     },
     "5289130a3a6d4dac9b3f5cbdd1cf8591": {
      "model_module": "jupyter-vuetify",
      "model_module_version": "^1.5.1",
      "model_name": "RowModel",
      "state": {
       "_events": [],
       "_jupyter_vue": "IPY_MODEL_bc2712ed128d4d47ba50f0f591fcb068",
       "attributes": {},
       "children": [
        "IPY_MODEL_5c1965e434e747fe80eb68fc792cae81",
        "IPY_MODEL_0acb9f8f38674ab5a4be373a052f77a0",
        "IPY_MODEL_455d5fbbc76147d99e036c6211b494f8"
       ],
       "dense": true,
       "layout": "IPY_MODEL_bc5991a3898d487ba8d51b804ad56401",
       "v_slots": []
      }
     },
     "529ffa069f454729ad0a3786ab325a5f": {
      "model_module": "@jupyter-widgets/base",
      "model_module_version": "1.2.0",
      "model_name": "LayoutModel",
      "state": {}
     },
     "52cd714722504f3daade94703e844265": {
      "model_module": "@jupyter-widgets/base",
      "model_module_version": "1.2.0",
      "model_name": "LayoutModel",
      "state": {}
     },
     "52ecc604ea644cbe8aa4b410997e3af6": {
      "model_module": "@jupyter-widgets/base",
      "model_module_version": "1.2.0",
      "model_name": "LayoutModel",
      "state": {}
     },
     "5307a4b74b0941cf99b7ff4f4ea3a079": {
      "model_module": "jupyter-vuetify",
      "model_module_version": "^1.5.1",
      "model_name": "CardTitleModel",
      "state": {
       "_events": [],
       "_jupyter_vue": "IPY_MODEL_bc2712ed128d4d47ba50f0f591fcb068",
       "attributes": {},
       "children": [
        "Covid-19 Case Data"
       ],
       "layout": "IPY_MODEL_ef1d212ac2a44f398d449279afc82d88",
       "v_slots": []
      }
     },
     "530d7dc4a51b49ab845fcee5ac9425f6": {
      "model_module": "jupyter-vuetify",
      "model_module_version": "^1.5.1",
      "model_name": "ColModel",
      "state": {
       "_events": [],
       "_jupyter_vue": "IPY_MODEL_bc2712ed128d4d47ba50f0f591fcb068",
       "attributes": {},
       "children": [
        "IPY_MODEL_45375b27372d479aa832aefea6f2bec9"
       ],
       "cols": 6,
       "layout": "IPY_MODEL_37f6e4a356c740b2b29c3384c1056b30",
       "lg": null,
       "md": null,
       "offset": null,
       "offset_lg": null,
       "offset_md": null,
       "offset_sm": null,
       "offset_xl": null,
       "order": null,
       "order_lg": null,
       "order_md": null,
       "order_sm": null,
       "order_xl": null,
       "sm": null,
       "v_slots": [],
       "xl": null
      }
     },
     "530f48ee7ab8428294c57edfad5b4956": {
      "model_module": "jupyter-vuetify",
      "model_module_version": "^1.5.1",
      "model_name": "HtmlModel",
      "state": {
       "_events": [],
       "_jupyter_vue": "IPY_MODEL_bc2712ed128d4d47ba50f0f591fcb068",
       "_model_module_version": "^1.5.1",
       "_view_module_version": "^1.5.1",
       "attributes": {
        "href": "https://sdgis-sandag.opendata.arcgis.com/datasets/zip-code",
        "target": "_blank"
       },
       "children": [
        "Data Source"
       ],
       "layout": "IPY_MODEL_73e7fc8b7c2b423ba57c150b82125a08",
       "tag": "a",
       "v_slots": []
      }
     },
     "5338fb4183424c0f8cacd9b9adbaa4b4": {
      "model_module": "jupyter-vuetify",
      "model_module_version": "^1.5.1",
      "model_name": "CardTitleModel",
      "state": {
       "_events": [],
       "_jupyter_vue": "IPY_MODEL_bc2712ed128d4d47ba50f0f591fcb068",
       "attributes": {},
       "children": [
        "About the Data"
       ],
       "layout": "IPY_MODEL_b411d076e3ae4a06964f02038c65d7c0",
       "v_slots": []
      }
     },
     "534cd4aeced64145b0b1559ab41774cb": {
      "model_module": "jupyter-vuetify",
      "model_module_version": "^1.5.1",
      "model_name": "BtnModel",
      "state": {
       "_events": [],
       "_jupyter_vue": "IPY_MODEL_bc2712ed128d4d47ba50f0f591fcb068",
       "attributes": {},
       "children": [
        "SANDAG Disclaimer"
       ],
       "color": "purple",
       "elevation": null,
       "height": null,
       "href": null,
       "layout": "IPY_MODEL_cb683de0dda04b45a8f9c740d90e5811",
       "max_height": null,
       "max_width": null,
       "min_height": null,
       "min_width": null,
       "ripple": null,
       "text": true,
       "to": null,
       "v_slots": [],
       "width": null
      }
     },
     "534e9e87d0574e709604e1c3d7a1a7b7": {
      "model_module": "@jupyter-widgets/base",
      "model_module_version": "1.2.0",
      "model_name": "LayoutModel",
      "state": {}
     },
     "535f84a5bfb64ed5aef0546f76dc43bf": {
      "model_module": "jupyter-vuetify",
      "model_module_version": "^1.5.1",
      "model_name": "CardTitleModel",
      "state": {
       "_events": [],
       "_jupyter_vue": "IPY_MODEL_bc2712ed128d4d47ba50f0f591fcb068",
       "attributes": {},
       "children": [
        "ZIP Code Boundaries"
       ],
       "layout": "IPY_MODEL_894df8ac43dd4d439028b20be5590192",
       "v_slots": []
      }
     },
     "539f2916209d486cae6ed345d36dfbda": {
      "model_module": "jupyter-vuetify",
      "model_module_version": "^1.5.1",
      "model_name": "CardModel",
      "state": {
       "_events": [],
       "_jupyter_vue": "IPY_MODEL_bc2712ed128d4d47ba50f0f591fcb068",
       "attributes": {},
       "children": [
        "IPY_MODEL_a39c7130f73441d2bba4939350a3abb6",
        "IPY_MODEL_c13c52eb620b4575be28b5bcafa4558a",
        "IPY_MODEL_e7779c171cc04c1cb7e07f8e4a8be3e3"
       ],
       "elevation": null,
       "height": null,
       "href": null,
       "layout": "IPY_MODEL_63a4cde761ee404a96a23d30ce859fa9",
       "loader_height": null,
       "loading": null,
       "max_height": null,
       "max_width": null,
       "min_height": null,
       "min_width": null,
       "ripple": null,
       "to": null,
       "v_slots": [],
       "width": null
      }
     },
     "53c3f032fc774ba28144047c09ee8505": {
      "model_module": "jupyter-vuetify",
      "model_module_version": "^1.5.1",
      "model_name": "CardTextModel",
      "state": {
       "_events": [],
       "_jupyter_vue": "IPY_MODEL_bc2712ed128d4d47ba50f0f591fcb068",
       "attributes": {},
       "children": [
        "The ZIP code boundaries shown in all maps are taken from the SANDAG/SanGIS Open Data Portal."
       ],
       "layout": "IPY_MODEL_9784dc3ae06a40fcb45cff4bc6d0f881",
       "v_slots": []
      }
     },
     "53c8e8670d8341af8053b727729a38c1": {
      "model_module": "jupyter-vuetify",
      "model_module_version": "^1.5.1",
      "model_name": "HtmlModel",
      "state": {
       "_events": [],
       "_jupyter_vue": "IPY_MODEL_bc2712ed128d4d47ba50f0f591fcb068",
       "_model_module_version": "^1.5.1",
       "_view_module_version": "^1.5.1",
       "attributes": {
        "href": "https://archive.org/donate/",
        "target": "_blank"
       },
       "children": [
        "Donate to Internet Archive"
       ],
       "layout": "IPY_MODEL_6225505cbd0444c7ac8c8df816bed34c",
       "tag": "a",
       "v_slots": []
      }
     },
     "543a7e0d530b48feb3b5ae002e2fe632": {
      "model_module": "@jupyter-widgets/base",
      "model_module_version": "1.2.0",
      "model_name": "LayoutModel",
      "state": {}
     },
     "5445adadc94548b99e4828ae02878bc4": {
      "model_module": "jupyter-vuetify",
      "model_module_version": "^1.5.1",
      "model_name": "BtnModel",
      "state": {
       "_events": [],
       "_jupyter_vue": "IPY_MODEL_bc2712ed128d4d47ba50f0f591fcb068",
       "attributes": {},
       "children": [
        "IPY_MODEL_b0cd54a4b8e0471699416f27fd393aaf"
       ],
       "color": "blue",
       "elevation": null,
       "height": null,
       "href": null,
       "layout": "IPY_MODEL_c720506ca85c4e0f8264b68c7f56065c",
       "max_height": null,
       "max_width": null,
       "min_height": null,
       "min_width": null,
       "ripple": null,
       "text": true,
       "to": null,
       "v_slots": [],
       "width": null
      }
     },
     "5454297a139347d7ae9b69e741ea2db2": {
      "model_module": "jupyter-vuetify",
      "model_module_version": "^1.5.1",
      "model_name": "CardTextModel",
      "state": {
       "_events": [],
       "_jupyter_vue": "IPY_MODEL_bc2712ed128d4d47ba50f0f591fcb068",
       "attributes": {},
       "children": [
        "The ZIP code boundaries shown in all maps are taken from the SANDAG/SanGIS Open Data Portal."
       ],
       "layout": "IPY_MODEL_fd1d4bce5b474c789916a00c6439191a",
       "v_slots": []
      }
     },
     "5466fdf5fc73420aa9ed42ae57652a56": {
      "model_module": "@jupyter-widgets/base",
      "model_module_version": "1.2.0",
      "model_name": "LayoutModel",
      "state": {}
     },
     "549cb7f37f734fe682cc1fcd9689e4e9": {
      "model_module": "jupyter-vuetify",
      "model_module_version": "^1.5.1",
      "model_name": "CardTextModel",
      "state": {
       "_events": [],
       "_jupyter_vue": "IPY_MODEL_bc2712ed128d4d47ba50f0f591fcb068",
       "attributes": {},
       "children": [
        "This section informs about the sources of the data that are used in this dashboard."
       ],
       "layout": "IPY_MODEL_ff1318129b614e45b6b41e70a10a81b0",
       "v_slots": []
      }
     },
     "54b109e4c0a4424f884443796bd8d5ef": {
      "model_module": "@jupyter-widgets/base",
      "model_module_version": "1.2.0",
      "model_name": "LayoutModel",
      "state": {}
     },
     "54b85464cf894d24b73d847b082ba300": {
      "model_module": "@jupyter-widgets/base",
      "model_module_version": "1.2.0",
      "model_name": "LayoutModel",
      "state": {}
     },
     "54c3e44e477d402094a707530bd50681": {
      "model_module": "@jupyter-widgets/base",
      "model_module_version": "1.2.0",
      "model_name": "LayoutModel",
      "state": {}
     },
     "54c797a7a1834bd08336629bb2833fb5": {
      "model_module": "@jupyter-widgets/base",
      "model_module_version": "1.2.0",
      "model_name": "LayoutModel",
      "state": {}
     },
     "5513e9c25c92496e970f74654e89650c": {
      "model_module": "jupyter-vuetify",
      "model_module_version": "^1.5.1",
      "model_name": "CardModel",
      "state": {
       "_events": [],
       "_jupyter_vue": "IPY_MODEL_bc2712ed128d4d47ba50f0f591fcb068",
       "attributes": {},
       "children": [
        "IPY_MODEL_409e946a3df04dc9a0d2f51e1f72219b",
        "IPY_MODEL_acd11e8b11504e438a22da365dd03dcf",
        "IPY_MODEL_173c899eb6ab424f8c9e76e7b4e12c0c"
       ],
       "elevation": null,
       "height": null,
       "href": null,
       "layout": "IPY_MODEL_699fd0fa39494b1ba491270301ed39c5",
       "loader_height": null,
       "loading": null,
       "max_height": null,
       "max_width": null,
       "min_height": null,
       "min_width": null,
       "ripple": null,
       "to": null,
       "v_slots": [],
       "width": null
      }
     },
     "5536a228c92544b38aeaf51a6ce389f8": {
      "model_module": "@jupyter-widgets/base",
      "model_module_version": "1.2.0",
      "model_name": "LayoutModel",
      "state": {}
     },
     "55598192682f41e6a9df9e0919c1708a": {
      "model_module": "@jupyter-widgets/base",
      "model_module_version": "1.2.0",
      "model_name": "LayoutModel",
      "state": {}
     },
     "5579642bc1bd4b6d90abfc90fc57d6f7": {
      "model_module": "jupyter-vuetify",
      "model_module_version": "^1.5.1",
      "model_name": "RowModel",
      "state": {
       "_events": [],
       "_jupyter_vue": "IPY_MODEL_bc2712ed128d4d47ba50f0f591fcb068",
       "attributes": {},
       "children": [
        "IPY_MODEL_1c9aec055e024558b71140de075f6fdf",
        "IPY_MODEL_4885b476708f4a41b37e200651534513",
        "IPY_MODEL_bf851662e6f949cabcadaf9754ed85bb"
       ],
       "dense": true,
       "layout": "IPY_MODEL_1928a8bfb13c4b56a0f62b6e793befe1",
       "v_slots": []
      }
     },
     "55a4e7bc57ac42ba8038488d90aa2c5c": {
      "model_module": "jupyter-vuetify",
      "model_module_version": "^1.5.1",
      "model_name": "CardTextModel",
      "state": {
       "_events": [],
       "_jupyter_vue": "IPY_MODEL_bc2712ed128d4d47ba50f0f591fcb068",
       "attributes": {},
       "children": [
        "The ZIP code boundaries shown in all maps are taken from the SANDAG/SanGIS Open Data Portal."
       ],
       "layout": "IPY_MODEL_fdafa39ee0904015a8f0e8981d8e9509",
       "v_slots": []
      }
     },
     "55afa5bdacb2404d80999f5b871c6abb": {
      "model_module": "jupyter-vuetify",
      "model_module_version": "^1.5.1",
      "model_name": "HtmlModel",
      "state": {
       "_events": [],
       "_jupyter_vue": "IPY_MODEL_bc2712ed128d4d47ba50f0f591fcb068",
       "_model_module_version": "^1.5.1",
       "_view_module_version": "^1.5.1",
       "attributes": {},
       "children": [
        "SANDAG, Current Estimates (data extracted on: 9/2020)"
       ],
       "layout": "IPY_MODEL_38344e25e81c46708cad0b636d7f2e22",
       "tag": "i",
       "v_slots": []
      }
     },
     "55b597ca18b445b1884ad0b2d90b6306": {
      "model_module": "@jupyter-widgets/base",
      "model_module_version": "1.2.0",
      "model_name": "LayoutModel",
      "state": {}
     },
     "56670049455544d5aaceeabce1c3b478": {
      "model_module": "jupyter-vuetify",
      "model_module_version": "^1.5.1",
      "model_name": "CardTextModel",
      "state": {
       "_events": [],
       "_jupyter_vue": "IPY_MODEL_bc2712ed128d4d47ba50f0f591fcb068",
       "attributes": {},
       "children": [
        "lol"
       ],
       "layout": "IPY_MODEL_2cbb44912bad4dbd94f2ed22fbdbe6d9",
       "v_slots": []
      }
     },
     "56904bf9800140da8ab9177191e2a0e7": {
      "model_module": "@jupyter-widgets/base",
      "model_module_version": "1.2.0",
      "model_name": "LayoutModel",
      "state": {}
     },
     "569f59ed298c4559ba573085bc2dcf16": {
      "model_module": "jupyter-vuetify",
      "model_module_version": "^1.5.1",
      "model_name": "ColModel",
      "state": {
       "_events": [],
       "_jupyter_vue": "IPY_MODEL_bc2712ed128d4d47ba50f0f591fcb068",
       "attributes": {},
       "children": [
        "IPY_MODEL_7e00eee69db8421a98714d680a295506"
       ],
       "cols": 12,
       "layout": "IPY_MODEL_57023df958e94dd09d7bbc0848f104fc",
       "lg": null,
       "md": null,
       "offset": null,
       "offset_lg": null,
       "offset_md": null,
       "offset_sm": null,
       "offset_xl": null,
       "order": null,
       "order_lg": null,
       "order_md": null,
       "order_sm": null,
       "order_xl": null,
       "sm": null,
       "v_slots": [],
       "xl": null
      }
     },
     "56a7829a51d44ceab96880d542f8805e": {
      "model_module": "@jupyter-widgets/base",
      "model_module_version": "1.2.0",
      "model_name": "LayoutModel",
      "state": {}
     },
     "56afa03bfd6f4b9fb622f3db4facb274": {
      "model_module": "@jupyter-widgets/base",
      "model_module_version": "1.2.0",
      "model_name": "LayoutModel",
      "state": {}
     },
     "56c183b179614f9cb16799cf8dc4983b": {
      "model_module": "@jupyter-widgets/base",
      "model_module_version": "1.2.0",
      "model_name": "LayoutModel",
      "state": {}
     },
     "57023df958e94dd09d7bbc0848f104fc": {
      "model_module": "@jupyter-widgets/base",
      "model_module_version": "1.2.0",
      "model_name": "LayoutModel",
      "state": {}
     },
     "571785f145c0494d8fc077be689555ef": {
      "model_module": "@jupyter-widgets/base",
      "model_module_version": "1.2.0",
      "model_name": "LayoutModel",
      "state": {}
     },
     "5736917e26a44a2db618eb0b46243142": {
      "model_module": "@jupyter-widgets/base",
      "model_module_version": "1.2.0",
      "model_name": "LayoutModel",
      "state": {}
     },
     "573959de9e9c4e348abc333cddf2c8fa": {
      "model_module": "@jupyter-widgets/base",
      "model_module_version": "1.2.0",
      "model_name": "LayoutModel",
      "state": {}
     },
     "57a1f71696714dd4bd545817634ef824": {
      "model_module": "@jupyter-widgets/base",
      "model_module_version": "1.2.0",
      "model_name": "LayoutModel",
      "state": {}
     },
     "57b6ab2873d74629a482331c8b9ae39b": {
      "model_module": "@jupyter-widgets/base",
      "model_module_version": "1.2.0",
      "model_name": "LayoutModel",
      "state": {}
     },
     "57c8e92037934f079e6104b6df6e4e11": {
      "model_module": "jupyter-vuetify",
      "model_module_version": "^1.5.1",
      "model_name": "CardModel",
      "state": {
       "_events": [],
       "_jupyter_vue": "IPY_MODEL_bc2712ed128d4d47ba50f0f591fcb068",
       "attributes": {},
       "children": [
        "IPY_MODEL_fd4c0ebd9c8a430fa8cd0a640e0e4949",
        "IPY_MODEL_83700ae244344f54856d088f81425a11"
       ],
       "elevation": null,
       "height": null,
       "href": null,
       "layout": "IPY_MODEL_84d48fe6771740a895a5175100211fe1",
       "loader_height": null,
       "loading": null,
       "max_height": null,
       "max_width": null,
       "min_height": null,
       "min_width": null,
       "ripple": null,
       "to": null,
       "v_slots": [],
       "width": null
      }
     },
     "57f56a62c1cd434ca3b3ba2307b00b02": {
      "model_module": "@jupyter-widgets/base",
      "model_module_version": "1.2.0",
      "model_name": "LayoutModel",
      "state": {}
     },
     "581dd00480424a339e1be917e2e2e563": {
      "model_module": "@jupyter-widgets/base",
      "model_module_version": "1.2.0",
      "model_name": "LayoutModel",
      "state": {}
     },
     "581f281dcb8841c29a7beb7e51432e54": {
      "model_module": "jupyter-vuetify",
      "model_module_version": "^1.5.1",
      "model_name": "ContainerModel",
      "state": {
       "_events": [],
       "_jupyter_vue": "IPY_MODEL_bc2712ed128d4d47ba50f0f591fcb068",
       "attributes": {},
       "children": [
        "IPY_MODEL_20d5251cbc984c199279b9a968e0f10c"
       ],
       "fluid": true,
       "layout": "IPY_MODEL_87fc0083490f4932b225a3960e38ec95",
       "v_slots": []
      }
     },
     "5835a7be45994906ac947652d9ade429": {
      "model_module": "jupyter-vuetify",
      "model_module_version": "^1.5.1",
      "model_name": "CardModel",
      "state": {
       "_events": [],
       "_jupyter_vue": "IPY_MODEL_bc2712ed128d4d47ba50f0f591fcb068",
       "attributes": {},
       "children": [
        "IPY_MODEL_3373f18c12ee421bb4c626ce61fc3a9c",
        "IPY_MODEL_c49cb1544cac4b67b7cdad17e44ee329",
        "IPY_MODEL_4d29a3154f114797b5f6cbd324dd0cf1"
       ],
       "elevation": null,
       "height": null,
       "href": null,
       "layout": "IPY_MODEL_adbe950088564b148bd1c1c649b8e77b",
       "loader_height": null,
       "loading": null,
       "max_height": null,
       "max_width": null,
       "min_height": null,
       "min_width": null,
       "ripple": null,
       "to": null,
       "v_slots": [],
       "width": null
      }
     },
     "58a5bb5e850c42d18210a5560eafcc5e": {
      "model_module": "jupyter-vuetify",
      "model_module_version": "^1.5.1",
      "model_name": "CardModel",
      "state": {
       "_events": [],
       "_jupyter_vue": "IPY_MODEL_bc2712ed128d4d47ba50f0f591fcb068",
       "attributes": {},
       "children": [
        "IPY_MODEL_8d3b92be472542d28722fe7cdfe6ca96",
        "IPY_MODEL_527e39a876a14054b336408202cfaef2",
        "IPY_MODEL_fc57a846918b4bc681974b1a498f0663"
       ],
       "elevation": null,
       "height": null,
       "href": null,
       "layout": "IPY_MODEL_a158356ae5064924aa859aa1ae5ee44c",
       "loader_height": null,
       "loading": null,
       "max_height": null,
       "max_width": null,
       "min_height": null,
       "min_width": null,
       "ripple": null,
       "to": null,
       "v_slots": [],
       "width": null
      }
     },
     "58ad88eb7d334bf4803364934921156f": {
      "model_module": "jupyter-vuetify",
      "model_module_version": "^1.5.1",
      "model_name": "HtmlModel",
      "state": {
       "_events": [],
       "_jupyter_vue": "IPY_MODEL_bc2712ed128d4d47ba50f0f591fcb068",
       "_model_module_version": "^1.5.1",
       "_view_module_version": "^1.5.1",
       "attributes": {},
       "children": [
        "Population counts and other demographic data have been received from the SANDAG Data Surfer."
       ],
       "layout": "IPY_MODEL_a795ee3968b140c7afcca68174973034",
       "tag": "p",
       "v_slots": []
      }
     },
     "58bef332ad7b47a78c5a2eefad576d52": {
      "model_module": "jupyter-vuetify",
      "model_module_version": "^1.5.1",
      "model_name": "BtnModel",
      "state": {
       "_events": [],
       "_jupyter_vue": "IPY_MODEL_bc2712ed128d4d47ba50f0f591fcb068",
       "attributes": {},
       "children": [
        "IPY_MODEL_c46bafc317944727b8e9dfca3283ca79"
       ],
       "color": "blue",
       "elevation": null,
       "height": null,
       "href": null,
       "layout": "IPY_MODEL_c10474a400634dadb8f334423287f62c",
       "max_height": null,
       "max_width": null,
       "min_height": null,
       "min_width": null,
       "ripple": null,
       "text": true,
       "to": null,
       "v_slots": [],
       "width": null
      }
     },
     "58d0d942e87544c79e60a492b93b7159": {
      "model_module": "@jupyter-widgets/base",
      "model_module_version": "1.2.0",
      "model_name": "LayoutModel",
      "state": {}
     },
     "591280ea71de4365a38735553195d20f": {
      "model_module": "@jupyter-widgets/base",
      "model_module_version": "1.2.0",
      "model_name": "LayoutModel",
      "state": {}
     },
     "592e03d7b9c24d47b9b9f1b2104fe791": {
      "model_module": "jupyter-vuetify",
      "model_module_version": "^1.5.1",
      "model_name": "HtmlModel",
      "state": {
       "_events": [],
       "_jupyter_vue": "IPY_MODEL_bc2712ed128d4d47ba50f0f591fcb068",
       "_model_module_version": "^1.5.1",
       "_view_module_version": "^1.5.1",
       "attributes": {},
       "children": [
        "lol"
       ],
       "layout": "IPY_MODEL_1642cbb9b84545488dee4d3134cd88ea",
       "tag": "div",
       "v_slots": []
      }
     },
     "59989311c7ab4fb38a1c0e7f88b60a67": {
      "model_module": "@jupyter-widgets/base",
      "model_module_version": "1.2.0",
      "model_name": "LayoutModel",
      "state": {}
     },
     "59a6083948a7483d9170424f7974109d": {
      "model_module": "jupyter-vuetify",
      "model_module_version": "^1.5.1",
      "model_name": "CardActionsModel",
      "state": {
       "_events": [],
       "_jupyter_vue": "IPY_MODEL_bc2712ed128d4d47ba50f0f591fcb068",
       "attributes": {},
       "children": [
        "IPY_MODEL_bf9272228bc4475cad005d394285a476",
        "IPY_MODEL_cb4e869c91e741fd8db63e560901e594"
       ],
       "layout": "IPY_MODEL_864698e54703480bb540f5b0d148ef96",
       "v_slots": []
      }
     },
     "59def853b661476f90fb1fe0b4b497b5": {
      "model_module": "@jupyter-widgets/base",
      "model_module_version": "1.2.0",
      "model_name": "LayoutModel",
      "state": {}
     },
     "59eba07a83ca44fab6b408848e75f2c1": {
      "model_module": "@jupyter-widgets/base",
      "model_module_version": "1.2.0",
      "model_name": "LayoutModel",
      "state": {}
     },
     "5a25736251664322b86d94d02b2974a9": {
      "model_module": "jupyter-vuetify",
      "model_module_version": "^1.5.1",
      "model_name": "CardTextModel",
      "state": {
       "_events": [],
       "_jupyter_vue": "IPY_MODEL_bc2712ed128d4d47ba50f0f591fcb068",
       "attributes": {},
       "children": [
        "IPY_MODEL_b8819ef20c654684b0ea3ba835d096fc"
       ],
       "layout": "IPY_MODEL_bef4b4b3a41f48f1a97e6b8c968f0f04",
       "v_slots": []
      }
     },
     "5a48ea2ffc7e41c0bdb91d634597a84c": {
      "model_module": "jupyter-vuetify",
      "model_module_version": "^1.5.1",
      "model_name": "CardTextModel",
      "state": {
       "_events": [],
       "_jupyter_vue": "IPY_MODEL_bc2712ed128d4d47ba50f0f591fcb068",
       "attributes": {},
       "children": [
        "The ZIP code boundaries shown in all maps are taken from the SANDAG/SanGIS Open Data Portal."
       ],
       "layout": "IPY_MODEL_225df0b4fc2548018b5750038a03fd8e",
       "v_slots": []
      }
     },
     "5abd5248097e4abaa052230a47416f40": {
      "model_module": "@jupyter-widgets/base",
      "model_module_version": "1.2.0",
      "model_name": "LayoutModel",
      "state": {}
     },
     "5b24b4a3d0594a4a82d3facaba6a7a0d": {
      "model_module": "@jupyter-widgets/base",
      "model_module_version": "1.2.0",
      "model_name": "LayoutModel",
      "state": {}
     },
     "5b53b335531e4ea68536131bb4ddb9c4": {
      "model_module": "jupyter-vuetify",
      "model_module_version": "^1.5.1",
      "model_name": "HtmlModel",
      "state": {
       "_events": [],
       "_jupyter_vue": "IPY_MODEL_bc2712ed128d4d47ba50f0f591fcb068",
       "_model_module_version": "^1.5.1",
       "_view_module_version": "^1.5.1",
       "attributes": {},
       "children": [
        "Zip code is zip code of residence, which may not be location of exposure. Rates based on small case counts may vary considerably and should be interpreted with caution.",
        "Data are preliminary and subject to change. Total population=3,351,784."
       ],
       "layout": "IPY_MODEL_dacd9b3d24774fe883323aeaf53a54f5",
       "tag": "p",
       "v_slots": []
      }
     },
     "5b6a6f98d79b4420b10ee36cd40b3ffb": {
      "model_module": "@jupyter-widgets/base",
      "model_module_version": "1.2.0",
      "model_name": "LayoutModel",
      "state": {}
     },
     "5b6b31c223fc40699875559172680e23": {
      "model_module": "jupyter-vuetify",
      "model_module_version": "^1.5.1",
      "model_name": "CardTitleModel",
      "state": {
       "_events": [],
       "_jupyter_vue": "IPY_MODEL_bc2712ed128d4d47ba50f0f591fcb068",
       "attributes": {},
       "children": [
        "ZIP Codes"
       ],
       "layout": "IPY_MODEL_96ef9c0b15d342d98b0becde8dc45b7e",
       "v_slots": []
      }
     },
     "5b749b5afc79419ba0372b16a4537ccb": {
      "model_module": "@jupyter-widgets/base",
      "model_module_version": "1.2.0",
      "model_name": "LayoutModel",
      "state": {}
     },
     "5c1965e434e747fe80eb68fc792cae81": {
      "model_module": "jupyter-vuetify",
      "model_module_version": "^1.5.1",
      "model_name": "ColModel",
      "state": {
       "_events": [],
       "_jupyter_vue": "IPY_MODEL_bc2712ed128d4d47ba50f0f591fcb068",
       "attributes": {},
       "children": [
        "IPY_MODEL_72e99ea98b2e4650b42c74b18a833f13"
       ],
       "cols": 12,
       "layout": "IPY_MODEL_ef5725a27b2a45659b84439bb4accdf2",
       "lg": null,
       "md": null,
       "offset": null,
       "offset_lg": null,
       "offset_md": null,
       "offset_sm": null,
       "offset_xl": null,
       "order": null,
       "order_lg": null,
       "order_md": null,
       "order_sm": null,
       "order_xl": null,
       "sm": null,
       "v_slots": [],
       "xl": null
      }
     },
     "5c2560494bf84df99ab8269a3a6cb1eb": {
      "model_module": "@jupyter-widgets/base",
      "model_module_version": "1.2.0",
      "model_name": "LayoutModel",
      "state": {}
     },
     "5c810a0500e446a89834a015b1c8feba": {
      "model_module": "@jupyter-widgets/base",
      "model_module_version": "1.2.0",
      "model_name": "LayoutModel",
      "state": {}
     },
     "5c9472760a734783942ee874379a126c": {
      "model_module": "jupyter-vuetify",
      "model_module_version": "^1.5.1",
      "model_name": "CardTextModel",
      "state": {
       "_events": [],
       "_jupyter_vue": "IPY_MODEL_bc2712ed128d4d47ba50f0f591fcb068",
       "attributes": {},
       "children": [
        "lol"
       ],
       "layout": "IPY_MODEL_396e5986dd91415c9e55f5834986616b",
       "v_slots": []
      }
     },
     "5cbf521ce22d4c4cabdad6a1429121f9": {
      "model_module": "jupyter-vuetify",
      "model_module_version": "^1.5.1",
      "model_name": "CardModel",
      "state": {
       "_events": [],
       "_jupyter_vue": "IPY_MODEL_bc2712ed128d4d47ba50f0f591fcb068",
       "attributes": {},
       "children": [
        "IPY_MODEL_c96b124e665c4ce38f7d1b2ae0803de7",
        "IPY_MODEL_f98e57394a4c40b8b94da3f0421dad88"
       ],
       "elevation": null,
       "height": null,
       "href": null,
       "layout": "IPY_MODEL_930011b291b247c181384b31f627bf73",
       "loader_height": null,
       "loading": null,
       "max_height": null,
       "max_width": null,
       "min_height": null,
       "min_width": null,
       "ripple": null,
       "to": null,
       "v_slots": [],
       "width": null
      }
     },
     "5ce391b23fae41c7b4cc302231138e8e": {
      "model_module": "@jupyter-widgets/base",
      "model_module_version": "1.2.0",
      "model_name": "LayoutModel",
      "state": {}
     },
     "5d0f42359ead4549aa575e106b8512f4": {
      "model_module": "@jupyter-widgets/base",
      "model_module_version": "1.2.0",
      "model_name": "LayoutModel",
      "state": {}
     },
     "5d3e0d101c1343e8bf8f479b21d6ec28": {
      "model_module": "jupyter-vuetify",
      "model_module_version": "^1.5.1",
      "model_name": "CardTextModel",
      "state": {
       "_events": [],
       "_jupyter_vue": "IPY_MODEL_bc2712ed128d4d47ba50f0f591fcb068",
       "attributes": {},
       "children": [
        "The ZIP code boundaries shown in all maps are taken from the SANDAG/SanGIS Open Data Portal."
       ],
       "layout": "IPY_MODEL_38466d4f9c37401ab143d727e8206dc8",
       "v_slots": []
      }
     },
     "5d660d65d04240fbb671d70b4e40f236": {
      "model_module": "@jupyter-widgets/base",
      "model_module_version": "1.2.0",
      "model_name": "LayoutModel",
      "state": {}
     },
     "5dbae6f278b04f92832dfe4cd04ed4cd": {
      "model_module": "jupyter-vuetify",
      "model_module_version": "^1.5.1",
      "model_name": "CardActionsModel",
      "state": {
       "_events": [],
       "_jupyter_vue": "IPY_MODEL_bc2712ed128d4d47ba50f0f591fcb068",
       "attributes": {},
       "children": [
        "IPY_MODEL_a646b1b82b2e425ca8ab9486a2199dc2"
       ],
       "layout": "IPY_MODEL_efbf181f0fbc4f8d95c3b2f47d33089a",
       "v_slots": []
      }
     },
     "5dd4ce9f419943618b2da35f24839c22": {
      "model_module": "jupyter-vuetify",
      "model_module_version": "^1.5.1",
      "model_name": "HtmlModel",
      "state": {
       "_events": [],
       "_jupyter_vue": "IPY_MODEL_bc2712ed128d4d47ba50f0f591fcb068",
       "_model_module_version": "^1.5.1",
       "_view_module_version": "^1.5.1",
       "attributes": {
        "href": "https://www.sandiegocounty.gov/content/sdc/hhsa/programs/phs/community_epidemiology/dc/2019-nCoV/status.html",
        "target": "_blank"
       },
       "children": [
        "County of San Diego"
       ],
       "layout": "IPY_MODEL_c2a0dacaf1a24a82a2415fcc120e92b4",
       "tag": "a",
       "v_slots": []
      }
     },
     "5dd982e829a64dbb95e78e2c42da24df": {
      "model_module": "jupyter-vuetify",
      "model_module_version": "^1.5.1",
      "model_name": "HtmlModel",
      "state": {
       "_events": [],
       "_jupyter_vue": "IPY_MODEL_bc2712ed128d4d47ba50f0f591fcb068",
       "_model_module_version": "^1.5.1",
       "_view_module_version": "^1.5.1",
       "attributes": {},
       "children": [
        "Zip code is zip code of residence, which may not be location of exposure. Rates based on small case counts may vary considerably and should be interpreted with caution.",
        "Data are preliminary and subject to change. Total population=3,351,784."
       ],
       "layout": "IPY_MODEL_d2a01437068449498497db6a5be18528",
       "tag": "p",
       "v_slots": []
      }
     },
     "5df36ca93eb64f49bf0e647a7c6b3e5c": {
      "model_module": "@jupyter-widgets/base",
      "model_module_version": "1.2.0",
      "model_name": "LayoutModel",
      "state": {}
     },
     "5e2b1c482b4b4d1084aa6c75b31db408": {
      "model_module": "@jupyter-widgets/base",
      "model_module_version": "1.2.0",
      "model_name": "LayoutModel",
      "state": {}
     },
     "5e5db85cd16843589bbaadea236d6ba1": {
      "model_module": "@jupyter-widgets/base",
      "model_module_version": "1.2.0",
      "model_name": "LayoutModel",
      "state": {}
     },
     "5e8e69669455404baf2039b5f86a51d4": {
      "model_module": "@jupyter-widgets/base",
      "model_module_version": "1.2.0",
      "model_name": "LayoutModel",
      "state": {}
     },
     "5e91743e00e444e79aeed6efc447c73c": {
      "model_module": "jupyter-vuetify",
      "model_module_version": "^1.5.1",
      "model_name": "BtnModel",
      "state": {
       "_events": [],
       "_jupyter_vue": "IPY_MODEL_bc2712ed128d4d47ba50f0f591fcb068",
       "attributes": {},
       "children": [
        "IPY_MODEL_9c3373c92f4c4bbc89a7eaca2077e8dc"
       ],
       "color": "blue",
       "elevation": null,
       "height": null,
       "href": null,
       "layout": "IPY_MODEL_95f11853f95441e1ad1b3196d623f521",
       "max_height": null,
       "max_width": null,
       "min_height": null,
       "min_width": null,
       "ripple": null,
       "text": true,
       "to": null,
       "v_slots": [],
       "width": null
      }
     },
     "5e968fa3f674454d8a4cdf1ed16954b2": {
      "model_module": "@jupyter-widgets/base",
      "model_module_version": "1.2.0",
      "model_name": "LayoutModel",
      "state": {}
     },
     "5e97195be5f544fe96f43ed6da0238e7": {
      "model_module": "@jupyter-widgets/base",
      "model_module_version": "1.2.0",
      "model_name": "LayoutModel",
      "state": {}
     },
     "5ed8dd6f2b7842bcb5ad04f8444a26e0": {
      "model_module": "jupyter-vuetify",
      "model_module_version": "^1.5.1",
      "model_name": "CardModel",
      "state": {
       "_events": [],
       "_jupyter_vue": "IPY_MODEL_bc2712ed128d4d47ba50f0f591fcb068",
       "attributes": {},
       "children": [
        "IPY_MODEL_a022ad0786d6427d8d974dae8104f5e0",
        "IPY_MODEL_a7f90c26d04149909a2bf92489ada800"
       ],
       "elevation": null,
       "height": null,
       "href": null,
       "layout": "IPY_MODEL_08476dd4864f48558118e535ed983b64",
       "loader_height": null,
       "loading": null,
       "max_height": null,
       "max_width": null,
       "min_height": null,
       "min_width": null,
       "ripple": null,
       "to": null,
       "v_slots": [],
       "width": null
      }
     },
     "5f5bce2c2fe44ffc98fa29ac955ddf14": {
      "model_module": "jupyter-vuetify",
      "model_module_version": "^1.5.1",
      "model_name": "HtmlModel",
      "state": {
       "_events": [],
       "_jupyter_vue": "IPY_MODEL_bc2712ed128d4d47ba50f0f591fcb068",
       "_model_module_version": "^1.5.1",
       "_view_module_version": "^1.5.1",
       "attributes": {},
       "children": [
        "Zip code is zip code of residence, which may not be location of exposure. Rates based on small case counts may vary considerably and should be interpreted with caution.",
        "Data are preliminary and subject to change. Total population=3,351,784."
       ],
       "layout": "IPY_MODEL_b5fb0953f7574e50b1e43bc00dbf5af6",
       "tag": "p",
       "v_slots": []
      }
     },
     "5fe3918b9ac14e0ebdb15ea1781e28fc": {
      "model_module": "@jupyter-widgets/base",
      "model_module_version": "1.2.0",
      "model_name": "LayoutModel",
      "state": {}
     },
     "6012f48a45f34dfe95712f57d28d5dad": {
      "model_module": "@jupyter-widgets/base",
      "model_module_version": "1.2.0",
      "model_name": "LayoutModel",
      "state": {}
     },
     "606a2373d5314c379f142afa1fa54c23": {
      "model_module": "@jupyter-widgets/base",
      "model_module_version": "1.2.0",
      "model_name": "LayoutModel",
      "state": {}
     },
     "6096283308f14f4b8bc1997d36d3dda9": {
      "model_module": "@jupyter-widgets/base",
      "model_module_version": "1.2.0",
      "model_name": "LayoutModel",
      "state": {}
     },
     "60a7a5af9a8f4bcf8602be7ee60c31c2": {
      "model_module": "jupyter-vuetify",
      "model_module_version": "^1.5.1",
      "model_name": "CardTitleModel",
      "state": {
       "_events": [],
       "_jupyter_vue": "IPY_MODEL_bc2712ed128d4d47ba50f0f591fcb068",
       "attributes": {},
       "children": [
        "Demographic Data"
       ],
       "layout": "IPY_MODEL_88442e0ee3d647418f40fd06e52a2671",
       "v_slots": []
      }
     },
     "60aee12562a14e5f964345b28fd6345c": {
      "model_module": "@jupyter-widgets/base",
      "model_module_version": "1.2.0",
      "model_name": "LayoutModel",
      "state": {}
     },
     "60b69a48cd0d48d48d187e1dde202ec2": {
      "model_module": "@jupyter-widgets/base",
      "model_module_version": "1.2.0",
      "model_name": "LayoutModel",
      "state": {}
     },
     "60ce47f3ec7b4bf5b8bb76502c7be76b": {
      "model_module": "@jupyter-widgets/base",
      "model_module_version": "1.2.0",
      "model_name": "LayoutModel",
      "state": {}
     },
     "60e8fb735f9a484fb4abde2020c56c5a": {
      "model_module": "@jupyter-widgets/base",
      "model_module_version": "1.2.0",
      "model_name": "LayoutModel",
      "state": {}
     },
     "60eaf3ee3d7b433a88e0e876aa7e522f": {
      "model_module": "@jupyter-widgets/base",
      "model_module_version": "1.2.0",
      "model_name": "LayoutModel",
      "state": {}
     },
     "60f92336add44762912362fbdcc79663": {
      "model_module": "jupyter-vuetify",
      "model_module_version": "^1.5.1",
      "model_name": "ColModel",
      "state": {
       "_events": [],
       "_jupyter_vue": "IPY_MODEL_bc2712ed128d4d47ba50f0f591fcb068",
       "attributes": {},
       "children": [
        "IPY_MODEL_722e592a745f4d88a3410ece525c0ee0"
       ],
       "cols": 6,
       "layout": "IPY_MODEL_c29248a4477b41a5ad99fa72cc19686f",
       "lg": null,
       "md": null,
       "offset": null,
       "offset_lg": null,
       "offset_md": null,
       "offset_sm": null,
       "offset_xl": null,
       "order": null,
       "order_lg": null,
       "order_md": null,
       "order_sm": null,
       "order_xl": null,
       "sm": null,
       "v_slots": [],
       "xl": null
      }
     },
     "616a6cadb3e547e8a54521dc336d1ba4": {
      "model_module": "@jupyter-widgets/base",
      "model_module_version": "1.2.0",
      "model_name": "LayoutModel",
      "state": {}
     },
     "6189d7c2a47d48168c027f881bdda264": {
      "model_module": "@jupyter-widgets/base",
      "model_module_version": "1.2.0",
      "model_name": "LayoutModel",
      "state": {}
     },
     "61bf0631c30f46e2aa178f3e707cf5a4": {
      "model_module": "@jupyter-widgets/base",
      "model_module_version": "1.2.0",
      "model_name": "LayoutModel",
      "state": {}
     },
     "61e9bb82e4d34edcb23b0ddae127814d": {
      "model_module": "@jupyter-widgets/base",
      "model_module_version": "1.2.0",
      "model_name": "LayoutModel",
      "state": {}
     },
     "6208b30f37a342dd9fede72560e8416a": {
      "model_module": "@jupyter-widgets/base",
      "model_module_version": "1.2.0",
      "model_name": "LayoutModel",
      "state": {}
     },
     "620c5826373d4711801d3d4eb98351d3": {
      "model_module": "@jupyter-widgets/base",
      "model_module_version": "1.2.0",
      "model_name": "LayoutModel",
      "state": {}
     },
     "6225505cbd0444c7ac8c8df816bed34c": {
      "model_module": "@jupyter-widgets/base",
      "model_module_version": "1.2.0",
      "model_name": "LayoutModel",
      "state": {}
     },
     "623363a59c234acca6ae85c0e4ef10f2": {
      "model_module": "jupyter-vuetify",
      "model_module_version": "^1.5.1",
      "model_name": "CardTitleModel",
      "state": {
       "_events": [],
       "_jupyter_vue": "IPY_MODEL_bc2712ed128d4d47ba50f0f591fcb068",
       "attributes": {},
       "children": [
        "ZIP Code Boundaries"
       ],
       "layout": "IPY_MODEL_270a79da53164f8bacdbfdc8b857f727",
       "v_slots": []
      }
     },
     "6274427b22ec4d429db9bb0733c5089b": {
      "model_module": "jupyter-vuetify",
      "model_module_version": "^1.5.1",
      "model_name": "ContainerModel",
      "state": {
       "_events": [],
       "_jupyter_vue": "IPY_MODEL_bc2712ed128d4d47ba50f0f591fcb068",
       "attributes": {},
       "children": [
        "IPY_MODEL_e08d23f5bc93483ebea7a48968fa0354"
       ],
       "fluid": true,
       "layout": "IPY_MODEL_9e105974575a427dba3b0b85e47ef7a4",
       "v_slots": []
      }
     },
     "628a21ff32ff4464a4152e03d1036271": {
      "model_module": "@jupyter-widgets/base",
      "model_module_version": "1.2.0",
      "model_name": "LayoutModel",
      "state": {}
     },
     "629c29d491d649ca9bf59f691472da3d": {
      "model_module": "jupyter-vuetify",
      "model_module_version": "^1.5.1",
      "model_name": "CardTextModel",
      "state": {
       "_events": [],
       "_jupyter_vue": "IPY_MODEL_bc2712ed128d4d47ba50f0f591fcb068",
       "attributes": {},
       "children": [
        "lol"
       ],
       "layout": "IPY_MODEL_e7f4c31b02534def9cde16708043e22e",
       "v_slots": []
      }
     },
     "62a6225fa5a14f24895264205068987b": {
      "model_module": "jupyter-vuetify",
      "model_module_version": "^1.5.1",
      "model_name": "ContainerModel",
      "state": {
       "_events": [],
       "_jupyter_vue": "IPY_MODEL_bc2712ed128d4d47ba50f0f591fcb068",
       "attributes": {},
       "children": [
        "IPY_MODEL_e15f9b3e3ae74e3fac0c96041b8e3bd0"
       ],
       "fluid": true,
       "layout": "IPY_MODEL_8b4f0ce195d84486b241f195cb772aba",
       "v_slots": []
      }
     },
     "62c26b70ad124dccac28a96f16b67ec6": {
      "model_module": "@jupyter-widgets/base",
      "model_module_version": "1.2.0",
      "model_name": "LayoutModel",
      "state": {}
     },
     "62c9caec950344248bbb29b3e93a9f97": {
      "model_module": "jupyter-vuetify",
      "model_module_version": "^1.5.1",
      "model_name": "BtnModel",
      "state": {
       "_events": [],
       "_jupyter_vue": "IPY_MODEL_bc2712ed128d4d47ba50f0f591fcb068",
       "attributes": {},
       "children": [
        "IPY_MODEL_88f43d6949d34111b4fdc082a99628c2"
       ],
       "color": "blue",
       "elevation": null,
       "height": null,
       "href": null,
       "layout": "IPY_MODEL_84f5e454682444dda993e86f07128469",
       "max_height": null,
       "max_width": null,
       "min_height": null,
       "min_width": null,
       "ripple": null,
       "text": true,
       "to": null,
       "v_slots": [],
       "width": null
      }
     },
     "62f20f291fe242f78744a98e987063b8": {
      "model_module": "jupyter-vuetify",
      "model_module_version": "^1.5.1",
      "model_name": "HtmlModel",
      "state": {
       "_events": [],
       "_jupyter_vue": "IPY_MODEL_bc2712ed128d4d47ba50f0f591fcb068",
       "_model_module_version": "^1.5.1",
       "_view_module_version": "^1.5.1",
       "attributes": {
        "href": "https://www.sandiegocounty.gov/content/sdc/hhsa/programs/phs/community_epidemiology/dc/2019-nCoV/status.html",
        "target": "_blank"
       },
       "children": [
        "County of San Diego"
       ],
       "layout": "IPY_MODEL_8adc62cb82744e358fd114a6e6222fb6",
       "tag": "a",
       "v_slots": []
      }
     },
     "62fd9c91f8c5456fa82752e23e26250e": {
      "model_module": "jupyter-vuetify",
      "model_module_version": "^1.5.1",
      "model_name": "CardTitleModel",
      "state": {
       "_events": [],
       "_jupyter_vue": "IPY_MODEL_bc2712ed128d4d47ba50f0f591fcb068",
       "attributes": {},
       "children": [
        "About the Data"
       ],
       "layout": "IPY_MODEL_761f76d2302546e9976dbf0c397e29b0",
       "v_slots": []
      }
     },
     "630ff0caaedd470a923147675e177c81": {
      "model_module": "@jupyter-widgets/base",
      "model_module_version": "1.2.0",
      "model_name": "LayoutModel",
      "state": {}
     },
     "632fbdaceb084814ab8aaa62cb1848a9": {
      "model_module": "jupyter-vuetify",
      "model_module_version": "^1.5.1",
      "model_name": "CardTitleModel",
      "state": {
       "_events": [],
       "_jupyter_vue": "IPY_MODEL_bc2712ed128d4d47ba50f0f591fcb068",
       "attributes": {},
       "children": [
        "Covid-19 Case Data"
       ],
       "layout": "IPY_MODEL_b443a807cddc4f45bf748a4907acf9c4",
       "v_slots": []
      }
     },
     "6341e08c867f4b5fbc21785e49f77db9": {
      "model_module": "jupyter-vuetify",
      "model_module_version": "^1.5.1",
      "model_name": "BtnModel",
      "state": {
       "_events": [],
       "_jupyter_vue": "IPY_MODEL_bc2712ed128d4d47ba50f0f591fcb068",
       "attributes": {},
       "children": [
        "SANDAG Disclaimer"
       ],
       "elevation": null,
       "height": null,
       "href": null,
       "layout": "IPY_MODEL_8121d1ba67f8472e8870843cd2bdb435",
       "max_height": null,
       "max_width": null,
       "min_height": null,
       "min_width": null,
       "ripple": null,
       "text": true,
       "to": null,
       "v_slots": [],
       "width": null
      }
     },
     "634afbf575944f6f944d5a41caa35b77": {
      "model_module": "jupyter-vuetify",
      "model_module_version": "^1.5.1",
      "model_name": "BtnModel",
      "state": {
       "_events": [],
       "_jupyter_vue": "IPY_MODEL_bc2712ed128d4d47ba50f0f591fcb068",
       "attributes": {},
       "children": [
        "IPY_MODEL_affe633825714539b2054af973d6d1f8"
       ],
       "color": "blue",
       "elevation": null,
       "height": null,
       "href": null,
       "layout": "IPY_MODEL_bfb0b2fa90ef4b2bb0b30f35320256ab",
       "max_height": null,
       "max_width": null,
       "min_height": null,
       "min_width": null,
       "ripple": null,
       "text": true,
       "to": null,
       "v_slots": [],
       "width": null
      }
     },
     "63534200d4a04a2e8b9271620f4f4276": {
      "model_module": "jupyter-vuetify",
      "model_module_version": "^1.5.1",
      "model_name": "ColModel",
      "state": {
       "_events": [],
       "_jupyter_vue": "IPY_MODEL_bc2712ed128d4d47ba50f0f591fcb068",
       "attributes": {},
       "children": [
        "IPY_MODEL_75dcc0a0a0074ae49e7449b137c86cd3"
       ],
       "cols": 12,
       "layout": "IPY_MODEL_3aab81b61eec4c1c8044222dcac056b4",
       "lg": null,
       "md": null,
       "offset": null,
       "offset_lg": null,
       "offset_md": null,
       "offset_sm": null,
       "offset_xl": null,
       "order": null,
       "order_lg": null,
       "order_md": null,
       "order_sm": null,
       "order_xl": null,
       "sm": null,
       "v_slots": [],
       "xl": null
      }
     },
     "6354e5dcf8544b86a4b70418db91204d": {
      "model_module": "@jupyter-widgets/base",
      "model_module_version": "1.2.0",
      "model_name": "LayoutModel",
      "state": {}
     },
     "637c3cec232147c597494b905b6008ab": {
      "model_module": "@jupyter-widgets/base",
      "model_module_version": "1.2.0",
      "model_name": "LayoutModel",
      "state": {}
     },
     "63a1f24656dc415482573d95386172f3": {
      "model_module": "@jupyter-widgets/base",
      "model_module_version": "1.2.0",
      "model_name": "LayoutModel",
      "state": {}
     },
     "63a4cde761ee404a96a23d30ce859fa9": {
      "model_module": "@jupyter-widgets/base",
      "model_module_version": "1.2.0",
      "model_name": "LayoutModel",
      "state": {}
     },
     "63b01afb52c548eb8e4f8f82d00fcb72": {
      "model_module": "@jupyter-widgets/base",
      "model_module_version": "1.2.0",
      "model_name": "LayoutModel",
      "state": {}
     },
     "63d665641232468587d0b73e02cf2c4d": {
      "model_module": "@jupyter-widgets/base",
      "model_module_version": "1.2.0",
      "model_name": "LayoutModel",
      "state": {}
     },
     "6442753080de478cae7d0765af08f11e": {
      "model_module": "@jupyter-widgets/base",
      "model_module_version": "1.2.0",
      "model_name": "LayoutModel",
      "state": {}
     },
     "6442efdec947411eacc4ddf5154615b2": {
      "model_module": "jupyter-vuetify",
      "model_module_version": "^1.5.1",
      "model_name": "BtnModel",
      "state": {
       "_events": [],
       "_jupyter_vue": "IPY_MODEL_bc2712ed128d4d47ba50f0f591fcb068",
       "attributes": {},
       "children": [
        "IPY_MODEL_724289f42b9b4387ae2837c79cd08fde"
       ],
       "color": "blue",
       "elevation": null,
       "height": null,
       "href": null,
       "layout": "IPY_MODEL_78f6a3ca85b0458190a9d0b81f1dfef1",
       "max_height": null,
       "max_width": null,
       "min_height": null,
       "min_width": null,
       "ripple": null,
       "text": true,
       "to": null,
       "v_slots": [],
       "width": null
      }
     },
     "646bf3d58f094dd687f61e8d712d226d": {
      "model_module": "jupyter-vuetify",
      "model_module_version": "^1.5.1",
      "model_name": "BtnModel",
      "state": {
       "_events": [],
       "_jupyter_vue": "IPY_MODEL_bc2712ed128d4d47ba50f0f591fcb068",
       "attributes": {},
       "children": [
        "IPY_MODEL_8f17100ae0d44c95b5dcbdf268fca9a1"
       ],
       "color": "blue",
       "elevation": null,
       "height": null,
       "href": null,
       "layout": "IPY_MODEL_f8833a7aa4c2478bafbfbd6d797abe56",
       "max_height": null,
       "max_width": null,
       "min_height": null,
       "min_width": null,
       "ripple": null,
       "text": true,
       "to": null,
       "v_slots": [],
       "width": null
      }
     },
     "6476e1d1df5245d5bd6ed661a034c4b1": {
      "model_module": "jupyter-vuetify",
      "model_module_version": "^1.5.1",
      "model_name": "CardTextModel",
      "state": {
       "_events": [],
       "_jupyter_vue": "IPY_MODEL_bc2712ed128d4d47ba50f0f591fcb068",
       "attributes": {},
       "children": [
        "lol"
       ],
       "layout": "IPY_MODEL_76b0a46d23e643ee934cdc4730c735c4",
       "v_slots": []
      }
     },
     "64925fd69e4f4b0085ba4756bc91dcf7": {
      "model_module": "@jupyter-widgets/base",
      "model_module_version": "1.2.0",
      "model_name": "LayoutModel",
      "state": {}
     },
     "64c47483f9524a209185a764f33fb5b2": {
      "model_module": "@jupyter-widgets/base",
      "model_module_version": "1.2.0",
      "model_name": "LayoutModel",
      "state": {}
     },
     "64ce3d8bc0d047a7bd9a9baaf9feea33": {
      "model_module": "jupyter-vuetify",
      "model_module_version": "^1.5.1",
      "model_name": "BtnModel",
      "state": {
       "_events": [],
       "_jupyter_vue": "IPY_MODEL_bc2712ed128d4d47ba50f0f591fcb068",
       "attributes": {},
       "children": [
        "IPY_MODEL_268929e2d6d24635bb20b1a47fe99e6b"
       ],
       "color": "blue",
       "elevation": null,
       "height": null,
       "href": null,
       "layout": "IPY_MODEL_161d1ad3619d4c3fa3f89da4cb0841e1",
       "max_height": null,
       "max_width": null,
       "min_height": null,
       "min_width": null,
       "ripple": null,
       "text": true,
       "to": null,
       "v_slots": [],
       "width": null
      }
     },
     "64d4b5a126634e2c9fa329313d944245": {
      "model_module": "jupyter-vuetify",
      "model_module_version": "^1.5.1",
      "model_name": "CardModel",
      "state": {
       "_events": [],
       "_jupyter_vue": "IPY_MODEL_bc2712ed128d4d47ba50f0f591fcb068",
       "attributes": {},
       "children": [
        "IPY_MODEL_4740374496bd43ea8ba03019ecb86336",
        "IPY_MODEL_8ebb78ed468e4b87950fa7ccd40bdfba"
       ],
       "elevation": null,
       "height": null,
       "href": null,
       "layout": "IPY_MODEL_28424c3a2a44425091eeb9cf9d635aa2",
       "loader_height": null,
       "loading": null,
       "max_height": null,
       "max_width": null,
       "min_height": null,
       "min_width": null,
       "ripple": null,
       "to": null,
       "v_slots": [],
       "width": null
      }
     },
     "64e2fd0c58d440aab18c680839475582": {
      "model_module": "@jupyter-widgets/base",
      "model_module_version": "1.2.0",
      "model_name": "LayoutModel",
      "state": {}
     },
     "654c7d2b6b2e469b9e3d1400e76d4a09": {
      "model_module": "jupyter-vuetify",
      "model_module_version": "^1.5.1",
      "model_name": "CardActionsModel",
      "state": {
       "_events": [],
       "_jupyter_vue": "IPY_MODEL_bc2712ed128d4d47ba50f0f591fcb068",
       "attributes": {},
       "children": [
        "IPY_MODEL_62c9caec950344248bbb29b3e93a9f97",
        "IPY_MODEL_af59e7a698e04235ad44179f0e8c23a1"
       ],
       "layout": "IPY_MODEL_168714742b48416db85f0368b5ff4d14",
       "v_slots": []
      }
     },
     "659beae52b5d4b6993bea7f27bdc4223": {
      "model_module": "@jupyter-widgets/base",
      "model_module_version": "1.2.0",
      "model_name": "LayoutModel",
      "state": {}
     },
     "65bd3139e2e8476db1d25fec8e5de864": {
      "model_module": "@jupyter-widgets/base",
      "model_module_version": "1.2.0",
      "model_name": "LayoutModel",
      "state": {}
     },
     "65be681b642c49e3b1e4996d6db6627f": {
      "model_module": "jupyter-vuetify",
      "model_module_version": "^1.5.1",
      "model_name": "CardTextModel",
      "state": {
       "_events": [],
       "_jupyter_vue": "IPY_MODEL_bc2712ed128d4d47ba50f0f591fcb068",
       "attributes": {},
       "children": [
        "IPY_MODEL_68b59bc13b094613b6a9c6593e53d234"
       ],
       "layout": "IPY_MODEL_e5e502d192bb48a58bb45f051e64fb8e",
       "v_slots": []
      }
     },
     "65cb979469964af09ba1ae6891a10a19": {
      "model_module": "@jupyter-widgets/base",
      "model_module_version": "1.2.0",
      "model_name": "LayoutModel",
      "state": {}
     },
     "65d0529c91e9457c9b7d33ce42fd5831": {
      "model_module": "@jupyter-widgets/base",
      "model_module_version": "1.2.0",
      "model_name": "LayoutModel",
      "state": {}
     },
     "65dc711770504be69ad1f7e138fdcb2b": {
      "model_module": "@jupyter-widgets/base",
      "model_module_version": "1.2.0",
      "model_name": "LayoutModel",
      "state": {}
     },
     "65e2aa56741c4d28aedf019205b0b806": {
      "model_module": "jupyter-vuetify",
      "model_module_version": "^1.5.1",
      "model_name": "CardActionsModel",
      "state": {
       "_events": [],
       "_jupyter_vue": "IPY_MODEL_bc2712ed128d4d47ba50f0f591fcb068",
       "attributes": {},
       "children": [
        "IPY_MODEL_03c375c058fb44b5b0a35e8e607dcc54",
        "IPY_MODEL_357e3b874e6a4730a6e421ed946f14cd"
       ],
       "layout": "IPY_MODEL_cfb10779a06a4c12bfaaaf4ba3535af2",
       "v_slots": []
      }
     },
     "65e4cd0fd58140b096cca5675b5f1209": {
      "model_module": "@jupyter-widgets/base",
      "model_module_version": "1.2.0",
      "model_name": "LayoutModel",
      "state": {}
     },
     "6608209ab34649f1b7f59ad75c5e177c": {
      "model_module": "@jupyter-widgets/base",
      "model_module_version": "1.2.0",
      "model_name": "LayoutModel",
      "state": {}
     },
     "6618f777a03c4a3fb36692d302a29a8b": {
      "model_module": "@jupyter-widgets/base",
      "model_module_version": "1.2.0",
      "model_name": "LayoutModel",
      "state": {}
     },
     "663478e9bc2a407fa7b52266793e76ff": {
      "model_module": "@jupyter-widgets/base",
      "model_module_version": "1.2.0",
      "model_name": "LayoutModel",
      "state": {}
     },
     "6659cd45e9e34a2bb953cf7e572c3859": {
      "model_module": "@jupyter-widgets/base",
      "model_module_version": "1.2.0",
      "model_name": "LayoutModel",
      "state": {}
     },
     "6666a079a7924215ae5a478195e58cda": {
      "model_module": "jupyter-vuetify",
      "model_module_version": "^1.5.1",
      "model_name": "HtmlModel",
      "state": {
       "_events": [],
       "_jupyter_vue": "IPY_MODEL_bc2712ed128d4d47ba50f0f591fcb068",
       "_model_module_version": "^1.5.1",
       "_view_module_version": "^1.5.1",
       "attributes": {},
       "children": [
        "Zip code is zip code of residence, which may not be location of exposure. Rates based on small case counts may vary considerably and should be interpreted with caution.",
        "Data are preliminary and subject to change. Total population=3,351,784."
       ],
       "layout": "IPY_MODEL_a82a20c2c8de438b9ae2912d1eb6d272",
       "tag": "p",
       "v_slots": []
      }
     },
     "66d8fba5317546b2ae3ac8ab8ac426a9": {
      "model_module": "@jupyter-widgets/base",
      "model_module_version": "1.2.0",
      "model_name": "LayoutModel",
      "state": {}
     },
     "6702be7e1bd34b4082a7bf8395ed6ccc": {
      "model_module": "jupyter-vuetify",
      "model_module_version": "^1.5.1",
      "model_name": "HtmlModel",
      "state": {
       "_events": [],
       "_jupyter_vue": "IPY_MODEL_bc2712ed128d4d47ba50f0f591fcb068",
       "_model_module_version": "^1.5.1",
       "_view_module_version": "^1.5.1",
       "attributes": {},
       "children": [
        "All Covid-19 case data have been received from the Internet Archive. The original data have been prepared in PDF documents with the title \"Daily Coronavirus Disease 2019 (COVID-19) Summary of Cases by Zip Code of Residence\" by the County of San Diego, Health and Human Services Agency, Public Health Services, Epidemiology and Immunization Services Branch."
       ],
       "layout": "IPY_MODEL_1e03b4c5e6ea419c973a30648fa38ca3",
       "tag": "p",
       "v_slots": []
      }
     },
     "671c1266cdaf4c2081512735755fc3b8": {
      "model_module": "jupyter-vuetify",
      "model_module_version": "^1.5.1",
      "model_name": "CardModel",
      "state": {
       "_events": [],
       "_jupyter_vue": "IPY_MODEL_bc2712ed128d4d47ba50f0f591fcb068",
       "attributes": {},
       "children": [
        "IPY_MODEL_37f0c291e6a54655bd65d625400d1ca2",
        "IPY_MODEL_2ee2cfea88c34ebf8c742adeba91739e"
       ],
       "elevation": null,
       "height": null,
       "href": null,
       "layout": "IPY_MODEL_dd753fda55d84d44a04c9357ffb02b50",
       "loader_height": null,
       "loading": null,
       "max_height": null,
       "max_width": null,
       "min_height": null,
       "min_width": null,
       "ripple": null,
       "to": null,
       "v_slots": [],
       "width": null
      }
     },
     "676af0ddb6fd4b9fa025f9213d22dbeb": {
      "model_module": "@jupyter-widgets/base",
      "model_module_version": "1.2.0",
      "model_name": "LayoutModel",
      "state": {}
     },
     "685c058ea1dd4872940bdfeb3302d488": {
      "model_module": "jupyter-vuetify",
      "model_module_version": "^1.5.1",
      "model_name": "CardTextModel",
      "state": {
       "_events": [],
       "_jupyter_vue": "IPY_MODEL_bc2712ed128d4d47ba50f0f591fcb068",
       "attributes": {},
       "children": [
        "lol"
       ],
       "layout": "IPY_MODEL_2794805b7dd2416abe88ef6a5aa7281c",
       "v_slots": []
      }
     },
     "68a3464b47584442be8b9b050430e0ca": {
      "model_module": "jupyter-vuetify",
      "model_module_version": "^1.5.1",
      "model_name": "ColModel",
      "state": {
       "_events": [],
       "_jupyter_vue": "IPY_MODEL_bc2712ed128d4d47ba50f0f591fcb068",
       "attributes": {},
       "children": [
        "IPY_MODEL_a088e3de6c2f4df5b87cf00890ef6c35"
       ],
       "cols": 6,
       "layout": "IPY_MODEL_69868cee4338476a953c6f4cf10d01ab",
       "lg": null,
       "md": null,
       "offset": null,
       "offset_lg": null,
       "offset_md": null,
       "offset_sm": null,
       "offset_xl": null,
       "order": null,
       "order_lg": null,
       "order_md": null,
       "order_sm": null,
       "order_xl": null,
       "sm": null,
       "v_slots": [],
       "xl": null
      }
     },
     "68b59bc13b094613b6a9c6593e53d234": {
      "model_module": "jupyter-vuetify",
      "model_module_version": "^1.5.1",
      "model_name": "HtmlModel",
      "state": {
       "_events": [],
       "_jupyter_vue": "IPY_MODEL_bc2712ed128d4d47ba50f0f591fcb068",
       "_model_module_version": "^1.5.1",
       "_view_module_version": "^1.5.1",
       "attributes": {},
       "children": [
        "lol"
       ],
       "class_": "text--primary",
       "layout": "IPY_MODEL_0c0f2bb055d048e5ad3126fdca8336f7",
       "tag": "p",
       "v_slots": []
      }
     },
     "68c43a8dd35140078180fcb154b9701e": {
      "model_module": "@jupyter-widgets/base",
      "model_module_version": "1.2.0",
      "model_name": "LayoutModel",
      "state": {}
     },
     "68f29a1912024b0eb191521254858fa5": {
      "model_module": "@jupyter-widgets/base",
      "model_module_version": "1.2.0",
      "model_name": "LayoutModel",
      "state": {}
     },
     "68f4e5d74c2b4669a423aacc8b789696": {
      "model_module": "@jupyter-widgets/base",
      "model_module_version": "1.2.0",
      "model_name": "LayoutModel",
      "state": {}
     },
     "693a36488d994db8b0a4e23cb8bc5b4c": {
      "model_module": "jupyter-vuetify",
      "model_module_version": "^1.5.1",
      "model_name": "CardActionsModel",
      "state": {
       "_events": [],
       "_jupyter_vue": "IPY_MODEL_bc2712ed128d4d47ba50f0f591fcb068",
       "attributes": {},
       "children": [
        "IPY_MODEL_d21942f96c2b4efc8418f604b1732c07",
        "IPY_MODEL_d6696d5a52064072b1afd154d0b51ec4"
       ],
       "layout": "IPY_MODEL_cfd8407beaa843c8b4e89124d35b8b80",
       "v_slots": []
      }
     },
     "693c18528cce4ce89cac59f930da1e17": {
      "model_module": "jupyter-vuetify",
      "model_module_version": "^1.5.1",
      "model_name": "BtnModel",
      "state": {
       "_events": [],
       "_jupyter_vue": "IPY_MODEL_bc2712ed128d4d47ba50f0f591fcb068",
       "attributes": {},
       "children": [
        "IPY_MODEL_00fe4d098c6d4f14a51902a5ae68654b"
       ],
       "color": "blue",
       "elevation": null,
       "height": null,
       "href": null,
       "layout": "IPY_MODEL_18c43eac367f4e0bb10e6d1ed6eb23a8",
       "max_height": null,
       "max_width": null,
       "min_height": null,
       "min_width": null,
       "ripple": null,
       "text": true,
       "to": null,
       "v_slots": [],
       "width": null
      }
     },
     "696273fc8cca48179a38c690c577ff65": {
      "model_module": "@jupyter-widgets/base",
      "model_module_version": "1.2.0",
      "model_name": "LayoutModel",
      "state": {}
     },
     "697db6e4ba744811af474236757ede32": {
      "model_module": "jupyter-vuetify",
      "model_module_version": "^1.5.1",
      "model_name": "CardTextModel",
      "state": {
       "_events": [],
       "_jupyter_vue": "IPY_MODEL_bc2712ed128d4d47ba50f0f591fcb068",
       "attributes": {},
       "children": [
        "lol"
       ],
       "layout": "IPY_MODEL_776394b1de854c0ba5104a97bae58344",
       "v_slots": []
      }
     },
     "69844a54ed8548c3aa7805acbaf81a06": {
      "model_module": "@jupyter-widgets/base",
      "model_module_version": "1.2.0",
      "model_name": "LayoutModel",
      "state": {}
     },
     "69868cee4338476a953c6f4cf10d01ab": {
      "model_module": "@jupyter-widgets/base",
      "model_module_version": "1.2.0",
      "model_name": "LayoutModel",
      "state": {}
     },
     "699fd0fa39494b1ba491270301ed39c5": {
      "model_module": "@jupyter-widgets/base",
      "model_module_version": "1.2.0",
      "model_name": "LayoutModel",
      "state": {}
     },
     "69f960d8116645eb9db427f6ff1c91b4": {
      "model_module": "@jupyter-widgets/base",
      "model_module_version": "1.2.0",
      "model_name": "LayoutModel",
      "state": {}
     },
     "6a0f010c994b403abfcbdea6a210fbc0": {
      "model_module": "jupyter-vuetify",
      "model_module_version": "^1.5.1",
      "model_name": "CardTitleModel",
      "state": {
       "_events": [],
       "_jupyter_vue": "IPY_MODEL_bc2712ed128d4d47ba50f0f591fcb068",
       "attributes": {},
       "children": [
        "About the Data"
       ],
       "layout": "IPY_MODEL_2c0f4c161d9e4d14b34a5f657319fba6",
       "v_slots": []
      }
     },
     "6a2c64381c1849c383025bb85340f31e": {
      "model_module": "@jupyter-widgets/base",
      "model_module_version": "1.2.0",
      "model_name": "LayoutModel",
      "state": {}
     },
     "6a498f4aca664c459e30a4e7458347bf": {
      "model_module": "jupyter-vuetify",
      "model_module_version": "^1.5.1",
      "model_name": "ColModel",
      "state": {
       "_events": [],
       "_jupyter_vue": "IPY_MODEL_bc2712ed128d4d47ba50f0f591fcb068",
       "attributes": {},
       "children": [
        "IPY_MODEL_f9d0de6be8f24d1ea70985568ae9080c"
       ],
       "cols": 6,
       "layout": "IPY_MODEL_d1e3dfd2be0e403ebfdaca4a63404193",
       "lg": null,
       "md": null,
       "offset": null,
       "offset_lg": null,
       "offset_md": null,
       "offset_sm": null,
       "offset_xl": null,
       "order": null,
       "order_lg": null,
       "order_md": null,
       "order_sm": null,
       "order_xl": null,
       "sm": null,
       "v_slots": [],
       "xl": null
      }
     },
     "6a671574e1704658b911f115b2cbf783": {
      "model_module": "jupyter-vuetify",
      "model_module_version": "^1.5.1",
      "model_name": "HtmlModel",
      "state": {
       "_events": [],
       "_jupyter_vue": "IPY_MODEL_bc2712ed128d4d47ba50f0f591fcb068",
       "_model_module_version": "^1.5.1",
       "_view_module_version": "^1.5.1",
       "attributes": {
        "href": "https://datasurfer.sandag.org/dataoverview",
        "target": "_blank"
       },
       "children": [
        "Data Source"
       ],
       "layout": "IPY_MODEL_51b9dfb69edc44859a0ab63668a2fa8c",
       "tag": "a",
       "v_slots": []
      }
     },
     "6a695d12f9274afaa95e98d8add3e30d": {
      "model_module": "jupyter-vuetify",
      "model_module_version": "^1.5.1",
      "model_name": "CardModel",
      "state": {
       "_events": [],
       "_jupyter_vue": "IPY_MODEL_bc2712ed128d4d47ba50f0f591fcb068",
       "attributes": {},
       "children": [
        "IPY_MODEL_8ec7f2782a4149d98edc17370e9209b2",
        "IPY_MODEL_c9b70c19972345b8a0dc1748afb03fd9"
       ],
       "elevation": null,
       "height": null,
       "href": null,
       "layout": "IPY_MODEL_76f7d831998e41b9a25d0e4fd491de3c",
       "loader_height": null,
       "loading": null,
       "max_height": null,
       "max_width": null,
       "min_height": null,
       "min_width": null,
       "ripple": null,
       "to": null,
       "v_slots": [],
       "width": null
      }
     },
     "6abb6bade4c5455698433dacb76ebb30": {
      "model_module": "jupyter-vuetify",
      "model_module_version": "^1.5.1",
      "model_name": "CardTextModel",
      "state": {
       "_events": [],
       "_jupyter_vue": "IPY_MODEL_bc2712ed128d4d47ba50f0f591fcb068",
       "attributes": {},
       "children": [
        "lol"
       ],
       "layout": "IPY_MODEL_94d522aa77c3481882aca873e500241f",
       "v_slots": []
      }
     },
     "6ad9a340d274428b8dd630de5ddc70cf": {
      "model_module": "@jupyter-widgets/base",
      "model_module_version": "1.2.0",
      "model_name": "LayoutModel",
      "state": {}
     },
     "6af1a78ef227491ebdd3679a1de1f67a": {
      "model_module": "@jupyter-widgets/base",
      "model_module_version": "1.2.0",
      "model_name": "LayoutModel",
      "state": {}
     },
     "6b32fded9f0848aeb00dd315129823a9": {
      "model_module": "@jupyter-widgets/base",
      "model_module_version": "1.2.0",
      "model_name": "LayoutModel",
      "state": {}
     },
     "6b3699ac06e64c1cb8404a6d9541d27a": {
      "model_module": "jupyter-vuetify",
      "model_module_version": "^1.5.1",
      "model_name": "CardTextModel",
      "state": {
       "_events": [],
       "_jupyter_vue": "IPY_MODEL_bc2712ed128d4d47ba50f0f591fcb068",
       "attributes": {},
       "children": [
        "This section informs about the sources of the data that are used in this dashboard."
       ],
       "layout": "IPY_MODEL_9a9de9d0158749daad5ee3f5f3d567af",
       "v_slots": []
      }
     },
     "6b5102398a574ad3b42a0fab1413e258": {
      "model_module": "@jupyter-widgets/base",
      "model_module_version": "1.2.0",
      "model_name": "LayoutModel",
      "state": {}
     },
     "6b71fed78b5b446a8cab972c3314d3b3": {
      "model_module": "jupyter-vuetify",
      "model_module_version": "^1.5.1",
      "model_name": "CardModel",
      "state": {
       "_events": [],
       "_jupyter_vue": "IPY_MODEL_bc2712ed128d4d47ba50f0f591fcb068",
       "attributes": {},
       "children": [
        "IPY_MODEL_b70145ea7d564de980127547ff9e01aa",
        "IPY_MODEL_4c4dd89fe2e64ff68b909abb7dec7ac0",
        "IPY_MODEL_adae15fc5bb645409205df9da85d5a29"
       ],
       "elevation": null,
       "height": null,
       "href": null,
       "layout": "IPY_MODEL_3803160de2634e71a1e9bee0aa9f5c31",
       "loader_height": null,
       "loading": null,
       "max_height": null,
       "max_width": null,
       "min_height": null,
       "min_width": null,
       "ripple": null,
       "to": null,
       "v_slots": [],
       "width": null
      }
     },
     "6b84984ff7d14b539c7f9b0c776b5f66": {
      "model_module": "@jupyter-widgets/base",
      "model_module_version": "1.2.0",
      "model_name": "LayoutModel",
      "state": {}
     },
     "6b8522cb18a54c1fb76eaa80231c4fb3": {
      "model_module": "@jupyter-widgets/base",
      "model_module_version": "1.2.0",
      "model_name": "LayoutModel",
      "state": {}
     },
     "6bca194237d54a1aaaa2eec688eb8bdb": {
      "model_module": "jupyter-vuetify",
      "model_module_version": "^1.5.1",
      "model_name": "CardTitleModel",
      "state": {
       "_events": [],
       "_jupyter_vue": "IPY_MODEL_bc2712ed128d4d47ba50f0f591fcb068",
       "attributes": {},
       "children": [
        "About the Data"
       ],
       "layout": "IPY_MODEL_75cc2b6c0e87400985b7a7e029ada5f0",
       "v_slots": []
      }
     },
     "6c1acedcd80c4e7fbdc3f3226e6ac5f6": {
      "model_module": "@jupyter-widgets/base",
      "model_module_version": "1.2.0",
      "model_name": "LayoutModel",
      "state": {}
     },
     "6c5845401fde41549df54eea11520685": {
      "model_module": "jupyter-vuetify",
      "model_module_version": "^1.5.1",
      "model_name": "HtmlModel",
      "state": {
       "_events": [],
       "_jupyter_vue": "IPY_MODEL_bc2712ed128d4d47ba50f0f591fcb068",
       "_model_module_version": "^1.5.1",
       "_view_module_version": "^1.5.1",
       "attributes": {
        "href": "https://sdgis-sandag.opendata.arcgis.com/datasets/zip-code",
        "target": "_blank"
       },
       "children": [
        "Data Source"
       ],
       "layout": "IPY_MODEL_2a347fde38fe45fa84e71fdb62a43d99",
       "tag": "a",
       "v_slots": []
      }
     },
     "6c800b24c20747ca9e8c1898eb61b7d3": {
      "model_module": "jupyter-vuetify",
      "model_module_version": "^1.5.1",
      "model_name": "CardModel",
      "state": {
       "_events": [],
       "_jupyter_vue": "IPY_MODEL_bc2712ed128d4d47ba50f0f591fcb068",
       "attributes": {},
       "children": [
        "IPY_MODEL_9084f488450a4acf8b6a709149b97a90",
        "IPY_MODEL_b2a7c48c2ea242128e2a1e40f6b70f3f",
        "IPY_MODEL_8319006b46fb491b88ed6744019490b8"
       ],
       "elevation": null,
       "height": null,
       "href": null,
       "layout": "IPY_MODEL_cc338aaf71c745528f67cd6f160b7645",
       "loader_height": null,
       "loading": null,
       "max_height": null,
       "max_width": null,
       "min_height": null,
       "min_width": null,
       "ripple": null,
       "to": null,
       "v_slots": [],
       "width": null
      }
     },
     "6c88cc6b40194360a4b5f7aff41678c8": {
      "model_module": "@jupyter-widgets/base",
      "model_module_version": "1.2.0",
      "model_name": "LayoutModel",
      "state": {}
     },
     "6c96c25d0496477ea09e2c7de7c24092": {
      "model_module": "@jupyter-widgets/base",
      "model_module_version": "1.2.0",
      "model_name": "LayoutModel",
      "state": {}
     },
     "6ca2783f7d8d4d0a84634637a249ffbd": {
      "model_module": "jupyter-vuetify",
      "model_module_version": "^1.5.1",
      "model_name": "CardModel",
      "state": {
       "_events": [],
       "_jupyter_vue": "IPY_MODEL_bc2712ed128d4d47ba50f0f591fcb068",
       "attributes": {},
       "children": [
        "IPY_MODEL_39562663614a49d39a129bf78d4396a9",
        "IPY_MODEL_7cbc07730e3244f49424bddeda6d3b09"
       ],
       "elevation": null,
       "height": null,
       "href": null,
       "layout": "IPY_MODEL_c62dc4eab5044a89a432a98406934216",
       "loader_height": null,
       "loading": null,
       "max_height": null,
       "max_width": null,
       "min_height": null,
       "min_width": null,
       "ripple": null,
       "to": null,
       "v_slots": [],
       "width": null
      }
     },
     "6ca9703d4f524542ac737b0797915b02": {
      "model_module": "@jupyter-widgets/base",
      "model_module_version": "1.2.0",
      "model_name": "LayoutModel",
      "state": {}
     },
     "6cb284704fe44c25a26ef3287d9b70e5": {
      "model_module": "jupyter-vuetify",
      "model_module_version": "^1.5.1",
      "model_name": "ColModel",
      "state": {
       "_events": [],
       "_jupyter_vue": "IPY_MODEL_bc2712ed128d4d47ba50f0f591fcb068",
       "attributes": {},
       "children": [
        "IPY_MODEL_86c6baa989c04a35a43f70fc76cfbc1f"
       ],
       "cols": 6,
       "layout": "IPY_MODEL_47e8b4ecced14b1fa5255d407fda8452",
       "lg": null,
       "md": null,
       "offset": null,
       "offset_lg": null,
       "offset_md": null,
       "offset_sm": null,
       "offset_xl": null,
       "order": null,
       "order_lg": null,
       "order_md": null,
       "order_sm": null,
       "order_xl": null,
       "sm": null,
       "v_slots": [],
       "xl": null
      }
     },
     "6cb2f3f5e318420fadef8ab3073ce470": {
      "model_module": "jupyter-vuetify",
      "model_module_version": "^1.5.1",
      "model_name": "ColModel",
      "state": {
       "_events": [],
       "_jupyter_vue": "IPY_MODEL_bc2712ed128d4d47ba50f0f591fcb068",
       "attributes": {},
       "children": [
        "IPY_MODEL_4c1986e0f3ce4dd19592e31a4daff7b3"
       ],
       "cols": 12,
       "layout": "IPY_MODEL_045c3567d30c46279bd207fa1ec38b50",
       "lg": null,
       "md": null,
       "offset": null,
       "offset_lg": null,
       "offset_md": null,
       "offset_sm": null,
       "offset_xl": null,
       "order": null,
       "order_lg": null,
       "order_md": null,
       "order_sm": null,
       "order_xl": null,
       "sm": null,
       "v_slots": [],
       "xl": null
      }
     },
     "6cd2e9367cb8408a9f1a8855d17169fe": {
      "model_module": "jupyter-vuetify",
      "model_module_version": "^1.5.1",
      "model_name": "HtmlModel",
      "state": {
       "_events": [],
       "_jupyter_vue": "IPY_MODEL_bc2712ed128d4d47ba50f0f591fcb068",
       "_model_module_version": "^1.5.1",
       "_view_module_version": "^1.5.1",
       "attributes": {},
       "children": [
        "All Covid-19 case data have been received from the Internet Archive. The original data have been prepared in PDF documents with the title \"Daily Coronavirus Disease 2019 (COVID-19) Summary of Cases by Zip Code of Residence\" by the County of San Diego, Health and Human Services Agency, Public Health Services, Epidemiology and Immunization Services Branch."
       ],
       "layout": "IPY_MODEL_fd8aef2765d8452da6efdd4c5ef18731",
       "tag": "p",
       "v_slots": []
      }
     },
     "6cdc2adc4f7040b786a1d72815da8950": {
      "model_module": "jupyter-vuetify",
      "model_module_version": "^1.5.1",
      "model_name": "HtmlModel",
      "state": {
       "_events": [],
       "_jupyter_vue": "IPY_MODEL_bc2712ed128d4d47ba50f0f591fcb068",
       "_model_module_version": "^1.5.1",
       "_view_module_version": "^1.5.1",
       "attributes": {
        "href": "https://sandag.org/resources/maps_and_gis/gis_downloads/disclaimer.asp",
        "target": "_blank"
       },
       "children": [
        "Disclaimer"
       ],
       "layout": "IPY_MODEL_8f8fea371757490fb46f6d0fe5d49803",
       "tag": "a",
       "v_slots": []
      }
     },
     "6d048af97d664492ab6fcad24cf26b3d": {
      "model_module": "@jupyter-widgets/base",
      "model_module_version": "1.2.0",
      "model_name": "LayoutModel",
      "state": {}
     },
     "6d186b5355eb4e52bd485d33a67b9ee7": {
      "model_module": "jupyter-vuetify",
      "model_module_version": "^1.5.1",
      "model_name": "CardModel",
      "state": {
       "_events": [],
       "_jupyter_vue": "IPY_MODEL_bc2712ed128d4d47ba50f0f591fcb068",
       "attributes": {},
       "children": [
        "IPY_MODEL_0559d3cd1dd245e0a1628b2cc5b21325",
        "IPY_MODEL_3d6f89e2178c42bf992e94df71684d7e",
        "IPY_MODEL_449a12de945140c888dbb2d36f5fe9fe"
       ],
       "elevation": null,
       "height": null,
       "href": null,
       "layout": "IPY_MODEL_d34ab78d230d4239b3088b4dd660f9c8",
       "loader_height": null,
       "loading": null,
       "max_height": null,
       "max_width": null,
       "min_height": null,
       "min_width": null,
       "ripple": null,
       "to": null,
       "v_slots": [],
       "width": null
      }
     },
     "6d7f5dfa15ef4bfaaa1d3ca4d9c59e83": {
      "model_module": "jupyter-vuetify",
      "model_module_version": "^1.5.1",
      "model_name": "CardModel",
      "state": {
       "_events": [],
       "_jupyter_vue": "IPY_MODEL_bc2712ed128d4d47ba50f0f591fcb068",
       "attributes": {},
       "children": [
        "IPY_MODEL_29406ca94ce84babb6ebfc77017dc5a3",
        "IPY_MODEL_5a25736251664322b86d94d02b2974a9"
       ],
       "elevation": null,
       "height": null,
       "href": null,
       "layout": "IPY_MODEL_aacded34247e4df3be4c824b0f4fa1a8",
       "loader_height": null,
       "loading": null,
       "max_height": null,
       "max_width": null,
       "min_height": null,
       "min_width": null,
       "ripple": null,
       "to": null,
       "v_slots": [],
       "width": null
      }
     },
     "6d9ec6ea6a2b45908eef8546c79f2176": {
      "model_module": "jupyter-vuetify",
      "model_module_version": "^1.5.1",
      "model_name": "CardModel",
      "state": {
       "_events": [],
       "_jupyter_vue": "IPY_MODEL_bc2712ed128d4d47ba50f0f591fcb068",
       "attributes": {},
       "children": [
        "IPY_MODEL_c5d5778092994f1895eb989832a46420",
        "IPY_MODEL_030c3ca594c2423a9b392fc518130397"
       ],
       "elevation": null,
       "height": null,
       "href": null,
       "layout": "IPY_MODEL_1f79b269601e47daa54d757a79c1a114",
       "loader_height": null,
       "loading": null,
       "max_height": null,
       "max_width": null,
       "min_height": null,
       "min_width": null,
       "ripple": null,
       "to": null,
       "v_slots": [],
       "width": null
      }
     },
     "6da5234d95e44946ad04a51f42c109ec": {
      "model_module": "jupyter-vuetify",
      "model_module_version": "^1.5.1",
      "model_name": "BtnModel",
      "state": {
       "_events": [],
       "_jupyter_vue": "IPY_MODEL_bc2712ed128d4d47ba50f0f591fcb068",
       "attributes": {},
       "children": [
        "IPY_MODEL_06b091f2dd82485885c64db4ec4decf2"
       ],
       "color": "blue",
       "elevation": null,
       "height": null,
       "href": null,
       "layout": "IPY_MODEL_4292142079644269a67c7fe9964e4fb7",
       "max_height": null,
       "max_width": null,
       "min_height": null,
       "min_width": null,
       "ripple": null,
       "text": true,
       "to": null,
       "v_slots": [],
       "width": null
      }
     },
     "6dcb136de36c4d89984e895e7e30119b": {
      "model_module": "jupyter-vuetify",
      "model_module_version": "^1.5.1",
      "model_name": "CardTitleModel",
      "state": {
       "_events": [],
       "_jupyter_vue": "IPY_MODEL_bc2712ed128d4d47ba50f0f591fcb068",
       "attributes": {},
       "children": [
        "About the Data"
       ],
       "layout": "IPY_MODEL_4b1cb445049b4415b95887a61ea9c881",
       "v_slots": []
      }
     },
     "6dcf35df247b4701b34c1ec6ef1945ce": {
      "model_module": "@jupyter-widgets/base",
      "model_module_version": "1.2.0",
      "model_name": "LayoutModel",
      "state": {}
     },
     "6de1aa5a1b2c44679c602acb69ecc76c": {
      "model_module": "@jupyter-widgets/base",
      "model_module_version": "1.2.0",
      "model_name": "LayoutModel",
      "state": {}
     },
     "6e297c2947334967b919748b03541920": {
      "model_module": "@jupyter-widgets/base",
      "model_module_version": "1.2.0",
      "model_name": "LayoutModel",
      "state": {}
     },
     "6e759c51876843f1a18fce82343b4318": {
      "model_module": "jupyter-vuetify",
      "model_module_version": "^1.5.1",
      "model_name": "ColModel",
      "state": {
       "_events": [],
       "_jupyter_vue": "IPY_MODEL_bc2712ed128d4d47ba50f0f591fcb068",
       "attributes": {},
       "children": [
        "IPY_MODEL_c63b0064f66d4baca42ee9f3ca344e95"
       ],
       "cols": 6,
       "layout": "IPY_MODEL_16c126db677642eaa1d0afb7c201c203",
       "lg": null,
       "md": null,
       "offset": null,
       "offset_lg": null,
       "offset_md": null,
       "offset_sm": null,
       "offset_xl": null,
       "order": null,
       "order_lg": null,
       "order_md": null,
       "order_sm": null,
       "order_xl": null,
       "sm": null,
       "v_slots": [],
       "xl": null
      }
     },
     "6ecedaf165e34460b5b29cb48b394a07": {
      "model_module": "jupyter-vuetify",
      "model_module_version": "^1.5.1",
      "model_name": "CardTitleModel",
      "state": {
       "_events": [],
       "_jupyter_vue": "IPY_MODEL_bc2712ed128d4d47ba50f0f591fcb068",
       "attributes": {},
       "children": [
        "ZIP Codes"
       ],
       "layout": "IPY_MODEL_fd61218b15c74c3aab75ac7bed07ab20",
       "v_slots": []
      }
     },
     "6ecf11906f7d425499e271664ee3af16": {
      "model_module": "@jupyter-widgets/base",
      "model_module_version": "1.2.0",
      "model_name": "LayoutModel",
      "state": {}
     },
     "6f08aaa4a515497594505586d12c6d8a": {
      "model_module": "jupyter-vuetify",
      "model_module_version": "^1.5.1",
      "model_name": "CardTitleModel",
      "state": {
       "_events": [],
       "_jupyter_vue": "IPY_MODEL_bc2712ed128d4d47ba50f0f591fcb068",
       "attributes": {},
       "children": [
        "ZIP Code Boundaries"
       ],
       "layout": "IPY_MODEL_4b67694406f54dc885f21b0d537bcf88",
       "v_slots": []
      }
     },
     "6fea1e50780f4406afcaf176b071dbee": {
      "model_module": "jupyter-vuetify",
      "model_module_version": "^1.5.1",
      "model_name": "CardModel",
      "state": {
       "_events": [],
       "_jupyter_vue": "IPY_MODEL_bc2712ed128d4d47ba50f0f591fcb068",
       "attributes": {},
       "children": [
        "IPY_MODEL_fc0ecf17e9c74897af0cadf8be357c1f",
        "IPY_MODEL_cf3686f795e44966b3277ce0e8ff5ec0"
       ],
       "elevation": null,
       "height": null,
       "href": null,
       "layout": "IPY_MODEL_7b1d03c43e344b78ac662ec055085641",
       "loader_height": null,
       "loading": null,
       "max_height": null,
       "max_width": null,
       "min_height": null,
       "min_width": null,
       "ripple": null,
       "to": null,
       "v_slots": [],
       "width": null
      }
     },
     "7007214bfb044d04b2df96f36d929068": {
      "model_module": "@jupyter-widgets/base",
      "model_module_version": "1.2.0",
      "model_name": "LayoutModel",
      "state": {}
     },
     "7051109a87944cc6baf83c55e4099703": {
      "model_module": "@jupyter-widgets/base",
      "model_module_version": "1.2.0",
      "model_name": "LayoutModel",
      "state": {}
     },
     "706492c58751497f93af9a76b06e2410": {
      "model_module": "jupyter-vuetify",
      "model_module_version": "^1.5.1",
      "model_name": "HtmlModel",
      "state": {
       "_events": [],
       "_jupyter_vue": "IPY_MODEL_bc2712ed128d4d47ba50f0f591fcb068",
       "_model_module_version": "^1.5.1",
       "_view_module_version": "^1.5.1",
       "attributes": {},
       "children": [
        "Original data source: San Diego County Communicable Disease Registry, SANDAG 2019 Population Estimates (Prepared June 2020)."
       ],
       "layout": "IPY_MODEL_7a994fa43144451298c9f54faa6f1dcf",
       "tag": "p",
       "v_slots": []
      }
     },
     "70787011dbda40f19f00625adb4d04ec": {
      "model_module": "jupyter-vuetify",
      "model_module_version": "^1.5.1",
      "model_name": "ColModel",
      "state": {
       "_events": [],
       "_jupyter_vue": "IPY_MODEL_bc2712ed128d4d47ba50f0f591fcb068",
       "attributes": {},
       "children": [
        "IPY_MODEL_58a5bb5e850c42d18210a5560eafcc5e"
       ],
       "cols": 12,
       "layout": "IPY_MODEL_46023dc08f774501b72cc53a905fe9dd",
       "lg": null,
       "md": null,
       "offset": null,
       "offset_lg": null,
       "offset_md": null,
       "offset_sm": null,
       "offset_xl": null,
       "order": null,
       "order_lg": null,
       "order_md": null,
       "order_sm": null,
       "order_xl": null,
       "sm": null,
       "v_slots": [],
       "xl": null
      }
     },
     "7085720249e2421ab248c4304cd9c762": {
      "model_module": "jupyter-vuetify",
      "model_module_version": "^1.5.1",
      "model_name": "CardTitleModel",
      "state": {
       "_events": [],
       "_jupyter_vue": "IPY_MODEL_bc2712ed128d4d47ba50f0f591fcb068",
       "attributes": {},
       "children": [
        "ZIP Codes"
       ],
       "layout": "IPY_MODEL_81d58d36faa6454a8e4f6182e039c5d8",
       "v_slots": []
      }
     },
     "709ef1a353d9472ba2efc1ba38946f91": {
      "model_module": "@jupyter-widgets/base",
      "model_module_version": "1.2.0",
      "model_name": "LayoutModel",
      "state": {}
     },
     "70a5fa1d7f094380a50cbc492bdec7b8": {
      "model_module": "jupyter-vuetify",
      "model_module_version": "^1.5.1",
      "model_name": "ContainerModel",
      "state": {
       "_events": [],
       "_jupyter_vue": "IPY_MODEL_bc2712ed128d4d47ba50f0f591fcb068",
       "attributes": {},
       "children": [
        "IPY_MODEL_b7f4984812ce499999622824b106a814"
       ],
       "fluid": true,
       "layout": "IPY_MODEL_fac2afdaf24f42958f0e938e191975e8",
       "v_slots": []
      }
     },
     "70b397c72a8540458c96edff7e716b34": {
      "model_module": "@jupyter-widgets/base",
      "model_module_version": "1.2.0",
      "model_name": "LayoutModel",
      "state": {}
     },
     "70c710c480f842fcaabf88f001cd317f": {
      "model_module": "jupyter-vuetify",
      "model_module_version": "^1.5.1",
      "model_name": "CardTextModel",
      "state": {
       "_events": [],
       "_jupyter_vue": "IPY_MODEL_bc2712ed128d4d47ba50f0f591fcb068",
       "attributes": {},
       "children": [
        "IPY_MODEL_39fd1c63fe5744e9835d1fe68be94c0b",
        "IPY_MODEL_2f4c606c887a45e0a59b0d58458bc6c8",
        "IPY_MODEL_07b8a26d5a594ca2816bb6b3e7f3bac0",
        "IPY_MODEL_e9fea6489c814b40a0bfbe483aacdf8b"
       ],
       "layout": "IPY_MODEL_3fe3937af93e497c93b3390006984caf",
       "v_slots": []
      }
     },
     "70ca6890f02647fdb9315c86ced88c68": {
      "model_module": "jupyter-vuetify",
      "model_module_version": "^1.5.1",
      "model_name": "CardTextModel",
      "state": {
       "_events": [],
       "_jupyter_vue": "IPY_MODEL_bc2712ed128d4d47ba50f0f591fcb068",
       "attributes": {},
       "children": [
        "lol"
       ],
       "layout": "IPY_MODEL_312a4f595ef14b6880dbd264bc8d1c3f",
       "v_slots": []
      }
     },
     "70d7b7fd2d8641708005f1304df5b15f": {
      "model_module": "jupyter-vuetify",
      "model_module_version": "^1.5.1",
      "model_name": "CardTitleModel",
      "state": {
       "_events": [],
       "_jupyter_vue": "IPY_MODEL_bc2712ed128d4d47ba50f0f591fcb068",
       "attributes": {},
       "children": [
        "ZIP Codes"
       ],
       "layout": "IPY_MODEL_828a13f10e6049f491d10a57590691e3",
       "v_slots": []
      }
     },
     "70ff5c723d4347bfb7a5553ff0408c41": {
      "model_module": "jupyter-vuetify",
      "model_module_version": "^1.5.1",
      "model_name": "CardTextModel",
      "state": {
       "_events": [],
       "_jupyter_vue": "IPY_MODEL_bc2712ed128d4d47ba50f0f591fcb068",
       "attributes": {},
       "children": [
        "lol"
       ],
       "layout": "IPY_MODEL_4b5739e3707b43e7b17eece2f4a484db",
       "v_slots": []
      }
     },
     "710b7674e2054117b87a62f3a32c278f": {
      "model_module": "@jupyter-widgets/base",
      "model_module_version": "1.2.0",
      "model_name": "LayoutModel",
      "state": {}
     },
     "7128a0ce94044c55a17494dda86fe3c3": {
      "model_module": "@jupyter-widgets/base",
      "model_module_version": "1.2.0",
      "model_name": "LayoutModel",
      "state": {}
     },
     "7181cef7f77b4ba3842a398de98c17e3": {
      "model_module": "jupyter-vuetify",
      "model_module_version": "^1.5.1",
      "model_name": "CardTitleModel",
      "state": {
       "_events": [],
       "_jupyter_vue": "IPY_MODEL_bc2712ed128d4d47ba50f0f591fcb068",
       "attributes": {},
       "children": [
        "ZIP Codes"
       ],
       "layout": "IPY_MODEL_7e4634c8f6f94e31bced588671a32219",
       "v_slots": []
      }
     },
     "7182d00644d2469896f6e2bcbf1eeb1e": {
      "model_module": "@jupyter-widgets/base",
      "model_module_version": "1.2.0",
      "model_name": "LayoutModel",
      "state": {}
     },
     "71c7df8f18e646e492f666c1576beda6": {
      "model_module": "@jupyter-widgets/base",
      "model_module_version": "1.2.0",
      "model_name": "LayoutModel",
      "state": {}
     },
     "71f2eac64d98401f82b973b9b4ed3fd4": {
      "model_module": "jupyter-vuetify",
      "model_module_version": "^1.5.1",
      "model_name": "CardTitleModel",
      "state": {
       "_events": [],
       "_jupyter_vue": "IPY_MODEL_bc2712ed128d4d47ba50f0f591fcb068",
       "attributes": {},
       "children": [
        "ZIP Codes"
       ],
       "layout": "IPY_MODEL_9766a627a04d48d6831a3041b9fb40d3",
       "v_slots": []
      }
     },
     "7203cb07961b4908b1e0b3d00d8bdd6d": {
      "model_module": "@jupyter-widgets/base",
      "model_module_version": "1.2.0",
      "model_name": "LayoutModel",
      "state": {}
     },
     "722b1077d3604a03ae9805cea146dc86": {
      "model_module": "@jupyter-widgets/base",
      "model_module_version": "1.2.0",
      "model_name": "LayoutModel",
      "state": {}
     },
     "722e592a745f4d88a3410ece525c0ee0": {
      "model_module": "jupyter-vuetify",
      "model_module_version": "^1.5.1",
      "model_name": "CardModel",
      "state": {
       "_events": [],
       "_jupyter_vue": "IPY_MODEL_bc2712ed128d4d47ba50f0f591fcb068",
       "attributes": {},
       "children": [
        "IPY_MODEL_ee59f02645c9491e9fc5a036958e89aa",
        "IPY_MODEL_85f44998c8e0462fbcc47b6779154d9f",
        "IPY_MODEL_b7326069e62e492287237f7f2e2cae50"
       ],
       "elevation": null,
       "height": null,
       "href": null,
       "layout": "IPY_MODEL_8c7b91bd5f26417b89fafbc0c9d7ac16",
       "loader_height": null,
       "loading": null,
       "max_height": null,
       "max_width": null,
       "min_height": null,
       "min_width": null,
       "ripple": null,
       "to": null,
       "v_slots": [],
       "width": null
      }
     },
     "722f9f51902e478096015448921afbaf": {
      "model_module": "@jupyter-widgets/base",
      "model_module_version": "1.2.0",
      "model_name": "LayoutModel",
      "state": {}
     },
     "7234729c0b20475f94286a5db887b1e8": {
      "model_module": "jupyter-vuetify",
      "model_module_version": "^1.5.1",
      "model_name": "CardTextModel",
      "state": {
       "_events": [],
       "_jupyter_vue": "IPY_MODEL_bc2712ed128d4d47ba50f0f591fcb068",
       "attributes": {},
       "children": [
        "lol"
       ],
       "layout": "IPY_MODEL_b5c19eb1fa2c42f5b5fc1f94f7735e25",
       "v_slots": []
      }
     },
     "724289f42b9b4387ae2837c79cd08fde": {
      "model_module": "jupyter-vuetify",
      "model_module_version": "^1.5.1",
      "model_name": "HtmlModel",
      "state": {
       "_events": [],
       "_jupyter_vue": "IPY_MODEL_bc2712ed128d4d47ba50f0f591fcb068",
       "_model_module_version": "^1.5.1",
       "_view_module_version": "^1.5.1",
       "attributes": {
        "href": "https://sdgis-sandag.opendata.arcgis.com/datasets/zip-code",
        "target": "_blank"
       },
       "children": [
        "Dataset"
       ],
       "layout": "IPY_MODEL_8e11fc17d5b74ab5a85eeb2cbd6bb0d3",
       "tag": "a",
       "v_slots": []
      }
     },
     "72570fd8c3264e68b8a6ee7303af647b": {
      "model_module": "@jupyter-widgets/base",
      "model_module_version": "1.2.0",
      "model_name": "LayoutModel",
      "state": {}
     },
     "725814ab997f4bedb06f5385cacfe87d": {
      "model_module": "@jupyter-widgets/base",
      "model_module_version": "1.2.0",
      "model_name": "LayoutModel",
      "state": {}
     },
     "72593c368e6641fb99c503d00042d757": {
      "model_module": "@jupyter-widgets/base",
      "model_module_version": "1.2.0",
      "model_name": "LayoutModel",
      "state": {}
     },
     "727e5b78a6df40acb8eb3c7da12f43e0": {
      "model_module": "@jupyter-widgets/base",
      "model_module_version": "1.2.0",
      "model_name": "LayoutModel",
      "state": {}
     },
     "72daab08078a4ec2bca12016f422cb19": {
      "model_module": "@jupyter-widgets/base",
      "model_module_version": "1.2.0",
      "model_name": "LayoutModel",
      "state": {}
     },
     "72e99ea98b2e4650b42c74b18a833f13": {
      "model_module": "jupyter-vuetify",
      "model_module_version": "^1.5.1",
      "model_name": "CardModel",
      "state": {
       "_events": [],
       "_jupyter_vue": "IPY_MODEL_bc2712ed128d4d47ba50f0f591fcb068",
       "attributes": {},
       "children": [
        "IPY_MODEL_bf404c3ecc0f4da3a90dd79fc1b7f2be",
        "IPY_MODEL_0600898a898042069d2a766045a8f334",
        "IPY_MODEL_febec6fb41384ebc847197b3303c926b"
       ],
       "elevation": null,
       "height": null,
       "href": null,
       "layout": "IPY_MODEL_cb6c760f597d475192bb6c360249639b",
       "loader_height": null,
       "loading": null,
       "max_height": null,
       "max_width": null,
       "min_height": null,
       "min_width": null,
       "ripple": null,
       "to": null,
       "v_slots": [],
       "width": null
      }
     },
     "737d6c5a89c647a1885746c4b3932472": {
      "model_module": "@jupyter-widgets/base",
      "model_module_version": "1.2.0",
      "model_name": "LayoutModel",
      "state": {}
     },
     "73abd90f982c42b49b39cfd91b523928": {
      "model_module": "jupyter-vuetify",
      "model_module_version": "^1.5.1",
      "model_name": "CardModel",
      "state": {
       "_events": [],
       "_jupyter_vue": "IPY_MODEL_bc2712ed128d4d47ba50f0f591fcb068",
       "attributes": {},
       "children": [
        "IPY_MODEL_dc7a2b7853eb49ae9f459af6fa066ba3",
        "IPY_MODEL_8b66ccb548c540299be9bdacfee0e14e",
        "IPY_MODEL_ce01c29bc7e54ee596fc4d0c0cd9ffd1"
       ],
       "elevation": null,
       "height": null,
       "href": null,
       "layout": "IPY_MODEL_da7526da5379440094464a3c7c32e62b",
       "loader_height": null,
       "loading": null,
       "max_height": null,
       "max_width": null,
       "min_height": null,
       "min_width": null,
       "ripple": null,
       "to": null,
       "v_slots": [],
       "width": null
      }
     },
     "73ad22bcf3f74138aa6175ac3d680e3c": {
      "model_module": "jupyter-vuetify",
      "model_module_version": "^1.5.1",
      "model_name": "CardTextModel",
      "state": {
       "_events": [],
       "_jupyter_vue": "IPY_MODEL_bc2712ed128d4d47ba50f0f591fcb068",
       "attributes": {},
       "children": [
        "lol"
       ],
       "layout": "IPY_MODEL_b92c7d171ca2471c9974822fd1398a29",
       "v_slots": []
      }
     },
     "73c7cf2246a7453a92075b9cd17b7d57": {
      "model_module": "@jupyter-widgets/base",
      "model_module_version": "1.2.0",
      "model_name": "LayoutModel",
      "state": {}
     },
     "73db04b840e047bebee9ef5872b4487d": {
      "model_module": "@jupyter-widgets/base",
      "model_module_version": "1.2.0",
      "model_name": "LayoutModel",
      "state": {}
     },
     "73e7fc8b7c2b423ba57c150b82125a08": {
      "model_module": "@jupyter-widgets/base",
      "model_module_version": "1.2.0",
      "model_name": "LayoutModel",
      "state": {}
     },
     "73ef7dce2b994b1793966b94b073d575": {
      "model_module": "@jupyter-widgets/base",
      "model_module_version": "1.2.0",
      "model_name": "LayoutModel",
      "state": {}
     },
     "742330e679fc406485709197c61e4107": {
      "model_module": "@jupyter-widgets/base",
      "model_module_version": "1.2.0",
      "model_name": "LayoutModel",
      "state": {}
     },
     "74380f39835545d984187dc2e47fcd1d": {
      "model_module": "@jupyter-widgets/base",
      "model_module_version": "1.2.0",
      "model_name": "LayoutModel",
      "state": {}
     },
     "743d4b5b67ad4e3ea43d3cdb588be13a": {
      "model_module": "jupyter-vuetify",
      "model_module_version": "^1.5.1",
      "model_name": "RowModel",
      "state": {
       "_events": [],
       "_jupyter_vue": "IPY_MODEL_bc2712ed128d4d47ba50f0f591fcb068",
       "attributes": {},
       "children": [
        "IPY_MODEL_e59000a41b074439aa2a033d1bd0b231",
        "IPY_MODEL_964fac5c7db44662ba55157b5cfbf522",
        "IPY_MODEL_edc14526fe3143c7a82f1c4d793cf7fb"
       ],
       "dense": true,
       "layout": "IPY_MODEL_c86875b2010f44f58498d9b46fb99486",
       "v_slots": []
      }
     },
     "7460ae03505f4ca9ae2abc2be56d0a4f": {
      "model_module": "jupyter-vuetify",
      "model_module_version": "^1.5.1",
      "model_name": "ColModel",
      "state": {
       "_events": [],
       "_jupyter_vue": "IPY_MODEL_bc2712ed128d4d47ba50f0f591fcb068",
       "attributes": {},
       "children": [
        "IPY_MODEL_e9414ec0d8964a24a85eedb3bd878aa7"
       ],
       "cols": 6,
       "layout": "IPY_MODEL_bcf4da92aa924a14b3dfd23aa35a57af",
       "lg": null,
       "md": null,
       "offset": null,
       "offset_lg": null,
       "offset_md": null,
       "offset_sm": null,
       "offset_xl": null,
       "order": null,
       "order_lg": null,
       "order_md": null,
       "order_sm": null,
       "order_xl": null,
       "sm": null,
       "v_slots": [],
       "xl": null
      }
     },
     "746197dc66624a228304af75f4dc574a": {
      "model_module": "jupyter-vuetify",
      "model_module_version": "^1.5.1",
      "model_name": "CardModel",
      "state": {
       "_events": [],
       "_jupyter_vue": "IPY_MODEL_bc2712ed128d4d47ba50f0f591fcb068",
       "attributes": {},
       "children": [
        "IPY_MODEL_f89f881b58ba4a72aff71c9f3f30e4d3",
        "IPY_MODEL_b5dc599415334d829c9f56316d9f640f",
        "IPY_MODEL_5dbae6f278b04f92832dfe4cd04ed4cd"
       ],
       "elevation": null,
       "height": null,
       "href": null,
       "layout": "IPY_MODEL_1bd5c9f5e34146c68bd3c86a5b3f6c04",
       "loader_height": null,
       "loading": null,
       "max_height": null,
       "max_width": null,
       "min_height": null,
       "min_width": null,
       "ripple": null,
       "to": null,
       "v_slots": [],
       "width": null
      }
     },
     "746b3d86f2894f478ca61eaaa021f5f8": {
      "model_module": "@jupyter-widgets/base",
      "model_module_version": "1.2.0",
      "model_name": "LayoutModel",
      "state": {}
     },
     "746e330e00324057a2ca3b31a5f84cae": {
      "model_module": "jupyter-vuetify",
      "model_module_version": "^1.5.1",
      "model_name": "HtmlModel",
      "state": {
       "_events": [],
       "_jupyter_vue": "IPY_MODEL_bc2712ed128d4d47ba50f0f591fcb068",
       "_model_module_version": "^1.5.1",
       "_view_module_version": "^1.5.1",
       "attributes": {
        "href": "https://sandag.org/resources/maps_and_gis/gis_downloads/disclaimer.asp",
        "target": "_blank"
       },
       "children": [
        "Disclaimer"
       ],
       "layout": "IPY_MODEL_4ef989877e5b46dbb5b655b9ebd8e3ea",
       "tag": "a",
       "v_slots": []
      }
     },
     "7474321f2c5547c6a33d4459757d43e6": {
      "model_module": "jupyter-vuetify",
      "model_module_version": "^1.5.1",
      "model_name": "HtmlModel",
      "state": {
       "_events": [],
       "_jupyter_vue": "IPY_MODEL_bc2712ed128d4d47ba50f0f591fcb068",
       "_model_module_version": "^1.5.1",
       "_view_module_version": "^1.5.1",
       "attributes": {},
       "children": [
        "Original data source: San Diego County Communicable Disease Registry, SANDAG 2019 Population Estimates (Prepared June 2020)."
       ],
       "layout": "IPY_MODEL_dc988a949e474fc5b896f3f1073d0060",
       "tag": "p",
       "v_slots": []
      }
     },
     "7492014bfef245b4bbed27f7d9f3b4e6": {
      "model_module": "@jupyter-widgets/base",
      "model_module_version": "1.2.0",
      "model_name": "LayoutModel",
      "state": {}
     },
     "74c65e78e86143c6ac9ef268e316c8e2": {
      "model_module": "@jupyter-widgets/base",
      "model_module_version": "1.2.0",
      "model_name": "LayoutModel",
      "state": {}
     },
     "7521f12e246a42838d7dc56a08961eed": {
      "model_module": "jupyter-vuetify",
      "model_module_version": "^1.5.1",
      "model_name": "ColModel",
      "state": {
       "_events": [],
       "_jupyter_vue": "IPY_MODEL_bc2712ed128d4d47ba50f0f591fcb068",
       "attributes": {},
       "children": [
        "IPY_MODEL_a277e7c5d03d41db83ab7208838ac985"
       ],
       "cols": 6,
       "layout": "IPY_MODEL_a6c33f793f234a6a9908613672f68f0b",
       "lg": null,
       "md": null,
       "offset": null,
       "offset_lg": null,
       "offset_md": null,
       "offset_sm": null,
       "offset_xl": null,
       "order": null,
       "order_lg": null,
       "order_md": null,
       "order_sm": null,
       "order_xl": null,
       "sm": null,
       "v_slots": [],
       "xl": null
      }
     },
     "75412e14a4e646ffa2c6875dca486610": {
      "model_module": "@jupyter-widgets/base",
      "model_module_version": "1.2.0",
      "model_name": "LayoutModel",
      "state": {}
     },
     "757a46c255ae49d9a527fde39cf6d698": {
      "model_module": "jupyter-vuetify",
      "model_module_version": "^1.5.1",
      "model_name": "CardModel",
      "state": {
       "_events": [],
       "_jupyter_vue": "IPY_MODEL_bc2712ed128d4d47ba50f0f591fcb068",
       "attributes": {},
       "children": [
        "IPY_MODEL_7181cef7f77b4ba3842a398de98c17e3",
        "IPY_MODEL_e634af4406904d8894d83a06ee5b92b8"
       ],
       "elevation": null,
       "height": null,
       "href": null,
       "layout": "IPY_MODEL_3f754a848fd84f2d99cffa6ee5f74d2e",
       "loader_height": null,
       "loading": null,
       "max_height": null,
       "max_width": null,
       "min_height": null,
       "min_width": null,
       "ripple": null,
       "to": null,
       "v_slots": [],
       "width": null
      }
     },
     "75bee60f6105459c857cd42bafe6a5fd": {
      "model_module": "@jupyter-widgets/base",
      "model_module_version": "1.2.0",
      "model_name": "LayoutModel",
      "state": {}
     },
     "75c6c092a470469180e150cb3cbfe78f": {
      "model_module": "jupyter-vuetify",
      "model_module_version": "^1.5.1",
      "model_name": "HtmlModel",
      "state": {
       "_events": [],
       "_jupyter_vue": "IPY_MODEL_bc2712ed128d4d47ba50f0f591fcb068",
       "_model_module_version": "^1.5.1",
       "_view_module_version": "^1.5.1",
       "attributes": {},
       "children": [
        "lol"
       ],
       "class_": "display-3 text--primary",
       "layout": "IPY_MODEL_b6643eb99f194e2ebc845f7519fcdc7b",
       "tag": "p",
       "v_slots": []
      }
     },
     "75cc2b6c0e87400985b7a7e029ada5f0": {
      "model_module": "@jupyter-widgets/base",
      "model_module_version": "1.2.0",
      "model_name": "LayoutModel",
      "state": {}
     },
     "75dcc0a0a0074ae49e7449b137c86cd3": {
      "model_module": "jupyter-vuetify",
      "model_module_version": "^1.5.1",
      "model_name": "CardModel",
      "state": {
       "_events": [],
       "_jupyter_vue": "IPY_MODEL_bc2712ed128d4d47ba50f0f591fcb068",
       "attributes": {},
       "children": [
        "IPY_MODEL_9959767e4aba48f4a5ba6df92995b429",
        "IPY_MODEL_0be8cedf76c9423aa89bdf44a091439b",
        "IPY_MODEL_521e7824c3c6415ea2537dd29446dfcf"
       ],
       "elevation": null,
       "height": null,
       "href": null,
       "layout": "IPY_MODEL_788017bced1145f6853673bffe148625",
       "loader_height": null,
       "loading": null,
       "max_height": null,
       "max_width": null,
       "min_height": null,
       "min_width": null,
       "ripple": null,
       "to": null,
       "v_slots": [],
       "width": null
      }
     },
     "75f3e747ce324db49bbcd4036b6dd887": {
      "model_module": "@jupyter-widgets/base",
      "model_module_version": "1.2.0",
      "model_name": "LayoutModel",
      "state": {}
     },
     "761f76d2302546e9976dbf0c397e29b0": {
      "model_module": "@jupyter-widgets/base",
      "model_module_version": "1.2.0",
      "model_name": "LayoutModel",
      "state": {}
     },
     "766b1326ebd14c6ea8bf4b444f95b144": {
      "model_module": "jupyter-vuetify",
      "model_module_version": "^1.5.1",
      "model_name": "CardTextModel",
      "state": {
       "_events": [],
       "_jupyter_vue": "IPY_MODEL_bc2712ed128d4d47ba50f0f591fcb068",
       "attributes": {},
       "children": [
        "This section informs about the sources of the data that are used in this dashboard."
       ],
       "layout": "IPY_MODEL_dda0d559f8d446d2a968c136703252c5",
       "v_slots": []
      }
     },
     "76b0a46d23e643ee934cdc4730c735c4": {
      "model_module": "@jupyter-widgets/base",
      "model_module_version": "1.2.0",
      "model_name": "LayoutModel",
      "state": {}
     },
     "76c417c90a2c4f14affcf53a7a1250cc": {
      "model_module": "@jupyter-widgets/base",
      "model_module_version": "1.2.0",
      "model_name": "LayoutModel",
      "state": {}
     },
     "76c8732509d44139b0059241c14c5244": {
      "model_module": "jupyter-vuetify",
      "model_module_version": "^1.5.1",
      "model_name": "CardTextModel",
      "state": {
       "_events": [],
       "_jupyter_vue": "IPY_MODEL_bc2712ed128d4d47ba50f0f591fcb068",
       "attributes": {},
       "children": [
        "lol"
       ],
       "layout": "IPY_MODEL_6442753080de478cae7d0765af08f11e",
       "v_slots": []
      }
     },
     "76f7d831998e41b9a25d0e4fd491de3c": {
      "model_module": "@jupyter-widgets/base",
      "model_module_version": "1.2.0",
      "model_name": "LayoutModel",
      "state": {}
     },
     "770a187eb9bf4a578cfe1d90bb92305b": {
      "model_module": "jupyter-vuetify",
      "model_module_version": "^1.5.1",
      "model_name": "CardTextModel",
      "state": {
       "_events": [],
       "_jupyter_vue": "IPY_MODEL_bc2712ed128d4d47ba50f0f591fcb068",
       "attributes": {},
       "children": [
        "This section informs about the data sources this dashboard uses. All data are publicly accessible."
       ],
       "layout": "IPY_MODEL_f4faacad7aef4ab3b9aa413928cccd54",
       "v_slots": []
      }
     },
     "7740bbbccd324de192cbb9a9dcdfe8fd": {
      "model_module": "jupyter-vuetify",
      "model_module_version": "^1.5.1",
      "model_name": "ColModel",
      "state": {
       "_events": [],
       "_jupyter_vue": "IPY_MODEL_bc2712ed128d4d47ba50f0f591fcb068",
       "attributes": {},
       "children": [
        "IPY_MODEL_defbe963c7e647a6b69dffd14f7b0bac"
       ],
       "cols": 6,
       "layout": "IPY_MODEL_fc142e96ae904cc7864d4eccf45c45c0",
       "lg": null,
       "md": null,
       "offset": null,
       "offset_lg": null,
       "offset_md": null,
       "offset_sm": null,
       "offset_xl": null,
       "order": null,
       "order_lg": null,
       "order_md": null,
       "order_sm": null,
       "order_xl": null,
       "sm": null,
       "v_slots": [],
       "xl": null
      }
     },
     "7754327924d3487f983ef31c4e7ac844": {
      "model_module": "@jupyter-widgets/base",
      "model_module_version": "1.2.0",
      "model_name": "LayoutModel",
      "state": {}
     },
     "776394b1de854c0ba5104a97bae58344": {
      "model_module": "@jupyter-widgets/base",
      "model_module_version": "1.2.0",
      "model_name": "LayoutModel",
      "state": {}
     },
     "77c74a133a8b47c09574549bc400510b": {
      "model_module": "jupyter-vuetify",
      "model_module_version": "^1.5.1",
      "model_name": "HtmlModel",
      "state": {
       "_events": [],
       "_jupyter_vue": "IPY_MODEL_bc2712ed128d4d47ba50f0f591fcb068",
       "_model_module_version": "^1.5.1",
       "_view_module_version": "^1.5.1",
       "attributes": {},
       "children": [
        "All Covid-19 case data have been received from the Internet Archive. The original data have been prepared in PDF documents with the title \"Daily Coronavirus Disease 2019 (COVID-19) Summary of Cases by Zip Code of Residence\" by the County of San Diego, Health and Human Services Agency, Public Health Services, Epidemiology and Immunization Services Branch. Original data source: San Diego County Communicable Disease Registry, SANDAG 2019 Population Estimates (Prepared June 2020)."
       ],
       "layout": "IPY_MODEL_3e04055453da44939033c76d83a4a3fb",
       "tag": "p",
       "v_slots": []
      }
     },
     "77cbd906d2604efc9db391b25f715504": {
      "model_module": "@jupyter-widgets/base",
      "model_module_version": "1.2.0",
      "model_name": "LayoutModel",
      "state": {}
     },
     "78014b622e1b4d93a6938ff395c081c9": {
      "model_module": "@jupyter-widgets/base",
      "model_module_version": "1.2.0",
      "model_name": "LayoutModel",
      "state": {}
     },
     "782b1ac6db9945c58541478799a0027b": {
      "model_module": "jupyter-vuetify",
      "model_module_version": "^1.5.1",
      "model_name": "CardTitleModel",
      "state": {
       "_events": [],
       "_jupyter_vue": "IPY_MODEL_bc2712ed128d4d47ba50f0f591fcb068",
       "attributes": {},
       "children": [
        "ZIP Codes"
       ],
       "layout": "IPY_MODEL_133db7fdc3cd4f92a7b674cb465c4743",
       "v_slots": []
      }
     },
     "788017bced1145f6853673bffe148625": {
      "model_module": "@jupyter-widgets/base",
      "model_module_version": "1.2.0",
      "model_name": "LayoutModel",
      "state": {}
     },
     "788aea2603cb4ca089356f68fe750f9e": {
      "model_module": "jupyter-vuetify",
      "model_module_version": "^1.5.1",
      "model_name": "ContainerModel",
      "state": {
       "_events": [],
       "_jupyter_vue": "IPY_MODEL_bc2712ed128d4d47ba50f0f591fcb068",
       "attributes": {},
       "children": [
        "IPY_MODEL_2de3fe0e55764369992d6ec53830d493"
       ],
       "fluid": true,
       "layout": "IPY_MODEL_28195a6891e4475184f920e0c20ec8cd",
       "v_slots": []
      }
     },
     "78b9cb3774fd4db9b06745b0a6818e35": {
      "model_module": "@jupyter-widgets/base",
      "model_module_version": "1.2.0",
      "model_name": "LayoutModel",
      "state": {}
     },
     "78c0cdc17a2d40fba44142ee11571d0c": {
      "model_module": "@jupyter-widgets/base",
      "model_module_version": "1.2.0",
      "model_name": "LayoutModel",
      "state": {}
     },
     "78f6a3ca85b0458190a9d0b81f1dfef1": {
      "model_module": "@jupyter-widgets/base",
      "model_module_version": "1.2.0",
      "model_name": "LayoutModel",
      "state": {}
     },
     "78fd6c77aa454db09ba27517b239c137": {
      "model_module": "jupyter-vuetify",
      "model_module_version": "^1.5.1",
      "model_name": "CardModel",
      "state": {
       "_events": [],
       "_jupyter_vue": "IPY_MODEL_bc2712ed128d4d47ba50f0f591fcb068",
       "attributes": {},
       "children": [
        "IPY_MODEL_c84d82aeadeb4524b68d2a94e92f98cd",
        "IPY_MODEL_dfb405757d8a460e8b63a784b4ad92ee",
        "IPY_MODEL_e0b506fa12144eecb88003cae706a979"
       ],
       "elevation": null,
       "height": null,
       "href": null,
       "layout": "IPY_MODEL_c1a87e9cd78744119fc69dd15987a99f",
       "loader_height": null,
       "loading": null,
       "max_height": null,
       "max_width": null,
       "min_height": null,
       "min_width": null,
       "ripple": null,
       "to": null,
       "v_slots": [],
       "width": null
      }
     },
     "7963a66c3e0242b8add58fcacfcf0ce2": {
      "model_module": "jupyter-vuetify",
      "model_module_version": "^1.5.1",
      "model_name": "HtmlModel",
      "state": {
       "_events": [],
       "_jupyter_vue": "IPY_MODEL_bc2712ed128d4d47ba50f0f591fcb068",
       "_model_module_version": "^1.5.1",
       "_view_module_version": "^1.5.1",
       "attributes": {},
       "children": [
        "All Covid-19 case data have been received from the Internet Archive. The original data have been prepared in PDF documents with the title \"Daily Coronavirus Disease 2019 (COVID-19) Summary of Cases by Zip Code of Residence\" by the County of San Diego, Health and Human Services Agency, Public Health Services, Epidemiology and Immunization Services Branch."
       ],
       "layout": "IPY_MODEL_2d4dd02b58c945308a76f151459570b8",
       "tag": "p",
       "v_slots": []
      }
     },
     "798df7a7bdea450b8ea1d17362be1942": {
      "model_module": "jupyter-vuetify",
      "model_module_version": "^1.5.1",
      "model_name": "CardTextModel",
      "state": {
       "_events": [],
       "_jupyter_vue": "IPY_MODEL_bc2712ed128d4d47ba50f0f591fcb068",
       "attributes": {},
       "children": [
        "The ZIP code boundaries shown in all maps are taken from the SANDAG/SanGIS Open Data Portal."
       ],
       "layout": "IPY_MODEL_65e4cd0fd58140b096cca5675b5f1209",
       "v_slots": []
      }
     },
     "79c268d571da43a48ea307bacae38f40": {
      "model_module": "@jupyter-widgets/base",
      "model_module_version": "1.2.0",
      "model_name": "LayoutModel",
      "state": {}
     },
     "7a00346f059149418bcf5933fb026ad7": {
      "model_module": "jupyter-vuetify",
      "model_module_version": "^1.5.1",
      "model_name": "CardActionsModel",
      "state": {
       "_events": [],
       "_jupyter_vue": "IPY_MODEL_bc2712ed128d4d47ba50f0f591fcb068",
       "attributes": {},
       "children": [
        "IPY_MODEL_8d991b1459a84b7787fef7fe22e12cee",
        "IPY_MODEL_870b4dd34a2c4b93a363ece2cc116074"
       ],
       "layout": "IPY_MODEL_64c47483f9524a209185a764f33fb5b2",
       "v_slots": []
      }
     },
     "7a2299f9eff34460956931b2995ded33": {
      "model_module": "@jupyter-widgets/base",
      "model_module_version": "1.2.0",
      "model_name": "LayoutModel",
      "state": {}
     },
     "7a65c2446dda4c86bac35d23acaf933b": {
      "model_module": "@jupyter-widgets/base",
      "model_module_version": "1.2.0",
      "model_name": "LayoutModel",
      "state": {}
     },
     "7a994fa43144451298c9f54faa6f1dcf": {
      "model_module": "@jupyter-widgets/base",
      "model_module_version": "1.2.0",
      "model_name": "LayoutModel",
      "state": {}
     },
     "7aa717117e1641f39da09cec9371ac2f": {
      "model_module": "@jupyter-widgets/base",
      "model_module_version": "1.2.0",
      "model_name": "LayoutModel",
      "state": {}
     },
     "7ad5e5584962414097977d6930e8efd1": {
      "model_module": "@jupyter-widgets/base",
      "model_module_version": "1.2.0",
      "model_name": "LayoutModel",
      "state": {}
     },
     "7b11c91e567a4d2085a0d0c1beb3b7e6": {
      "model_module": "jupyter-vuetify",
      "model_module_version": "^1.5.1",
      "model_name": "RowModel",
      "state": {
       "_events": [],
       "_jupyter_vue": "IPY_MODEL_bc2712ed128d4d47ba50f0f591fcb068",
       "align": "center",
       "attributes": {},
       "children": [
        "IPY_MODEL_d8714e6635014a3da60d8a9fc9ab7fb6"
       ],
       "justify": "center",
       "layout": "IPY_MODEL_8d38d4eafcac43258426ff4c385101de",
       "v_slots": []
      }
     },
     "7b1d03c43e344b78ac662ec055085641": {
      "model_module": "@jupyter-widgets/base",
      "model_module_version": "1.2.0",
      "model_name": "LayoutModel",
      "state": {}
     },
     "7b4a011fb485485a9d947e223fb0a3a9": {
      "model_module": "jupyter-vuetify",
      "model_module_version": "^1.5.1",
      "model_name": "ColModel",
      "state": {
       "_events": [],
       "_jupyter_vue": "IPY_MODEL_bc2712ed128d4d47ba50f0f591fcb068",
       "attributes": {},
       "children": [
        "IPY_MODEL_e0954c4f854a4e27b15fd86fa21345e5"
       ],
       "cols": 12,
       "layout": "IPY_MODEL_20113c8413104bc2bb8756568fea6c33",
       "lg": null,
       "md": null,
       "offset": null,
       "offset_lg": null,
       "offset_md": null,
       "offset_sm": null,
       "offset_xl": null,
       "order": null,
       "order_lg": null,
       "order_md": null,
       "order_sm": null,
       "order_xl": null,
       "sm": null,
       "v_slots": [],
       "xl": null
      }
     },
     "7b68997a9e2e421391971adcdc3d7183": {
      "model_module": "@jupyter-widgets/base",
      "model_module_version": "1.2.0",
      "model_name": "LayoutModel",
      "state": {}
     },
     "7b9888079f0c4a0b820a97de2ece46a5": {
      "model_module": "jupyter-vuetify",
      "model_module_version": "^1.5.1",
      "model_name": "CardModel",
      "state": {
       "_events": [],
       "_jupyter_vue": "IPY_MODEL_bc2712ed128d4d47ba50f0f591fcb068",
       "attributes": {},
       "children": [
        "IPY_MODEL_e9949d262f5a41faacb710e1447845a3",
        "IPY_MODEL_360883912f8b491184ed5118bf6e362a",
        "IPY_MODEL_8eb04a2435354da5b0bc617d0d71191b"
       ],
       "elevation": null,
       "height": null,
       "href": null,
       "layout": "IPY_MODEL_89d3f0ea797f470d82180ac86095add0",
       "loader_height": null,
       "loading": null,
       "max_height": null,
       "max_width": null,
       "min_height": null,
       "min_width": null,
       "ripple": null,
       "to": null,
       "v_slots": [],
       "width": null
      }
     },
     "7bb0f0a55e2148aba2d72e5f12dbe2f2": {
      "model_module": "jupyter-vuetify",
      "model_module_version": "^1.5.1",
      "model_name": "CardModel",
      "state": {
       "_events": [],
       "_jupyter_vue": "IPY_MODEL_bc2712ed128d4d47ba50f0f591fcb068",
       "attributes": {},
       "children": [
        "IPY_MODEL_f16f6e7c5ff4465888f382a297c23ff2",
        "IPY_MODEL_3df071d4767c42ce8bf5d46dee5b5d6c"
       ],
       "elevation": null,
       "height": null,
       "href": null,
       "layout": "IPY_MODEL_56afa03bfd6f4b9fb622f3db4facb274",
       "loader_height": null,
       "loading": null,
       "max_height": null,
       "max_width": null,
       "min_height": null,
       "min_width": null,
       "ripple": null,
       "to": null,
       "v_slots": [],
       "width": null
      }
     },
     "7bb68f9259fc40edbf0c190ea201f910": {
      "model_module": "jupyter-vuetify",
      "model_module_version": "^1.5.1",
      "model_name": "CardActionsModel",
      "state": {
       "_events": [],
       "_jupyter_vue": "IPY_MODEL_bc2712ed128d4d47ba50f0f591fcb068",
       "attributes": {},
       "children": [
        "IPY_MODEL_35c4f718c8094e71a20e2f6b3b636002"
       ],
       "layout": "IPY_MODEL_88255c7cd0cd422d803856f238d28d4b",
       "v_slots": []
      }
     },
     "7bffd289dd084a81b6c10e02e85f4552": {
      "model_module": "jupyter-vuetify",
      "model_module_version": "^1.5.1",
      "model_name": "ColModel",
      "state": {
       "_events": [],
       "_jupyter_vue": "IPY_MODEL_bc2712ed128d4d47ba50f0f591fcb068",
       "attributes": {},
       "children": [
        "IPY_MODEL_fb797228be7a4adfbc5d77f73a7e5c86"
       ],
       "cols": 12,
       "layout": "IPY_MODEL_6c88cc6b40194360a4b5f7aff41678c8",
       "lg": null,
       "md": null,
       "offset": null,
       "offset_lg": null,
       "offset_md": null,
       "offset_sm": null,
       "offset_xl": null,
       "order": null,
       "order_lg": null,
       "order_md": null,
       "order_sm": null,
       "order_xl": null,
       "sm": null,
       "v_slots": [],
       "xl": null
      }
     },
     "7c6d85549c4043f8b10e44f6d749b3cc": {
      "model_module": "jupyter-vuetify",
      "model_module_version": "^1.5.1",
      "model_name": "BtnModel",
      "state": {
       "_events": [],
       "_jupyter_vue": "IPY_MODEL_bc2712ed128d4d47ba50f0f591fcb068",
       "attributes": {},
       "children": [
        "IPY_MODEL_ba0bdb66f7ac4502875efa2e5b94629f"
       ],
       "color": "blue",
       "elevation": null,
       "height": null,
       "href": null,
       "layout": "IPY_MODEL_c680216ef7354a5b94f44d54834a7e97",
       "max_height": null,
       "max_width": null,
       "min_height": null,
       "min_width": null,
       "ripple": null,
       "text": true,
       "to": null,
       "v_slots": [],
       "width": null
      }
     },
     "7c714d4bf7f94c228decedf1f5298b31": {
      "model_module": "@jupyter-widgets/base",
      "model_module_version": "1.2.0",
      "model_name": "LayoutModel",
      "state": {}
     },
     "7c7728f1f2634ae5bffc5f928d4c16e6": {
      "model_module": "jupyter-vuetify",
      "model_module_version": "^1.5.1",
      "model_name": "BtnModel",
      "state": {
       "_events": [],
       "_jupyter_vue": "IPY_MODEL_bc2712ed128d4d47ba50f0f591fcb068",
       "attributes": {},
       "children": [
        "IPY_MODEL_62f20f291fe242f78744a98e987063b8"
       ],
       "color": "blue",
       "elevation": null,
       "height": null,
       "href": null,
       "layout": "IPY_MODEL_fe749a4009a7437fabfa42ba9be1685c",
       "max_height": null,
       "max_width": null,
       "min_height": null,
       "min_width": null,
       "ripple": null,
       "text": true,
       "to": null,
       "v_slots": [],
       "width": null
      }
     },
     "7cb1f388f7b74dbfa13e5ec54b120878": {
      "model_module": "jupyter-vuetify",
      "model_module_version": "^1.5.1",
      "model_name": "HtmlModel",
      "state": {
       "_events": [],
       "_jupyter_vue": "IPY_MODEL_bc2712ed128d4d47ba50f0f591fcb068",
       "_model_module_version": "^1.5.1",
       "_view_module_version": "^1.5.1",
       "attributes": {},
       "children": [
        "Zip code is zip code of residence, which may not be location of exposure. Rates based on small case counts may vary considerably and should be interpreted with caution.",
        "Data are preliminary and subject to change. Total population=3,351,784."
       ],
       "layout": "IPY_MODEL_99e47596552c430c8a1fea2ff44b9e9d",
       "tag": "p",
       "v_slots": []
      }
     },
     "7cbc07730e3244f49424bddeda6d3b09": {
      "model_module": "jupyter-vuetify",
      "model_module_version": "^1.5.1",
      "model_name": "CardTextModel",
      "state": {
       "_events": [],
       "_jupyter_vue": "IPY_MODEL_bc2712ed128d4d47ba50f0f591fcb068",
       "attributes": {},
       "children": [
        "IPY_MODEL_a79dbdd35cc04788a7e8a382fe328307"
       ],
       "layout": "IPY_MODEL_e2b660526b5145b38d4c48edb8e0c841",
       "v_slots": []
      }
     },
     "7ce3461786d4483ba84c23e34c35960b": {
      "model_module": "@jupyter-widgets/base",
      "model_module_version": "1.2.0",
      "model_name": "LayoutModel",
      "state": {}
     },
     "7ce41180599c45ef8292429bf1ad70fb": {
      "model_module": "jupyter-vuetify",
      "model_module_version": "^1.5.1",
      "model_name": "HtmlModel",
      "state": {
       "_events": [],
       "_jupyter_vue": "IPY_MODEL_bc2712ed128d4d47ba50f0f591fcb068",
       "_model_module_version": "^1.5.1",
       "_view_module_version": "^1.5.1",
       "attributes": {
        "href": "https://web.archive.org/web/*/https://www.sandiegocounty.gov/content/dam/sdc/hhsa/programs/phs/Epidemiology/COVID-19%20Summary%20of%20Cases%20by%20Zip%20Code.pdf",
        "target": "_blank"
       },
       "children": [
        "Data Source"
       ],
       "layout": "IPY_MODEL_acf55ff1ec9444588f1afba1d24482fa",
       "tag": "a",
       "v_slots": []
      }
     },
     "7ce4784743d24a4799f5c29213777178": {
      "model_module": "@jupyter-widgets/base",
      "model_module_version": "1.2.0",
      "model_name": "LayoutModel",
      "state": {}
     },
     "7ce7124c802b4921903b9da0fa51a33d": {
      "model_module": "@jupyter-widgets/base",
      "model_module_version": "1.2.0",
      "model_name": "LayoutModel",
      "state": {}
     },
     "7d14bf870f1240a18c874cbf7b1570b9": {
      "model_module": "jupyter-vuetify",
      "model_module_version": "^1.5.1",
      "model_name": "CardTitleModel",
      "state": {
       "_events": [],
       "_jupyter_vue": "IPY_MODEL_bc2712ed128d4d47ba50f0f591fcb068",
       "attributes": {},
       "children": [
        "About the Data"
       ],
       "layout": "IPY_MODEL_ae9a6a198f3144b8a52a678073062181",
       "v_slots": []
      }
     },
     "7d782dec371145d99b269e3d9efb3322": {
      "model_module": "jupyter-vuetify",
      "model_module_version": "^1.5.1",
      "model_name": "RowModel",
      "state": {
       "_events": [],
       "_jupyter_vue": "IPY_MODEL_bc2712ed128d4d47ba50f0f591fcb068",
       "attributes": {},
       "children": [
        "IPY_MODEL_7bffd289dd084a81b6c10e02e85f4552",
        "IPY_MODEL_6e759c51876843f1a18fce82343b4318",
        "IPY_MODEL_8dfdb4d30beb4aacb0543aff41f82eef"
       ],
       "dense": true,
       "layout": "IPY_MODEL_ede49f3ce2734d5297b761c0258501ed",
       "v_slots": []
      }
     },
     "7e00eee69db8421a98714d680a295506": {
      "model_module": "jupyter-vuetify",
      "model_module_version": "^1.5.1",
      "model_name": "CardModel",
      "state": {
       "_events": [],
       "_jupyter_vue": "IPY_MODEL_bc2712ed128d4d47ba50f0f591fcb068",
       "attributes": {},
       "children": [
        "IPY_MODEL_5307a4b74b0941cf99b7ff4f4ea3a079",
        "IPY_MODEL_dee1c714b36e42878a17e04438e8da09",
        "IPY_MODEL_1755a32810fb4c2895bf851411231f8e"
       ],
       "elevation": null,
       "height": null,
       "href": null,
       "layout": "IPY_MODEL_82944d654d4e488c8f5aa73fef4c7ddb",
       "loader_height": null,
       "loading": null,
       "max_height": null,
       "max_width": null,
       "min_height": null,
       "min_width": null,
       "ripple": null,
       "to": null,
       "v_slots": [],
       "width": null
      }
     },
     "7e2c94d69ccb42e98f35d22a5cf8336d": {
      "model_module": "jupyter-vuetify",
      "model_module_version": "^1.5.1",
      "model_name": "CardTitleModel",
      "state": {
       "_events": [],
       "_jupyter_vue": "IPY_MODEL_bc2712ed128d4d47ba50f0f591fcb068",
       "attributes": {},
       "children": [
        "About the Data"
       ],
       "layout": "IPY_MODEL_630ff0caaedd470a923147675e177c81",
       "v_slots": []
      }
     },
     "7e4634c8f6f94e31bced588671a32219": {
      "model_module": "@jupyter-widgets/base",
      "model_module_version": "1.2.0",
      "model_name": "LayoutModel",
      "state": {}
     },
     "7e49344845474ea99394a070159c61b9": {
      "model_module": "@jupyter-widgets/base",
      "model_module_version": "1.2.0",
      "model_name": "LayoutModel",
      "state": {}
     },
     "7e6f67e7696b4ae786739a2fdcef8902": {
      "model_module": "@jupyter-widgets/base",
      "model_module_version": "1.2.0",
      "model_name": "LayoutModel",
      "state": {}
     },
     "7e8c4ca605d7475ea7518af642ecd5e9": {
      "model_module": "jupyter-vuetify",
      "model_module_version": "^1.5.1",
      "model_name": "CardTitleModel",
      "state": {
       "_events": [],
       "_jupyter_vue": "IPY_MODEL_bc2712ed128d4d47ba50f0f591fcb068",
       "attributes": {},
       "children": [
        "ZIP Codes"
       ],
       "layout": "IPY_MODEL_7ad5e5584962414097977d6930e8efd1",
       "v_slots": []
      }
     },
     "7ee1af6ddaad4e49961437c42771b533": {
      "model_module": "@jupyter-widgets/base",
      "model_module_version": "1.2.0",
      "model_name": "LayoutModel",
      "state": {}
     },
     "7f47b3acbc344dd790b147a812c9c308": {
      "model_module": "jupyter-vuetify",
      "model_module_version": "^1.5.1",
      "model_name": "BtnModel",
      "state": {
       "_events": [],
       "_jupyter_vue": "IPY_MODEL_bc2712ed128d4d47ba50f0f591fcb068",
       "attributes": {},
       "children": [
        "IPY_MODEL_898a26124a51415b8ce9dcdea634c3f7"
       ],
       "color": "blue",
       "elevation": null,
       "height": null,
       "href": null,
       "layout": "IPY_MODEL_9937b3e8b92548afb9b205ec6a5326bd",
       "max_height": null,
       "max_width": null,
       "min_height": null,
       "min_width": null,
       "ripple": null,
       "text": true,
       "to": null,
       "v_slots": [],
       "width": null
      }
     },
     "7f7bd7375dd5467793117c5caad44a0a": {
      "model_module": "jupyter-vuetify",
      "model_module_version": "^1.5.1",
      "model_name": "CardTextModel",
      "state": {
       "_events": [],
       "_jupyter_vue": "IPY_MODEL_bc2712ed128d4d47ba50f0f591fcb068",
       "attributes": {},
       "children": [
        "IPY_MODEL_2d74cca21e68405485e9ebf7256a040e"
       ],
       "layout": "IPY_MODEL_e5aa1ad7e4e94c5cbb91982a4624e4f2",
       "v_slots": []
      }
     },
     "7f7c2b7f8f6d4a85b3f0ec4ed7c98c26": {
      "model_module": "jupyter-vuetify",
      "model_module_version": "^1.5.1",
      "model_name": "BtnModel",
      "state": {
       "_events": [],
       "_jupyter_vue": "IPY_MODEL_bc2712ed128d4d47ba50f0f591fcb068",
       "attributes": {},
       "children": [
        "IPY_MODEL_53c8e8670d8341af8053b727729a38c1"
       ],
       "color": "blue",
       "elevation": null,
       "height": null,
       "href": null,
       "layout": "IPY_MODEL_0ff2a7d80d544f43a5726749abbcadf2",
       "max_height": null,
       "max_width": null,
       "min_height": null,
       "min_width": null,
       "ripple": null,
       "text": true,
       "to": null,
       "v_slots": [],
       "width": null
      }
     },
     "7fbfdaaed218409aae54497605a923e9": {
      "model_module": "jupyter-vuetify",
      "model_module_version": "^1.5.1",
      "model_name": "HtmlModel",
      "state": {
       "_events": [],
       "_jupyter_vue": "IPY_MODEL_bc2712ed128d4d47ba50f0f591fcb068",
       "_model_module_version": "^1.5.1",
       "_view_module_version": "^1.5.1",
       "attributes": {},
       "children": [
        "Population counts and other demographic traits have been received from the SANDAG Data Surfer."
       ],
       "layout": "IPY_MODEL_80cb421999e04a5ea49f7fdddb4e9ee6",
       "tag": "p",
       "v_slots": []
      }
     },
     "7fcbcb210d054b0980403016eaca3085": {
      "model_module": "jupyter-vuetify",
      "model_module_version": "^1.5.1",
      "model_name": "CardModel",
      "state": {
       "_events": [],
       "_jupyter_vue": "IPY_MODEL_bc2712ed128d4d47ba50f0f591fcb068",
       "attributes": {},
       "children": [
        "IPY_MODEL_21d952e1a0d0409f97b55cba451bdec2",
        "IPY_MODEL_41fc853b57094a9593f7272b7ce00d25"
       ],
       "elevation": null,
       "height": null,
       "href": null,
       "layout": "IPY_MODEL_60e8fb735f9a484fb4abde2020c56c5a",
       "loader_height": null,
       "loading": null,
       "max_height": null,
       "max_width": null,
       "min_height": null,
       "min_width": null,
       "ripple": null,
       "to": null,
       "v_slots": [],
       "width": null
      }
     },
     "7ff28d443ece42e6b3f699b1d476bc0c": {
      "model_module": "jupyter-vuetify",
      "model_module_version": "^1.5.1",
      "model_name": "HtmlModel",
      "state": {
       "_events": [],
       "_jupyter_vue": "IPY_MODEL_bc2712ed128d4d47ba50f0f591fcb068",
       "_model_module_version": "^1.5.1",
       "_view_module_version": "^1.5.1",
       "attributes": {
        "href": "https://sdgis-sandag.opendata.arcgis.com/datasets/zip-code",
        "target": "_blank"
       },
       "children": [
        "Dataset"
       ],
       "layout": "IPY_MODEL_f9f7a5ff389c4e049ab4dfe253423122",
       "tag": "a",
       "v_slots": []
      }
     },
     "806de283f9b248deb0202ab26d5acd68": {
      "model_module": "@jupyter-widgets/base",
      "model_module_version": "1.2.0",
      "model_name": "LayoutModel",
      "state": {}
     },
     "806f02407e3e43a281c84fd417f86d0d": {
      "model_module": "@jupyter-widgets/base",
      "model_module_version": "1.2.0",
      "model_name": "LayoutModel",
      "state": {}
     },
     "80740b94142a49cba4e57d04918693ec": {
      "model_module": "jupyter-vuetify",
      "model_module_version": "^1.5.1",
      "model_name": "ColModel",
      "state": {
       "_events": [],
       "_jupyter_vue": "IPY_MODEL_bc2712ed128d4d47ba50f0f591fcb068",
       "attributes": {},
       "children": [
        "IPY_MODEL_8fb5b156f43445dabefa776122486341"
       ],
       "cols": 12,
       "layout": "IPY_MODEL_c3d3edb340b64b368af4eb6211449001",
       "lg": null,
       "md": null,
       "offset": null,
       "offset_lg": null,
       "offset_md": null,
       "offset_sm": null,
       "offset_xl": null,
       "order": null,
       "order_lg": null,
       "order_md": null,
       "order_sm": null,
       "order_xl": null,
       "sm": null,
       "v_slots": [],
       "xl": null
      }
     },
     "8092f030e6544cd2bcc9f11b3965ad42": {
      "model_module": "@jupyter-widgets/base",
      "model_module_version": "1.2.0",
      "model_name": "LayoutModel",
      "state": {}
     },
     "8099297a1a3146bf8e815e42180963ad": {
      "model_module": "jupyter-vuetify",
      "model_module_version": "^1.5.1",
      "model_name": "CardActionsModel",
      "state": {
       "_events": [],
       "_jupyter_vue": "IPY_MODEL_bc2712ed128d4d47ba50f0f591fcb068",
       "attributes": {},
       "children": [
        "IPY_MODEL_d9aad5723c4544a3bf35c7753fc88847",
        "IPY_MODEL_7f47b3acbc344dd790b147a812c9c308"
       ],
       "layout": "IPY_MODEL_f08a52be593e4d31a46312c93b7d0fa4",
       "v_slots": []
      }
     },
     "80c9814be61548fb96c6da3e542aece4": {
      "model_module": "jupyter-vuetify",
      "model_module_version": "^1.5.1",
      "model_name": "CardTextModel",
      "state": {
       "_events": [],
       "_jupyter_vue": "IPY_MODEL_bc2712ed128d4d47ba50f0f591fcb068",
       "attributes": {},
       "children": [
        "lol"
       ],
       "layout": "IPY_MODEL_7aa717117e1641f39da09cec9371ac2f",
       "v_slots": []
      }
     },
     "80cb421999e04a5ea49f7fdddb4e9ee6": {
      "model_module": "@jupyter-widgets/base",
      "model_module_version": "1.2.0",
      "model_name": "LayoutModel",
      "state": {}
     },
     "80de23f4295a4b7d85eba2f4253e0887": {
      "model_module": "@jupyter-widgets/base",
      "model_module_version": "1.2.0",
      "model_name": "LayoutModel",
      "state": {}
     },
     "8121d1ba67f8472e8870843cd2bdb435": {
      "model_module": "@jupyter-widgets/base",
      "model_module_version": "1.2.0",
      "model_name": "LayoutModel",
      "state": {}
     },
     "813fddc6968c4fdd85cd596dfd7ecebb": {
      "model_module": "jupyter-vuetify",
      "model_module_version": "^1.5.1",
      "model_name": "CardTextModel",
      "state": {
       "_events": [],
       "_jupyter_vue": "IPY_MODEL_bc2712ed128d4d47ba50f0f591fcb068",
       "attributes": {},
       "children": [
        "lol"
       ],
       "layout": "IPY_MODEL_56904bf9800140da8ab9177191e2a0e7",
       "v_slots": []
      }
     },
     "816e994c715948fb9c67fa27521919d5": {
      "model_module": "@jupyter-widgets/base",
      "model_module_version": "1.2.0",
      "model_name": "LayoutModel",
      "state": {}
     },
     "8177d700f7a7410cbbb8a64653ffb280": {
      "model_module": "jupyter-vuetify",
      "model_module_version": "^1.5.1",
      "model_name": "CardModel",
      "state": {
       "_events": [],
       "_jupyter_vue": "IPY_MODEL_bc2712ed128d4d47ba50f0f591fcb068",
       "attributes": {},
       "children": [
        "IPY_MODEL_b371818c7cd2446aa397f6ce8cf5b4e1",
        "IPY_MODEL_e6b1906f1d484c4898061d631f67cc9b",
        "IPY_MODEL_788aea2603cb4ca089356f68fe750f9e"
       ],
       "elevation": null,
       "height": null,
       "href": null,
       "layout": "IPY_MODEL_2016070febbe44699ca25896883ab95d",
       "loader_height": null,
       "loading": null,
       "max_height": null,
       "max_width": null,
       "min_height": null,
       "min_width": null,
       "ripple": null,
       "to": null,
       "v_slots": [],
       "width": null
      }
     },
     "81918a73e8ad49f9a01234f02b79ded1": {
      "model_module": "jupyter-vuetify",
      "model_module_version": "^1.5.1",
      "model_name": "CardTitleModel",
      "state": {
       "_events": [],
       "_jupyter_vue": "IPY_MODEL_bc2712ed128d4d47ba50f0f591fcb068",
       "attributes": {},
       "children": [
        "About the Data"
       ],
       "layout": "IPY_MODEL_4c9dc627526545c8818ae22435dae977",
       "v_slots": []
      }
     },
     "819bb4ec69ec4e90a72112a616f4ca2d": {
      "model_module": "@jupyter-widgets/base",
      "model_module_version": "1.2.0",
      "model_name": "LayoutModel",
      "state": {}
     },
     "81d58d36faa6454a8e4f6182e039c5d8": {
      "model_module": "@jupyter-widgets/base",
      "model_module_version": "1.2.0",
      "model_name": "LayoutModel",
      "state": {}
     },
     "81dec26ee1fe42ce91c35934b37a673b": {
      "model_module": "@jupyter-widgets/base",
      "model_module_version": "1.2.0",
      "model_name": "LayoutModel",
      "state": {}
     },
     "820a46c76a1a4ac2ab96aad80597e8ce": {
      "model_module": "jupyter-vuetify",
      "model_module_version": "^1.5.1",
      "model_name": "HtmlModel",
      "state": {
       "_events": [],
       "_jupyter_vue": "IPY_MODEL_bc2712ed128d4d47ba50f0f591fcb068",
       "_model_module_version": "^1.5.1",
       "_view_module_version": "^1.5.1",
       "attributes": {},
       "children": [
        "SANDAG, Current Estimates (data extracted on: 9/2020)"
       ],
       "layout": "IPY_MODEL_54c797a7a1834bd08336629bb2833fb5",
       "tag": "i",
       "v_slots": []
      }
     },
     "825260ee196d425d808b7b851a0d6309": {
      "model_module": "@jupyter-widgets/base",
      "model_module_version": "1.2.0",
      "model_name": "LayoutModel",
      "state": {}
     },
     "825550419a254947bd763aca486b4934": {
      "model_module": "jupyter-vuetify",
      "model_module_version": "^1.5.1",
      "model_name": "CardActionsModel",
      "state": {
       "_events": [],
       "_jupyter_vue": "IPY_MODEL_bc2712ed128d4d47ba50f0f591fcb068",
       "attributes": {},
       "children": [
        "IPY_MODEL_bbab5d4c398144b7a03ace06d56b1c0f",
        "IPY_MODEL_aba68add1cd94d5096260071812fad05"
       ],
       "layout": "IPY_MODEL_6b8522cb18a54c1fb76eaa80231c4fb3",
       "v_slots": []
      }
     },
     "827742094d6b44d9b9fd4bdca250c228": {
      "model_module": "@jupyter-widgets/base",
      "model_module_version": "1.2.0",
      "model_name": "LayoutModel",
      "state": {}
     },
     "828a13f10e6049f491d10a57590691e3": {
      "model_module": "@jupyter-widgets/base",
      "model_module_version": "1.2.0",
      "model_name": "LayoutModel",
      "state": {}
     },
     "82944d654d4e488c8f5aa73fef4c7ddb": {
      "model_module": "@jupyter-widgets/base",
      "model_module_version": "1.2.0",
      "model_name": "LayoutModel",
      "state": {}
     },
     "82aa302d5b884e78b87c4010befd2a53": {
      "model_module": "jupyter-vuetify",
      "model_module_version": "^1.5.1",
      "model_name": "CardTitleModel",
      "state": {
       "_events": [],
       "_jupyter_vue": "IPY_MODEL_bc2712ed128d4d47ba50f0f591fcb068",
       "attributes": {},
       "children": [
        "ZIP Codes"
       ],
       "layout": "IPY_MODEL_fd9591c5b3f24a5c9d496b36a818eb3a",
       "v_slots": []
      }
     },
     "82b7698b89b9470e958545f95d9f80ee": {
      "model_module": "@jupyter-widgets/base",
      "model_module_version": "1.2.0",
      "model_name": "LayoutModel",
      "state": {}
     },
     "830a793d3b164abc92bb2bb0c99f6f8a": {
      "model_module": "@jupyter-widgets/base",
      "model_module_version": "1.2.0",
      "model_name": "LayoutModel",
      "state": {}
     },
     "83165bd62e944178bc968b5a06b7965e": {
      "model_module": "@jupyter-widgets/base",
      "model_module_version": "1.2.0",
      "model_name": "LayoutModel",
      "state": {}
     },
     "8319006b46fb491b88ed6744019490b8": {
      "model_module": "jupyter-vuetify",
      "model_module_version": "^1.5.1",
      "model_name": "CardActionsModel",
      "state": {
       "_events": [],
       "_jupyter_vue": "IPY_MODEL_bc2712ed128d4d47ba50f0f591fcb068",
       "attributes": {},
       "children": [
        "IPY_MODEL_0ae24751320749be8bc798c2632a2fd2",
        "IPY_MODEL_98641767a95d4b3db68486a6ef88367c"
       ],
       "layout": "IPY_MODEL_287ad9f30ff8416984abeeb89a8dff21",
       "v_slots": []
      }
     },
     "8324331a90b54a95a51ade6613feeddd": {
      "model_module": "jupyter-vuetify",
      "model_module_version": "^1.5.1",
      "model_name": "ColModel",
      "state": {
       "_events": [],
       "_jupyter_vue": "IPY_MODEL_bc2712ed128d4d47ba50f0f591fcb068",
       "attributes": {},
       "children": [
        "IPY_MODEL_64d4b5a126634e2c9fa329313d944245"
       ],
       "cols": 6,
       "layout": "IPY_MODEL_2e378de25c024398918d16645ad23bba",
       "lg": null,
       "md": null,
       "offset": null,
       "offset_lg": null,
       "offset_md": null,
       "offset_sm": null,
       "offset_xl": null,
       "order": null,
       "order_lg": null,
       "order_md": null,
       "order_sm": null,
       "order_xl": null,
       "sm": null,
       "v_slots": [],
       "xl": null
      }
     },
     "833d490c97394e79a30c6be3c6bd41a7": {
      "model_module": "jupyter-vuetify",
      "model_module_version": "^1.5.1",
      "model_name": "ColModel",
      "state": {
       "_events": [],
       "_jupyter_vue": "IPY_MODEL_bc2712ed128d4d47ba50f0f591fcb068",
       "attributes": {},
       "children": [
        "IPY_MODEL_35b7acf4e3184e06a672921e199d1120"
       ],
       "cols": 6,
       "layout": "IPY_MODEL_3419006b3ae143ac84dba3f77b098c49",
       "lg": null,
       "md": null,
       "offset": null,
       "offset_lg": null,
       "offset_md": null,
       "offset_sm": null,
       "offset_xl": null,
       "order": null,
       "order_lg": null,
       "order_md": null,
       "order_sm": null,
       "order_xl": null,
       "sm": null,
       "v_slots": [],
       "xl": null
      }
     },
     "83700ae244344f54856d088f81425a11": {
      "model_module": "jupyter-vuetify",
      "model_module_version": "^1.5.1",
      "model_name": "CardTextModel",
      "state": {
       "_events": [],
       "_jupyter_vue": "IPY_MODEL_bc2712ed128d4d47ba50f0f591fcb068",
       "attributes": {},
       "children": [
        "lol"
       ],
       "layout": "IPY_MODEL_ceafe49449eb4bf5aa28878734c2423e",
       "v_slots": []
      }
     },
     "8372284b3bc1491ca4114f850a46a488": {
      "model_module": "@jupyter-widgets/base",
      "model_module_version": "1.2.0",
      "model_name": "LayoutModel",
      "state": {}
     },
     "83ed13d152d64637b3d4fb13032f6330": {
      "model_module": "@jupyter-widgets/base",
      "model_module_version": "1.2.0",
      "model_name": "LayoutModel",
      "state": {}
     },
     "83f8f8753e6845eda1f336b893267e41": {
      "model_module": "jupyter-vuetify",
      "model_module_version": "^1.5.1",
      "model_name": "CardTitleModel",
      "state": {
       "_events": [],
       "_jupyter_vue": "IPY_MODEL_bc2712ed128d4d47ba50f0f591fcb068",
       "attributes": {},
       "children": [
        "About the Data"
       ],
       "layout": "IPY_MODEL_abd620fcacb74c44bdcb29d00e17a5e2",
       "v_slots": []
      }
     },
     "8402f48d56b64836b10b8a8c5cccc0f4": {
      "model_module": "jupyter-vuetify",
      "model_module_version": "^1.5.1",
      "model_name": "CardTitleModel",
      "state": {
       "_events": [],
       "_jupyter_vue": "IPY_MODEL_bc2712ed128d4d47ba50f0f591fcb068",
       "attributes": {},
       "children": [
        "ZIP Code Boundaries"
       ],
       "layout": "IPY_MODEL_659beae52b5d4b6993bea7f27bdc4223",
       "v_slots": []
      }
     },
     "84239a27c5354ea3b17010127be7ed71": {
      "model_module": "@jupyter-widgets/base",
      "model_module_version": "1.2.0",
      "model_name": "LayoutModel",
      "state": {}
     },
     "8446d37def6c4422ad41499fe45cde35": {
      "model_module": "jupyter-vuetify",
      "model_module_version": "^1.5.1",
      "model_name": "CardTextModel",
      "state": {
       "_events": [],
       "_jupyter_vue": "IPY_MODEL_bc2712ed128d4d47ba50f0f591fcb068",
       "attributes": {},
       "children": [
        "IPY_MODEL_e98ccaba1c0640a997afbe457066b162"
       ],
       "layout": "IPY_MODEL_30e834540f04474c9c5262972378d068",
       "v_slots": []
      }
     },
     "84d48fe6771740a895a5175100211fe1": {
      "model_module": "@jupyter-widgets/base",
      "model_module_version": "1.2.0",
      "model_name": "LayoutModel",
      "state": {}
     },
     "84d972e65bde400f9260316311590e0b": {
      "model_module": "jupyter-vuetify",
      "model_module_version": "^1.5.1",
      "model_name": "HtmlModel",
      "state": {
       "_events": [],
       "_jupyter_vue": "IPY_MODEL_bc2712ed128d4d47ba50f0f591fcb068",
       "_model_module_version": "^1.5.1",
       "_view_module_version": "^1.5.1",
       "attributes": {},
       "children": [
        "Zip code is zip code of residence, which may not be location of exposure. Rates based on small case counts may vary considerably and should be interpreted with caution.",
        "Data are preliminary and subject to change. Total population=3,351,784."
       ],
       "layout": "IPY_MODEL_543a7e0d530b48feb3b5ae002e2fe632",
       "tag": "p",
       "v_slots": []
      }
     },
     "84f5e454682444dda993e86f07128469": {
      "model_module": "@jupyter-widgets/base",
      "model_module_version": "1.2.0",
      "model_name": "LayoutModel",
      "state": {}
     },
     "84fc7cd2cf7e40028a72104c4a7c7921": {
      "model_module": "@jupyter-widgets/base",
      "model_module_version": "1.2.0",
      "model_name": "LayoutModel",
      "state": {}
     },
     "85083790cdd2428ebec79d7678ff3e38": {
      "model_module": "jupyter-vuetify",
      "model_module_version": "^1.5.1",
      "model_name": "ColModel",
      "state": {
       "_events": [],
       "_jupyter_vue": "IPY_MODEL_bc2712ed128d4d47ba50f0f591fcb068",
       "attributes": {},
       "children": [
        "IPY_MODEL_6fea1e50780f4406afcaf176b071dbee"
       ],
       "cols": 6,
       "layout": "IPY_MODEL_9569f68bf2dc47e4b78216c01b95ccef",
       "lg": null,
       "md": null,
       "offset": null,
       "offset_lg": null,
       "offset_md": null,
       "offset_sm": null,
       "offset_xl": null,
       "order": null,
       "order_lg": null,
       "order_md": null,
       "order_sm": null,
       "order_xl": null,
       "sm": null,
       "v_slots": [],
       "xl": null
      }
     },
     "8530b413530d43adb1e9d207824d5790": {
      "model_module": "@jupyter-widgets/base",
      "model_module_version": "1.2.0",
      "model_name": "LayoutModel",
      "state": {}
     },
     "8533f2b76d354e4b9f41015a384f03b9": {
      "model_module": "@jupyter-widgets/base",
      "model_module_version": "1.2.0",
      "model_name": "LayoutModel",
      "state": {}
     },
     "8551047da35646219a49dbf7cb80d456": {
      "model_module": "jupyter-vuetify",
      "model_module_version": "^1.5.1",
      "model_name": "CardTextModel",
      "state": {
       "_events": [],
       "_jupyter_vue": "IPY_MODEL_bc2712ed128d4d47ba50f0f591fcb068",
       "attributes": {},
       "children": [
        "The ZIP code boundaries shown in all maps are taken from the SANDAG/SanGIS Open Data Portal."
       ],
       "layout": "IPY_MODEL_4ae9270337cf48f890187028b0266174",
       "v_slots": []
      }
     },
     "859713c8b3124c87924bf77f11bf6034": {
      "model_module": "@jupyter-widgets/base",
      "model_module_version": "1.2.0",
      "model_name": "LayoutModel",
      "state": {}
     },
     "85b3de66e46745e481006ff3d290c4c3": {
      "model_module": "jupyter-vuetify",
      "model_module_version": "^1.5.1",
      "model_name": "ContainerModel",
      "state": {
       "_events": [],
       "_jupyter_vue": "IPY_MODEL_bc2712ed128d4d47ba50f0f591fcb068",
       "attributes": {},
       "children": [
        "IPY_MODEL_2f6e4ac68f654bd8b347433c79eba791"
       ],
       "fluid": true,
       "layout": "IPY_MODEL_29e36a6fbbb2419287367176a351a713",
       "v_slots": []
      }
     },
     "85ba9ef0f72047b98e67c1b2212f6cf4": {
      "model_module": "jupyter-vuetify",
      "model_module_version": "^1.5.1",
      "model_name": "RowModel",
      "state": {
       "_events": [],
       "_jupyter_vue": "IPY_MODEL_bc2712ed128d4d47ba50f0f591fcb068",
       "attributes": {},
       "children": [
        "IPY_MODEL_00accb9af2d4410aa0b3daadb7c080b9",
        "IPY_MODEL_2116659949f24da4aabf16de3959d5f8",
        "IPY_MODEL_18baaf4d68c149b3b7507c5412f21fd0"
       ],
       "dense": true,
       "layout": "IPY_MODEL_01d9aac28f964f7ab67df8b369502bb3",
       "v_slots": []
      }
     },
     "85f21fb3c9f74f21bb124f5839b6cd75": {
      "model_module": "@jupyter-widgets/base",
      "model_module_version": "1.2.0",
      "model_name": "LayoutModel",
      "state": {}
     },
     "85f44998c8e0462fbcc47b6779154d9f": {
      "model_module": "jupyter-vuetify",
      "model_module_version": "^1.5.1",
      "model_name": "CardTextModel",
      "state": {
       "_events": [],
       "_jupyter_vue": "IPY_MODEL_bc2712ed128d4d47ba50f0f591fcb068",
       "attributes": {},
       "children": [
        "IPY_MODEL_6702be7e1bd34b4082a7bf8395ed6ccc",
        "IPY_MODEL_c1ab4ea60e614b62a05fcd2a0545aaac",
        "IPY_MODEL_de1c5b7eab384beca954d56c7f086767"
       ],
       "layout": "IPY_MODEL_2f5074b30c7c41d3b670112eafa6132a",
       "v_slots": []
      }
     },
     "8614ee2f4a6c4433b3f814c2e2b00fb1": {
      "model_module": "@jupyter-widgets/base",
      "model_module_version": "1.2.0",
      "model_name": "LayoutModel",
      "state": {}
     },
     "864698e54703480bb540f5b0d148ef96": {
      "model_module": "@jupyter-widgets/base",
      "model_module_version": "1.2.0",
      "model_name": "LayoutModel",
      "state": {}
     },
     "866cf94ace9c45df8c40c4d0a8fb4f00": {
      "model_module": "jupyter-vuetify",
      "model_module_version": "^1.5.1",
      "model_name": "HtmlModel",
      "state": {
       "_events": [],
       "_jupyter_vue": "IPY_MODEL_bc2712ed128d4d47ba50f0f591fcb068",
       "_model_module_version": "^1.5.1",
       "_view_module_version": "^1.5.1",
       "attributes": {},
       "children": [
        "lol"
       ],
       "class_": "text--button",
       "layout": "IPY_MODEL_944c81aa816f47babdc59e67bb02ddc0",
       "tag": "div",
       "v_slots": []
      }
     },
     "869752067a8741d6a93d67e11bee26db": {
      "model_module": "@jupyter-widgets/base",
      "model_module_version": "1.2.0",
      "model_name": "LayoutModel",
      "state": {}
     },
     "86b9654313fb4be8b03b55a4ec73a597": {
      "model_module": "@jupyter-widgets/base",
      "model_module_version": "1.2.0",
      "model_name": "LayoutModel",
      "state": {}
     },
     "86c6baa989c04a35a43f70fc76cfbc1f": {
      "model_module": "jupyter-vuetify",
      "model_module_version": "^1.5.1",
      "model_name": "CardModel",
      "state": {
       "_events": [],
       "_jupyter_vue": "IPY_MODEL_bc2712ed128d4d47ba50f0f591fcb068",
       "attributes": {},
       "children": [
        "IPY_MODEL_d34f7853beae4eb3bf35f3616beeb2e6",
        "IPY_MODEL_ca746dc0f2f0440d89cb695634de1530"
       ],
       "elevation": null,
       "height": null,
       "href": null,
       "layout": "IPY_MODEL_eb5435f406954cc69adb6d1b91d3a3b4",
       "loader_height": null,
       "loading": null,
       "max_height": null,
       "max_width": null,
       "min_height": null,
       "min_width": null,
       "ripple": null,
       "to": null,
       "v_slots": [],
       "width": null
      }
     },
     "86c6eed5acee4e80b5c1f5a600b4d27c": {
      "model_module": "jupyter-vuetify",
      "model_module_version": "^1.5.1",
      "model_name": "CardTextModel",
      "state": {
       "_events": [],
       "_jupyter_vue": "IPY_MODEL_bc2712ed128d4d47ba50f0f591fcb068",
       "attributes": {},
       "children": [
        "This section informs about the data sources this dashboard uses. All data are publicly accessible."
       ],
       "layout": "IPY_MODEL_09b4f912af404fe1a59f7a1a995ef598",
       "v_slots": []
      }
     },
     "86d4363875194caa971c757f356e997b": {
      "model_module": "jupyter-vuetify",
      "model_module_version": "^1.5.1",
      "model_name": "CardModel",
      "state": {
       "_events": [],
       "_jupyter_vue": "IPY_MODEL_bc2712ed128d4d47ba50f0f591fcb068",
       "attributes": {},
       "children": [
        "IPY_MODEL_88ea0025104d44afb0802e59556f5d35",
        "IPY_MODEL_0438eb741737497f9e9d6a2ef03458c0"
       ],
       "elevation": null,
       "height": null,
       "href": null,
       "layout": "IPY_MODEL_9d62acbb268e491fafcbc4ab858d473b",
       "loader_height": null,
       "loading": null,
       "max_height": null,
       "max_width": null,
       "min_height": null,
       "min_width": null,
       "ripple": null,
       "to": null,
       "v_slots": [],
       "width": null
      }
     },
     "86e6e9b830604abf9f3cbf4865e2cda6": {
      "model_module": "@jupyter-widgets/base",
      "model_module_version": "1.2.0",
      "model_name": "LayoutModel",
      "state": {}
     },
     "86f12f7187c6477c855b6b3c4368a237": {
      "model_module": "jupyter-vuetify",
      "model_module_version": "^1.5.1",
      "model_name": "HtmlModel",
      "state": {
       "_events": [],
       "_jupyter_vue": "IPY_MODEL_bc2712ed128d4d47ba50f0f591fcb068",
       "_model_module_version": "^1.5.1",
       "_view_module_version": "^1.5.1",
       "attributes": {},
       "children": [
        "Original data source: San Diego County Communicable Disease Registry, SANDAG 2019 Population Estimates (Prepared June 2020)."
       ],
       "layout": "IPY_MODEL_2a5020d9f2494cadbe260d1f3601f291",
       "tag": "p",
       "v_slots": []
      }
     },
     "870b4dd34a2c4b93a363ece2cc116074": {
      "model_module": "jupyter-vuetify",
      "model_module_version": "^1.5.1",
      "model_name": "BtnModel",
      "state": {
       "_events": [],
       "_jupyter_vue": "IPY_MODEL_bc2712ed128d4d47ba50f0f591fcb068",
       "attributes": {},
       "children": [
        "IPY_MODEL_6cdc2adc4f7040b786a1d72815da8950"
       ],
       "color": "blue",
       "elevation": null,
       "height": null,
       "href": null,
       "layout": "IPY_MODEL_529ffa069f454729ad0a3786ab325a5f",
       "max_height": null,
       "max_width": null,
       "min_height": null,
       "min_width": null,
       "ripple": null,
       "text": true,
       "to": null,
       "v_slots": [],
       "width": null
      }
     },
     "87347ea4304849acaad677186a73d80d": {
      "model_module": "@jupyter-widgets/base",
      "model_module_version": "1.2.0",
      "model_name": "LayoutModel",
      "state": {}
     },
     "87cb760536aa45a7b63b1d03ba28de99": {
      "model_module": "@jupyter-widgets/base",
      "model_module_version": "1.2.0",
      "model_name": "LayoutModel",
      "state": {}
     },
     "87d71361ba3b463ab3442b931b4e136c": {
      "model_module": "@jupyter-widgets/base",
      "model_module_version": "1.2.0",
      "model_name": "LayoutModel",
      "state": {}
     },
     "87e811c24ee44644bc03de92b6c4c6f9": {
      "model_module": "@jupyter-widgets/base",
      "model_module_version": "1.2.0",
      "model_name": "LayoutModel",
      "state": {}
     },
     "87fc0083490f4932b225a3960e38ec95": {
      "model_module": "@jupyter-widgets/base",
      "model_module_version": "1.2.0",
      "model_name": "LayoutModel",
      "state": {}
     },
     "88255c7cd0cd422d803856f238d28d4b": {
      "model_module": "@jupyter-widgets/base",
      "model_module_version": "1.2.0",
      "model_name": "LayoutModel",
      "state": {}
     },
     "883bd6d9cac042e1a0d54b4d7b23be6a": {
      "model_module": "jupyter-vuetify",
      "model_module_version": "^1.5.1",
      "model_name": "CardModel",
      "state": {
       "_events": [],
       "_jupyter_vue": "IPY_MODEL_bc2712ed128d4d47ba50f0f591fcb068",
       "attributes": {},
       "children": [
        "IPY_MODEL_9980830381374ad9a027f5e60b7bd651",
        "IPY_MODEL_ea3d687674b241c7aeada49fd978749b"
       ],
       "elevation": null,
       "height": null,
       "href": null,
       "layout": "IPY_MODEL_a7fe8096a44b48cfb8ebd13303f417d9",
       "loader_height": null,
       "loading": null,
       "max_height": null,
       "max_width": null,
       "min_height": null,
       "min_width": null,
       "ripple": null,
       "to": null,
       "v_slots": [],
       "width": null
      }
     },
     "88442e0ee3d647418f40fd06e52a2671": {
      "model_module": "@jupyter-widgets/base",
      "model_module_version": "1.2.0",
      "model_name": "LayoutModel",
      "state": {}
     },
     "8873597ec621408ab52be91488d83bc4": {
      "model_module": "jupyter-vuetify",
      "model_module_version": "^1.5.1",
      "model_name": "CardModel",
      "state": {
       "_events": [],
       "_jupyter_vue": "IPY_MODEL_bc2712ed128d4d47ba50f0f591fcb068",
       "attributes": {},
       "children": [
        "IPY_MODEL_83f8f8753e6845eda1f336b893267e41",
        "IPY_MODEL_65be681b642c49e3b1e4996d6db6627f"
       ],
       "elevation": null,
       "height": null,
       "href": null,
       "layout": "IPY_MODEL_dc77aeb747fa483daf00234e41cb1818",
       "loader_height": null,
       "loading": null,
       "max_height": null,
       "max_width": null,
       "min_height": null,
       "min_width": null,
       "ripple": null,
       "to": null,
       "v_slots": [],
       "width": null
      }
     },
     "888cd46d488f4b3ab157b478215820ff": {
      "model_module": "jupyter-vuetify",
      "model_module_version": "^1.5.1",
      "model_name": "ColModel",
      "state": {
       "_events": [],
       "_jupyter_vue": "IPY_MODEL_bc2712ed128d4d47ba50f0f591fcb068",
       "attributes": {},
       "children": [
        "IPY_MODEL_c933f2c2ba274afd9a5db303d0ee6d5c"
       ],
       "cols": 12,
       "layout": "IPY_MODEL_16dd687cefbc45a7bb136c72d163c462",
       "lg": null,
       "md": null,
       "offset": null,
       "offset_lg": null,
       "offset_md": null,
       "offset_sm": null,
       "offset_xl": null,
       "order": null,
       "order_lg": null,
       "order_md": null,
       "order_sm": null,
       "order_xl": null,
       "sm": null,
       "v_slots": [],
       "xl": null
      }
     },
     "88a99291215742a0b0048f670a903db1": {
      "model_module": "jupyter-vuetify",
      "model_module_version": "^1.5.1",
      "model_name": "CardTextModel",
      "state": {
       "_events": [],
       "_jupyter_vue": "IPY_MODEL_bc2712ed128d4d47ba50f0f591fcb068",
       "attributes": {},
       "children": [
        "lol"
       ],
       "layout": "IPY_MODEL_fecb6ec8dcc5489b93a68ed837ef79ea",
       "v_slots": []
      }
     },
     "88bb495d5c144685b2528ac001b08e1d": {
      "model_module": "jupyter-vuetify",
      "model_module_version": "^1.5.1",
      "model_name": "HtmlModel",
      "state": {
       "_events": [],
       "_jupyter_vue": "IPY_MODEL_bc2712ed128d4d47ba50f0f591fcb068",
       "_model_module_version": "^1.5.1",
       "_view_module_version": "^1.5.1",
       "attributes": {
        "href": "https://sdgis-sandag.opendata.arcgis.com/datasets/zip-code",
        "target": "_blank"
       },
       "children": [
        "Dataset"
       ],
       "layout": "IPY_MODEL_084f4deffabc438bba8604ae0c06192e",
       "tag": "a",
       "v_slots": []
      }
     },
     "88d810326bdd42fea7e20df1febe850c": {
      "model_module": "@jupyter-widgets/base",
      "model_module_version": "1.2.0",
      "model_name": "LayoutModel",
      "state": {}
     },
     "88ea0025104d44afb0802e59556f5d35": {
      "model_module": "jupyter-vuetify",
      "model_module_version": "^1.5.1",
      "model_name": "CardTitleModel",
      "state": {
       "_events": [],
       "_jupyter_vue": "IPY_MODEL_bc2712ed128d4d47ba50f0f591fcb068",
       "attributes": {},
       "children": [
        "About the Data"
       ],
       "layout": "IPY_MODEL_72570fd8c3264e68b8a6ee7303af647b",
       "v_slots": []
      }
     },
     "88f43d6949d34111b4fdc082a99628c2": {
      "model_module": "jupyter-vuetify",
      "model_module_version": "^1.5.1",
      "model_name": "HtmlModel",
      "state": {
       "_events": [],
       "_jupyter_vue": "IPY_MODEL_bc2712ed128d4d47ba50f0f591fcb068",
       "_model_module_version": "^1.5.1",
       "_view_module_version": "^1.5.1",
       "attributes": {
        "href": "https://sdgis-sandag.opendata.arcgis.com/datasets/zip-code",
        "target": "_blank"
       },
       "children": [
        "Data Source"
       ],
       "layout": "IPY_MODEL_d8a6e551f1c346c899e3b43d014e444c",
       "tag": "a",
       "v_slots": []
      }
     },
     "892d39f697044e899fac4b458b460bf3": {
      "model_module": "jupyter-vuetify",
      "model_module_version": "^1.5.1",
      "model_name": "BtnModel",
      "state": {
       "_events": [],
       "_jupyter_vue": "IPY_MODEL_bc2712ed128d4d47ba50f0f591fcb068",
       "attributes": {},
       "children": [
        "IPY_MODEL_24356a8aba31425bb9b395be53dac7c4"
       ],
       "color": "blue",
       "elevation": null,
       "height": null,
       "href": null,
       "layout": "IPY_MODEL_7128a0ce94044c55a17494dda86fe3c3",
       "max_height": null,
       "max_width": null,
       "min_height": null,
       "min_width": null,
       "ripple": null,
       "text": true,
       "to": null,
       "v_slots": [],
       "width": null
      }
     },
     "8933d0c644724cb186dfc2bf8fd0a2c7": {
      "model_module": "@jupyter-widgets/base",
      "model_module_version": "1.2.0",
      "model_name": "LayoutModel",
      "state": {}
     },
     "89358d5571b84b5c8f2c2ed5f1e0d539": {
      "model_module": "@jupyter-widgets/base",
      "model_module_version": "1.2.0",
      "model_name": "LayoutModel",
      "state": {}
     },
     "894df8ac43dd4d439028b20be5590192": {
      "model_module": "@jupyter-widgets/base",
      "model_module_version": "1.2.0",
      "model_name": "LayoutModel",
      "state": {}
     },
     "8959855e0f9448e4b96543faa93a8795": {
      "model_module": "@jupyter-widgets/base",
      "model_module_version": "1.2.0",
      "model_name": "LayoutModel",
      "state": {}
     },
     "898a26124a51415b8ce9dcdea634c3f7": {
      "model_module": "jupyter-vuetify",
      "model_module_version": "^1.5.1",
      "model_name": "HtmlModel",
      "state": {
       "_events": [],
       "_jupyter_vue": "IPY_MODEL_bc2712ed128d4d47ba50f0f591fcb068",
       "_model_module_version": "^1.5.1",
       "_view_module_version": "^1.5.1",
       "attributes": {
        "href": "https://sandag.org/resources/maps_and_gis/gis_downloads/disclaimer.asp",
        "target": "_blank"
       },
       "children": [
        "SANDAG Disclaimer"
       ],
       "layout": "IPY_MODEL_a4e991db6134469583ddeb4ec600f39d",
       "tag": "a",
       "v_slots": []
      }
     },
     "89a70d86355a441fa6830538c945fb40": {
      "model_module": "@jupyter-widgets/base",
      "model_module_version": "1.2.0",
      "model_name": "LayoutModel",
      "state": {}
     },
     "89c28b5d9ae4481380754405b68da228": {
      "model_module": "jupyter-vuetify",
      "model_module_version": "^1.5.1",
      "model_name": "CardModel",
      "state": {
       "_events": [],
       "_jupyter_vue": "IPY_MODEL_bc2712ed128d4d47ba50f0f591fcb068",
       "attributes": {},
       "children": [
        "IPY_MODEL_c206d3af54164b9e8de35aef009f5963",
        "IPY_MODEL_7234729c0b20475f94286a5db887b1e8"
       ],
       "elevation": null,
       "height": null,
       "href": null,
       "layout": "IPY_MODEL_4d91687868a74e688567140a355a3653",
       "loader_height": null,
       "loading": null,
       "max_height": null,
       "max_width": null,
       "min_height": null,
       "min_width": null,
       "ripple": null,
       "to": null,
       "v_slots": [],
       "width": null
      }
     },
     "89d3f0ea797f470d82180ac86095add0": {
      "model_module": "@jupyter-widgets/base",
      "model_module_version": "1.2.0",
      "model_name": "LayoutModel",
      "state": {}
     },
     "89d9a9bdcbac49ecb6c1c30b329b740a": {
      "model_module": "@jupyter-widgets/base",
      "model_module_version": "1.2.0",
      "model_name": "LayoutModel",
      "state": {}
     },
     "8aa29fd323b441ffa5f739a87d4860b2": {
      "model_module": "jupyter-vuetify",
      "model_module_version": "^1.5.1",
      "model_name": "CardTextModel",
      "state": {
       "_events": [],
       "_jupyter_vue": "IPY_MODEL_bc2712ed128d4d47ba50f0f591fcb068",
       "attributes": {},
       "children": [
        "The ZIP code boundaries shown in all maps are taken from the SANDAG/SanGIS Open Data Portal."
       ],
       "layout": "IPY_MODEL_419d5ad545c445c488dd1a103a8a8c35",
       "v_slots": []
      }
     },
     "8ad3befc819d46638ad7b784a2832a2a": {
      "model_module": "jupyter-vuetify",
      "model_module_version": "^1.5.1",
      "model_name": "CardTitleModel",
      "state": {
       "_events": [],
       "_jupyter_vue": "IPY_MODEL_bc2712ed128d4d47ba50f0f591fcb068",
       "attributes": {},
       "children": [
        "About the Data"
       ],
       "layout": "IPY_MODEL_8f2f8ff277e54af88583649cdc2f892a",
       "v_slots": []
      }
     },
     "8adc62cb82744e358fd114a6e6222fb6": {
      "model_module": "@jupyter-widgets/base",
      "model_module_version": "1.2.0",
      "model_name": "LayoutModel",
      "state": {}
     },
     "8af881841a3f4204a1aa21c2e9d81dd0": {
      "model_module": "@jupyter-widgets/base",
      "model_module_version": "1.2.0",
      "model_name": "LayoutModel",
      "state": {}
     },
     "8b46ccf516424a63b441257ea5f29b45": {
      "model_module": "@jupyter-widgets/base",
      "model_module_version": "1.2.0",
      "model_name": "LayoutModel",
      "state": {}
     },
     "8b4f0ce195d84486b241f195cb772aba": {
      "model_module": "@jupyter-widgets/base",
      "model_module_version": "1.2.0",
      "model_name": "LayoutModel",
      "state": {}
     },
     "8b66ccb548c540299be9bdacfee0e14e": {
      "model_module": "jupyter-vuetify",
      "model_module_version": "^1.5.1",
      "model_name": "CardTextModel",
      "state": {
       "_events": [],
       "_jupyter_vue": "IPY_MODEL_bc2712ed128d4d47ba50f0f591fcb068",
       "attributes": {},
       "children": [
        "IPY_MODEL_ba724aef1fd54d20846bb16ac0c94f03",
        "IPY_MODEL_cb0c65b815344c379396972ad1efb0d6",
        "IPY_MODEL_a908ea2ea44d477f884ed1736e6e6774",
        "IPY_MODEL_5f5bce2c2fe44ffc98fa29ac955ddf14"
       ],
       "layout": "IPY_MODEL_148852ec5f014bfdbf4c6fe3f2127fda",
       "v_slots": []
      }
     },
     "8b89989a219b4d79b8cce22be47438c5": {
      "model_module": "@jupyter-widgets/base",
      "model_module_version": "1.2.0",
      "model_name": "LayoutModel",
      "state": {}
     },
     "8ba5bc19fa8647ac8b889517559799cd": {
      "model_module": "jupyter-vuetify",
      "model_module_version": "^1.5.1",
      "model_name": "CardTextModel",
      "state": {
       "_events": [],
       "_jupyter_vue": "IPY_MODEL_bc2712ed128d4d47ba50f0f591fcb068",
       "attributes": {},
       "children": [
        "lol"
       ],
       "layout": "IPY_MODEL_00bd427d253a41f38128cce66f4e47c5",
       "v_slots": []
      }
     },
     "8bc026b556914505acd3d466289bdd2d": {
      "model_module": "@jupyter-widgets/base",
      "model_module_version": "1.2.0",
      "model_name": "LayoutModel",
      "state": {}
     },
     "8bcdebc2d1234af381c65209f84ac36b": {
      "model_module": "jupyter-vuetify",
      "model_module_version": "^1.5.1",
      "model_name": "HtmlModel",
      "state": {
       "_events": [],
       "_jupyter_vue": "IPY_MODEL_bc2712ed128d4d47ba50f0f591fcb068",
       "_model_module_version": "^1.5.1",
       "_view_module_version": "^1.5.1",
       "attributes": {},
       "children": [
        "lol"
       ],
       "class_": "text--h4",
       "layout": "IPY_MODEL_bd49f6d634aa4d7db153f02f261e5dae",
       "tag": "div",
       "v_slots": []
      }
     },
     "8be2b9dfd4c14136a9ca3193678e2a35": {
      "model_module": "@jupyter-widgets/base",
      "model_module_version": "1.2.0",
      "model_name": "LayoutModel",
      "state": {}
     },
     "8bf030c0ff044c19ac5205e408e793eb": {
      "model_module": "jupyter-vuetify",
      "model_module_version": "^1.5.1",
      "model_name": "CardModel",
      "state": {
       "_events": [],
       "_jupyter_vue": "IPY_MODEL_bc2712ed128d4d47ba50f0f591fcb068",
       "attributes": {},
       "children": [
        "IPY_MODEL_487d97c8cfe84dffbeacf9a5a77a6d77",
        "IPY_MODEL_cbe644dcfee34c1b99b3dcb3e2800dbc",
        "IPY_MODEL_693a36488d994db8b0a4e23cb8bc5b4c"
       ],
       "elevation": null,
       "height": null,
       "href": null,
       "layout": "IPY_MODEL_e5a4b608c35f4e8fbc9676fbb02f42f1",
       "loader_height": null,
       "loading": null,
       "max_height": null,
       "max_width": null,
       "min_height": null,
       "min_width": null,
       "ripple": null,
       "to": null,
       "v_slots": [],
       "width": null
      }
     },
     "8c025c4f41584d1f9123210e9f8ddbce": {
      "model_module": "jupyter-vuetify",
      "model_module_version": "^1.5.1",
      "model_name": "CardTextModel",
      "state": {
       "_events": [],
       "_jupyter_vue": "IPY_MODEL_bc2712ed128d4d47ba50f0f591fcb068",
       "attributes": {},
       "children": [
        "This section informs about the sources of the data that are used in this dashboard."
       ],
       "layout": "IPY_MODEL_6608209ab34649f1b7f59ad75c5e177c",
       "v_slots": []
      }
     },
     "8c25302198c44387a73a1bc75299d2ed": {
      "model_module": "jupyter-vuetify",
      "model_module_version": "^1.5.1",
      "model_name": "CardTitleModel",
      "state": {
       "_events": [],
       "_jupyter_vue": "IPY_MODEL_bc2712ed128d4d47ba50f0f591fcb068",
       "attributes": {},
       "children": [
        "ZIP Code Boundaries"
       ],
       "layout": "IPY_MODEL_48ce15a08a9c4af3b5337b1c597f391a",
       "v_slots": []
      }
     },
     "8c54c333dc9e4078ab8adb8f518a21a8": {
      "model_module": "@jupyter-widgets/base",
      "model_module_version": "1.2.0",
      "model_name": "LayoutModel",
      "state": {}
     },
     "8c57020b55a94aa79c8f3c2d4a19ca5c": {
      "model_module": "jupyter-vuetify",
      "model_module_version": "^1.5.1",
      "model_name": "CardTitleModel",
      "state": {
       "_events": [],
       "_jupyter_vue": "IPY_MODEL_bc2712ed128d4d47ba50f0f591fcb068",
       "attributes": {},
       "children": [
        "About the Data"
       ],
       "layout": "IPY_MODEL_e993441667ec4a6baae3c20b24559658",
       "v_slots": []
      }
     },
     "8c5f5019440f44fcb5c074fe6e46ca4d": {
      "model_module": "@jupyter-widgets/base",
      "model_module_version": "1.2.0",
      "model_name": "LayoutModel",
      "state": {}
     },
     "8c7b91bd5f26417b89fafbc0c9d7ac16": {
      "model_module": "@jupyter-widgets/base",
      "model_module_version": "1.2.0",
      "model_name": "LayoutModel",
      "state": {}
     },
     "8c8b5a6855b042a380e08532ca6db237": {
      "model_module": "jupyter-vuetify",
      "model_module_version": "^1.5.1",
      "model_name": "ColModel",
      "state": {
       "_events": [],
       "_jupyter_vue": "IPY_MODEL_bc2712ed128d4d47ba50f0f591fcb068",
       "attributes": {},
       "children": [
        "IPY_MODEL_9b9c254814d74bc98c13b60fdc2039f4"
       ],
       "cols": 12,
       "layout": "IPY_MODEL_ec6b715ed977413dbd2b2f54e6294129",
       "lg": null,
       "md": null,
       "offset": null,
       "offset_lg": null,
       "offset_md": null,
       "offset_sm": null,
       "offset_xl": null,
       "order": null,
       "order_lg": null,
       "order_md": null,
       "order_sm": null,
       "order_xl": null,
       "sm": null,
       "v_slots": [],
       "xl": null
      }
     },
     "8c8f2e9ade094ce3b0f06e8c744c9331": {
      "model_module": "@jupyter-widgets/base",
      "model_module_version": "1.2.0",
      "model_name": "LayoutModel",
      "state": {}
     },
     "8d38d4eafcac43258426ff4c385101de": {
      "model_module": "@jupyter-widgets/base",
      "model_module_version": "1.2.0",
      "model_name": "LayoutModel",
      "state": {}
     },
     "8d3b92be472542d28722fe7cdfe6ca96": {
      "model_module": "jupyter-vuetify",
      "model_module_version": "^1.5.1",
      "model_name": "CardTitleModel",
      "state": {
       "_events": [],
       "_jupyter_vue": "IPY_MODEL_bc2712ed128d4d47ba50f0f591fcb068",
       "attributes": {},
       "children": [
        "ZIP Code Boundaries"
       ],
       "layout": "IPY_MODEL_bae48701c1c848428e5e9bb78407bdba",
       "v_slots": []
      }
     },
     "8d991b1459a84b7787fef7fe22e12cee": {
      "model_module": "jupyter-vuetify",
      "model_module_version": "^1.5.1",
      "model_name": "BtnModel",
      "state": {
       "_events": [],
       "_jupyter_vue": "IPY_MODEL_bc2712ed128d4d47ba50f0f591fcb068",
       "attributes": {},
       "children": [
        "IPY_MODEL_3dbab9c311d94edd80c73f1e36d4a7c9"
       ],
       "color": "blue",
       "elevation": null,
       "height": null,
       "href": null,
       "layout": "IPY_MODEL_da0067559cae49048bf2710b8d11b903",
       "max_height": null,
       "max_width": null,
       "min_height": null,
       "min_width": null,
       "ripple": null,
       "text": true,
       "to": null,
       "v_slots": [],
       "width": null
      }
     },
     "8ddc9dbb5e39441984238ef1073a007e": {
      "model_module": "@jupyter-widgets/base",
      "model_module_version": "1.2.0",
      "model_name": "LayoutModel",
      "state": {}
     },
     "8df6629365a3445da58e5787e402a93d": {
      "model_module": "@jupyter-widgets/base",
      "model_module_version": "1.2.0",
      "model_name": "LayoutModel",
      "state": {}
     },
     "8dfdb4d30beb4aacb0543aff41f82eef": {
      "model_module": "jupyter-vuetify",
      "model_module_version": "^1.5.1",
      "model_name": "ColModel",
      "state": {
       "_events": [],
       "_jupyter_vue": "IPY_MODEL_bc2712ed128d4d47ba50f0f591fcb068",
       "attributes": {},
       "children": [
        "IPY_MODEL_2c4bfeea78ea4fc993c5060a5f44afc1"
       ],
       "cols": 6,
       "layout": "IPY_MODEL_5d660d65d04240fbb671d70b4e40f236",
       "lg": null,
       "md": null,
       "offset": null,
       "offset_lg": null,
       "offset_md": null,
       "offset_sm": null,
       "offset_xl": null,
       "order": null,
       "order_lg": null,
       "order_md": null,
       "order_sm": null,
       "order_xl": null,
       "sm": null,
       "v_slots": [],
       "xl": null
      }
     },
     "8e11fc17d5b74ab5a85eeb2cbd6bb0d3": {
      "model_module": "@jupyter-widgets/base",
      "model_module_version": "1.2.0",
      "model_name": "LayoutModel",
      "state": {}
     },
     "8e13b81f123e46c4a5d7728fd899a222": {
      "model_module": "jupyter-vuetify",
      "model_module_version": "^1.5.1",
      "model_name": "HtmlModel",
      "state": {
       "_events": [],
       "_jupyter_vue": "IPY_MODEL_bc2712ed128d4d47ba50f0f591fcb068",
       "_model_module_version": "^1.5.1",
       "_view_module_version": "^1.5.1",
       "attributes": {
        "href": "https://www.sandiegocounty.gov/content/sdc/hhsa/programs/phs/community_epidemiology/dc/2019-nCoV/status.html",
        "target": "_blank"
       },
       "children": [
        "County of San Diego"
       ],
       "layout": "IPY_MODEL_e9a14c94519844d6bb5adf3722a3b003",
       "tag": "a",
       "v_slots": []
      }
     },
     "8e1f07a26c4b4584b1105787216845a8": {
      "model_module": "@jupyter-widgets/base",
      "model_module_version": "1.2.0",
      "model_name": "LayoutModel",
      "state": {}
     },
     "8e8cd00af603409e935e2727d8b72c43": {
      "model_module": "@jupyter-widgets/base",
      "model_module_version": "1.2.0",
      "model_name": "LayoutModel",
      "state": {}
     },
     "8eb04a2435354da5b0bc617d0d71191b": {
      "model_module": "jupyter-vuetify",
      "model_module_version": "^1.5.1",
      "model_name": "ContainerModel",
      "state": {
       "_events": [],
       "_jupyter_vue": "IPY_MODEL_bc2712ed128d4d47ba50f0f591fcb068",
       "attributes": {},
       "children": [
        "IPY_MODEL_b101676af8c147bf88110578073d0f2e"
       ],
       "fluid": true,
       "layout": "IPY_MODEL_ab04db6d34bf4a4a93a03a4f1ff80c5c",
       "v_slots": []
      }
     },
     "8ebb78ed468e4b87950fa7ccd40bdfba": {
      "model_module": "jupyter-vuetify",
      "model_module_version": "^1.5.1",
      "model_name": "CardTextModel",
      "state": {
       "_events": [],
       "_jupyter_vue": "IPY_MODEL_bc2712ed128d4d47ba50f0f591fcb068",
       "attributes": {},
       "children": [
        "lol"
       ],
       "layout": "IPY_MODEL_a968165b2b554c7d9ed6b478b8a433af",
       "v_slots": []
      }
     },
     "8ec7f2782a4149d98edc17370e9209b2": {
      "model_module": "jupyter-vuetify",
      "model_module_version": "^1.5.1",
      "model_name": "CardTitleModel",
      "state": {
       "_events": [],
       "_jupyter_vue": "IPY_MODEL_bc2712ed128d4d47ba50f0f591fcb068",
       "attributes": {},
       "children": [
        "About the Data"
       ],
       "layout": "IPY_MODEL_aea020a398ae4deb9777e921440ee553",
       "v_slots": []
      }
     },
     "8ed5a6935d1b47e981fc4e5dd413ef3c": {
      "model_module": "@jupyter-widgets/base",
      "model_module_version": "1.2.0",
      "model_name": "LayoutModel",
      "state": {}
     },
     "8ee3066679c242ac96076f3d755e69d7": {
      "model_module": "@jupyter-widgets/base",
      "model_module_version": "1.2.0",
      "model_name": "LayoutModel",
      "state": {}
     },
     "8f12b66c5d964830bda682066e2a42ca": {
      "model_module": "jupyter-vuetify",
      "model_module_version": "^1.5.1",
      "model_name": "CardTitleModel",
      "state": {
       "_events": [],
       "_jupyter_vue": "IPY_MODEL_bc2712ed128d4d47ba50f0f591fcb068",
       "attributes": {},
       "children": [
        "About the Data"
       ],
       "layout": "IPY_MODEL_afff8d0d37de4e549cec752ea64355b3",
       "v_slots": []
      }
     },
     "8f17100ae0d44c95b5dcbdf268fca9a1": {
      "model_module": "jupyter-vuetify",
      "model_module_version": "^1.5.1",
      "model_name": "HtmlModel",
      "state": {
       "_events": [],
       "_jupyter_vue": "IPY_MODEL_bc2712ed128d4d47ba50f0f591fcb068",
       "_model_module_version": "^1.5.1",
       "_view_module_version": "^1.5.1",
       "attributes": {
        "href": "https://web.archive.org/web/*/https://www.sandiegocounty.gov/content/dam/sdc/hhsa/programs/phs/Epidemiology/COVID-19%20Summary%20of%20Cases%20by%20Zip%20Code.pdf",
        "target": "_blank"
       },
       "children": [
        "Data Source"
       ],
       "layout": "IPY_MODEL_63b01afb52c548eb8e4f8f82d00fcb72",
       "tag": "a",
       "v_slots": []
      }
     },
     "8f2f8ff277e54af88583649cdc2f892a": {
      "model_module": "@jupyter-widgets/base",
      "model_module_version": "1.2.0",
      "model_name": "LayoutModel",
      "state": {}
     },
     "8f38714226624aeb96c7d35827fe723e": {
      "model_module": "@jupyter-widgets/base",
      "model_module_version": "1.2.0",
      "model_name": "LayoutModel",
      "state": {}
     },
     "8f63f0599a76422ea10fb45f5a5a8d8a": {
      "model_module": "@jupyter-widgets/base",
      "model_module_version": "1.2.0",
      "model_name": "LayoutModel",
      "state": {}
     },
     "8f7cf1ad5e2548cfb10b2ccc2b918afa": {
      "model_module": "jupyter-vuetify",
      "model_module_version": "^1.5.1",
      "model_name": "CardTextModel",
      "state": {
       "_events": [],
       "_jupyter_vue": "IPY_MODEL_bc2712ed128d4d47ba50f0f591fcb068",
       "attributes": {},
       "children": [
        "IPY_MODEL_1981d48f3eb64fdd910b84bcc7bb3a9c"
       ],
       "layout": "IPY_MODEL_e0ce2a873a3943cb8d031edf035ddf91",
       "v_slots": []
      }
     },
     "8f8fea371757490fb46f6d0fe5d49803": {
      "model_module": "@jupyter-widgets/base",
      "model_module_version": "1.2.0",
      "model_name": "LayoutModel",
      "state": {}
     },
     "8fb0714d020f43c7b5ea69fd8cbe19d0": {
      "model_module": "@jupyter-widgets/base",
      "model_module_version": "1.2.0",
      "model_name": "LayoutModel",
      "state": {}
     },
     "8fb5b156f43445dabefa776122486341": {
      "model_module": "jupyter-vuetify",
      "model_module_version": "^1.5.1",
      "model_name": "CardModel",
      "state": {
       "_events": [],
       "_jupyter_vue": "IPY_MODEL_bc2712ed128d4d47ba50f0f591fcb068",
       "attributes": {},
       "children": [
        "IPY_MODEL_38ec4606861142a0b5f00ecc1f57cf96",
        "IPY_MODEL_8ba5bc19fa8647ac8b889517559799cd"
       ],
       "elevation": null,
       "height": null,
       "href": null,
       "layout": "IPY_MODEL_f43ec5085de5428d87795f3ce092dc33",
       "loader_height": null,
       "loading": null,
       "max_height": null,
       "max_width": null,
       "min_height": null,
       "min_width": null,
       "ripple": null,
       "to": null,
       "v_slots": [],
       "width": null
      }
     },
     "8fc4bcbfb452495fa9f05b1d65f172fe": {
      "model_module": "jupyter-vuetify",
      "model_module_version": "^1.5.1",
      "model_name": "HtmlModel",
      "state": {
       "_events": [],
       "_jupyter_vue": "IPY_MODEL_bc2712ed128d4d47ba50f0f591fcb068",
       "_model_module_version": "^1.5.1",
       "_view_module_version": "^1.5.1",
       "attributes": {},
       "children": [
        "Zip code is zip code of residence, which may not be location of exposure. Rates based on small case counts may vary considerably and should be interpreted with caution.",
        "Data are preliminary and subject to change. Total population=3,351,784."
       ],
       "layout": "IPY_MODEL_f45f9b76d436419dbf4d47d05ccd0b32",
       "tag": "p",
       "v_slots": []
      }
     },
     "9048c920c2b144e1803ef887717bbf6f": {
      "model_module": "jupyter-vuetify",
      "model_module_version": "^1.5.1",
      "model_name": "ColModel",
      "state": {
       "_events": [],
       "_jupyter_vue": "IPY_MODEL_bc2712ed128d4d47ba50f0f591fcb068",
       "attributes": {},
       "children": [
        "IPY_MODEL_fe2fcb79d8604629bd3ccfe80fc9bb47"
       ],
       "cols": 6,
       "layout": "IPY_MODEL_606a2373d5314c379f142afa1fa54c23",
       "lg": null,
       "md": null,
       "offset": null,
       "offset_lg": null,
       "offset_md": null,
       "offset_sm": null,
       "offset_xl": null,
       "order": null,
       "order_lg": null,
       "order_md": null,
       "order_sm": null,
       "order_xl": null,
       "sm": null,
       "v_slots": [],
       "xl": null
      }
     },
     "9080fe908ac841d2a6eaa3175a6eb51a": {
      "model_module": "@jupyter-widgets/base",
      "model_module_version": "1.2.0",
      "model_name": "LayoutModel",
      "state": {}
     },
     "9083dd7c64ae48dca5b25b188e5f2cef": {
      "model_module": "jupyter-vuetify",
      "model_module_version": "^1.5.1",
      "model_name": "CardTitleModel",
      "state": {
       "_events": [],
       "_jupyter_vue": "IPY_MODEL_bc2712ed128d4d47ba50f0f591fcb068",
       "attributes": {},
       "children": [
        "Demographic Data"
       ],
       "layout": "IPY_MODEL_73c7cf2246a7453a92075b9cd17b7d57",
       "v_slots": []
      }
     },
     "9084f488450a4acf8b6a709149b97a90": {
      "model_module": "jupyter-vuetify",
      "model_module_version": "^1.5.1",
      "model_name": "CardTitleModel",
      "state": {
       "_events": [],
       "_jupyter_vue": "IPY_MODEL_bc2712ed128d4d47ba50f0f591fcb068",
       "attributes": {},
       "children": [
        "ZIP Code Boundaries"
       ],
       "layout": "IPY_MODEL_96b814b072154c5689707d6f55988822",
       "v_slots": []
      }
     },
     "908fba0c4a29462e9f8fec3ec33727ab": {
      "model_module": "jupyter-vuetify",
      "model_module_version": "^1.5.1",
      "model_name": "HtmlModel",
      "state": {
       "_events": [],
       "_jupyter_vue": "IPY_MODEL_bc2712ed128d4d47ba50f0f591fcb068",
       "_model_module_version": "^1.5.1",
       "_view_module_version": "^1.5.1",
       "attributes": {},
       "children": [
        "Data are usually updated from the Internet Archive once per day."
       ],
       "layout": "IPY_MODEL_8ee3066679c242ac96076f3d755e69d7",
       "tag": "p",
       "v_slots": []
      }
     },
     "90cc2a6491684566a170421912b674e0": {
      "model_module": "jupyter-vuetify",
      "model_module_version": "^1.5.1",
      "model_name": "ColModel",
      "state": {
       "_events": [],
       "_jupyter_vue": "IPY_MODEL_bc2712ed128d4d47ba50f0f591fcb068",
       "attributes": {},
       "children": [
        "IPY_MODEL_3216be42278c4d129dfe4d32e75594dd"
       ],
       "cols": 6,
       "layout": "IPY_MODEL_125f36077fce405f84358fe0d4a91441",
       "lg": null,
       "md": null,
       "offset": null,
       "offset_lg": null,
       "offset_md": null,
       "offset_sm": null,
       "offset_xl": null,
       "order": null,
       "order_lg": null,
       "order_md": null,
       "order_sm": null,
       "order_xl": null,
       "sm": null,
       "v_slots": [],
       "xl": null
      }
     },
     "90ce666d6cfb4267bc02e8700882c508": {
      "model_module": "@jupyter-widgets/base",
      "model_module_version": "1.2.0",
      "model_name": "LayoutModel",
      "state": {}
     },
     "90e43ce4766d420c8ab8004b7d054e8a": {
      "model_module": "@jupyter-widgets/base",
      "model_module_version": "1.2.0",
      "model_name": "LayoutModel",
      "state": {}
     },
     "9139ceb3fba1455bbcd27e6e5a372486": {
      "model_module": "@jupyter-widgets/base",
      "model_module_version": "1.2.0",
      "model_name": "LayoutModel",
      "state": {}
     },
     "91a45315a6384e928bc9a79327f8ce9c": {
      "model_module": "@jupyter-widgets/base",
      "model_module_version": "1.2.0",
      "model_name": "LayoutModel",
      "state": {}
     },
     "91fe5b161b8f4e9fbc8a65427a11ddb1": {
      "model_module": "@jupyter-widgets/base",
      "model_module_version": "1.2.0",
      "model_name": "LayoutModel",
      "state": {}
     },
     "9280bb92627d4b039819f5d91371b802": {
      "model_module": "jupyter-vuetify",
      "model_module_version": "^1.5.1",
      "model_name": "CardModel",
      "state": {
       "_events": [],
       "_jupyter_vue": "IPY_MODEL_bc2712ed128d4d47ba50f0f591fcb068",
       "attributes": {},
       "children": [
        "IPY_MODEL_3a4d7e464ba648ad8f81fd5dfb044475",
        "IPY_MODEL_fcf2896bdc6e41d4a1e3ea6517697d48"
       ],
       "elevation": null,
       "height": null,
       "href": null,
       "layout": "IPY_MODEL_303308146759495cb600a77f4917b072",
       "loader_height": null,
       "loading": null,
       "max_height": null,
       "max_width": null,
       "min_height": null,
       "min_width": null,
       "ripple": null,
       "to": null,
       "v_slots": [],
       "width": null
      }
     },
     "92a4816222004655bd49cba11251dfec": {
      "model_module": "@jupyter-widgets/base",
      "model_module_version": "1.2.0",
      "model_name": "LayoutModel",
      "state": {}
     },
     "92c5f4a276624ad9b49bca5a9f37a81f": {
      "model_module": "@jupyter-widgets/base",
      "model_module_version": "1.2.0",
      "model_name": "LayoutModel",
      "state": {}
     },
     "930011b291b247c181384b31f627bf73": {
      "model_module": "@jupyter-widgets/base",
      "model_module_version": "1.2.0",
      "model_name": "LayoutModel",
      "state": {}
     },
     "935aab339bcf41c0b011b3c6710d5b49": {
      "model_module": "jupyter-vuetify",
      "model_module_version": "^1.5.1",
      "model_name": "CardTextModel",
      "state": {
       "_events": [],
       "_jupyter_vue": "IPY_MODEL_bc2712ed128d4d47ba50f0f591fcb068",
       "attributes": {},
       "children": [
        "This section informs about the sources of the data that are used in this dashboard."
       ],
       "layout": "IPY_MODEL_498056d70107432bb898042a95ea28ea",
       "v_slots": []
      }
     },
     "939377387a2d432ca97fb22842aad81a": {
      "model_module": "@jupyter-widgets/base",
      "model_module_version": "1.2.0",
      "model_name": "LayoutModel",
      "state": {}
     },
     "93d7fee78e8e46ce8f7108fa02709d7a": {
      "model_module": "jupyter-vuetify",
      "model_module_version": "^1.5.1",
      "model_name": "HtmlModel",
      "state": {
       "_events": [],
       "_jupyter_vue": "IPY_MODEL_bc2712ed128d4d47ba50f0f591fcb068",
       "_model_module_version": "^1.5.1",
       "_view_module_version": "^1.5.1",
       "attributes": {
        "href": "https://sandag.org/resources/maps_and_gis/gis_downloads/disclaimer.asp",
        "target": "_blank"
       },
       "children": [
        "SANDAG Disclaimer"
       ],
       "layout": "IPY_MODEL_4aa4514cb1094672bc5bf03cd27ef1be",
       "tag": "a",
       "v_slots": []
      }
     },
     "944c81aa816f47babdc59e67bb02ddc0": {
      "model_module": "@jupyter-widgets/base",
      "model_module_version": "1.2.0",
      "model_name": "LayoutModel",
      "state": {}
     },
     "9459d30082274d2486e4fdee303d2dfd": {
      "model_module": "jupyter-vuetify",
      "model_module_version": "^1.5.1",
      "model_name": "CardTextModel",
      "state": {
       "_events": [],
       "_jupyter_vue": "IPY_MODEL_bc2712ed128d4d47ba50f0f591fcb068",
       "attributes": {},
       "children": [
        "lol"
       ],
       "layout": "IPY_MODEL_c4b314c3d73f49a18e385c246d7086b2",
       "v_slots": []
      }
     },
     "94614df2df054cc99cf3e0af64957a2e": {
      "model_module": "@jupyter-widgets/base",
      "model_module_version": "1.2.0",
      "model_name": "LayoutModel",
      "state": {}
     },
     "94691c8854db45079fb5c23d7b360696": {
      "model_module": "@jupyter-widgets/base",
      "model_module_version": "1.2.0",
      "model_name": "LayoutModel",
      "state": {}
     },
     "94a6ca5e1a4f40c6997055c47a60bf56": {
      "model_module": "@jupyter-widgets/base",
      "model_module_version": "1.2.0",
      "model_name": "LayoutModel",
      "state": {}
     },
     "94cea8374e1e4587b8d86de9b0632b07": {
      "model_module": "@jupyter-widgets/base",
      "model_module_version": "1.2.0",
      "model_name": "LayoutModel",
      "state": {}
     },
     "94d522aa77c3481882aca873e500241f": {
      "model_module": "@jupyter-widgets/base",
      "model_module_version": "1.2.0",
      "model_name": "LayoutModel",
      "state": {}
     },
     "95211eec675245698249addf2dfdd704": {
      "model_module": "@jupyter-widgets/base",
      "model_module_version": "1.2.0",
      "model_name": "LayoutModel",
      "state": {}
     },
     "953165fc8c7640029ba60c45b15e7543": {
      "model_module": "jupyter-vuetify",
      "model_module_version": "^1.5.1",
      "model_name": "CardTitleModel",
      "state": {
       "_events": [],
       "_jupyter_vue": "IPY_MODEL_bc2712ed128d4d47ba50f0f591fcb068",
       "attributes": {},
       "children": [
        "About the Data"
       ],
       "layout": "IPY_MODEL_6ca9703d4f524542ac737b0797915b02",
       "v_slots": []
      }
     },
     "95359a8750cf42bdb2bf97aad5628a25": {
      "model_module": "jupyter-vuetify",
      "model_module_version": "^1.5.1",
      "model_name": "HtmlModel",
      "state": {
       "_events": [],
       "_jupyter_vue": "IPY_MODEL_bc2712ed128d4d47ba50f0f591fcb068",
       "_model_module_version": "^1.5.1",
       "_view_module_version": "^1.5.1",
       "attributes": {
        "href": "https://sdgis-sandag.opendata.arcgis.com/datasets/zip-code",
        "target": "_blank"
       },
       "children": [
        "Data Source"
       ],
       "layout": "IPY_MODEL_620c5826373d4711801d3d4eb98351d3",
       "tag": "a",
       "v_slots": []
      }
     },
     "9535db43d9e34582ae46e112c88be942": {
      "model_module": "jupyter-vuetify",
      "model_module_version": "^1.5.1",
      "model_name": "HtmlModel",
      "state": {
       "_events": [],
       "_jupyter_vue": "IPY_MODEL_bc2712ed128d4d47ba50f0f591fcb068",
       "_model_module_version": "^1.5.1",
       "_view_module_version": "^1.5.1",
       "attributes": {
        "href": "https://sdgis-sandag.opendata.arcgis.com/datasets/zip-code",
        "target": "_blank"
       },
       "children": [
        "Data Source"
       ],
       "layout": "IPY_MODEL_ac7b8978f0ac4cbc97edd0273936e9e7",
       "tag": "a",
       "v_slots": []
      }
     },
     "9557d36fb79a4b2f993bf1a186a3c461": {
      "model_module": "jupyter-vuetify",
      "model_module_version": "^1.5.1",
      "model_name": "CardModel",
      "state": {
       "_events": [],
       "_jupyter_vue": "IPY_MODEL_bc2712ed128d4d47ba50f0f591fcb068",
       "attributes": {},
       "children": [
        "IPY_MODEL_2c17683edc7c42e1a9e0e385b145a4b0",
        "IPY_MODEL_76c8732509d44139b0059241c14c5244"
       ],
       "elevation": null,
       "height": null,
       "href": null,
       "layout": "IPY_MODEL_c92d96dfed1045dfbb7bf6c657829658",
       "loader_height": null,
       "loading": null,
       "max_height": null,
       "max_width": null,
       "min_height": null,
       "min_width": null,
       "ripple": null,
       "to": null,
       "v_slots": [],
       "width": null
      }
     },
     "9569f68bf2dc47e4b78216c01b95ccef": {
      "model_module": "@jupyter-widgets/base",
      "model_module_version": "1.2.0",
      "model_name": "LayoutModel",
      "state": {}
     },
     "9582534cd3c14da7bb47cfe782ee7551": {
      "model_module": "@jupyter-widgets/base",
      "model_module_version": "1.2.0",
      "model_name": "LayoutModel",
      "state": {}
     },
     "95a7ec5c3f474ccf93be6472853e8b7f": {
      "model_module": "@jupyter-widgets/base",
      "model_module_version": "1.2.0",
      "model_name": "LayoutModel",
      "state": {}
     },
     "95f11853f95441e1ad1b3196d623f521": {
      "model_module": "@jupyter-widgets/base",
      "model_module_version": "1.2.0",
      "model_name": "LayoutModel",
      "state": {}
     },
     "960651e43b63405db7e1b61c3b79b61a": {
      "model_module": "@jupyter-widgets/base",
      "model_module_version": "1.2.0",
      "model_name": "LayoutModel",
      "state": {}
     },
     "963894338d3b43f99beaf283ccdc759a": {
      "model_module": "@jupyter-widgets/base",
      "model_module_version": "1.2.0",
      "model_name": "LayoutModel",
      "state": {}
     },
     "964fac5c7db44662ba55157b5cfbf522": {
      "model_module": "jupyter-vuetify",
      "model_module_version": "^1.5.1",
      "model_name": "ColModel",
      "state": {
       "_events": [],
       "_jupyter_vue": "IPY_MODEL_bc2712ed128d4d47ba50f0f591fcb068",
       "attributes": {},
       "children": [
        "IPY_MODEL_21f008a566f24943b20c9b153f1f774e"
       ],
       "cols": 6,
       "layout": "IPY_MODEL_94614df2df054cc99cf3e0af64957a2e",
       "lg": null,
       "md": null,
       "offset": null,
       "offset_lg": null,
       "offset_md": null,
       "offset_sm": null,
       "offset_xl": null,
       "order": null,
       "order_lg": null,
       "order_md": null,
       "order_sm": null,
       "order_xl": null,
       "sm": null,
       "v_slots": [],
       "xl": null
      }
     },
     "96674e17753346438e4d88b02166d49a": {
      "model_module": "@jupyter-widgets/base",
      "model_module_version": "1.2.0",
      "model_name": "LayoutModel",
      "state": {}
     },
     "96b814b072154c5689707d6f55988822": {
      "model_module": "@jupyter-widgets/base",
      "model_module_version": "1.2.0",
      "model_name": "LayoutModel",
      "state": {}
     },
     "96dee8f9d679464798bdafbc17b5843c": {
      "model_module": "@jupyter-widgets/base",
      "model_module_version": "1.2.0",
      "model_name": "LayoutModel",
      "state": {}
     },
     "96ef9c0b15d342d98b0becde8dc45b7e": {
      "model_module": "@jupyter-widgets/base",
      "model_module_version": "1.2.0",
      "model_name": "LayoutModel",
      "state": {}
     },
     "9721e91f0cd545f6b987b25e07877c02": {
      "model_module": "@jupyter-widgets/base",
      "model_module_version": "1.2.0",
      "model_name": "LayoutModel",
      "state": {}
     },
     "973e265ca68345b997d617898c5b3d25": {
      "model_module": "jupyter-vuetify",
      "model_module_version": "^1.5.1",
      "model_name": "CardTitleModel",
      "state": {
       "_events": [],
       "_jupyter_vue": "IPY_MODEL_bc2712ed128d4d47ba50f0f591fcb068",
       "attributes": {},
       "children": [
        "ZIP Code Boundaries"
       ],
       "layout": "IPY_MODEL_56c183b179614f9cb16799cf8dc4983b",
       "v_slots": []
      }
     },
     "975579f94b8d4f55b91edcb645ed4800": {
      "model_module": "jupyter-vuetify",
      "model_module_version": "^1.5.1",
      "model_name": "ColModel",
      "state": {
       "_events": [],
       "_jupyter_vue": "IPY_MODEL_bc2712ed128d4d47ba50f0f591fcb068",
       "attributes": {},
       "children": [
        "IPY_MODEL_7fcbcb210d054b0980403016eaca3085"
       ],
       "cols": 6,
       "layout": "IPY_MODEL_2b98bbea5a45414d848b34288e060251",
       "lg": null,
       "md": null,
       "offset": null,
       "offset_lg": null,
       "offset_md": null,
       "offset_sm": null,
       "offset_xl": null,
       "order": null,
       "order_lg": null,
       "order_md": null,
       "order_sm": null,
       "order_xl": null,
       "sm": null,
       "v_slots": [],
       "xl": null
      }
     },
     "975648c2249b46fe94cf2dbef0a63143": {
      "model_module": "@jupyter-widgets/base",
      "model_module_version": "1.2.0",
      "model_name": "LayoutModel",
      "state": {}
     },
     "9766a627a04d48d6831a3041b9fb40d3": {
      "model_module": "@jupyter-widgets/base",
      "model_module_version": "1.2.0",
      "model_name": "LayoutModel",
      "state": {}
     },
     "9784dc3ae06a40fcb45cff4bc6d0f881": {
      "model_module": "@jupyter-widgets/base",
      "model_module_version": "1.2.0",
      "model_name": "LayoutModel",
      "state": {}
     },
     "978b4a7a02a64008a12cebebc2cdfde7": {
      "model_module": "jupyter-vuetify",
      "model_module_version": "^1.5.1",
      "model_name": "HtmlModel",
      "state": {
       "_events": [],
       "_jupyter_vue": "IPY_MODEL_bc2712ed128d4d47ba50f0f591fcb068",
       "_model_module_version": "^1.5.1",
       "_view_module_version": "^1.5.1",
       "attributes": {
        "href": "https://sdgis-sandag.opendata.arcgis.com/datasets/zip-code",
        "target": "_blank"
       },
       "children": [
        "Data Source"
       ],
       "layout": "IPY_MODEL_9eb8ee9f9bc94965aa5df7a805c20352",
       "tag": "a",
       "v_slots": []
      }
     },
     "979cd67fd25641109dc7e9782b91b795": {
      "model_module": "jupyter-vuetify",
      "model_module_version": "^1.5.1",
      "model_name": "CardTextModel",
      "state": {
       "_events": [],
       "_jupyter_vue": "IPY_MODEL_bc2712ed128d4d47ba50f0f591fcb068",
       "attributes": {},
       "children": [
        "IPY_MODEL_e0665d48f1cd4f6cacea71df6968ea1a",
        "IPY_MODEL_0a8c46e1734d4ed79ec7756f3208ce1a",
        "IPY_MODEL_4668916a22c0416e8d0270adfec435bd",
        "IPY_MODEL_be3cee977b844698a1a4700bce2b035b"
       ],
       "layout": "IPY_MODEL_b8a138f79ca34f61afdf645d4af078e4",
       "v_slots": []
      }
     },
     "97b9d1cf98fb49b6820abd5f403b460b": {
      "model_module": "jupyter-vuetify",
      "model_module_version": "^1.5.1",
      "model_name": "BtnModel",
      "state": {
       "_events": [],
       "_jupyter_vue": "IPY_MODEL_bc2712ed128d4d47ba50f0f591fcb068",
       "attributes": {},
       "children": [
        "IPY_MODEL_ca7545d0363e4413b21ba2d09e25661c"
       ],
       "color": "blue",
       "elevation": null,
       "height": null,
       "href": null,
       "layout": "IPY_MODEL_ae02a70ae40a4459a862904a943ce722",
       "max_height": null,
       "max_width": null,
       "min_height": null,
       "min_width": null,
       "ripple": null,
       "text": true,
       "to": null,
       "v_slots": [],
       "width": null
      }
     },
     "97f986df34574c818430e3c60559d2b3": {
      "model_module": "@jupyter-widgets/base",
      "model_module_version": "1.2.0",
      "model_name": "LayoutModel",
      "state": {}
     },
     "98641767a95d4b3db68486a6ef88367c": {
      "model_module": "jupyter-vuetify",
      "model_module_version": "^1.5.1",
      "model_name": "BtnModel",
      "state": {
       "_events": [],
       "_jupyter_vue": "IPY_MODEL_bc2712ed128d4d47ba50f0f591fcb068",
       "attributes": {},
       "children": [
        "IPY_MODEL_fef24a729d5048a2ace13055dd944bf6"
       ],
       "color": "blue",
       "elevation": null,
       "height": null,
       "href": null,
       "layout": "IPY_MODEL_819bb4ec69ec4e90a72112a616f4ca2d",
       "max_height": null,
       "max_width": null,
       "min_height": null,
       "min_width": null,
       "ripple": null,
       "text": true,
       "to": null,
       "v_slots": [],
       "width": null
      }
     },
     "9868bd8876634c03815ec08cd95275e5": {
      "model_module": "@jupyter-widgets/base",
      "model_module_version": "1.2.0",
      "model_name": "LayoutModel",
      "state": {}
     },
     "98c080ff4876497894941f9b215a2e66": {
      "model_module": "@jupyter-widgets/base",
      "model_module_version": "1.2.0",
      "model_name": "LayoutModel",
      "state": {}
     },
     "9937b3e8b92548afb9b205ec6a5326bd": {
      "model_module": "@jupyter-widgets/base",
      "model_module_version": "1.2.0",
      "model_name": "LayoutModel",
      "state": {}
     },
     "9949295dc8714b38b86dd3e9f1a5cd1c": {
      "model_module": "@jupyter-widgets/base",
      "model_module_version": "1.2.0",
      "model_name": "LayoutModel",
      "state": {}
     },
     "9956582fe0ca426caea696dcf644ce4e": {
      "model_module": "@jupyter-widgets/base",
      "model_module_version": "1.2.0",
      "model_name": "LayoutModel",
      "state": {}
     },
     "9959767e4aba48f4a5ba6df92995b429": {
      "model_module": "jupyter-vuetify",
      "model_module_version": "^1.5.1",
      "model_name": "CardTitleModel",
      "state": {
       "_events": [],
       "_jupyter_vue": "IPY_MODEL_bc2712ed128d4d47ba50f0f591fcb068",
       "attributes": {},
       "children": [
        "ZIP Code Boundaries"
       ],
       "layout": "IPY_MODEL_25731fe49d3046ed9ac5fd1281975952",
       "v_slots": []
      }
     },
     "9960f3630eb34cb7ad778726c9529ce3": {
      "model_module": "@jupyter-widgets/base",
      "model_module_version": "1.2.0",
      "model_name": "LayoutModel",
      "state": {}
     },
     "99656610b5924d448d560e3d6ce67582": {
      "model_module": "jupyter-vuetify",
      "model_module_version": "^1.5.1",
      "model_name": "BtnModel",
      "state": {
       "_events": [],
       "_jupyter_vue": "IPY_MODEL_bc2712ed128d4d47ba50f0f591fcb068",
       "attributes": {},
       "children": [
        "IPY_MODEL_211dea2f3d4e4a9fa6e52c213db9d0e2"
       ],
       "color": "blue",
       "elevation": null,
       "height": null,
       "href": null,
       "layout": "IPY_MODEL_cefe0a5b887342d1b9cfdc4bfb8192a1",
       "max_height": null,
       "max_width": null,
       "min_height": null,
       "min_width": null,
       "ripple": null,
       "text": true,
       "to": null,
       "v_slots": [],
       "width": null
      }
     },
     "9980830381374ad9a027f5e60b7bd651": {
      "model_module": "jupyter-vuetify",
      "model_module_version": "^1.5.1",
      "model_name": "CardTitleModel",
      "state": {
       "_events": [],
       "_jupyter_vue": "IPY_MODEL_bc2712ed128d4d47ba50f0f591fcb068",
       "attributes": {},
       "children": [
        "ZIP Codes"
       ],
       "layout": "IPY_MODEL_ceaf1732ba334f5eb7f83268cbd9f2f0",
       "v_slots": []
      }
     },
     "999121930cdc4b61975d7933dac7f5d7": {
      "model_module": "jupyter-vuetify",
      "model_module_version": "^1.5.1",
      "model_name": "HtmlModel",
      "state": {
       "_events": [],
       "_jupyter_vue": "IPY_MODEL_bc2712ed128d4d47ba50f0f591fcb068",
       "_model_module_version": "^1.5.1",
       "_view_module_version": "^1.5.1",
       "attributes": {
        "href": "https://sdgis-sandag.opendata.arcgis.com/datasets/zip-code",
        "target": "_blank"
       },
       "children": [
        "Data Source"
       ],
       "layout": "IPY_MODEL_676af0ddb6fd4b9fa025f9213d22dbeb",
       "tag": "a",
       "v_slots": []
      }
     },
     "99e47596552c430c8a1fea2ff44b9e9d": {
      "model_module": "@jupyter-widgets/base",
      "model_module_version": "1.2.0",
      "model_name": "LayoutModel",
      "state": {}
     },
     "99ee062f606b421096f8cf7df755a057": {
      "model_module": "jupyter-vuetify",
      "model_module_version": "^1.5.1",
      "model_name": "CardTextModel",
      "state": {
       "_events": [],
       "_jupyter_vue": "IPY_MODEL_bc2712ed128d4d47ba50f0f591fcb068",
       "attributes": {},
       "children": [
        "lol"
       ],
       "layout": "IPY_MODEL_d2d1ead50ca84c218d644eaf31730d9b",
       "v_slots": []
      }
     },
     "9a9de9d0158749daad5ee3f5f3d567af": {
      "model_module": "@jupyter-widgets/base",
      "model_module_version": "1.2.0",
      "model_name": "LayoutModel",
      "state": {}
     },
     "9aaa62a3072749d4b23d9bb2b4a54f2e": {
      "model_module": "jupyter-vuetify",
      "model_module_version": "^1.5.1",
      "model_name": "BtnModel",
      "state": {
       "_events": [],
       "_jupyter_vue": "IPY_MODEL_bc2712ed128d4d47ba50f0f591fcb068",
       "attributes": {},
       "children": [
        "SANDAG Disclaimer"
       ],
       "elevation": null,
       "height": null,
       "href": null,
       "layout": "IPY_MODEL_8c54c333dc9e4078ab8adb8f518a21a8",
       "max_height": null,
       "max_width": null,
       "min_height": null,
       "min_width": null,
       "ripple": null,
       "text": true,
       "to": null,
       "v_slots": [],
       "width": null
      }
     },
     "9adb95c7457f460c93678da353360ce2": {
      "model_module": "jupyter-vuetify",
      "model_module_version": "^1.5.1",
      "model_name": "HtmlModel",
      "state": {
       "_events": [],
       "_jupyter_vue": "IPY_MODEL_bc2712ed128d4d47ba50f0f591fcb068",
       "_model_module_version": "^1.5.1",
       "_view_module_version": "^1.5.1",
       "attributes": {
        "href": "https://www.sandiegocounty.gov/content/sdc/hhsa/programs/phs/community_epidemiology/dc/2019-nCoV/status.html",
        "target": "_blank"
       },
       "children": [
        "County of San Diego"
       ],
       "layout": "IPY_MODEL_a0a7392a3de74ee49ae78bef1281ac7d",
       "tag": "a",
       "v_slots": []
      }
     },
     "9ae04bb20f4146a4a116ce5c1e1cc3ca": {
      "model_module": "@jupyter-widgets/base",
      "model_module_version": "1.2.0",
      "model_name": "LayoutModel",
      "state": {}
     },
     "9b6eeeab16a144e993dba7146bd7e6c3": {
      "model_module": "jupyter-vuetify",
      "model_module_version": "^1.5.1",
      "model_name": "CardModel",
      "state": {
       "_events": [],
       "_jupyter_vue": "IPY_MODEL_bc2712ed128d4d47ba50f0f591fcb068",
       "attributes": {},
       "children": [
        "IPY_MODEL_3c69b01aa91b4dd98a8e75878d5462a6",
        "IPY_MODEL_2fbafd69e1ca40e7acc7244142cfa29e",
        "IPY_MODEL_a5fdcacba27d46878b14f659a2759c74"
       ],
       "elevation": null,
       "height": null,
       "href": null,
       "layout": "IPY_MODEL_f4707f6be7f1415ebf6821787da53001",
       "loader_height": null,
       "loading": null,
       "max_height": null,
       "max_width": null,
       "min_height": null,
       "min_width": null,
       "ripple": null,
       "to": null,
       "v_slots": [],
       "width": null
      }
     },
     "9b7f3d5251b648a2872f2b197788c9cc": {
      "model_module": "jupyter-vuetify",
      "model_module_version": "^1.5.1",
      "model_name": "HtmlModel",
      "state": {
       "_events": [],
       "_jupyter_vue": "IPY_MODEL_bc2712ed128d4d47ba50f0f591fcb068",
       "_model_module_version": "^1.5.1",
       "_view_module_version": "^1.5.1",
       "attributes": {},
       "children": [
        "lol"
       ],
       "class_": "display--1 text--primary",
       "layout": "IPY_MODEL_aba1e12de8b245c3b2aab7168e200078",
       "tag": "p",
       "v_slots": []
      }
     },
     "9b9c254814d74bc98c13b60fdc2039f4": {
      "model_module": "jupyter-vuetify",
      "model_module_version": "^1.5.1",
      "model_name": "CardModel",
      "state": {
       "_events": [],
       "_jupyter_vue": "IPY_MODEL_bc2712ed128d4d47ba50f0f591fcb068",
       "attributes": {},
       "children": [
        "IPY_MODEL_185bcbb6b5544134a94200ba2d64d8f9",
        "IPY_MODEL_05d432e8fd5f472d8ee11a4c7a14414a",
        "IPY_MODEL_4199e05a71584a2ab0e4975d5bd28a85"
       ],
       "elevation": null,
       "height": null,
       "href": null,
       "layout": "IPY_MODEL_61bf0631c30f46e2aa178f3e707cf5a4",
       "loader_height": null,
       "loading": null,
       "max_height": null,
       "max_width": null,
       "min_height": null,
       "min_width": null,
       "ripple": null,
       "to": null,
       "v_slots": [],
       "width": null
      }
     },
     "9c06cc1713ee492abdb70d0a44d341f6": {
      "model_module": "jupyter-vuetify",
      "model_module_version": "^1.5.1",
      "model_name": "CardModel",
      "state": {
       "_events": [],
       "_jupyter_vue": "IPY_MODEL_bc2712ed128d4d47ba50f0f591fcb068",
       "attributes": {},
       "children": [
        "IPY_MODEL_08f28b5ad44e4006b990d0183b70e92b",
        "IPY_MODEL_a2aa15e32b5846f0935c14cf98de2575"
       ],
       "elevation": null,
       "height": null,
       "href": null,
       "layout": "IPY_MODEL_869752067a8741d6a93d67e11bee26db",
       "loader_height": null,
       "loading": null,
       "max_height": null,
       "max_width": null,
       "min_height": null,
       "min_width": null,
       "ripple": null,
       "to": null,
       "v_slots": [],
       "width": null
      }
     },
     "9c3373c92f4c4bbc89a7eaca2077e8dc": {
      "model_module": "jupyter-vuetify",
      "model_module_version": "^1.5.1",
      "model_name": "HtmlModel",
      "state": {
       "_events": [],
       "_jupyter_vue": "IPY_MODEL_bc2712ed128d4d47ba50f0f591fcb068",
       "_model_module_version": "^1.5.1",
       "_view_module_version": "^1.5.1",
       "attributes": {
        "href": "https://www.sandiegocounty.gov/content/sdc/hhsa/programs/phs/community_epidemiology/dc/2019-nCoV/status.html",
        "target": "_blank"
       },
       "children": [
        "County of San Diego"
       ],
       "layout": "IPY_MODEL_0bb0b70c96f547139d9ac8254357fc40",
       "tag": "a",
       "v_slots": []
      }
     },
     "9c35ec145e3a472fb2e16ea15076db36": {
      "model_module": "jupyter-vuetify",
      "model_module_version": "^1.5.1",
      "model_name": "ColModel",
      "state": {
       "_events": [],
       "_jupyter_vue": "IPY_MODEL_bc2712ed128d4d47ba50f0f591fcb068",
       "attributes": {},
       "children": [
        "IPY_MODEL_e3b69de5fb4a4a408a06bcc3798010db"
       ],
       "cols": 12,
       "layout": "IPY_MODEL_59eba07a83ca44fab6b408848e75f2c1",
       "lg": null,
       "md": null,
       "offset": null,
       "offset_lg": null,
       "offset_md": null,
       "offset_sm": null,
       "offset_xl": null,
       "order": null,
       "order_lg": null,
       "order_md": null,
       "order_sm": null,
       "order_xl": null,
       "sm": null,
       "v_slots": [],
       "xl": null
      }
     },
     "9c7932e15ba94370b196a133ac9140b8": {
      "model_module": "@jupyter-widgets/base",
      "model_module_version": "1.2.0",
      "model_name": "LayoutModel",
      "state": {}
     },
     "9c9ae9fe2d184c1f82cc5267233539bc": {
      "model_module": "jupyter-vuetify",
      "model_module_version": "^1.5.1",
      "model_name": "CardTextModel",
      "state": {
       "_events": [],
       "_jupyter_vue": "IPY_MODEL_bc2712ed128d4d47ba50f0f591fcb068",
       "attributes": {},
       "children": [
        "lol"
       ],
       "layout": "IPY_MODEL_1c9438eeffc64af3990e7a5c3009ae31",
       "v_slots": []
      }
     },
     "9cabb07540e6489a8e05afe82a4af215": {
      "model_module": "jupyter-vuetify",
      "model_module_version": "^1.5.1",
      "model_name": "CardModel",
      "state": {
       "_events": [],
       "_jupyter_vue": "IPY_MODEL_bc2712ed128d4d47ba50f0f591fcb068",
       "attributes": {},
       "children": [
        "IPY_MODEL_b824c47909a947929dd60db0be2cd00c",
        "IPY_MODEL_e9a520298af0417b9ff651340a9e9697",
        "IPY_MODEL_6274427b22ec4d429db9bb0733c5089b"
       ],
       "elevation": null,
       "height": null,
       "href": null,
       "layout": "IPY_MODEL_4cb5a6c3636c42d6ae00edf89b5b4ce2",
       "loader_height": null,
       "loading": null,
       "max_height": null,
       "max_width": null,
       "min_height": null,
       "min_width": null,
       "ripple": null,
       "to": null,
       "v_slots": [],
       "width": null
      }
     },
     "9cc64ff33b604d79afd337040ad8f555": {
      "model_module": "jupyter-vuetify",
      "model_module_version": "^1.5.1",
      "model_name": "BtnModel",
      "state": {
       "_events": [],
       "_jupyter_vue": "IPY_MODEL_bc2712ed128d4d47ba50f0f591fcb068",
       "attributes": {},
       "children": [
        "IPY_MODEL_4c3e5d463ec84e8f8ae4ed0522700631"
       ],
       "color": "blue",
       "elevation": null,
       "height": null,
       "href": null,
       "layout": "IPY_MODEL_22a159bf264e49259bdeb8280424d688",
       "max_height": null,
       "max_width": null,
       "min_height": null,
       "min_width": null,
       "ripple": null,
       "text": true,
       "to": null,
       "v_slots": [],
       "width": null
      }
     },
     "9d62acbb268e491fafcbc4ab858d473b": {
      "model_module": "@jupyter-widgets/base",
      "model_module_version": "1.2.0",
      "model_name": "LayoutModel",
      "state": {}
     },
     "9d6e5b89a8874f76be8ece617de0499c": {
      "model_module": "jupyter-vuetify",
      "model_module_version": "^1.5.1",
      "model_name": "CardTitleModel",
      "state": {
       "_events": [],
       "_jupyter_vue": "IPY_MODEL_bc2712ed128d4d47ba50f0f591fcb068",
       "attributes": {},
       "children": [
        "ZIP Codes"
       ],
       "layout": "IPY_MODEL_0305a23c738d4354b0d141d9644a4e19",
       "v_slots": []
      }
     },
     "9d930dbd47574071b9d840567292963b": {
      "model_module": "@jupyter-widgets/base",
      "model_module_version": "1.2.0",
      "model_name": "LayoutModel",
      "state": {}
     },
     "9e105974575a427dba3b0b85e47ef7a4": {
      "model_module": "@jupyter-widgets/base",
      "model_module_version": "1.2.0",
      "model_name": "LayoutModel",
      "state": {}
     },
     "9e240fcb70aa47d39cf1278da1eb1116": {
      "model_module": "jupyter-vuetify",
      "model_module_version": "^1.5.1",
      "model_name": "CardTextModel",
      "state": {
       "_events": [],
       "_jupyter_vue": "IPY_MODEL_bc2712ed128d4d47ba50f0f591fcb068",
       "attributes": {},
       "children": [
        "Population counts and "
       ],
       "layout": "IPY_MODEL_7007214bfb044d04b2df96f36d929068",
       "v_slots": []
      }
     },
     "9e80114b693345359e267998e3be4b58": {
      "model_module": "jupyter-vuetify",
      "model_module_version": "^1.5.1",
      "model_name": "CardModel",
      "state": {
       "_events": [],
       "_jupyter_vue": "IPY_MODEL_bc2712ed128d4d47ba50f0f591fcb068",
       "attributes": {},
       "children": [
        "IPY_MODEL_e8e70f79e2ab4319a0e57520435111bf",
        "IPY_MODEL_8446d37def6c4422ad41499fe45cde35"
       ],
       "elevation": null,
       "height": null,
       "href": null,
       "layout": "IPY_MODEL_6ad9a340d274428b8dd630de5ddc70cf",
       "loader_height": null,
       "loading": null,
       "max_height": null,
       "max_width": null,
       "min_height": null,
       "min_width": null,
       "ripple": null,
       "to": null,
       "v_slots": [],
       "width": null
      }
     },
     "9ea7bd3cb3bf4b2ca0b53413ecf7aa5e": {
      "model_module": "jupyter-vuetify",
      "model_module_version": "^1.5.1",
      "model_name": "RowModel",
      "state": {
       "_events": [],
       "_jupyter_vue": "IPY_MODEL_bc2712ed128d4d47ba50f0f591fcb068",
       "attributes": {},
       "children": [
        "IPY_MODEL_70787011dbda40f19f00625adb4d04ec",
        "IPY_MODEL_cd6c03d8d029487d974da1c07da58b36",
        "IPY_MODEL_3cac9826c9af4ccd96a1c87732bc0f9f"
       ],
       "dense": true,
       "layout": "IPY_MODEL_059cfab4295e4cef91f78dd4da7f029d",
       "v_slots": []
      }
     },
     "9eb8ee9f9bc94965aa5df7a805c20352": {
      "model_module": "@jupyter-widgets/base",
      "model_module_version": "1.2.0",
      "model_name": "LayoutModel",
      "state": {}
     },
     "9ef412360fc24fc0b6632cff8869fb6b": {
      "model_module": "jupyter-vuetify",
      "model_module_version": "^1.5.1",
      "model_name": "CardTitleModel",
      "state": {
       "_events": [],
       "_jupyter_vue": "IPY_MODEL_bc2712ed128d4d47ba50f0f591fcb068",
       "attributes": {},
       "children": [
        "Covid-19 Case Data"
       ],
       "layout": "IPY_MODEL_cca20490a10e42b3a92b38a571fec93b",
       "v_slots": []
      }
     },
     "9ef9ac88920944f7b5fcac26591ad64e": {
      "model_module": "jupyter-vuetify",
      "model_module_version": "^1.5.1",
      "model_name": "HtmlModel",
      "state": {
       "_events": [],
       "_jupyter_vue": "IPY_MODEL_bc2712ed128d4d47ba50f0f591fcb068",
       "_model_module_version": "^1.5.1",
       "_view_module_version": "^1.5.1",
       "attributes": {
        "href": "https://www.sandiegocounty.gov/content/sdc/hhsa/programs/phs/community_epidemiology/dc/2019-nCoV/status.html",
        "target": "_blank"
       },
       "children": [
        "County of San Diego"
       ],
       "layout": "IPY_MODEL_1ae118d32cfd44779b05b8b50acca878",
       "tag": "a",
       "v_slots": []
      }
     },
     "9f268b6b97f64f868568b1bfea901e6d": {
      "model_module": "jupyter-vuetify",
      "model_module_version": "^1.5.1",
      "model_name": "CardModel",
      "state": {
       "_events": [],
       "_jupyter_vue": "IPY_MODEL_bc2712ed128d4d47ba50f0f591fcb068",
       "attributes": {},
       "children": [
        "IPY_MODEL_9d6e5b89a8874f76be8ece617de0499c",
        "IPY_MODEL_73ad22bcf3f74138aa6175ac3d680e3c"
       ],
       "elevation": null,
       "height": null,
       "href": null,
       "layout": "IPY_MODEL_85f21fb3c9f74f21bb124f5839b6cd75",
       "loader_height": null,
       "loading": null,
       "max_height": null,
       "max_width": null,
       "min_height": null,
       "min_width": null,
       "ripple": null,
       "to": null,
       "v_slots": [],
       "width": null
      }
     },
     "9f294f9a85914ab39815481878c53c8f": {
      "model_module": "jupyter-vuetify",
      "model_module_version": "^1.5.1",
      "model_name": "CardTextModel",
      "state": {
       "_events": [],
       "_jupyter_vue": "IPY_MODEL_bc2712ed128d4d47ba50f0f591fcb068",
       "attributes": {},
       "children": [
        "The ZIP code boundaries shown in all maps are taken from the SANDAG/SanGIS Open Data Portal."
       ],
       "layout": "IPY_MODEL_abc0dff82e4b439eb8108dc8cd159815",
       "v_slots": []
      }
     },
     "9f5bd4578bb34b7ab2d00d78c482ec6a": {
      "model_module": "@jupyter-widgets/base",
      "model_module_version": "1.2.0",
      "model_name": "LayoutModel",
      "state": {}
     },
     "9f71be22b6844b10b5b5b9c67a914c35": {
      "model_module": "@jupyter-widgets/base",
      "model_module_version": "1.2.0",
      "model_name": "LayoutModel",
      "state": {}
     },
     "9faf0f48e45d49bea0394a6604cfa2aa": {
      "model_module": "@jupyter-widgets/base",
      "model_module_version": "1.2.0",
      "model_name": "LayoutModel",
      "state": {}
     },
     "9fb3d756599c410b8cd9f79cd52525a9": {
      "model_module": "jupyter-vuetify",
      "model_module_version": "^1.5.1",
      "model_name": "CardModel",
      "state": {
       "_events": [],
       "_jupyter_vue": "IPY_MODEL_bc2712ed128d4d47ba50f0f591fcb068",
       "attributes": {},
       "children": [
        "IPY_MODEL_c481550f7ca143d68433215c4442d221",
        "IPY_MODEL_549cb7f37f734fe682cc1fcd9689e4e9",
        "IPY_MODEL_4255e28340a5428c84254590922bcc17"
       ],
       "elevation": null,
       "height": null,
       "href": null,
       "layout": "IPY_MODEL_17dd79b333a849e580528b92abc6f84e",
       "loader_height": null,
       "loading": null,
       "max_height": null,
       "max_width": null,
       "min_height": null,
       "min_width": null,
       "ripple": null,
       "to": null,
       "v_slots": [],
       "width": null
      }
     },
     "9ff4c753752849a690e01647de0d23c2": {
      "model_module": "jupyter-vuetify",
      "model_module_version": "^1.5.1",
      "model_name": "CardModel",
      "state": {
       "_events": [],
       "_jupyter_vue": "IPY_MODEL_bc2712ed128d4d47ba50f0f591fcb068",
       "attributes": {},
       "children": [
        "IPY_MODEL_4d86a7f7bb454901a252a4964812b58b",
        "IPY_MODEL_a46d3faf1c39467e8fd9c56db362bdc8",
        "IPY_MODEL_0e8b4b9927c14553ad03c89a0fa5dbd8"
       ],
       "elevation": null,
       "height": null,
       "href": null,
       "layout": "IPY_MODEL_a7cf4c78347b4854b63435a6e7e8d879",
       "loader_height": null,
       "loading": null,
       "max_height": null,
       "max_width": null,
       "min_height": null,
       "min_width": null,
       "ripple": null,
       "to": null,
       "v_slots": [],
       "width": null
      }
     },
     "a009762aa61e420aaf800815fbf9e20d": {
      "model_module": "@jupyter-widgets/base",
      "model_module_version": "1.2.0",
      "model_name": "LayoutModel",
      "state": {}
     },
     "a022ad0786d6427d8d974dae8104f5e0": {
      "model_module": "jupyter-vuetify",
      "model_module_version": "^1.5.1",
      "model_name": "CardTitleModel",
      "state": {
       "_events": [],
       "_jupyter_vue": "IPY_MODEL_bc2712ed128d4d47ba50f0f591fcb068",
       "attributes": {},
       "children": [
        "About the Data"
       ],
       "layout": "IPY_MODEL_ff323e5a668143ff8820e483fe9ca233",
       "v_slots": []
      }
     },
     "a03eda72fc2d410dbbd3e1144dd33bd2": {
      "model_module": "jupyter-vuetify",
      "model_module_version": "^1.5.1",
      "model_name": "CardActionsModel",
      "state": {
       "_events": [],
       "_jupyter_vue": "IPY_MODEL_bc2712ed128d4d47ba50f0f591fcb068",
       "attributes": {},
       "children": [
        "IPY_MODEL_ef07442a1d114059b57f5948e195121c",
        "IPY_MODEL_1ce0513964084571a2148519bff13a98"
       ],
       "layout": "IPY_MODEL_a6cfabeeeddc4231b4f996b24568c1fb",
       "v_slots": []
      }
     },
     "a0429481e5654b6d91f6046b7ea73d52": {
      "model_module": "jupyter-vuetify",
      "model_module_version": "^1.5.1",
      "model_name": "HtmlModel",
      "state": {
       "_events": [],
       "_jupyter_vue": "IPY_MODEL_bc2712ed128d4d47ba50f0f591fcb068",
       "_model_module_version": "^1.5.1",
       "_view_module_version": "^1.5.1",
       "attributes": {
        "href": "https://datasurfer.sandag.org/dataoverview",
        "target": "_blank"
       },
       "children": [
        "Data Source"
       ],
       "layout": "IPY_MODEL_5b6a6f98d79b4420b10ee36cd40b3ffb",
       "tag": "a",
       "v_slots": []
      }
     },
     "a053aab3a973489785ef78ba236e9141": {
      "model_module": "@jupyter-widgets/base",
      "model_module_version": "1.2.0",
      "model_name": "LayoutModel",
      "state": {}
     },
     "a07a8db5090a4f2eaedaa66322c7416a": {
      "model_module": "@jupyter-widgets/base",
      "model_module_version": "1.2.0",
      "model_name": "LayoutModel",
      "state": {}
     },
     "a088e3de6c2f4df5b87cf00890ef6c35": {
      "model_module": "jupyter-vuetify",
      "model_module_version": "^1.5.1",
      "model_name": "CardModel",
      "state": {
       "_events": [],
       "_jupyter_vue": "IPY_MODEL_bc2712ed128d4d47ba50f0f591fcb068",
       "attributes": {},
       "children": [
        "IPY_MODEL_ff672dac079142329d36a1a8e6ad466d",
        "IPY_MODEL_629c29d491d649ca9bf59f691472da3d"
       ],
       "elevation": null,
       "height": null,
       "href": null,
       "layout": "IPY_MODEL_a090c27a76f347f4a1ecc089150af8c9",
       "loader_height": null,
       "loading": null,
       "max_height": null,
       "max_width": null,
       "min_height": null,
       "min_width": null,
       "ripple": null,
       "to": null,
       "v_slots": [],
       "width": null
      }
     },
     "a08fb363ed1f4c33948628f617d70305": {
      "model_module": "jupyter-vuetify",
      "model_module_version": "^1.5.1",
      "model_name": "CardActionsModel",
      "state": {
       "_events": [],
       "_jupyter_vue": "IPY_MODEL_bc2712ed128d4d47ba50f0f591fcb068",
       "attributes": {},
       "children": [
        "IPY_MODEL_c3e16b52a4bf422786de5243d97b6e08",
        "IPY_MODEL_31ada7e54f0d427695dee79489ff384c",
        "IPY_MODEL_f9aa6f8b091f404082aa70f550da65f6"
       ],
       "layout": "IPY_MODEL_96674e17753346438e4d88b02166d49a",
       "v_slots": []
      }
     },
     "a090c27a76f347f4a1ecc089150af8c9": {
      "model_module": "@jupyter-widgets/base",
      "model_module_version": "1.2.0",
      "model_name": "LayoutModel",
      "state": {}
     },
     "a097da574bec4802919b1be7f3ba90e3": {
      "model_module": "@jupyter-widgets/base",
      "model_module_version": "1.2.0",
      "model_name": "LayoutModel",
      "state": {}
     },
     "a09874db99ff4b6b82f8a92f687446d0": {
      "model_module": "@jupyter-widgets/base",
      "model_module_version": "1.2.0",
      "model_name": "LayoutModel",
      "state": {}
     },
     "a0a7392a3de74ee49ae78bef1281ac7d": {
      "model_module": "@jupyter-widgets/base",
      "model_module_version": "1.2.0",
      "model_name": "LayoutModel",
      "state": {}
     },
     "a0f79ec72ace49d18faddd4336599632": {
      "model_module": "jupyter-vuetify",
      "model_module_version": "^1.5.1",
      "model_name": "CardTextModel",
      "state": {
       "_events": [],
       "_jupyter_vue": "IPY_MODEL_bc2712ed128d4d47ba50f0f591fcb068",
       "attributes": {},
       "children": [
        "The ZIP code boundaries shown in all maps are taken from the SANDAG/SanGIS Open Data Portal."
       ],
       "layout": "IPY_MODEL_f8e787101e414cdb842b452ef204ce90",
       "v_slots": []
      }
     },
     "a158356ae5064924aa859aa1ae5ee44c": {
      "model_module": "@jupyter-widgets/base",
      "model_module_version": "1.2.0",
      "model_name": "LayoutModel",
      "state": {}
     },
     "a18ba919db3b454eae916f48769e38d2": {
      "model_module": "jupyter-vuetify",
      "model_module_version": "^1.5.1",
      "model_name": "CardTextModel",
      "state": {
       "_events": [],
       "_jupyter_vue": "IPY_MODEL_bc2712ed128d4d47ba50f0f591fcb068",
       "attributes": {},
       "children": [
        "lol"
       ],
       "layout": "IPY_MODEL_34cc382995864fbf9194bb71fbbd2e70",
       "v_slots": []
      }
     },
     "a1b168e57be84e13af1d06cde8756201": {
      "model_module": "jupyter-vuetify",
      "model_module_version": "^1.5.1",
      "model_name": "CardTextModel",
      "state": {
       "_events": [],
       "_jupyter_vue": "IPY_MODEL_bc2712ed128d4d47ba50f0f591fcb068",
       "attributes": {},
       "children": [
        "lol"
       ],
       "layout": "IPY_MODEL_92c5f4a276624ad9b49bca5a9f37a81f",
       "v_slots": []
      }
     },
     "a217e1ffc85c4a04b90fb20f292c1c44": {
      "model_module": "@jupyter-widgets/base",
      "model_module_version": "1.2.0",
      "model_name": "LayoutModel",
      "state": {}
     },
     "a277e7c5d03d41db83ab7208838ac985": {
      "model_module": "jupyter-vuetify",
      "model_module_version": "^1.5.1",
      "model_name": "CardModel",
      "state": {
       "_events": [],
       "_jupyter_vue": "IPY_MODEL_bc2712ed128d4d47ba50f0f591fcb068",
       "attributes": {},
       "children": [
        "IPY_MODEL_632fbdaceb084814ab8aaa62cb1848a9",
        "IPY_MODEL_caf3f34ba48d4ae4a131beaab1331c85"
       ],
       "elevation": null,
       "height": null,
       "href": null,
       "layout": "IPY_MODEL_b23f9d3c417c483f8513ea15d9609307",
       "loader_height": null,
       "loading": null,
       "max_height": null,
       "max_width": null,
       "min_height": null,
       "min_width": null,
       "ripple": null,
       "to": null,
       "v_slots": [],
       "width": null
      }
     },
     "a27b630c0c3d4b9c80c89dae4e8adb1e": {
      "model_module": "jupyter-vuetify",
      "model_module_version": "^1.5.1",
      "model_name": "CardModel",
      "state": {
       "_events": [],
       "_jupyter_vue": "IPY_MODEL_bc2712ed128d4d47ba50f0f591fcb068",
       "attributes": {},
       "children": [
        "IPY_MODEL_6a0f010c994b403abfcbdea6a210fbc0",
        "IPY_MODEL_48077384852844869b50ae1bab9b5f4d",
        "IPY_MODEL_ceb9355e1c064ff78c6d0604f922ac71"
       ],
       "elevation": null,
       "height": null,
       "href": null,
       "layout": "IPY_MODEL_5e8e69669455404baf2039b5f86a51d4",
       "loader_height": null,
       "loading": null,
       "max_height": null,
       "max_width": null,
       "min_height": null,
       "min_width": null,
       "ripple": null,
       "to": null,
       "v_slots": [],
       "width": null
      }
     },
     "a296ea1b4458407b9a60a5fd6e15efcb": {
      "model_module": "@jupyter-widgets/base",
      "model_module_version": "1.2.0",
      "model_name": "LayoutModel",
      "state": {}
     },
     "a29856f4b63344cb821471b371d84f55": {
      "model_module": "@jupyter-widgets/base",
      "model_module_version": "1.2.0",
      "model_name": "LayoutModel",
      "state": {}
     },
     "a2aa15e32b5846f0935c14cf98de2575": {
      "model_module": "jupyter-vuetify",
      "model_module_version": "^1.5.1",
      "model_name": "CardTextModel",
      "state": {
       "_events": [],
       "_jupyter_vue": "IPY_MODEL_bc2712ed128d4d47ba50f0f591fcb068",
       "attributes": {},
       "children": [
        "IPY_MODEL_e90df34311fb463ca86855e6d66f8a32"
       ],
       "layout": "IPY_MODEL_a7930560e5874b21abc61db361e40086",
       "v_slots": []
      }
     },
     "a2ab49082ef9405ca9f209eb11c3c9e2": {
      "model_module": "jupyter-vuetify",
      "model_module_version": "^1.5.1",
      "model_name": "HtmlModel",
      "state": {
       "_events": [],
       "_jupyter_vue": "IPY_MODEL_bc2712ed128d4d47ba50f0f591fcb068",
       "_model_module_version": "^1.5.1",
       "_view_module_version": "^1.5.1",
       "attributes": {},
       "children": [
        "lol"
       ],
       "class_": "display-1 text--primary",
       "layout": "IPY_MODEL_5b749b5afc79419ba0372b16a4537ccb",
       "tag": "p",
       "v_slots": []
      }
     },
     "a2eb0671c4054c6dbe541eb51b140be7": {
      "model_module": "@jupyter-widgets/base",
      "model_module_version": "1.2.0",
      "model_name": "LayoutModel",
      "state": {}
     },
     "a30fdc6f2ac44764aa55ba6806c78be6": {
      "model_module": "jupyter-vuetify",
      "model_module_version": "^1.5.1",
      "model_name": "BtnModel",
      "state": {
       "_events": [],
       "_jupyter_vue": "IPY_MODEL_bc2712ed128d4d47ba50f0f591fcb068",
       "attributes": {},
       "children": [
        "IPY_MODEL_dca57b10270c418d845aed095b1ac204"
       ],
       "color": "blue",
       "elevation": null,
       "height": null,
       "href": null,
       "layout": "IPY_MODEL_e7aa41cd643c4f59a366484b1781aa28",
       "max_height": null,
       "max_width": null,
       "min_height": null,
       "min_width": null,
       "ripple": null,
       "text": true,
       "to": null,
       "v_slots": [],
       "width": null
      }
     },
     "a35c702d4fc345c5b72a6feb60ca3494": {
      "model_module": "jupyter-vuetify",
      "model_module_version": "^1.5.1",
      "model_name": "HtmlModel",
      "state": {
       "_events": [],
       "_jupyter_vue": "IPY_MODEL_bc2712ed128d4d47ba50f0f591fcb068",
       "_model_module_version": "^1.5.1",
       "_view_module_version": "^1.5.1",
       "attributes": {},
       "children": [
        "lol"
       ],
       "class_": "text-primary",
       "layout": "IPY_MODEL_a5887fed506a44acaa311805cd97bb25",
       "tag": "p",
       "v_slots": []
      }
     },
     "a3720d3062b142f4a90d4da763176eca": {
      "model_module": "@jupyter-widgets/base",
      "model_module_version": "1.2.0",
      "model_name": "LayoutModel",
      "state": {}
     },
     "a373cfbf2cb64e6fbd914aea4d28c5f9": {
      "model_module": "jupyter-vuetify",
      "model_module_version": "^1.5.1",
      "model_name": "CardTextModel",
      "state": {
       "_events": [],
       "_jupyter_vue": "IPY_MODEL_bc2712ed128d4d47ba50f0f591fcb068",
       "attributes": {},
       "children": [
        "This section informs about the sources of the data that are used in this dashboard."
       ],
       "layout": "IPY_MODEL_4149d7cfc2174868b6f4aef0ab555053",
       "v_slots": []
      }
     },
     "a39c7130f73441d2bba4939350a3abb6": {
      "model_module": "jupyter-vuetify",
      "model_module_version": "^1.5.1",
      "model_name": "CardTitleModel",
      "state": {
       "_events": [],
       "_jupyter_vue": "IPY_MODEL_bc2712ed128d4d47ba50f0f591fcb068",
       "attributes": {},
       "children": [
        "Demographic Data"
       ],
       "layout": "IPY_MODEL_20c8a29b1a1546a0b00433332d2fd763",
       "v_slots": []
      }
     },
     "a4383591a6e54e5b96e87dc1258090c8": {
      "model_module": "@jupyter-widgets/base",
      "model_module_version": "1.2.0",
      "model_name": "LayoutModel",
      "state": {}
     },
     "a46d3faf1c39467e8fd9c56db362bdc8": {
      "model_module": "jupyter-vuetify",
      "model_module_version": "^1.5.1",
      "model_name": "CardTextModel",
      "state": {
       "_events": [],
       "_jupyter_vue": "IPY_MODEL_bc2712ed128d4d47ba50f0f591fcb068",
       "attributes": {},
       "children": [
        "IPY_MODEL_f535e0002cfe4868890fe326c7451add",
        "IPY_MODEL_bf861f91e9824d09b9164bce8076ec4b",
        "IPY_MODEL_31f0afff616c4373905896c62a443775",
        "IPY_MODEL_cc73edce2c8a4409bfdbc631875c3411"
       ],
       "layout": "IPY_MODEL_d42961800880490884950c8d29ef8b77",
       "v_slots": []
      }
     },
     "a4c1dc6f8e8d48bc9af6726d940cdc12": {
      "model_module": "jupyter-vuetify",
      "model_module_version": "^1.5.1",
      "model_name": "HtmlModel",
      "state": {
       "_events": [],
       "_jupyter_vue": "IPY_MODEL_bc2712ed128d4d47ba50f0f591fcb068",
       "_model_module_version": "^1.5.1",
       "_view_module_version": "^1.5.1",
       "attributes": {
        "href": "https://sandag.org/resources/maps_and_gis/gis_downloads/disclaimer.asp",
        "target": "_blank"
       },
       "children": [
        "SANDAG Disclaimer"
       ],
       "layout": "IPY_MODEL_8b89989a219b4d79b8cce22be47438c5",
       "tag": "a",
       "v_slots": []
      }
     },
     "a4e991db6134469583ddeb4ec600f39d": {
      "model_module": "@jupyter-widgets/base",
      "model_module_version": "1.2.0",
      "model_name": "LayoutModel",
      "state": {}
     },
     "a50b5e9d22de496e80578d11e0828936": {
      "model_module": "jupyter-vuetify",
      "model_module_version": "^1.5.1",
      "model_name": "CardTitleModel",
      "state": {
       "_events": [],
       "_jupyter_vue": "IPY_MODEL_bc2712ed128d4d47ba50f0f591fcb068",
       "attributes": {},
       "children": [
        "About the Data"
       ],
       "layout": "IPY_MODEL_89d9a9bdcbac49ecb6c1c30b329b740a",
       "v_slots": []
      }
     },
     "a52bc10d3a27465fb57826d105078d8a": {
      "model_module": "jupyter-vuetify",
      "model_module_version": "^1.5.1",
      "model_name": "CardModel",
      "state": {
       "_events": [],
       "_jupyter_vue": "IPY_MODEL_bc2712ed128d4d47ba50f0f591fcb068",
       "attributes": {},
       "children": [
        "IPY_MODEL_0c49e094bc6c4e9282e42a9df3503966",
        "IPY_MODEL_cd2f0e73d3a545e58d3d78e75ab5ff63"
       ],
       "elevation": null,
       "height": null,
       "href": null,
       "layout": "IPY_MODEL_e8ce8fbfde524a22870667374ef1475b",
       "loader_height": null,
       "loading": null,
       "max_height": null,
       "max_width": null,
       "min_height": null,
       "min_width": null,
       "ripple": null,
       "to": null,
       "v_slots": [],
       "width": null
      }
     },
     "a57ea557e9d3410b9304f6fdb9e390c1": {
      "model_module": "jupyter-vuetify",
      "model_module_version": "^1.5.1",
      "model_name": "ColModel",
      "state": {
       "_events": [],
       "_jupyter_vue": "IPY_MODEL_bc2712ed128d4d47ba50f0f591fcb068",
       "attributes": {},
       "children": [
        "IPY_MODEL_3959c53e1ada4d23a17eecf614f06f17"
       ],
       "cols": 6,
       "layout": "IPY_MODEL_b1266abb8c48490b82ec348eedf035c1",
       "lg": null,
       "md": null,
       "offset": null,
       "offset_lg": null,
       "offset_md": null,
       "offset_sm": null,
       "offset_xl": null,
       "order": null,
       "order_lg": null,
       "order_md": null,
       "order_sm": null,
       "order_xl": null,
       "sm": null,
       "v_slots": [],
       "xl": null
      }
     },
     "a5887fed506a44acaa311805cd97bb25": {
      "model_module": "@jupyter-widgets/base",
      "model_module_version": "1.2.0",
      "model_name": "LayoutModel",
      "state": {}
     },
     "a58979289c39406a9a21cdf981a26274": {
      "model_module": "@jupyter-widgets/base",
      "model_module_version": "1.2.0",
      "model_name": "LayoutModel",
      "state": {}
     },
     "a599ab332ebf4de5b0fa71cb80786439": {
      "model_module": "jupyter-vuetify",
      "model_module_version": "^1.5.1",
      "model_name": "BtnModel",
      "state": {
       "_events": [],
       "_jupyter_vue": "IPY_MODEL_bc2712ed128d4d47ba50f0f591fcb068",
       "attributes": {},
       "children": [
        "IPY_MODEL_7ff28d443ece42e6b3f699b1d476bc0c"
       ],
       "color": "blue",
       "elevation": null,
       "height": null,
       "href": null,
       "layout": "IPY_MODEL_3ca26b821e364898a38e73d2caa8877a",
       "max_height": null,
       "max_width": null,
       "min_height": null,
       "min_width": null,
       "ripple": null,
       "text": true,
       "to": null,
       "v_slots": [],
       "width": null
      }
     },
     "a5b63e1784ee49d5a132f937f8eae3ac": {
      "model_module": "jupyter-vuetify",
      "model_module_version": "^1.5.1",
      "model_name": "ColModel",
      "state": {
       "_events": [],
       "_jupyter_vue": "IPY_MODEL_bc2712ed128d4d47ba50f0f591fcb068",
       "attributes": {},
       "children": [
        "IPY_MODEL_d061fb8edbe4408baf7ce9e9021c04a0"
       ],
       "cols": 6,
       "layout": "IPY_MODEL_266afe4194e2411cb9adb632304f5c94",
       "lg": null,
       "md": null,
       "offset": null,
       "offset_lg": null,
       "offset_md": null,
       "offset_sm": null,
       "offset_xl": null,
       "order": null,
       "order_lg": null,
       "order_md": null,
       "order_sm": null,
       "order_xl": null,
       "sm": null,
       "v_slots": [],
       "xl": null
      }
     },
     "a5c8d5aa7aac4cfbb9e7119a86b20fd2": {
      "model_module": "@jupyter-widgets/base",
      "model_module_version": "1.2.0",
      "model_name": "LayoutModel",
      "state": {}
     },
     "a5e762cd77ff41bd806dbdca141e7a9c": {
      "model_module": "@jupyter-widgets/base",
      "model_module_version": "1.2.0",
      "model_name": "LayoutModel",
      "state": {}
     },
     "a5f7e0db1ff5478380ce4f93d3040ea4": {
      "model_module": "jupyter-vuetify",
      "model_module_version": "^1.5.1",
      "model_name": "CardModel",
      "state": {
       "_events": [],
       "_jupyter_vue": "IPY_MODEL_bc2712ed128d4d47ba50f0f591fcb068",
       "attributes": {},
       "children": [
        "IPY_MODEL_aeefd3383e1547bb92794f84e1afd67e",
        "IPY_MODEL_55a4e7bc57ac42ba8038488d90aa2c5c",
        "IPY_MODEL_120e5f53372d44f5a9f2dffb6b726c54"
       ],
       "elevation": null,
       "height": null,
       "href": null,
       "layout": "IPY_MODEL_b47fd0e151564708aefc2d95fa6218e2",
       "loader_height": null,
       "loading": null,
       "max_height": null,
       "max_width": null,
       "min_height": null,
       "min_width": null,
       "ripple": null,
       "to": null,
       "v_slots": [],
       "width": null
      }
     },
     "a5fdcacba27d46878b14f659a2759c74": {
      "model_module": "jupyter-vuetify",
      "model_module_version": "^1.5.1",
      "model_name": "ContainerModel",
      "state": {
       "_events": [],
       "_jupyter_vue": "IPY_MODEL_bc2712ed128d4d47ba50f0f591fcb068",
       "attributes": {},
       "children": [
        "IPY_MODEL_20afb8a543164c5bbc56771f16e61d14"
       ],
       "fluid": true,
       "layout": "IPY_MODEL_5b24b4a3d0594a4a82d3facaba6a7a0d",
       "v_slots": []
      }
     },
     "a60f454d579f4bda97d32e3c7a467642": {
      "model_module": "jupyter-vuetify",
      "model_module_version": "^1.5.1",
      "model_name": "ColModel",
      "state": {
       "_events": [],
       "_jupyter_vue": "IPY_MODEL_bc2712ed128d4d47ba50f0f591fcb068",
       "attributes": {},
       "children": [
        "IPY_MODEL_ffc25cadf6314586b5c8d8811a153be5"
       ],
       "cols": 12,
       "layout": "IPY_MODEL_c73a3831fe954ad4bbc17e288a433e32",
       "lg": null,
       "md": null,
       "offset": null,
       "offset_lg": null,
       "offset_md": null,
       "offset_sm": null,
       "offset_xl": null,
       "order": null,
       "order_lg": null,
       "order_md": null,
       "order_sm": null,
       "order_xl": null,
       "sm": null,
       "v_slots": [],
       "xl": null
      }
     },
     "a624f94b6c9445f3b637bc2a4e800bd6": {
      "model_module": "@jupyter-widgets/base",
      "model_module_version": "1.2.0",
      "model_name": "LayoutModel",
      "state": {}
     },
     "a646b1b82b2e425ca8ab9486a2199dc2": {
      "model_module": "jupyter-vuetify",
      "model_module_version": "^1.5.1",
      "model_name": "BtnModel",
      "state": {
       "_events": [],
       "_jupyter_vue": "IPY_MODEL_bc2712ed128d4d47ba50f0f591fcb068",
       "attributes": {},
       "children": [
        "SANDAG Disclaimer"
       ],
       "color": "accent",
       "elevation": null,
       "height": null,
       "href": null,
       "layout": "IPY_MODEL_c10e24094f254c1a9958c23b07e13e1b",
       "max_height": null,
       "max_width": null,
       "min_height": null,
       "min_width": null,
       "ripple": null,
       "text": true,
       "to": null,
       "v_slots": [],
       "width": null
      }
     },
     "a649a495c57142b09f474a36b9cd2777": {
      "model_module": "@jupyter-widgets/base",
      "model_module_version": "1.2.0",
      "model_name": "LayoutModel",
      "state": {}
     },
     "a660cbc8451a49009607f3d9069a3d5b": {
      "model_module": "jupyter-vuetify",
      "model_module_version": "^1.5.1",
      "model_name": "CardModel",
      "state": {
       "_events": [],
       "_jupyter_vue": "IPY_MODEL_bc2712ed128d4d47ba50f0f591fcb068",
       "attributes": {},
       "children": [
        "IPY_MODEL_d23cac4b000045e49ec17493e3c5f559",
        "IPY_MODEL_f193f20ea7d5488bb0fd8bbdd1cb0215",
        "IPY_MODEL_1f338024dedc4e1fbacaf6652695c6c5"
       ],
       "elevation": null,
       "height": null,
       "href": null,
       "layout": "IPY_MODEL_5e97195be5f544fe96f43ed6da0238e7",
       "loader_height": null,
       "loading": null,
       "max_height": null,
       "max_width": null,
       "min_height": null,
       "min_width": null,
       "ripple": null,
       "to": null,
       "v_slots": [],
       "width": null
      }
     },
     "a6c33f793f234a6a9908613672f68f0b": {
      "model_module": "@jupyter-widgets/base",
      "model_module_version": "1.2.0",
      "model_name": "LayoutModel",
      "state": {}
     },
     "a6cb0609693b4ed0a96aecf093c4d216": {
      "model_module": "@jupyter-widgets/base",
      "model_module_version": "1.2.0",
      "model_name": "LayoutModel",
      "state": {}
     },
     "a6cfabeeeddc4231b4f996b24568c1fb": {
      "model_module": "@jupyter-widgets/base",
      "model_module_version": "1.2.0",
      "model_name": "LayoutModel",
      "state": {}
     },
     "a6f7e6d7a3a242b9b528de220e120bd3": {
      "model_module": "jupyter-vuetify",
      "model_module_version": "^1.5.1",
      "model_name": "BtnModel",
      "state": {
       "_events": [],
       "_jupyter_vue": "IPY_MODEL_bc2712ed128d4d47ba50f0f591fcb068",
       "attributes": {},
       "children": [
        "IPY_MODEL_5dd4ce9f419943618b2da35f24839c22"
       ],
       "color": "blue",
       "elevation": null,
       "height": null,
       "href": null,
       "layout": "IPY_MODEL_8ddc9dbb5e39441984238ef1073a007e",
       "max_height": null,
       "max_width": null,
       "min_height": null,
       "min_width": null,
       "ripple": null,
       "text": true,
       "to": null,
       "v_slots": [],
       "width": null
      }
     },
     "a70f6038a355410c94d736d048a91c67": {
      "model_module": "jupyter-vuetify",
      "model_module_version": "^1.5.1",
      "model_name": "CardModel",
      "state": {
       "_events": [],
       "_jupyter_vue": "IPY_MODEL_bc2712ed128d4d47ba50f0f591fcb068",
       "attributes": {},
       "children": [
        "IPY_MODEL_c5ceeff665964d1f8e724fa61444000d",
        "IPY_MODEL_d2bef7d40678414d822da65535542159",
        "IPY_MODEL_03c7e7b9ef7a4879a8fb46dfc4ade961"
       ],
       "elevation": null,
       "height": null,
       "href": null,
       "layout": "IPY_MODEL_c876dc601e9542748bd703f92034f94e",
       "loader_height": null,
       "loading": null,
       "max_height": null,
       "max_width": null,
       "min_height": null,
       "min_width": null,
       "ripple": null,
       "to": null,
       "v_slots": [],
       "width": null
      }
     },
     "a74891ce77244a62b1cc6fe255dad2bf": {
      "model_module": "jupyter-vuetify",
      "model_module_version": "^1.5.1",
      "model_name": "RowModel",
      "state": {
       "_events": [],
       "_jupyter_vue": "IPY_MODEL_bc2712ed128d4d47ba50f0f591fcb068",
       "attributes": {},
       "children": [
        "IPY_MODEL_f09d5726faa74b3c9b6d2a79becbe243",
        "IPY_MODEL_45d3a6e6c3e5464cb878bf378250dc95",
        "IPY_MODEL_fbc0c43a90bd4cd48798756177a015ec"
       ],
       "dense": true,
       "layout": "IPY_MODEL_1d29fd54cf4c4c00a370273fe9c3e114",
       "v_slots": []
      }
     },
     "a75c3e04c2aa435c8578548dae03e3e3": {
      "model_module": "@jupyter-widgets/base",
      "model_module_version": "1.2.0",
      "model_name": "LayoutModel",
      "state": {}
     },
     "a766aebabb8844f19f0f25cfa3a4523f": {
      "model_module": "jupyter-vuetify",
      "model_module_version": "^1.5.1",
      "model_name": "CardTitleModel",
      "state": {
       "_events": [],
       "_jupyter_vue": "IPY_MODEL_bc2712ed128d4d47ba50f0f591fcb068",
       "attributes": {},
       "children": [
        "About the Data"
       ],
       "layout": "IPY_MODEL_960651e43b63405db7e1b61c3b79b61a",
       "v_slots": []
      }
     },
     "a781769edbe843ad874a6ddd80f715fb": {
      "model_module": "@jupyter-widgets/base",
      "model_module_version": "1.2.0",
      "model_name": "LayoutModel",
      "state": {}
     },
     "a7930560e5874b21abc61db361e40086": {
      "model_module": "@jupyter-widgets/base",
      "model_module_version": "1.2.0",
      "model_name": "LayoutModel",
      "state": {}
     },
     "a795ee3968b140c7afcca68174973034": {
      "model_module": "@jupyter-widgets/base",
      "model_module_version": "1.2.0",
      "model_name": "LayoutModel",
      "state": {}
     },
     "a79dbdd35cc04788a7e8a382fe328307": {
      "model_module": "jupyter-vuetify",
      "model_module_version": "^1.5.1",
      "model_name": "CardModel",
      "state": {
       "_events": [],
       "_jupyter_vue": "IPY_MODEL_bc2712ed128d4d47ba50f0f591fcb068",
       "attributes": {},
       "children": [
        "IPY_MODEL_30385f1492e741bc8366ff0e5746f885",
        "IPY_MODEL_ab9cd2da462848d4b0233580e8c7150c"
       ],
       "elevation": null,
       "height": null,
       "href": null,
       "layout": "IPY_MODEL_b92dea32748b4d24a702f837f9012144",
       "loader_height": null,
       "loading": null,
       "max_height": null,
       "max_width": null,
       "min_height": null,
       "min_width": null,
       "ripple": null,
       "to": null,
       "v_slots": [],
       "width": null
      }
     },
     "a7cf4c78347b4854b63435a6e7e8d879": {
      "model_module": "@jupyter-widgets/base",
      "model_module_version": "1.2.0",
      "model_name": "LayoutModel",
      "state": {}
     },
     "a7f90c26d04149909a2bf92489ada800": {
      "model_module": "jupyter-vuetify",
      "model_module_version": "^1.5.1",
      "model_name": "CardTextModel",
      "state": {
       "_events": [],
       "_jupyter_vue": "IPY_MODEL_bc2712ed128d4d47ba50f0f591fcb068",
       "attributes": {},
       "children": [
        "IPY_MODEL_a2ab49082ef9405ca9f209eb11c3c9e2"
       ],
       "layout": "IPY_MODEL_420560b6b79347af80ce32cf54eaea5a",
       "v_slots": []
      }
     },
     "a7fe8096a44b48cfb8ebd13303f417d9": {
      "model_module": "@jupyter-widgets/base",
      "model_module_version": "1.2.0",
      "model_name": "LayoutModel",
      "state": {}
     },
     "a82a20c2c8de438b9ae2912d1eb6d272": {
      "model_module": "@jupyter-widgets/base",
      "model_module_version": "1.2.0",
      "model_name": "LayoutModel",
      "state": {}
     },
     "a82c5b85cbe44115b179d63ca81d908b": {
      "model_module": "jupyter-vuetify",
      "model_module_version": "^1.5.1",
      "model_name": "RowModel",
      "state": {
       "_events": [],
       "_jupyter_vue": "IPY_MODEL_bc2712ed128d4d47ba50f0f591fcb068",
       "attributes": {},
       "children": [
        "IPY_MODEL_369c3b308cee4856919609015ed42ae3",
        "IPY_MODEL_a9f8a757276245e3b3166fd6038c52da",
        "IPY_MODEL_f73a77c57aad4068a6b5263fd8080ad9"
       ],
       "dense": true,
       "layout": "IPY_MODEL_1cae65a9271145728fb092541af725b1",
       "v_slots": []
      }
     },
     "a878a82241ed407b81b4c8f0fb7aafc4": {
      "model_module": "@jupyter-widgets/base",
      "model_module_version": "1.2.0",
      "model_name": "LayoutModel",
      "state": {}
     },
     "a8c3eb3fd3e840d0ac5503f895cabcc3": {
      "model_module": "jupyter-vuetify",
      "model_module_version": "^1.5.1",
      "model_name": "ColModel",
      "state": {
       "_events": [],
       "_jupyter_vue": "IPY_MODEL_bc2712ed128d4d47ba50f0f591fcb068",
       "attributes": {},
       "children": [
        "IPY_MODEL_a5f7e0db1ff5478380ce4f93d3040ea4"
       ],
       "cols": 12,
       "layout": "IPY_MODEL_a3720d3062b142f4a90d4da763176eca",
       "lg": null,
       "md": null,
       "offset": null,
       "offset_lg": null,
       "offset_md": null,
       "offset_sm": null,
       "offset_xl": null,
       "order": null,
       "order_lg": null,
       "order_md": null,
       "order_sm": null,
       "order_xl": null,
       "sm": null,
       "v_slots": [],
       "xl": null
      }
     },
     "a8c5dc57ce0248d0b2b3b00ee05e8431": {
      "model_module": "@jupyter-widgets/base",
      "model_module_version": "1.2.0",
      "model_name": "LayoutModel",
      "state": {}
     },
     "a908ea2ea44d477f884ed1736e6e6774": {
      "model_module": "jupyter-vuetify",
      "model_module_version": "^1.5.1",
      "model_name": "HtmlModel",
      "state": {
       "_events": [],
       "_jupyter_vue": "IPY_MODEL_bc2712ed128d4d47ba50f0f591fcb068",
       "_model_module_version": "^1.5.1",
       "_view_module_version": "^1.5.1",
       "attributes": {},
       "children": [
        "Original data source: San Diego County Communicable Disease Registry, SANDAG 2019 Population Estimates (Prepared June 2020)."
       ],
       "layout": "IPY_MODEL_fa806ea9bb914e2d9787a196d6a0dddb",
       "tag": "p",
       "v_slots": []
      }
     },
     "a938a70f661941ef96ca08de4827b813": {
      "model_module": "jupyter-vuetify",
      "model_module_version": "^1.5.1",
      "model_name": "CardTextModel",
      "state": {
       "_events": [],
       "_jupyter_vue": "IPY_MODEL_bc2712ed128d4d47ba50f0f591fcb068",
       "attributes": {},
       "children": [
        "This section informs about the data sources this dashboard uses. All data are publicly accessible."
       ],
       "layout": "IPY_MODEL_87d71361ba3b463ab3442b931b4e136c",
       "v_slots": []
      }
     },
     "a968165b2b554c7d9ed6b478b8a433af": {
      "model_module": "@jupyter-widgets/base",
      "model_module_version": "1.2.0",
      "model_name": "LayoutModel",
      "state": {}
     },
     "a972f6d806a243a9b9c17028546d8242": {
      "model_module": "@jupyter-widgets/base",
      "model_module_version": "1.2.0",
      "model_name": "LayoutModel",
      "state": {}
     },
     "a9a0024179e14bf18b2708cbcc04f8e5": {
      "model_module": "jupyter-vuetify",
      "model_module_version": "^1.5.1",
      "model_name": "BtnModel",
      "state": {
       "_events": [],
       "_jupyter_vue": "IPY_MODEL_bc2712ed128d4d47ba50f0f591fcb068",
       "attributes": {},
       "children": [
        "IPY_MODEL_b248d724d12a4a8981bf6b6cb82d6405"
       ],
       "color": "blue",
       "elevation": null,
       "height": null,
       "href": null,
       "layout": "IPY_MODEL_cb01bdbc5ef7480cbb35b8e8c486b3d0",
       "max_height": null,
       "max_width": null,
       "min_height": null,
       "min_width": null,
       "ripple": null,
       "text": true,
       "to": null,
       "v_slots": [],
       "width": null
      }
     },
     "a9c8fa74a6e74794a91a3f6d87d22a6d": {
      "model_module": "jupyter-vuetify",
      "model_module_version": "^1.5.1",
      "model_name": "ColModel",
      "state": {
       "_events": [],
       "_jupyter_vue": "IPY_MODEL_bc2712ed128d4d47ba50f0f591fcb068",
       "attributes": {},
       "children": [
        "IPY_MODEL_757a46c255ae49d9a527fde39cf6d698"
       ],
       "cols": 6,
       "layout": "IPY_MODEL_dfcdf99be8874618bc04c5843d758d6f",
       "lg": null,
       "md": null,
       "offset": null,
       "offset_lg": null,
       "offset_md": null,
       "offset_sm": null,
       "offset_xl": null,
       "order": null,
       "order_lg": null,
       "order_md": null,
       "order_sm": null,
       "order_xl": null,
       "sm": null,
       "v_slots": [],
       "xl": null
      }
     },
     "a9de35af12374294aaa70457b1b982e0": {
      "model_module": "@jupyter-widgets/base",
      "model_module_version": "1.2.0",
      "model_name": "LayoutModel",
      "state": {}
     },
     "a9e0d1c402834af9bbb4839e0ea86780": {
      "model_module": "@jupyter-widgets/base",
      "model_module_version": "1.2.0",
      "model_name": "LayoutModel",
      "state": {}
     },
     "a9f8a757276245e3b3166fd6038c52da": {
      "model_module": "jupyter-vuetify",
      "model_module_version": "^1.5.1",
      "model_name": "ColModel",
      "state": {
       "_events": [],
       "_jupyter_vue": "IPY_MODEL_bc2712ed128d4d47ba50f0f591fcb068",
       "attributes": {},
       "children": [
        "IPY_MODEL_c5db0b37e4424a5cbb9f65f948aff902"
       ],
       "cols": 6,
       "layout": "IPY_MODEL_490d3b49f33d480086f689c42d1756c4",
       "lg": null,
       "md": null,
       "offset": null,
       "offset_lg": null,
       "offset_md": null,
       "offset_sm": null,
       "offset_xl": null,
       "order": null,
       "order_lg": null,
       "order_md": null,
       "order_sm": null,
       "order_xl": null,
       "sm": null,
       "v_slots": [],
       "xl": null
      }
     },
     "aa24fb35bd154e4ba459a1b98db1b957": {
      "model_module": "@jupyter-widgets/base",
      "model_module_version": "1.2.0",
      "model_name": "LayoutModel",
      "state": {}
     },
     "aa54ecb97bdd4b44bc46dbada8b3b81a": {
      "model_module": "@jupyter-widgets/base",
      "model_module_version": "1.2.0",
      "model_name": "LayoutModel",
      "state": {}
     },
     "aa602b7ef41a44bf87320dadf9364b3e": {
      "model_module": "@jupyter-widgets/base",
      "model_module_version": "1.2.0",
      "model_name": "LayoutModel",
      "state": {}
     },
     "aaa210d72f9d4a44b2668df6fdfb6bcf": {
      "model_module": "@jupyter-widgets/base",
      "model_module_version": "1.2.0",
      "model_name": "LayoutModel",
      "state": {}
     },
     "aabdfc2c50594dbbab08332a5056a226": {
      "model_module": "jupyter-vuetify",
      "model_module_version": "^1.5.1",
      "model_name": "CardTextModel",
      "state": {
       "_events": [],
       "_jupyter_vue": "IPY_MODEL_bc2712ed128d4d47ba50f0f591fcb068",
       "attributes": {},
       "children": [
        "IPY_MODEL_e6ba59185b6547558e7f38474a84361b"
       ],
       "layout": "IPY_MODEL_40c71f8aa5d34a398a85bd4c7ba27499",
       "v_slots": []
      }
     },
     "aacded34247e4df3be4c824b0f4fa1a8": {
      "model_module": "@jupyter-widgets/base",
      "model_module_version": "1.2.0",
      "model_name": "LayoutModel",
      "state": {}
     },
     "aaf393dcb2c44710b57ddea54643949d": {
      "model_module": "@jupyter-widgets/base",
      "model_module_version": "1.2.0",
      "model_name": "LayoutModel",
      "state": {}
     },
     "ab001306aca74646ba2aba3f14b9b2ec": {
      "model_module": "@jupyter-widgets/base",
      "model_module_version": "1.2.0",
      "model_name": "LayoutModel",
      "state": {}
     },
     "ab04db6d34bf4a4a93a03a4f1ff80c5c": {
      "model_module": "@jupyter-widgets/base",
      "model_module_version": "1.2.0",
      "model_name": "LayoutModel",
      "state": {}
     },
     "ab6e5334f1884e398722f72393f64f09": {
      "model_module": "jupyter-vuetify",
      "model_module_version": "^1.5.1",
      "model_name": "ColModel",
      "state": {
       "_events": [],
       "_jupyter_vue": "IPY_MODEL_bc2712ed128d4d47ba50f0f591fcb068",
       "attributes": {},
       "children": [
        "IPY_MODEL_e0899cd36dbe4a80ac24e6706b723b5b"
       ],
       "cols": 10,
       "layout": "IPY_MODEL_3a21fdcde49f4098af03e6e6019c3c94",
       "lg": null,
       "md": null,
       "offset": null,
       "offset_lg": null,
       "offset_md": null,
       "offset_sm": null,
       "offset_xl": null,
       "order": null,
       "order_lg": null,
       "order_md": null,
       "order_sm": null,
       "order_xl": null,
       "sm": null,
       "v_slots": [],
       "xl": null
      }
     },
     "ab977bdabb564571a7fbcad97f712a75": {
      "model_module": "@jupyter-widgets/base",
      "model_module_version": "1.2.0",
      "model_name": "LayoutModel",
      "state": {}
     },
     "ab9cd2da462848d4b0233580e8c7150c": {
      "model_module": "jupyter-vuetify",
      "model_module_version": "^1.5.1",
      "model_name": "CardTextModel",
      "state": {
       "_events": [],
       "_jupyter_vue": "IPY_MODEL_bc2712ed128d4d47ba50f0f591fcb068",
       "attributes": {},
       "children": [
        "lol"
       ],
       "layout": "IPY_MODEL_3d3e3d1b47954e77912154c28863fe5b",
       "v_slots": []
      }
     },
     "aba1e12de8b245c3b2aab7168e200078": {
      "model_module": "@jupyter-widgets/base",
      "model_module_version": "1.2.0",
      "model_name": "LayoutModel",
      "state": {}
     },
     "aba686c89cf84871b182428c17b08569": {
      "model_module": "@jupyter-widgets/base",
      "model_module_version": "1.2.0",
      "model_name": "LayoutModel",
      "state": {}
     },
     "aba68add1cd94d5096260071812fad05": {
      "model_module": "jupyter-vuetify",
      "model_module_version": "^1.5.1",
      "model_name": "BtnModel",
      "state": {
       "_events": [],
       "_jupyter_vue": "IPY_MODEL_bc2712ed128d4d47ba50f0f591fcb068",
       "attributes": {},
       "children": [
        "IPY_MODEL_cd37d92edc424528a1243d8fe8e75a32"
       ],
       "color": "blue",
       "elevation": null,
       "height": null,
       "href": null,
       "layout": "IPY_MODEL_59989311c7ab4fb38a1c0e7f88b60a67",
       "max_height": null,
       "max_width": null,
       "min_height": null,
       "min_width": null,
       "ripple": null,
       "text": true,
       "to": null,
       "v_slots": [],
       "width": null
      }
     },
     "abc0dff82e4b439eb8108dc8cd159815": {
      "model_module": "@jupyter-widgets/base",
      "model_module_version": "1.2.0",
      "model_name": "LayoutModel",
      "state": {}
     },
     "abcf61856db8492f9a9afed1f8fb26ee": {
      "model_module": "@jupyter-widgets/base",
      "model_module_version": "1.2.0",
      "model_name": "LayoutModel",
      "state": {}
     },
     "abd620fcacb74c44bdcb29d00e17a5e2": {
      "model_module": "@jupyter-widgets/base",
      "model_module_version": "1.2.0",
      "model_name": "LayoutModel",
      "state": {}
     },
     "abf7ad3a8bfd493dac17bf6a681d8b5f": {
      "model_module": "@jupyter-widgets/base",
      "model_module_version": "1.2.0",
      "model_name": "LayoutModel",
      "state": {}
     },
     "ac7b8978f0ac4cbc97edd0273936e9e7": {
      "model_module": "@jupyter-widgets/base",
      "model_module_version": "1.2.0",
      "model_name": "LayoutModel",
      "state": {}
     },
     "aca554b99408447488aa357fe8526601": {
      "model_module": "jupyter-vuetify",
      "model_module_version": "^1.5.1",
      "model_name": "HtmlModel",
      "state": {
       "_events": [],
       "_jupyter_vue": "IPY_MODEL_bc2712ed128d4d47ba50f0f591fcb068",
       "_model_module_version": "^1.5.1",
       "_view_module_version": "^1.5.1",
       "attributes": {},
       "children": [
        "SANDAG, Current Estimates (data extracted on: 9/2020)"
       ],
       "layout": "IPY_MODEL_f3114f4e787d46918a3e956ed77211ca",
       "tag": "i",
       "v_slots": []
      }
     },
     "aca8a503b7e3458fad7224cae6d42ee3": {
      "model_module": "@jupyter-widgets/base",
      "model_module_version": "1.2.0",
      "model_name": "LayoutModel",
      "state": {}
     },
     "acd11e8b11504e438a22da365dd03dcf": {
      "model_module": "jupyter-vuetify",
      "model_module_version": "^1.5.1",
      "model_name": "CardTextModel",
      "state": {
       "_events": [],
       "_jupyter_vue": "IPY_MODEL_bc2712ed128d4d47ba50f0f591fcb068",
       "attributes": {},
       "children": [
        "This section informs about the data sources this dashboard uses. All data are publicly accessible."
       ],
       "layout": "IPY_MODEL_e1f716f1c55f429eb20ad9a40f0254ce",
       "v_slots": []
      }
     },
     "acf55ff1ec9444588f1afba1d24482fa": {
      "model_module": "@jupyter-widgets/base",
      "model_module_version": "1.2.0",
      "model_name": "LayoutModel",
      "state": {}
     },
     "ad20a5faaa0c4dee99dfe0d7d06d487e": {
      "model_module": "jupyter-vuetify",
      "model_module_version": "^1.5.1",
      "model_name": "CardActionsModel",
      "state": {
       "_events": [],
       "_jupyter_vue": "IPY_MODEL_bc2712ed128d4d47ba50f0f591fcb068",
       "attributes": {},
       "children": [
        "IPY_MODEL_fdedbc3b901c44e489d13fe32ac5ca29",
        "IPY_MODEL_9cc64ff33b604d79afd337040ad8f555"
       ],
       "layout": "IPY_MODEL_88d810326bdd42fea7e20df1febe850c",
       "v_slots": []
      }
     },
     "ad2dce33b4e5462eb79d0a6c0836d353": {
      "model_module": "@jupyter-widgets/base",
      "model_module_version": "1.2.0",
      "model_name": "LayoutModel",
      "state": {}
     },
     "ad5e6abde8534b98ab407b3041d8abf3": {
      "model_module": "@jupyter-widgets/base",
      "model_module_version": "1.2.0",
      "model_name": "LayoutModel",
      "state": {}
     },
     "ad854749f3644f9596fe243767ddec40": {
      "model_module": "@jupyter-widgets/base",
      "model_module_version": "1.2.0",
      "model_name": "LayoutModel",
      "state": {}
     },
     "adae15fc5bb645409205df9da85d5a29": {
      "model_module": "jupyter-vuetify",
      "model_module_version": "^1.5.1",
      "model_name": "CardActionsModel",
      "state": {
       "_events": [],
       "_jupyter_vue": "IPY_MODEL_bc2712ed128d4d47ba50f0f591fcb068",
       "attributes": {},
       "children": [
        "IPY_MODEL_330cf9412a5846e1b8bed25270e9ff24",
        "IPY_MODEL_7c6d85549c4043f8b10e44f6d749b3cc"
       ],
       "layout": "IPY_MODEL_58d0d942e87544c79e60a492b93b7159",
       "v_slots": []
      }
     },
     "adbe950088564b148bd1c1c649b8e77b": {
      "model_module": "@jupyter-widgets/base",
      "model_module_version": "1.2.0",
      "model_name": "LayoutModel",
      "state": {}
     },
     "add43e5942764e268f1f7d65c16f0b7a": {
      "model_module": "@jupyter-widgets/base",
      "model_module_version": "1.2.0",
      "model_name": "LayoutModel",
      "state": {}
     },
     "addbdf3aa4a349e3953045f203e44528": {
      "model_module": "jupyter-vuetify",
      "model_module_version": "^1.5.1",
      "model_name": "HtmlModel",
      "state": {
       "_events": [],
       "_jupyter_vue": "IPY_MODEL_bc2712ed128d4d47ba50f0f591fcb068",
       "_model_module_version": "^1.5.1",
       "_view_module_version": "^1.5.1",
       "attributes": {
        "href": "https://sandag.org/resources/maps_and_gis/gis_downloads/disclaimer.asp",
        "target": "_blank"
       },
       "children": [
        "SANDAG Disclaimer"
       ],
       "layout": "IPY_MODEL_c0fe5a5222984083a7ec2c074ff06b72",
       "tag": "a",
       "v_slots": []
      }
     },
     "ade47d2b12c84a74b7fa58081b419728": {
      "model_module": "@jupyter-widgets/base",
      "model_module_version": "1.2.0",
      "model_name": "LayoutModel",
      "state": {}
     },
     "adf9011540ac40b99ffb3f90fcb0a4f3": {
      "model_module": "@jupyter-widgets/base",
      "model_module_version": "1.2.0",
      "model_name": "LayoutModel",
      "state": {}
     },
     "ae02a70ae40a4459a862904a943ce722": {
      "model_module": "@jupyter-widgets/base",
      "model_module_version": "1.2.0",
      "model_name": "LayoutModel",
      "state": {}
     },
     "ae1370f231404323ab81bbfc5e7a2d72": {
      "model_module": "jupyter-vuetify",
      "model_module_version": "^1.5.1",
      "model_name": "CardActionsModel",
      "state": {
       "_events": [],
       "_jupyter_vue": "IPY_MODEL_bc2712ed128d4d47ba50f0f591fcb068",
       "attributes": {},
       "children": [
        "IPY_MODEL_c6a116d085a749e4aa24b64c59c52f82",
        "IPY_MODEL_634afbf575944f6f944d5a41caa35b77"
       ],
       "layout": "IPY_MODEL_746b3d86f2894f478ca61eaaa021f5f8",
       "v_slots": []
      }
     },
     "ae977f2a333e45569d48ea442d203b44": {
      "model_module": "jupyter-vuetify",
      "model_module_version": "^1.5.1",
      "model_name": "CardModel",
      "state": {
       "_events": [],
       "_jupyter_vue": "IPY_MODEL_bc2712ed128d4d47ba50f0f591fcb068",
       "attributes": {},
       "children": [
        "IPY_MODEL_535f84a5bfb64ed5aef0546f76dc43bf",
        "IPY_MODEL_5a48ea2ffc7e41c0bdb91d634597a84c",
        "IPY_MODEL_8099297a1a3146bf8e815e42180963ad"
       ],
       "elevation": null,
       "height": null,
       "href": null,
       "layout": "IPY_MODEL_fa3815c981704f6491993fe3033e38c5",
       "loader_height": null,
       "loading": null,
       "max_height": null,
       "max_width": null,
       "min_height": null,
       "min_width": null,
       "ripple": null,
       "to": null,
       "v_slots": [],
       "width": null
      }
     },
     "ae9a6a198f3144b8a52a678073062181": {
      "model_module": "@jupyter-widgets/base",
      "model_module_version": "1.2.0",
      "model_name": "LayoutModel",
      "state": {}
     },
     "aea020a398ae4deb9777e921440ee553": {
      "model_module": "@jupyter-widgets/base",
      "model_module_version": "1.2.0",
      "model_name": "LayoutModel",
      "state": {}
     },
     "aea1fc2b25fb49ce84921731c3410cb8": {
      "model_module": "jupyter-vuetify",
      "model_module_version": "^1.5.1",
      "model_name": "CardTitleModel",
      "state": {
       "_events": [],
       "_jupyter_vue": "IPY_MODEL_bc2712ed128d4d47ba50f0f591fcb068",
       "attributes": {},
       "children": [
        "About the Data"
       ],
       "layout": "IPY_MODEL_94a6ca5e1a4f40c6997055c47a60bf56",
       "v_slots": []
      }
     },
     "aea325be6c5845279f374d22b89e7451": {
      "model_module": "jupyter-vuetify",
      "model_module_version": "^1.5.1",
      "model_name": "BtnModel",
      "state": {
       "_events": [],
       "_jupyter_vue": "IPY_MODEL_bc2712ed128d4d47ba50f0f591fcb068",
       "attributes": {},
       "children": [
        "IPY_MODEL_9adb95c7457f460c93678da353360ce2"
       ],
       "color": "blue",
       "elevation": null,
       "height": null,
       "href": null,
       "layout": "IPY_MODEL_816e994c715948fb9c67fa27521919d5",
       "max_height": null,
       "max_width": null,
       "min_height": null,
       "min_width": null,
       "ripple": null,
       "text": true,
       "to": null,
       "v_slots": [],
       "width": null
      }
     },
     "aea42b76aa6c42cab4576eef0a2ae92f": {
      "model_module": "jupyter-vuetify",
      "model_module_version": "^1.5.1",
      "model_name": "RowModel",
      "state": {
       "_events": [],
       "_jupyter_vue": "IPY_MODEL_bc2712ed128d4d47ba50f0f591fcb068",
       "attributes": {},
       "children": [
        "IPY_MODEL_299a0f7ace254bfea1847fd309f843d7"
       ],
       "dense": true,
       "layout": "IPY_MODEL_b9fc39b47f6c4daebf46f735a6d09929",
       "v_slots": []
      }
     },
     "aeefd3383e1547bb92794f84e1afd67e": {
      "model_module": "jupyter-vuetify",
      "model_module_version": "^1.5.1",
      "model_name": "CardTitleModel",
      "state": {
       "_events": [],
       "_jupyter_vue": "IPY_MODEL_bc2712ed128d4d47ba50f0f591fcb068",
       "attributes": {},
       "children": [
        "ZIP Code Boundaries"
       ],
       "layout": "IPY_MODEL_cb236a78f52748a1861a5242557c66f7",
       "v_slots": []
      }
     },
     "af04f027607b43a7b99be09eb9da333a": {
      "model_module": "jupyter-vuetify",
      "model_module_version": "^1.5.1",
      "model_name": "CardTitleModel",
      "state": {
       "_events": [],
       "_jupyter_vue": "IPY_MODEL_bc2712ed128d4d47ba50f0f591fcb068",
       "attributes": {},
       "children": [
        "Demographic Data"
       ],
       "layout": "IPY_MODEL_28db6a797fe8491ba8ae34c4dc7f2faf",
       "v_slots": []
      }
     },
     "af59e7a698e04235ad44179f0e8c23a1": {
      "model_module": "jupyter-vuetify",
      "model_module_version": "^1.5.1",
      "model_name": "BtnModel",
      "state": {
       "_events": [],
       "_jupyter_vue": "IPY_MODEL_bc2712ed128d4d47ba50f0f591fcb068",
       "attributes": {},
       "children": [
        "IPY_MODEL_cb5da0ee8fde49cda189ff4d9bfead4e"
       ],
       "color": "blue",
       "elevation": null,
       "height": null,
       "href": null,
       "layout": "IPY_MODEL_87cb760536aa45a7b63b1d03ba28de99",
       "max_height": null,
       "max_width": null,
       "min_height": null,
       "min_width": null,
       "ripple": null,
       "text": true,
       "to": null,
       "v_slots": [],
       "width": null
      }
     },
     "af701fa9905a47238daceff67b643729": {
      "model_module": "jupyter-vuetify",
      "model_module_version": "^1.5.1",
      "model_name": "BtnModel",
      "state": {
       "_events": [],
       "_jupyter_vue": "IPY_MODEL_bc2712ed128d4d47ba50f0f591fcb068",
       "attributes": {},
       "children": [
        "IPY_MODEL_18b2c9222ff54860b295467545e780fc"
       ],
       "color": "blue",
       "elevation": null,
       "height": null,
       "href": null,
       "layout": "IPY_MODEL_f7d14f1b09a0415893d8d42d1faa9b10",
       "max_height": null,
       "max_width": null,
       "min_height": null,
       "min_width": null,
       "ripple": null,
       "text": true,
       "to": null,
       "v_slots": [],
       "width": null
      }
     },
     "afb5fc98be7642fbbdd100b70a7ae609": {
      "model_module": "jupyter-vuetify",
      "model_module_version": "^1.5.1",
      "model_name": "CardModel",
      "state": {
       "_events": [],
       "_jupyter_vue": "IPY_MODEL_bc2712ed128d4d47ba50f0f591fcb068",
       "attributes": {},
       "children": [
        "IPY_MODEL_d4a034c893974f5da41e5247bc723cbc",
        "IPY_MODEL_9c9ae9fe2d184c1f82cc5267233539bc"
       ],
       "elevation": null,
       "height": null,
       "href": null,
       "layout": "IPY_MODEL_e733d4b3f15745ac9039db044d1c3184",
       "loader_height": null,
       "loading": null,
       "max_height": null,
       "max_width": null,
       "min_height": null,
       "min_width": null,
       "ripple": null,
       "to": null,
       "v_slots": [],
       "width": null
      }
     },
     "afcf2949f6524b628c21f8897de1b6e4": {
      "model_module": "jupyter-vuetify",
      "model_module_version": "^1.5.1",
      "model_name": "ColModel",
      "state": {
       "_events": [],
       "_jupyter_vue": "IPY_MODEL_bc2712ed128d4d47ba50f0f591fcb068",
       "attributes": {},
       "children": [
        "IPY_MODEL_7bb0f0a55e2148aba2d72e5f12dbe2f2"
       ],
       "cols": 6,
       "layout": "IPY_MODEL_10d2b5fd342c4773be5eca955ea29dfa",
       "lg": null,
       "md": null,
       "offset": null,
       "offset_lg": null,
       "offset_md": null,
       "offset_sm": null,
       "offset_xl": null,
       "order": null,
       "order_lg": null,
       "order_md": null,
       "order_sm": null,
       "order_xl": null,
       "sm": null,
       "v_slots": [],
       "xl": null
      }
     },
     "afd213b1a47849a8bbc7826a8e09735b": {
      "model_module": "@jupyter-widgets/base",
      "model_module_version": "1.2.0",
      "model_name": "LayoutModel",
      "state": {}
     },
     "affe633825714539b2054af973d6d1f8": {
      "model_module": "jupyter-vuetify",
      "model_module_version": "^1.5.1",
      "model_name": "HtmlModel",
      "state": {
       "_events": [],
       "_jupyter_vue": "IPY_MODEL_bc2712ed128d4d47ba50f0f591fcb068",
       "_model_module_version": "^1.5.1",
       "_view_module_version": "^1.5.1",
       "attributes": {
        "href": "https://sandag.org/resources/maps_and_gis/gis_downloads/disclaimer.asp",
        "target": "_blank"
       },
       "children": [
        "Disclaimer"
       ],
       "layout": "IPY_MODEL_29d18b2befe340c48626621417912baa",
       "tag": "a",
       "v_slots": []
      }
     },
     "afff8d0d37de4e549cec752ea64355b3": {
      "model_module": "@jupyter-widgets/base",
      "model_module_version": "1.2.0",
      "model_name": "LayoutModel",
      "state": {}
     },
     "b0092068b0534142a81c86324212078d": {
      "model_module": "@jupyter-widgets/base",
      "model_module_version": "1.2.0",
      "model_name": "LayoutModel",
      "state": {}
     },
     "b00f21c84ee74e37af21490ea0dabaa7": {
      "model_module": "jupyter-vuetify",
      "model_module_version": "^1.5.1",
      "model_name": "CardModel",
      "state": {
       "_events": [],
       "_jupyter_vue": "IPY_MODEL_bc2712ed128d4d47ba50f0f591fcb068",
       "attributes": {},
       "children": [
        "IPY_MODEL_236cda4b54bc4fdb9c7658b25871cede",
        "IPY_MODEL_70ff5c723d4347bfb7a5553ff0408c41"
       ],
       "elevation": null,
       "height": null,
       "href": null,
       "layout": "IPY_MODEL_4ae2ce397607411e830792cf254dcf20",
       "loader_height": null,
       "loading": null,
       "max_height": null,
       "max_width": null,
       "min_height": null,
       "min_width": null,
       "ripple": null,
       "to": null,
       "v_slots": [],
       "width": null
      }
     },
     "b07fa4e8ce1541e0a8ec1a6ca359227b": {
      "model_module": "jupyter-vuetify",
      "model_module_version": "^1.5.1",
      "model_name": "CardTextModel",
      "state": {
       "_events": [],
       "_jupyter_vue": "IPY_MODEL_bc2712ed128d4d47ba50f0f591fcb068",
       "attributes": {},
       "children": [
        "IPY_MODEL_8bcdebc2d1234af381c65209f84ac36b"
       ],
       "layout": "IPY_MODEL_e27165643b904610afc4688a6ddc39ff",
       "v_slots": []
      }
     },
     "b0a2f02832854cfcb0561a8599ae7b6a": {
      "model_module": "@jupyter-widgets/base",
      "model_module_version": "1.2.0",
      "model_name": "LayoutModel",
      "state": {}
     },
     "b0cd54a4b8e0471699416f27fd393aaf": {
      "model_module": "jupyter-vuetify",
      "model_module_version": "^1.5.1",
      "model_name": "HtmlModel",
      "state": {
       "_events": [],
       "_jupyter_vue": "IPY_MODEL_bc2712ed128d4d47ba50f0f591fcb068",
       "_model_module_version": "^1.5.1",
       "_view_module_version": "^1.5.1",
       "attributes": {
        "href": "https://sandag.org/resources/maps_and_gis/gis_downloads/disclaimer.asp",
        "target": "_blank"
       },
       "children": [
        "SANDAG Disclaimer"
       ],
       "layout": "IPY_MODEL_03e4f3de89c24d79b8b75ffb9a4c1567",
       "tag": "a",
       "v_slots": []
      }
     },
     "b0d0565ca6c34bff88bac2195b4d8485": {
      "model_module": "@jupyter-widgets/base",
      "model_module_version": "1.2.0",
      "model_name": "LayoutModel",
      "state": {}
     },
     "b101676af8c147bf88110578073d0f2e": {
      "model_module": "jupyter-vuetify",
      "model_module_version": "^1.5.1",
      "model_name": "RowModel",
      "state": {
       "_events": [],
       "_jupyter_vue": "IPY_MODEL_bc2712ed128d4d47ba50f0f591fcb068",
       "attributes": {},
       "children": [
        "IPY_MODEL_382885d570a24921ba87e3b9aa0e046f",
        "IPY_MODEL_833d490c97394e79a30c6be3c6bd41a7",
        "IPY_MODEL_a9c8fa74a6e74794a91a3f6d87d22a6d"
       ],
       "dense": true,
       "layout": "IPY_MODEL_70b397c72a8540458c96edff7e716b34",
       "v_slots": []
      }
     },
     "b11edc1653d14d739f659f512fa775d6": {
      "model_module": "jupyter-vuetify",
      "model_module_version": "^1.5.1",
      "model_name": "CardTitleModel",
      "state": {
       "_events": [],
       "_jupyter_vue": "IPY_MODEL_bc2712ed128d4d47ba50f0f591fcb068",
       "attributes": {},
       "children": [
        "ZIP Code Boundaries"
       ],
       "layout": "IPY_MODEL_09985651c59c46bd908fc0cfbb6f2dc8",
       "v_slots": []
      }
     },
     "b1266abb8c48490b82ec348eedf035c1": {
      "model_module": "@jupyter-widgets/base",
      "model_module_version": "1.2.0",
      "model_name": "LayoutModel",
      "state": {}
     },
     "b1c54359065f46f0acc5fa6a332aec0a": {
      "model_module": "@jupyter-widgets/base",
      "model_module_version": "1.2.0",
      "model_name": "LayoutModel",
      "state": {}
     },
     "b1ddfef3921b4442bb27661917392ac6": {
      "model_module": "jupyter-vuetify",
      "model_module_version": "^1.5.1",
      "model_name": "CardTitleModel",
      "state": {
       "_events": [],
       "_jupyter_vue": "IPY_MODEL_bc2712ed128d4d47ba50f0f591fcb068",
       "attributes": {},
       "children": [
        "About the Data"
       ],
       "layout": "IPY_MODEL_ad2dce33b4e5462eb79d0a6c0836d353",
       "v_slots": []
      }
     },
     "b206419ce5e14ecfaaed0722efdbac62": {
      "model_module": "jupyter-vuetify",
      "model_module_version": "^1.5.1",
      "model_name": "RowModel",
      "state": {
       "_events": [],
       "_jupyter_vue": "IPY_MODEL_bc2712ed128d4d47ba50f0f591fcb068",
       "attributes": {},
       "children": [
        "IPY_MODEL_a60f454d579f4bda97d32e3c7a467642",
        "IPY_MODEL_3f23ae4a2432454ab179477e74fe5d77",
        "IPY_MODEL_7460ae03505f4ca9ae2abc2be56d0a4f"
       ],
       "dense": true,
       "layout": "IPY_MODEL_bb97a124641e4d9784ae90145cbb1a94",
       "v_slots": []
      }
     },
     "b23f9d3c417c483f8513ea15d9609307": {
      "model_module": "@jupyter-widgets/base",
      "model_module_version": "1.2.0",
      "model_name": "LayoutModel",
      "state": {}
     },
     "b248d724d12a4a8981bf6b6cb82d6405": {
      "model_module": "jupyter-vuetify",
      "model_module_version": "^1.5.1",
      "model_name": "HtmlModel",
      "state": {
       "_events": [],
       "_jupyter_vue": "IPY_MODEL_bc2712ed128d4d47ba50f0f591fcb068",
       "_model_module_version": "^1.5.1",
       "_view_module_version": "^1.5.1",
       "attributes": {
        "href": "https://web.archive.org/web/*/https://www.sandiegocounty.gov/content/dam/sdc/hhsa/programs/phs/Epidemiology/COVID-19%20Summary%20of%20Cases%20by%20Zip%20Code.pdf",
        "target": "_blank"
       },
       "children": [
        "Internet Archive Source"
       ],
       "layout": "IPY_MODEL_36cc79d97e22409ea1fe47877b555a39",
       "tag": "a",
       "v_slots": []
      }
     },
     "b25ead985aa040cfb78a54c0204dede1": {
      "model_module": "@jupyter-widgets/base",
      "model_module_version": "1.2.0",
      "model_name": "LayoutModel",
      "state": {}
     },
     "b264ff2e7de644a6bcac510a67682f32": {
      "model_module": "jupyter-vuetify",
      "model_module_version": "^1.5.1",
      "model_name": "CardActionsModel",
      "state": {
       "_events": [],
       "_jupyter_vue": "IPY_MODEL_bc2712ed128d4d47ba50f0f591fcb068",
       "attributes": {},
       "children": [
        "IPY_MODEL_32b874dc89214f20a044561ddc4e6fe0"
       ],
       "layout": "IPY_MODEL_0ebe5d8dc6de41b3b01905d4518c4874",
       "v_slots": []
      }
     },
     "b2a7c48c2ea242128e2a1e40f6b70f3f": {
      "model_module": "jupyter-vuetify",
      "model_module_version": "^1.5.1",
      "model_name": "CardTextModel",
      "state": {
       "_events": [],
       "_jupyter_vue": "IPY_MODEL_bc2712ed128d4d47ba50f0f591fcb068",
       "attributes": {},
       "children": [
        "The ZIP code boundaries shown in all maps are taken from the SANDAG/SanGIS Open Data Portal."
       ],
       "layout": "IPY_MODEL_45b4e0054e724f45883ce4cf4cbe0550",
       "v_slots": []
      }
     },
     "b32109e447a145c19a260f5713368393": {
      "model_module": "jupyter-vuetify",
      "model_module_version": "^1.5.1",
      "model_name": "CardActionsModel",
      "state": {
       "_events": [],
       "_jupyter_vue": "IPY_MODEL_bc2712ed128d4d47ba50f0f591fcb068",
       "attributes": {},
       "children": [
        "IPY_MODEL_f34f80e1ea524cdf867b6eae025ec323"
       ],
       "layout": "IPY_MODEL_cb7bfac7587145be8c92b7bf994be491",
       "v_slots": []
      }
     },
     "b329d93461e440c3ba13a29085892bcc": {
      "model_module": "jupyter-vuetify",
      "model_module_version": "^1.5.1",
      "model_name": "CardModel",
      "state": {
       "_events": [],
       "_jupyter_vue": "IPY_MODEL_bc2712ed128d4d47ba50f0f591fcb068",
       "attributes": {},
       "children": [
        "IPY_MODEL_7d14bf870f1240a18c874cbf7b1570b9",
        "IPY_MODEL_ddbc1e418c54424ab1c2acee75df734c",
        "IPY_MODEL_12e81644591140d495341b9282dc1ad4"
       ],
       "elevation": null,
       "height": null,
       "href": null,
       "layout": "IPY_MODEL_63a1f24656dc415482573d95386172f3",
       "loader_height": null,
       "loading": null,
       "max_height": null,
       "max_width": null,
       "min_height": null,
       "min_width": null,
       "ripple": null,
       "to": null,
       "v_slots": [],
       "width": null
      }
     },
     "b333fc0ff40e4f4fa5fec0d1436fc296": {
      "model_module": "@jupyter-widgets/base",
      "model_module_version": "1.2.0",
      "model_name": "LayoutModel",
      "state": {}
     },
     "b3572214dfc743b49865e94594a6a00e": {
      "model_module": "@jupyter-widgets/base",
      "model_module_version": "1.2.0",
      "model_name": "LayoutModel",
      "state": {}
     },
     "b364d2393b4347f199477fb8dfb4e330": {
      "model_module": "jupyter-vuetify",
      "model_module_version": "^1.5.1",
      "model_name": "CardTitleModel",
      "state": {
       "_events": [],
       "_jupyter_vue": "IPY_MODEL_bc2712ed128d4d47ba50f0f591fcb068",
       "attributes": {},
       "children": [
        "About the Data"
       ],
       "layout": "IPY_MODEL_94cea8374e1e4587b8d86de9b0632b07",
       "v_slots": []
      }
     },
     "b371818c7cd2446aa397f6ce8cf5b4e1": {
      "model_module": "jupyter-vuetify",
      "model_module_version": "^1.5.1",
      "model_name": "CardTitleModel",
      "state": {
       "_events": [],
       "_jupyter_vue": "IPY_MODEL_bc2712ed128d4d47ba50f0f591fcb068",
       "attributes": {},
       "children": [
        "About the Data"
       ],
       "layout": "IPY_MODEL_4a76ea6c5d654947b5703604b71dc990",
       "v_slots": []
      }
     },
     "b384b1d6c2494a69bd17abdbcad800c3": {
      "model_module": "@jupyter-widgets/base",
      "model_module_version": "1.2.0",
      "model_name": "LayoutModel",
      "state": {}
     },
     "b3c888ed032f4374829016e2dbdba67e": {
      "model_module": "jupyter-vuetify",
      "model_module_version": "^1.5.1",
      "model_name": "CardTextModel",
      "state": {
       "_events": [],
       "_jupyter_vue": "IPY_MODEL_bc2712ed128d4d47ba50f0f591fcb068",
       "attributes": {},
       "children": [
        "This section informs about the data sources this dashboard uses. All data are publicly accessible."
       ],
       "layout": "IPY_MODEL_dc5bec1737864aa3bc5683f9d8618ff6",
       "v_slots": []
      }
     },
     "b3da3cb090e7489eaa3f442b6e7bc1cb": {
      "model_module": "@jupyter-widgets/base",
      "model_module_version": "1.2.0",
      "model_name": "LayoutModel",
      "state": {}
     },
     "b4015e41650e42b6b8039e81daa2f52c": {
      "model_module": "jupyter-vuetify",
      "model_module_version": "^1.5.1",
      "model_name": "CardTitleModel",
      "state": {
       "_events": [],
       "_jupyter_vue": "IPY_MODEL_bc2712ed128d4d47ba50f0f591fcb068",
       "attributes": {},
       "children": [
        "ZIP Code Boundaries"
       ],
       "layout": "IPY_MODEL_01791ffeb6e044d2a045fdf1e91882d1",
       "v_slots": []
      }
     },
     "b4075693b30d48928d9e302b4415d808": {
      "model_module": "jupyter-vuetify",
      "model_module_version": "^1.5.1",
      "model_name": "ContainerModel",
      "state": {
       "_events": [],
       "_jupyter_vue": "IPY_MODEL_bc2712ed128d4d47ba50f0f591fcb068",
       "attributes": {},
       "children": [
        "IPY_MODEL_39841937a13a44fabeb9c4376b1382f4"
       ],
       "fluid": true,
       "layout": "IPY_MODEL_ddfa857dfa7148ef8b7ae8a9cf88d881",
       "v_slots": []
      }
     },
     "b411d076e3ae4a06964f02038c65d7c0": {
      "model_module": "@jupyter-widgets/base",
      "model_module_version": "1.2.0",
      "model_name": "LayoutModel",
      "state": {}
     },
     "b418ee8adb9d4d4b959597e2e38f410b": {
      "model_module": "jupyter-vuetify",
      "model_module_version": "^1.5.1",
      "model_name": "CardTextModel",
      "state": {
       "_events": [],
       "_jupyter_vue": "IPY_MODEL_bc2712ed128d4d47ba50f0f591fcb068",
       "attributes": {},
       "children": [
        "The ZIP code boundaries shown in all maps are taken from the SANDAG/SanGIS Open Data Portal."
       ],
       "layout": "IPY_MODEL_84239a27c5354ea3b17010127be7ed71",
       "v_slots": []
      }
     },
     "b42d385f3cb24726b1e22d386f8029ec": {
      "model_module": "jupyter-vuetify",
      "model_module_version": "^1.5.1",
      "model_name": "CardTextModel",
      "state": {
       "_events": [],
       "_jupyter_vue": "IPY_MODEL_bc2712ed128d4d47ba50f0f591fcb068",
       "attributes": {},
       "children": [
        "This section informs about the sources of the data that are used in this dashboard."
       ],
       "layout": "IPY_MODEL_dff36fa9b9644f36bc7c3c46b874e292",
       "v_slots": []
      }
     },
     "b443a807cddc4f45bf748a4907acf9c4": {
      "model_module": "@jupyter-widgets/base",
      "model_module_version": "1.2.0",
      "model_name": "LayoutModel",
      "state": {}
     },
     "b44755b25df24603bd886aa30de43743": {
      "model_module": "@jupyter-widgets/base",
      "model_module_version": "1.2.0",
      "model_name": "LayoutModel",
      "state": {}
     },
     "b44b7751059f4253a818dee86091d746": {
      "model_module": "@jupyter-widgets/base",
      "model_module_version": "1.2.0",
      "model_name": "LayoutModel",
      "state": {}
     },
     "b467231f394040a4af5eb71d6504c19b": {
      "model_module": "jupyter-vuetify",
      "model_module_version": "^1.5.1",
      "model_name": "CardTitleModel",
      "state": {
       "_events": [],
       "_jupyter_vue": "IPY_MODEL_bc2712ed128d4d47ba50f0f591fcb068",
       "attributes": {},
       "children": [
        "ZIP Codes"
       ],
       "layout": "IPY_MODEL_0a5b40d89f0944cdb786ef1fc902f502",
       "v_slots": []
      }
     },
     "b47fd0e151564708aefc2d95fa6218e2": {
      "model_module": "@jupyter-widgets/base",
      "model_module_version": "1.2.0",
      "model_name": "LayoutModel",
      "state": {}
     },
     "b4af4887e098433aba3bd8e17d162e04": {
      "model_module": "@jupyter-widgets/base",
      "model_module_version": "1.2.0",
      "model_name": "LayoutModel",
      "state": {}
     },
     "b4d56f02555d4dfcb44300b6b7ed8f8e": {
      "model_module": "@jupyter-widgets/base",
      "model_module_version": "1.2.0",
      "model_name": "LayoutModel",
      "state": {}
     },
     "b505452905904c2abaf0e90ef30c0f78": {
      "model_module": "jupyter-vuetify",
      "model_module_version": "^1.5.1",
      "model_name": "ColModel",
      "state": {
       "_events": [],
       "_jupyter_vue": "IPY_MODEL_bc2712ed128d4d47ba50f0f591fcb068",
       "attributes": {},
       "children": [
        "IPY_MODEL_b00f21c84ee74e37af21490ea0dabaa7"
       ],
       "cols": 6,
       "layout": "IPY_MODEL_eee571fa9ff845ec8a1595ea4c5ba84f",
       "lg": null,
       "md": null,
       "offset": null,
       "offset_lg": null,
       "offset_md": null,
       "offset_sm": null,
       "offset_xl": null,
       "order": null,
       "order_lg": null,
       "order_md": null,
       "order_sm": null,
       "order_xl": null,
       "sm": null,
       "v_slots": [],
       "xl": null
      }
     },
     "b50997b11cd8464ca73f6860e04abfb5": {
      "model_module": "jupyter-vuetify",
      "model_module_version": "^1.5.1",
      "model_name": "CardModel",
      "state": {
       "_events": [],
       "_jupyter_vue": "IPY_MODEL_bc2712ed128d4d47ba50f0f591fcb068",
       "attributes": {},
       "children": [
        "IPY_MODEL_7085720249e2421ab248c4304cd9c762",
        "IPY_MODEL_685c058ea1dd4872940bdfeb3302d488"
       ],
       "elevation": null,
       "height": null,
       "href": null,
       "layout": "IPY_MODEL_591280ea71de4365a38735553195d20f",
       "loader_height": null,
       "loading": null,
       "max_height": null,
       "max_width": null,
       "min_height": null,
       "min_width": null,
       "ripple": null,
       "to": null,
       "v_slots": [],
       "width": null
      }
     },
     "b523960c25a34782b39300b78ab177c3": {
      "model_module": "jupyter-vuetify",
      "model_module_version": "^1.5.1",
      "model_name": "CardTitleModel",
      "state": {
       "_events": [],
       "_jupyter_vue": "IPY_MODEL_bc2712ed128d4d47ba50f0f591fcb068",
       "attributes": {},
       "children": [
        "Covid-19 Case Data"
       ],
       "layout": "IPY_MODEL_34ca2deae49c4bb5833163f509f154ac",
       "v_slots": []
      }
     },
     "b526785e5a7146e5912e8738bcdc18d1": {
      "model_module": "@jupyter-widgets/base",
      "model_module_version": "1.2.0",
      "model_name": "LayoutModel",
      "state": {}
     },
     "b539ed60c3ef412b850ff43947a7ae2c": {
      "model_module": "jupyter-vuetify",
      "model_module_version": "^1.5.1",
      "model_name": "CardModel",
      "state": {
       "_events": [],
       "_jupyter_vue": "IPY_MODEL_bc2712ed128d4d47ba50f0f591fcb068",
       "attributes": {},
       "children": [
        "IPY_MODEL_aea1fc2b25fb49ce84921731c3410cb8",
        "IPY_MODEL_33e08f2ab18c4aa18e598f52febcf9d2"
       ],
       "elevation": null,
       "height": null,
       "href": null,
       "layout": "IPY_MODEL_a296ea1b4458407b9a60a5fd6e15efcb",
       "loader_height": null,
       "loading": null,
       "max_height": null,
       "max_width": null,
       "min_height": null,
       "min_width": null,
       "ripple": null,
       "to": null,
       "v_slots": [],
       "width": null
      }
     },
     "b54dd3bac05d496d869d47f82e31a237": {
      "model_module": "jupyter-vuetify",
      "model_module_version": "^1.5.1",
      "model_name": "CardModel",
      "state": {
       "_events": [],
       "_jupyter_vue": "IPY_MODEL_bc2712ed128d4d47ba50f0f591fcb068",
       "attributes": {},
       "children": [
        "IPY_MODEL_d53f98bcd47348b3bff7999bf983c26c",
        "IPY_MODEL_04aeb4ed1e1b46c88acebbe8faf3bea0"
       ],
       "elevation": null,
       "height": null,
       "href": null,
       "layout": "IPY_MODEL_f10e5709cebc469fad01bf7fa386aeca",
       "loader_height": null,
       "loading": null,
       "max_height": null,
       "max_width": null,
       "min_height": null,
       "min_width": null,
       "ripple": null,
       "to": null,
       "v_slots": [],
       "width": null
      }
     },
     "b5590f588f4b46529489701fc3518651": {
      "model_module": "jupyter-vuetify",
      "model_module_version": "^1.5.1",
      "model_name": "CardTextModel",
      "state": {
       "_events": [],
       "_jupyter_vue": "IPY_MODEL_bc2712ed128d4d47ba50f0f591fcb068",
       "attributes": {},
       "children": [
        "IPY_MODEL_7fbfdaaed218409aae54497605a923e9",
        "IPY_MODEL_55afa5bdacb2404d80999f5b871c6abb"
       ],
       "layout": "IPY_MODEL_7051109a87944cc6baf83c55e4099703",
       "v_slots": []
      }
     },
     "b59b449ef4cd452f9d1137825d35eaa9": {
      "model_module": "@jupyter-widgets/base",
      "model_module_version": "1.2.0",
      "model_name": "LayoutModel",
      "state": {}
     },
     "b5c00e52b6e943c5b33f8be065430042": {
      "model_module": "jupyter-vuetify",
      "model_module_version": "^1.5.1",
      "model_name": "CardTitleModel",
      "state": {
       "_events": [],
       "_jupyter_vue": "IPY_MODEL_bc2712ed128d4d47ba50f0f591fcb068",
       "attributes": {},
       "children": [
        "ZIP Codes"
       ],
       "layout": "IPY_MODEL_e6613a62f2364b898e9ccf8092969645",
       "v_slots": []
      }
     },
     "b5c19eb1fa2c42f5b5fc1f94f7735e25": {
      "model_module": "@jupyter-widgets/base",
      "model_module_version": "1.2.0",
      "model_name": "LayoutModel",
      "state": {}
     },
     "b5dc599415334d829c9f56316d9f640f": {
      "model_module": "jupyter-vuetify",
      "model_module_version": "^1.5.1",
      "model_name": "CardTextModel",
      "state": {
       "_events": [],
       "_jupyter_vue": "IPY_MODEL_bc2712ed128d4d47ba50f0f591fcb068",
       "attributes": {},
       "children": [
        "The ZIP code boundaries shown in all maps are taken from the SANDAG/SanGIS Open Data Portal."
       ],
       "layout": "IPY_MODEL_229d8fdfdcd543e086462f34aa9712d1",
       "v_slots": []
      }
     },
     "b5fb0953f7574e50b1e43bc00dbf5af6": {
      "model_module": "@jupyter-widgets/base",
      "model_module_version": "1.2.0",
      "model_name": "LayoutModel",
      "state": {}
     },
     "b6643eb99f194e2ebc845f7519fcdc7b": {
      "model_module": "@jupyter-widgets/base",
      "model_module_version": "1.2.0",
      "model_name": "LayoutModel",
      "state": {}
     },
     "b665dbf837d649e9851a5baab444752b": {
      "model_module": "jupyter-vuetify",
      "model_module_version": "^1.5.1",
      "model_name": "HtmlModel",
      "state": {
       "_events": [],
       "_jupyter_vue": "IPY_MODEL_bc2712ed128d4d47ba50f0f591fcb068",
       "_model_module_version": "^1.5.1",
       "_view_module_version": "^1.5.1",
       "attributes": {
        "href": "https://sandag.org/resources/maps_and_gis/gis_downloads/disclaimer.asp",
        "target": "_blank"
       },
       "children": [
        "Disclaimer"
       ],
       "layout": "IPY_MODEL_2c9c027b5bdf4ec48e6eb34a930a279d",
       "tag": "a",
       "v_slots": []
      }
     },
     "b67bc0366e3f43d4a43fc9662c780240": {
      "model_module": "jupyter-vuetify",
      "model_module_version": "^1.5.1",
      "model_name": "HtmlModel",
      "state": {
       "_events": [],
       "_jupyter_vue": "IPY_MODEL_bc2712ed128d4d47ba50f0f591fcb068",
       "_model_module_version": "^1.5.1",
       "_view_module_version": "^1.5.1",
       "attributes": {
        "href": "https://web.archive.org/web/*/https://www.sandiegocounty.gov/content/dam/sdc/hhsa/programs/phs/Epidemiology/COVID-19%20Summary%20of%20Cases%20by%20Zip%20Code.pdf",
        "target": "_blank"
       },
       "children": [
        "Data Source"
       ],
       "layout": "IPY_MODEL_0279e7eb365a488bbcdcd2e77327d4d1",
       "tag": "a",
       "v_slots": []
      }
     },
     "b6b93596247d49cd96c651df8e0aed98": {
      "model_module": "jupyter-vuetify",
      "model_module_version": "^1.5.1",
      "model_name": "ColModel",
      "state": {
       "_events": [],
       "_jupyter_vue": "IPY_MODEL_bc2712ed128d4d47ba50f0f591fcb068",
       "attributes": {},
       "children": [
        "IPY_MODEL_33c2fbaf548b472d906c6788b6cca815"
       ],
       "cols": 12,
       "layout": "IPY_MODEL_1286d04812cd486e9ff4db38f7d187aa",
       "lg": null,
       "md": null,
       "offset": null,
       "offset_lg": null,
       "offset_md": null,
       "offset_sm": null,
       "offset_xl": null,
       "order": null,
       "order_lg": null,
       "order_md": null,
       "order_sm": null,
       "order_xl": null,
       "sm": null,
       "v_slots": [],
       "xl": null
      }
     },
     "b70145ea7d564de980127547ff9e01aa": {
      "model_module": "jupyter-vuetify",
      "model_module_version": "^1.5.1",
      "model_name": "CardTitleModel",
      "state": {
       "_events": [],
       "_jupyter_vue": "IPY_MODEL_bc2712ed128d4d47ba50f0f591fcb068",
       "attributes": {},
       "children": [
        "Covid-19 Case Data"
       ],
       "layout": "IPY_MODEL_aaf393dcb2c44710b57ddea54643949d",
       "v_slots": []
      }
     },
     "b7326069e62e492287237f7f2e2cae50": {
      "model_module": "jupyter-vuetify",
      "model_module_version": "^1.5.1",
      "model_name": "CardActionsModel",
      "state": {
       "_events": [],
       "_jupyter_vue": "IPY_MODEL_bc2712ed128d4d47ba50f0f591fcb068",
       "attributes": {},
       "children": [
        "IPY_MODEL_6da5234d95e44946ad04a51f42c109ec",
        "IPY_MODEL_58bef332ad7b47a78c5a2eefad576d52"
       ],
       "layout": "IPY_MODEL_663478e9bc2a407fa7b52266793e76ff",
       "v_slots": []
      }
     },
     "b75e3fc5e6fd47ccaf3bc553f150caf8": {
      "model_module": "jupyter-vuetify",
      "model_module_version": "^1.5.1",
      "model_name": "CardActionsModel",
      "state": {
       "_events": [],
       "_jupyter_vue": "IPY_MODEL_bc2712ed128d4d47ba50f0f591fcb068",
       "attributes": {},
       "children": [
        "IPY_MODEL_430ad45054c24dd790809f1e1cffc984"
       ],
       "layout": "IPY_MODEL_db4797d573054690bc7ffab83e4bb854",
       "v_slots": []
      }
     },
     "b761a31130924e0abfce333f20e57fb8": {
      "model_module": "jupyter-vuetify",
      "model_module_version": "^1.5.1",
      "model_name": "ColModel",
      "state": {
       "_events": [],
       "_jupyter_vue": "IPY_MODEL_bc2712ed128d4d47ba50f0f591fcb068",
       "attributes": {},
       "children": [
        "IPY_MODEL_e02d5c87e1d94849b50593c0210749fd"
       ],
       "cols": 6,
       "layout": "IPY_MODEL_4d0ec834c9d0428e927da91ceabfc649",
       "lg": null,
       "md": null,
       "offset": null,
       "offset_lg": null,
       "offset_md": null,
       "offset_sm": null,
       "offset_xl": null,
       "order": null,
       "order_lg": null,
       "order_md": null,
       "order_sm": null,
       "order_xl": null,
       "sm": null,
       "v_slots": [],
       "xl": null
      }
     },
     "b763d866422141e0850b7dea74e50263": {
      "model_module": "jupyter-vuetify",
      "model_module_version": "^1.5.1",
      "model_name": "BtnModel",
      "state": {
       "_events": [],
       "_jupyter_vue": "IPY_MODEL_bc2712ed128d4d47ba50f0f591fcb068",
       "attributes": {},
       "children": [
        "IPY_MODEL_28ec1ac6e3a7489f9b2fcebff7ec86bd"
       ],
       "color": "blue",
       "elevation": null,
       "height": null,
       "href": null,
       "layout": "IPY_MODEL_484c6a82d8f24dc79e3e8ec5fb8daa91",
       "max_height": null,
       "max_width": null,
       "min_height": null,
       "min_width": null,
       "ripple": null,
       "text": true,
       "to": null,
       "v_slots": [],
       "width": null
      }
     },
     "b7894d90db3c4f7799715bebc30dd801": {
      "model_module": "@jupyter-widgets/base",
      "model_module_version": "1.2.0",
      "model_name": "LayoutModel",
      "state": {}
     },
     "b7a3f9f4fa62460da63a0b5d1cf9c78c": {
      "model_module": "@jupyter-widgets/base",
      "model_module_version": "1.2.0",
      "model_name": "LayoutModel",
      "state": {}
     },
     "b7c1f678567f4a32b27d8ba5d316c73b": {
      "model_module": "@jupyter-widgets/base",
      "model_module_version": "1.2.0",
      "model_name": "LayoutModel",
      "state": {}
     },
     "b7f4984812ce499999622824b106a814": {
      "model_module": "jupyter-vuetify",
      "model_module_version": "^1.5.1",
      "model_name": "RowModel",
      "state": {
       "_events": [],
       "_jupyter_vue": "IPY_MODEL_bc2712ed128d4d47ba50f0f591fcb068",
       "attributes": {},
       "children": [
        "IPY_MODEL_e89f671dc6cf40d18e8171e10cc28765",
        "IPY_MODEL_9048c920c2b144e1803ef887717bbf6f",
        "IPY_MODEL_e377d529a290496a8cf9a1ac0c6efb48"
       ],
       "dense": true,
       "layout": "IPY_MODEL_2867e964a6124121aab6f0ba1b4d450f",
       "v_slots": []
      }
     },
     "b80ae1b5a5ac4262b9748b1e7b2b523d": {
      "model_module": "jupyter-vuetify",
      "model_module_version": "^1.5.1",
      "model_name": "CardTitleModel",
      "state": {
       "_events": [],
       "_jupyter_vue": "IPY_MODEL_bc2712ed128d4d47ba50f0f591fcb068",
       "attributes": {},
       "children": [
        "ZIP Code Boundaries"
       ],
       "layout": "IPY_MODEL_a9e0d1c402834af9bbb4839e0ea86780",
       "v_slots": []
      }
     },
     "b813200dd34645338b68d9a11b3a01d4": {
      "model_module": "@jupyter-widgets/base",
      "model_module_version": "1.2.0",
      "model_name": "LayoutModel",
      "state": {}
     },
     "b81e8941c8c8482dafaaac543507e2ad": {
      "model_module": "@jupyter-widgets/base",
      "model_module_version": "1.2.0",
      "model_name": "LayoutModel",
      "state": {}
     },
     "b824c47909a947929dd60db0be2cd00c": {
      "model_module": "jupyter-vuetify",
      "model_module_version": "^1.5.1",
      "model_name": "CardTitleModel",
      "state": {
       "_events": [],
       "_jupyter_vue": "IPY_MODEL_bc2712ed128d4d47ba50f0f591fcb068",
       "attributes": {},
       "children": [
        "About the Data"
       ],
       "layout": "IPY_MODEL_5ce391b23fae41c7b4cc302231138e8e",
       "v_slots": []
      }
     },
     "b8430fb9541c43f6a347415dd2f8f119": {
      "model_module": "@jupyter-widgets/base",
      "model_module_version": "1.2.0",
      "model_name": "LayoutModel",
      "state": {}
     },
     "b84ea5891ed844f4b85e26787cdd1f28": {
      "model_module": "@jupyter-widgets/base",
      "model_module_version": "1.2.0",
      "model_name": "LayoutModel",
      "state": {}
     },
     "b857a10c0da34d109971b917fede4e7e": {
      "model_module": "jupyter-vuetify",
      "model_module_version": "^1.5.1",
      "model_name": "ContainerModel",
      "state": {
       "_events": [],
       "_jupyter_vue": "IPY_MODEL_bc2712ed128d4d47ba50f0f591fcb068",
       "attributes": {},
       "children": [
        "IPY_MODEL_15f074ad9d92442b9f17e331b05652d4"
       ],
       "fluid": true,
       "layout": "IPY_MODEL_7492014bfef245b4bbed27f7d9f3b4e6",
       "v_slots": []
      }
     },
     "b8819ef20c654684b0ea3ba835d096fc": {
      "model_module": "jupyter-vuetify",
      "model_module_version": "^1.5.1",
      "model_name": "HtmlModel",
      "state": {
       "_events": [],
       "_jupyter_vue": "IPY_MODEL_bc2712ed128d4d47ba50f0f591fcb068",
       "_model_module_version": "^1.5.1",
       "_view_module_version": "^1.5.1",
       "attributes": {},
       "children": [
        "lol"
       ],
       "class_": "text-h3",
       "layout": "IPY_MODEL_28ce667eb0584c1b94a204b836e595ab",
       "tag": "div",
       "v_slots": []
      }
     },
     "b89c5a30bd7a44adbb444b89aa31e2a9": {
      "model_module": "@jupyter-widgets/base",
      "model_module_version": "1.2.0",
      "model_name": "LayoutModel",
      "state": {}
     },
     "b8a02b1f07004b9fb0505497801506a9": {
      "model_module": "jupyter-vuetify",
      "model_module_version": "^1.5.1",
      "model_name": "CardTextModel",
      "state": {
       "_events": [],
       "_jupyter_vue": "IPY_MODEL_bc2712ed128d4d47ba50f0f591fcb068",
       "attributes": {},
       "children": [
        "Population counts and other demographic traits have been received from the SANDAG Data Surfer.",
        "IPY_MODEL_ffffc7340ae2468d9ade8b1bafa9b386"
       ],
       "layout": "IPY_MODEL_bd8f223b3d7543b99930e29e68b31c0c",
       "v_slots": []
      }
     },
     "b8a138f79ca34f61afdf645d4af078e4": {
      "model_module": "@jupyter-widgets/base",
      "model_module_version": "1.2.0",
      "model_name": "LayoutModel",
      "state": {}
     },
     "b8cc6e1987ac4de5bff00167bb605865": {
      "model_module": "jupyter-vuetify",
      "model_module_version": "^1.5.1",
      "model_name": "ColModel",
      "state": {
       "_events": [],
       "_jupyter_vue": "IPY_MODEL_bc2712ed128d4d47ba50f0f591fcb068",
       "attributes": {},
       "children": [
        "IPY_MODEL_40094efb7a4a454598a37891a8ed0050"
       ],
       "cols": 6,
       "layout": "IPY_MODEL_44ae20872a3545858c5c62e95a1c381a",
       "lg": null,
       "md": null,
       "offset": null,
       "offset_lg": null,
       "offset_md": null,
       "offset_sm": null,
       "offset_xl": null,
       "order": null,
       "order_lg": null,
       "order_md": null,
       "order_sm": null,
       "order_xl": null,
       "sm": null,
       "v_slots": [],
       "xl": null
      }
     },
     "b8ddeb26390b4196ae66e343942c77ee": {
      "model_module": "@jupyter-widgets/base",
      "model_module_version": "1.2.0",
      "model_name": "LayoutModel",
      "state": {}
     },
     "b92c7d171ca2471c9974822fd1398a29": {
      "model_module": "@jupyter-widgets/base",
      "model_module_version": "1.2.0",
      "model_name": "LayoutModel",
      "state": {}
     },
     "b92dea32748b4d24a702f837f9012144": {
      "model_module": "@jupyter-widgets/base",
      "model_module_version": "1.2.0",
      "model_name": "LayoutModel",
      "state": {}
     },
     "b931ee8fe3e348a98d25556cf5c564d1": {
      "model_module": "jupyter-vuetify",
      "model_module_version": "^1.5.1",
      "model_name": "ColModel",
      "state": {
       "_events": [],
       "_jupyter_vue": "IPY_MODEL_bc2712ed128d4d47ba50f0f591fcb068",
       "attributes": {},
       "children": [
        "IPY_MODEL_e581e8f31ff54f33abd3a26c2abed615"
       ],
       "cols": 12,
       "layout": "IPY_MODEL_54c3e44e477d402094a707530bd50681",
       "lg": null,
       "md": null,
       "offset": null,
       "offset_lg": null,
       "offset_md": null,
       "offset_sm": null,
       "offset_xl": null,
       "order": null,
       "order_lg": null,
       "order_md": null,
       "order_sm": null,
       "order_xl": null,
       "sm": null,
       "v_slots": [],
       "xl": null
      }
     },
     "b9ea1ba3a3b14417a12ce427f0f07d2f": {
      "model_module": "jupyter-vuetify",
      "model_module_version": "^1.5.1",
      "model_name": "CardTextModel",
      "state": {
       "_events": [],
       "_jupyter_vue": "IPY_MODEL_bc2712ed128d4d47ba50f0f591fcb068",
       "attributes": {},
       "children": [
        "The ZIP code boundaries shown in all maps are taken from the SANDAG/SanGIS Open Data Portal."
       ],
       "layout": "IPY_MODEL_f8e5e45e19ad4248afea0b7b0d82715f",
       "v_slots": []
      }
     },
     "b9fc39b47f6c4daebf46f735a6d09929": {
      "model_module": "@jupyter-widgets/base",
      "model_module_version": "1.2.0",
      "model_name": "LayoutModel",
      "state": {}
     },
     "ba0516cb65b34d58bb466fe3370e342f": {
      "model_module": "@jupyter-widgets/base",
      "model_module_version": "1.2.0",
      "model_name": "LayoutModel",
      "state": {}
     },
     "ba0bdb66f7ac4502875efa2e5b94629f": {
      "model_module": "jupyter-vuetify",
      "model_module_version": "^1.5.1",
      "model_name": "HtmlModel",
      "state": {
       "_events": [],
       "_jupyter_vue": "IPY_MODEL_bc2712ed128d4d47ba50f0f591fcb068",
       "_model_module_version": "^1.5.1",
       "_view_module_version": "^1.5.1",
       "attributes": {
        "href": "https://www.sandiegocounty.gov/content/sdc/hhsa/programs/phs/community_epidemiology/dc/2019-nCoV/status.html",
        "target": "_blank"
       },
       "children": [
        "County of San Diego"
       ],
       "layout": "IPY_MODEL_45394a7e9b404134ab7831d40c454366",
       "tag": "a",
       "v_slots": []
      }
     },
     "ba356336c6274abd9bdd2ca93449eccf": {
      "model_module": "jupyter-vuetify",
      "model_module_version": "^1.5.1",
      "model_name": "ContainerModel",
      "state": {
       "_events": [],
       "_jupyter_vue": "IPY_MODEL_bc2712ed128d4d47ba50f0f591fcb068",
       "attributes": {},
       "children": [
        "IPY_MODEL_c4656642911e43b1988a0e6d2278b030"
       ],
       "fluid": true,
       "layout": "IPY_MODEL_46ad152ffa5d45d0a1b2690a539760c9",
       "v_slots": []
      }
     },
     "ba50bf6a490e400c979b32851aa7f304": {
      "model_module": "@jupyter-widgets/base",
      "model_module_version": "1.2.0",
      "model_name": "LayoutModel",
      "state": {}
     },
     "ba620a94322f45dc86e97dac43cbf0fe": {
      "model_module": "jupyter-vuetify",
      "model_module_version": "^1.5.1",
      "model_name": "ColModel",
      "state": {
       "_events": [],
       "_jupyter_vue": "IPY_MODEL_bc2712ed128d4d47ba50f0f591fcb068",
       "attributes": {},
       "children": [
        "IPY_MODEL_1d2c4c2621b0401fbf8c290a304f6871"
       ],
       "cols": 6,
       "layout": "IPY_MODEL_29cd4ae70722454facd01a6331875d0a",
       "lg": null,
       "md": null,
       "offset": null,
       "offset_lg": null,
       "offset_md": null,
       "offset_sm": null,
       "offset_xl": null,
       "order": null,
       "order_lg": null,
       "order_md": null,
       "order_sm": null,
       "order_xl": null,
       "sm": null,
       "v_slots": [],
       "xl": null
      }
     },
     "ba69de82164d470e8f203acfc5b42b4c": {
      "model_module": "@jupyter-widgets/base",
      "model_module_version": "1.2.0",
      "model_name": "LayoutModel",
      "state": {}
     },
     "ba724aef1fd54d20846bb16ac0c94f03": {
      "model_module": "jupyter-vuetify",
      "model_module_version": "^1.5.1",
      "model_name": "HtmlModel",
      "state": {
       "_events": [],
       "_jupyter_vue": "IPY_MODEL_bc2712ed128d4d47ba50f0f591fcb068",
       "_model_module_version": "^1.5.1",
       "_view_module_version": "^1.5.1",
       "attributes": {},
       "children": [
        "All Covid-19 case data have been received from the Internet Archive. The original data have been prepared in PDF documents with the title \"Daily Coronavirus Disease 2019 (COVID-19) Summary of Cases by Zip Code of Residence\" by the County of San Diego, Health and Human Services Agency, Public Health Services, Epidemiology and Immunization Services Branch."
       ],
       "layout": "IPY_MODEL_a58979289c39406a9a21cdf981a26274",
       "tag": "p",
       "v_slots": []
      }
     },
     "bae48701c1c848428e5e9bb78407bdba": {
      "model_module": "@jupyter-widgets/base",
      "model_module_version": "1.2.0",
      "model_name": "LayoutModel",
      "state": {}
     },
     "baeade955d8c4cef8a46825695d69091": {
      "model_module": "jupyter-vuetify",
      "model_module_version": "^1.5.1",
      "model_name": "BtnModel",
      "state": {
       "_events": [],
       "_jupyter_vue": "IPY_MODEL_bc2712ed128d4d47ba50f0f591fcb068",
       "attributes": {},
       "children": [
        "IPY_MODEL_b665dbf837d649e9851a5baab444752b"
       ],
       "color": "blue",
       "elevation": null,
       "height": null,
       "href": null,
       "layout": "IPY_MODEL_9956582fe0ca426caea696dcf644ce4e",
       "max_height": null,
       "max_width": null,
       "min_height": null,
       "min_width": null,
       "ripple": null,
       "text": true,
       "to": null,
       "v_slots": [],
       "width": null
      }
     },
     "bb001026d90a423ca0178eee586648b3": {
      "model_module": "jupyter-vuetify",
      "model_module_version": "^1.5.1",
      "model_name": "CardModel",
      "state": {
       "_events": [],
       "_jupyter_vue": "IPY_MODEL_bc2712ed128d4d47ba50f0f591fcb068",
       "attributes": {},
       "children": [
        "IPY_MODEL_8c57020b55a94aa79c8f3c2d4a19ca5c",
        "IPY_MODEL_df9b7a217a1f47f2a7d4cf17048807ed",
        "IPY_MODEL_33583bdb1b594519b1bbf133441dcdab"
       ],
       "elevation": null,
       "height": null,
       "href": null,
       "layout": "IPY_MODEL_2fa6bc2a8c2142cb829175b196472bfa",
       "loader_height": null,
       "loading": null,
       "max_height": null,
       "max_width": null,
       "min_height": null,
       "min_width": null,
       "ripple": null,
       "to": null,
       "v_slots": [],
       "width": null
      }
     },
     "bb20411374f149709b50489139586098": {
      "model_module": "jupyter-vuetify",
      "model_module_version": "^1.5.1",
      "model_name": "ColModel",
      "state": {
       "_events": [],
       "_jupyter_vue": "IPY_MODEL_bc2712ed128d4d47ba50f0f591fcb068",
       "attributes": {},
       "children": [
        "IPY_MODEL_4a8ab0f71daa4a109e0d0aa520bdf6cc"
       ],
       "cols": 12,
       "layout": "IPY_MODEL_bbb2c1e208464e16b85da923cc67799f",
       "lg": null,
       "md": null,
       "offset": null,
       "offset_lg": null,
       "offset_md": null,
       "offset_sm": null,
       "offset_xl": null,
       "order": null,
       "order_lg": null,
       "order_md": null,
       "order_sm": null,
       "order_xl": null,
       "sm": null,
       "v_slots": [],
       "xl": null
      }
     },
     "bb2f919befdf45fcb91c0c6c35f17cf0": {
      "model_module": "@jupyter-widgets/base",
      "model_module_version": "1.2.0",
      "model_name": "LayoutModel",
      "state": {}
     },
     "bb50756882f34c2e90ea59320cace080": {
      "model_module": "jupyter-vuetify",
      "model_module_version": "^1.5.1",
      "model_name": "CardModel",
      "state": {
       "_events": [],
       "_jupyter_vue": "IPY_MODEL_bc2712ed128d4d47ba50f0f591fcb068",
       "attributes": {},
       "children": [
        "IPY_MODEL_49b4646b0f5b40cdbb966b26ece2a4f1",
        "IPY_MODEL_d512adc83b674c88b9504ad6fa5da8e5",
        "IPY_MODEL_ba356336c6274abd9bdd2ca93449eccf"
       ],
       "elevation": null,
       "height": null,
       "href": null,
       "layout": "IPY_MODEL_40b583b6048e4bb5b4d5442f10ddad97",
       "loader_height": null,
       "loading": null,
       "max_height": null,
       "max_width": null,
       "min_height": null,
       "min_width": null,
       "ripple": null,
       "to": null,
       "v_slots": [],
       "width": null
      }
     },
     "bb66bc4885584418a1640d9524b975a3": {
      "model_module": "@jupyter-widgets/base",
      "model_module_version": "1.2.0",
      "model_name": "LayoutModel",
      "state": {}
     },
     "bb97a124641e4d9784ae90145cbb1a94": {
      "model_module": "@jupyter-widgets/base",
      "model_module_version": "1.2.0",
      "model_name": "LayoutModel",
      "state": {}
     },
     "bb9b62e14b444753b5ca6c1d39e36895": {
      "model_module": "@jupyter-widgets/base",
      "model_module_version": "1.2.0",
      "model_name": "LayoutModel",
      "state": {}
     },
     "bbab5d4c398144b7a03ace06d56b1c0f": {
      "model_module": "jupyter-vuetify",
      "model_module_version": "^1.5.1",
      "model_name": "BtnModel",
      "state": {
       "_events": [],
       "_jupyter_vue": "IPY_MODEL_bc2712ed128d4d47ba50f0f591fcb068",
       "attributes": {},
       "children": [
        "IPY_MODEL_999121930cdc4b61975d7933dac7f5d7"
       ],
       "color": "blue",
       "elevation": null,
       "height": null,
       "href": null,
       "layout": "IPY_MODEL_7ee1af6ddaad4e49961437c42771b533",
       "max_height": null,
       "max_width": null,
       "min_height": null,
       "min_width": null,
       "ripple": null,
       "text": true,
       "to": null,
       "v_slots": [],
       "width": null
      }
     },
     "bbb1394d068b42bf9741beb4b300e43e": {
      "model_module": "@jupyter-widgets/base",
      "model_module_version": "1.2.0",
      "model_name": "LayoutModel",
      "state": {}
     },
     "bbb2c1e208464e16b85da923cc67799f": {
      "model_module": "@jupyter-widgets/base",
      "model_module_version": "1.2.0",
      "model_name": "LayoutModel",
      "state": {}
     },
     "bc2712ed128d4d47ba50f0f591fcb068": {
      "model_module": "jupyter-vue",
      "model_module_version": "^1.4.0",
      "model_name": "ForceLoadModel",
      "state": {
       "_model_module_version": "^1.4.0",
       "_view_module": null,
       "_view_module_version": "",
       "layout": "IPY_MODEL_6b5102398a574ad3b42a0fab1413e258"
      }
     },
     "bc5991a3898d487ba8d51b804ad56401": {
      "model_module": "@jupyter-widgets/base",
      "model_module_version": "1.2.0",
      "model_name": "LayoutModel",
      "state": {}
     },
     "bc676ab91826427f9355027bb8649a54": {
      "model_module": "@jupyter-widgets/base",
      "model_module_version": "1.2.0",
      "model_name": "LayoutModel",
      "state": {}
     },
     "bc883561b51d45629c7b7d7914a8d50f": {
      "model_module": "jupyter-vuetify",
      "model_module_version": "^1.5.1",
      "model_name": "HtmlModel",
      "state": {
       "_events": [],
       "_jupyter_vue": "IPY_MODEL_bc2712ed128d4d47ba50f0f591fcb068",
       "_model_module_version": "^1.5.1",
       "_view_module_version": "^1.5.1",
       "attributes": {},
       "children": [
        "lol"
       ],
       "class_": "text-button",
       "layout": "IPY_MODEL_43fda178a1b1432982b0dda3255e7cda",
       "tag": "div",
       "v_slots": []
      }
     },
     "bca4fb97952248eb82ad6677cabf5d23": {
      "model_module": "jupyter-vuetify",
      "model_module_version": "^1.5.1",
      "model_name": "HtmlModel",
      "state": {
       "_events": [],
       "_jupyter_vue": "IPY_MODEL_bc2712ed128d4d47ba50f0f591fcb068",
       "_model_module_version": "^1.5.1",
       "_view_module_version": "^1.5.1",
       "attributes": {},
       "children": [
        "Original data source: San Diego County Communicable Disease Registry, SANDAG 2019 Population Estimates (Prepared June 2020)."
       ],
       "layout": "IPY_MODEL_0bab556947d14346bbc97652db6a02e1",
       "tag": "p",
       "v_slots": []
      }
     },
     "bcf4ae96324840e882871e6a55725ac7": {
      "model_module": "jupyter-vuetify",
      "model_module_version": "^1.5.1",
      "model_name": "CardTextModel",
      "state": {
       "_events": [],
       "_jupyter_vue": "IPY_MODEL_bc2712ed128d4d47ba50f0f591fcb068",
       "attributes": {},
       "children": [
        "lol"
       ],
       "layout": "IPY_MODEL_ed8ccbecff724b26a7c2a122fa7ada1a",
       "v_slots": []
      }
     },
     "bcf4da92aa924a14b3dfd23aa35a57af": {
      "model_module": "@jupyter-widgets/base",
      "model_module_version": "1.2.0",
      "model_name": "LayoutModel",
      "state": {}
     },
     "bd1bf9981fb047f9bd54b51b42989d63": {
      "model_module": "jupyter-vuetify",
      "model_module_version": "^1.5.1",
      "model_name": "BtnModel",
      "state": {
       "_events": [],
       "_jupyter_vue": "IPY_MODEL_bc2712ed128d4d47ba50f0f591fcb068",
       "attributes": {},
       "children": [
        "IPY_MODEL_20f94855f89f4a33bd67c861ff60b9e1"
       ],
       "color": "blue",
       "elevation": null,
       "height": null,
       "href": null,
       "layout": "IPY_MODEL_6659cd45e9e34a2bb953cf7e572c3859",
       "max_height": null,
       "max_width": null,
       "min_height": null,
       "min_width": null,
       "ripple": null,
       "text": true,
       "to": null,
       "v_slots": [],
       "width": null
      }
     },
     "bd3c84a04d3b498b89bf7e4a8bc3b0df": {
      "model_module": "@jupyter-widgets/base",
      "model_module_version": "1.2.0",
      "model_name": "LayoutModel",
      "state": {}
     },
     "bd48b9c2a8c34320824357fa2aebed8e": {
      "model_module": "@jupyter-widgets/base",
      "model_module_version": "1.2.0",
      "model_name": "LayoutModel",
      "state": {}
     },
     "bd49f6d634aa4d7db153f02f261e5dae": {
      "model_module": "@jupyter-widgets/base",
      "model_module_version": "1.2.0",
      "model_name": "LayoutModel",
      "state": {}
     },
     "bd8f223b3d7543b99930e29e68b31c0c": {
      "model_module": "@jupyter-widgets/base",
      "model_module_version": "1.2.0",
      "model_name": "LayoutModel",
      "state": {}
     },
     "be11e73aca804a1483e06f9d987f097f": {
      "model_module": "@jupyter-widgets/base",
      "model_module_version": "1.2.0",
      "model_name": "LayoutModel",
      "state": {}
     },
     "be3cee977b844698a1a4700bce2b035b": {
      "model_module": "jupyter-vuetify",
      "model_module_version": "^1.5.1",
      "model_name": "HtmlModel",
      "state": {
       "_events": [],
       "_jupyter_vue": "IPY_MODEL_bc2712ed128d4d47ba50f0f591fcb068",
       "_model_module_version": "^1.5.1",
       "_view_module_version": "^1.5.1",
       "attributes": {},
       "children": [
        "Zip code is zip code of residence, which may not be location of exposure. Rates based on small case counts may vary considerably and should be interpreted with caution.",
        "Data are preliminary and subject to change. Total population=3,351,784."
       ],
       "layout": "IPY_MODEL_df9078b019eb46738916f3349e69b8d2",
       "tag": "p",
       "v_slots": []
      }
     },
     "be53a18016684be8aba8e6bf86725d5f": {
      "model_module": "@jupyter-widgets/base",
      "model_module_version": "1.2.0",
      "model_name": "LayoutModel",
      "state": {}
     },
     "be6f3059a6b240eeada38d61c3f8e875": {
      "model_module": "@jupyter-widgets/base",
      "model_module_version": "1.2.0",
      "model_name": "LayoutModel",
      "state": {}
     },
     "be8c626ae1614d5a97a8ef3ad4609a75": {
      "model_module": "jupyter-vuetify",
      "model_module_version": "^1.5.1",
      "model_name": "ContainerModel",
      "state": {
       "_events": [],
       "_jupyter_vue": "IPY_MODEL_bc2712ed128d4d47ba50f0f591fcb068",
       "attributes": {},
       "children": [
        "IPY_MODEL_7b11c91e567a4d2085a0d0c1beb3b7e6"
       ],
       "class_": "fill-height",
       "fluid": true,
       "layout": "IPY_MODEL_b8ddeb26390b4196ae66e343942c77ee",
       "v_slots": []
      }
     },
     "be972e39d607467393dcabf278bd893a": {
      "model_module": "jupyter-vuetify",
      "model_module_version": "^1.5.1",
      "model_name": "CardModel",
      "state": {
       "_events": [],
       "_jupyter_vue": "IPY_MODEL_bc2712ed128d4d47ba50f0f591fcb068",
       "attributes": {},
       "children": [
        "IPY_MODEL_c29c668d91a44ab6bed35b7f586388f3",
        "IPY_MODEL_9459d30082274d2486e4fdee303d2dfd"
       ],
       "elevation": null,
       "height": null,
       "href": null,
       "layout": "IPY_MODEL_135be3c54ea14bab99d4c252cc4e0010",
       "loader_height": null,
       "loading": null,
       "max_height": null,
       "max_width": null,
       "min_height": null,
       "min_width": null,
       "ripple": null,
       "to": null,
       "v_slots": [],
       "width": null
      }
     },
     "bea6f023496f4e09b2811bc462c674dd": {
      "model_module": "jupyter-vuetify",
      "model_module_version": "^1.5.1",
      "model_name": "CardTitleModel",
      "state": {
       "_events": [],
       "_jupyter_vue": "IPY_MODEL_bc2712ed128d4d47ba50f0f591fcb068",
       "attributes": {},
       "children": [
        "About the Data"
       ],
       "layout": "IPY_MODEL_f3958a5386114fab94f3f6e7b7fef8a4",
       "v_slots": []
      }
     },
     "bed6ab057898493aa33322dc64e4e1f8": {
      "model_module": "jupyter-vuetify",
      "model_module_version": "^1.5.1",
      "model_name": "CardTextModel",
      "state": {
       "_events": [],
       "_jupyter_vue": "IPY_MODEL_bc2712ed128d4d47ba50f0f591fcb068",
       "attributes": {},
       "children": [
        "IPY_MODEL_463e9c1ae5fb4c38b8a4beb3dcecb5cc",
        "IPY_MODEL_be972e39d607467393dcabf278bd893a"
       ],
       "layout": "IPY_MODEL_ec70e04347804b4dbcef2c8a3a46db1e",
       "v_slots": []
      }
     },
     "bef4b4b3a41f48f1a97e6b8c968f0f04": {
      "model_module": "@jupyter-widgets/base",
      "model_module_version": "1.2.0",
      "model_name": "LayoutModel",
      "state": {}
     },
     "bf1bd87dbe134d6f89c4db9bf7086278": {
      "model_module": "@jupyter-widgets/base",
      "model_module_version": "1.2.0",
      "model_name": "LayoutModel",
      "state": {}
     },
     "bf348e3961b74bcd87121227631deb99": {
      "model_module": "@jupyter-widgets/base",
      "model_module_version": "1.2.0",
      "model_name": "LayoutModel",
      "state": {}
     },
     "bf404c3ecc0f4da3a90dd79fc1b7f2be": {
      "model_module": "jupyter-vuetify",
      "model_module_version": "^1.5.1",
      "model_name": "CardTitleModel",
      "state": {
       "_events": [],
       "_jupyter_vue": "IPY_MODEL_bc2712ed128d4d47ba50f0f591fcb068",
       "attributes": {},
       "children": [
        "ZIP Code Boundaries"
       ],
       "layout": "IPY_MODEL_18e5d099317a4726b2f4170df456a666",
       "v_slots": []
      }
     },
     "bf851662e6f949cabcadaf9754ed85bb": {
      "model_module": "jupyter-vuetify",
      "model_module_version": "^1.5.1",
      "model_name": "ColModel",
      "state": {
       "_events": [],
       "_jupyter_vue": "IPY_MODEL_bc2712ed128d4d47ba50f0f591fcb068",
       "attributes": {},
       "children": [
        "IPY_MODEL_539f2916209d486cae6ed345d36dfbda"
       ],
       "cols": 6,
       "layout": "IPY_MODEL_616a6cadb3e547e8a54521dc336d1ba4",
       "lg": null,
       "md": null,
       "offset": null,
       "offset_lg": null,
       "offset_md": null,
       "offset_sm": null,
       "offset_xl": null,
       "order": null,
       "order_lg": null,
       "order_md": null,
       "order_sm": null,
       "order_xl": null,
       "sm": null,
       "v_slots": [],
       "xl": null
      }
     },
     "bf861f91e9824d09b9164bce8076ec4b": {
      "model_module": "jupyter-vuetify",
      "model_module_version": "^1.5.1",
      "model_name": "HtmlModel",
      "state": {
       "_events": [],
       "_jupyter_vue": "IPY_MODEL_bc2712ed128d4d47ba50f0f591fcb068",
       "_model_module_version": "^1.5.1",
       "_view_module_version": "^1.5.1",
       "attributes": {},
       "children": [
        "Data are usually updated from the Internet Archive once per day."
       ],
       "layout": "IPY_MODEL_f7e5e7fa717341c78336b38dde585a58",
       "tag": "p",
       "v_slots": []
      }
     },
     "bf87572e1df448b4bba197e88dbf519c": {
      "model_module": "jupyter-vuetify",
      "model_module_version": "^1.5.1",
      "model_name": "CardTitleModel",
      "state": {
       "_events": [],
       "_jupyter_vue": "IPY_MODEL_bc2712ed128d4d47ba50f0f591fcb068",
       "attributes": {},
       "children": [
        "Covid-19 Case Data"
       ],
       "layout": "IPY_MODEL_b526785e5a7146e5912e8738bcdc18d1",
       "v_slots": []
      }
     },
     "bf9272228bc4475cad005d394285a476": {
      "model_module": "jupyter-vuetify",
      "model_module_version": "^1.5.1",
      "model_name": "BtnModel",
      "state": {
       "_events": [],
       "_jupyter_vue": "IPY_MODEL_bc2712ed128d4d47ba50f0f591fcb068",
       "attributes": {},
       "children": [
        "IPY_MODEL_215f18fbb4a04affbeb3d83032835e72"
       ],
       "color": "blue",
       "elevation": null,
       "height": null,
       "href": null,
       "layout": "IPY_MODEL_74c65e78e86143c6ac9ef268e316c8e2",
       "max_height": null,
       "max_width": null,
       "min_height": null,
       "min_width": null,
       "ripple": null,
       "text": true,
       "to": null,
       "v_slots": [],
       "width": null
      }
     },
     "bfb0b2fa90ef4b2bb0b30f35320256ab": {
      "model_module": "@jupyter-widgets/base",
      "model_module_version": "1.2.0",
      "model_name": "LayoutModel",
      "state": {}
     },
     "bfe75bb948294213a4d3b6e4e139e524": {
      "model_module": "jupyter-vuetify",
      "model_module_version": "^1.5.1",
      "model_name": "CardTitleModel",
      "state": {
       "_events": [],
       "_jupyter_vue": "IPY_MODEL_bc2712ed128d4d47ba50f0f591fcb068",
       "attributes": {},
       "children": [
        "ZIP Code Boundaries"
       ],
       "layout": "IPY_MODEL_6189d7c2a47d48168c027f881bdda264",
       "v_slots": []
      }
     },
     "c00ac4cd161d44358197c761b0043ef9": {
      "model_module": "jupyter-vuetify",
      "model_module_version": "^1.5.1",
      "model_name": "HtmlModel",
      "state": {
       "_events": [],
       "_jupyter_vue": "IPY_MODEL_bc2712ed128d4d47ba50f0f591fcb068",
       "_model_module_version": "^1.5.1",
       "_view_module_version": "^1.5.1",
       "attributes": {
        "href": "https://archive.org/donate/",
        "target": "_blank"
       },
       "children": [
        "Donate to the Internet Archive"
       ],
       "layout": "IPY_MODEL_39d8f50bdb5e4350bd21ac8812cee77e",
       "tag": "a",
       "v_slots": []
      }
     },
     "c021d5554c4948caa62b983438649779": {
      "model_module": "jupyter-vuetify",
      "model_module_version": "^1.5.1",
      "model_name": "CardTitleModel",
      "state": {
       "_events": [],
       "_jupyter_vue": "IPY_MODEL_bc2712ed128d4d47ba50f0f591fcb068",
       "attributes": {},
       "children": [
        "Covid-19 Case Data"
       ],
       "layout": "IPY_MODEL_44dc9c10de1943db8e154b97b660dff5",
       "v_slots": []
      }
     },
     "c055f4355a3c480fb8868d3580222814": {
      "model_module": "@jupyter-widgets/base",
      "model_module_version": "1.2.0",
      "model_name": "LayoutModel",
      "state": {}
     },
     "c06c3446796149b394afcd862d1b0079": {
      "model_module": "@jupyter-widgets/base",
      "model_module_version": "1.2.0",
      "model_name": "LayoutModel",
      "state": {}
     },
     "c0dcb6bbc31d414cb7df005ecae0fd36": {
      "model_module": "jupyter-vuetify",
      "model_module_version": "^1.5.1",
      "model_name": "BtnModel",
      "state": {
       "_events": [],
       "_jupyter_vue": "IPY_MODEL_bc2712ed128d4d47ba50f0f591fcb068",
       "attributes": {},
       "children": [
        "SANDAG Disclaimer"
       ],
       "color": "accent-1",
       "elevation": null,
       "height": null,
       "href": null,
       "layout": "IPY_MODEL_f01f3abc0be9437d963e037ae572b85e",
       "max_height": null,
       "max_width": null,
       "min_height": null,
       "min_width": null,
       "ripple": null,
       "text": true,
       "to": null,
       "v_slots": [],
       "width": null
      }
     },
     "c0ea154271564087b3139dcffeb4ccdb": {
      "model_module": "jupyter-vuetify",
      "model_module_version": "^1.5.1",
      "model_name": "CardTitleModel",
      "state": {
       "_events": [],
       "_jupyter_vue": "IPY_MODEL_bc2712ed128d4d47ba50f0f591fcb068",
       "attributes": {},
       "children": [
        "ZIP Codes"
       ],
       "layout": "IPY_MODEL_f369a33c9b124c34aa97a8053fcf88dd",
       "v_slots": []
      }
     },
     "c0fe5a5222984083a7ec2c074ff06b72": {
      "model_module": "@jupyter-widgets/base",
      "model_module_version": "1.2.0",
      "model_name": "LayoutModel",
      "state": {}
     },
     "c10474a400634dadb8f334423287f62c": {
      "model_module": "@jupyter-widgets/base",
      "model_module_version": "1.2.0",
      "model_name": "LayoutModel",
      "state": {}
     },
     "c10a1b1e5d1f4fa1aa4b5903ae2e9b0e": {
      "model_module": "jupyter-vuetify",
      "model_module_version": "^1.5.1",
      "model_name": "RowModel",
      "state": {
       "_events": [],
       "_jupyter_vue": "IPY_MODEL_bc2712ed128d4d47ba50f0f591fcb068",
       "attributes": {},
       "children": [
        "IPY_MODEL_b931ee8fe3e348a98d25556cf5c564d1",
        "IPY_MODEL_b8cc6e1987ac4de5bff00167bb605865",
        "IPY_MODEL_90cc2a6491684566a170421912b674e0"
       ],
       "dense": true,
       "layout": "IPY_MODEL_69f960d8116645eb9db427f6ff1c91b4",
       "v_slots": []
      }
     },
     "c10e24094f254c1a9958c23b07e13e1b": {
      "model_module": "@jupyter-widgets/base",
      "model_module_version": "1.2.0",
      "model_name": "LayoutModel",
      "state": {}
     },
     "c12c7caf8b5346b3813ba61e93c9cb4d": {
      "model_module": "@jupyter-widgets/base",
      "model_module_version": "1.2.0",
      "model_name": "LayoutModel",
      "state": {}
     },
     "c13c52eb620b4575be28b5bcafa4558a": {
      "model_module": "jupyter-vuetify",
      "model_module_version": "^1.5.1",
      "model_name": "CardTextModel",
      "state": {
       "_events": [],
       "_jupyter_vue": "IPY_MODEL_bc2712ed128d4d47ba50f0f591fcb068",
       "attributes": {},
       "children": [
        "IPY_MODEL_23067a90dd3a4b9abe3cc285008e6878",
        "IPY_MODEL_820a46c76a1a4ac2ab96aad80597e8ce"
       ],
       "layout": "IPY_MODEL_a4383591a6e54e5b96e87dc1258090c8",
       "v_slots": []
      }
     },
     "c1a87e9cd78744119fc69dd15987a99f": {
      "model_module": "@jupyter-widgets/base",
      "model_module_version": "1.2.0",
      "model_name": "LayoutModel",
      "state": {}
     },
     "c1ab4ea60e614b62a05fcd2a0545aaac": {
      "model_module": "jupyter-vuetify",
      "model_module_version": "^1.5.1",
      "model_name": "HtmlModel",
      "state": {
       "_events": [],
       "_jupyter_vue": "IPY_MODEL_bc2712ed128d4d47ba50f0f591fcb068",
       "_model_module_version": "^1.5.1",
       "_view_module_version": "^1.5.1",
       "attributes": {},
       "children": [
        "Original data source: San Diego County Communicable Disease Registry, SANDAG 2019 Population Estimates (Prepared June 2020)."
       ],
       "layout": "IPY_MODEL_bbb1394d068b42bf9741beb4b300e43e",
       "tag": "p",
       "v_slots": []
      }
     },
     "c1e7731c6f8748a0824a691dfd14671b": {
      "model_module": "jupyter-vuetify",
      "model_module_version": "^1.5.1",
      "model_name": "CardTitleModel",
      "state": {
       "_events": [],
       "_jupyter_vue": "IPY_MODEL_bc2712ed128d4d47ba50f0f591fcb068",
       "attributes": {},
       "children": [
        "About the Data"
       ],
       "layout": "IPY_MODEL_7a2299f9eff34460956931b2995ded33",
       "v_slots": []
      }
     },
     "c206d3af54164b9e8de35aef009f5963": {
      "model_module": "jupyter-vuetify",
      "model_module_version": "^1.5.1",
      "model_name": "CardTitleModel",
      "state": {
       "_events": [],
       "_jupyter_vue": "IPY_MODEL_bc2712ed128d4d47ba50f0f591fcb068",
       "attributes": {},
       "children": [
        "ZIP Codes"
       ],
       "layout": "IPY_MODEL_2ee7b7ea6e89416d8ac2f64e635c9123",
       "v_slots": []
      }
     },
     "c27464c6cae3453eadc3bd42bcf1213b": {
      "model_module": "@jupyter-widgets/base",
      "model_module_version": "1.2.0",
      "model_name": "LayoutModel",
      "state": {}
     },
     "c29248a4477b41a5ad99fa72cc19686f": {
      "model_module": "@jupyter-widgets/base",
      "model_module_version": "1.2.0",
      "model_name": "LayoutModel",
      "state": {}
     },
     "c29c668d91a44ab6bed35b7f586388f3": {
      "model_module": "jupyter-vuetify",
      "model_module_version": "^1.5.1",
      "model_name": "CardTitleModel",
      "state": {
       "_events": [],
       "_jupyter_vue": "IPY_MODEL_bc2712ed128d4d47ba50f0f591fcb068",
       "attributes": {},
       "children": [
        "ZIP Codes"
       ],
       "layout": "IPY_MODEL_c59bb82b32fd4f9995e6173549da0e39",
       "v_slots": []
      }
     },
     "c2a0dacaf1a24a82a2415fcc120e92b4": {
      "model_module": "@jupyter-widgets/base",
      "model_module_version": "1.2.0",
      "model_name": "LayoutModel",
      "state": {}
     },
     "c328319ba24d40bbac696d029fee0b55": {
      "model_module": "@jupyter-widgets/base",
      "model_module_version": "1.2.0",
      "model_name": "LayoutModel",
      "state": {}
     },
     "c3869398ed4b4c6c97acec15c3e48f7e": {
      "model_module": "@jupyter-widgets/base",
      "model_module_version": "1.2.0",
      "model_name": "LayoutModel",
      "state": {}
     },
     "c3cb8ebb513e418fb95a903310028532": {
      "model_module": "jupyter-vuetify",
      "model_module_version": "^1.5.1",
      "model_name": "ColModel",
      "state": {
       "_events": [],
       "_jupyter_vue": "IPY_MODEL_bc2712ed128d4d47ba50f0f591fcb068",
       "attributes": {},
       "children": [
        "IPY_MODEL_a660cbc8451a49009607f3d9069a3d5b"
       ],
       "cols": 12,
       "layout": "IPY_MODEL_eaa14e1aea984d2e85dc87b5d5769650",
       "lg": null,
       "md": null,
       "offset": null,
       "offset_lg": null,
       "offset_md": null,
       "offset_sm": null,
       "offset_xl": null,
       "order": null,
       "order_lg": null,
       "order_md": null,
       "order_sm": null,
       "order_xl": null,
       "sm": null,
       "v_slots": [],
       "xl": null
      }
     },
     "c3d017e316bb4835b8e3c57619a4f65f": {
      "model_module": "@jupyter-widgets/base",
      "model_module_version": "1.2.0",
      "model_name": "LayoutModel",
      "state": {}
     },
     "c3d3edb340b64b368af4eb6211449001": {
      "model_module": "@jupyter-widgets/base",
      "model_module_version": "1.2.0",
      "model_name": "LayoutModel",
      "state": {}
     },
     "c3e16b52a4bf422786de5243d97b6e08": {
      "model_module": "jupyter-vuetify",
      "model_module_version": "^1.5.1",
      "model_name": "BtnModel",
      "state": {
       "_events": [],
       "_jupyter_vue": "IPY_MODEL_bc2712ed128d4d47ba50f0f591fcb068",
       "attributes": {},
       "children": [
        "IPY_MODEL_eee532c720c84ebc98ac5183215427e3"
       ],
       "color": "blue",
       "elevation": null,
       "height": null,
       "href": null,
       "layout": "IPY_MODEL_6b84984ff7d14b539c7f9b0c776b5f66",
       "max_height": null,
       "max_width": null,
       "min_height": null,
       "min_width": null,
       "ripple": null,
       "text": true,
       "to": null,
       "v_slots": [],
       "width": null
      }
     },
     "c3e8fa45659447418e63ffcda897f6f7": {
      "model_module": "jupyter-vuetify",
      "model_module_version": "^1.5.1",
      "model_name": "HtmlModel",
      "state": {
       "_events": [],
       "_jupyter_vue": "IPY_MODEL_bc2712ed128d4d47ba50f0f591fcb068",
       "_model_module_version": "^1.5.1",
       "_view_module_version": "^1.5.1",
       "attributes": {
        "href": "https://web.archive.org/web/*/https://www.sandiegocounty.gov/content/dam/sdc/hhsa/programs/phs/Epidemiology/COVID-19%20Summary%20of%20Cases%20by%20Zip%20Code.pdf",
        "target": "_blank"
       },
       "children": [
        "Internet Archive Source"
       ],
       "layout": "IPY_MODEL_8c5f5019440f44fcb5c074fe6e46ca4d",
       "tag": "a",
       "v_slots": []
      }
     },
     "c3e99b365fb742bdb642a1e0b58956b0": {
      "model_module": "jupyter-vuetify",
      "model_module_version": "^1.5.1",
      "model_name": "CardModel",
      "state": {
       "_events": [],
       "_jupyter_vue": "IPY_MODEL_bc2712ed128d4d47ba50f0f591fcb068",
       "attributes": {},
       "children": [
        "IPY_MODEL_014088bafb5e46659f779bbb10092374",
        "IPY_MODEL_cf8f93e6557e48bf84ffe560ac9f4720",
        "IPY_MODEL_62a6225fa5a14f24895264205068987b"
       ],
       "elevation": null,
       "height": null,
       "href": null,
       "layout": "IPY_MODEL_1f698f2b5ec64691b35249bf4c219027",
       "loader_height": null,
       "loading": null,
       "max_height": null,
       "max_width": null,
       "min_height": null,
       "min_width": null,
       "ripple": null,
       "to": null,
       "v_slots": [],
       "width": null
      }
     },
     "c4656642911e43b1988a0e6d2278b030": {
      "model_module": "jupyter-vuetify",
      "model_module_version": "^1.5.1",
      "model_name": "RowModel",
      "state": {
       "_events": [],
       "_jupyter_vue": "IPY_MODEL_bc2712ed128d4d47ba50f0f591fcb068",
       "attributes": {},
       "children": [
        "IPY_MODEL_8c8b5a6855b042a380e08532ca6db237",
        "IPY_MODEL_ece814a74419450a81dc8035b51747ea",
        "IPY_MODEL_afcf2949f6524b628c21f8897de1b6e4"
       ],
       "dense": true,
       "layout": "IPY_MODEL_534e9e87d0574e709604e1c3d7a1a7b7",
       "v_slots": []
      }
     },
     "c46bafc317944727b8e9dfca3283ca79": {
      "model_module": "jupyter-vuetify",
      "model_module_version": "^1.5.1",
      "model_name": "HtmlModel",
      "state": {
       "_events": [],
       "_jupyter_vue": "IPY_MODEL_bc2712ed128d4d47ba50f0f591fcb068",
       "_model_module_version": "^1.5.1",
       "_view_module_version": "^1.5.1",
       "attributes": {
        "href": "https://www.sandiegocounty.gov/content/sdc/hhsa/programs/phs/community_epidemiology/dc/2019-nCoV/status.html",
        "target": "_blank"
       },
       "children": [
        "County of San Diego"
       ],
       "layout": "IPY_MODEL_e524656aa071467493965657eb0d97d4",
       "tag": "a",
       "v_slots": []
      }
     },
     "c4802eeaa977428897a9f2142a07f8c6": {
      "model_module": "jupyter-vuetify",
      "model_module_version": "^1.5.1",
      "model_name": "BtnModel",
      "state": {
       "_events": [],
       "_jupyter_vue": "IPY_MODEL_bc2712ed128d4d47ba50f0f591fcb068",
       "attributes": {},
       "children": [
        "IPY_MODEL_2046943792724cd4bcbb6c84918eaecd"
       ],
       "color": "blue",
       "elevation": null,
       "height": null,
       "href": null,
       "layout": "IPY_MODEL_6b32fded9f0848aeb00dd315129823a9",
       "max_height": null,
       "max_width": null,
       "min_height": null,
       "min_width": null,
       "ripple": null,
       "text": true,
       "to": null,
       "v_slots": [],
       "width": null
      }
     },
     "c481550f7ca143d68433215c4442d221": {
      "model_module": "jupyter-vuetify",
      "model_module_version": "^1.5.1",
      "model_name": "CardTitleModel",
      "state": {
       "_events": [],
       "_jupyter_vue": "IPY_MODEL_bc2712ed128d4d47ba50f0f591fcb068",
       "attributes": {},
       "children": [
        "About the Data"
       ],
       "layout": "IPY_MODEL_4ef5e4a386d84855962bf43fea48fb8e",
       "v_slots": []
      }
     },
     "c49cb1544cac4b67b7cdad17e44ee329": {
      "model_module": "jupyter-vuetify",
      "model_module_version": "^1.5.1",
      "model_name": "CardTextModel",
      "state": {
       "_events": [],
       "_jupyter_vue": "IPY_MODEL_bc2712ed128d4d47ba50f0f591fcb068",
       "attributes": {},
       "children": [
        "This section informs about the sources of the data that are used in this dashboard."
       ],
       "layout": "IPY_MODEL_90ce666d6cfb4267bc02e8700882c508",
       "v_slots": []
      }
     },
     "c4b314c3d73f49a18e385c246d7086b2": {
      "model_module": "@jupyter-widgets/base",
      "model_module_version": "1.2.0",
      "model_name": "LayoutModel",
      "state": {}
     },
     "c4fd6546b59d4e868005b103de916662": {
      "model_module": "jupyter-vuetify",
      "model_module_version": "^1.5.1",
      "model_name": "HtmlModel",
      "state": {
       "_events": [],
       "_jupyter_vue": "IPY_MODEL_bc2712ed128d4d47ba50f0f591fcb068",
       "_model_module_version": "^1.5.1",
       "_view_module_version": "^1.5.1",
       "attributes": {},
       "children": [
        "Original data source: San Diego County Communicable Disease Registry, SANDAG 2019 Population Estimates (Prepared June 2020)."
       ],
       "layout": "IPY_MODEL_b44b7751059f4253a818dee86091d746",
       "tag": "p",
       "v_slots": []
      }
     },
     "c528badf61ec4ce1b5e8adbc813dbdb9": {
      "model_module": "jupyter-vuetify",
      "model_module_version": "^1.5.1",
      "model_name": "CardModel",
      "state": {
       "_events": [],
       "_jupyter_vue": "IPY_MODEL_bc2712ed128d4d47ba50f0f591fcb068",
       "attributes": {},
       "children": [
        "IPY_MODEL_fdc9b0d41e8d44bbb88fa23b88e93016",
        "IPY_MODEL_0bb89696d4d74321a7bfab47eac62000",
        "IPY_MODEL_0e43b5364b1b4b19a144e494cb7d1dc1"
       ],
       "elevation": null,
       "height": null,
       "href": null,
       "layout": "IPY_MODEL_f517b0383f164599990d32bb3c7186f6",
       "loader_height": null,
       "loading": null,
       "max_height": null,
       "max_width": null,
       "min_height": null,
       "min_width": null,
       "ripple": null,
       "to": null,
       "v_slots": [],
       "width": null
      }
     },
     "c53be895f1d4405b92e9014e9701b403": {
      "model_module": "@jupyter-widgets/base",
      "model_module_version": "1.2.0",
      "model_name": "LayoutModel",
      "state": {}
     },
     "c5526a8f314741e2bce25ac59bf574b6": {
      "model_module": "@jupyter-widgets/base",
      "model_module_version": "1.2.0",
      "model_name": "LayoutModel",
      "state": {}
     },
     "c59885dbe8e9436aa0b6efb74601e045": {
      "model_module": "@jupyter-widgets/base",
      "model_module_version": "1.2.0",
      "model_name": "LayoutModel",
      "state": {}
     },
     "c59bb82b32fd4f9995e6173549da0e39": {
      "model_module": "@jupyter-widgets/base",
      "model_module_version": "1.2.0",
      "model_name": "LayoutModel",
      "state": {}
     },
     "c59f8added1a4db682fd458c074ae3b4": {
      "model_module": "@jupyter-widgets/base",
      "model_module_version": "1.2.0",
      "model_name": "LayoutModel",
      "state": {}
     },
     "c5ceeff665964d1f8e724fa61444000d": {
      "model_module": "jupyter-vuetify",
      "model_module_version": "^1.5.1",
      "model_name": "CardTitleModel",
      "state": {
       "_events": [],
       "_jupyter_vue": "IPY_MODEL_bc2712ed128d4d47ba50f0f591fcb068",
       "attributes": {},
       "children": [
        "About the Data"
       ],
       "layout": "IPY_MODEL_8c8f2e9ade094ce3b0f06e8c744c9331",
       "v_slots": []
      }
     },
     "c5d5778092994f1895eb989832a46420": {
      "model_module": "jupyter-vuetify",
      "model_module_version": "^1.5.1",
      "model_name": "CardTitleModel",
      "state": {
       "_events": [],
       "_jupyter_vue": "IPY_MODEL_bc2712ed128d4d47ba50f0f591fcb068",
       "attributes": {},
       "children": [
        "About the Data"
       ],
       "layout": "IPY_MODEL_3abb9e9584a4434b86795be1d1019e47",
       "v_slots": []
      }
     },
     "c5db0b37e4424a5cbb9f65f948aff902": {
      "model_module": "jupyter-vuetify",
      "model_module_version": "^1.5.1",
      "model_name": "CardModel",
      "state": {
       "_events": [],
       "_jupyter_vue": "IPY_MODEL_bc2712ed128d4d47ba50f0f591fcb068",
       "attributes": {},
       "children": [
        "IPY_MODEL_0615c9e33dad42cab966915ef91adba9",
        "IPY_MODEL_8551047da35646219a49dbf7cb80d456",
        "IPY_MODEL_65e2aa56741c4d28aedf019205b0b806"
       ],
       "elevation": null,
       "height": null,
       "href": null,
       "layout": "IPY_MODEL_a878a82241ed407b81b4c8f0fb7aafc4",
       "loader_height": null,
       "loading": null,
       "max_height": null,
       "max_width": null,
       "min_height": null,
       "min_width": null,
       "ripple": null,
       "to": null,
       "v_slots": [],
       "width": null
      }
     },
     "c62dc4eab5044a89a432a98406934216": {
      "model_module": "@jupyter-widgets/base",
      "model_module_version": "1.2.0",
      "model_name": "LayoutModel",
      "state": {}
     },
     "c63b0064f66d4baca42ee9f3ca344e95": {
      "model_module": "jupyter-vuetify",
      "model_module_version": "^1.5.1",
      "model_name": "CardModel",
      "state": {
       "_events": [],
       "_jupyter_vue": "IPY_MODEL_bc2712ed128d4d47ba50f0f591fcb068",
       "attributes": {},
       "children": [
        "IPY_MODEL_c021d5554c4948caa62b983438649779",
        "IPY_MODEL_70c710c480f842fcaabf88f001cd317f",
        "IPY_MODEL_a08fb363ed1f4c33948628f617d70305"
       ],
       "elevation": null,
       "height": null,
       "href": null,
       "layout": "IPY_MODEL_f49cab372fa9494d824f14c1748c5905",
       "loader_height": null,
       "loading": null,
       "max_height": null,
       "max_width": null,
       "min_height": null,
       "min_width": null,
       "ripple": null,
       "to": null,
       "v_slots": [],
       "width": null
      }
     },
     "c641a63c954c4a3ab954797b3909f8d5": {
      "model_module": "jupyter-vuetify",
      "model_module_version": "^1.5.1",
      "model_name": "CardTextModel",
      "state": {
       "_events": [],
       "_jupyter_vue": "IPY_MODEL_bc2712ed128d4d47ba50f0f591fcb068",
       "attributes": {},
       "children": [
        "lol"
       ],
       "layout": "IPY_MODEL_ebcfe0cb753f42c5886edd51346987ca",
       "v_slots": []
      }
     },
     "c668ab012ace4fb2839736eb75cdf184": {
      "model_module": "@jupyter-widgets/base",
      "model_module_version": "1.2.0",
      "model_name": "LayoutModel",
      "state": {}
     },
     "c680216ef7354a5b94f44d54834a7e97": {
      "model_module": "@jupyter-widgets/base",
      "model_module_version": "1.2.0",
      "model_name": "LayoutModel",
      "state": {}
     },
     "c68ccdcc10ef49d3a1603e83b14d9eaa": {
      "model_module": "@jupyter-widgets/base",
      "model_module_version": "1.2.0",
      "model_name": "LayoutModel",
      "state": {}
     },
     "c6a116d085a749e4aa24b64c59c52f82": {
      "model_module": "jupyter-vuetify",
      "model_module_version": "^1.5.1",
      "model_name": "BtnModel",
      "state": {
       "_events": [],
       "_jupyter_vue": "IPY_MODEL_bc2712ed128d4d47ba50f0f591fcb068",
       "attributes": {},
       "children": [
        "IPY_MODEL_36cee433520b43d39c8ee54333f0a28e"
       ],
       "color": "blue",
       "elevation": null,
       "height": null,
       "href": null,
       "layout": "IPY_MODEL_41209f6271ac4c1f87edf22169643593",
       "max_height": null,
       "max_width": null,
       "min_height": null,
       "min_width": null,
       "ripple": null,
       "text": true,
       "to": null,
       "v_slots": [],
       "width": null
      }
     },
     "c7116942b56543888bb9eca69e57e2a7": {
      "model_module": "jupyter-vuetify",
      "model_module_version": "^1.5.1",
      "model_name": "CardTextModel",
      "state": {
       "_events": [],
       "_jupyter_vue": "IPY_MODEL_bc2712ed128d4d47ba50f0f591fcb068",
       "attributes": {},
       "children": [
        "lol"
       ],
       "layout": "IPY_MODEL_eff323ec597443058d6f615b97e015a1",
       "v_slots": []
      }
     },
     "c720506ca85c4e0f8264b68c7f56065c": {
      "model_module": "@jupyter-widgets/base",
      "model_module_version": "1.2.0",
      "model_name": "LayoutModel",
      "state": {}
     },
     "c73a3831fe954ad4bbc17e288a433e32": {
      "model_module": "@jupyter-widgets/base",
      "model_module_version": "1.2.0",
      "model_name": "LayoutModel",
      "state": {}
     },
     "c76e8dcdff3e4e07b307e2b7aebd9288": {
      "model_module": "jupyter-vuetify",
      "model_module_version": "^1.5.1",
      "model_name": "CardTitleModel",
      "state": {
       "_events": [],
       "_jupyter_vue": "IPY_MODEL_bc2712ed128d4d47ba50f0f591fcb068",
       "attributes": {},
       "children": [
        "ZIP Code Boundaries"
       ],
       "layout": "IPY_MODEL_f31e5672cb95424bb4d750adadd4f580",
       "v_slots": []
      }
     },
     "c7ba74997d1d4bab8d6d6ed174249287": {
      "model_module": "jupyter-vuetify",
      "model_module_version": "^1.5.1",
      "model_name": "HtmlModel",
      "state": {
       "_events": [],
       "_jupyter_vue": "IPY_MODEL_bc2712ed128d4d47ba50f0f591fcb068",
       "_model_module_version": "^1.5.1",
       "_view_module_version": "^1.5.1",
       "attributes": {
        "href": "https://archive.org/donate/",
        "target": "_blank"
       },
       "children": [
        "Donate to Internet Archive"
       ],
       "layout": "IPY_MODEL_727e5b78a6df40acb8eb3c7da12f43e0",
       "tag": "a",
       "v_slots": []
      }
     },
     "c80c8beab37441b49942de11f41cfc0d": {
      "model_module": "jupyter-vuetify",
      "model_module_version": "^1.5.1",
      "model_name": "CardTitleModel",
      "state": {
       "_events": [],
       "_jupyter_vue": "IPY_MODEL_bc2712ed128d4d47ba50f0f591fcb068",
       "attributes": {},
       "children": [
        "ZIP Codes"
       ],
       "layout": "IPY_MODEL_2163955655254c819aa281cb6c283aaf",
       "v_slots": []
      }
     },
     "c80d2918dcb44998b97fcb301c3215ae": {
      "model_module": "jupyter-vuetify",
      "model_module_version": "^1.5.1",
      "model_name": "BtnModel",
      "state": {
       "_events": [],
       "_jupyter_vue": "IPY_MODEL_bc2712ed128d4d47ba50f0f591fcb068",
       "attributes": {},
       "children": [
        "IPY_MODEL_c00ac4cd161d44358197c761b0043ef9"
       ],
       "color": "blue",
       "elevation": null,
       "height": null,
       "href": null,
       "layout": "IPY_MODEL_6096283308f14f4b8bc1997d36d3dda9",
       "max_height": null,
       "max_width": null,
       "min_height": null,
       "min_width": null,
       "ripple": null,
       "text": true,
       "to": null,
       "v_slots": [],
       "width": null
      }
     },
     "c814e43f55d844978800908a4ceda5eb": {
      "model_module": "jupyter-vuetify",
      "model_module_version": "^1.5.1",
      "model_name": "CardTextModel",
      "state": {
       "_events": [],
       "_jupyter_vue": "IPY_MODEL_bc2712ed128d4d47ba50f0f591fcb068",
       "attributes": {},
       "children": [
        "lol"
       ],
       "layout": "IPY_MODEL_f98439dd389741559d6d4e0d16f9fffc",
       "v_slots": []
      }
     },
     "c84d82aeadeb4524b68d2a94e92f98cd": {
      "model_module": "jupyter-vuetify",
      "model_module_version": "^1.5.1",
      "model_name": "CardTitleModel",
      "state": {
       "_events": [],
       "_jupyter_vue": "IPY_MODEL_bc2712ed128d4d47ba50f0f591fcb068",
       "attributes": {},
       "children": [
        "About the Data"
       ],
       "layout": "IPY_MODEL_a649a495c57142b09f474a36b9cd2777",
       "v_slots": []
      }
     },
     "c86875b2010f44f58498d9b46fb99486": {
      "model_module": "@jupyter-widgets/base",
      "model_module_version": "1.2.0",
      "model_name": "LayoutModel",
      "state": {}
     },
     "c870ee82ec9e4d7f887518b86f2b0984": {
      "model_module": "jupyter-vuetify",
      "model_module_version": "^1.5.1",
      "model_name": "CardTitleModel",
      "state": {
       "_events": [],
       "_jupyter_vue": "IPY_MODEL_bc2712ed128d4d47ba50f0f591fcb068",
       "attributes": {},
       "children": [
        "ZIP Codes"
       ],
       "layout": "IPY_MODEL_f483db028d9a4c23b0f8fa2d578d84d5",
       "v_slots": []
      }
     },
     "c876dc601e9542748bd703f92034f94e": {
      "model_module": "@jupyter-widgets/base",
      "model_module_version": "1.2.0",
      "model_name": "LayoutModel",
      "state": {}
     },
     "c89194193d964a49a867579e71accd7e": {
      "model_module": "jupyter-vuetify",
      "model_module_version": "^1.5.1",
      "model_name": "RowModel",
      "state": {
       "_events": [],
       "_jupyter_vue": "IPY_MODEL_bc2712ed128d4d47ba50f0f591fcb068",
       "attributes": {},
       "children": [
        "IPY_MODEL_118284a771294d04ad6de0bfb2da556a",
        "IPY_MODEL_4d44256688854b67b3cdbd42acf8294c",
        "IPY_MODEL_27b1c119433147b0bcac587400c4d02e"
       ],
       "dense": true,
       "layout": "IPY_MODEL_de97cb6517fc4b28a47e22addcae463b",
       "v_slots": []
      }
     },
     "c92d96dfed1045dfbb7bf6c657829658": {
      "model_module": "@jupyter-widgets/base",
      "model_module_version": "1.2.0",
      "model_name": "LayoutModel",
      "state": {}
     },
     "c933f2c2ba274afd9a5db303d0ee6d5c": {
      "model_module": "jupyter-vuetify",
      "model_module_version": "^1.5.1",
      "model_name": "CardModel",
      "state": {
       "_events": [],
       "_jupyter_vue": "IPY_MODEL_bc2712ed128d4d47ba50f0f591fcb068",
       "attributes": {},
       "children": [
        "IPY_MODEL_b80ae1b5a5ac4262b9748b1e7b2b523d",
        "IPY_MODEL_9f294f9a85914ab39815481878c53c8f",
        "IPY_MODEL_ae1370f231404323ab81bbfc5e7a2d72"
       ],
       "elevation": null,
       "height": null,
       "href": null,
       "layout": "IPY_MODEL_bb2f919befdf45fcb91c0c6c35f17cf0",
       "loader_height": null,
       "loading": null,
       "max_height": null,
       "max_width": null,
       "min_height": null,
       "min_width": null,
       "ripple": null,
       "to": null,
       "v_slots": [],
       "width": null
      }
     },
     "c962eadd32f242c8b9372190a0ab6619": {
      "model_module": "jupyter-vuetify",
      "model_module_version": "^1.5.1",
      "model_name": "CardTitleModel",
      "state": {
       "_events": [],
       "_jupyter_vue": "IPY_MODEL_bc2712ed128d4d47ba50f0f591fcb068",
       "attributes": {},
       "children": [
        "ZIP Codes"
       ],
       "layout": "IPY_MODEL_c971271e6daa477c8b4126522b7d6cd4",
       "v_slots": []
      }
     },
     "c96b124e665c4ce38f7d1b2ae0803de7": {
      "model_module": "jupyter-vuetify",
      "model_module_version": "^1.5.1",
      "model_name": "CardTitleModel",
      "state": {
       "_events": [],
       "_jupyter_vue": "IPY_MODEL_bc2712ed128d4d47ba50f0f591fcb068",
       "attributes": {},
       "children": [
        "About the Data"
       ],
       "layout": "IPY_MODEL_dafa831d830a46a4b848bd498d3dc334",
       "v_slots": []
      }
     },
     "c971271e6daa477c8b4126522b7d6cd4": {
      "model_module": "@jupyter-widgets/base",
      "model_module_version": "1.2.0",
      "model_name": "LayoutModel",
      "state": {}
     },
     "c9b70c19972345b8a0dc1748afb03fd9": {
      "model_module": "jupyter-vuetify",
      "model_module_version": "^1.5.1",
      "model_name": "CardTextModel",
      "state": {
       "_events": [],
       "_jupyter_vue": "IPY_MODEL_bc2712ed128d4d47ba50f0f591fcb068",
       "attributes": {},
       "children": [
        "IPY_MODEL_37d4cd8d605e4a388da434988a90ee4e"
       ],
       "layout": "IPY_MODEL_cb9e0b62f0b045269b859015ac25ce8b",
       "v_slots": []
      }
     },
     "c9ccd0c480534911ae4cd6e248edf082": {
      "model_module": "jupyter-vuetify",
      "model_module_version": "^1.5.1",
      "model_name": "RowModel",
      "state": {
       "_events": [],
       "_jupyter_vue": "IPY_MODEL_bc2712ed128d4d47ba50f0f591fcb068",
       "align": "center",
       "attributes": {},
       "children": [
        "IPY_MODEL_ab6e5334f1884e398722f72393f64f09"
       ],
       "justify": "center",
       "layout": "IPY_MODEL_f76edfd4066e44b6a21069a386ecfa1f",
       "v_slots": []
      }
     },
     "ca155a8eda8848e99ddf0148e404959a": {
      "model_module": "jupyter-vuetify",
      "model_module_version": "^1.5.1",
      "model_name": "RowModel",
      "state": {
       "_events": [],
       "_jupyter_vue": "IPY_MODEL_bc2712ed128d4d47ba50f0f591fcb068",
       "attributes": {},
       "children": [
        "IPY_MODEL_888cd46d488f4b3ab157b478215820ff",
        "IPY_MODEL_3d6d0e3fbd80410a8eb2bc47da113e22",
        "IPY_MODEL_d932c580a448461ea42697c0cf0a8e6d"
       ],
       "dense": true,
       "layout": "IPY_MODEL_f1b74aa580b94039bdad3d82d1146c57",
       "v_slots": []
      }
     },
     "ca746dc0f2f0440d89cb695634de1530": {
      "model_module": "jupyter-vuetify",
      "model_module_version": "^1.5.1",
      "model_name": "CardTextModel",
      "state": {
       "_events": [],
       "_jupyter_vue": "IPY_MODEL_bc2712ed128d4d47ba50f0f591fcb068",
       "attributes": {},
       "children": [
        "lol"
       ],
       "layout": "IPY_MODEL_229291c21cf243babafb5a75e1ce000f",
       "v_slots": []
      }
     },
     "ca7545d0363e4413b21ba2d09e25661c": {
      "model_module": "jupyter-vuetify",
      "model_module_version": "^1.5.1",
      "model_name": "HtmlModel",
      "state": {
       "_events": [],
       "_jupyter_vue": "IPY_MODEL_bc2712ed128d4d47ba50f0f591fcb068",
       "_model_module_version": "^1.5.1",
       "_view_module_version": "^1.5.1",
       "attributes": {
        "href": "https://sandag.org/resources/maps_and_gis/gis_downloads/disclaimer.asp",
        "target": "_blank"
       },
       "children": [
        "Disclaimer"
       ],
       "layout": "IPY_MODEL_dee41aea06a248e88367c9b6043ed801",
       "tag": "a",
       "v_slots": []
      }
     },
     "caf3f34ba48d4ae4a131beaab1331c85": {
      "model_module": "jupyter-vuetify",
      "model_module_version": "^1.5.1",
      "model_name": "CardTextModel",
      "state": {
       "_events": [],
       "_jupyter_vue": "IPY_MODEL_bc2712ed128d4d47ba50f0f591fcb068",
       "attributes": {},
       "children": [
        "IPY_MODEL_77c74a133a8b47c09574549bc400510b",
        "IPY_MODEL_8fc4bcbfb452495fa9f05b1d65f172fe"
       ],
       "layout": "IPY_MODEL_4cdec8a727e14cbd8ae605153f9091ef",
       "v_slots": []
      }
     },
     "cb01bdbc5ef7480cbb35b8e8c486b3d0": {
      "model_module": "@jupyter-widgets/base",
      "model_module_version": "1.2.0",
      "model_name": "LayoutModel",
      "state": {}
     },
     "cb0c65b815344c379396972ad1efb0d6": {
      "model_module": "jupyter-vuetify",
      "model_module_version": "^1.5.1",
      "model_name": "HtmlModel",
      "state": {
       "_events": [],
       "_jupyter_vue": "IPY_MODEL_bc2712ed128d4d47ba50f0f591fcb068",
       "_model_module_version": "^1.5.1",
       "_view_module_version": "^1.5.1",
       "attributes": {},
       "children": [
        "Data are usually updated from the Internet Archive once per day."
       ],
       "layout": "IPY_MODEL_9f71be22b6844b10b5b5b9c67a914c35",
       "tag": "p",
       "v_slots": []
      }
     },
     "cb236a78f52748a1861a5242557c66f7": {
      "model_module": "@jupyter-widgets/base",
      "model_module_version": "1.2.0",
      "model_name": "LayoutModel",
      "state": {}
     },
     "cb4e869c91e741fd8db63e560901e594": {
      "model_module": "jupyter-vuetify",
      "model_module_version": "^1.5.1",
      "model_name": "BtnModel",
      "state": {
       "_events": [],
       "_jupyter_vue": "IPY_MODEL_bc2712ed128d4d47ba50f0f591fcb068",
       "attributes": {},
       "children": [
        "IPY_MODEL_fb2257a50ae649dabf8553a8ca58b4b5"
       ],
       "color": "blue",
       "elevation": null,
       "height": null,
       "href": null,
       "layout": "IPY_MODEL_97f986df34574c818430e3c60559d2b3",
       "max_height": null,
       "max_width": null,
       "min_height": null,
       "min_width": null,
       "ripple": null,
       "text": true,
       "to": null,
       "v_slots": [],
       "width": null
      }
     },
     "cb5da0ee8fde49cda189ff4d9bfead4e": {
      "model_module": "jupyter-vuetify",
      "model_module_version": "^1.5.1",
      "model_name": "HtmlModel",
      "state": {
       "_events": [],
       "_jupyter_vue": "IPY_MODEL_bc2712ed128d4d47ba50f0f591fcb068",
       "_model_module_version": "^1.5.1",
       "_view_module_version": "^1.5.1",
       "attributes": {
        "href": "https://sandag.org/resources/maps_and_gis/gis_downloads/disclaimer.asp",
        "target": "_blank"
       },
       "children": [
        "SANDAG Disclaimer"
       ],
       "layout": "IPY_MODEL_5e5db85cd16843589bbaadea236d6ba1",
       "tag": "a",
       "v_slots": []
      }
     },
     "cb636d644bf54e45b9bf1f0f83e7e39b": {
      "model_module": "jupyter-vuetify",
      "model_module_version": "^1.5.1",
      "model_name": "CardModel",
      "state": {
       "_events": [],
       "_jupyter_vue": "IPY_MODEL_bc2712ed128d4d47ba50f0f591fcb068",
       "attributes": {},
       "children": [
        "IPY_MODEL_43c1581d2497491ba0a57b6f7011a196",
        "IPY_MODEL_766b1326ebd14c6ea8bf4b444f95b144",
        "IPY_MODEL_072278c26d1c4b1b824bdf839b1f31cd"
       ],
       "elevation": null,
       "height": null,
       "href": null,
       "layout": "IPY_MODEL_3db579333423476bbac9b05383d886d5",
       "loader_height": null,
       "loading": null,
       "max_height": null,
       "max_width": null,
       "min_height": null,
       "min_width": null,
       "ripple": null,
       "to": null,
       "v_slots": [],
       "width": null
      }
     },
     "cb64055d6dfd47068462da4497711d13": {
      "model_module": "@jupyter-widgets/base",
      "model_module_version": "1.2.0",
      "model_name": "LayoutModel",
      "state": {}
     },
     "cb683de0dda04b45a8f9c740d90e5811": {
      "model_module": "@jupyter-widgets/base",
      "model_module_version": "1.2.0",
      "model_name": "LayoutModel",
      "state": {}
     },
     "cb6c760f597d475192bb6c360249639b": {
      "model_module": "@jupyter-widgets/base",
      "model_module_version": "1.2.0",
      "model_name": "LayoutModel",
      "state": {}
     },
     "cb7bfac7587145be8c92b7bf994be491": {
      "model_module": "@jupyter-widgets/base",
      "model_module_version": "1.2.0",
      "model_name": "LayoutModel",
      "state": {}
     },
     "cb9e0b62f0b045269b859015ac25ce8b": {
      "model_module": "@jupyter-widgets/base",
      "model_module_version": "1.2.0",
      "model_name": "LayoutModel",
      "state": {}
     },
     "cbe644dcfee34c1b99b3dcb3e2800dbc": {
      "model_module": "jupyter-vuetify",
      "model_module_version": "^1.5.1",
      "model_name": "CardTextModel",
      "state": {
       "_events": [],
       "_jupyter_vue": "IPY_MODEL_bc2712ed128d4d47ba50f0f591fcb068",
       "attributes": {},
       "children": [
        "The ZIP code boundaries shown in all maps are taken from the SANDAG/SanGIS Open Data Portal."
       ],
       "layout": "IPY_MODEL_d09bc1ecd929461d8c79f603f755cb86",
       "v_slots": []
      }
     },
     "cc1f5f7a8c7f4ce78899c4733aa046c0": {
      "model_module": "@jupyter-widgets/base",
      "model_module_version": "1.2.0",
      "model_name": "LayoutModel",
      "state": {}
     },
     "cc338aaf71c745528f67cd6f160b7645": {
      "model_module": "@jupyter-widgets/base",
      "model_module_version": "1.2.0",
      "model_name": "LayoutModel",
      "state": {}
     },
     "cc73edce2c8a4409bfdbc631875c3411": {
      "model_module": "jupyter-vuetify",
      "model_module_version": "^1.5.1",
      "model_name": "HtmlModel",
      "state": {
       "_events": [],
       "_jupyter_vue": "IPY_MODEL_bc2712ed128d4d47ba50f0f591fcb068",
       "_model_module_version": "^1.5.1",
       "_view_module_version": "^1.5.1",
       "attributes": {},
       "children": [
        "Zip code is zip code of residence, which may not be location of exposure. Rates based on small case counts may vary considerably and should be interpreted with caution.",
        "Data are preliminary and subject to change. Total population=3,351,784."
       ],
       "layout": "IPY_MODEL_37038092b4c54ced9cc82a042eac1032",
       "tag": "p",
       "v_slots": []
      }
     },
     "cca20490a10e42b3a92b38a571fec93b": {
      "model_module": "@jupyter-widgets/base",
      "model_module_version": "1.2.0",
      "model_name": "LayoutModel",
      "state": {}
     },
     "ccb45908862c497a8202f6ef8fe4098e": {
      "model_module": "@jupyter-widgets/base",
      "model_module_version": "1.2.0",
      "model_name": "LayoutModel",
      "state": {}
     },
     "cd1b6e99e67447dfb2790b4ab9f4f921": {
      "model_module": "@jupyter-widgets/base",
      "model_module_version": "1.2.0",
      "model_name": "LayoutModel",
      "state": {}
     },
     "cd2f0e73d3a545e58d3d78e75ab5ff63": {
      "model_module": "jupyter-vuetify",
      "model_module_version": "^1.5.1",
      "model_name": "CardTextModel",
      "state": {
       "_events": [],
       "_jupyter_vue": "IPY_MODEL_bc2712ed128d4d47ba50f0f591fcb068",
       "attributes": {},
       "children": [
        "IPY_MODEL_f056514c3b0c417dac2ec549d49c5386"
       ],
       "layout": "IPY_MODEL_9868bd8876634c03815ec08cd95275e5",
       "v_slots": []
      }
     },
     "cd37d92edc424528a1243d8fe8e75a32": {
      "model_module": "jupyter-vuetify",
      "model_module_version": "^1.5.1",
      "model_name": "HtmlModel",
      "state": {
       "_events": [],
       "_jupyter_vue": "IPY_MODEL_bc2712ed128d4d47ba50f0f591fcb068",
       "_model_module_version": "^1.5.1",
       "_view_module_version": "^1.5.1",
       "attributes": {
        "href": "https://sandag.org/resources/maps_and_gis/gis_downloads/disclaimer.asp",
        "target": "_blank"
       },
       "children": [
        "SANDAG Disclaimer"
       ],
       "layout": "IPY_MODEL_f1143e0367c14fb79034661aa687cf26",
       "tag": "a",
       "v_slots": []
      }
     },
     "cd5cb175ad7d4e02ba1babd0260c6924": {
      "model_module": "@jupyter-widgets/base",
      "model_module_version": "1.2.0",
      "model_name": "LayoutModel",
      "state": {}
     },
     "cd6c03d8d029487d974da1c07da58b36": {
      "model_module": "jupyter-vuetify",
      "model_module_version": "^1.5.1",
      "model_name": "ColModel",
      "state": {
       "_events": [],
       "_jupyter_vue": "IPY_MODEL_bc2712ed128d4d47ba50f0f591fcb068",
       "attributes": {},
       "children": [
        "IPY_MODEL_0e299db34a95466c9b163c7cd67c88cc"
       ],
       "cols": 6,
       "layout": "IPY_MODEL_64e2fd0c58d440aab18c680839475582",
       "lg": null,
       "md": null,
       "offset": null,
       "offset_lg": null,
       "offset_md": null,
       "offset_sm": null,
       "offset_xl": null,
       "order": null,
       "order_lg": null,
       "order_md": null,
       "order_sm": null,
       "order_xl": null,
       "sm": null,
       "v_slots": [],
       "xl": null
      }
     },
     "cd7f4fc5b7a54d838c5bd887d3965dae": {
      "model_module": "@jupyter-widgets/base",
      "model_module_version": "1.2.0",
      "model_name": "LayoutModel",
      "state": {}
     },
     "cd90bba8c2944cb4ac4df4da1917fcd8": {
      "model_module": "@jupyter-widgets/base",
      "model_module_version": "1.2.0",
      "model_name": "LayoutModel",
      "state": {}
     },
     "ce01c29bc7e54ee596fc4d0c0cd9ffd1": {
      "model_module": "jupyter-vuetify",
      "model_module_version": "^1.5.1",
      "model_name": "CardActionsModel",
      "state": {
       "_events": [],
       "_jupyter_vue": "IPY_MODEL_bc2712ed128d4d47ba50f0f591fcb068",
       "attributes": {},
       "children": [
        "IPY_MODEL_e0adaa085ab84ca9ba708d18c3b4b1e5",
        "IPY_MODEL_0b2af412f4c841b9919a42d865407096",
        "IPY_MODEL_3c2ca0979c2046299fcdd516098aa45e"
       ],
       "layout": "IPY_MODEL_b1c54359065f46f0acc5fa6a332aec0a",
       "v_slots": []
      }
     },
     "ce05f52cd906427a99df04c5e579a9fc": {
      "model_module": "@jupyter-widgets/base",
      "model_module_version": "1.2.0",
      "model_name": "LayoutModel",
      "state": {}
     },
     "ce4d778e0b32494494cc2335f6646ee9": {
      "model_module": "jupyter-vuetify",
      "model_module_version": "^1.5.1",
      "model_name": "CardTitleModel",
      "state": {
       "_events": [],
       "_jupyter_vue": "IPY_MODEL_bc2712ed128d4d47ba50f0f591fcb068",
       "attributes": {},
       "children": [
        "ZIP Code Boundaries"
       ],
       "layout": "IPY_MODEL_1fa1e563c5864cdbb16b025865d62349",
       "v_slots": []
      }
     },
     "ce89412220d243299acf204ddd5e053e": {
      "model_module": "@jupyter-widgets/base",
      "model_module_version": "1.2.0",
      "model_name": "LayoutModel",
      "state": {}
     },
     "ceaf1732ba334f5eb7f83268cbd9f2f0": {
      "model_module": "@jupyter-widgets/base",
      "model_module_version": "1.2.0",
      "model_name": "LayoutModel",
      "state": {}
     },
     "ceafe49449eb4bf5aa28878734c2423e": {
      "model_module": "@jupyter-widgets/base",
      "model_module_version": "1.2.0",
      "model_name": "LayoutModel",
      "state": {}
     },
     "ceb9355e1c064ff78c6d0604f922ac71": {
      "model_module": "jupyter-vuetify",
      "model_module_version": "^1.5.1",
      "model_name": "ContainerModel",
      "state": {
       "_events": [],
       "_jupyter_vue": "IPY_MODEL_bc2712ed128d4d47ba50f0f591fcb068",
       "attributes": {},
       "children": [
        "IPY_MODEL_3fcede2e3a2e484a996f4730e080e749"
       ],
       "fluid": true,
       "layout": "IPY_MODEL_3106f04abda5480d98c422c4585d3c62",
       "v_slots": []
      }
     },
     "cefe0a5b887342d1b9cfdc4bfb8192a1": {
      "model_module": "@jupyter-widgets/base",
      "model_module_version": "1.2.0",
      "model_name": "LayoutModel",
      "state": {}
     },
     "cf3686f795e44966b3277ce0e8ff5ec0": {
      "model_module": "jupyter-vuetify",
      "model_module_version": "^1.5.1",
      "model_name": "CardTextModel",
      "state": {
       "_events": [],
       "_jupyter_vue": "IPY_MODEL_bc2712ed128d4d47ba50f0f591fcb068",
       "attributes": {},
       "children": [
        "lol"
       ],
       "layout": "IPY_MODEL_f23f865e89c44eddbb1ac3aa5fb9cac4",
       "v_slots": []
      }
     },
     "cf8f93e6557e48bf84ffe560ac9f4720": {
      "model_module": "jupyter-vuetify",
      "model_module_version": "^1.5.1",
      "model_name": "CardTextModel",
      "state": {
       "_events": [],
       "_jupyter_vue": "IPY_MODEL_bc2712ed128d4d47ba50f0f591fcb068",
       "attributes": {},
       "children": [
        "This section informs about the sources of the data that are used in this dashboard."
       ],
       "layout": "IPY_MODEL_2092eef63290444180750562d3781391",
       "v_slots": []
      }
     },
     "cfa5c6c6004443ea9fb357cb490d90d7": {
      "model_module": "@jupyter-widgets/base",
      "model_module_version": "1.2.0",
      "model_name": "LayoutModel",
      "state": {}
     },
     "cfb10779a06a4c12bfaaaf4ba3535af2": {
      "model_module": "@jupyter-widgets/base",
      "model_module_version": "1.2.0",
      "model_name": "LayoutModel",
      "state": {}
     },
     "cfc67240c42f4cfb963b3da25bd5dc65": {
      "model_module": "@jupyter-widgets/base",
      "model_module_version": "1.2.0",
      "model_name": "LayoutModel",
      "state": {}
     },
     "cfd8407beaa843c8b4e89124d35b8b80": {
      "model_module": "@jupyter-widgets/base",
      "model_module_version": "1.2.0",
      "model_name": "LayoutModel",
      "state": {}
     },
     "cffca06c640d4cb5bc68c7e5e21c5d42": {
      "model_module": "jupyter-vuetify",
      "model_module_version": "^1.5.1",
      "model_name": "ContainerModel",
      "state": {
       "_events": [],
       "_jupyter_vue": "IPY_MODEL_bc2712ed128d4d47ba50f0f591fcb068",
       "attributes": {},
       "children": [
        "IPY_MODEL_e8a5893e603040439bac170dd5c4ef33"
       ],
       "fluid": true,
       "layout": "IPY_MODEL_335e00b29c4d44cea1aa3723b59b361d",
       "v_slots": []
      }
     },
     "d061fb8edbe4408baf7ce9e9021c04a0": {
      "model_module": "jupyter-vuetify",
      "model_module_version": "^1.5.1",
      "model_name": "CardModel",
      "state": {
       "_events": [],
       "_jupyter_vue": "IPY_MODEL_bc2712ed128d4d47ba50f0f591fcb068",
       "attributes": {},
       "children": [
        "IPY_MODEL_70d7b7fd2d8641708005f1304df5b15f",
        "IPY_MODEL_6476e1d1df5245d5bd6ed661a034c4b1"
       ],
       "elevation": null,
       "height": null,
       "href": null,
       "layout": "IPY_MODEL_c3d017e316bb4835b8e3c57619a4f65f",
       "loader_height": null,
       "loading": null,
       "max_height": null,
       "max_width": null,
       "min_height": null,
       "min_width": null,
       "ripple": null,
       "to": null,
       "v_slots": [],
       "width": null
      }
     },
     "d09bc1ecd929461d8c79f603f755cb86": {
      "model_module": "@jupyter-widgets/base",
      "model_module_version": "1.2.0",
      "model_name": "LayoutModel",
      "state": {}
     },
     "d0f8a6d74109481eb764391dc042e23d": {
      "model_module": "jupyter-vuetify",
      "model_module_version": "^1.5.1",
      "model_name": "ColModel",
      "state": {
       "_events": [],
       "_jupyter_vue": "IPY_MODEL_bc2712ed128d4d47ba50f0f591fcb068",
       "attributes": {},
       "children": [
        "IPY_MODEL_746197dc66624a228304af75f4dc574a"
       ],
       "cols": 12,
       "layout": "IPY_MODEL_55b597ca18b445b1884ad0b2d90b6306",
       "lg": null,
       "md": null,
       "offset": null,
       "offset_lg": null,
       "offset_md": null,
       "offset_sm": null,
       "offset_xl": null,
       "order": null,
       "order_lg": null,
       "order_md": null,
       "order_sm": null,
       "order_xl": null,
       "sm": null,
       "v_slots": [],
       "xl": null
      }
     },
     "d109c393059845d7b13649760d3fa68b": {
      "model_module": "jupyter-vuetify",
      "model_module_version": "^1.5.1",
      "model_name": "ColModel",
      "state": {
       "_events": [],
       "_jupyter_vue": "IPY_MODEL_bc2712ed128d4d47ba50f0f591fcb068",
       "attributes": {},
       "children": [
        "IPY_MODEL_4540710056a9403f9d4a0befc21f7a87"
       ],
       "cols": 6,
       "layout": "IPY_MODEL_dce600471ece4caca1e4a86c599cc5eb",
       "lg": null,
       "md": null,
       "offset": null,
       "offset_lg": null,
       "offset_md": null,
       "offset_sm": null,
       "offset_xl": null,
       "order": null,
       "order_lg": null,
       "order_md": null,
       "order_sm": null,
       "order_xl": null,
       "sm": null,
       "v_slots": [],
       "xl": null
      }
     },
     "d11053fa11714dc48106d0106bc461ad": {
      "model_module": "jupyter-vuetify",
      "model_module_version": "^1.5.1",
      "model_name": "CardModel",
      "state": {
       "_events": [],
       "_jupyter_vue": "IPY_MODEL_bc2712ed128d4d47ba50f0f591fcb068",
       "attributes": {},
       "children": [
        "IPY_MODEL_3500da67926d4b7eacf174ea9545a3a9",
        "IPY_MODEL_8f7cf1ad5e2548cfb10b2ccc2b918afa"
       ],
       "elevation": null,
       "height": null,
       "href": null,
       "layout": "IPY_MODEL_6354e5dcf8544b86a4b70418db91204d",
       "loader_height": null,
       "loading": null,
       "max_height": null,
       "max_width": null,
       "min_height": null,
       "min_width": null,
       "ripple": null,
       "to": null,
       "v_slots": [],
       "width": null
      }
     },
     "d16e96d5352d4f66a51411522847faf4": {
      "model_module": "jupyter-vuetify",
      "model_module_version": "^1.5.1",
      "model_name": "CardModel",
      "state": {
       "_events": [],
       "_jupyter_vue": "IPY_MODEL_bc2712ed128d4d47ba50f0f591fcb068",
       "attributes": {},
       "children": [
        "IPY_MODEL_953165fc8c7640029ba60c45b15e7543",
        "IPY_MODEL_935aab339bcf41c0b011b3c6710d5b49",
        "IPY_MODEL_027a9056162246858f267d4bcc825e1d"
       ],
       "elevation": null,
       "height": null,
       "href": null,
       "layout": "IPY_MODEL_12adf9021c8441eabce21948832993a5",
       "loader_height": null,
       "loading": null,
       "max_height": null,
       "max_width": null,
       "min_height": null,
       "min_width": null,
       "ripple": null,
       "to": null,
       "v_slots": [],
       "width": null
      }
     },
     "d1815b4ce0a3464ab7fd191c69d2f1e0": {
      "model_module": "@jupyter-widgets/base",
      "model_module_version": "1.2.0",
      "model_name": "LayoutModel",
      "state": {}
     },
     "d1e1729311c94cb5a29cf2b8bea40b08": {
      "model_module": "@jupyter-widgets/base",
      "model_module_version": "1.2.0",
      "model_name": "LayoutModel",
      "state": {}
     },
     "d1e3dfd2be0e403ebfdaca4a63404193": {
      "model_module": "@jupyter-widgets/base",
      "model_module_version": "1.2.0",
      "model_name": "LayoutModel",
      "state": {}
     },
     "d21942f96c2b4efc8418f604b1732c07": {
      "model_module": "jupyter-vuetify",
      "model_module_version": "^1.5.1",
      "model_name": "BtnModel",
      "state": {
       "_events": [],
       "_jupyter_vue": "IPY_MODEL_bc2712ed128d4d47ba50f0f591fcb068",
       "attributes": {},
       "children": [
        "IPY_MODEL_530f48ee7ab8428294c57edfad5b4956"
       ],
       "color": "blue",
       "elevation": null,
       "height": null,
       "href": null,
       "layout": "IPY_MODEL_bf348e3961b74bcd87121227631deb99",
       "max_height": null,
       "max_width": null,
       "min_height": null,
       "min_width": null,
       "ripple": null,
       "text": true,
       "to": null,
       "v_slots": [],
       "width": null
      }
     },
     "d23a9961cc7c49bbacc2a12dec96708c": {
      "model_module": "@jupyter-widgets/base",
      "model_module_version": "1.2.0",
      "model_name": "LayoutModel",
      "state": {}
     },
     "d23cac4b000045e49ec17493e3c5f559": {
      "model_module": "jupyter-vuetify",
      "model_module_version": "^1.5.1",
      "model_name": "CardTitleModel",
      "state": {
       "_events": [],
       "_jupyter_vue": "IPY_MODEL_bc2712ed128d4d47ba50f0f591fcb068",
       "attributes": {},
       "children": [
        "ZIP Code Boundaries"
       ],
       "layout": "IPY_MODEL_20e3509e4a6d42c0897ff714e87d508d",
       "v_slots": []
      }
     },
     "d2a01437068449498497db6a5be18528": {
      "model_module": "@jupyter-widgets/base",
      "model_module_version": "1.2.0",
      "model_name": "LayoutModel",
      "state": {}
     },
     "d2bef7d40678414d822da65535542159": {
      "model_module": "jupyter-vuetify",
      "model_module_version": "^1.5.1",
      "model_name": "CardTextModel",
      "state": {
       "_events": [],
       "_jupyter_vue": "IPY_MODEL_bc2712ed128d4d47ba50f0f591fcb068",
       "attributes": {},
       "children": [
        "This section informs about the sources of the data that are used in this dashboard."
       ],
       "layout": "IPY_MODEL_fd8d237c25a24af980286c1efa75d760",
       "v_slots": []
      }
     },
     "d2d1ead50ca84c218d644eaf31730d9b": {
      "model_module": "@jupyter-widgets/base",
      "model_module_version": "1.2.0",
      "model_name": "LayoutModel",
      "state": {}
     },
     "d34ab78d230d4239b3088b4dd660f9c8": {
      "model_module": "@jupyter-widgets/base",
      "model_module_version": "1.2.0",
      "model_name": "LayoutModel",
      "state": {}
     },
     "d34f7853beae4eb3bf35f3616beeb2e6": {
      "model_module": "jupyter-vuetify",
      "model_module_version": "^1.5.1",
      "model_name": "CardTitleModel",
      "state": {
       "_events": [],
       "_jupyter_vue": "IPY_MODEL_bc2712ed128d4d47ba50f0f591fcb068",
       "attributes": {},
       "children": [
        "ZIP Codes"
       ],
       "layout": "IPY_MODEL_9582534cd3c14da7bb47cfe782ee7551",
       "v_slots": []
      }
     },
     "d37b2db253924f988fa3af1ddf1663bb": {
      "model_module": "jupyter-vuetify",
      "model_module_version": "^1.5.1",
      "model_name": "HtmlModel",
      "state": {
       "_events": [],
       "_jupyter_vue": "IPY_MODEL_bc2712ed128d4d47ba50f0f591fcb068",
       "_model_module_version": "^1.5.1",
       "_view_module_version": "^1.5.1",
       "attributes": {},
       "children": [
        "Zip code is zip code of residence, which may not be location of exposure. Rates based on small case counts may vary considerably and should be interpreted with caution.",
        "Data are preliminary and subject to change. Total population=3,351,784."
       ],
       "layout": "IPY_MODEL_afd213b1a47849a8bbc7826a8e09735b",
       "tag": "p",
       "v_slots": []
      }
     },
     "d3e2a6802422442fb42613531eb27209": {
      "model_module": "@jupyter-widgets/base",
      "model_module_version": "1.2.0",
      "model_name": "LayoutModel",
      "state": {}
     },
     "d42961800880490884950c8d29ef8b77": {
      "model_module": "@jupyter-widgets/base",
      "model_module_version": "1.2.0",
      "model_name": "LayoutModel",
      "state": {}
     },
     "d42da7bbef464df9875bc1134b61ad3c": {
      "model_module": "jupyter-vuetify",
      "model_module_version": "^1.5.1",
      "model_name": "CardModel",
      "state": {
       "_events": [],
       "_jupyter_vue": "IPY_MODEL_bc2712ed128d4d47ba50f0f591fcb068",
       "attributes": {},
       "children": [
        "IPY_MODEL_8402f48d56b64836b10b8a8c5cccc0f4",
        "IPY_MODEL_798df7a7bdea450b8ea1d17362be1942",
        "IPY_MODEL_b75e3fc5e6fd47ccaf3bc553f150caf8"
       ],
       "elevation": null,
       "height": null,
       "href": null,
       "layout": "IPY_MODEL_f2c37af0e2964b21867d37b5a07439e7",
       "loader_height": null,
       "loading": null,
       "max_height": null,
       "max_width": null,
       "min_height": null,
       "min_width": null,
       "ripple": null,
       "to": null,
       "v_slots": [],
       "width": null
      }
     },
     "d44e8058f67944e5b4b94944bdaa7528": {
      "model_module": "jupyter-vuetify",
      "model_module_version": "^1.5.1",
      "model_name": "BtnModel",
      "state": {
       "_events": [],
       "_jupyter_vue": "IPY_MODEL_bc2712ed128d4d47ba50f0f591fcb068",
       "attributes": {},
       "children": [
        "IPY_MODEL_addbdf3aa4a349e3953045f203e44528"
       ],
       "color": "blue",
       "elevation": null,
       "height": null,
       "href": null,
       "layout": "IPY_MODEL_32dd2f1bc7fd44c1bb4d128932b6517b",
       "max_height": null,
       "max_width": null,
       "min_height": null,
       "min_width": null,
       "ripple": null,
       "text": true,
       "to": null,
       "v_slots": [],
       "width": null
      }
     },
     "d45ee2f3f243493789b7734e96d0df9c": {
      "model_module": "jupyter-vuetify",
      "model_module_version": "^1.5.1",
      "model_name": "CardTextModel",
      "state": {
       "_events": [],
       "_jupyter_vue": "IPY_MODEL_bc2712ed128d4d47ba50f0f591fcb068",
       "attributes": {},
       "children": [
        "IPY_MODEL_ff5c3a1441334dc98ba814749c8e37f5",
        "IPY_MODEL_aca554b99408447488aa357fe8526601"
       ],
       "layout": "IPY_MODEL_b3da3cb090e7489eaa3f442b6e7bc1cb",
       "v_slots": []
      }
     },
     "d4660314609b48f698615b424599e32e": {
      "model_module": "jupyter-vuetify",
      "model_module_version": "^1.5.1",
      "model_name": "HtmlModel",
      "state": {
       "_events": [],
       "_jupyter_vue": "IPY_MODEL_bc2712ed128d4d47ba50f0f591fcb068",
       "_model_module_version": "^1.5.1",
       "_view_module_version": "^1.5.1",
       "attributes": {},
       "children": [
        "All Covid-19 case data have been received from the Internet Archive. The original data have been prepared in PDF documents with the title \"Daily Coronavirus Disease 2019 (COVID-19) Summary of Cases by Zip Code of Residence\" by the County of San Diego, Health and Human Services Agency, Public Health Services, Epidemiology and Immunization Services Branch."
       ],
       "layout": "IPY_MODEL_ffdf851114f4436f9d85b398144f6140",
       "tag": "p",
       "v_slots": []
      }
     },
     "d47fc40b5ec1405fac46aa1cb14e9539": {
      "model_module": "jupyter-vuetify",
      "model_module_version": "^1.5.1",
      "model_name": "CardTextModel",
      "state": {
       "_events": [],
       "_jupyter_vue": "IPY_MODEL_bc2712ed128d4d47ba50f0f591fcb068",
       "attributes": {},
       "children": [
        "The ZIP code boundaries shown in all maps are taken from the SANDAG/SanGIS Open Data Portal."
       ],
       "layout": "IPY_MODEL_f9f4f835242049c4b0b5f2bc1f54d348",
       "v_slots": []
      }
     },
     "d4a034c893974f5da41e5247bc723cbc": {
      "model_module": "jupyter-vuetify",
      "model_module_version": "^1.5.1",
      "model_name": "CardTitleModel",
      "state": {
       "_events": [],
       "_jupyter_vue": "IPY_MODEL_bc2712ed128d4d47ba50f0f591fcb068",
       "attributes": {},
       "children": [
        "ZIP Codes"
       ],
       "layout": "IPY_MODEL_48de556b9c72429aa1a95858de001cfe",
       "v_slots": []
      }
     },
     "d4af26c9119340e280a15fa116f94485": {
      "model_module": "jupyter-vuetify",
      "model_module_version": "^1.5.1",
      "model_name": "CardTextModel",
      "state": {
       "_events": [],
       "_jupyter_vue": "IPY_MODEL_bc2712ed128d4d47ba50f0f591fcb068",
       "attributes": {},
       "children": [
        "This section informs about the sources of the data that are used in this dashboard."
       ],
       "layout": "IPY_MODEL_d1815b4ce0a3464ab7fd191c69d2f1e0",
       "v_slots": []
      }
     },
     "d4f128e594124ac587d61c17ec58ed34": {
      "model_module": "@jupyter-widgets/base",
      "model_module_version": "1.2.0",
      "model_name": "LayoutModel",
      "state": {}
     },
     "d512adc83b674c88b9504ad6fa5da8e5": {
      "model_module": "jupyter-vuetify",
      "model_module_version": "^1.5.1",
      "model_name": "CardTextModel",
      "state": {
       "_events": [],
       "_jupyter_vue": "IPY_MODEL_bc2712ed128d4d47ba50f0f591fcb068",
       "attributes": {},
       "children": [
        "This section informs about the sources of the data that are used in this dashboard."
       ],
       "layout": "IPY_MODEL_a053aab3a973489785ef78ba236e9141",
       "v_slots": []
      }
     },
     "d53f98bcd47348b3bff7999bf983c26c": {
      "model_module": "jupyter-vuetify",
      "model_module_version": "^1.5.1",
      "model_name": "CardTitleModel",
      "state": {
       "_events": [],
       "_jupyter_vue": "IPY_MODEL_bc2712ed128d4d47ba50f0f591fcb068",
       "attributes": {},
       "children": [
        "About the Data"
       ],
       "layout": "IPY_MODEL_d9bec1ca3e2d43d6b0ec38b52572a867",
       "v_slots": []
      }
     },
     "d5a131b39e644f2bbf88746fee77efe1": {
      "model_module": "jupyter-vuetify",
      "model_module_version": "^1.5.1",
      "model_name": "CardModel",
      "state": {
       "_events": [],
       "_jupyter_vue": "IPY_MODEL_bc2712ed128d4d47ba50f0f591fcb068",
       "attributes": {},
       "children": [
        "IPY_MODEL_2fe98793b26143d2b480d3781d0043dd",
        "IPY_MODEL_486b131adfeb42daaa249078dfdceac0",
        "IPY_MODEL_b4075693b30d48928d9e302b4415d808"
       ],
       "elevation": null,
       "height": null,
       "href": null,
       "layout": "IPY_MODEL_b4af4887e098433aba3bd8e17d162e04",
       "loader_height": null,
       "loading": null,
       "max_height": null,
       "max_width": null,
       "min_height": null,
       "min_width": null,
       "ripple": null,
       "to": null,
       "v_slots": [],
       "width": null
      }
     },
     "d6234a12fb294405af19f925dde4ea72": {
      "model_module": "jupyter-vuetify",
      "model_module_version": "^1.5.1",
      "model_name": "CardTextModel",
      "state": {
       "_events": [],
       "_jupyter_vue": "IPY_MODEL_bc2712ed128d4d47ba50f0f591fcb068",
       "attributes": {},
       "children": [
        "lol"
       ],
       "layout": "IPY_MODEL_d3e2a6802422442fb42613531eb27209",
       "v_slots": []
      }
     },
     "d6696d5a52064072b1afd154d0b51ec4": {
      "model_module": "jupyter-vuetify",
      "model_module_version": "^1.5.1",
      "model_name": "BtnModel",
      "state": {
       "_events": [],
       "_jupyter_vue": "IPY_MODEL_bc2712ed128d4d47ba50f0f591fcb068",
       "attributes": {},
       "children": [
        "IPY_MODEL_1aaea3048b384723be2fe7f231b96b85"
       ],
       "color": "blue",
       "elevation": null,
       "height": null,
       "href": null,
       "layout": "IPY_MODEL_3a25f5498f8344d0bce0d44f177502c6",
       "max_height": null,
       "max_width": null,
       "min_height": null,
       "min_width": null,
       "ripple": null,
       "text": true,
       "to": null,
       "v_slots": [],
       "width": null
      }
     },
     "d6824982ee974598b3717f6a9ed66414": {
      "model_module": "jupyter-vuetify",
      "model_module_version": "^1.5.1",
      "model_name": "CardActionsModel",
      "state": {
       "_events": [],
       "_jupyter_vue": "IPY_MODEL_bc2712ed128d4d47ba50f0f591fcb068",
       "attributes": {},
       "children": [
        "IPY_MODEL_f4977f7084e04d33ba30fe799d076365",
        "IPY_MODEL_2338062270884f94a3dcbd78acbc8460"
       ],
       "layout": "IPY_MODEL_c328319ba24d40bbac696d029fee0b55",
       "v_slots": []
      }
     },
     "d6da0148f0254a03ac3145f729d28854": {
      "model_module": "jupyter-vuetify",
      "model_module_version": "^1.5.1",
      "model_name": "ContainerModel",
      "state": {
       "_events": [],
       "_jupyter_vue": "IPY_MODEL_bc2712ed128d4d47ba50f0f591fcb068",
       "attributes": {},
       "children": [
        "IPY_MODEL_85ba9ef0f72047b98e67c1b2212f6cf4"
       ],
       "fluid": true,
       "layout": "IPY_MODEL_d701dab91498409b9d9d36e9bc4b72ea",
       "v_slots": []
      }
     },
     "d6eb2a8a5ca440ca916cfbc9ee707931": {
      "model_module": "jupyter-vuetify",
      "model_module_version": "^1.5.1",
      "model_name": "CardModel",
      "state": {
       "_events": [],
       "_jupyter_vue": "IPY_MODEL_bc2712ed128d4d47ba50f0f591fcb068",
       "attributes": {},
       "children": [
        "IPY_MODEL_4c16249e7587492e86554a2539df7b97",
        "IPY_MODEL_a373cfbf2cb64e6fbd914aea4d28c5f9",
        "IPY_MODEL_d6da0148f0254a03ac3145f729d28854"
       ],
       "elevation": null,
       "height": null,
       "href": null,
       "layout": "IPY_MODEL_3f958863240740d1bb9ab8cce5c47cfc",
       "loader_height": null,
       "loading": null,
       "max_height": null,
       "max_width": null,
       "min_height": null,
       "min_width": null,
       "ripple": null,
       "to": null,
       "v_slots": [],
       "width": null
      }
     },
     "d701dab91498409b9d9d36e9bc4b72ea": {
      "model_module": "@jupyter-widgets/base",
      "model_module_version": "1.2.0",
      "model_name": "LayoutModel",
      "state": {}
     },
     "d703c3de8112436494c5f787dc9d11d2": {
      "model_module": "jupyter-vuetify",
      "model_module_version": "^1.5.1",
      "model_name": "CardTextModel",
      "state": {
       "_events": [],
       "_jupyter_vue": "IPY_MODEL_bc2712ed128d4d47ba50f0f591fcb068",
       "attributes": {},
       "children": [
        "lol"
       ],
       "layout": "IPY_MODEL_1359780b1cd947a58eeefa8773c442b9",
       "v_slots": []
      }
     },
     "d740025f96444a5e861c901de2bd3e00": {
      "model_module": "@jupyter-widgets/base",
      "model_module_version": "1.2.0",
      "model_name": "LayoutModel",
      "state": {}
     },
     "d7749e54b17d47e19644d2086bb1182f": {
      "model_module": "@jupyter-widgets/base",
      "model_module_version": "1.2.0",
      "model_name": "LayoutModel",
      "state": {}
     },
     "d7988ccd54b948d1b5c81ec292d0e648": {
      "model_module": "jupyter-vuetify",
      "model_module_version": "^1.5.1",
      "model_name": "HtmlModel",
      "state": {
       "_events": [],
       "_jupyter_vue": "IPY_MODEL_bc2712ed128d4d47ba50f0f591fcb068",
       "_model_module_version": "^1.5.1",
       "_view_module_version": "^1.5.1",
       "attributes": {},
       "children": [
        "All Covid-19 case data have been received from the Internet Archive. The original data have been prepared in PDF documents with the title \"Daily Coronavirus Disease 2019 (COVID-19) Summary of Cases by Zip Code of Residence\" by the County of San Diego, Health and Human Services Agency, Public Health Services, Epidemiology and Immunization Services Branch."
       ],
       "layout": "IPY_MODEL_7ce7124c802b4921903b9da0fa51a33d",
       "tag": "p",
       "v_slots": []
      }
     },
     "d8000ac0cea946a998483ee1050366a2": {
      "model_module": "jupyter-vuetify",
      "model_module_version": "^1.5.1",
      "model_name": "HtmlModel",
      "state": {
       "_events": [],
       "_jupyter_vue": "IPY_MODEL_bc2712ed128d4d47ba50f0f591fcb068",
       "_model_module_version": "^1.5.1",
       "_view_module_version": "^1.5.1",
       "attributes": {
        "href": "https://sdgis-sandag.opendata.arcgis.com/datasets/zip-code",
        "target": "_blank"
       },
       "children": [
        "Data Source"
       ],
       "layout": "IPY_MODEL_ec0cc3a5c75e461da767a5da7858313f",
       "tag": "a",
       "v_slots": []
      }
     },
     "d8714e6635014a3da60d8a9fc9ab7fb6": {
      "model_module": "jupyter-vuetify",
      "model_module_version": "^1.5.1",
      "model_name": "ColModel",
      "state": {
       "_events": [],
       "_jupyter_vue": "IPY_MODEL_bc2712ed128d4d47ba50f0f591fcb068",
       "attributes": {},
       "children": [
        "IPY_MODEL_14d3a2eda33148f980ddf36531b99a97"
       ],
       "cols": 10,
       "layout": "IPY_MODEL_4863f07b5b444ac6b6c84a0ec26d86f5",
       "lg": null,
       "md": null,
       "offset": null,
       "offset_lg": null,
       "offset_md": null,
       "offset_sm": null,
       "offset_xl": null,
       "order": null,
       "order_lg": null,
       "order_md": null,
       "order_sm": null,
       "order_xl": null,
       "sm": null,
       "v_slots": [],
       "xl": null
      }
     },
     "d8a6e551f1c346c899e3b43d014e444c": {
      "model_module": "@jupyter-widgets/base",
      "model_module_version": "1.2.0",
      "model_name": "LayoutModel",
      "state": {}
     },
     "d8b21b192fca43ca82cfd3d11365653e": {
      "model_module": "@jupyter-widgets/base",
      "model_module_version": "1.2.0",
      "model_name": "LayoutModel",
      "state": {}
     },
     "d8de2ac6d94e4f75a89174259e67df30": {
      "model_module": "jupyter-vuetify",
      "model_module_version": "^1.5.1",
      "model_name": "CardTextModel",
      "state": {
       "_events": [],
       "_jupyter_vue": "IPY_MODEL_bc2712ed128d4d47ba50f0f591fcb068",
       "attributes": {},
       "children": [
        "lol"
       ],
       "layout": "IPY_MODEL_827742094d6b44d9b9fd4bdca250c228",
       "v_slots": []
      }
     },
     "d8e057ba8ceb47879313f39aaf3b39bc": {
      "model_module": "jupyter-vuetify",
      "model_module_version": "^1.5.1",
      "model_name": "CardTitleModel",
      "state": {
       "_events": [],
       "_jupyter_vue": "IPY_MODEL_bc2712ed128d4d47ba50f0f591fcb068",
       "attributes": {},
       "children": [
        "ZIP Codes"
       ],
       "layout": "IPY_MODEL_4c0de000a9dd455ba1286d76278a1347",
       "v_slots": []
      }
     },
     "d8e09b18bce64ddab77b1cd0a2743f96": {
      "model_module": "jupyter-vuetify",
      "model_module_version": "^1.5.1",
      "model_name": "CardTextModel",
      "state": {
       "_events": [],
       "_jupyter_vue": "IPY_MODEL_bc2712ed128d4d47ba50f0f591fcb068",
       "attributes": {},
       "children": [
        "This section informs about the sources of the data that are used in this dashboard."
       ],
       "layout": "IPY_MODEL_be53a18016684be8aba8e6bf86725d5f",
       "v_slots": []
      }
     },
     "d932c580a448461ea42697c0cf0a8e6d": {
      "model_module": "jupyter-vuetify",
      "model_module_version": "^1.5.1",
      "model_name": "ColModel",
      "state": {
       "_events": [],
       "_jupyter_vue": "IPY_MODEL_bc2712ed128d4d47ba50f0f591fcb068",
       "attributes": {},
       "children": [
        "IPY_MODEL_9557d36fb79a4b2f993bf1a186a3c461"
       ],
       "cols": 6,
       "layout": "IPY_MODEL_3650adba27f6485c81b0d58066b91516",
       "lg": null,
       "md": null,
       "offset": null,
       "offset_lg": null,
       "offset_md": null,
       "offset_sm": null,
       "offset_xl": null,
       "order": null,
       "order_lg": null,
       "order_md": null,
       "order_sm": null,
       "order_xl": null,
       "sm": null,
       "v_slots": [],
       "xl": null
      }
     },
     "d963627e755c4ade99d10662278b8e32": {
      "model_module": "jupyter-vuetify",
      "model_module_version": "^1.5.1",
      "model_name": "CardTitleModel",
      "state": {
       "_events": [],
       "_jupyter_vue": "IPY_MODEL_bc2712ed128d4d47ba50f0f591fcb068",
       "attributes": {},
       "children": [
        "ZIP Code Boundaries"
       ],
       "layout": "IPY_MODEL_4a97fc191b07482c9ca27a722e2e2b78",
       "v_slots": []
      }
     },
     "d99a789456f94a16a0a04d885d0de89e": {
      "model_module": "@jupyter-widgets/base",
      "model_module_version": "1.2.0",
      "model_name": "LayoutModel",
      "state": {}
     },
     "d99b033397104c8b83629f4139b9a12e": {
      "model_module": "jupyter-vuetify",
      "model_module_version": "^1.5.1",
      "model_name": "ColModel",
      "state": {
       "_events": [],
       "_jupyter_vue": "IPY_MODEL_bc2712ed128d4d47ba50f0f591fcb068",
       "attributes": {},
       "children": [
        "IPY_MODEL_1bdc4ca95f5c4090a7dcfb6b2d2f2297"
       ],
       "cols": 6,
       "layout": "IPY_MODEL_b81e8941c8c8482dafaaac543507e2ad",
       "lg": null,
       "md": null,
       "offset": null,
       "offset_lg": null,
       "offset_md": null,
       "offset_sm": null,
       "offset_xl": null,
       "order": null,
       "order_lg": null,
       "order_md": null,
       "order_sm": null,
       "order_xl": null,
       "sm": null,
       "v_slots": [],
       "xl": null
      }
     },
     "d9aad5723c4544a3bf35c7753fc88847": {
      "model_module": "jupyter-vuetify",
      "model_module_version": "^1.5.1",
      "model_name": "BtnModel",
      "state": {
       "_events": [],
       "_jupyter_vue": "IPY_MODEL_bc2712ed128d4d47ba50f0f591fcb068",
       "attributes": {},
       "children": [
        "IPY_MODEL_d8000ac0cea946a998483ee1050366a2"
       ],
       "color": "blue",
       "elevation": null,
       "height": null,
       "href": null,
       "layout": "IPY_MODEL_57a1f71696714dd4bd545817634ef824",
       "max_height": null,
       "max_width": null,
       "min_height": null,
       "min_width": null,
       "ripple": null,
       "text": true,
       "to": null,
       "v_slots": [],
       "width": null
      }
     },
     "d9bec1ca3e2d43d6b0ec38b52572a867": {
      "model_module": "@jupyter-widgets/base",
      "model_module_version": "1.2.0",
      "model_name": "LayoutModel",
      "state": {}
     },
     "da0067559cae49048bf2710b8d11b903": {
      "model_module": "@jupyter-widgets/base",
      "model_module_version": "1.2.0",
      "model_name": "LayoutModel",
      "state": {}
     },
     "da4635b09256411292314c3fc079a4d7": {
      "model_module": "jupyter-vuetify",
      "model_module_version": "^1.5.1",
      "model_name": "HtmlModel",
      "state": {
       "_events": [],
       "_jupyter_vue": "IPY_MODEL_bc2712ed128d4d47ba50f0f591fcb068",
       "_model_module_version": "^1.5.1",
       "_view_module_version": "^1.5.1",
       "attributes": {
        "href": "https://archive.org/donate/",
        "target": "_blank"
       },
       "children": [
        "Donate to Internet Archive"
       ],
       "layout": "IPY_MODEL_65d0529c91e9457c9b7d33ce42fd5831",
       "tag": "a",
       "v_slots": []
      }
     },
     "da7526da5379440094464a3c7c32e62b": {
      "model_module": "@jupyter-widgets/base",
      "model_module_version": "1.2.0",
      "model_name": "LayoutModel",
      "state": {}
     },
     "da8e52c8e7004d9caa288fd816c95d4c": {
      "model_module": "jupyter-vuetify",
      "model_module_version": "^1.5.1",
      "model_name": "CardModel",
      "state": {
       "_events": [],
       "_jupyter_vue": "IPY_MODEL_bc2712ed128d4d47ba50f0f591fcb068",
       "attributes": {},
       "children": [
        "IPY_MODEL_d8e057ba8ceb47879313f39aaf3b39bc",
        "IPY_MODEL_c814e43f55d844978800908a4ceda5eb"
       ],
       "elevation": null,
       "height": null,
       "href": null,
       "layout": "IPY_MODEL_fef9464404134537a75209df0a028b15",
       "loader_height": null,
       "loading": null,
       "max_height": null,
       "max_width": null,
       "min_height": null,
       "min_width": null,
       "ripple": null,
       "to": null,
       "v_slots": [],
       "width": null
      }
     },
     "da9b8f8c44af410eb5c367ceda232753": {
      "model_module": "jupyter-vuetify",
      "model_module_version": "^1.5.1",
      "model_name": "CardTextModel",
      "state": {
       "_events": [],
       "_jupyter_vue": "IPY_MODEL_bc2712ed128d4d47ba50f0f591fcb068",
       "attributes": {},
       "children": [
        "The ZIP code boundaries shown in all maps are taken from the SANDAG/SanGIS Open Data Portal."
       ],
       "layout": "IPY_MODEL_a624f94b6c9445f3b637bc2a4e800bd6",
       "v_slots": []
      }
     },
     "dacd9b3d24774fe883323aeaf53a54f5": {
      "model_module": "@jupyter-widgets/base",
      "model_module_version": "1.2.0",
      "model_name": "LayoutModel",
      "state": {}
     },
     "dafa831d830a46a4b848bd498d3dc334": {
      "model_module": "@jupyter-widgets/base",
      "model_module_version": "1.2.0",
      "model_name": "LayoutModel",
      "state": {}
     },
     "db12a14159eb4d019c8dc0c56a541bbc": {
      "model_module": "jupyter-vuetify",
      "model_module_version": "^1.5.1",
      "model_name": "CardModel",
      "state": {
       "_events": [],
       "_jupyter_vue": "IPY_MODEL_bc2712ed128d4d47ba50f0f591fcb068",
       "attributes": {},
       "children": [
        "IPY_MODEL_f272dc1b96ff486e8d2f490647e001c7",
        "IPY_MODEL_b418ee8adb9d4d4b959597e2e38f410b",
        "IPY_MODEL_b264ff2e7de644a6bcac510a67682f32"
       ],
       "elevation": null,
       "height": null,
       "href": null,
       "layout": "IPY_MODEL_7ce4784743d24a4799f5c29213777178",
       "loader_height": null,
       "loading": null,
       "max_height": null,
       "max_width": null,
       "min_height": null,
       "min_width": null,
       "ripple": null,
       "to": null,
       "v_slots": [],
       "width": null
      }
     },
     "db4797d573054690bc7ffab83e4bb854": {
      "model_module": "@jupyter-widgets/base",
      "model_module_version": "1.2.0",
      "model_name": "LayoutModel",
      "state": {}
     },
     "dc5bec1737864aa3bc5683f9d8618ff6": {
      "model_module": "@jupyter-widgets/base",
      "model_module_version": "1.2.0",
      "model_name": "LayoutModel",
      "state": {}
     },
     "dc77aeb747fa483daf00234e41cb1818": {
      "model_module": "@jupyter-widgets/base",
      "model_module_version": "1.2.0",
      "model_name": "LayoutModel",
      "state": {}
     },
     "dc7a2b7853eb49ae9f459af6fa066ba3": {
      "model_module": "jupyter-vuetify",
      "model_module_version": "^1.5.1",
      "model_name": "CardTitleModel",
      "state": {
       "_events": [],
       "_jupyter_vue": "IPY_MODEL_bc2712ed128d4d47ba50f0f591fcb068",
       "attributes": {},
       "children": [
        "Covid-19 Case Data"
       ],
       "layout": "IPY_MODEL_91a45315a6384e928bc9a79327f8ce9c",
       "v_slots": []
      }
     },
     "dc988a949e474fc5b896f3f1073d0060": {
      "model_module": "@jupyter-widgets/base",
      "model_module_version": "1.2.0",
      "model_name": "LayoutModel",
      "state": {}
     },
     "dc9bac611f31495abb8a1977fe10832e": {
      "model_module": "jupyter-vuetify",
      "model_module_version": "^1.5.1",
      "model_name": "HtmlModel",
      "state": {
       "_events": [],
       "_jupyter_vue": "IPY_MODEL_bc2712ed128d4d47ba50f0f591fcb068",
       "_model_module_version": "^1.5.1",
       "_view_module_version": "^1.5.1",
       "attributes": {},
       "children": [
        "Original data source: San Diego County Communicable Disease Registry, SANDAG 2019 Population Estimates (Prepared June 2020)."
       ],
       "layout": "IPY_MODEL_eab71a63cbc94d2e809bf32d6e85a229",
       "tag": "p",
       "v_slots": []
      }
     },
     "dca57b10270c418d845aed095b1ac204": {
      "model_module": "jupyter-vuetify",
      "model_module_version": "^1.5.1",
      "model_name": "HtmlModel",
      "state": {
       "_events": [],
       "_jupyter_vue": "IPY_MODEL_bc2712ed128d4d47ba50f0f591fcb068",
       "_model_module_version": "^1.5.1",
       "_view_module_version": "^1.5.1",
       "attributes": {
        "href": "https://web.archive.org/web/*/https://www.sandiegocounty.gov/content/dam/sdc/hhsa/programs/phs/Epidemiology/COVID-19%20Summary%20of%20Cases%20by%20Zip%20Code.pdf",
        "target": "_blank"
       },
       "children": [
        "Data Source"
       ],
       "layout": "IPY_MODEL_089cbe1e589f416992bc2960e484ed3c",
       "tag": "a",
       "v_slots": []
      }
     },
     "dce600471ece4caca1e4a86c599cc5eb": {
      "model_module": "@jupyter-widgets/base",
      "model_module_version": "1.2.0",
      "model_name": "LayoutModel",
      "state": {}
     },
     "dcedf08a111143a58bf50d7852486dfa": {
      "model_module": "@jupyter-widgets/base",
      "model_module_version": "1.2.0",
      "model_name": "LayoutModel",
      "state": {}
     },
     "dd30c8384a744e48a4081fd35838bbd9": {
      "model_module": "@jupyter-widgets/base",
      "model_module_version": "1.2.0",
      "model_name": "LayoutModel",
      "state": {}
     },
     "dd753fda55d84d44a04c9357ffb02b50": {
      "model_module": "@jupyter-widgets/base",
      "model_module_version": "1.2.0",
      "model_name": "LayoutModel",
      "state": {}
     },
     "dd7d66c3b3a14b6d8f2fc7cd6eec62ab": {
      "model_module": "@jupyter-widgets/base",
      "model_module_version": "1.2.0",
      "model_name": "LayoutModel",
      "state": {}
     },
     "dda0d559f8d446d2a968c136703252c5": {
      "model_module": "@jupyter-widgets/base",
      "model_module_version": "1.2.0",
      "model_name": "LayoutModel",
      "state": {}
     },
     "ddac766ddade49d1995cc4fe28541546": {
      "model_module": "jupyter-vuetify",
      "model_module_version": "^1.5.1",
      "model_name": "CardModel",
      "state": {
       "_events": [],
       "_jupyter_vue": "IPY_MODEL_bc2712ed128d4d47ba50f0f591fcb068",
       "attributes": {},
       "children": [
        "IPY_MODEL_3c967d60ef8f42fa833296f90702fdaf",
        "IPY_MODEL_eebe1b97d8ed4cd18580b922e280c7c6",
        "IPY_MODEL_06b78e49db5042b180808eb72a9f8e31"
       ],
       "elevation": null,
       "height": null,
       "href": null,
       "layout": "IPY_MODEL_8be2b9dfd4c14136a9ca3193678e2a35",
       "loader_height": null,
       "loading": null,
       "max_height": null,
       "max_width": null,
       "min_height": null,
       "min_width": null,
       "ripple": null,
       "to": null,
       "v_slots": [],
       "width": null
      }
     },
     "ddbc1e418c54424ab1c2acee75df734c": {
      "model_module": "jupyter-vuetify",
      "model_module_version": "^1.5.1",
      "model_name": "CardTextModel",
      "state": {
       "_events": [],
       "_jupyter_vue": "IPY_MODEL_bc2712ed128d4d47ba50f0f591fcb068",
       "attributes": {},
       "children": [
        "This section informs about the sources of the data that are used in this dashboard."
       ],
       "layout": "IPY_MODEL_32f5fd4803a8424c8ae94fa76dba2739",
       "v_slots": []
      }
     },
     "ddfa857dfa7148ef8b7ae8a9cf88d881": {
      "model_module": "@jupyter-widgets/base",
      "model_module_version": "1.2.0",
      "model_name": "LayoutModel",
      "state": {}
     },
     "de1c5b7eab384beca954d56c7f086767": {
      "model_module": "jupyter-vuetify",
      "model_module_version": "^1.5.1",
      "model_name": "HtmlModel",
      "state": {
       "_events": [],
       "_jupyter_vue": "IPY_MODEL_bc2712ed128d4d47ba50f0f591fcb068",
       "_model_module_version": "^1.5.1",
       "_view_module_version": "^1.5.1",
       "attributes": {},
       "children": [
        "Zip code is zip code of residence, which may not be location of exposure. Rates based on small case counts may vary considerably and should be interpreted with caution.",
        "Data are preliminary and subject to change. Total population=3,351,784."
       ],
       "layout": "IPY_MODEL_ee56cc5b594f42fb8cf5ff957512dc79",
       "tag": "p",
       "v_slots": []
      }
     },
     "de28d02d0b8847dd9f63ab02c019046e": {
      "model_module": "jupyter-vuetify",
      "model_module_version": "^1.5.1",
      "model_name": "CardModel",
      "state": {
       "_events": [],
       "_jupyter_vue": "IPY_MODEL_bc2712ed128d4d47ba50f0f591fcb068",
       "attributes": {},
       "children": [
        "IPY_MODEL_38e8e2714bff41e0b920599e4a21fc8c",
        "IPY_MODEL_5c9472760a734783942ee874379a126c"
       ],
       "elevation": null,
       "height": null,
       "href": null,
       "layout": "IPY_MODEL_81dec26ee1fe42ce91c35934b37a673b",
       "loader_height": null,
       "loading": null,
       "max_height": null,
       "max_width": null,
       "min_height": null,
       "min_width": null,
       "ripple": null,
       "to": null,
       "v_slots": [],
       "width": null
      }
     },
     "de4ecd0025c146c8a500cf4464cb692d": {
      "model_module": "jupyter-vuetify",
      "model_module_version": "^1.5.1",
      "model_name": "CardTitleModel",
      "state": {
       "_events": [],
       "_jupyter_vue": "IPY_MODEL_bc2712ed128d4d47ba50f0f591fcb068",
       "attributes": {},
       "children": [
        "About the Data"
       ],
       "layout": "IPY_MODEL_a75c3e04c2aa435c8578548dae03e3e3",
       "v_slots": []
      }
     },
     "de97cb6517fc4b28a47e22addcae463b": {
      "model_module": "@jupyter-widgets/base",
      "model_module_version": "1.2.0",
      "model_name": "LayoutModel",
      "state": {}
     },
     "deafd40b9d4a4170ba04f77952480015": {
      "model_module": "jupyter-vuetify",
      "model_module_version": "^1.5.1",
      "model_name": "CardActionsModel",
      "state": {
       "_events": [],
       "_jupyter_vue": "IPY_MODEL_bc2712ed128d4d47ba50f0f591fcb068",
       "attributes": {},
       "children": [
        "IPY_MODEL_a9a0024179e14bf18b2708cbcc04f8e5",
        "IPY_MODEL_5e91743e00e444e79aeed6efc447c73c"
       ],
       "layout": "IPY_MODEL_aa602b7ef41a44bf87320dadf9364b3e",
       "v_slots": []
      }
     },
     "dee1c714b36e42878a17e04438e8da09": {
      "model_module": "jupyter-vuetify",
      "model_module_version": "^1.5.1",
      "model_name": "CardTextModel",
      "state": {
       "_events": [],
       "_jupyter_vue": "IPY_MODEL_bc2712ed128d4d47ba50f0f591fcb068",
       "attributes": {},
       "children": [
        "IPY_MODEL_d4660314609b48f698615b424599e32e",
        "IPY_MODEL_4138855e640e4f51baf512154fe94591",
        "IPY_MODEL_2d83dcc4a5064c4698565f05ab2e7956",
        "IPY_MODEL_d37b2db253924f988fa3af1ddf1663bb"
       ],
       "layout": "IPY_MODEL_a8c5dc57ce0248d0b2b3b00ee05e8431",
       "v_slots": []
      }
     },
     "dee41aea06a248e88367c9b6043ed801": {
      "model_module": "@jupyter-widgets/base",
      "model_module_version": "1.2.0",
      "model_name": "LayoutModel",
      "state": {}
     },
     "defaf5fba29d4af78298fc4fa90a4590": {
      "model_module": "@jupyter-widgets/base",
      "model_module_version": "1.2.0",
      "model_name": "LayoutModel",
      "state": {}
     },
     "defbe963c7e647a6b69dffd14f7b0bac": {
      "model_module": "jupyter-vuetify",
      "model_module_version": "^1.5.1",
      "model_name": "CardModel",
      "state": {
       "_events": [],
       "_jupyter_vue": "IPY_MODEL_bc2712ed128d4d47ba50f0f591fcb068",
       "attributes": {},
       "children": [
        "IPY_MODEL_af04f027607b43a7b99be09eb9da333a",
        "IPY_MODEL_d45ee2f3f243493789b7734e96d0df9c",
        "IPY_MODEL_b32109e447a145c19a260f5713368393"
       ],
       "elevation": null,
       "height": null,
       "href": null,
       "layout": "IPY_MODEL_1dfef1aed90646ba8fa250688e1d273b",
       "loader_height": null,
       "loading": null,
       "max_height": null,
       "max_width": null,
       "min_height": null,
       "min_width": null,
       "ripple": null,
       "to": null,
       "v_slots": [],
       "width": null
      }
     },
     "df3a178b69cc463bb9d840756258bff0": {
      "model_module": "jupyter-vuetify",
      "model_module_version": "^1.5.1",
      "model_name": "CardModel",
      "state": {
       "_events": [],
       "_jupyter_vue": "IPY_MODEL_bc2712ed128d4d47ba50f0f591fcb068",
       "attributes": {},
       "children": [
        "IPY_MODEL_6f08aaa4a515497594505586d12c6d8a",
        "IPY_MODEL_30c32501010f43afb29ff53eb6c124eb",
        "IPY_MODEL_7a00346f059149418bcf5933fb026ad7"
       ],
       "elevation": null,
       "height": null,
       "href": null,
       "layout": "IPY_MODEL_55598192682f41e6a9df9e0919c1708a",
       "loader_height": null,
       "loading": null,
       "max_height": null,
       "max_width": null,
       "min_height": null,
       "min_width": null,
       "ripple": null,
       "to": null,
       "v_slots": [],
       "width": null
      }
     },
     "df5e05253b8d4949ba04b067c1e1b507": {
      "model_module": "@jupyter-widgets/base",
      "model_module_version": "1.2.0",
      "model_name": "LayoutModel",
      "state": {}
     },
     "df9078b019eb46738916f3349e69b8d2": {
      "model_module": "@jupyter-widgets/base",
      "model_module_version": "1.2.0",
      "model_name": "LayoutModel",
      "state": {}
     },
     "df9b7a217a1f47f2a7d4cf17048807ed": {
      "model_module": "jupyter-vuetify",
      "model_module_version": "^1.5.1",
      "model_name": "CardTextModel",
      "state": {
       "_events": [],
       "_jupyter_vue": "IPY_MODEL_bc2712ed128d4d47ba50f0f591fcb068",
       "attributes": {},
       "children": [
        "This section informs about the sources of the data that are used in this dashboard."
       ],
       "layout": "IPY_MODEL_47193bd0e5ca4340aef30537a87c9adf",
       "v_slots": []
      }
     },
     "dfb405757d8a460e8b63a784b4ad92ee": {
      "model_module": "jupyter-vuetify",
      "model_module_version": "^1.5.1",
      "model_name": "CardTextModel",
      "state": {
       "_events": [],
       "_jupyter_vue": "IPY_MODEL_bc2712ed128d4d47ba50f0f591fcb068",
       "attributes": {},
       "children": [
        "This section informs about the sources of the data that are used in this dashboard."
       ],
       "layout": "IPY_MODEL_c668ab012ace4fb2839736eb75cdf184",
       "v_slots": []
      }
     },
     "dfc610edf5884df086a3eab0ecdbbf49": {
      "model_module": "@jupyter-widgets/base",
      "model_module_version": "1.2.0",
      "model_name": "LayoutModel",
      "state": {}
     },
     "dfcdf99be8874618bc04c5843d758d6f": {
      "model_module": "@jupyter-widgets/base",
      "model_module_version": "1.2.0",
      "model_name": "LayoutModel",
      "state": {}
     },
     "dfd8fdb4e6b34c68b2028d5e5490d57c": {
      "model_module": "@jupyter-widgets/base",
      "model_module_version": "1.2.0",
      "model_name": "LayoutModel",
      "state": {}
     },
     "dff36fa9b9644f36bc7c3c46b874e292": {
      "model_module": "@jupyter-widgets/base",
      "model_module_version": "1.2.0",
      "model_name": "LayoutModel",
      "state": {}
     },
     "e02d5c87e1d94849b50593c0210749fd": {
      "model_module": "jupyter-vuetify",
      "model_module_version": "^1.5.1",
      "model_name": "CardModel",
      "state": {
       "_events": [],
       "_jupyter_vue": "IPY_MODEL_bc2712ed128d4d47ba50f0f591fcb068",
       "attributes": {},
       "children": [
        "IPY_MODEL_e8f4ea5b364146378e2ef8c52b1e9970",
        "IPY_MODEL_6abb6bade4c5455698433dacb76ebb30"
       ],
       "elevation": null,
       "height": null,
       "href": null,
       "layout": "IPY_MODEL_74380f39835545d984187dc2e47fcd1d",
       "loader_height": null,
       "loading": null,
       "max_height": null,
       "max_width": null,
       "min_height": null,
       "min_width": null,
       "ripple": null,
       "to": null,
       "v_slots": [],
       "width": null
      }
     },
     "e0487ee32651410faff5c479e1a1ea90": {
      "model_module": "@jupyter-widgets/base",
      "model_module_version": "1.2.0",
      "model_name": "LayoutModel",
      "state": {}
     },
     "e0665d48f1cd4f6cacea71df6968ea1a": {
      "model_module": "jupyter-vuetify",
      "model_module_version": "^1.5.1",
      "model_name": "HtmlModel",
      "state": {
       "_events": [],
       "_jupyter_vue": "IPY_MODEL_bc2712ed128d4d47ba50f0f591fcb068",
       "_model_module_version": "^1.5.1",
       "_view_module_version": "^1.5.1",
       "attributes": {},
       "children": [
        "All Covid-19 case data have been received from the Internet Archive. The original data have been prepared in PDF documents with the title \"Daily Coronavirus Disease 2019 (COVID-19) Summary of Cases by Zip Code of Residence\" by the County of San Diego, Health and Human Services Agency, Public Health Services, Epidemiology and Immunization Services Branch."
       ],
       "layout": "IPY_MODEL_86b9654313fb4be8b03b55a4ec73a597",
       "tag": "p",
       "v_slots": []
      }
     },
     "e0899cd36dbe4a80ac24e6706b723b5b": {
      "model_module": "jupyter-vuetify",
      "model_module_version": "^1.5.1",
      "model_name": "CardModel",
      "state": {
       "_events": [],
       "_jupyter_vue": "IPY_MODEL_bc2712ed128d4d47ba50f0f591fcb068",
       "attributes": {},
       "children": [
        "IPY_MODEL_135f994a0c604db981a1149443b55f3f",
        "IPY_MODEL_b3c888ed032f4374829016e2dbdba67e",
        "IPY_MODEL_581f281dcb8841c29a7beb7e51432e54"
       ],
       "elevation": null,
       "height": null,
       "href": null,
       "layout": "IPY_MODEL_35652ea128b74f18862bbe653047c363",
       "loader_height": null,
       "loading": null,
       "max_height": null,
       "max_width": null,
       "min_height": null,
       "min_width": null,
       "ripple": null,
       "to": null,
       "v_slots": [],
       "width": null
      }
     },
     "e08d23f5bc93483ebea7a48968fa0354": {
      "model_module": "jupyter-vuetify",
      "model_module_version": "^1.5.1",
      "model_name": "RowModel",
      "state": {
       "_events": [],
       "_jupyter_vue": "IPY_MODEL_bc2712ed128d4d47ba50f0f591fcb068",
       "attributes": {},
       "children": [
        "IPY_MODEL_80740b94142a49cba4e57d04918693ec",
        "IPY_MODEL_b761a31130924e0abfce333f20e57fb8",
        "IPY_MODEL_68a3464b47584442be8b9b050430e0ca"
       ],
       "dense": true,
       "layout": "IPY_MODEL_ce89412220d243299acf204ddd5e053e",
       "v_slots": []
      }
     },
     "e08db6cf4cc6449a997efc75926f0c8d": {
      "model_module": "jupyter-vuetify",
      "model_module_version": "^1.5.1",
      "model_name": "CardTitleModel",
      "state": {
       "_events": [],
       "_jupyter_vue": "IPY_MODEL_bc2712ed128d4d47ba50f0f591fcb068",
       "attributes": {},
       "children": [
        "Covid-19 Case Data"
       ],
       "layout": "IPY_MODEL_fc41a480846141b3aa63a96fa58be487",
       "v_slots": []
      }
     },
     "e0954c4f854a4e27b15fd86fa21345e5": {
      "model_module": "jupyter-vuetify",
      "model_module_version": "^1.5.1",
      "model_name": "CardModel",
      "state": {
       "_events": [],
       "_jupyter_vue": "IPY_MODEL_bc2712ed128d4d47ba50f0f591fcb068",
       "attributes": {},
       "children": [
        "IPY_MODEL_623363a59c234acca6ae85c0e4ef10f2",
        "IPY_MODEL_1d55deea8fde418aa1edc3af71ef910b",
        "IPY_MODEL_59a6083948a7483d9170424f7974109d"
       ],
       "elevation": null,
       "height": null,
       "href": null,
       "layout": "IPY_MODEL_cd5cb175ad7d4e02ba1babd0260c6924",
       "loader_height": null,
       "loading": null,
       "max_height": null,
       "max_width": null,
       "min_height": null,
       "min_width": null,
       "ripple": null,
       "to": null,
       "v_slots": [],
       "width": null
      }
     },
     "e0adaa085ab84ca9ba708d18c3b4b1e5": {
      "model_module": "jupyter-vuetify",
      "model_module_version": "^1.5.1",
      "model_name": "BtnModel",
      "state": {
       "_events": [],
       "_jupyter_vue": "IPY_MODEL_bc2712ed128d4d47ba50f0f591fcb068",
       "attributes": {},
       "children": [
        "IPY_MODEL_b67bc0366e3f43d4a43fc9662c780240"
       ],
       "color": "blue",
       "elevation": null,
       "height": null,
       "href": null,
       "layout": "IPY_MODEL_14e5e74440ed4061ad82c14931a6b1fb",
       "max_height": null,
       "max_width": null,
       "min_height": null,
       "min_width": null,
       "ripple": null,
       "text": true,
       "to": null,
       "v_slots": [],
       "width": null
      }
     },
     "e0b506fa12144eecb88003cae706a979": {
      "model_module": "jupyter-vuetify",
      "model_module_version": "^1.5.1",
      "model_name": "ContainerModel",
      "state": {
       "_events": [],
       "_jupyter_vue": "IPY_MODEL_bc2712ed128d4d47ba50f0f591fcb068",
       "attributes": {},
       "children": [
        "IPY_MODEL_9ea7bd3cb3bf4b2ca0b53413ecf7aa5e"
       ],
       "fluid": true,
       "layout": "IPY_MODEL_b44755b25df24603bd886aa30de43743",
       "v_slots": []
      }
     },
     "e0ce2a873a3943cb8d031edf035ddf91": {
      "model_module": "@jupyter-widgets/base",
      "model_module_version": "1.2.0",
      "model_name": "LayoutModel",
      "state": {}
     },
     "e1453082694f4487bd92d03296c32722": {
      "model_module": "jupyter-vuetify",
      "model_module_version": "^1.5.1",
      "model_name": "BtnModel",
      "state": {
       "_events": [],
       "_jupyter_vue": "IPY_MODEL_bc2712ed128d4d47ba50f0f591fcb068",
       "attributes": {},
       "children": [
        "IPY_MODEL_014495889a9c4af7ba1032b70579f21c"
       ],
       "color": "blue",
       "elevation": null,
       "height": null,
       "href": null,
       "layout": "IPY_MODEL_26f2c52bdc814cab8347a9e79d5cd711",
       "max_height": null,
       "max_width": null,
       "min_height": null,
       "min_width": null,
       "ripple": null,
       "text": true,
       "to": null,
       "v_slots": [],
       "width": null
      }
     },
     "e150fe95747e42f98a19b549ee2a25d4": {
      "model_module": "@jupyter-widgets/base",
      "model_module_version": "1.2.0",
      "model_name": "LayoutModel",
      "state": {}
     },
     "e15f9b3e3ae74e3fac0c96041b8e3bd0": {
      "model_module": "jupyter-vuetify",
      "model_module_version": "^1.5.1",
      "model_name": "RowModel",
      "state": {
       "_events": [],
       "_jupyter_vue": "IPY_MODEL_bc2712ed128d4d47ba50f0f591fcb068",
       "attributes": {},
       "children": [
        "IPY_MODEL_378e30d04d884d15b5c2db8b006c91cd",
        "IPY_MODEL_d109c393059845d7b13649760d3fa68b",
        "IPY_MODEL_a5b63e1784ee49d5a132f937f8eae3ac"
       ],
       "dense": true,
       "layout": "IPY_MODEL_4fc2507af1ba4a589d55ed0b963a8d65",
       "v_slots": []
      }
     },
     "e181d442194c48ff915717c2a786e4a4": {
      "model_module": "jupyter-vuetify",
      "model_module_version": "^1.5.1",
      "model_name": "CardActionsModel",
      "state": {
       "_events": [],
       "_jupyter_vue": "IPY_MODEL_bc2712ed128d4d47ba50f0f591fcb068",
       "attributes": {},
       "children": [
        "IPY_MODEL_25dfc94610fb4fb289f59ee8fc8c3fc1",
        "IPY_MODEL_baeade955d8c4cef8a46825695d69091"
       ],
       "layout": "IPY_MODEL_e646028dba7b430db6a232293c5c7949",
       "v_slots": []
      }
     },
     "e1ceb65a8c7742cb8955876140275e8d": {
      "model_module": "@jupyter-widgets/base",
      "model_module_version": "1.2.0",
      "model_name": "LayoutModel",
      "state": {}
     },
     "e1f716f1c55f429eb20ad9a40f0254ce": {
      "model_module": "@jupyter-widgets/base",
      "model_module_version": "1.2.0",
      "model_name": "LayoutModel",
      "state": {}
     },
     "e27165643b904610afc4688a6ddc39ff": {
      "model_module": "@jupyter-widgets/base",
      "model_module_version": "1.2.0",
      "model_name": "LayoutModel",
      "state": {}
     },
     "e2b660526b5145b38d4c48edb8e0c841": {
      "model_module": "@jupyter-widgets/base",
      "model_module_version": "1.2.0",
      "model_name": "LayoutModel",
      "state": {}
     },
     "e2e00265b7594858b8f8a244ae67170b": {
      "model_module": "@jupyter-widgets/base",
      "model_module_version": "1.2.0",
      "model_name": "LayoutModel",
      "state": {}
     },
     "e2ea3283b9e345ec8c8d15ae162752c4": {
      "model_module": "jupyter-vuetify",
      "model_module_version": "^1.5.1",
      "model_name": "RowModel",
      "state": {
       "_events": [],
       "_jupyter_vue": "IPY_MODEL_bc2712ed128d4d47ba50f0f591fcb068",
       "attributes": {},
       "children": [
        "IPY_MODEL_3a5ddb485e8f44178489ef4edf7aee98",
        "IPY_MODEL_60f92336add44762912362fbdcc79663",
        "IPY_MODEL_a57ea557e9d3410b9304f6fdb9e390c1"
       ],
       "dense": true,
       "layout": "IPY_MODEL_018943b2e94d4c9f8e3fe5f87050c7ee",
       "v_slots": []
      }
     },
     "e2ecaf39a54c4ae0ae1ad875fea59aa5": {
      "model_module": "jupyter-vuetify",
      "model_module_version": "^1.5.1",
      "model_name": "ContainerModel",
      "state": {
       "_events": [],
       "_jupyter_vue": "IPY_MODEL_bc2712ed128d4d47ba50f0f591fcb068",
       "attributes": {},
       "children": [
        "IPY_MODEL_40f7008f87c947d3b32f8256c79ee428"
       ],
       "fluid": true,
       "layout": "IPY_MODEL_fef2604d806b40938937481f2618d0b1",
       "v_slots": []
      }
     },
     "e2f766ea11114f2aae82cf471c2ba0b7": {
      "model_module": "jupyter-vuetify",
      "model_module_version": "^1.5.1",
      "model_name": "CardTitleModel",
      "state": {
       "_events": [],
       "_jupyter_vue": "IPY_MODEL_bc2712ed128d4d47ba50f0f591fcb068",
       "attributes": {},
       "children": [
        "ZIP Codes"
       ],
       "layout": "IPY_MODEL_2d02595357f24fd0b697c60bba29d961",
       "v_slots": []
      }
     },
     "e3079bf401e24620b94a52ee2252454d": {
      "model_module": "@jupyter-widgets/base",
      "model_module_version": "1.2.0",
      "model_name": "LayoutModel",
      "state": {}
     },
     "e377d529a290496a8cf9a1ac0c6efb48": {
      "model_module": "jupyter-vuetify",
      "model_module_version": "^1.5.1",
      "model_name": "ColModel",
      "state": {
       "_events": [],
       "_jupyter_vue": "IPY_MODEL_bc2712ed128d4d47ba50f0f591fcb068",
       "attributes": {},
       "children": [
        "IPY_MODEL_e61fd6bd97f24a02b67da565cfa2296d"
       ],
       "cols": 6,
       "layout": "IPY_MODEL_e5ae6522587c492f959af2c34c8ef71d",
       "lg": null,
       "md": null,
       "offset": null,
       "offset_lg": null,
       "offset_md": null,
       "offset_sm": null,
       "offset_xl": null,
       "order": null,
       "order_lg": null,
       "order_md": null,
       "order_sm": null,
       "order_xl": null,
       "sm": null,
       "v_slots": [],
       "xl": null
      }
     },
     "e3b69de5fb4a4a408a06bcc3798010db": {
      "model_module": "jupyter-vuetify",
      "model_module_version": "^1.5.1",
      "model_name": "CardModel",
      "state": {
       "_events": [],
       "_jupyter_vue": "IPY_MODEL_bc2712ed128d4d47ba50f0f591fcb068",
       "attributes": {},
       "children": [
        "IPY_MODEL_bfe75bb948294213a4d3b6e4e139e524",
        "IPY_MODEL_fd0c3006bebd40e98d29575682e9c643",
        "IPY_MODEL_e954ceba52b743b48160d5e90f71d620"
       ],
       "elevation": null,
       "height": null,
       "href": null,
       "layout": "IPY_MODEL_b7894d90db3c4f7799715bebc30dd801",
       "loader_height": null,
       "loading": null,
       "max_height": null,
       "max_width": null,
       "min_height": null,
       "min_width": null,
       "ripple": null,
       "to": null,
       "v_slots": [],
       "width": null
      }
     },
     "e404e3b229b9405eb924e5ba93905591": {
      "model_module": "jupyter-vuetify",
      "model_module_version": "^1.5.1",
      "model_name": "CardModel",
      "state": {
       "_events": [],
       "_jupyter_vue": "IPY_MODEL_bc2712ed128d4d47ba50f0f591fcb068",
       "attributes": {},
       "children": [
        "IPY_MODEL_5b6b31c223fc40699875559172680e23",
        "IPY_MODEL_c7116942b56543888bb9eca69e57e2a7"
       ],
       "elevation": null,
       "height": null,
       "href": null,
       "layout": "IPY_MODEL_05a5ce1b0aee439398fa67c8e100a8bf",
       "loader_height": null,
       "loading": null,
       "max_height": null,
       "max_width": null,
       "min_height": null,
       "min_width": null,
       "ripple": null,
       "to": null,
       "v_slots": [],
       "width": null
      }
     },
     "e409abecf6bc484f98b009832e0da65d": {
      "model_module": "@jupyter-widgets/base",
      "model_module_version": "1.2.0",
      "model_name": "LayoutModel",
      "state": {}
     },
     "e40ad22069674e309ab0b384b2e916e6": {
      "model_module": "jupyter-vuetify",
      "model_module_version": "^1.5.1",
      "model_name": "CardModel",
      "state": {
       "_events": [],
       "_jupyter_vue": "IPY_MODEL_bc2712ed128d4d47ba50f0f591fcb068",
       "attributes": {},
       "children": [
        "IPY_MODEL_f24912816571468c8ac89be8cdb64c08",
        "IPY_MODEL_e51782291f8e4020a1dba05edec506f9"
       ],
       "elevation": null,
       "height": null,
       "href": null,
       "layout": "IPY_MODEL_c68ccdcc10ef49d3a1603e83b14d9eaa",
       "loader_height": null,
       "loading": null,
       "max_height": null,
       "max_width": null,
       "min_height": null,
       "min_width": null,
       "ripple": null,
       "to": null,
       "v_slots": [],
       "width": null
      }
     },
     "e4501f3ac1964ccea87deef800571f57": {
      "model_module": "@jupyter-widgets/base",
      "model_module_version": "1.2.0",
      "model_name": "LayoutModel",
      "state": {}
     },
     "e4be8234efbb4228a5baf35c8208f3b8": {
      "model_module": "jupyter-vuetify",
      "model_module_version": "^1.5.1",
      "model_name": "CardTextModel",
      "state": {
       "_events": [],
       "_jupyter_vue": "IPY_MODEL_bc2712ed128d4d47ba50f0f591fcb068",
       "attributes": {},
       "children": [
        "IPY_MODEL_1bc5c98887e14c9b9844f81d0b5ca0d9",
        "IPY_MODEL_1ddacc7e203c41098e09cb5bc259db05"
       ],
       "layout": "IPY_MODEL_8f38714226624aeb96c7d35827fe723e",
       "v_slots": []
      }
     },
     "e4eee4d908584320b280a82e9c4491bc": {
      "model_module": "jupyter-vuetify",
      "model_module_version": "^1.5.1",
      "model_name": "ColModel",
      "state": {
       "_events": [],
       "_jupyter_vue": "IPY_MODEL_bc2712ed128d4d47ba50f0f591fcb068",
       "attributes": {},
       "children": [
        "IPY_MODEL_da8e52c8e7004d9caa288fd816c95d4c"
       ],
       "cols": 6,
       "layout": "IPY_MODEL_e67979d0f4634935be01ba221522f3cb",
       "lg": null,
       "md": null,
       "offset": null,
       "offset_lg": null,
       "offset_md": null,
       "offset_sm": null,
       "offset_xl": null,
       "order": null,
       "order_lg": null,
       "order_md": null,
       "order_sm": null,
       "order_xl": null,
       "sm": null,
       "v_slots": [],
       "xl": null
      }
     },
     "e51782291f8e4020a1dba05edec506f9": {
      "model_module": "jupyter-vuetify",
      "model_module_version": "^1.5.1",
      "model_name": "CardTextModel",
      "state": {
       "_events": [],
       "_jupyter_vue": "IPY_MODEL_bc2712ed128d4d47ba50f0f591fcb068",
       "attributes": {},
       "children": [
        "lol"
       ],
       "layout": "IPY_MODEL_7182d00644d2469896f6e2bcbf1eeb1e",
       "v_slots": []
      }
     },
     "e524656aa071467493965657eb0d97d4": {
      "model_module": "@jupyter-widgets/base",
      "model_module_version": "1.2.0",
      "model_name": "LayoutModel",
      "state": {}
     },
     "e53b391da04a4439be2ba4d35316a8c6": {
      "model_module": "@jupyter-widgets/base",
      "model_module_version": "1.2.0",
      "model_name": "LayoutModel",
      "state": {}
     },
     "e541593a492940d2b3bb7dddc1c22624": {
      "model_module": "@jupyter-widgets/base",
      "model_module_version": "1.2.0",
      "model_name": "LayoutModel",
      "state": {}
     },
     "e581e8f31ff54f33abd3a26c2abed615": {
      "model_module": "jupyter-vuetify",
      "model_module_version": "^1.5.1",
      "model_name": "CardModel",
      "state": {
       "_events": [],
       "_jupyter_vue": "IPY_MODEL_bc2712ed128d4d47ba50f0f591fcb068",
       "attributes": {},
       "children": [
        "IPY_MODEL_3baf261f51ea49dabba7f95d23bdd6a7",
        "IPY_MODEL_80c9814be61548fb96c6da3e542aece4"
       ],
       "elevation": null,
       "height": null,
       "href": null,
       "layout": "IPY_MODEL_cd7f4fc5b7a54d838c5bd887d3965dae",
       "loader_height": null,
       "loading": null,
       "max_height": null,
       "max_width": null,
       "min_height": null,
       "min_width": null,
       "ripple": null,
       "to": null,
       "v_slots": [],
       "width": null
      }
     },
     "e59000a41b074439aa2a033d1bd0b231": {
      "model_module": "jupyter-vuetify",
      "model_module_version": "^1.5.1",
      "model_name": "ColModel",
      "state": {
       "_events": [],
       "_jupyter_vue": "IPY_MODEL_bc2712ed128d4d47ba50f0f591fcb068",
       "attributes": {},
       "children": [
        "IPY_MODEL_6c800b24c20747ca9e8c1898eb61b7d3"
       ],
       "cols": 12,
       "layout": "IPY_MODEL_e409abecf6bc484f98b009832e0da65d",
       "lg": null,
       "md": null,
       "offset": null,
       "offset_lg": null,
       "offset_md": null,
       "offset_sm": null,
       "offset_xl": null,
       "order": null,
       "order_lg": null,
       "order_md": null,
       "order_sm": null,
       "order_xl": null,
       "sm": null,
       "v_slots": [],
       "xl": null
      }
     },
     "e5a4b608c35f4e8fbc9676fbb02f42f1": {
      "model_module": "@jupyter-widgets/base",
      "model_module_version": "1.2.0",
      "model_name": "LayoutModel",
      "state": {}
     },
     "e5aa1ad7e4e94c5cbb91982a4624e4f2": {
      "model_module": "@jupyter-widgets/base",
      "model_module_version": "1.2.0",
      "model_name": "LayoutModel",
      "state": {}
     },
     "e5ae6522587c492f959af2c34c8ef71d": {
      "model_module": "@jupyter-widgets/base",
      "model_module_version": "1.2.0",
      "model_name": "LayoutModel",
      "state": {}
     },
     "e5cff81c40634db7bcdcce11475ad054": {
      "model_module": "jupyter-vuetify",
      "model_module_version": "^1.5.1",
      "model_name": "BtnModel",
      "state": {
       "_events": [],
       "_jupyter_vue": "IPY_MODEL_bc2712ed128d4d47ba50f0f591fcb068",
       "attributes": {},
       "children": [
        "SANDAG Disclaimer"
       ],
       "color": "accent-3",
       "elevation": null,
       "height": null,
       "href": null,
       "layout": "IPY_MODEL_ccb45908862c497a8202f6ef8fe4098e",
       "max_height": null,
       "max_width": null,
       "min_height": null,
       "min_width": null,
       "ripple": null,
       "text": true,
       "to": null,
       "v_slots": [],
       "width": null
      }
     },
     "e5e502d192bb48a58bb45f051e64fb8e": {
      "model_module": "@jupyter-widgets/base",
      "model_module_version": "1.2.0",
      "model_name": "LayoutModel",
      "state": {}
     },
     "e61fd6bd97f24a02b67da565cfa2296d": {
      "model_module": "jupyter-vuetify",
      "model_module_version": "^1.5.1",
      "model_name": "CardModel",
      "state": {
       "_events": [],
       "_jupyter_vue": "IPY_MODEL_bc2712ed128d4d47ba50f0f591fcb068",
       "attributes": {},
       "children": [
        "IPY_MODEL_60a7a5af9a8f4bcf8602be7ee60c31c2",
        "IPY_MODEL_1725915c7d844d9598aee05e78059275",
        "IPY_MODEL_7bb68f9259fc40edbf0c190ea201f910"
       ],
       "elevation": null,
       "height": null,
       "href": null,
       "layout": "IPY_MODEL_5d0f42359ead4549aa575e106b8512f4",
       "loader_height": null,
       "loading": null,
       "max_height": null,
       "max_width": null,
       "min_height": null,
       "min_width": null,
       "ripple": null,
       "to": null,
       "v_slots": [],
       "width": null
      }
     },
     "e634af4406904d8894d83a06ee5b92b8": {
      "model_module": "jupyter-vuetify",
      "model_module_version": "^1.5.1",
      "model_name": "CardTextModel",
      "state": {
       "_events": [],
       "_jupyter_vue": "IPY_MODEL_bc2712ed128d4d47ba50f0f591fcb068",
       "attributes": {},
       "children": [
        "lol"
       ],
       "layout": "IPY_MODEL_443306dee88942a3a1d4a81e348bb8d8",
       "v_slots": []
      }
     },
     "e646028dba7b430db6a232293c5c7949": {
      "model_module": "@jupyter-widgets/base",
      "model_module_version": "1.2.0",
      "model_name": "LayoutModel",
      "state": {}
     },
     "e6613a62f2364b898e9ccf8092969645": {
      "model_module": "@jupyter-widgets/base",
      "model_module_version": "1.2.0",
      "model_name": "LayoutModel",
      "state": {}
     },
     "e668dc30047942e59ec953eed161e77f": {
      "model_module": "jupyter-vuetify",
      "model_module_version": "^1.5.1",
      "model_name": "CardTitleModel",
      "state": {
       "_events": [],
       "_jupyter_vue": "IPY_MODEL_bc2712ed128d4d47ba50f0f591fcb068",
       "attributes": {},
       "children": [
        "ZIP Codes"
       ],
       "layout": "IPY_MODEL_a097da574bec4802919b1be7f3ba90e3",
       "v_slots": []
      }
     },
     "e668e04129f246a3a2cf6db856b24bf1": {
      "model_module": "@jupyter-widgets/base",
      "model_module_version": "1.2.0",
      "model_name": "LayoutModel",
      "state": {}
     },
     "e67979d0f4634935be01ba221522f3cb": {
      "model_module": "@jupyter-widgets/base",
      "model_module_version": "1.2.0",
      "model_name": "LayoutModel",
      "state": {}
     },
     "e6915ff4c2074eb6a952ddd5b8b702c8": {
      "model_module": "jupyter-vuetify",
      "model_module_version": "^1.5.1",
      "model_name": "CardTextModel",
      "state": {
       "_events": [],
       "_jupyter_vue": "IPY_MODEL_bc2712ed128d4d47ba50f0f591fcb068",
       "attributes": {},
       "children": [
        "IPY_MODEL_d7988ccd54b948d1b5c81ec292d0e648",
        "IPY_MODEL_c4fd6546b59d4e868005b103de916662",
        "IPY_MODEL_5dd982e829a64dbb95e78e2c42da24df"
       ],
       "layout": "IPY_MODEL_112ff17e17224ec1a011dc3e635582d6",
       "v_slots": []
      }
     },
     "e69523673a1e4a659aa1e4ba95632a23": {
      "model_module": "jupyter-vuetify",
      "model_module_version": "^1.5.1",
      "model_name": "CardTextModel",
      "state": {
       "_events": [],
       "_jupyter_vue": "IPY_MODEL_bc2712ed128d4d47ba50f0f591fcb068",
       "attributes": {},
       "children": [
        "IPY_MODEL_2b4e414c69de4649af0eb7febb9c1a56",
        "IPY_MODEL_1812332470fd4584af8d9a69cdb5bb8c",
        "IPY_MODEL_6666a079a7924215ae5a478195e58cda"
       ],
       "layout": "IPY_MODEL_73ef7dce2b994b1793966b94b073d575",
       "v_slots": []
      }
     },
     "e6b1906f1d484c4898061d631f67cc9b": {
      "model_module": "jupyter-vuetify",
      "model_module_version": "^1.5.1",
      "model_name": "CardTextModel",
      "state": {
       "_events": [],
       "_jupyter_vue": "IPY_MODEL_bc2712ed128d4d47ba50f0f591fcb068",
       "attributes": {},
       "children": [
        "This section informs about the sources of the data that are used in this dashboard."
       ],
       "layout": "IPY_MODEL_f1be378ecf0542c1a52f41b3302f574a",
       "v_slots": []
      }
     },
     "e6ba59185b6547558e7f38474a84361b": {
      "model_module": "jupyter-vuetify",
      "model_module_version": "^1.5.1",
      "model_name": "HtmlModel",
      "state": {
       "_events": [],
       "_jupyter_vue": "IPY_MODEL_bc2712ed128d4d47ba50f0f591fcb068",
       "_model_module_version": "^1.5.1",
       "_view_module_version": "^1.5.1",
       "attributes": {},
       "children": [
        "lol"
       ],
       "class_": "subtitle",
       "layout": "IPY_MODEL_246a48d5a75f447d82562ca320ba13e1",
       "tag": "div",
       "v_slots": []
      }
     },
     "e6cce6393c334a008057dc80c4eed58a": {
      "model_module": "@jupyter-widgets/base",
      "model_module_version": "1.2.0",
      "model_name": "LayoutModel",
      "state": {}
     },
     "e6cd48f43d1040f4b50309f2fbdfa30f": {
      "model_module": "@jupyter-widgets/base",
      "model_module_version": "1.2.0",
      "model_name": "LayoutModel",
      "state": {}
     },
     "e733d4b3f15745ac9039db044d1c3184": {
      "model_module": "@jupyter-widgets/base",
      "model_module_version": "1.2.0",
      "model_name": "LayoutModel",
      "state": {}
     },
     "e7779c171cc04c1cb7e07f8e4a8be3e3": {
      "model_module": "jupyter-vuetify",
      "model_module_version": "^1.5.1",
      "model_name": "CardActionsModel",
      "state": {
       "_events": [],
       "_jupyter_vue": "IPY_MODEL_bc2712ed128d4d47ba50f0f591fcb068",
       "attributes": {},
       "children": [
        "IPY_MODEL_27b0fb95d44d4948932b8bd87439122a"
       ],
       "layout": "IPY_MODEL_eeddbbab2cc247b5a320907f9e9e6b04",
       "v_slots": []
      }
     },
     "e7aa41cd643c4f59a366484b1781aa28": {
      "model_module": "@jupyter-widgets/base",
      "model_module_version": "1.2.0",
      "model_name": "LayoutModel",
      "state": {}
     },
     "e7f4c31b02534def9cde16708043e22e": {
      "model_module": "@jupyter-widgets/base",
      "model_module_version": "1.2.0",
      "model_name": "LayoutModel",
      "state": {}
     },
     "e8891b81f2b54940bceba730468ed422": {
      "model_module": "jupyter-vuetify",
      "model_module_version": "^1.5.1",
      "model_name": "ColModel",
      "state": {
       "_events": [],
       "_jupyter_vue": "IPY_MODEL_bc2712ed128d4d47ba50f0f591fcb068",
       "attributes": {},
       "children": [
        "IPY_MODEL_671c1266cdaf4c2081512735755fc3b8"
       ],
       "cols": 6,
       "layout": "IPY_MODEL_8af881841a3f4204a1aa21c2e9d81dd0",
       "lg": null,
       "md": null,
       "offset": null,
       "offset_lg": null,
       "offset_md": null,
       "offset_sm": null,
       "offset_xl": null,
       "order": null,
       "order_lg": null,
       "order_md": null,
       "order_sm": null,
       "order_xl": null,
       "sm": null,
       "v_slots": [],
       "xl": null
      }
     },
     "e89f671dc6cf40d18e8171e10cc28765": {
      "model_module": "jupyter-vuetify",
      "model_module_version": "^1.5.1",
      "model_name": "ColModel",
      "state": {
       "_events": [],
       "_jupyter_vue": "IPY_MODEL_bc2712ed128d4d47ba50f0f591fcb068",
       "attributes": {},
       "children": [
        "IPY_MODEL_1bbc47bc235a4838abbbe34f5573b9fb"
       ],
       "cols": 12,
       "layout": "IPY_MODEL_c3869398ed4b4c6c97acec15c3e48f7e",
       "lg": null,
       "md": null,
       "offset": null,
       "offset_lg": null,
       "offset_md": null,
       "offset_sm": null,
       "offset_xl": null,
       "order": null,
       "order_lg": null,
       "order_md": null,
       "order_sm": null,
       "order_xl": null,
       "sm": null,
       "v_slots": [],
       "xl": null
      }
     },
     "e8a5893e603040439bac170dd5c4ef33": {
      "model_module": "jupyter-vuetify",
      "model_module_version": "^1.5.1",
      "model_name": "RowModel",
      "state": {
       "_events": [],
       "_jupyter_vue": "IPY_MODEL_bc2712ed128d4d47ba50f0f591fcb068",
       "attributes": {},
       "children": [
        "IPY_MODEL_3dda02438f434ffcaaf275c80e40d0d2",
        "IPY_MODEL_f6e71426709d42c0b2928b66ff482b71",
        "IPY_MODEL_d99b033397104c8b83629f4139b9a12e"
       ],
       "dense": true,
       "layout": "IPY_MODEL_cd90bba8c2944cb4ac4df4da1917fcd8",
       "v_slots": []
      }
     },
     "e8bc9727cd994ce88b08805269829704": {
      "model_module": "@jupyter-widgets/base",
      "model_module_version": "1.2.0",
      "model_name": "LayoutModel",
      "state": {}
     },
     "e8ce8fbfde524a22870667374ef1475b": {
      "model_module": "@jupyter-widgets/base",
      "model_module_version": "1.2.0",
      "model_name": "LayoutModel",
      "state": {}
     },
     "e8e70f79e2ab4319a0e57520435111bf": {
      "model_module": "jupyter-vuetify",
      "model_module_version": "^1.5.1",
      "model_name": "CardTitleModel",
      "state": {
       "_events": [],
       "_jupyter_vue": "IPY_MODEL_bc2712ed128d4d47ba50f0f591fcb068",
       "attributes": {},
       "children": [
        "About the Data"
       ],
       "layout": "IPY_MODEL_aca8a503b7e3458fad7224cae6d42ee3",
       "v_slots": []
      }
     },
     "e8f4ea5b364146378e2ef8c52b1e9970": {
      "model_module": "jupyter-vuetify",
      "model_module_version": "^1.5.1",
      "model_name": "CardTitleModel",
      "state": {
       "_events": [],
       "_jupyter_vue": "IPY_MODEL_bc2712ed128d4d47ba50f0f591fcb068",
       "attributes": {},
       "children": [
        "ZIP Codes"
       ],
       "layout": "IPY_MODEL_ba50bf6a490e400c979b32851aa7f304",
       "v_slots": []
      }
     },
     "e90df34311fb463ca86855e6d66f8a32": {
      "model_module": "jupyter-vuetify",
      "model_module_version": "^1.5.1",
      "model_name": "HtmlModel",
      "state": {
       "_events": [],
       "_jupyter_vue": "IPY_MODEL_bc2712ed128d4d47ba50f0f591fcb068",
       "_model_module_version": "^1.5.1",
       "_view_module_version": "^1.5.1",
       "attributes": {},
       "children": [
        "lol"
       ],
       "class_": "text--primary",
       "layout": "IPY_MODEL_9721e91f0cd545f6b987b25e07877c02",
       "tag": "h4",
       "v_slots": []
      }
     },
     "e9414ec0d8964a24a85eedb3bd878aa7": {
      "model_module": "jupyter-vuetify",
      "model_module_version": "^1.5.1",
      "model_name": "CardModel",
      "state": {
       "_events": [],
       "_jupyter_vue": "IPY_MODEL_bc2712ed128d4d47ba50f0f591fcb068",
       "attributes": {},
       "children": [
        "IPY_MODEL_f9ccb16db3db4010b9cc183b5293e613",
        "IPY_MODEL_e4be8234efbb4228a5baf35c8208f3b8"
       ],
       "elevation": null,
       "height": null,
       "href": null,
       "layout": "IPY_MODEL_51cef35e8fa74eddb698c2d93842f141",
       "loader_height": null,
       "loading": null,
       "max_height": null,
       "max_width": null,
       "min_height": null,
       "min_width": null,
       "ripple": null,
       "to": null,
       "v_slots": [],
       "width": null
      }
     },
     "e954ceba52b743b48160d5e90f71d620": {
      "model_module": "jupyter-vuetify",
      "model_module_version": "^1.5.1",
      "model_name": "CardActionsModel",
      "state": {
       "_events": [],
       "_jupyter_vue": "IPY_MODEL_bc2712ed128d4d47ba50f0f591fcb068",
       "attributes": {},
       "children": [
        "IPY_MODEL_eff800fd5a4e43049b8e9d3efa1a6f9f",
        "IPY_MODEL_5445adadc94548b99e4828ae02878bc4"
       ],
       "layout": "IPY_MODEL_30cc4e28db4945f581d8b2f5bd1dc807",
       "v_slots": []
      }
     },
     "e98ccaba1c0640a997afbe457066b162": {
      "model_module": "jupyter-vuetify",
      "model_module_version": "^1.5.1",
      "model_name": "HtmlModel",
      "state": {
       "_events": [],
       "_jupyter_vue": "IPY_MODEL_bc2712ed128d4d47ba50f0f591fcb068",
       "_model_module_version": "^1.5.1",
       "_view_module_version": "^1.5.1",
       "attributes": {},
       "children": [
        "lol"
       ],
       "class_": "text--caption",
       "layout": "IPY_MODEL_975648c2249b46fe94cf2dbef0a63143",
       "tag": "div",
       "v_slots": []
      }
     },
     "e993441667ec4a6baae3c20b24559658": {
      "model_module": "@jupyter-widgets/base",
      "model_module_version": "1.2.0",
      "model_name": "LayoutModel",
      "state": {}
     },
     "e9949d262f5a41faacb710e1447845a3": {
      "model_module": "jupyter-vuetify",
      "model_module_version": "^1.5.1",
      "model_name": "CardTitleModel",
      "state": {
       "_events": [],
       "_jupyter_vue": "IPY_MODEL_bc2712ed128d4d47ba50f0f591fcb068",
       "attributes": {},
       "children": [
        "About the Data"
       ],
       "layout": "IPY_MODEL_825260ee196d425d808b7b851a0d6309",
       "v_slots": []
      }
     },
     "e9a14c94519844d6bb5adf3722a3b003": {
      "model_module": "@jupyter-widgets/base",
      "model_module_version": "1.2.0",
      "model_name": "LayoutModel",
      "state": {}
     },
     "e9a520298af0417b9ff651340a9e9697": {
      "model_module": "jupyter-vuetify",
      "model_module_version": "^1.5.1",
      "model_name": "CardTextModel",
      "state": {
       "_events": [],
       "_jupyter_vue": "IPY_MODEL_bc2712ed128d4d47ba50f0f591fcb068",
       "attributes": {},
       "children": [
        "This section informs about the sources of the data that are used in this dashboard."
       ],
       "layout": "IPY_MODEL_c5526a8f314741e2bce25ac59bf574b6",
       "v_slots": []
      }
     },
     "e9ae842f9bbe411889d1d61c2aafbf3e": {
      "model_module": "@jupyter-widgets/base",
      "model_module_version": "1.2.0",
      "model_name": "LayoutModel",
      "state": {}
     },
     "e9fea6489c814b40a0bfbe483aacdf8b": {
      "model_module": "jupyter-vuetify",
      "model_module_version": "^1.5.1",
      "model_name": "HtmlModel",
      "state": {
       "_events": [],
       "_jupyter_vue": "IPY_MODEL_bc2712ed128d4d47ba50f0f591fcb068",
       "_model_module_version": "^1.5.1",
       "_view_module_version": "^1.5.1",
       "attributes": {},
       "children": [
        "Zip code is zip code of residence, which may not be location of exposure. Rates based on small case counts may vary considerably and should be interpreted with caution.",
        "Data are preliminary and subject to change. Total population=3,351,784."
       ],
       "layout": "IPY_MODEL_bd48b9c2a8c34320824357fa2aebed8e",
       "tag": "p",
       "v_slots": []
      }
     },
     "ea091e3e7c6e42ad90f78aa80959ef87": {
      "model_module": "@jupyter-widgets/base",
      "model_module_version": "1.2.0",
      "model_name": "LayoutModel",
      "state": {}
     },
     "ea2ea32d6cfa4b53b506415895e666c8": {
      "model_module": "jupyter-vuetify",
      "model_module_version": "^1.5.1",
      "model_name": "CardTextModel",
      "state": {
       "_events": [],
       "_jupyter_vue": "IPY_MODEL_bc2712ed128d4d47ba50f0f591fcb068",
       "attributes": {},
       "children": [
        "This section informs about the sources of the data that are used in this dashboard."
       ],
       "layout": "IPY_MODEL_f4127fa8cc4d49cea4effca976354b1d",
       "v_slots": []
      }
     },
     "ea3d687674b241c7aeada49fd978749b": {
      "model_module": "jupyter-vuetify",
      "model_module_version": "^1.5.1",
      "model_name": "CardTextModel",
      "state": {
       "_events": [],
       "_jupyter_vue": "IPY_MODEL_bc2712ed128d4d47ba50f0f591fcb068",
       "attributes": {},
       "children": [
        "lol"
       ],
       "layout": "IPY_MODEL_e668e04129f246a3a2cf6db856b24bf1",
       "v_slots": []
      }
     },
     "eaa14e1aea984d2e85dc87b5d5769650": {
      "model_module": "@jupyter-widgets/base",
      "model_module_version": "1.2.0",
      "model_name": "LayoutModel",
      "state": {}
     },
     "eab71a63cbc94d2e809bf32d6e85a229": {
      "model_module": "@jupyter-widgets/base",
      "model_module_version": "1.2.0",
      "model_name": "LayoutModel",
      "state": {}
     },
     "eaea97c2edf343f1b463aef7bbfb3338": {
      "model_module": "jupyter-vuetify",
      "model_module_version": "^1.5.1",
      "model_name": "CardTitleModel",
      "state": {
       "_events": [],
       "_jupyter_vue": "IPY_MODEL_bc2712ed128d4d47ba50f0f591fcb068",
       "attributes": {},
       "children": [
        "Covid-19 Case Data"
       ],
       "layout": "IPY_MODEL_3f4742ccfddf42c086dad74df21e0ca3",
       "v_slots": []
      }
     },
     "eb0e702a7f994b238732e3904e87478d": {
      "model_module": "@jupyter-widgets/base",
      "model_module_version": "1.2.0",
      "model_name": "LayoutModel",
      "state": {}
     },
     "eb5435f406954cc69adb6d1b91d3a3b4": {
      "model_module": "@jupyter-widgets/base",
      "model_module_version": "1.2.0",
      "model_name": "LayoutModel",
      "state": {}
     },
     "eb648af42a3f4abf981ced6e69b7a5da": {
      "model_module": "jupyter-vuetify",
      "model_module_version": "^1.5.1",
      "model_name": "CardModel",
      "state": {
       "_events": [],
       "_jupyter_vue": "IPY_MODEL_bc2712ed128d4d47ba50f0f591fcb068",
       "attributes": {},
       "children": [
        "IPY_MODEL_444c1b2d5b0c46629a68b897d097983f",
        "IPY_MODEL_b5590f588f4b46529489701fc3518651"
       ],
       "elevation": null,
       "height": null,
       "href": null,
       "layout": "IPY_MODEL_0b1700200734402f922300cf1434d04c",
       "loader_height": null,
       "loading": null,
       "max_height": null,
       "max_width": null,
       "min_height": null,
       "min_width": null,
       "ripple": null,
       "to": null,
       "v_slots": [],
       "width": null
      }
     },
     "eb8e4e5c010f49589c754e5f3f61937b": {
      "model_module": "jupyter-vuetify",
      "model_module_version": "^1.5.1",
      "model_name": "RowModel",
      "state": {
       "_events": [],
       "_jupyter_vue": "IPY_MODEL_bc2712ed128d4d47ba50f0f591fcb068",
       "attributes": {},
       "children": [
        "IPY_MODEL_6cb2f3f5e318420fadef8ab3073ce470",
        "IPY_MODEL_ba620a94322f45dc86e97dac43cbf0fe",
        "IPY_MODEL_106b97524599417dad984c2e32e62077"
       ],
       "dense": true,
       "layout": "IPY_MODEL_1198a8f5d1c8462fb0582ed590a6f005",
       "v_slots": []
      }
     },
     "eb971b6c7a5b4d0aab44e40309dfac8e": {
      "model_module": "jupyter-vuetify",
      "model_module_version": "^1.5.1",
      "model_name": "HtmlModel",
      "state": {
       "_events": [],
       "_jupyter_vue": "IPY_MODEL_bc2712ed128d4d47ba50f0f591fcb068",
       "_model_module_version": "^1.5.1",
       "_view_module_version": "^1.5.1",
       "attributes": {},
       "children": [
        "Zip code is zip code of residence, which may not be location of exposure. Rates based on small case counts may vary considerably and should be interpreted with caution.",
        "Data are preliminary and subject to change. Total population=3,351,784."
       ],
       "layout": "IPY_MODEL_62c26b70ad124dccac28a96f16b67ec6",
       "tag": "p",
       "v_slots": []
      }
     },
     "ebc2e9f840344f1380a46965e5beb3f3": {
      "model_module": "@jupyter-widgets/base",
      "model_module_version": "1.2.0",
      "model_name": "LayoutModel",
      "state": {}
     },
     "ebcfe0cb753f42c5886edd51346987ca": {
      "model_module": "@jupyter-widgets/base",
      "model_module_version": "1.2.0",
      "model_name": "LayoutModel",
      "state": {}
     },
     "ec0cc3a5c75e461da767a5da7858313f": {
      "model_module": "@jupyter-widgets/base",
      "model_module_version": "1.2.0",
      "model_name": "LayoutModel",
      "state": {}
     },
     "ec3e51d58bab429886293c63727b8905": {
      "model_module": "jupyter-vuetify",
      "model_module_version": "^1.5.1",
      "model_name": "CardTitleModel",
      "state": {
       "_events": [],
       "_jupyter_vue": "IPY_MODEL_bc2712ed128d4d47ba50f0f591fcb068",
       "attributes": {},
       "children": [
        "About the Data"
       ],
       "layout": "IPY_MODEL_e9ae842f9bbe411889d1d61c2aafbf3e",
       "v_slots": []
      }
     },
     "ec54a754434c46b5a35d632dc16922cc": {
      "model_module": "@jupyter-widgets/base",
      "model_module_version": "1.2.0",
      "model_name": "LayoutModel",
      "state": {}
     },
     "ec6b715ed977413dbd2b2f54e6294129": {
      "model_module": "@jupyter-widgets/base",
      "model_module_version": "1.2.0",
      "model_name": "LayoutModel",
      "state": {}
     },
     "ec70e04347804b4dbcef2c8a3a46db1e": {
      "model_module": "@jupyter-widgets/base",
      "model_module_version": "1.2.0",
      "model_name": "LayoutModel",
      "state": {}
     },
     "ec91c46a8a844fdfb181bbc1f539272a": {
      "model_module": "jupyter-vuetify",
      "model_module_version": "^1.5.1",
      "model_name": "CardModel",
      "state": {
       "_events": [],
       "_jupyter_vue": "IPY_MODEL_bc2712ed128d4d47ba50f0f591fcb068",
       "attributes": {},
       "children": [
        "IPY_MODEL_09176c619ae3496d8d2fa7915da1d828",
        "IPY_MODEL_4c6e884e239045ea90276ed4f7945015",
        "IPY_MODEL_a03eda72fc2d410dbbd3e1144dd33bd2"
       ],
       "elevation": null,
       "height": null,
       "href": null,
       "layout": "IPY_MODEL_ea091e3e7c6e42ad90f78aa80959ef87",
       "loader_height": null,
       "loading": null,
       "max_height": null,
       "max_width": null,
       "min_height": null,
       "min_width": null,
       "ripple": null,
       "to": null,
       "v_slots": [],
       "width": null
      }
     },
     "ece814a74419450a81dc8035b51747ea": {
      "model_module": "jupyter-vuetify",
      "model_module_version": "^1.5.1",
      "model_name": "ColModel",
      "state": {
       "_events": [],
       "_jupyter_vue": "IPY_MODEL_bc2712ed128d4d47ba50f0f591fcb068",
       "attributes": {},
       "children": [
        "IPY_MODEL_4e3134d979474703bc903730c335ebd0"
       ],
       "cols": 6,
       "layout": "IPY_MODEL_ff69ad477e0c4e2c8363a6c26592cf61",
       "lg": null,
       "md": null,
       "offset": null,
       "offset_lg": null,
       "offset_md": null,
       "offset_sm": null,
       "offset_xl": null,
       "order": null,
       "order_lg": null,
       "order_md": null,
       "order_sm": null,
       "order_xl": null,
       "sm": null,
       "v_slots": [],
       "xl": null
      }
     },
     "ecf687f9570044f5a58ef08a0ff4667f": {
      "model_module": "jupyter-vuetify",
      "model_module_version": "^1.5.1",
      "model_name": "CardTitleModel",
      "state": {
       "_events": [],
       "_jupyter_vue": "IPY_MODEL_bc2712ed128d4d47ba50f0f591fcb068",
       "attributes": {},
       "children": [
        "ZIP Code Boundaries"
       ],
       "layout": "IPY_MODEL_82b7698b89b9470e958545f95d9f80ee",
       "v_slots": []
      }
     },
     "ed70e0771c804bb682690181efc0cc04": {
      "model_module": "jupyter-vuetify",
      "model_module_version": "^1.5.1",
      "model_name": "CardModel",
      "state": {
       "_events": [],
       "_jupyter_vue": "IPY_MODEL_bc2712ed128d4d47ba50f0f591fcb068",
       "attributes": {},
       "children": [
        "IPY_MODEL_2766f92b2ecc420ca5f7bbee87cecc29",
        "IPY_MODEL_9e240fcb70aa47d39cf1278da1eb1116"
       ],
       "elevation": null,
       "height": null,
       "href": null,
       "layout": "IPY_MODEL_78c0cdc17a2d40fba44142ee11571d0c",
       "loader_height": null,
       "loading": null,
       "max_height": null,
       "max_width": null,
       "min_height": null,
       "min_width": null,
       "ripple": null,
       "to": null,
       "v_slots": [],
       "width": null
      }
     },
     "ed86956d58f84bafa686bcd09ca0a68c": {
      "model_module": "jupyter-vuetify",
      "model_module_version": "^1.5.1",
      "model_name": "BtnModel",
      "state": {
       "_events": [],
       "_jupyter_vue": "IPY_MODEL_bc2712ed128d4d47ba50f0f591fcb068",
       "attributes": {},
       "children": [
        "IPY_MODEL_c7ba74997d1d4bab8d6d6ed174249287"
       ],
       "color": "blue",
       "elevation": null,
       "height": null,
       "href": null,
       "layout": "IPY_MODEL_963894338d3b43f99beaf283ccdc759a",
       "max_height": null,
       "max_width": null,
       "min_height": null,
       "min_width": null,
       "ripple": null,
       "text": true,
       "to": null,
       "v_slots": [],
       "width": null
      }
     },
     "ed8a8cf427c94ea5b5c2748168f60a48": {
      "model_module": "jupyter-vuetify",
      "model_module_version": "^1.5.1",
      "model_name": "BtnModel",
      "state": {
       "_events": [],
       "_jupyter_vue": "IPY_MODEL_bc2712ed128d4d47ba50f0f591fcb068",
       "attributes": {},
       "children": [
        "IPY_MODEL_34ddce6ec83a4398a405580131171d03"
       ],
       "color": "blue",
       "elevation": null,
       "height": null,
       "href": null,
       "layout": "IPY_MODEL_64925fd69e4f4b0085ba4756bc91dcf7",
       "max_height": null,
       "max_width": null,
       "min_height": null,
       "min_width": null,
       "ripple": null,
       "text": true,
       "to": null,
       "v_slots": [],
       "width": null
      }
     },
     "ed8ccbecff724b26a7c2a122fa7ada1a": {
      "model_module": "@jupyter-widgets/base",
      "model_module_version": "1.2.0",
      "model_name": "LayoutModel",
      "state": {}
     },
     "edc14526fe3143c7a82f1c4d793cf7fb": {
      "model_module": "jupyter-vuetify",
      "model_module_version": "^1.5.1",
      "model_name": "ColModel",
      "state": {
       "_events": [],
       "_jupyter_vue": "IPY_MODEL_bc2712ed128d4d47ba50f0f591fcb068",
       "attributes": {},
       "children": [
        "IPY_MODEL_4cb7b0ee72dd4aa6ac29b2eada105b5f"
       ],
       "cols": 6,
       "layout": "IPY_MODEL_cfc67240c42f4cfb963b3da25bd5dc65",
       "lg": null,
       "md": null,
       "offset": null,
       "offset_lg": null,
       "offset_md": null,
       "offset_sm": null,
       "offset_xl": null,
       "order": null,
       "order_lg": null,
       "order_md": null,
       "order_sm": null,
       "order_xl": null,
       "sm": null,
       "v_slots": [],
       "xl": null
      }
     },
     "ede49f3ce2734d5297b761c0258501ed": {
      "model_module": "@jupyter-widgets/base",
      "model_module_version": "1.2.0",
      "model_name": "LayoutModel",
      "state": {}
     },
     "ee56cc5b594f42fb8cf5ff957512dc79": {
      "model_module": "@jupyter-widgets/base",
      "model_module_version": "1.2.0",
      "model_name": "LayoutModel",
      "state": {}
     },
     "ee59f02645c9491e9fc5a036958e89aa": {
      "model_module": "jupyter-vuetify",
      "model_module_version": "^1.5.1",
      "model_name": "CardTitleModel",
      "state": {
       "_events": [],
       "_jupyter_vue": "IPY_MODEL_bc2712ed128d4d47ba50f0f591fcb068",
       "attributes": {},
       "children": [
        "Covid-19 Case Data"
       ],
       "layout": "IPY_MODEL_bf1bd87dbe134d6f89c4db9bf7086278",
       "v_slots": []
      }
     },
     "ee772986cfd440cea687c8e8c873553b": {
      "model_module": "jupyter-vuetify",
      "model_module_version": "^1.5.1",
      "model_name": "CardTextModel",
      "state": {
       "_events": [],
       "_jupyter_vue": "IPY_MODEL_bc2712ed128d4d47ba50f0f591fcb068",
       "attributes": {},
       "children": [
        "IPY_MODEL_bc883561b51d45629c7b7d7914a8d50f"
       ],
       "layout": "IPY_MODEL_112196c3ea5849da9d81c6dbe7c84f19",
       "v_slots": []
      }
     },
     "ee83a5d747724858bbd13b5e9e97c06a": {
      "model_module": "@jupyter-widgets/base",
      "model_module_version": "1.2.0",
      "model_name": "LayoutModel",
      "state": {}
     },
     "eeab1a920184488ca2658379c96314c7": {
      "model_module": "jupyter-vuetify",
      "model_module_version": "^1.5.1",
      "model_name": "CardModel",
      "state": {
       "_events": [],
       "_jupyter_vue": "IPY_MODEL_bc2712ed128d4d47ba50f0f591fcb068",
       "attributes": {},
       "children": [
        "IPY_MODEL_c0ea154271564087b3139dcffeb4ccdb",
        "IPY_MODEL_70ca6890f02647fdb9315c86ced88c68"
       ],
       "elevation": null,
       "height": null,
       "href": null,
       "layout": "IPY_MODEL_4f722d0886cf4e92bcdfd5bb60821d85",
       "loader_height": null,
       "loading": null,
       "max_height": null,
       "max_width": null,
       "min_height": null,
       "min_width": null,
       "ripple": null,
       "to": null,
       "v_slots": [],
       "width": null
      }
     },
     "eeb57f1e0bec4d17aba55fbfe2bed9ef": {
      "model_module": "jupyter-vuetify",
      "model_module_version": "^1.5.1",
      "model_name": "ThemeColorsModel",
      "state": {
       "_model_module_version": "^1.5.1",
       "_theme_name": "light",
       "_view_module": null,
       "_view_module_version": "^1.5.1",
       "accent": "#82B1FF",
       "error": "#FF5252",
       "info": "#2196F3",
       "primary": "#1976D2",
       "secondary": "#424242",
       "success": "#4CAF50",
       "warning": "#FB8C00"
      }
     },
     "eebe1b97d8ed4cd18580b922e280c7c6": {
      "model_module": "jupyter-vuetify",
      "model_module_version": "^1.5.1",
      "model_name": "CardTextModel",
      "state": {
       "_events": [],
       "_jupyter_vue": "IPY_MODEL_bc2712ed128d4d47ba50f0f591fcb068",
       "attributes": {},
       "children": [
        "IPY_MODEL_095fb86772b641539c03572cadcc11ea",
        "IPY_MODEL_3e3aed1c8e1d46ce8d9f9b52ff14c4bb",
        "IPY_MODEL_7474321f2c5547c6a33d4459757d43e6",
        "IPY_MODEL_7cb1f388f7b74dbfa13e5ec54b120878"
       ],
       "layout": "IPY_MODEL_8e1f07a26c4b4584b1105787216845a8",
       "v_slots": []
      }
     },
     "eec84f0d2ee94d679b83583a43283e62": {
      "model_module": "jupyter-vuetify",
      "model_module_version": "^1.5.1",
      "model_name": "CardModel",
      "state": {
       "_events": [],
       "_jupyter_vue": "IPY_MODEL_bc2712ed128d4d47ba50f0f591fcb068",
       "attributes": {},
       "children": [
        "IPY_MODEL_71f2eac64d98401f82b973b9b4ed3fd4",
        "IPY_MODEL_4debfb0d2c0d46df9239249aa6603510"
       ],
       "elevation": null,
       "height": null,
       "href": null,
       "layout": "IPY_MODEL_573959de9e9c4e348abc333cddf2c8fa",
       "loader_height": null,
       "loading": null,
       "max_height": null,
       "max_width": null,
       "min_height": null,
       "min_width": null,
       "ripple": null,
       "to": null,
       "v_slots": [],
       "width": null
      }
     },
     "eeddbbab2cc247b5a320907f9e9e6b04": {
      "model_module": "@jupyter-widgets/base",
      "model_module_version": "1.2.0",
      "model_name": "LayoutModel",
      "state": {}
     },
     "eee532c720c84ebc98ac5183215427e3": {
      "model_module": "jupyter-vuetify",
      "model_module_version": "^1.5.1",
      "model_name": "HtmlModel",
      "state": {
       "_events": [],
       "_jupyter_vue": "IPY_MODEL_bc2712ed128d4d47ba50f0f591fcb068",
       "_model_module_version": "^1.5.1",
       "_view_module_version": "^1.5.1",
       "attributes": {
        "href": "https://web.archive.org/web/*/https://www.sandiegocounty.gov/content/dam/sdc/hhsa/programs/phs/Epidemiology/COVID-19%20Summary%20of%20Cases%20by%20Zip%20Code.pdf",
        "target": "_blank"
       },
       "children": [
        "Data Source"
       ],
       "layout": "IPY_MODEL_17d7179948de4d8c903cd4ff635d68ba",
       "tag": "a",
       "v_slots": []
      }
     },
     "eee571fa9ff845ec8a1595ea4c5ba84f": {
      "model_module": "@jupyter-widgets/base",
      "model_module_version": "1.2.0",
      "model_name": "LayoutModel",
      "state": {}
     },
     "ef07442a1d114059b57f5948e195121c": {
      "model_module": "jupyter-vuetify",
      "model_module_version": "^1.5.1",
      "model_name": "BtnModel",
      "state": {
       "_events": [],
       "_jupyter_vue": "IPY_MODEL_bc2712ed128d4d47ba50f0f591fcb068",
       "attributes": {},
       "children": [
        "IPY_MODEL_7ce41180599c45ef8292429bf1ad70fb"
       ],
       "color": "blue",
       "elevation": null,
       "height": null,
       "href": null,
       "layout": "IPY_MODEL_ebc2e9f840344f1380a46965e5beb3f3",
       "max_height": null,
       "max_width": null,
       "min_height": null,
       "min_width": null,
       "ripple": null,
       "text": true,
       "to": null,
       "v_slots": [],
       "width": null
      }
     },
     "ef1d212ac2a44f398d449279afc82d88": {
      "model_module": "@jupyter-widgets/base",
      "model_module_version": "1.2.0",
      "model_name": "LayoutModel",
      "state": {}
     },
     "ef5725a27b2a45659b84439bb4accdf2": {
      "model_module": "@jupyter-widgets/base",
      "model_module_version": "1.2.0",
      "model_name": "LayoutModel",
      "state": {}
     },
     "ef704e33301347539ac436964dc5643a": {
      "model_module": "jupyter-vuetify",
      "model_module_version": "^1.5.1",
      "model_name": "CardActionsModel",
      "state": {
       "_events": [],
       "_jupyter_vue": "IPY_MODEL_bc2712ed128d4d47ba50f0f591fcb068",
       "attributes": {},
       "children": [
        "IPY_MODEL_2821c8f438a1468c8d5363e756769dd4"
       ],
       "layout": "IPY_MODEL_57b6ab2873d74629a482331c8b9ae39b",
       "v_slots": []
      }
     },
     "ef76e4f4a60c4c1da83f667e8865c151": {
      "model_module": "jupyter-vuetify",
      "model_module_version": "^1.5.1",
      "model_name": "CardModel",
      "state": {
       "_events": [],
       "_jupyter_vue": "IPY_MODEL_bc2712ed128d4d47ba50f0f591fcb068",
       "attributes": {},
       "children": [
        "IPY_MODEL_e668dc30047942e59ec953eed161e77f",
        "IPY_MODEL_56670049455544d5aaceeabce1c3b478"
       ],
       "elevation": null,
       "height": null,
       "href": null,
       "layout": "IPY_MODEL_fe26c96116fe431fab9c3f3d422c3c73",
       "loader_height": null,
       "loading": null,
       "max_height": null,
       "max_width": null,
       "min_height": null,
       "min_width": null,
       "ripple": null,
       "to": null,
       "v_slots": [],
       "width": null
      }
     },
     "efbf181f0fbc4f8d95c3b2f47d33089a": {
      "model_module": "@jupyter-widgets/base",
      "model_module_version": "1.2.0",
      "model_name": "LayoutModel",
      "state": {}
     },
     "efcda9352ba248889068474c16690f60": {
      "model_module": "jupyter-vuetify",
      "model_module_version": "^1.5.1",
      "model_name": "HtmlModel",
      "state": {
       "_events": [],
       "_jupyter_vue": "IPY_MODEL_bc2712ed128d4d47ba50f0f591fcb068",
       "_model_module_version": "^1.5.1",
       "_view_module_version": "^1.5.1",
       "attributes": {
        "href": "https://web.archive.org/web/*/https://www.sandiegocounty.gov/content/dam/sdc/hhsa/programs/phs/Epidemiology/COVID-19%20Summary%20of%20Cases%20by%20Zip%20Code.pdf",
        "target": "_blank"
       },
       "children": [
        "Internet Archive Source"
       ],
       "layout": "IPY_MODEL_b7c1f678567f4a32b27d8ba5d316c73b",
       "tag": "a",
       "v_slots": []
      }
     },
     "eff323ec597443058d6f615b97e015a1": {
      "model_module": "@jupyter-widgets/base",
      "model_module_version": "1.2.0",
      "model_name": "LayoutModel",
      "state": {}
     },
     "eff7b41d20764bfc852144b8f35cfd61": {
      "model_module": "jupyter-vuetify",
      "model_module_version": "^1.5.1",
      "model_name": "CardModel",
      "state": {
       "_events": [],
       "_jupyter_vue": "IPY_MODEL_bc2712ed128d4d47ba50f0f591fcb068",
       "attributes": {},
       "children": [
        "IPY_MODEL_6dcb136de36c4d89984e895e7e30119b",
        "IPY_MODEL_bed6ab057898493aa33322dc64e4e1f8"
       ],
       "elevation": null,
       "height": null,
       "href": null,
       "layout": "IPY_MODEL_87e811c24ee44644bc03de92b6c4c6f9",
       "loader_height": null,
       "loading": null,
       "max_height": null,
       "max_width": null,
       "min_height": null,
       "min_width": null,
       "ripple": null,
       "to": null,
       "v_slots": [],
       "width": null
      }
     },
     "eff800fd5a4e43049b8e9d3efa1a6f9f": {
      "model_module": "jupyter-vuetify",
      "model_module_version": "^1.5.1",
      "model_name": "BtnModel",
      "state": {
       "_events": [],
       "_jupyter_vue": "IPY_MODEL_bc2712ed128d4d47ba50f0f591fcb068",
       "attributes": {},
       "children": [
        "IPY_MODEL_978b4a7a02a64008a12cebebc2cdfde7"
       ],
       "color": "blue",
       "elevation": null,
       "height": null,
       "href": null,
       "layout": "IPY_MODEL_9c7932e15ba94370b196a133ac9140b8",
       "max_height": null,
       "max_width": null,
       "min_height": null,
       "min_width": null,
       "ripple": null,
       "text": true,
       "to": null,
       "v_slots": [],
       "width": null
      }
     },
     "f01f3abc0be9437d963e037ae572b85e": {
      "model_module": "@jupyter-widgets/base",
      "model_module_version": "1.2.0",
      "model_name": "LayoutModel",
      "state": {}
     },
     "f056514c3b0c417dac2ec549d49c5386": {
      "model_module": "jupyter-vuetify",
      "model_module_version": "^1.5.1",
      "model_name": "HtmlModel",
      "state": {
       "_events": [],
       "_jupyter_vue": "IPY_MODEL_bc2712ed128d4d47ba50f0f591fcb068",
       "_model_module_version": "^1.5.1",
       "_view_module_version": "^1.5.1",
       "attributes": {},
       "children": [
        "lol"
       ],
       "class_": "text-h4",
       "layout": "IPY_MODEL_0aad74fd77fb42ec9aa245b756038cf3",
       "tag": "div",
       "v_slots": []
      }
     },
     "f08a52be593e4d31a46312c93b7d0fa4": {
      "model_module": "@jupyter-widgets/base",
      "model_module_version": "1.2.0",
      "model_name": "LayoutModel",
      "state": {}
     },
     "f09d5726faa74b3c9b6d2a79becbe243": {
      "model_module": "jupyter-vuetify",
      "model_module_version": "^1.5.1",
      "model_name": "ColModel",
      "state": {
       "_events": [],
       "_jupyter_vue": "IPY_MODEL_bc2712ed128d4d47ba50f0f591fcb068",
       "attributes": {},
       "children": [
        "IPY_MODEL_db12a14159eb4d019c8dc0c56a541bbc"
       ],
       "cols": 12,
       "layout": "IPY_MODEL_9d930dbd47574071b9d840567292963b",
       "lg": null,
       "md": null,
       "offset": null,
       "offset_lg": null,
       "offset_md": null,
       "offset_sm": null,
       "offset_xl": null,
       "order": null,
       "order_lg": null,
       "order_md": null,
       "order_sm": null,
       "order_xl": null,
       "sm": null,
       "v_slots": [],
       "xl": null
      }
     },
     "f0e814346df3479c8a808d55a1f436e5": {
      "model_module": "jupyter-vuetify",
      "model_module_version": "^1.5.1",
      "model_name": "ContainerModel",
      "state": {
       "_events": [],
       "_jupyter_vue": "IPY_MODEL_bc2712ed128d4d47ba50f0f591fcb068",
       "attributes": {},
       "children": [
        "IPY_MODEL_eb8e4e5c010f49589c754e5f3f61937b"
       ],
       "fluid": true,
       "layout": "IPY_MODEL_df5e05253b8d4949ba04b067c1e1b507",
       "v_slots": []
      }
     },
     "f10e5709cebc469fad01bf7fa386aeca": {
      "model_module": "@jupyter-widgets/base",
      "model_module_version": "1.2.0",
      "model_name": "LayoutModel",
      "state": {}
     },
     "f1143e0367c14fb79034661aa687cf26": {
      "model_module": "@jupyter-widgets/base",
      "model_module_version": "1.2.0",
      "model_name": "LayoutModel",
      "state": {}
     },
     "f11bf555aca943cbb9352a766aa8510a": {
      "model_module": "@jupyter-widgets/base",
      "model_module_version": "1.2.0",
      "model_name": "LayoutModel",
      "state": {}
     },
     "f16f6e7c5ff4465888f382a297c23ff2": {
      "model_module": "jupyter-vuetify",
      "model_module_version": "^1.5.1",
      "model_name": "CardTitleModel",
      "state": {
       "_events": [],
       "_jupyter_vue": "IPY_MODEL_bc2712ed128d4d47ba50f0f591fcb068",
       "attributes": {},
       "children": [
        "ZIP Codes"
       ],
       "layout": "IPY_MODEL_adf9011540ac40b99ffb3f90fcb0a4f3",
       "v_slots": []
      }
     },
     "f193f20ea7d5488bb0fd8bbdd1cb0215": {
      "model_module": "jupyter-vuetify",
      "model_module_version": "^1.5.1",
      "model_name": "CardTextModel",
      "state": {
       "_events": [],
       "_jupyter_vue": "IPY_MODEL_bc2712ed128d4d47ba50f0f591fcb068",
       "attributes": {},
       "children": [
        "The ZIP code boundaries shown in all maps are taken from the SANDAG/SanGIS Open Data Portal."
       ],
       "layout": "IPY_MODEL_a009762aa61e420aaf800815fbf9e20d",
       "v_slots": []
      }
     },
     "f1b74aa580b94039bdad3d82d1146c57": {
      "model_module": "@jupyter-widgets/base",
      "model_module_version": "1.2.0",
      "model_name": "LayoutModel",
      "state": {}
     },
     "f1be378ecf0542c1a52f41b3302f574a": {
      "model_module": "@jupyter-widgets/base",
      "model_module_version": "1.2.0",
      "model_name": "LayoutModel",
      "state": {}
     },
     "f235128dd3604765a220abfa131fc7de": {
      "model_module": "jupyter-vuetify",
      "model_module_version": "^1.5.1",
      "model_name": "HtmlModel",
      "state": {
       "_events": [],
       "_jupyter_vue": "IPY_MODEL_bc2712ed128d4d47ba50f0f591fcb068",
       "_model_module_version": "^1.5.1",
       "_view_module_version": "^1.5.1",
       "attributes": {
        "href": "https://sandag.org/resources/maps_and_gis/gis_downloads/disclaimer.asp"
       },
       "children": [
        "Disclaimer"
       ],
       "layout": "IPY_MODEL_8b46ccf516424a63b441257ea5f29b45",
       "tag": "a",
       "v_slots": []
      }
     },
     "f23f865e89c44eddbb1ac3aa5fb9cac4": {
      "model_module": "@jupyter-widgets/base",
      "model_module_version": "1.2.0",
      "model_name": "LayoutModel",
      "state": {}
     },
     "f24912816571468c8ac89be8cdb64c08": {
      "model_module": "jupyter-vuetify",
      "model_module_version": "^1.5.1",
      "model_name": "CardTitleModel",
      "state": {
       "_events": [],
       "_jupyter_vue": "IPY_MODEL_bc2712ed128d4d47ba50f0f591fcb068",
       "attributes": {},
       "children": [
        "ZIP Codes"
       ],
       "layout": "IPY_MODEL_4ebe24eeceeb4d68b0ca5dbb4a104598",
       "v_slots": []
      }
     },
     "f25666cc62d84bfe921642b170f2e68d": {
      "model_module": "jupyter-vuetify",
      "model_module_version": "^1.5.1",
      "model_name": "CardModel",
      "state": {
       "_events": [],
       "_jupyter_vue": "IPY_MODEL_bc2712ed128d4d47ba50f0f591fcb068",
       "attributes": {},
       "children": [
        "IPY_MODEL_7e8c4ca605d7475ea7518af642ecd5e9",
        "IPY_MODEL_813fddc6968c4fdd85cd596dfd7ecebb"
       ],
       "elevation": null,
       "height": null,
       "href": null,
       "layout": "IPY_MODEL_57f56a62c1cd434ca3b3ba2307b00b02",
       "loader_height": null,
       "loading": null,
       "max_height": null,
       "max_width": null,
       "min_height": null,
       "min_width": null,
       "ripple": null,
       "to": null,
       "v_slots": [],
       "width": null
      }
     },
     "f272dc1b96ff486e8d2f490647e001c7": {
      "model_module": "jupyter-vuetify",
      "model_module_version": "^1.5.1",
      "model_name": "CardTitleModel",
      "state": {
       "_events": [],
       "_jupyter_vue": "IPY_MODEL_bc2712ed128d4d47ba50f0f591fcb068",
       "attributes": {},
       "children": [
        "ZIP Code Boundaries"
       ],
       "layout": "IPY_MODEL_859713c8b3124c87924bf77f11bf6034",
       "v_slots": []
      }
     },
     "f2c37af0e2964b21867d37b5a07439e7": {
      "model_module": "@jupyter-widgets/base",
      "model_module_version": "1.2.0",
      "model_name": "LayoutModel",
      "state": {}
     },
     "f2c8cdd0376f49fd94675fee7ca9032c": {
      "model_module": "@jupyter-widgets/base",
      "model_module_version": "1.2.0",
      "model_name": "LayoutModel",
      "state": {}
     },
     "f2ed577219f44a89a822affeed68729f": {
      "model_module": "jupyter-vuetify",
      "model_module_version": "^1.5.1",
      "model_name": "CardModel",
      "state": {
       "_events": [],
       "_jupyter_vue": "IPY_MODEL_bc2712ed128d4d47ba50f0f591fcb068",
       "attributes": {},
       "children": [
        "IPY_MODEL_1fb165a5a1ab4e1aa9214bfc9496f273",
        "IPY_MODEL_6b3699ac06e64c1cb8404a6d9541d27a",
        "IPY_MODEL_85b3de66e46745e481006ff3d290c4c3"
       ],
       "elevation": null,
       "height": null,
       "href": null,
       "layout": "IPY_MODEL_5466fdf5fc73420aa9ed42ae57652a56",
       "loader_height": null,
       "loading": null,
       "max_height": null,
       "max_width": null,
       "min_height": null,
       "min_width": null,
       "ripple": null,
       "to": null,
       "v_slots": [],
       "width": null
      }
     },
     "f3114f4e787d46918a3e956ed77211ca": {
      "model_module": "@jupyter-widgets/base",
      "model_module_version": "1.2.0",
      "model_name": "LayoutModel",
      "state": {}
     },
     "f31e5672cb95424bb4d750adadd4f580": {
      "model_module": "@jupyter-widgets/base",
      "model_module_version": "1.2.0",
      "model_name": "LayoutModel",
      "state": {}
     },
     "f34f80e1ea524cdf867b6eae025ec323": {
      "model_module": "jupyter-vuetify",
      "model_module_version": "^1.5.1",
      "model_name": "BtnModel",
      "state": {
       "_events": [],
       "_jupyter_vue": "IPY_MODEL_bc2712ed128d4d47ba50f0f591fcb068",
       "attributes": {},
       "children": [
        "IPY_MODEL_0db5fbfacb9d40948ae06759f6b2e001"
       ],
       "color": "blue",
       "elevation": null,
       "height": null,
       "href": null,
       "layout": "IPY_MODEL_76c417c90a2c4f14affcf53a7a1250cc",
       "max_height": null,
       "max_width": null,
       "min_height": null,
       "min_width": null,
       "ripple": null,
       "text": true,
       "to": null,
       "v_slots": [],
       "width": null
      }
     },
     "f369a33c9b124c34aa97a8053fcf88dd": {
      "model_module": "@jupyter-widgets/base",
      "model_module_version": "1.2.0",
      "model_name": "LayoutModel",
      "state": {}
     },
     "f3958a5386114fab94f3f6e7b7fef8a4": {
      "model_module": "@jupyter-widgets/base",
      "model_module_version": "1.2.0",
      "model_name": "LayoutModel",
      "state": {}
     },
     "f3fe047fea134e01a112a3588fef4be6": {
      "model_module": "@jupyter-widgets/base",
      "model_module_version": "1.2.0",
      "model_name": "LayoutModel",
      "state": {}
     },
     "f4127fa8cc4d49cea4effca976354b1d": {
      "model_module": "@jupyter-widgets/base",
      "model_module_version": "1.2.0",
      "model_name": "LayoutModel",
      "state": {}
     },
     "f43ec5085de5428d87795f3ce092dc33": {
      "model_module": "@jupyter-widgets/base",
      "model_module_version": "1.2.0",
      "model_name": "LayoutModel",
      "state": {}
     },
     "f45f9b76d436419dbf4d47d05ccd0b32": {
      "model_module": "@jupyter-widgets/base",
      "model_module_version": "1.2.0",
      "model_name": "LayoutModel",
      "state": {}
     },
     "f4707f6be7f1415ebf6821787da53001": {
      "model_module": "@jupyter-widgets/base",
      "model_module_version": "1.2.0",
      "model_name": "LayoutModel",
      "state": {}
     },
     "f483db028d9a4c23b0f8fa2d578d84d5": {
      "model_module": "@jupyter-widgets/base",
      "model_module_version": "1.2.0",
      "model_name": "LayoutModel",
      "state": {}
     },
     "f48d2f13043d44f9855f0831973f098a": {
      "model_module": "jupyter-vuetify",
      "model_module_version": "^1.5.1",
      "model_name": "CardModel",
      "state": {
       "_events": [],
       "_jupyter_vue": "IPY_MODEL_bc2712ed128d4d47ba50f0f591fcb068",
       "attributes": {},
       "children": [
        "IPY_MODEL_497c89794f4447c5b13bc2297792b35d",
        "IPY_MODEL_a938a70f661941ef96ca08de4827b813",
        "IPY_MODEL_3031cbb788aa42deabb753cda2534d62"
       ],
       "elevation": null,
       "height": null,
       "href": null,
       "layout": "IPY_MODEL_66d8fba5317546b2ae3ac8ab8ac426a9",
       "loader_height": null,
       "loading": null,
       "max_height": null,
       "max_width": null,
       "min_height": null,
       "min_width": null,
       "ripple": null,
       "to": null,
       "v_slots": [],
       "width": null
      }
     },
     "f4977f7084e04d33ba30fe799d076365": {
      "model_module": "jupyter-vuetify",
      "model_module_version": "^1.5.1",
      "model_name": "BtnModel",
      "state": {
       "_events": [],
       "_jupyter_vue": "IPY_MODEL_bc2712ed128d4d47ba50f0f591fcb068",
       "attributes": {},
       "children": [
        "IPY_MODEL_f678fab45f7b48a59bcc3ff9a9cfc999"
       ],
       "color": "blue",
       "elevation": null,
       "height": null,
       "href": null,
       "layout": "IPY_MODEL_d99a789456f94a16a0a04d885d0de89e",
       "max_height": null,
       "max_width": null,
       "min_height": null,
       "min_width": null,
       "ripple": null,
       "text": true,
       "to": null,
       "v_slots": [],
       "width": null
      }
     },
     "f49cab372fa9494d824f14c1748c5905": {
      "model_module": "@jupyter-widgets/base",
      "model_module_version": "1.2.0",
      "model_name": "LayoutModel",
      "state": {}
     },
     "f4b00fa9d856459bb32e8a9d33bd56cf": {
      "model_module": "@jupyter-widgets/base",
      "model_module_version": "1.2.0",
      "model_name": "LayoutModel",
      "state": {}
     },
     "f4c8f90b2eaf429495ee348e2e9f9ee0": {
      "model_module": "jupyter-vuetify",
      "model_module_version": "^1.5.1",
      "model_name": "CardTextModel",
      "state": {
       "_events": [],
       "_jupyter_vue": "IPY_MODEL_bc2712ed128d4d47ba50f0f591fcb068",
       "attributes": {},
       "children": [
        "lol"
       ],
       "layout": "IPY_MODEL_5df36ca93eb64f49bf0e647a7c6b3e5c",
       "v_slots": []
      }
     },
     "f4faacad7aef4ab3b9aa413928cccd54": {
      "model_module": "@jupyter-widgets/base",
      "model_module_version": "1.2.0",
      "model_name": "LayoutModel",
      "state": {}
     },
     "f517b0383f164599990d32bb3c7186f6": {
      "model_module": "@jupyter-widgets/base",
      "model_module_version": "1.2.0",
      "model_name": "LayoutModel",
      "state": {}
     },
     "f535e0002cfe4868890fe326c7451add": {
      "model_module": "jupyter-vuetify",
      "model_module_version": "^1.5.1",
      "model_name": "HtmlModel",
      "state": {
       "_events": [],
       "_jupyter_vue": "IPY_MODEL_bc2712ed128d4d47ba50f0f591fcb068",
       "_model_module_version": "^1.5.1",
       "_view_module_version": "^1.5.1",
       "attributes": {},
       "children": [
        "All Covid-19 case data have been received from the Internet Archive. The original data have been prepared in PDF documents with the title \"Daily Coronavirus Disease 2019 (COVID-19) Summary of Cases by Zip Code of Residence\" by the County of San Diego, Health and Human Services Agency, Public Health Services, Epidemiology and Immunization Services Branch."
       ],
       "layout": "IPY_MODEL_9949295dc8714b38b86dd3e9f1a5cd1c",
       "tag": "p",
       "v_slots": []
      }
     },
     "f56a12f21fee4ed0a37639c32d21f85d": {
      "model_module": "jupyter-vuetify",
      "model_module_version": "^1.5.1",
      "model_name": "CardTextModel",
      "state": {
       "_events": [],
       "_jupyter_vue": "IPY_MODEL_bc2712ed128d4d47ba50f0f591fcb068",
       "attributes": {},
       "children": [
        "This section informs about the sources of the data that are used in this dashboard."
       ],
       "layout": "IPY_MODEL_bd3c84a04d3b498b89bf7e4a8bc3b0df",
       "v_slots": []
      }
     },
     "f6416102a95b4ded91d7cb44df310cf2": {
      "model_module": "@jupyter-widgets/base",
      "model_module_version": "1.2.0",
      "model_name": "LayoutModel",
      "state": {}
     },
     "f678fab45f7b48a59bcc3ff9a9cfc999": {
      "model_module": "jupyter-vuetify",
      "model_module_version": "^1.5.1",
      "model_name": "HtmlModel",
      "state": {
       "_events": [],
       "_jupyter_vue": "IPY_MODEL_bc2712ed128d4d47ba50f0f591fcb068",
       "_model_module_version": "^1.5.1",
       "_view_module_version": "^1.5.1",
       "attributes": {
        "href": "https://sdgis-sandag.opendata.arcgis.com/datasets/zip-code",
        "target": "_blank"
       },
       "children": [
        "Data Source"
       ],
       "layout": "IPY_MODEL_75f3e747ce324db49bbcd4036b6dd887",
       "tag": "a",
       "v_slots": []
      }
     },
     "f69a3f2dd0dd44ff91f47686ef3bd5db": {
      "model_module": "jupyter-vuetify",
      "model_module_version": "^1.5.1",
      "model_name": "CardTitleModel",
      "state": {
       "_events": [],
       "_jupyter_vue": "IPY_MODEL_bc2712ed128d4d47ba50f0f591fcb068",
       "attributes": {},
       "children": [
        "ZIP Codes"
       ],
       "layout": "IPY_MODEL_83ed13d152d64637b3d4fb13032f6330",
       "v_slots": []
      }
     },
     "f69bd8956d9d490b87302c8f626d6b95": {
      "model_module": "@jupyter-widgets/base",
      "model_module_version": "1.2.0",
      "model_name": "LayoutModel",
      "state": {}
     },
     "f6be5a1987dc4699aab1deff940a3673": {
      "model_module": "jupyter-vuetify",
      "model_module_version": "^1.5.1",
      "model_name": "CardActionsModel",
      "state": {
       "_events": [],
       "_jupyter_vue": "IPY_MODEL_bc2712ed128d4d47ba50f0f591fcb068",
       "attributes": {},
       "children": [
        "IPY_MODEL_e1453082694f4487bd92d03296c32722",
        "IPY_MODEL_a6f7e6d7a3a242b9b528de220e120bd3",
        "IPY_MODEL_693c18528cce4ce89cac59f930da1e17"
       ],
       "layout": "IPY_MODEL_e541593a492940d2b3bb7dddc1c22624",
       "v_slots": []
      }
     },
     "f6e71426709d42c0b2928b66ff482b71": {
      "model_module": "jupyter-vuetify",
      "model_module_version": "^1.5.1",
      "model_name": "ColModel",
      "state": {
       "_events": [],
       "_jupyter_vue": "IPY_MODEL_bc2712ed128d4d47ba50f0f591fcb068",
       "attributes": {},
       "children": [
        "IPY_MODEL_17a4397421974f198ee698b56ea72670"
       ],
       "cols": 6,
       "layout": "IPY_MODEL_dd30c8384a744e48a4081fd35838bbd9",
       "lg": null,
       "md": null,
       "offset": null,
       "offset_lg": null,
       "offset_md": null,
       "offset_sm": null,
       "offset_xl": null,
       "order": null,
       "order_lg": null,
       "order_md": null,
       "order_sm": null,
       "order_xl": null,
       "sm": null,
       "v_slots": [],
       "xl": null
      }
     },
     "f72670c892b446a38f4db6e1e61e1d73": {
      "model_module": "@jupyter-widgets/base",
      "model_module_version": "1.2.0",
      "model_name": "LayoutModel",
      "state": {}
     },
     "f73a77c57aad4068a6b5263fd8080ad9": {
      "model_module": "jupyter-vuetify",
      "model_module_version": "^1.5.1",
      "model_name": "ColModel",
      "state": {
       "_events": [],
       "_jupyter_vue": "IPY_MODEL_bc2712ed128d4d47ba50f0f591fcb068",
       "attributes": {},
       "children": [
        "IPY_MODEL_eb648af42a3f4abf981ced6e69b7a5da"
       ],
       "cols": 6,
       "layout": "IPY_MODEL_1148ec7607454298a095d707bae97f42",
       "lg": null,
       "md": null,
       "offset": null,
       "offset_lg": null,
       "offset_md": null,
       "offset_sm": null,
       "offset_xl": null,
       "order": null,
       "order_lg": null,
       "order_md": null,
       "order_sm": null,
       "order_xl": null,
       "sm": null,
       "v_slots": [],
       "xl": null
      }
     },
     "f76edfd4066e44b6a21069a386ecfa1f": {
      "model_module": "@jupyter-widgets/base",
      "model_module_version": "1.2.0",
      "model_name": "LayoutModel",
      "state": {}
     },
     "f7d14f1b09a0415893d8d42d1faa9b10": {
      "model_module": "@jupyter-widgets/base",
      "model_module_version": "1.2.0",
      "model_name": "LayoutModel",
      "state": {}
     },
     "f7e5e7fa717341c78336b38dde585a58": {
      "model_module": "@jupyter-widgets/base",
      "model_module_version": "1.2.0",
      "model_name": "LayoutModel",
      "state": {}
     },
     "f81181a0d3db48439832e688e547de0f": {
      "model_module": "jupyter-vuetify",
      "model_module_version": "^1.5.1",
      "model_name": "CardActionsModel",
      "state": {
       "_events": [],
       "_jupyter_vue": "IPY_MODEL_bc2712ed128d4d47ba50f0f591fcb068",
       "attributes": {},
       "children": [
        "IPY_MODEL_534cd4aeced64145b0b1559ab41774cb"
       ],
       "layout": "IPY_MODEL_2b2315036f384645bf65072af485ea14",
       "v_slots": []
      }
     },
     "f8833a7aa4c2478bafbfbd6d797abe56": {
      "model_module": "@jupyter-widgets/base",
      "model_module_version": "1.2.0",
      "model_name": "LayoutModel",
      "state": {}
     },
     "f89f881b58ba4a72aff71c9f3f30e4d3": {
      "model_module": "jupyter-vuetify",
      "model_module_version": "^1.5.1",
      "model_name": "CardTitleModel",
      "state": {
       "_events": [],
       "_jupyter_vue": "IPY_MODEL_bc2712ed128d4d47ba50f0f591fcb068",
       "attributes": {},
       "children": [
        "ZIP Code Boundaries"
       ],
       "layout": "IPY_MODEL_b4d56f02555d4dfcb44300b6b7ed8f8e",
       "v_slots": []
      }
     },
     "f8e5e45e19ad4248afea0b7b0d82715f": {
      "model_module": "@jupyter-widgets/base",
      "model_module_version": "1.2.0",
      "model_name": "LayoutModel",
      "state": {}
     },
     "f8e787101e414cdb842b452ef204ce90": {
      "model_module": "@jupyter-widgets/base",
      "model_module_version": "1.2.0",
      "model_name": "LayoutModel",
      "state": {}
     },
     "f931c3b5d12c405885ddd17d2c1359d7": {
      "model_module": "@jupyter-widgets/base",
      "model_module_version": "1.2.0",
      "model_name": "LayoutModel",
      "state": {}
     },
     "f944beb92c624abfabffa6e138d75221": {
      "model_module": "jupyter-vuetify",
      "model_module_version": "^1.5.1",
      "model_name": "CardModel",
      "state": {
       "_events": [],
       "_jupyter_vue": "IPY_MODEL_bc2712ed128d4d47ba50f0f591fcb068",
       "attributes": {},
       "children": [
        "IPY_MODEL_ec3e51d58bab429886293c63727b8905",
        "IPY_MODEL_f56a12f21fee4ed0a37639c32d21f85d",
        "IPY_MODEL_b857a10c0da34d109971b917fede4e7e"
       ],
       "elevation": null,
       "height": null,
       "href": null,
       "layout": "IPY_MODEL_8e8cd00af603409e935e2727d8b72c43",
       "loader_height": null,
       "loading": null,
       "max_height": null,
       "max_width": null,
       "min_height": null,
       "min_width": null,
       "ripple": null,
       "to": null,
       "v_slots": [],
       "width": null
      }
     },
     "f947ab591af4414cb661ae97c19e7f53": {
      "model_module": "@jupyter-widgets/base",
      "model_module_version": "1.2.0",
      "model_name": "LayoutModel",
      "state": {}
     },
     "f956ef47cd9a483d8c67efd43b3fb36f": {
      "model_module": "jupyter-vuetify",
      "model_module_version": "^1.5.1",
      "model_name": "HtmlModel",
      "state": {
       "_events": [],
       "_jupyter_vue": "IPY_MODEL_bc2712ed128d4d47ba50f0f591fcb068",
       "_model_module_version": "^1.5.1",
       "_view_module_version": "^1.5.1",
       "attributes": {},
       "children": [
        "lol"
       ],
       "class_": "ml-4",
       "layout": "IPY_MODEL_a6cb0609693b4ed0a96aecf093c4d216",
       "tag": "div",
       "v_slots": []
      }
     },
     "f98439dd389741559d6d4e0d16f9fffc": {
      "model_module": "@jupyter-widgets/base",
      "model_module_version": "1.2.0",
      "model_name": "LayoutModel",
      "state": {}
     },
     "f98e57394a4c40b8b94da3f0421dad88": {
      "model_module": "jupyter-vuetify",
      "model_module_version": "^1.5.1",
      "model_name": "CardTextModel",
      "state": {
       "_events": [],
       "_jupyter_vue": "IPY_MODEL_bc2712ed128d4d47ba50f0f591fcb068",
       "attributes": {},
       "children": [
        "IPY_MODEL_f956ef47cd9a483d8c67efd43b3fb36f"
       ],
       "layout": "IPY_MODEL_d740025f96444a5e861c901de2bd3e00",
       "v_slots": []
      }
     },
     "f9aa6f8b091f404082aa70f550da65f6": {
      "model_module": "jupyter-vuetify",
      "model_module_version": "^1.5.1",
      "model_name": "BtnModel",
      "state": {
       "_events": [],
       "_jupyter_vue": "IPY_MODEL_bc2712ed128d4d47ba50f0f591fcb068",
       "attributes": {},
       "children": [
        "IPY_MODEL_da4635b09256411292314c3fc079a4d7"
       ],
       "color": "blue",
       "elevation": null,
       "height": null,
       "href": null,
       "layout": "IPY_MODEL_86e6e9b830604abf9f3cbf4865e2cda6",
       "max_height": null,
       "max_width": null,
       "min_height": null,
       "min_width": null,
       "ripple": null,
       "text": true,
       "to": null,
       "v_slots": [],
       "width": null
      }
     },
     "f9ccb16db3db4010b9cc183b5293e613": {
      "model_module": "jupyter-vuetify",
      "model_module_version": "^1.5.1",
      "model_name": "CardTitleModel",
      "state": {
       "_events": [],
       "_jupyter_vue": "IPY_MODEL_bc2712ed128d4d47ba50f0f591fcb068",
       "attributes": {},
       "children": [
        "Demographic Data"
       ],
       "layout": "IPY_MODEL_0334310bf2fd456e94617347e6e53d95",
       "v_slots": []
      }
     },
     "f9d0de6be8f24d1ea70985568ae9080c": {
      "model_module": "jupyter-vuetify",
      "model_module_version": "^1.5.1",
      "model_name": "CardModel",
      "state": {
       "_events": [],
       "_jupyter_vue": "IPY_MODEL_bc2712ed128d4d47ba50f0f591fcb068",
       "attributes": {},
       "children": [
        "IPY_MODEL_f69a3f2dd0dd44ff91f47686ef3bd5db",
        "IPY_MODEL_697db6e4ba744811af474236757ede32"
       ],
       "elevation": null,
       "height": null,
       "href": null,
       "layout": "IPY_MODEL_b7a3f9f4fa62460da63a0b5d1cf9c78c",
       "loader_height": null,
       "loading": null,
       "max_height": null,
       "max_width": null,
       "min_height": null,
       "min_width": null,
       "ripple": null,
       "to": null,
       "v_slots": [],
       "width": null
      }
     },
     "f9e12a36c4d744e09525e8add4a1a696": {
      "model_module": "@jupyter-widgets/base",
      "model_module_version": "1.2.0",
      "model_name": "LayoutModel",
      "state": {}
     },
     "f9f21b731b2446498613106ecd0db061": {
      "model_module": "jupyter-vuetify",
      "model_module_version": "^1.5.1",
      "model_name": "CardTextModel",
      "state": {
       "_events": [],
       "_jupyter_vue": "IPY_MODEL_bc2712ed128d4d47ba50f0f591fcb068",
       "attributes": {},
       "children": [
        "The ZIP code boundaries shown in all maps are taken from the SANDAG/SanGIS Open Data Portal."
       ],
       "layout": "IPY_MODEL_a5e762cd77ff41bd806dbdca141e7a9c",
       "v_slots": []
      }
     },
     "f9f4f835242049c4b0b5f2bc1f54d348": {
      "model_module": "@jupyter-widgets/base",
      "model_module_version": "1.2.0",
      "model_name": "LayoutModel",
      "state": {}
     },
     "f9f7a5ff389c4e049ab4dfe253423122": {
      "model_module": "@jupyter-widgets/base",
      "model_module_version": "1.2.0",
      "model_name": "LayoutModel",
      "state": {}
     },
     "fa3815c981704f6491993fe3033e38c5": {
      "model_module": "@jupyter-widgets/base",
      "model_module_version": "1.2.0",
      "model_name": "LayoutModel",
      "state": {}
     },
     "fa77216d21624a879f9ab061313bec4c": {
      "model_module": "jupyter-vuetify",
      "model_module_version": "^1.5.1",
      "model_name": "CardTitleModel",
      "state": {
       "_events": [],
       "_jupyter_vue": "IPY_MODEL_bc2712ed128d4d47ba50f0f591fcb068",
       "attributes": {},
       "children": [
        "ZIP Codes"
       ],
       "layout": "IPY_MODEL_c06c3446796149b394afcd862d1b0079",
       "v_slots": []
      }
     },
     "fa806ea9bb914e2d9787a196d6a0dddb": {
      "model_module": "@jupyter-widgets/base",
      "model_module_version": "1.2.0",
      "model_name": "LayoutModel",
      "state": {}
     },
     "fac2afdaf24f42958f0e938e191975e8": {
      "model_module": "@jupyter-widgets/base",
      "model_module_version": "1.2.0",
      "model_name": "LayoutModel",
      "state": {}
     },
     "fb2257a50ae649dabf8553a8ca58b4b5": {
      "model_module": "jupyter-vuetify",
      "model_module_version": "^1.5.1",
      "model_name": "HtmlModel",
      "state": {
       "_events": [],
       "_jupyter_vue": "IPY_MODEL_bc2712ed128d4d47ba50f0f591fcb068",
       "_model_module_version": "^1.5.1",
       "_view_module_version": "^1.5.1",
       "attributes": {
        "href": "https://sandag.org/resources/maps_and_gis/gis_downloads/disclaimer.asp",
        "target": "_blank"
       },
       "children": [
        "Disclaimer"
       ],
       "layout": "IPY_MODEL_8372284b3bc1491ca4114f850a46a488",
       "tag": "a",
       "v_slots": []
      }
     },
     "fb5792c8f9714075ac65bf655dad9cf0": {
      "model_module": "jupyter-vuetify",
      "model_module_version": "^1.5.1",
      "model_name": "CardTitleModel",
      "state": {
       "_events": [],
       "_jupyter_vue": "IPY_MODEL_bc2712ed128d4d47ba50f0f591fcb068",
       "attributes": {},
       "children": [
        "ZIP Codes"
       ],
       "layout": "IPY_MODEL_22399a3152ca474fbe523748acfc1943",
       "v_slots": []
      }
     },
     "fb797228be7a4adfbc5d77f73a7e5c86": {
      "model_module": "jupyter-vuetify",
      "model_module_version": "^1.5.1",
      "model_name": "CardModel",
      "state": {
       "_events": [],
       "_jupyter_vue": "IPY_MODEL_bc2712ed128d4d47ba50f0f591fcb068",
       "attributes": {},
       "children": [
        "IPY_MODEL_8c25302198c44387a73a1bc75299d2ed",
        "IPY_MODEL_a0f79ec72ace49d18faddd4336599632",
        "IPY_MODEL_1b3656bc424a4edfa401219eebbd7950"
       ],
       "elevation": null,
       "height": null,
       "href": null,
       "layout": "IPY_MODEL_1a54cd16ded84b3ea60bc14187ce7bbe",
       "loader_height": null,
       "loading": null,
       "max_height": null,
       "max_width": null,
       "min_height": null,
       "min_width": null,
       "ripple": null,
       "to": null,
       "v_slots": [],
       "width": null
      }
     },
     "fb8d5a0bd3134f9da5b60aea203cc1cf": {
      "model_module": "jupyter-vuetify",
      "model_module_version": "^1.5.1",
      "model_name": "BtnModel",
      "state": {
       "_events": [],
       "_jupyter_vue": "IPY_MODEL_bc2712ed128d4d47ba50f0f591fcb068",
       "attributes": {},
       "children": [
        "IPY_MODEL_13d45487486d4980ada9d08dae548656"
       ],
       "color": "blue",
       "elevation": null,
       "height": null,
       "href": null,
       "layout": "IPY_MODEL_b0a2f02832854cfcb0561a8599ae7b6a",
       "max_height": null,
       "max_width": null,
       "min_height": null,
       "min_width": null,
       "ripple": null,
       "text": true,
       "to": null,
       "v_slots": [],
       "width": null
      }
     },
     "fbc0c43a90bd4cd48798756177a015ec": {
      "model_module": "jupyter-vuetify",
      "model_module_version": "^1.5.1",
      "model_name": "ColModel",
      "state": {
       "_events": [],
       "_jupyter_vue": "IPY_MODEL_bc2712ed128d4d47ba50f0f591fcb068",
       "attributes": {},
       "children": [
        "IPY_MODEL_9f268b6b97f64f868568b1bfea901e6d"
       ],
       "cols": 6,
       "layout": "IPY_MODEL_aa54ecb97bdd4b44bc46dbada8b3b81a",
       "lg": null,
       "md": null,
       "offset": null,
       "offset_lg": null,
       "offset_md": null,
       "offset_sm": null,
       "offset_xl": null,
       "order": null,
       "order_lg": null,
       "order_md": null,
       "order_sm": null,
       "order_xl": null,
       "sm": null,
       "v_slots": [],
       "xl": null
      }
     },
     "fc0aed04cbfd44e3830d816fc4f946e9": {
      "model_module": "jupyter-vuetify",
      "model_module_version": "^1.5.1",
      "model_name": "BtnModel",
      "state": {
       "_events": [],
       "_jupyter_vue": "IPY_MODEL_bc2712ed128d4d47ba50f0f591fcb068",
       "attributes": {},
       "children": [
        "IPY_MODEL_88bb495d5c144685b2528ac001b08e1d"
       ],
       "color": "blue",
       "elevation": null,
       "height": null,
       "href": null,
       "layout": "IPY_MODEL_e53b391da04a4439be2ba4d35316a8c6",
       "max_height": null,
       "max_width": null,
       "min_height": null,
       "min_width": null,
       "ripple": null,
       "text": true,
       "to": null,
       "v_slots": [],
       "width": null
      }
     },
     "fc0ecf17e9c74897af0cadf8be357c1f": {
      "model_module": "jupyter-vuetify",
      "model_module_version": "^1.5.1",
      "model_name": "CardTitleModel",
      "state": {
       "_events": [],
       "_jupyter_vue": "IPY_MODEL_bc2712ed128d4d47ba50f0f591fcb068",
       "attributes": {},
       "children": [
        "ZIP Codes"
       ],
       "layout": "IPY_MODEL_46c6377ae14b402480ef5f80d593ce89",
       "v_slots": []
      }
     },
     "fc142e96ae904cc7864d4eccf45c45c0": {
      "model_module": "@jupyter-widgets/base",
      "model_module_version": "1.2.0",
      "model_name": "LayoutModel",
      "state": {}
     },
     "fc41a480846141b3aa63a96fa58be487": {
      "model_module": "@jupyter-widgets/base",
      "model_module_version": "1.2.0",
      "model_name": "LayoutModel",
      "state": {}
     },
     "fc5398e2d2014eb8b8bae96725423b22": {
      "model_module": "@jupyter-widgets/base",
      "model_module_version": "1.2.0",
      "model_name": "LayoutModel",
      "state": {}
     },
     "fc57a846918b4bc681974b1a498f0663": {
      "model_module": "jupyter-vuetify",
      "model_module_version": "^1.5.1",
      "model_name": "CardActionsModel",
      "state": {
       "_events": [],
       "_jupyter_vue": "IPY_MODEL_bc2712ed128d4d47ba50f0f591fcb068",
       "attributes": {},
       "children": [
        "IPY_MODEL_c4802eeaa977428897a9f2142a07f8c6",
        "IPY_MODEL_892d39f697044e899fac4b458b460bf3"
       ],
       "layout": "IPY_MODEL_96dee8f9d679464798bdafbc17b5843c",
       "v_slots": []
      }
     },
     "fc679b4d16e0425c9c127fb6ce90c878": {
      "model_module": "jupyter-vuetify",
      "model_module_version": "^1.5.1",
      "model_name": "BtnModel",
      "state": {
       "_events": [],
       "_jupyter_vue": "IPY_MODEL_bc2712ed128d4d47ba50f0f591fcb068",
       "attributes": {},
       "children": [
        "IPY_MODEL_102f796d3ec04338b05ee0794ee4e86f"
       ],
       "color": "blue",
       "elevation": null,
       "height": null,
       "href": null,
       "layout": "IPY_MODEL_07ab88477ec94da6be2f9159f4549721",
       "max_height": null,
       "max_width": null,
       "min_height": null,
       "min_width": null,
       "ripple": null,
       "text": true,
       "to": null,
       "v_slots": [],
       "width": null
      }
     },
     "fc7a1531c0aa49eca41c326f364ce22a": {
      "model_module": "jupyter-vuetify",
      "model_module_version": "^1.5.1",
      "model_name": "HtmlModel",
      "state": {
       "_events": [],
       "_jupyter_vue": "IPY_MODEL_bc2712ed128d4d47ba50f0f591fcb068",
       "_model_module_version": "^1.5.1",
       "_view_module_version": "^1.5.1",
       "attributes": {},
       "children": [
        "lol"
       ],
       "class_": "text--h3",
       "layout": "IPY_MODEL_500559b82f554e148a398ba5b03de15b",
       "tag": "div",
       "v_slots": []
      }
     },
     "fcbf0b6190ac4e12babf3f17cf7a04ba": {
      "model_module": "jupyter-vuetify",
      "model_module_version": "^1.5.1",
      "model_name": "CardModel",
      "state": {
       "_events": [],
       "_jupyter_vue": "IPY_MODEL_bc2712ed128d4d47ba50f0f591fcb068",
       "attributes": {},
       "children": [
        "IPY_MODEL_62fd9c91f8c5456fa82752e23e26250e",
        "IPY_MODEL_ea2ea32d6cfa4b53b506415895e666c8",
        "IPY_MODEL_f0e814346df3479c8a808d55a1f436e5"
       ],
       "elevation": null,
       "height": null,
       "href": null,
       "layout": "IPY_MODEL_89a70d86355a441fa6830538c945fb40",
       "loader_height": null,
       "loading": null,
       "max_height": null,
       "max_width": null,
       "min_height": null,
       "min_width": null,
       "ripple": null,
       "to": null,
       "v_slots": [],
       "width": null
      }
     },
     "fccf9606747a4fd8b08c0eb87d3ab974": {
      "model_module": "jupyter-vuetify",
      "model_module_version": "^1.5.1",
      "model_name": "HtmlModel",
      "state": {
       "_events": [],
       "_jupyter_vue": "IPY_MODEL_bc2712ed128d4d47ba50f0f591fcb068",
       "_model_module_version": "^1.5.1",
       "_view_module_version": "^1.5.1",
       "attributes": {
        "href": "https://www.sandiegocounty.gov/content/sdc/hhsa/programs/phs/community_epidemiology/dc/2019-nCoV/status.html",
        "target": "_blank"
       },
       "children": [
        "County of San Diego"
       ],
       "layout": "IPY_MODEL_9139ceb3fba1455bbcd27e6e5a372486",
       "tag": "a",
       "v_slots": []
      }
     },
     "fcf2896bdc6e41d4a1e3ea6517697d48": {
      "model_module": "jupyter-vuetify",
      "model_module_version": "^1.5.1",
      "model_name": "CardTextModel",
      "state": {
       "_events": [],
       "_jupyter_vue": "IPY_MODEL_bc2712ed128d4d47ba50f0f591fcb068",
       "attributes": {},
       "children": [
        "IPY_MODEL_866cf94ace9c45df8c40c4d0a8fb4f00"
       ],
       "layout": "IPY_MODEL_92a4816222004655bd49cba11251dfec",
       "v_slots": []
      }
     },
     "fd015ac422dd40898e03cd323f6bceb8": {
      "model_module": "jupyter-vuetify",
      "model_module_version": "^1.5.1",
      "model_name": "CardModel",
      "state": {
       "_events": [],
       "_jupyter_vue": "IPY_MODEL_bc2712ed128d4d47ba50f0f591fcb068",
       "attributes": {},
       "children": [
        "IPY_MODEL_c76e8dcdff3e4e07b307e2b7aebd9288",
        "IPY_MODEL_53c3f032fc774ba28144047c09ee8505",
        "IPY_MODEL_06607c4c70914247be4779c63856c4fa"
       ],
       "elevation": null,
       "height": null,
       "href": null,
       "layout": "IPY_MODEL_2dc06a548be5419081cace4c7a164e96",
       "loader_height": null,
       "loading": null,
       "max_height": null,
       "max_width": null,
       "min_height": null,
       "min_width": null,
       "ripple": null,
       "to": null,
       "v_slots": [],
       "width": null
      }
     },
     "fd0c3006bebd40e98d29575682e9c643": {
      "model_module": "jupyter-vuetify",
      "model_module_version": "^1.5.1",
      "model_name": "CardTextModel",
      "state": {
       "_events": [],
       "_jupyter_vue": "IPY_MODEL_bc2712ed128d4d47ba50f0f591fcb068",
       "attributes": {},
       "children": [
        "The ZIP code boundaries shown in all maps are taken from the SANDAG/SanGIS Open Data Portal."
       ],
       "layout": "IPY_MODEL_445d653d34764a0494e4b3338bc62648",
       "v_slots": []
      }
     },
     "fd1d4bce5b474c789916a00c6439191a": {
      "model_module": "@jupyter-widgets/base",
      "model_module_version": "1.2.0",
      "model_name": "LayoutModel",
      "state": {}
     },
     "fd4b73f9ca0941268d2b662ada91f19d": {
      "model_module": "jupyter-vuetify",
      "model_module_version": "^1.5.1",
      "model_name": "HtmlModel",
      "state": {
       "_events": [],
       "_jupyter_vue": "IPY_MODEL_bc2712ed128d4d47ba50f0f591fcb068",
       "_model_module_version": "^1.5.1",
       "_view_module_version": "^1.5.1",
       "attributes": {},
       "children": [
        "SANDAG, Current Estimates (data extracted on: 9/2020)"
       ],
       "layout": "IPY_MODEL_6e297c2947334967b919748b03541920",
       "tag": "i",
       "v_slots": []
      }
     },
     "fd4c0ebd9c8a430fa8cd0a640e0e4949": {
      "model_module": "jupyter-vuetify",
      "model_module_version": "^1.5.1",
      "model_name": "CardTitleModel",
      "state": {
       "_events": [],
       "_jupyter_vue": "IPY_MODEL_bc2712ed128d4d47ba50f0f591fcb068",
       "attributes": {},
       "children": [
        "ZIP Codes"
       ],
       "layout": "IPY_MODEL_18e95f1b795d4813a54bcecf7676a5b3",
       "v_slots": []
      }
     },
     "fd61218b15c74c3aab75ac7bed07ab20": {
      "model_module": "@jupyter-widgets/base",
      "model_module_version": "1.2.0",
      "model_name": "LayoutModel",
      "state": {}
     },
     "fd8aef2765d8452da6efdd4c5ef18731": {
      "model_module": "@jupyter-widgets/base",
      "model_module_version": "1.2.0",
      "model_name": "LayoutModel",
      "state": {}
     },
     "fd8d237c25a24af980286c1efa75d760": {
      "model_module": "@jupyter-widgets/base",
      "model_module_version": "1.2.0",
      "model_name": "LayoutModel",
      "state": {}
     },
     "fd9591c5b3f24a5c9d496b36a818eb3a": {
      "model_module": "@jupyter-widgets/base",
      "model_module_version": "1.2.0",
      "model_name": "LayoutModel",
      "state": {}
     },
     "fdafa39ee0904015a8f0e8981d8e9509": {
      "model_module": "@jupyter-widgets/base",
      "model_module_version": "1.2.0",
      "model_name": "LayoutModel",
      "state": {}
     },
     "fdc9b0d41e8d44bbb88fa23b88e93016": {
      "model_module": "jupyter-vuetify",
      "model_module_version": "^1.5.1",
      "model_name": "CardTitleModel",
      "state": {
       "_events": [],
       "_jupyter_vue": "IPY_MODEL_bc2712ed128d4d47ba50f0f591fcb068",
       "attributes": {},
       "children": [
        "About the Data"
       ],
       "layout": "IPY_MODEL_8df6629365a3445da58e5787e402a93d",
       "v_slots": []
      }
     },
     "fdedbc3b901c44e489d13fe32ac5ca29": {
      "model_module": "jupyter-vuetify",
      "model_module_version": "^1.5.1",
      "model_name": "BtnModel",
      "state": {
       "_events": [],
       "_jupyter_vue": "IPY_MODEL_bc2712ed128d4d47ba50f0f591fcb068",
       "attributes": {},
       "children": [
        "IPY_MODEL_c3e8fa45659447418e63ffcda897f6f7"
       ],
       "color": "blue",
       "elevation": null,
       "height": null,
       "href": null,
       "layout": "IPY_MODEL_1fd0bc7a10b94a9888994e92e27fdd7d",
       "max_height": null,
       "max_width": null,
       "min_height": null,
       "min_width": null,
       "ripple": null,
       "text": true,
       "to": null,
       "v_slots": [],
       "width": null
      }
     },
     "fe26c96116fe431fab9c3f3d422c3c73": {
      "model_module": "@jupyter-widgets/base",
      "model_module_version": "1.2.0",
      "model_name": "LayoutModel",
      "state": {}
     },
     "fe2fcb79d8604629bd3ccfe80fc9bb47": {
      "model_module": "jupyter-vuetify",
      "model_module_version": "^1.5.1",
      "model_name": "CardModel",
      "state": {
       "_events": [],
       "_jupyter_vue": "IPY_MODEL_bc2712ed128d4d47ba50f0f591fcb068",
       "attributes": {},
       "children": [
        "IPY_MODEL_468659cbff194436bc50dec18f2cc15f",
        "IPY_MODEL_f9f21b731b2446498613106ecd0db061",
        "IPY_MODEL_d6824982ee974598b3717f6a9ed66414"
       ],
       "elevation": null,
       "height": null,
       "href": null,
       "layout": "IPY_MODEL_79c268d571da43a48ea307bacae38f40",
       "loader_height": null,
       "loading": null,
       "max_height": null,
       "max_width": null,
       "min_height": null,
       "min_width": null,
       "ripple": null,
       "to": null,
       "v_slots": [],
       "width": null
      }
     },
     "fe69da5418184512888aac001bbf208a": {
      "model_module": "jupyter-vuetify",
      "model_module_version": "^1.5.1",
      "model_name": "CardTitleModel",
      "state": {
       "_events": [],
       "_jupyter_vue": "IPY_MODEL_bc2712ed128d4d47ba50f0f591fcb068",
       "attributes": {},
       "children": [
        "ZIP Code Boundaries"
       ],
       "layout": "IPY_MODEL_7b68997a9e2e421391971adcdc3d7183",
       "v_slots": []
      }
     },
     "fe749a4009a7437fabfa42ba9be1685c": {
      "model_module": "@jupyter-widgets/base",
      "model_module_version": "1.2.0",
      "model_name": "LayoutModel",
      "state": {}
     },
     "febec6fb41384ebc847197b3303c926b": {
      "model_module": "jupyter-vuetify",
      "model_module_version": "^1.5.1",
      "model_name": "CardActionsModel",
      "state": {
       "_events": [],
       "_jupyter_vue": "IPY_MODEL_bc2712ed128d4d47ba50f0f591fcb068",
       "attributes": {},
       "children": [
        "IPY_MODEL_fc679b4d16e0425c9c127fb6ce90c878",
        "IPY_MODEL_ed8a8cf427c94ea5b5c2748168f60a48"
       ],
       "layout": "IPY_MODEL_f69bd8956d9d490b87302c8f626d6b95",
       "v_slots": []
      }
     },
     "fecb6ec8dcc5489b93a68ed837ef79ea": {
      "model_module": "@jupyter-widgets/base",
      "model_module_version": "1.2.0",
      "model_name": "LayoutModel",
      "state": {}
     },
     "fef24a729d5048a2ace13055dd944bf6": {
      "model_module": "jupyter-vuetify",
      "model_module_version": "^1.5.1",
      "model_name": "HtmlModel",
      "state": {
       "_events": [],
       "_jupyter_vue": "IPY_MODEL_bc2712ed128d4d47ba50f0f591fcb068",
       "_model_module_version": "^1.5.1",
       "_view_module_version": "^1.5.1",
       "attributes": {
        "href": "https://sandag.org/resources/maps_and_gis/gis_downloads/disclaimer.asp",
        "target": "_blank"
       },
       "children": [
        "Disclaimer"
       ],
       "layout": "IPY_MODEL_ec54a754434c46b5a35d632dc16922cc",
       "tag": "a",
       "v_slots": []
      }
     },
     "fef2604d806b40938937481f2618d0b1": {
      "model_module": "@jupyter-widgets/base",
      "model_module_version": "1.2.0",
      "model_name": "LayoutModel",
      "state": {}
     },
     "fef9464404134537a75209df0a028b15": {
      "model_module": "@jupyter-widgets/base",
      "model_module_version": "1.2.0",
      "model_name": "LayoutModel",
      "state": {}
     },
     "ff1318129b614e45b6b41e70a10a81b0": {
      "model_module": "@jupyter-widgets/base",
      "model_module_version": "1.2.0",
      "model_name": "LayoutModel",
      "state": {}
     },
     "ff323e5a668143ff8820e483fe9ca233": {
      "model_module": "@jupyter-widgets/base",
      "model_module_version": "1.2.0",
      "model_name": "LayoutModel",
      "state": {}
     },
     "ff5c3a1441334dc98ba814749c8e37f5": {
      "model_module": "jupyter-vuetify",
      "model_module_version": "^1.5.1",
      "model_name": "HtmlModel",
      "state": {
       "_events": [],
       "_jupyter_vue": "IPY_MODEL_bc2712ed128d4d47ba50f0f591fcb068",
       "_model_module_version": "^1.5.1",
       "_view_module_version": "^1.5.1",
       "attributes": {},
       "children": [
        "Population counts and other demographic data have been received from the SANDAG Data Surfer."
       ],
       "layout": "IPY_MODEL_4ee2c9d37c3c4563a6c7b442ec12a3af",
       "tag": "p",
       "v_slots": []
      }
     },
     "ff672dac079142329d36a1a8e6ad466d": {
      "model_module": "jupyter-vuetify",
      "model_module_version": "^1.5.1",
      "model_name": "CardTitleModel",
      "state": {
       "_events": [],
       "_jupyter_vue": "IPY_MODEL_bc2712ed128d4d47ba50f0f591fcb068",
       "attributes": {},
       "children": [
        "ZIP Codes"
       ],
       "layout": "IPY_MODEL_1bf6b2c68b7343c49dc80c628c5ec6c4",
       "v_slots": []
      }
     },
     "ff69ad477e0c4e2c8363a6c26592cf61": {
      "model_module": "@jupyter-widgets/base",
      "model_module_version": "1.2.0",
      "model_name": "LayoutModel",
      "state": {}
     },
     "ff8a14526c874039b474f171382b0590": {
      "model_module": "@jupyter-widgets/base",
      "model_module_version": "1.2.0",
      "model_name": "LayoutModel",
      "state": {}
     },
     "ffc25cadf6314586b5c8d8811a153be5": {
      "model_module": "jupyter-vuetify",
      "model_module_version": "^1.5.1",
      "model_name": "CardModel",
      "state": {
       "_events": [],
       "_jupyter_vue": "IPY_MODEL_bc2712ed128d4d47ba50f0f591fcb068",
       "attributes": {},
       "children": [
        "IPY_MODEL_d963627e755c4ade99d10662278b8e32",
        "IPY_MODEL_35e4c831afbd4364b92f790367fb7c3c",
        "IPY_MODEL_654c7d2b6b2e469b9e3d1400e76d4a09"
       ],
       "elevation": null,
       "height": null,
       "href": null,
       "layout": "IPY_MODEL_e150fe95747e42f98a19b549ee2a25d4",
       "loader_height": null,
       "loading": null,
       "max_height": null,
       "max_width": null,
       "min_height": null,
       "min_width": null,
       "ripple": null,
       "to": null,
       "v_slots": [],
       "width": null
      }
     },
     "ffdf851114f4436f9d85b398144f6140": {
      "model_module": "@jupyter-widgets/base",
      "model_module_version": "1.2.0",
      "model_name": "LayoutModel",
      "state": {}
     },
     "ffffc7340ae2468d9ade8b1bafa9b386": {
      "model_module": "jupyter-vuetify",
      "model_module_version": "^1.5.1",
      "model_name": "HtmlModel",
      "state": {
       "_events": [],
       "_jupyter_vue": "IPY_MODEL_bc2712ed128d4d47ba50f0f591fcb068",
       "_model_module_version": "^1.5.1",
       "_view_module_version": "^1.5.1",
       "attributes": {},
       "children": [
        "SANDAG, Current Estimates (data extracted on: 9/2020)"
       ],
       "layout": "IPY_MODEL_3032e92bb58e4a44832e9d2ced46d505",
       "tag": "i",
       "v_slots": []
      }
     }
    },
    "version_major": 2,
    "version_minor": 0
   }
  }
 },
 "nbformat": 4,
 "nbformat_minor": 4
}