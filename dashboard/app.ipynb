{
 "cells": [
  {
   "cell_type": "code",
   "execution_count": null,
   "metadata": {},
   "outputs": [],
   "source": [
    "import geopandas as gpd\n",
    "import pandas as pd\n",
    "from plotly.colors import sequential\n",
    "from src.db_helpers import get_cases_by_date\n",
    "from src.plotting_helpers import get_color_for_val\n",
    "import urllib.request, json \n",
    "\n",
    "pd.options.plotting.backend = 'plotly'\n",
    "\n",
    "cases = get_cases_by_date('2020-06-30')\n",
    "\n",
    "def get_color(val):\n",
    "    if val in cases:\n",
    "        return get_color_for_val(cases[val], 0, cases.max(), sequential.YlOrRd), 0.8\n",
    "    else:\n",
    "        return 'white', 0.0"
   ]
  },
  {
   "cell_type": "code",
   "execution_count": null,
   "metadata": {},
   "outputs": [],
   "source": [
    "with urllib.request.urlopen('https://opendata.arcgis.com/datasets/41c3a7bd375547069a78fce90153cbc0_5.geojson') as url:\n",
    "    zips = json.loads(url)"
   ]
  },
  {
   "cell_type": "code",
   "execution_count": null,
   "metadata": {},
   "outputs": [],
   "source": [
    "from ipywidgets import Output\n",
    "\n",
    "out = Output()\n",
    "\n",
    "@out.capture()\n",
    "def style_zip(feature):\n",
    "    color, opacity = get_color(int(feature['properties']['ZIP']))\n",
    "    return {\n",
    "        'weight': 0.8,\n",
    "        'color': 'white',\n",
    "        'fillOpacity': opacity,\n",
    "        'fillColor': color,\n",
    "    }\n",
    "    \n",
    "out"
   ]
  },
  {
   "cell_type": "code",
   "execution_count": null,
   "metadata": {},
   "outputs": [],
   "source": [
    "from ipyleaflet import Map, GeoJSON, basemaps, WidgetControl\n",
    "from ipywidgets import Text, HTML\n",
    "\n",
    "m = Map(basemap=basemaps.OpenStreetMap.BlackAndWhite, center=(33.0,-116),zoom=9)\n",
    "\n",
    "zips_layer = GeoJSON(data=zips,\n",
    "                     hover_style={'color': 'black', 'opacity': 0.9},\n",
    "                     style_callback=style_zip)\n",
    "m.add_layer(zips_layer)\n",
    "\n",
    "html = HTML('''Move the cursor over an area''')\n",
    "html.layout.margin = '0px 20px 20px 20px'\n",
    "control = WidgetControl(widget=html, position='topright')\n",
    "m.add_control(control)\n",
    "\n",
    "def update_html(feature,  **kwargs):\n",
    "    zip_code = feature['properties']['ZIP']\n",
    "    cases_in_zip = 0\n",
    "    if zip_code in cases:\n",
    "        cases_in_zip = cases[zip_code]\n",
    "    html.value = '''\n",
    "        <strong>{}</strong><br>{}<br>{:.0f}\n",
    "    '''.format(zip_code,\n",
    "               feature['properties']['COMMUNITY'],\n",
    "               cases_in_zip)\n",
    "\n",
    "zips_layer.on_hover(update_html)\n",
    "\n",
    "m"
   ]
  },
  {
   "cell_type": "code",
   "execution_count": null,
   "metadata": {},
   "outputs": [],
   "source": []
  }
 ],
 "metadata": {
  "kernelspec": {
   "display_name": "Python 3",
   "language": "python",
   "name": "python3"
  },
  "language_info": {
   "codemirror_mode": {
    "name": "ipython",
    "version": 3
   },
   "file_extension": ".py",
   "mimetype": "text/x-python",
   "name": "python",
   "nbconvert_exporter": "python",
   "pygments_lexer": "ipython3",
   "version": "3.8.5"
  },
  "widgets": {
   "application/vnd.jupyter.widget-state+json": {
    "state": {
     "030d6354977346ba94738f11a26adb6e": {
      "model_module": "jupyter-leaflet",
      "model_module_version": "^0.13.2",
      "model_name": "LeafletZoomControlModel",
      "state": {
       "_model_module_version": "^0.13.2",
       "_view_module_version": "^0.13.2",
       "options": [
        "position",
        "zoom_in_text",
        "zoom_in_title",
        "zoom_out_text",
        "zoom_out_title"
       ]
      }
     },
     "1e44087253224eb694b319ee1dd39a65": {
      "model_module": "jupyter-leaflet",
      "model_module_version": "^0.13.2",
      "model_name": "LeafletAttributionControlModel",
      "state": {
       "_model_module_version": "^0.13.2",
       "_view_module_version": "^0.13.2",
       "options": [
        "position",
        "prefix"
       ],
       "position": "bottomright",
       "prefix": "ipyleaflet"
      }
     },
     "6a73c329cc57400cad11cc2d6ed8a5f9": {
      "model_module": "jupyter-leaflet",
      "model_module_version": "^0.13.2",
      "model_name": "LeafletTileLayerModel",
      "state": {
       "_model_module_version": "^0.13.2",
       "_view_module_version": "^0.13.2",
       "attribution": "&copy; <a href=\"http://www.openstreetmap.org/copyright\">OpenStreetMap</a>",
       "base": true,
       "max_native_zoom": 18,
       "min_native_zoom": 0,
       "min_zoom": 1,
       "name": "OpenStreetMap.BlackAndWhite",
       "options": [
        "attribution",
        "detect_retina",
        "max_native_zoom",
        "max_zoom",
        "min_native_zoom",
        "min_zoom",
        "no_wrap",
        "tile_size",
        "tms"
       ],
       "url": "http://{s}.tiles.wmflabs.org/bw-mapnik/{z}/{x}/{y}.png"
      }
     },
     "7aa8dea30978433f88eb82519f6cb66a": {
      "model_module": "jupyter-leaflet",
      "model_module_version": "^0.13.2",
      "model_name": "LeafletMapStyleModel",
      "state": {
       "_model_module_version": "^0.13.2",
       "cursor": "move"
      }
     },
     "8981f3e7f1fd4c858009981c9f58b13c": {
      "model_module": "@jupyter-widgets/base",
      "model_module_version": "1.2.0",
      "model_name": "LayoutModel",
      "state": {}
     },
     "ab7fc80cbe384c68860f1bc5dce91ee6": {
      "model_module": "jupyter-leaflet",
      "model_module_version": "^0.13.2",
      "model_name": "LeafletMapModel",
      "state": {
       "_model_module_version": "^0.13.2",
       "_view_module_version": "^0.13.2",
       "center": [
        33,
        -116
       ],
       "controls": [
        "IPY_MODEL_030d6354977346ba94738f11a26adb6e",
        "IPY_MODEL_1e44087253224eb694b319ee1dd39a65"
       ],
       "default_style": "IPY_MODEL_da3a6b6e232847b6b293e5b33055d321",
       "dragging_style": "IPY_MODEL_7aa8dea30978433f88eb82519f6cb66a",
       "fullscreen": false,
       "interpolation": "bilinear",
       "layers": [
        "IPY_MODEL_6a73c329cc57400cad11cc2d6ed8a5f9"
       ],
       "layout": "IPY_MODEL_8981f3e7f1fd4c858009981c9f58b13c",
       "modisdate": "yesterday",
       "options": [
        "bounce_at_zoom_limits",
        "box_zoom",
        "center",
        "close_popup_on_click",
        "double_click_zoom",
        "dragging",
        "fullscreen",
        "inertia",
        "inertia_deceleration",
        "inertia_max_speed",
        "interpolation",
        "keyboard",
        "keyboard_pan_offset",
        "keyboard_zoom_offset",
        "max_zoom",
        "min_zoom",
        "scroll_wheel_zoom",
        "tap",
        "tap_tolerance",
        "touch_zoom",
        "world_copy_jump",
        "zoom",
        "zoom_animation_threshold",
        "zoom_delta",
        "zoom_snap",
        "zoom_start"
       ],
       "style": "IPY_MODEL_f28814c5b4264af087e05e5374967d1e",
       "window_url": "http://localhost:8888/lab",
       "zoom": 9
      }
     },
     "da3a6b6e232847b6b293e5b33055d321": {
      "model_module": "jupyter-leaflet",
      "model_module_version": "^0.13.2",
      "model_name": "LeafletMapStyleModel",
      "state": {
       "_model_module_version": "^0.13.2"
      }
     },
     "f28814c5b4264af087e05e5374967d1e": {
      "model_module": "jupyter-leaflet",
      "model_module_version": "^0.13.2",
      "model_name": "LeafletMapStyleModel",
      "state": {
       "_model_module_version": "^0.13.2"
      }
     }
    },
    "version_major": 2,
    "version_minor": 0
   }
  }
 },
 "nbformat": 4,
 "nbformat_minor": 4
}
